{
 "cells": [
  {
   "cell_type": "code",
   "execution_count": 1,
   "metadata": {},
   "outputs": [],
   "source": [
    "import pandas as pd\n",
    "import numpy as np"
   ]
  },
  {
   "cell_type": "code",
   "execution_count": 2,
   "metadata": {},
   "outputs": [
    {
     "data": {
      "text/html": [
       "<div>\n",
       "<style scoped>\n",
       "    .dataframe tbody tr th:only-of-type {\n",
       "        vertical-align: middle;\n",
       "    }\n",
       "\n",
       "    .dataframe tbody tr th {\n",
       "        vertical-align: top;\n",
       "    }\n",
       "\n",
       "    .dataframe thead th {\n",
       "        text-align: right;\n",
       "    }\n",
       "</style>\n",
       "<table border=\"1\" class=\"dataframe\">\n",
       "  <thead>\n",
       "    <tr style=\"text-align: right;\">\n",
       "      <th></th>\n",
       "      <th>valence</th>\n",
       "      <th>year</th>\n",
       "      <th>acousticness</th>\n",
       "      <th>artists</th>\n",
       "      <th>danceability</th>\n",
       "      <th>duration_ms</th>\n",
       "      <th>energy</th>\n",
       "      <th>explicit</th>\n",
       "      <th>id</th>\n",
       "      <th>instrumentalness</th>\n",
       "      <th>key</th>\n",
       "      <th>liveness</th>\n",
       "      <th>loudness</th>\n",
       "      <th>mode</th>\n",
       "      <th>name</th>\n",
       "      <th>popularity</th>\n",
       "      <th>speechiness</th>\n",
       "      <th>tempo</th>\n",
       "      <th>artists_song</th>\n",
       "    </tr>\n",
       "  </thead>\n",
       "  <tbody>\n",
       "    <tr>\n",
       "      <th>0</th>\n",
       "      <td>0.285</td>\n",
       "      <td>2000</td>\n",
       "      <td>0.00239</td>\n",
       "      <td>Coldplay</td>\n",
       "      <td>0.429</td>\n",
       "      <td>266773</td>\n",
       "      <td>0.661</td>\n",
       "      <td>0</td>\n",
       "      <td>3AJwUDP919kvQ9QcozQPxg</td>\n",
       "      <td>0.000121</td>\n",
       "      <td>11</td>\n",
       "      <td>0.234</td>\n",
       "      <td>-7.227</td>\n",
       "      <td>1</td>\n",
       "      <td>Yellow</td>\n",
       "      <td>84</td>\n",
       "      <td>0.0281</td>\n",
       "      <td>173.372</td>\n",
       "      <td>Coldplay - Yellow</td>\n",
       "    </tr>\n",
       "  </tbody>\n",
       "</table>\n",
       "</div>"
      ],
      "text/plain": [
       "   valence  year  acousticness   artists  danceability  duration_ms  energy  \\\n",
       "0    0.285  2000       0.00239  Coldplay         0.429       266773   0.661   \n",
       "\n",
       "   explicit                      id  instrumentalness  key  liveness  \\\n",
       "0         0  3AJwUDP919kvQ9QcozQPxg          0.000121   11     0.234   \n",
       "\n",
       "   loudness  mode    name  popularity  speechiness    tempo       artists_song  \n",
       "0    -7.227     1  Yellow          84       0.0281  173.372  Coldplay - Yellow  "
      ]
     },
     "execution_count": 2,
     "metadata": {},
     "output_type": "execute_result"
    }
   ],
   "source": [
    "dados_totais = pd.read_csv('Dados/Dados_totais.csv')\n",
    "dados_totais.head(1)"
   ]
  },
  {
   "cell_type": "code",
   "execution_count": 3,
   "metadata": {},
   "outputs": [
    {
     "data": {
      "text/html": [
       "<div>\n",
       "<style scoped>\n",
       "    .dataframe tbody tr th:only-of-type {\n",
       "        vertical-align: middle;\n",
       "    }\n",
       "\n",
       "    .dataframe tbody tr th {\n",
       "        vertical-align: top;\n",
       "    }\n",
       "\n",
       "    .dataframe thead th {\n",
       "        text-align: right;\n",
       "    }\n",
       "</style>\n",
       "<table border=\"1\" class=\"dataframe\">\n",
       "  <thead>\n",
       "    <tr style=\"text-align: right;\">\n",
       "      <th></th>\n",
       "      <th>valence</th>\n",
       "      <th>year</th>\n",
       "      <th>acousticness</th>\n",
       "      <th>artists</th>\n",
       "      <th>danceability</th>\n",
       "      <th>duration_ms</th>\n",
       "      <th>energy</th>\n",
       "      <th>id</th>\n",
       "      <th>instrumentalness</th>\n",
       "      <th>liveness</th>\n",
       "      <th>loudness</th>\n",
       "      <th>name</th>\n",
       "      <th>popularity</th>\n",
       "      <th>speechiness</th>\n",
       "      <th>tempo</th>\n",
       "      <th>artists_song</th>\n",
       "    </tr>\n",
       "  </thead>\n",
       "  <tbody>\n",
       "    <tr>\n",
       "      <th>0</th>\n",
       "      <td>0.285</td>\n",
       "      <td>2000</td>\n",
       "      <td>0.00239</td>\n",
       "      <td>Coldplay</td>\n",
       "      <td>0.429</td>\n",
       "      <td>266773</td>\n",
       "      <td>0.661</td>\n",
       "      <td>3AJwUDP919kvQ9QcozQPxg</td>\n",
       "      <td>0.000121</td>\n",
       "      <td>0.2340</td>\n",
       "      <td>-7.227</td>\n",
       "      <td>Yellow</td>\n",
       "      <td>84</td>\n",
       "      <td>0.0281</td>\n",
       "      <td>173.372</td>\n",
       "      <td>Coldplay - Yellow</td>\n",
       "    </tr>\n",
       "    <tr>\n",
       "      <th>1</th>\n",
       "      <td>0.613</td>\n",
       "      <td>2000</td>\n",
       "      <td>0.14300</td>\n",
       "      <td>OutKast</td>\n",
       "      <td>0.843</td>\n",
       "      <td>270507</td>\n",
       "      <td>0.806</td>\n",
       "      <td>0I3q5fE6wg7LIfHGngUTnV</td>\n",
       "      <td>0.000000</td>\n",
       "      <td>0.0771</td>\n",
       "      <td>-5.946</td>\n",
       "      <td>Ms. Jackson</td>\n",
       "      <td>80</td>\n",
       "      <td>0.2690</td>\n",
       "      <td>94.948</td>\n",
       "      <td>OutKast - Ms. Jackson</td>\n",
       "    </tr>\n",
       "  </tbody>\n",
       "</table>\n",
       "</div>"
      ],
      "text/plain": [
       "   valence  year  acousticness   artists  danceability  duration_ms  energy  \\\n",
       "0    0.285  2000       0.00239  Coldplay         0.429       266773   0.661   \n",
       "1    0.613  2000       0.14300   OutKast         0.843       270507   0.806   \n",
       "\n",
       "                       id  instrumentalness  liveness  loudness         name  \\\n",
       "0  3AJwUDP919kvQ9QcozQPxg          0.000121    0.2340    -7.227       Yellow   \n",
       "1  0I3q5fE6wg7LIfHGngUTnV          0.000000    0.0771    -5.946  Ms. Jackson   \n",
       "\n",
       "   popularity  speechiness    tempo           artists_song  \n",
       "0          84       0.0281  173.372      Coldplay - Yellow  \n",
       "1          80       0.2690   94.948  OutKast - Ms. Jackson  "
      ]
     },
     "execution_count": 3,
     "metadata": {},
     "output_type": "execute_result"
    }
   ],
   "source": [
    "dados_totais = dados_totais.drop(columns = ['explicit', 'mode', 'key'])\n",
    "dados_totais.head(2)"
   ]
  },
  {
   "cell_type": "code",
   "execution_count": 4,
   "metadata": {},
   "outputs": [
    {
     "data": {
      "text/html": [
       "<div>\n",
       "<style scoped>\n",
       "    .dataframe tbody tr th:only-of-type {\n",
       "        vertical-align: middle;\n",
       "    }\n",
       "\n",
       "    .dataframe tbody tr th {\n",
       "        vertical-align: top;\n",
       "    }\n",
       "\n",
       "    .dataframe thead th {\n",
       "        text-align: right;\n",
       "    }\n",
       "</style>\n",
       "<table border=\"1\" class=\"dataframe\">\n",
       "  <thead>\n",
       "    <tr style=\"text-align: right;\">\n",
       "      <th></th>\n",
       "      <th>mode</th>\n",
       "      <th>genres</th>\n",
       "      <th>acousticness</th>\n",
       "      <th>danceability</th>\n",
       "      <th>duration_ms</th>\n",
       "      <th>energy</th>\n",
       "      <th>instrumentalness</th>\n",
       "      <th>liveness</th>\n",
       "      <th>loudness</th>\n",
       "      <th>speechiness</th>\n",
       "      <th>tempo</th>\n",
       "      <th>valence</th>\n",
       "      <th>popularity</th>\n",
       "      <th>key</th>\n",
       "    </tr>\n",
       "  </thead>\n",
       "  <tbody>\n",
       "    <tr>\n",
       "      <th>0</th>\n",
       "      <td>1</td>\n",
       "      <td>21st century classical</td>\n",
       "      <td>0.979333</td>\n",
       "      <td>0.162883</td>\n",
       "      <td>1.602977e+05</td>\n",
       "      <td>0.071317</td>\n",
       "      <td>0.606834</td>\n",
       "      <td>0.3616</td>\n",
       "      <td>-31.514333</td>\n",
       "      <td>0.040567</td>\n",
       "      <td>75.336500</td>\n",
       "      <td>0.103783</td>\n",
       "      <td>27.833333</td>\n",
       "      <td>6</td>\n",
       "    </tr>\n",
       "    <tr>\n",
       "      <th>1</th>\n",
       "      <td>1</td>\n",
       "      <td>432hz</td>\n",
       "      <td>0.494780</td>\n",
       "      <td>0.299333</td>\n",
       "      <td>1.048887e+06</td>\n",
       "      <td>0.450678</td>\n",
       "      <td>0.477762</td>\n",
       "      <td>0.1310</td>\n",
       "      <td>-16.854000</td>\n",
       "      <td>0.076817</td>\n",
       "      <td>120.285667</td>\n",
       "      <td>0.221750</td>\n",
       "      <td>52.500000</td>\n",
       "      <td>5</td>\n",
       "    </tr>\n",
       "  </tbody>\n",
       "</table>\n",
       "</div>"
      ],
      "text/plain": [
       "   mode                  genres  acousticness  danceability   duration_ms  \\\n",
       "0     1  21st century classical      0.979333      0.162883  1.602977e+05   \n",
       "1     1                   432hz      0.494780      0.299333  1.048887e+06   \n",
       "\n",
       "     energy  instrumentalness  liveness   loudness  speechiness       tempo  \\\n",
       "0  0.071317          0.606834    0.3616 -31.514333     0.040567   75.336500   \n",
       "1  0.450678          0.477762    0.1310 -16.854000     0.076817  120.285667   \n",
       "\n",
       "    valence  popularity  key  \n",
       "0  0.103783   27.833333    6  \n",
       "1  0.221750   52.500000    5  "
      ]
     },
     "execution_count": 4,
     "metadata": {},
     "output_type": "execute_result"
    }
   ],
   "source": [
    "dados_genero = pd.read_csv('Dados/data_by_genres.csv')\n",
    "dados_genero.head(2)"
   ]
  },
  {
   "cell_type": "code",
   "execution_count": 5,
   "metadata": {},
   "outputs": [
    {
     "data": {
      "text/html": [
       "<div>\n",
       "<style scoped>\n",
       "    .dataframe tbody tr th:only-of-type {\n",
       "        vertical-align: middle;\n",
       "    }\n",
       "\n",
       "    .dataframe tbody tr th {\n",
       "        vertical-align: top;\n",
       "    }\n",
       "\n",
       "    .dataframe thead th {\n",
       "        text-align: right;\n",
       "    }\n",
       "</style>\n",
       "<table border=\"1\" class=\"dataframe\">\n",
       "  <thead>\n",
       "    <tr style=\"text-align: right;\">\n",
       "      <th></th>\n",
       "      <th>genres</th>\n",
       "      <th>acousticness</th>\n",
       "      <th>danceability</th>\n",
       "      <th>duration_ms</th>\n",
       "      <th>energy</th>\n",
       "      <th>instrumentalness</th>\n",
       "      <th>liveness</th>\n",
       "      <th>loudness</th>\n",
       "      <th>speechiness</th>\n",
       "      <th>tempo</th>\n",
       "      <th>valence</th>\n",
       "      <th>popularity</th>\n",
       "    </tr>\n",
       "  </thead>\n",
       "  <tbody>\n",
       "    <tr>\n",
       "      <th>0</th>\n",
       "      <td>21st century classical</td>\n",
       "      <td>0.979333</td>\n",
       "      <td>0.162883</td>\n",
       "      <td>1.602977e+05</td>\n",
       "      <td>0.071317</td>\n",
       "      <td>0.606834</td>\n",
       "      <td>0.3616</td>\n",
       "      <td>-31.514333</td>\n",
       "      <td>0.040567</td>\n",
       "      <td>75.336500</td>\n",
       "      <td>0.103783</td>\n",
       "      <td>27.833333</td>\n",
       "    </tr>\n",
       "    <tr>\n",
       "      <th>1</th>\n",
       "      <td>432hz</td>\n",
       "      <td>0.494780</td>\n",
       "      <td>0.299333</td>\n",
       "      <td>1.048887e+06</td>\n",
       "      <td>0.450678</td>\n",
       "      <td>0.477762</td>\n",
       "      <td>0.1310</td>\n",
       "      <td>-16.854000</td>\n",
       "      <td>0.076817</td>\n",
       "      <td>120.285667</td>\n",
       "      <td>0.221750</td>\n",
       "      <td>52.500000</td>\n",
       "    </tr>\n",
       "  </tbody>\n",
       "</table>\n",
       "</div>"
      ],
      "text/plain": [
       "                   genres  acousticness  danceability   duration_ms    energy  \\\n",
       "0  21st century classical      0.979333      0.162883  1.602977e+05  0.071317   \n",
       "1                   432hz      0.494780      0.299333  1.048887e+06  0.450678   \n",
       "\n",
       "   instrumentalness  liveness   loudness  speechiness       tempo   valence  \\\n",
       "0          0.606834    0.3616 -31.514333     0.040567   75.336500  0.103783   \n",
       "1          0.477762    0.1310 -16.854000     0.076817  120.285667  0.221750   \n",
       "\n",
       "   popularity  \n",
       "0   27.833333  \n",
       "1   52.500000  "
      ]
     },
     "execution_count": 5,
     "metadata": {},
     "output_type": "execute_result"
    }
   ],
   "source": [
    "dados_genero = dados_genero.drop(columns = ['mode', 'key'])\n",
    "dados_genero.head(2)"
   ]
  },
  {
   "cell_type": "code",
   "execution_count": 6,
   "metadata": {},
   "outputs": [
    {
     "data": {
      "text/html": [
       "<div>\n",
       "<style scoped>\n",
       "    .dataframe tbody tr th:only-of-type {\n",
       "        vertical-align: middle;\n",
       "    }\n",
       "\n",
       "    .dataframe tbody tr th {\n",
       "        vertical-align: top;\n",
       "    }\n",
       "\n",
       "    .dataframe thead th {\n",
       "        text-align: right;\n",
       "    }\n",
       "</style>\n",
       "<table border=\"1\" class=\"dataframe\">\n",
       "  <thead>\n",
       "    <tr style=\"text-align: right;\">\n",
       "      <th></th>\n",
       "      <th>mode</th>\n",
       "      <th>year</th>\n",
       "      <th>acousticness</th>\n",
       "      <th>danceability</th>\n",
       "      <th>duration_ms</th>\n",
       "      <th>energy</th>\n",
       "      <th>instrumentalness</th>\n",
       "      <th>liveness</th>\n",
       "      <th>loudness</th>\n",
       "      <th>speechiness</th>\n",
       "      <th>tempo</th>\n",
       "      <th>valence</th>\n",
       "      <th>popularity</th>\n",
       "      <th>key</th>\n",
       "    </tr>\n",
       "  </thead>\n",
       "  <tbody>\n",
       "    <tr>\n",
       "      <th>0</th>\n",
       "      <td>1</td>\n",
       "      <td>1921</td>\n",
       "      <td>0.886896</td>\n",
       "      <td>0.418597</td>\n",
       "      <td>260537.166667</td>\n",
       "      <td>0.231815</td>\n",
       "      <td>0.344878</td>\n",
       "      <td>0.20571</td>\n",
       "      <td>-17.048667</td>\n",
       "      <td>0.073662</td>\n",
       "      <td>101.531493</td>\n",
       "      <td>0.379327</td>\n",
       "      <td>0.653333</td>\n",
       "      <td>2</td>\n",
       "    </tr>\n",
       "    <tr>\n",
       "      <th>1</th>\n",
       "      <td>1</td>\n",
       "      <td>1922</td>\n",
       "      <td>0.938592</td>\n",
       "      <td>0.482042</td>\n",
       "      <td>165469.746479</td>\n",
       "      <td>0.237815</td>\n",
       "      <td>0.434195</td>\n",
       "      <td>0.24072</td>\n",
       "      <td>-19.275282</td>\n",
       "      <td>0.116655</td>\n",
       "      <td>100.884521</td>\n",
       "      <td>0.535549</td>\n",
       "      <td>0.140845</td>\n",
       "      <td>10</td>\n",
       "    </tr>\n",
       "  </tbody>\n",
       "</table>\n",
       "</div>"
      ],
      "text/plain": [
       "   mode  year  acousticness  danceability    duration_ms    energy  \\\n",
       "0     1  1921      0.886896      0.418597  260537.166667  0.231815   \n",
       "1     1  1922      0.938592      0.482042  165469.746479  0.237815   \n",
       "\n",
       "   instrumentalness  liveness   loudness  speechiness       tempo   valence  \\\n",
       "0          0.344878   0.20571 -17.048667     0.073662  101.531493  0.379327   \n",
       "1          0.434195   0.24072 -19.275282     0.116655  100.884521  0.535549   \n",
       "\n",
       "   popularity  key  \n",
       "0    0.653333    2  \n",
       "1    0.140845   10  "
      ]
     },
     "execution_count": 6,
     "metadata": {},
     "output_type": "execute_result"
    }
   ],
   "source": [
    "dados_ano = pd.read_csv('Dados/data_by_year.csv')\n",
    "dados_ano.head(2)"
   ]
  },
  {
   "cell_type": "code",
   "execution_count": 7,
   "metadata": {},
   "outputs": [
    {
     "data": {
      "text/html": [
       "<div>\n",
       "<style scoped>\n",
       "    .dataframe tbody tr th:only-of-type {\n",
       "        vertical-align: middle;\n",
       "    }\n",
       "\n",
       "    .dataframe tbody tr th {\n",
       "        vertical-align: top;\n",
       "    }\n",
       "\n",
       "    .dataframe thead th {\n",
       "        text-align: right;\n",
       "    }\n",
       "</style>\n",
       "<table border=\"1\" class=\"dataframe\">\n",
       "  <thead>\n",
       "    <tr style=\"text-align: right;\">\n",
       "      <th></th>\n",
       "      <th>year</th>\n",
       "      <th>acousticness</th>\n",
       "      <th>danceability</th>\n",
       "      <th>duration_ms</th>\n",
       "      <th>energy</th>\n",
       "      <th>instrumentalness</th>\n",
       "      <th>liveness</th>\n",
       "      <th>loudness</th>\n",
       "      <th>speechiness</th>\n",
       "      <th>tempo</th>\n",
       "      <th>valence</th>\n",
       "      <th>popularity</th>\n",
       "    </tr>\n",
       "  </thead>\n",
       "  <tbody>\n",
       "    <tr>\n",
       "      <th>0</th>\n",
       "      <td>1921</td>\n",
       "      <td>0.886896</td>\n",
       "      <td>0.418597</td>\n",
       "      <td>260537.166667</td>\n",
       "      <td>0.231815</td>\n",
       "      <td>0.344878</td>\n",
       "      <td>0.20571</td>\n",
       "      <td>-17.048667</td>\n",
       "      <td>0.073662</td>\n",
       "      <td>101.531493</td>\n",
       "      <td>0.379327</td>\n",
       "      <td>0.653333</td>\n",
       "    </tr>\n",
       "    <tr>\n",
       "      <th>1</th>\n",
       "      <td>1922</td>\n",
       "      <td>0.938592</td>\n",
       "      <td>0.482042</td>\n",
       "      <td>165469.746479</td>\n",
       "      <td>0.237815</td>\n",
       "      <td>0.434195</td>\n",
       "      <td>0.24072</td>\n",
       "      <td>-19.275282</td>\n",
       "      <td>0.116655</td>\n",
       "      <td>100.884521</td>\n",
       "      <td>0.535549</td>\n",
       "      <td>0.140845</td>\n",
       "    </tr>\n",
       "  </tbody>\n",
       "</table>\n",
       "</div>"
      ],
      "text/plain": [
       "   year  acousticness  danceability    duration_ms    energy  \\\n",
       "0  1921      0.886896      0.418597  260537.166667  0.231815   \n",
       "1  1922      0.938592      0.482042  165469.746479  0.237815   \n",
       "\n",
       "   instrumentalness  liveness   loudness  speechiness       tempo   valence  \\\n",
       "0          0.344878   0.20571 -17.048667     0.073662  101.531493  0.379327   \n",
       "1          0.434195   0.24072 -19.275282     0.116655  100.884521  0.535549   \n",
       "\n",
       "   popularity  \n",
       "0    0.653333  \n",
       "1    0.140845  "
      ]
     },
     "execution_count": 7,
     "metadata": {},
     "output_type": "execute_result"
    }
   ],
   "source": [
    "dados_ano = dados_ano.drop(columns = ['mode', 'key'])\n",
    "dados_ano.head(2)"
   ]
  },
  {
   "cell_type": "code",
   "execution_count": 8,
   "metadata": {},
   "outputs": [
    {
     "data": {
      "text/plain": [
       "array([2000, 2001, 2002, 2003, 2004, 2005, 2006, 2007, 2008, 2009, 2010,\n",
       "       2011, 2012, 2013, 2014, 2015, 2016, 2017, 2018, 2019, 2020],\n",
       "      dtype=int64)"
      ]
     },
     "execution_count": 8,
     "metadata": {},
     "output_type": "execute_result"
    }
   ],
   "source": [
    "dados_ano = dados_ano[dados_ano['year'] >= 2000]\n",
    "dados_ano['year'].unique()"
   ]
  },
  {
   "cell_type": "code",
   "execution_count": 9,
   "metadata": {},
   "outputs": [
    {
     "data": {
      "text/html": [
       "<div>\n",
       "<style scoped>\n",
       "    .dataframe tbody tr th:only-of-type {\n",
       "        vertical-align: middle;\n",
       "    }\n",
       "\n",
       "    .dataframe tbody tr th {\n",
       "        vertical-align: top;\n",
       "    }\n",
       "\n",
       "    .dataframe thead th {\n",
       "        text-align: right;\n",
       "    }\n",
       "</style>\n",
       "<table border=\"1\" class=\"dataframe\">\n",
       "  <thead>\n",
       "    <tr style=\"text-align: right;\">\n",
       "      <th></th>\n",
       "      <th>index</th>\n",
       "      <th>year</th>\n",
       "      <th>acousticness</th>\n",
       "      <th>danceability</th>\n",
       "      <th>duration_ms</th>\n",
       "      <th>energy</th>\n",
       "      <th>instrumentalness</th>\n",
       "      <th>liveness</th>\n",
       "      <th>loudness</th>\n",
       "      <th>speechiness</th>\n",
       "      <th>tempo</th>\n",
       "      <th>valence</th>\n",
       "      <th>popularity</th>\n",
       "    </tr>\n",
       "  </thead>\n",
       "  <tbody>\n",
       "    <tr>\n",
       "      <th>0</th>\n",
       "      <td>79</td>\n",
       "      <td>2000</td>\n",
       "      <td>0.289323</td>\n",
       "      <td>0.590918</td>\n",
       "      <td>242724.642638</td>\n",
       "      <td>0.625413</td>\n",
       "      <td>0.101168</td>\n",
       "      <td>0.197686</td>\n",
       "      <td>-8.247766</td>\n",
       "      <td>0.089205</td>\n",
       "      <td>118.999323</td>\n",
       "      <td>0.559475</td>\n",
       "      <td>46.684049</td>\n",
       "    </tr>\n",
       "    <tr>\n",
       "      <th>1</th>\n",
       "      <td>80</td>\n",
       "      <td>2001</td>\n",
       "      <td>0.286842</td>\n",
       "      <td>0.583318</td>\n",
       "      <td>240307.796010</td>\n",
       "      <td>0.626986</td>\n",
       "      <td>0.107214</td>\n",
       "      <td>0.187026</td>\n",
       "      <td>-8.305095</td>\n",
       "      <td>0.089182</td>\n",
       "      <td>117.765399</td>\n",
       "      <td>0.541479</td>\n",
       "      <td>48.750125</td>\n",
       "    </tr>\n",
       "  </tbody>\n",
       "</table>\n",
       "</div>"
      ],
      "text/plain": [
       "   index  year  acousticness  danceability    duration_ms    energy  \\\n",
       "0     79  2000      0.289323      0.590918  242724.642638  0.625413   \n",
       "1     80  2001      0.286842      0.583318  240307.796010  0.626986   \n",
       "\n",
       "   instrumentalness  liveness  loudness  speechiness       tempo   valence  \\\n",
       "0          0.101168  0.197686 -8.247766     0.089205  118.999323  0.559475   \n",
       "1          0.107214  0.187026 -8.305095     0.089182  117.765399  0.541479   \n",
       "\n",
       "   popularity  \n",
       "0   46.684049  \n",
       "1   48.750125  "
      ]
     },
     "execution_count": 9,
     "metadata": {},
     "output_type": "execute_result"
    }
   ],
   "source": [
    "dados_ano.reset_index(inplace=True)\n",
    "dados_ano.head(2)"
   ]
  },
  {
   "cell_type": "code",
   "execution_count": 10,
   "metadata": {},
   "outputs": [],
   "source": [
    "#ANÁLISE GRÁFICA"
   ]
  },
  {
   "cell_type": "code",
   "execution_count": 11,
   "metadata": {},
   "outputs": [],
   "source": [
    "import plotly.express as px"
   ]
  },
  {
   "cell_type": "code",
   "execution_count": 12,
   "metadata": {},
   "outputs": [
    {
     "data": {
      "application/vnd.plotly.v1+json": {
       "config": {
        "plotlyServerURL": "https://plot.ly"
       },
       "data": [
        {
         "hovertemplate": "year=%{x}<br>loudness=%{y}<extra></extra>",
         "legendgroup": "",
         "line": {
          "color": "#636efa",
          "dash": "solid"
         },
         "marker": {
          "symbol": "circle"
         },
         "mode": "lines+markers",
         "name": "",
         "orientation": "v",
         "showlegend": false,
         "type": "scatter",
         "x": [
          2000,
          2001,
          2002,
          2003,
          2004,
          2005,
          2006,
          2007,
          2008,
          2009,
          2010,
          2011,
          2012,
          2013,
          2014,
          2015,
          2016,
          2017,
          2018,
          2019,
          2020
         ],
         "xaxis": "x",
         "y": [
          -8.247765848670758,
          -8.305095261845384,
          -7.686639500000013,
          -7.485545035823955,
          -7.601655137334684,
          -7.46615897435897,
          -7.265500512820514,
          -7.044535897435892,
          -6.8438040920716166,
          -7.0460147959183645,
          -6.9099042658730125,
          -7.574986117997006,
          -7.260549614395888,
          -7.472039473684207,
          -7.06743990024938,
          -7.625639311043569,
          -8.061056204785759,
          -8.31262951807228,
          -7.168785068949124,
          -7.722191893278596,
          -6.595066995073878
         ],
         "yaxis": "y"
        }
       ],
       "layout": {
        "legend": {
         "tracegroupgap": 0
        },
        "template": {
         "data": {
          "bar": [
           {
            "error_x": {
             "color": "#2a3f5f"
            },
            "error_y": {
             "color": "#2a3f5f"
            },
            "marker": {
             "line": {
              "color": "#E5ECF6",
              "width": 0.5
             },
             "pattern": {
              "fillmode": "overlay",
              "size": 10,
              "solidity": 0.2
             }
            },
            "type": "bar"
           }
          ],
          "barpolar": [
           {
            "marker": {
             "line": {
              "color": "#E5ECF6",
              "width": 0.5
             },
             "pattern": {
              "fillmode": "overlay",
              "size": 10,
              "solidity": 0.2
             }
            },
            "type": "barpolar"
           }
          ],
          "carpet": [
           {
            "aaxis": {
             "endlinecolor": "#2a3f5f",
             "gridcolor": "white",
             "linecolor": "white",
             "minorgridcolor": "white",
             "startlinecolor": "#2a3f5f"
            },
            "baxis": {
             "endlinecolor": "#2a3f5f",
             "gridcolor": "white",
             "linecolor": "white",
             "minorgridcolor": "white",
             "startlinecolor": "#2a3f5f"
            },
            "type": "carpet"
           }
          ],
          "choropleth": [
           {
            "colorbar": {
             "outlinewidth": 0,
             "ticks": ""
            },
            "type": "choropleth"
           }
          ],
          "contour": [
           {
            "colorbar": {
             "outlinewidth": 0,
             "ticks": ""
            },
            "colorscale": [
             [
              0,
              "#0d0887"
             ],
             [
              0.1111111111111111,
              "#46039f"
             ],
             [
              0.2222222222222222,
              "#7201a8"
             ],
             [
              0.3333333333333333,
              "#9c179e"
             ],
             [
              0.4444444444444444,
              "#bd3786"
             ],
             [
              0.5555555555555556,
              "#d8576b"
             ],
             [
              0.6666666666666666,
              "#ed7953"
             ],
             [
              0.7777777777777778,
              "#fb9f3a"
             ],
             [
              0.8888888888888888,
              "#fdca26"
             ],
             [
              1,
              "#f0f921"
             ]
            ],
            "type": "contour"
           }
          ],
          "contourcarpet": [
           {
            "colorbar": {
             "outlinewidth": 0,
             "ticks": ""
            },
            "type": "contourcarpet"
           }
          ],
          "heatmap": [
           {
            "colorbar": {
             "outlinewidth": 0,
             "ticks": ""
            },
            "colorscale": [
             [
              0,
              "#0d0887"
             ],
             [
              0.1111111111111111,
              "#46039f"
             ],
             [
              0.2222222222222222,
              "#7201a8"
             ],
             [
              0.3333333333333333,
              "#9c179e"
             ],
             [
              0.4444444444444444,
              "#bd3786"
             ],
             [
              0.5555555555555556,
              "#d8576b"
             ],
             [
              0.6666666666666666,
              "#ed7953"
             ],
             [
              0.7777777777777778,
              "#fb9f3a"
             ],
             [
              0.8888888888888888,
              "#fdca26"
             ],
             [
              1,
              "#f0f921"
             ]
            ],
            "type": "heatmap"
           }
          ],
          "heatmapgl": [
           {
            "colorbar": {
             "outlinewidth": 0,
             "ticks": ""
            },
            "colorscale": [
             [
              0,
              "#0d0887"
             ],
             [
              0.1111111111111111,
              "#46039f"
             ],
             [
              0.2222222222222222,
              "#7201a8"
             ],
             [
              0.3333333333333333,
              "#9c179e"
             ],
             [
              0.4444444444444444,
              "#bd3786"
             ],
             [
              0.5555555555555556,
              "#d8576b"
             ],
             [
              0.6666666666666666,
              "#ed7953"
             ],
             [
              0.7777777777777778,
              "#fb9f3a"
             ],
             [
              0.8888888888888888,
              "#fdca26"
             ],
             [
              1,
              "#f0f921"
             ]
            ],
            "type": "heatmapgl"
           }
          ],
          "histogram": [
           {
            "marker": {
             "pattern": {
              "fillmode": "overlay",
              "size": 10,
              "solidity": 0.2
             }
            },
            "type": "histogram"
           }
          ],
          "histogram2d": [
           {
            "colorbar": {
             "outlinewidth": 0,
             "ticks": ""
            },
            "colorscale": [
             [
              0,
              "#0d0887"
             ],
             [
              0.1111111111111111,
              "#46039f"
             ],
             [
              0.2222222222222222,
              "#7201a8"
             ],
             [
              0.3333333333333333,
              "#9c179e"
             ],
             [
              0.4444444444444444,
              "#bd3786"
             ],
             [
              0.5555555555555556,
              "#d8576b"
             ],
             [
              0.6666666666666666,
              "#ed7953"
             ],
             [
              0.7777777777777778,
              "#fb9f3a"
             ],
             [
              0.8888888888888888,
              "#fdca26"
             ],
             [
              1,
              "#f0f921"
             ]
            ],
            "type": "histogram2d"
           }
          ],
          "histogram2dcontour": [
           {
            "colorbar": {
             "outlinewidth": 0,
             "ticks": ""
            },
            "colorscale": [
             [
              0,
              "#0d0887"
             ],
             [
              0.1111111111111111,
              "#46039f"
             ],
             [
              0.2222222222222222,
              "#7201a8"
             ],
             [
              0.3333333333333333,
              "#9c179e"
             ],
             [
              0.4444444444444444,
              "#bd3786"
             ],
             [
              0.5555555555555556,
              "#d8576b"
             ],
             [
              0.6666666666666666,
              "#ed7953"
             ],
             [
              0.7777777777777778,
              "#fb9f3a"
             ],
             [
              0.8888888888888888,
              "#fdca26"
             ],
             [
              1,
              "#f0f921"
             ]
            ],
            "type": "histogram2dcontour"
           }
          ],
          "mesh3d": [
           {
            "colorbar": {
             "outlinewidth": 0,
             "ticks": ""
            },
            "type": "mesh3d"
           }
          ],
          "parcoords": [
           {
            "line": {
             "colorbar": {
              "outlinewidth": 0,
              "ticks": ""
             }
            },
            "type": "parcoords"
           }
          ],
          "pie": [
           {
            "automargin": true,
            "type": "pie"
           }
          ],
          "scatter": [
           {
            "fillpattern": {
             "fillmode": "overlay",
             "size": 10,
             "solidity": 0.2
            },
            "type": "scatter"
           }
          ],
          "scatter3d": [
           {
            "line": {
             "colorbar": {
              "outlinewidth": 0,
              "ticks": ""
             }
            },
            "marker": {
             "colorbar": {
              "outlinewidth": 0,
              "ticks": ""
             }
            },
            "type": "scatter3d"
           }
          ],
          "scattercarpet": [
           {
            "marker": {
             "colorbar": {
              "outlinewidth": 0,
              "ticks": ""
             }
            },
            "type": "scattercarpet"
           }
          ],
          "scattergeo": [
           {
            "marker": {
             "colorbar": {
              "outlinewidth": 0,
              "ticks": ""
             }
            },
            "type": "scattergeo"
           }
          ],
          "scattergl": [
           {
            "marker": {
             "colorbar": {
              "outlinewidth": 0,
              "ticks": ""
             }
            },
            "type": "scattergl"
           }
          ],
          "scattermapbox": [
           {
            "marker": {
             "colorbar": {
              "outlinewidth": 0,
              "ticks": ""
             }
            },
            "type": "scattermapbox"
           }
          ],
          "scatterpolar": [
           {
            "marker": {
             "colorbar": {
              "outlinewidth": 0,
              "ticks": ""
             }
            },
            "type": "scatterpolar"
           }
          ],
          "scatterpolargl": [
           {
            "marker": {
             "colorbar": {
              "outlinewidth": 0,
              "ticks": ""
             }
            },
            "type": "scatterpolargl"
           }
          ],
          "scatterternary": [
           {
            "marker": {
             "colorbar": {
              "outlinewidth": 0,
              "ticks": ""
             }
            },
            "type": "scatterternary"
           }
          ],
          "surface": [
           {
            "colorbar": {
             "outlinewidth": 0,
             "ticks": ""
            },
            "colorscale": [
             [
              0,
              "#0d0887"
             ],
             [
              0.1111111111111111,
              "#46039f"
             ],
             [
              0.2222222222222222,
              "#7201a8"
             ],
             [
              0.3333333333333333,
              "#9c179e"
             ],
             [
              0.4444444444444444,
              "#bd3786"
             ],
             [
              0.5555555555555556,
              "#d8576b"
             ],
             [
              0.6666666666666666,
              "#ed7953"
             ],
             [
              0.7777777777777778,
              "#fb9f3a"
             ],
             [
              0.8888888888888888,
              "#fdca26"
             ],
             [
              1,
              "#f0f921"
             ]
            ],
            "type": "surface"
           }
          ],
          "table": [
           {
            "cells": {
             "fill": {
              "color": "#EBF0F8"
             },
             "line": {
              "color": "white"
             }
            },
            "header": {
             "fill": {
              "color": "#C8D4E3"
             },
             "line": {
              "color": "white"
             }
            },
            "type": "table"
           }
          ]
         },
         "layout": {
          "annotationdefaults": {
           "arrowcolor": "#2a3f5f",
           "arrowhead": 0,
           "arrowwidth": 1
          },
          "autotypenumbers": "strict",
          "coloraxis": {
           "colorbar": {
            "outlinewidth": 0,
            "ticks": ""
           }
          },
          "colorscale": {
           "diverging": [
            [
             0,
             "#8e0152"
            ],
            [
             0.1,
             "#c51b7d"
            ],
            [
             0.2,
             "#de77ae"
            ],
            [
             0.3,
             "#f1b6da"
            ],
            [
             0.4,
             "#fde0ef"
            ],
            [
             0.5,
             "#f7f7f7"
            ],
            [
             0.6,
             "#e6f5d0"
            ],
            [
             0.7,
             "#b8e186"
            ],
            [
             0.8,
             "#7fbc41"
            ],
            [
             0.9,
             "#4d9221"
            ],
            [
             1,
             "#276419"
            ]
           ],
           "sequential": [
            [
             0,
             "#0d0887"
            ],
            [
             0.1111111111111111,
             "#46039f"
            ],
            [
             0.2222222222222222,
             "#7201a8"
            ],
            [
             0.3333333333333333,
             "#9c179e"
            ],
            [
             0.4444444444444444,
             "#bd3786"
            ],
            [
             0.5555555555555556,
             "#d8576b"
            ],
            [
             0.6666666666666666,
             "#ed7953"
            ],
            [
             0.7777777777777778,
             "#fb9f3a"
            ],
            [
             0.8888888888888888,
             "#fdca26"
            ],
            [
             1,
             "#f0f921"
            ]
           ],
           "sequentialminus": [
            [
             0,
             "#0d0887"
            ],
            [
             0.1111111111111111,
             "#46039f"
            ],
            [
             0.2222222222222222,
             "#7201a8"
            ],
            [
             0.3333333333333333,
             "#9c179e"
            ],
            [
             0.4444444444444444,
             "#bd3786"
            ],
            [
             0.5555555555555556,
             "#d8576b"
            ],
            [
             0.6666666666666666,
             "#ed7953"
            ],
            [
             0.7777777777777778,
             "#fb9f3a"
            ],
            [
             0.8888888888888888,
             "#fdca26"
            ],
            [
             1,
             "#f0f921"
            ]
           ]
          },
          "colorway": [
           "#636efa",
           "#EF553B",
           "#00cc96",
           "#ab63fa",
           "#FFA15A",
           "#19d3f3",
           "#FF6692",
           "#B6E880",
           "#FF97FF",
           "#FECB52"
          ],
          "font": {
           "color": "#2a3f5f"
          },
          "geo": {
           "bgcolor": "white",
           "lakecolor": "white",
           "landcolor": "#E5ECF6",
           "showlakes": true,
           "showland": true,
           "subunitcolor": "white"
          },
          "hoverlabel": {
           "align": "left"
          },
          "hovermode": "closest",
          "mapbox": {
           "style": "light"
          },
          "paper_bgcolor": "white",
          "plot_bgcolor": "#E5ECF6",
          "polar": {
           "angularaxis": {
            "gridcolor": "white",
            "linecolor": "white",
            "ticks": ""
           },
           "bgcolor": "#E5ECF6",
           "radialaxis": {
            "gridcolor": "white",
            "linecolor": "white",
            "ticks": ""
           }
          },
          "scene": {
           "xaxis": {
            "backgroundcolor": "#E5ECF6",
            "gridcolor": "white",
            "gridwidth": 2,
            "linecolor": "white",
            "showbackground": true,
            "ticks": "",
            "zerolinecolor": "white"
           },
           "yaxis": {
            "backgroundcolor": "#E5ECF6",
            "gridcolor": "white",
            "gridwidth": 2,
            "linecolor": "white",
            "showbackground": true,
            "ticks": "",
            "zerolinecolor": "white"
           },
           "zaxis": {
            "backgroundcolor": "#E5ECF6",
            "gridcolor": "white",
            "gridwidth": 2,
            "linecolor": "white",
            "showbackground": true,
            "ticks": "",
            "zerolinecolor": "white"
           }
          },
          "shapedefaults": {
           "line": {
            "color": "#2a3f5f"
           }
          },
          "ternary": {
           "aaxis": {
            "gridcolor": "white",
            "linecolor": "white",
            "ticks": ""
           },
           "baxis": {
            "gridcolor": "white",
            "linecolor": "white",
            "ticks": ""
           },
           "bgcolor": "#E5ECF6",
           "caxis": {
            "gridcolor": "white",
            "linecolor": "white",
            "ticks": ""
           }
          },
          "title": {
           "x": 0.05
          },
          "xaxis": {
           "automargin": true,
           "gridcolor": "white",
           "linecolor": "white",
           "ticks": "",
           "title": {
            "standoff": 15
           },
           "zerolinecolor": "white",
           "zerolinewidth": 2
          },
          "yaxis": {
           "automargin": true,
           "gridcolor": "white",
           "linecolor": "white",
           "ticks": "",
           "title": {
            "standoff": 15
           },
           "zerolinecolor": "white",
           "zerolinewidth": 2
          }
         }
        },
        "title": {
         "text": "Variação do lodness conforme os anos"
        },
        "xaxis": {
         "anchor": "y",
         "domain": [
          0,
          1
         ],
         "title": {
          "text": "year"
         }
        },
        "yaxis": {
         "anchor": "x",
         "domain": [
          0,
          1
         ],
         "title": {
          "text": "loudness"
         }
        }
       }
      }
     },
     "metadata": {},
     "output_type": "display_data"
    }
   ],
   "source": [
    "fig = px.line(dados_ano, x = 'year', y='loudness', markers=True, title='Variação do lodness conforme os anos')\n",
    "fig.show()"
   ]
  },
  {
   "cell_type": "code",
   "execution_count": 13,
   "metadata": {},
   "outputs": [
    {
     "name": "stdout",
     "output_type": "stream",
     "text": [
      "<class 'pandas.core.frame.DataFrame'>\n",
      "RangeIndex: 2973 entries, 0 to 2972\n",
      "Data columns (total 12 columns):\n",
      " #   Column            Non-Null Count  Dtype  \n",
      "---  ------            --------------  -----  \n",
      " 0   genres            2973 non-null   object \n",
      " 1   acousticness      2973 non-null   float64\n",
      " 2   danceability      2973 non-null   float64\n",
      " 3   duration_ms       2973 non-null   float64\n",
      " 4   energy            2973 non-null   float64\n",
      " 5   instrumentalness  2973 non-null   float64\n",
      " 6   liveness          2973 non-null   float64\n",
      " 7   loudness          2973 non-null   float64\n",
      " 8   speechiness       2973 non-null   float64\n",
      " 9   tempo             2973 non-null   float64\n",
      " 10  valence           2973 non-null   float64\n",
      " 11  popularity        2973 non-null   float64\n",
      "dtypes: float64(11), object(1)\n",
      "memory usage: 278.8+ KB\n"
     ]
    }
   ],
   "source": [
    "#CLUSTERIZAÇÃO POR GENERO\n",
    "dados_genero.info()"
   ]
  },
  {
   "cell_type": "code",
   "execution_count": 14,
   "metadata": {},
   "outputs": [
    {
     "data": {
      "text/plain": [
       "2973"
      ]
     },
     "execution_count": 14,
     "metadata": {},
     "output_type": "execute_result"
    }
   ],
   "source": [
    "dados_genero[\"genres\"].value_counts().sum(0)"
   ]
  },
  {
   "cell_type": "code",
   "execution_count": 15,
   "metadata": {},
   "outputs": [
    {
     "data": {
      "text/html": [
       "<div>\n",
       "<style scoped>\n",
       "    .dataframe tbody tr th:only-of-type {\n",
       "        vertical-align: middle;\n",
       "    }\n",
       "\n",
       "    .dataframe tbody tr th {\n",
       "        vertical-align: top;\n",
       "    }\n",
       "\n",
       "    .dataframe thead th {\n",
       "        text-align: right;\n",
       "    }\n",
       "</style>\n",
       "<table border=\"1\" class=\"dataframe\">\n",
       "  <thead>\n",
       "    <tr style=\"text-align: right;\">\n",
       "      <th></th>\n",
       "      <th>acousticness</th>\n",
       "      <th>danceability</th>\n",
       "      <th>duration_ms</th>\n",
       "      <th>energy</th>\n",
       "      <th>instrumentalness</th>\n",
       "      <th>liveness</th>\n",
       "      <th>loudness</th>\n",
       "      <th>speechiness</th>\n",
       "      <th>tempo</th>\n",
       "      <th>valence</th>\n",
       "      <th>popularity</th>\n",
       "    </tr>\n",
       "  </thead>\n",
       "  <tbody>\n",
       "    <tr>\n",
       "      <th>0</th>\n",
       "      <td>0.979333</td>\n",
       "      <td>0.162883</td>\n",
       "      <td>1.602977e+05</td>\n",
       "      <td>0.071317</td>\n",
       "      <td>0.606834</td>\n",
       "      <td>0.3616</td>\n",
       "      <td>-31.514333</td>\n",
       "      <td>0.040567</td>\n",
       "      <td>75.336500</td>\n",
       "      <td>0.103783</td>\n",
       "      <td>27.833333</td>\n",
       "    </tr>\n",
       "    <tr>\n",
       "      <th>1</th>\n",
       "      <td>0.494780</td>\n",
       "      <td>0.299333</td>\n",
       "      <td>1.048887e+06</td>\n",
       "      <td>0.450678</td>\n",
       "      <td>0.477762</td>\n",
       "      <td>0.1310</td>\n",
       "      <td>-16.854000</td>\n",
       "      <td>0.076817</td>\n",
       "      <td>120.285667</td>\n",
       "      <td>0.221750</td>\n",
       "      <td>52.500000</td>\n",
       "    </tr>\n",
       "  </tbody>\n",
       "</table>\n",
       "</div>"
      ],
      "text/plain": [
       "   acousticness  danceability   duration_ms    energy  instrumentalness  \\\n",
       "0      0.979333      0.162883  1.602977e+05  0.071317          0.606834   \n",
       "1      0.494780      0.299333  1.048887e+06  0.450678          0.477762   \n",
       "\n",
       "   liveness   loudness  speechiness       tempo   valence  popularity  \n",
       "0    0.3616 -31.514333     0.040567   75.336500  0.103783   27.833333  \n",
       "1    0.1310 -16.854000     0.076817  120.285667  0.221750   52.500000  "
      ]
     },
     "execution_count": 15,
     "metadata": {},
     "output_type": "execute_result"
    }
   ],
   "source": [
    "dados_genero1 = dados_genero.drop(\"genres\", axis = 1)\n",
    "dados_genero1.head(2)"
   ]
  },
  {
   "cell_type": "code",
   "execution_count": 16,
   "metadata": {},
   "outputs": [],
   "source": [
    "from sklearn.pipeline import Pipeline\n",
    "from sklearn.preprocessing import StandardScaler\n",
    "from sklearn.decomposition import PCA"
   ]
  },
  {
   "cell_type": "code",
   "execution_count": 17,
   "metadata": {},
   "outputs": [
    {
     "data": {
      "text/html": [
       "<div>\n",
       "<style scoped>\n",
       "    .dataframe tbody tr th:only-of-type {\n",
       "        vertical-align: middle;\n",
       "    }\n",
       "\n",
       "    .dataframe tbody tr th {\n",
       "        vertical-align: top;\n",
       "    }\n",
       "\n",
       "    .dataframe thead th {\n",
       "        text-align: right;\n",
       "    }\n",
       "</style>\n",
       "<table border=\"1\" class=\"dataframe\">\n",
       "  <thead>\n",
       "    <tr style=\"text-align: right;\">\n",
       "      <th></th>\n",
       "      <th>x</th>\n",
       "      <th>y</th>\n",
       "    </tr>\n",
       "  </thead>\n",
       "  <tbody>\n",
       "    <tr>\n",
       "      <th>0</th>\n",
       "      <td>5.910268</td>\n",
       "      <td>-0.011146</td>\n",
       "    </tr>\n",
       "    <tr>\n",
       "      <th>1</th>\n",
       "      <td>2.787093</td>\n",
       "      <td>4.498483</td>\n",
       "    </tr>\n",
       "    <tr>\n",
       "      <th>2</th>\n",
       "      <td>-0.757538</td>\n",
       "      <td>-1.258495</td>\n",
       "    </tr>\n",
       "    <tr>\n",
       "      <th>3</th>\n",
       "      <td>1.020521</td>\n",
       "      <td>-0.931690</td>\n",
       "    </tr>\n",
       "    <tr>\n",
       "      <th>4</th>\n",
       "      <td>0.753911</td>\n",
       "      <td>-0.999861</td>\n",
       "    </tr>\n",
       "    <tr>\n",
       "      <th>...</th>\n",
       "      <td>...</td>\n",
       "      <td>...</td>\n",
       "    </tr>\n",
       "    <tr>\n",
       "      <th>2968</th>\n",
       "      <td>-0.475136</td>\n",
       "      <td>-0.017126</td>\n",
       "    </tr>\n",
       "    <tr>\n",
       "      <th>2969</th>\n",
       "      <td>-3.026756</td>\n",
       "      <td>-1.304983</td>\n",
       "    </tr>\n",
       "    <tr>\n",
       "      <th>2970</th>\n",
       "      <td>-0.832511</td>\n",
       "      <td>-1.089726</td>\n",
       "    </tr>\n",
       "    <tr>\n",
       "      <th>2971</th>\n",
       "      <td>1.774790</td>\n",
       "      <td>-3.695233</td>\n",
       "    </tr>\n",
       "    <tr>\n",
       "      <th>2972</th>\n",
       "      <td>-1.028069</td>\n",
       "      <td>-1.390709</td>\n",
       "    </tr>\n",
       "  </tbody>\n",
       "</table>\n",
       "<p>2973 rows × 2 columns</p>\n",
       "</div>"
      ],
      "text/plain": [
       "             x         y\n",
       "0     5.910268 -0.011146\n",
       "1     2.787093  4.498483\n",
       "2    -0.757538 -1.258495\n",
       "3     1.020521 -0.931690\n",
       "4     0.753911 -0.999861\n",
       "...        ...       ...\n",
       "2968 -0.475136 -0.017126\n",
       "2969 -3.026756 -1.304983\n",
       "2970 -0.832511 -1.089726\n",
       "2971  1.774790 -3.695233\n",
       "2972 -1.028069 -1.390709\n",
       "\n",
       "[2973 rows x 2 columns]"
      ]
     },
     "execution_count": 17,
     "metadata": {},
     "output_type": "execute_result"
    }
   ],
   "source": [
    "SEED = 1224\n",
    "np.random.seed(1224)\n",
    "\n",
    "pca_pipeline = Pipeline([('scaler', StandardScaler()), ('PCA', PCA(n_components=2, random_state=SEED))])\n",
    "     \n",
    "\n",
    "genre_embedding_pca = pca_pipeline.fit_transform(dados_genero1)\n",
    "projection = pd.DataFrame(columns=['x', 'y'], data=genre_embedding_pca)\n",
    "     \n",
    "\n",
    "projection"
   ]
  },
  {
   "cell_type": "code",
   "execution_count": 18,
   "metadata": {},
   "outputs": [
    {
     "name": "stdout",
     "output_type": "stream",
     "text": [
      "Initialization complete\n",
      "Iteration 0, inertia 4523.5678155437.\n",
      "Iteration 1, inertia 3668.985552156031.\n",
      "Iteration 2, inertia 3624.7309257118272.\n",
      "Iteration 3, inertia 3602.495813758822.\n",
      "Iteration 4, inertia 3588.060791240497.\n",
      "Iteration 5, inertia 3575.439570259311.\n",
      "Iteration 6, inertia 3566.3761311630265.\n",
      "Iteration 7, inertia 3562.5917284574994.\n",
      "Iteration 8, inertia 3560.3144677009395.\n",
      "Iteration 9, inertia 3558.8854951526546.\n",
      "Iteration 10, inertia 3558.002748934059.\n",
      "Iteration 11, inertia 3557.7295547755007.\n",
      "Converged at iteration 11: center shift 9.319981044865003e-05 within tolerance 0.0002709886847099652.\n",
      "Initialization complete\n",
      "Iteration 0, inertia 3650.516684764657.\n",
      "Iteration 1, inertia 3552.891536564822.\n",
      "Iteration 2, inertia 3528.9425421232304.\n",
      "Iteration 3, inertia 3518.8491320487183.\n",
      "Iteration 4, inertia 3512.6717916139814.\n",
      "Iteration 5, inertia 3509.174107824752.\n",
      "Iteration 6, inertia 3506.388333551383.\n",
      "Iteration 7, inertia 3505.0910743094146.\n",
      "Iteration 8, inertia 3504.646511738502.\n",
      "Converged at iteration 8: center shift 7.503519990461854e-05 within tolerance 0.0002709886847099652.\n",
      "Initialization complete\n",
      "Iteration 0, inertia 4414.321464862247.\n",
      "Iteration 1, inertia 4264.089604762608.\n",
      "Iteration 2, inertia 4086.2164718564077.\n",
      "Iteration 3, inertia 3913.5040021644604.\n",
      "Iteration 4, inertia 3808.4662476218186.\n",
      "Iteration 5, inertia 3745.6610597363883.\n",
      "Iteration 6, inertia 3695.2334705999006.\n",
      "Iteration 7, inertia 3657.9034106955496.\n",
      "Iteration 8, inertia 3632.643745814851.\n",
      "Iteration 9, inertia 3614.3881006065676.\n",
      "Iteration 10, inertia 3596.1084839860514.\n",
      "Iteration 11, inertia 3579.525044096403.\n",
      "Iteration 12, inertia 3568.0798454948836.\n",
      "Iteration 13, inertia 3560.7114931318465.\n",
      "Iteration 14, inertia 3555.678927842756.\n",
      "Iteration 15, inertia 3551.0457527019844.\n",
      "Iteration 16, inertia 3547.8151952209228.\n",
      "Iteration 17, inertia 3544.5858546588024.\n",
      "Iteration 18, inertia 3541.224901948927.\n",
      "Iteration 19, inertia 3537.220755314523.\n",
      "Iteration 20, inertia 3533.4811126828145.\n",
      "Iteration 21, inertia 3530.831391869201.\n",
      "Iteration 22, inertia 3528.2990382895014.\n",
      "Iteration 23, inertia 3525.9628488182125.\n",
      "Iteration 24, inertia 3523.3024936096967.\n",
      "Iteration 25, inertia 3521.237182684663.\n",
      "Iteration 26, inertia 3519.717696058841.\n",
      "Iteration 27, inertia 3518.2921892437703.\n",
      "Iteration 28, inertia 3517.6503461161346.\n",
      "Iteration 29, inertia 3517.291990899693.\n",
      "Iteration 30, inertia 3516.8130739026633.\n",
      "Iteration 31, inertia 3516.080736548997.\n",
      "Iteration 32, inertia 3515.663822195971.\n",
      "Converged at iteration 32: center shift 5.325555309193428e-05 within tolerance 0.0002709886847099652.\n",
      "Initialization complete\n",
      "Iteration 0, inertia 4454.784085215461.\n",
      "Iteration 1, inertia 3768.566040695704.\n",
      "Iteration 2, inertia 3646.079367169928.\n",
      "Iteration 3, inertia 3588.10525462655.\n",
      "Iteration 4, inertia 3563.817454593446.\n",
      "Iteration 5, inertia 3553.0609261815393.\n",
      "Iteration 6, inertia 3547.572109608479.\n",
      "Iteration 7, inertia 3544.586617139582.\n",
      "Iteration 8, inertia 3542.319966113147.\n",
      "Iteration 9, inertia 3541.4918298268044.\n",
      "Iteration 10, inertia 3541.1635525310285.\n",
      "Converged at iteration 10: center shift 0.00011361514233644058 within tolerance 0.0002709886847099652.\n",
      "Initialization complete\n",
      "Iteration 0, inertia 4292.0205754360495.\n",
      "Iteration 1, inertia 3675.2033628822487.\n",
      "Iteration 2, inertia 3600.2652059024604.\n",
      "Iteration 3, inertia 3567.104006679206.\n",
      "Iteration 4, inertia 3555.995499623263.\n",
      "Iteration 5, inertia 3551.7224371196507.\n",
      "Iteration 6, inertia 3549.4587985327644.\n",
      "Iteration 7, inertia 3547.681632427646.\n",
      "Iteration 8, inertia 3546.1409980568824.\n",
      "Iteration 9, inertia 3545.1814280412027.\n",
      "Iteration 10, inertia 3544.5660486552033.\n",
      "Converged at iteration 10: center shift 0.00021718608215507993 within tolerance 0.0002709886847099652.\n",
      "Initialization complete\n",
      "Iteration 0, inertia 5229.734133923968.\n",
      "Iteration 1, inertia 3901.9140754163486.\n",
      "Iteration 2, inertia 3684.138956110477.\n",
      "Iteration 3, inertia 3625.7642920482717.\n",
      "Iteration 4, inertia 3598.6788312808476.\n",
      "Iteration 5, inertia 3577.3463481397525.\n",
      "Iteration 6, inertia 3558.4703786807704.\n",
      "Iteration 7, inertia 3543.761390560823.\n",
      "Iteration 8, inertia 3531.75133448995.\n",
      "Iteration 9, inertia 3523.3922006839202.\n",
      "Iteration 10, inertia 3517.4587511672557.\n",
      "Iteration 11, inertia 3511.357774840689.\n",
      "Iteration 12, inertia 3507.907320236844.\n",
      "Iteration 13, inertia 3506.4491270909716.\n",
      "Iteration 14, inertia 3505.5305971670186.\n",
      "Iteration 15, inertia 3505.16829650993.\n",
      "Iteration 16, inertia 3504.8127932137136.\n",
      "Converged at iteration 16: center shift 0.0001597919151576639 within tolerance 0.0002709886847099652.\n",
      "Initialization complete\n",
      "Iteration 0, inertia 4258.464385644758.\n",
      "Iteration 1, inertia 3757.825912494686.\n",
      "Iteration 2, inertia 3651.058145403562.\n",
      "Iteration 3, inertia 3609.354504537892.\n",
      "Iteration 4, inertia 3585.893849803651.\n",
      "Iteration 5, inertia 3570.9418046622295.\n",
      "Iteration 6, inertia 3564.0376504007004.\n",
      "Iteration 7, inertia 3561.299526128392.\n",
      "Iteration 8, inertia 3559.8589251152152.\n",
      "Iteration 9, inertia 3558.954926115675.\n",
      "Iteration 10, inertia 3558.6446576486696.\n",
      "Iteration 11, inertia 3558.2505645806154.\n",
      "Converged at iteration 11: center shift 0.00017503536183741832 within tolerance 0.0002709886847099652.\n",
      "Initialization complete\n",
      "Iteration 0, inertia 4718.52613599967.\n",
      "Iteration 1, inertia 3758.1507091224803.\n",
      "Iteration 2, inertia 3624.922738585438.\n",
      "Iteration 3, inertia 3583.400450514352.\n",
      "Iteration 4, inertia 3564.525298278217.\n",
      "Iteration 5, inertia 3555.2726539991554.\n",
      "Iteration 6, inertia 3551.3232033549602.\n",
      "Iteration 7, inertia 3548.7773942853246.\n",
      "Iteration 8, inertia 3546.7064877067105.\n",
      "Iteration 9, inertia 3544.9408089123244.\n",
      "Iteration 10, inertia 3541.6029264340564.\n",
      "Iteration 11, inertia 3538.2954164325915.\n",
      "Iteration 12, inertia 3535.9986063113834.\n",
      "Iteration 13, inertia 3534.3664369979374.\n",
      "Iteration 14, inertia 3532.1532885577544.\n",
      "Iteration 15, inertia 3529.0219599372736.\n",
      "Iteration 16, inertia 3523.7411194979773.\n",
      "Iteration 17, inertia 3519.0747925846977.\n",
      "Iteration 18, inertia 3516.68108283015.\n",
      "Iteration 19, inertia 3515.6736954984513.\n",
      "Iteration 20, inertia 3514.1110599644703.\n",
      "Iteration 21, inertia 3511.926542778691.\n",
      "Iteration 22, inertia 3509.9239973639355.\n",
      "Iteration 23, inertia 3508.6659460439337.\n",
      "Iteration 24, inertia 3507.576714118873.\n",
      "Iteration 25, inertia 3506.3382872728225.\n",
      "Iteration 26, inertia 3505.313827224244.\n",
      "Iteration 27, inertia 3504.8047979287294.\n",
      "Iteration 28, inertia 3504.55243351603.\n",
      "Converged at iteration 28: center shift 0.00012946374322485294 within tolerance 0.0002709886847099652.\n",
      "Initialization complete\n",
      "Iteration 0, inertia 5726.817439830067.\n",
      "Iteration 1, inertia 4002.8186163760047.\n",
      "Iteration 2, inertia 3677.0228130303467.\n",
      "Iteration 3, inertia 3594.023594573502.\n",
      "Iteration 4, inertia 3568.0392461810425.\n",
      "Iteration 5, inertia 3559.404764239557.\n",
      "Iteration 6, inertia 3554.535649933395.\n",
      "Iteration 7, inertia 3550.9000086430497.\n",
      "Iteration 8, inertia 3547.9319773120396.\n",
      "Iteration 9, inertia 3546.18620646372.\n",
      "Iteration 10, inertia 3544.5930799012217.\n",
      "Iteration 11, inertia 3544.1573100085843.\n",
      "Iteration 12, inertia 3543.9417539989827.\n",
      "Converged at iteration 12: center shift 0.00010369698781414807 within tolerance 0.0002709886847099652.\n",
      "Initialization complete\n",
      "Iteration 0, inertia 4375.718400720187.\n",
      "Iteration 1, inertia 3663.3718697369413.\n",
      "Iteration 2, inertia 3584.8228907672774.\n",
      "Iteration 3, inertia 3560.5525771794514.\n",
      "Iteration 4, inertia 3552.653553654193.\n",
      "Iteration 5, inertia 3550.986332207141.\n",
      "Iteration 6, inertia 3548.8412998255167.\n",
      "Iteration 7, inertia 3546.343296544789.\n",
      "Iteration 8, inertia 3544.272114110871.\n",
      "Iteration 9, inertia 3541.0832411177016.\n",
      "Iteration 10, inertia 3538.70378625447.\n",
      "Iteration 11, inertia 3536.9610470989696.\n",
      "Iteration 12, inertia 3535.1468370885605.\n",
      "Iteration 13, inertia 3533.5433662533565.\n",
      "Iteration 14, inertia 3530.788244027071.\n",
      "Iteration 15, inertia 3527.1960244191687.\n",
      "Iteration 16, inertia 3522.541969152173.\n",
      "Iteration 17, inertia 3518.2447958096477.\n",
      "Iteration 18, inertia 3516.6343144695434.\n",
      "Iteration 19, inertia 3515.6221060844755.\n",
      "Iteration 20, inertia 3513.997398179626.\n",
      "Iteration 21, inertia 3511.188703670783.\n",
      "Iteration 22, inertia 3509.97825268789.\n",
      "Iteration 23, inertia 3508.792500367642.\n",
      "Iteration 24, inertia 3507.6587975550874.\n",
      "Iteration 25, inertia 3506.3651721284414.\n",
      "Iteration 26, inertia 3505.313827224244.\n",
      "Iteration 27, inertia 3504.804797928729.\n",
      "Iteration 28, inertia 3504.5524335160303.\n",
      "Converged at iteration 28: center shift 0.00012946374322485597 within tolerance 0.0002709886847099652.\n"
     ]
    },
    {
     "name": "stderr",
     "output_type": "stream",
     "text": [
      "C:\\Users\\lucas\\AppData\\Roaming\\Python\\Python310\\site-packages\\sklearn\\cluster\\_kmeans.py:870: FutureWarning:\n",
      "\n",
      "The default value of `n_init` will change from 10 to 'auto' in 1.4. Set the value of `n_init` explicitly to suppress the warning\n",
      "\n"
     ]
    }
   ],
   "source": [
    "\n",
    "from sklearn.cluster import KMeans\n",
    "     \n",
    "\n",
    "kmeans_pca = KMeans(n_clusters=5, verbose=True, random_state=SEED)\n",
    "\n",
    "kmeans_pca.fit(projection)\n",
    "\n",
    "dados_genero['cluster_pca'] = kmeans_pca.predict(projection)\n",
    "projection['cluster_pca'] = kmeans_pca.predict(projection)"
   ]
  },
  {
   "cell_type": "code",
   "execution_count": 19,
   "metadata": {},
   "outputs": [
    {
     "data": {
      "text/html": [
       "<div>\n",
       "<style scoped>\n",
       "    .dataframe tbody tr th:only-of-type {\n",
       "        vertical-align: middle;\n",
       "    }\n",
       "\n",
       "    .dataframe tbody tr th {\n",
       "        vertical-align: top;\n",
       "    }\n",
       "\n",
       "    .dataframe thead th {\n",
       "        text-align: right;\n",
       "    }\n",
       "</style>\n",
       "<table border=\"1\" class=\"dataframe\">\n",
       "  <thead>\n",
       "    <tr style=\"text-align: right;\">\n",
       "      <th></th>\n",
       "      <th>x</th>\n",
       "      <th>y</th>\n",
       "      <th>cluster_pca</th>\n",
       "      <th>generos</th>\n",
       "    </tr>\n",
       "  </thead>\n",
       "  <tbody>\n",
       "    <tr>\n",
       "      <th>0</th>\n",
       "      <td>5.910268</td>\n",
       "      <td>-0.011146</td>\n",
       "      <td>3</td>\n",
       "      <td>21st century classical</td>\n",
       "    </tr>\n",
       "    <tr>\n",
       "      <th>1</th>\n",
       "      <td>2.787093</td>\n",
       "      <td>4.498483</td>\n",
       "      <td>3</td>\n",
       "      <td>432hz</td>\n",
       "    </tr>\n",
       "    <tr>\n",
       "      <th>2</th>\n",
       "      <td>-0.757538</td>\n",
       "      <td>-1.258495</td>\n",
       "      <td>4</td>\n",
       "      <td>8-bit</td>\n",
       "    </tr>\n",
       "    <tr>\n",
       "      <th>3</th>\n",
       "      <td>1.020521</td>\n",
       "      <td>-0.931690</td>\n",
       "      <td>1</td>\n",
       "      <td>[]</td>\n",
       "    </tr>\n",
       "    <tr>\n",
       "      <th>4</th>\n",
       "      <td>0.753911</td>\n",
       "      <td>-0.999861</td>\n",
       "      <td>1</td>\n",
       "      <td>a cappella</td>\n",
       "    </tr>\n",
       "    <tr>\n",
       "      <th>...</th>\n",
       "      <td>...</td>\n",
       "      <td>...</td>\n",
       "      <td>...</td>\n",
       "      <td>...</td>\n",
       "    </tr>\n",
       "    <tr>\n",
       "      <th>2968</th>\n",
       "      <td>-0.475136</td>\n",
       "      <td>-0.017126</td>\n",
       "      <td>2</td>\n",
       "      <td>zolo</td>\n",
       "    </tr>\n",
       "    <tr>\n",
       "      <th>2969</th>\n",
       "      <td>-3.026756</td>\n",
       "      <td>-1.304983</td>\n",
       "      <td>4</td>\n",
       "      <td>zouglou</td>\n",
       "    </tr>\n",
       "    <tr>\n",
       "      <th>2970</th>\n",
       "      <td>-0.832511</td>\n",
       "      <td>-1.089726</td>\n",
       "      <td>4</td>\n",
       "      <td>zouk</td>\n",
       "    </tr>\n",
       "    <tr>\n",
       "      <th>2971</th>\n",
       "      <td>1.774790</td>\n",
       "      <td>-3.695233</td>\n",
       "      <td>1</td>\n",
       "      <td>zurich indie</td>\n",
       "    </tr>\n",
       "    <tr>\n",
       "      <th>2972</th>\n",
       "      <td>-1.028069</td>\n",
       "      <td>-1.390709</td>\n",
       "      <td>4</td>\n",
       "      <td>zydeco</td>\n",
       "    </tr>\n",
       "  </tbody>\n",
       "</table>\n",
       "<p>2973 rows × 4 columns</p>\n",
       "</div>"
      ],
      "text/plain": [
       "             x         y  cluster_pca                 generos\n",
       "0     5.910268 -0.011146            3  21st century classical\n",
       "1     2.787093  4.498483            3                   432hz\n",
       "2    -0.757538 -1.258495            4                   8-bit\n",
       "3     1.020521 -0.931690            1                      []\n",
       "4     0.753911 -0.999861            1              a cappella\n",
       "...        ...       ...          ...                     ...\n",
       "2968 -0.475136 -0.017126            2                    zolo\n",
       "2969 -3.026756 -1.304983            4                 zouglou\n",
       "2970 -0.832511 -1.089726            4                    zouk\n",
       "2971  1.774790 -3.695233            1            zurich indie\n",
       "2972 -1.028069 -1.390709            4                  zydeco\n",
       "\n",
       "[2973 rows x 4 columns]"
      ]
     },
     "execution_count": 19,
     "metadata": {},
     "output_type": "execute_result"
    }
   ],
   "source": [
    "projection['generos'] = dados_genero['genres']\n",
    "    \n",
    "projection"
   ]
  },
  {
   "cell_type": "code",
   "execution_count": 20,
   "metadata": {},
   "outputs": [
    {
     "data": {
      "application/vnd.plotly.v1+json": {
       "config": {
        "plotlyServerURL": "https://plot.ly"
       },
       "data": [
        {
         "customdata": [
          [
           "21st century classical"
          ],
          [
           "432hz"
          ],
          [
           "8-bit"
          ],
          [
           "[]"
          ],
          [
           "a cappella"
          ],
          [
           "abstract"
          ],
          [
           "abstract beats"
          ],
          [
           "abstract hip hop"
          ],
          [
           "accordeon"
          ],
          [
           "accordion"
          ],
          [
           "acid house"
          ],
          [
           "acid rock"
          ],
          [
           "acid trance"
          ],
          [
           "acousmatic"
          ],
          [
           "acoustic blues"
          ],
          [
           "acoustic pop"
          ],
          [
           "acoustic punk"
          ],
          [
           "acoustic rock"
          ],
          [
           "action rock"
          ],
          [
           "adoracion"
          ],
          [
           "adult standards"
          ],
          [
           "adventista"
          ],
          [
           "afghan pop"
          ],
          [
           "afghan traditional"
          ],
          [
           "african percussion"
          ],
          [
           "african reggae"
          ],
          [
           "african rock"
          ],
          [
           "african-american classical"
          ],
          [
           "afro dancehall"
          ],
          [
           "afro house"
          ],
          [
           "afro psych"
          ],
          [
           "afro soul"
          ],
          [
           "afro-funk"
          ],
          [
           "afrobeat"
          ],
          [
           "afrofuturism"
          ],
          [
           "afrofuturismo brasileiro"
          ],
          [
           "afropop"
          ],
          [
           "afroswing"
          ],
          [
           "aggrotech"
          ],
          [
           "alabama indie"
          ],
          [
           "alabama metal"
          ],
          [
           "alabama rap"
          ],
          [
           "alaska indie"
          ],
          [
           "albanian pop"
          ],
          [
           "albany ny indie"
          ],
          [
           "alberta country"
          ],
          [
           "alberta hip hop"
          ],
          [
           "album rock"
          ],
          [
           "albuquerque indie"
          ],
          [
           "alt-idol"
          ],
          [
           "alte"
          ],
          [
           "alternative americana"
          ],
          [
           "alternative country"
          ],
          [
           "alternative dance"
          ],
          [
           "alternative emo"
          ],
          [
           "alternative hip hop"
          ],
          [
           "alternative metal"
          ],
          [
           "alternative pop"
          ],
          [
           "alternative pop rock"
          ],
          [
           "alternative r&b"
          ],
          [
           "alternative rock"
          ],
          [
           "alternative roots rock"
          ],
          [
           "ambeat"
          ],
          [
           "ambient"
          ],
          [
           "ambient black metal"
          ],
          [
           "ambient folk"
          ],
          [
           "ambient house"
          ],
          [
           "ambient idm"
          ],
          [
           "ambient industrial"
          ],
          [
           "ambient pop"
          ],
          [
           "ambient techno"
          ],
          [
           "ambient worship"
          ],
          [
           "american 21st century classical"
          ],
          [
           "american choir"
          ],
          [
           "american classical piano"
          ],
          [
           "american contemporary classical"
          ],
          [
           "american early music"
          ],
          [
           "american folk revival"
          ],
          [
           "american metalcore"
          ],
          [
           "american modern classical"
          ],
          [
           "american oi"
          ],
          [
           "american orchestra"
          ],
          [
           "american post-rock"
          ],
          [
           "american primitive"
          ],
          [
           "american romanticism"
          ],
          [
           "american shoegaze"
          ],
          [
           "anadolu rock"
          ],
          [
           "anarcho-punk"
          ],
          [
           "anglican liturgy"
          ],
          [
           "animal singing"
          ],
          [
           "anime"
          ],
          [
           "anime latino"
          ],
          [
           "anime rock"
          ],
          [
           "anime score"
          ],
          [
           "ann arbor indie"
          ],
          [
           "anthem emo"
          ],
          [
           "anthem worship"
          ],
          [
           "anti-folk"
          ],
          [
           "antilliaanse folklore"
          ],
          [
           "antiviral pop"
          ],
          [
           "appalachian folk"
          ],
          [
           "arab folk"
          ],
          [
           "arab groove"
          ],
          [
           "arab pop"
          ],
          [
           "arabesk"
          ],
          [
           "arabic hip hop"
          ],
          [
           "arabic jazz"
          ],
          [
           "argentine ambient"
          ],
          [
           "argentine hardcore"
          ],
          [
           "argentine heavy metal"
          ],
          [
           "argentine hip hop"
          ],
          [
           "argentine indie"
          ],
          [
           "argentine metal"
          ],
          [
           "argentine punk"
          ],
          [
           "argentine reggae"
          ],
          [
           "argentine rock"
          ],
          [
           "argentine telepop"
          ],
          [
           "arizona punk"
          ],
          [
           "arkansas country"
          ],
          [
           "arkansas hip hop"
          ],
          [
           "arkansas indie"
          ],
          [
           "armenian folk"
          ],
          [
           "art pop"
          ],
          [
           "art punk"
          ],
          [
           "art rock"
          ],
          [
           "art song"
          ],
          [
           "asbury park indie"
          ],
          [
           "asheville indie"
          ],
          [
           "asian american hip hop"
          ],
          [
           "asmr"
          ],
          [
           "athens indie"
          ],
          [
           "atl hip hop"
          ],
          [
           "atl trap"
          ],
          [
           "atlanta indie"
          ],
          [
           "atlanta metal"
          ],
          [
           "atlanta punk"
          ],
          [
           "atmosphere"
          ],
          [
           "atmospheric black metal"
          ],
          [
           "atmospheric dnb"
          ],
          [
           "atmospheric post-metal"
          ],
          [
           "atmospheric post-rock"
          ],
          [
           "atmospheric sludge"
          ],
          [
           "auckland indie"
          ],
          [
           "audiophile vocal"
          ],
          [
           "aussietronica"
          ],
          [
           "austin americana"
          ],
          [
           "austin singer-songwriter"
          ],
          [
           "austindie"
          ],
          [
           "australian alternative pop"
          ],
          [
           "australian alternative rock"
          ],
          [
           "australian ambient"
          ],
          [
           "australian children's music"
          ],
          [
           "australian choir"
          ],
          [
           "australian classical"
          ],
          [
           "australian classical piano"
          ],
          [
           "australian country"
          ],
          [
           "australian dance"
          ],
          [
           "australian electropop"
          ],
          [
           "australian garage punk"
          ],
          [
           "australian hip hop"
          ],
          [
           "australian house"
          ],
          [
           "australian indie"
          ],
          [
           "australian indie folk"
          ],
          [
           "australian indie rock"
          ],
          [
           "australian indigenous"
          ],
          [
           "australian metal"
          ],
          [
           "australian metalcore"
          ],
          [
           "australian pop"
          ],
          [
           "australian post-hardcore"
          ],
          [
           "australian post-punk"
          ],
          [
           "australian psych"
          ],
          [
           "australian r&b"
          ],
          [
           "australian reggae fusion"
          ],
          [
           "australian rock"
          ],
          [
           "australian singer-songwriter"
          ],
          [
           "australian ska"
          ],
          [
           "australian talent show"
          ],
          [
           "australian trap"
          ],
          [
           "australian underground hip hop"
          ],
          [
           "austrian choir"
          ],
          [
           "austrian classical piano"
          ],
          [
           "austrian orchestra"
          ],
          [
           "austrian pop"
          ],
          [
           "austro-german modernism"
          ],
          [
           "austropop"
          ],
          [
           "autoharp"
          ],
          [
           "autonomous black metal"
          ],
          [
           "avant-garde"
          ],
          [
           "avant-garde jazz"
          ],
          [
           "avant-garde metal"
          ],
          [
           "axe"
          ],
          [
           "azeri traditional"
          ],
          [
           "azonto"
          ],
          [
           "azontobeats"
          ],
          [
           "bachata"
          ],
          [
           "bachata dominicana"
          ],
          [
           "background music"
          ],
          [
           "background piano"
          ],
          [
           "baglama"
          ],
          [
           "bahai"
          ],
          [
           "bahamian folk"
          ],
          [
           "bahamian pop"
          ],
          [
           "baiao"
          ],
          [
           "bajki"
          ],
          [
           "bakersfield sound"
          ],
          [
           "balearic"
          ],
          [
           "balkan brass"
          ],
          [
           "balkan classical piano"
          ],
          [
           "ballet class"
          ],
          [
           "ballroom"
          ],
          [
           "baltic classical"
          ],
          [
           "baltimore hip hop"
          ],
          [
           "baltimore indie"
          ],
          [
           "banda"
          ],
          [
           "banda caliente"
          ],
          [
           "banda carnavalera"
          ],
          [
           "bandinhas"
          ],
          [
           "bandolim"
          ],
          [
           "bandoneon"
          ],
          [
           "bangla"
          ],
          [
           "banjo"
          ],
          [
           "bansuri"
          ],
          [
           "barbadian pop"
          ],
          [
           "barbershop"
          ],
          [
           "bard"
          ],
          [
           "barnmusik"
          ],
          [
           "barockinterpreten"
          ],
          [
           "baroque"
          ],
          [
           "baroque brass"
          ],
          [
           "baroque ensemble"
          ],
          [
           "baroque pop"
          ],
          [
           "baroque singing"
          ],
          [
           "baroque violin"
          ],
          [
           "baroque woodwind"
          ],
          [
           "bass house"
          ],
          [
           "bass music"
          ],
          [
           "bass trap"
          ],
          [
           "basshall"
          ],
          [
           "bassline"
          ],
          [
           "bath indie"
          ],
          [
           "baton rouge indie"
          ],
          [
           "baton rouge rap"
          ],
          [
           "battle rap"
          ],
          [
           "bay area hip hop"
          ],
          [
           "bay area indie"
          ],
          [
           "bboy"
          ],
          [
           "bc underground hip hop"
          ],
          [
           "beach music"
          ],
          [
           "beat italiano"
          ],
          [
           "beat poetry"
          ],
          [
           "beatboxing"
          ],
          [
           "beatlesque"
          ],
          [
           "bebop"
          ],
          [
           "bedroom pop"
          ],
          [
           "bedroom soul"
          ],
          [
           "belarusian indie"
          ],
          [
           "belarusian pop"
          ],
          [
           "belarusian rock"
          ],
          [
           "belgian classical piano"
          ],
          [
           "belgian contemporary classical"
          ],
          [
           "belgian dance"
          ],
          [
           "belgian edm"
          ],
          [
           "belgian hardcore"
          ],
          [
           "belgian indie"
          ],
          [
           "belgian indie rock"
          ],
          [
           "belgian jazz"
          ],
          [
           "belgian new wave"
          ],
          [
           "belgian pop"
          ],
          [
           "belgian rock"
          ],
          [
           "belgian singer-songwriter"
          ],
          [
           "belgian techno"
          ],
          [
           "belly dance"
          ],
          [
           "bengali folk"
          ],
          [
           "beninese pop"
          ],
          [
           "bergen indie"
          ],
          [
           "berlin minimal techno"
          ],
          [
           "berlin school"
          ],
          [
           "bhajan"
          ],
          [
           "bhangra"
          ],
          [
           "bible"
          ],
          [
           "big band"
          ],
          [
           "big beat"
          ],
          [
           "big room"
          ],
          [
           "binaural"
          ],
          [
           "birdsong"
          ],
          [
           "birmingham grime"
          ],
          [
           "birmingham hip hop"
          ],
          [
           "birmingham metal"
          ],
          [
           "bitpop"
          ],
          [
           "black 'n' roll"
          ],
          [
           "black comedy"
          ],
          [
           "black metal"
          ],
          [
           "black punk"
          ],
          [
           "black thrash"
          ],
          [
           "blackened crust"
          ],
          [
           "blackgaze"
          ],
          [
           "bleep techno"
          ],
          [
           "bluegrass"
          ],
          [
           "bluegrass fiddle"
          ],
          [
           "bluegrass gospel"
          ],
          [
           "blues"
          ],
          [
           "blues latinoamericano"
          ],
          [
           "blues mexicano"
          ],
          [
           "blues rock"
          ],
          [
           "bmore"
          ],
          [
           "bolero"
          ],
          [
           "bolero cubano"
          ],
          [
           "boogaloo"
          ],
          [
           "boogie"
          ],
          [
           "boogie-woogie"
          ],
          [
           "boom bap"
          ],
          [
           "boom bap brasileiro"
          ],
          [
           "bossa nova"
          ],
          [
           "bossa nova jazz"
          ],
          [
           "boston folk"
          ],
          [
           "boston hardcore"
          ],
          [
           "boston hip hop"
          ],
          [
           "boston indie"
          ],
          [
           "boston metal"
          ],
          [
           "boston punk"
          ],
          [
           "boston rock"
          ],
          [
           "bounce"
          ],
          [
           "bouncy house"
          ],
          [
           "bouzouki"
          ],
          [
           "bow pop"
          ],
          [
           "boy band"
          ],
          [
           "boy pop"
          ],
          [
           "boy soprano"
          ],
          [
           "brain waves"
          ],
          [
           "braindance"
          ],
          [
           "brass band"
          ],
          [
           "brass ensemble"
          ],
          [
           "brass quintet"
          ],
          [
           "brazilian boogie"
          ],
          [
           "brazilian classical"
          ],
          [
           "brazilian classical piano"
          ],
          [
           "brazilian contemporary classical"
          ],
          [
           "brazilian edm"
          ],
          [
           "brazilian groove metal"
          ],
          [
           "brazilian hip hop"
          ],
          [
           "brazilian indie"
          ],
          [
           "brazilian jazz"
          ],
          [
           "brazilian metal"
          ],
          [
           "brazilian modern jazz"
          ],
          [
           "brazilian percussion"
          ],
          [
           "brazilian punk"
          ],
          [
           "brazilian reggae"
          ],
          [
           "brazilian rock"
          ],
          [
           "brazilian ska"
          ],
          [
           "brazilian soul"
          ],
          [
           "brazilian thrash metal"
          ],
          [
           "breakbeat"
          ],
          [
           "breakcore"
          ],
          [
           "brega"
          ],
          [
           "breton folk"
          ],
          [
           "brighton indie"
          ],
          [
           "brill building pop"
          ],
          [
           "brisbane indie"
          ],
          [
           "bristol electronic"
          ],
          [
           "bristol indie"
          ],
          [
           "brit funk"
          ],
          [
           "british alternative rock"
          ],
          [
           "british black metal"
          ],
          [
           "british blues"
          ],
          [
           "british children's music"
          ],
          [
           "british choir"
          ],
          [
           "british classical piano"
          ],
          [
           "british comedy"
          ],
          [
           "british contemporary classical"
          ],
          [
           "british dance band"
          ],
          [
           "british death metal"
          ],
          [
           "british experimental"
          ],
          [
           "british folk"
          ],
          [
           "british grindcore"
          ],
          [
           "british indie rock"
          ],
          [
           "british industrial"
          ],
          [
           "british invasion"
          ],
          [
           "british jazz"
          ],
          [
           "british modern classical"
          ],
          [
           "british orchestra"
          ],
          [
           "british post-rock"
          ],
          [
           "british power metal"
          ],
          [
           "british singer-songwriter"
          ],
          [
           "british soul"
          ],
          [
           "british soundtrack"
          ],
          [
           "britpop"
          ],
          [
           "broadway"
          ],
          [
           "broken beat"
          ],
          [
           "bronx hip hop"
          ],
          [
           "brooklyn drill"
          ],
          [
           "brooklyn indie"
          ],
          [
           "brostep"
          ],
          [
           "brutal death metal"
          ],
          [
           "brutal deathcore"
          ],
          [
           "bubble trance"
          ],
          [
           "bubblegrunge"
          ],
          [
           "bubblegum dance"
          ],
          [
           "bubblegum pop"
          ],
          [
           "buffalo hip hop"
          ],
          [
           "buffalo ny indie"
          ],
          [
           "buffalo ny metal"
          ],
          [
           "bulgarian experimental"
          ],
          [
           "burmese traditional"
          ],
          [
           "bush ballad"
          ],
          [
           "c-pop"
          ],
          [
           "c86"
          ],
          [
           "cabaret"
          ],
          [
           "cajun"
          ],
          [
           "calgary indie"
          ],
          [
           "cali rap"
          ],
          [
           "calming instrumental"
          ],
          [
           "calypso"
          ],
          [
           "cambodian rock"
          ],
          [
           "cambridge choir"
          ],
          [
           "cambridgeshire indie"
          ],
          [
           "cameroonian pop"
          ],
          [
           "canadian americana"
          ],
          [
           "canadian blues"
          ],
          [
           "canadian ccm"
          ],
          [
           "canadian celtic"
          ],
          [
           "canadian children's music"
          ],
          [
           "canadian choir"
          ],
          [
           "canadian classical"
          ],
          [
           "canadian classical piano"
          ],
          [
           "canadian comedy"
          ],
          [
           "canadian contemporary country"
          ],
          [
           "canadian contemporary r&b"
          ],
          [
           "canadian country"
          ],
          [
           "canadian electronic"
          ],
          [
           "canadian electropop"
          ],
          [
           "canadian experimental"
          ],
          [
           "canadian folk"
          ],
          [
           "canadian hardcore"
          ],
          [
           "canadian hip hop"
          ],
          [
           "canadian house"
          ],
          [
           "canadian indie"
          ],
          [
           "canadian indie folk"
          ],
          [
           "canadian indigenous"
          ],
          [
           "canadian indigenous hip hop"
          ],
          [
           "canadian latin"
          ],
          [
           "canadian metal"
          ],
          [
           "canadian metalcore"
          ],
          [
           "canadian modern jazz"
          ],
          [
           "canadian pop"
          ],
          [
           "canadian pop punk"
          ],
          [
           "canadian post-hardcore"
          ],
          [
           "canadian post-rock"
          ],
          [
           "canadian psychedelic"
          ],
          [
           "canadian punk"
          ],
          [
           "canadian rock"
          ],
          [
           "canadian rockabilly"
          ],
          [
           "canadian singer-songwriter"
          ],
          [
           "canadian soundtrack"
          ],
          [
           "cancion melodica"
          ],
          [
           "candy pop"
          ],
          [
           "cantautor"
          ],
          [
           "cante flamenco"
          ],
          [
           "canterbury scene"
          ],
          [
           "canto popular uruguayo"
          ],
          [
           "cantopop"
          ],
          [
           "canzone d'autore"
          ],
          [
           "canzone genovese"
          ],
          [
           "canzone napoletana"
          ],
          [
           "cape town indie"
          ],
          [
           "cape verdean folk"
          ],
          [
           "capoeira"
          ],
          [
           "caracas indie"
          ],
          [
           "carnatic"
          ],
          [
           "carnatic instrumental"
          ],
          [
           "carnatic vocal"
          ],
          [
           "cartoon"
          ],
          [
           "cathedral choir"
          ],
          [
           "caucasian classical"
          ],
          [
           "caucasian classical piano"
          ],
          [
           "ccm"
          ],
          [
           "cedm"
          ],
          [
           "cello"
          ],
          [
           "celtic"
          ],
          [
           "celtic harp"
          ],
          [
           "celtic metal"
          ],
          [
           "celtic punk"
          ],
          [
           "celtic rock"
          ],
          [
           "cha-cha-cha"
          ],
          [
           "chakra"
          ],
          [
           "chamame"
          ],
          [
           "chamber choir"
          ],
          [
           "chamber ensemble"
          ],
          [
           "chamber folk"
          ],
          [
           "chamber orchestra"
          ],
          [
           "chamber pop"
          ],
          [
           "chamber psych"
          ],
          [
           "champeta"
          ],
          [
           "channel islands indie"
          ],
          [
           "channel pop"
          ],
          [
           "chanson"
          ],
          [
           "chanson paillarde"
          ],
          [
           "chaotic hardcore"
          ],
          [
           "charanga"
          ],
          [
           "charango"
          ],
          [
           "charlotte nc indie"
          ],
          [
           "charlottesville indie"
          ],
          [
           "chattanooga indie"
          ],
          [
           "chicago blues"
          ],
          [
           "chicago drill"
          ],
          [
           "chicago hardcore"
          ],
          [
           "chicago house"
          ],
          [
           "chicago indie"
          ],
          [
           "chicago pop punk"
          ],
          [
           "chicago punk"
          ],
          [
           "chicago rap"
          ],
          [
           "chicago soul"
          ],
          [
           "chicano punk"
          ],
          [
           "chicano rap"
          ],
          [
           "chicha"
          ],
          [
           "chihuahua indie"
          ],
          [
           "children's choir"
          ],
          [
           "children's folk"
          ],
          [
           "children's music"
          ],
          [
           "children's story"
          ],
          [
           "chilean hardcore"
          ],
          [
           "chilean indie"
          ],
          [
           "chilean rock"
          ],
          [
           "chilena"
          ],
          [
           "chill beats"
          ],
          [
           "chill guitar"
          ],
          [
           "chill lounge"
          ],
          [
           "chill out"
          ],
          [
           "chill pop"
          ],
          [
           "chill r&b"
          ],
          [
           "chillhop"
          ],
          [
           "chillstep"
          ],
          [
           "chillwave"
          ],
          [
           "chinese audiophile"
          ],
          [
           "chinese classical"
          ],
          [
           "chinese classical performance"
          ],
          [
           "chinese classical piano"
          ],
          [
           "chinese electropop"
          ],
          [
           "chinese hip hop"
          ],
          [
           "chinese idol pop"
          ],
          [
           "chinese indie"
          ],
          [
           "chinese indie rock"
          ],
          [
           "chinese instrumental"
          ],
          [
           "chinese jazz"
          ],
          [
           "chinese r&b"
          ],
          [
           "chinese soundtrack"
          ],
          [
           "chinese traditional"
          ],
          [
           "chiptune"
          ],
          [
           "chopped and screwed"
          ],
          [
           "choral"
          ],
          [
           "choro"
          ],
          [
           "christchurch indie"
          ],
          [
           "christelijk"
          ],
          [
           "christian a cappella"
          ],
          [
           "christian alternative rock"
          ],
          [
           "christian dance"
          ],
          [
           "christian hard rock"
          ],
          [
           "christian hardcore"
          ],
          [
           "christian hip hop"
          ],
          [
           "christian indie"
          ],
          [
           "christian metal"
          ],
          [
           "christian metalcore"
          ],
          [
           "christian music"
          ],
          [
           "christian pop"
          ],
          [
           "christian power metal"
          ],
          [
           "christian punk"
          ],
          [
           "christian relaxative"
          ],
          [
           "christian rock"
          ],
          [
           "christian trap"
          ],
          [
           "christian uplift"
          ],
          [
           "christmas instrumental"
          ],
          [
           "christmas product"
          ],
          [
           "chunchaca"
          ],
          [
           "chutney"
          ],
          [
           "cincinnati rap"
          ],
          [
           "cinematic post-rock"
          ],
          [
           "circuit"
          ],
          [
           "circus"
          ],
          [
           "classic afrobeat"
          ],
          [
           "classic arab pop"
          ],
          [
           "classic australian country"
          ],
          [
           "classic belgian pop"
          ],
          [
           "classic bhangra"
          ],
          [
           "classic bollywood"
          ],
          [
           "classic canadian rock"
          ],
          [
           "classic cantopop"
          ],
          [
           "classic colombian pop"
          ],
          [
           "classic country pop"
          ],
          [
           "classic czech pop"
          ],
          [
           "classic danish pop"
          ],
          [
           "classic dubstep"
          ],
          [
           "classic eurovision"
          ],
          [
           "classic finnish pop"
          ],
          [
           "classic french pop"
          ],
          [
           "classic garage rock"
          ],
          [
           "classic girl group"
          ],
          [
           "classic greek pop"
          ],
          [
           "classic hardstyle"
          ],
          [
           "classic icelandic pop"
          ],
          [
           "classic indo pop"
          ],
          [
           "classic iskelma"
          ],
          [
           "classic israeli pop"
          ],
          [
           "classic italian folk pop"
          ],
          [
           "classic italian pop"
          ],
          [
           "classic j-rock"
          ],
          [
           "classic japanese jazz"
          ],
          [
           "classic korean pop"
          ],
          [
           "classic latvian pop"
          ],
          [
           "classic mandopop"
          ],
          [
           "classic norwegian pop"
          ],
          [
           "classic opm"
          ],
          [
           "classic pakistani pop"
          ],
          [
           "classic persian pop"
          ],
          [
           "classic peruvian pop"
          ],
          [
           "classic polish pop"
          ],
          [
           "classic praise"
          ],
          [
           "classic psychedelic rock"
          ],
          [
           "classic punjabi pop"
          ],
          [
           "classic rock"
          ],
          [
           "classic russian pop"
          ],
          [
           "classic russian rock"
          ],
          [
           "classic schlager"
          ],
          [
           "classic soul"
          ],
          [
           "classic soundtrack"
          ],
          [
           "classic swedish pop"
          ],
          [
           "classic thai pop"
          ],
          [
           "classic tunisian pop"
          ],
          [
           "classic turkish pop"
          ],
          [
           "classic uk pop"
          ],
          [
           "classic venezuelan pop"
          ],
          [
           "classical"
          ],
          [
           "classical accordion"
          ],
          [
           "classical baritone"
          ],
          [
           "classical bass"
          ],
          [
           "classical cello"
          ],
          [
           "classical clarinet"
          ],
          [
           "classical contralto"
          ],
          [
           "classical countertenor"
          ],
          [
           "classical era"
          ],
          [
           "classical flute"
          ],
          [
           "classical guitar"
          ],
          [
           "classical harp"
          ],
          [
           "classical horn"
          ],
          [
           "classical mandolin"
          ],
          [
           "classical mezzo-soprano"
          ],
          [
           "classical oboe"
          ],
          [
           "classical organ"
          ],
          [
           "classical performance"
          ],
          [
           "classical piano"
          ],
          [
           "classical piano duo"
          ],
          [
           "classical piano trio"
          ],
          [
           "classical saxophone"
          ],
          [
           "classical soprano"
          ],
          [
           "classical tenor"
          ],
          [
           "classical trumpet"
          ],
          [
           "classify"
          ],
          [
           "clawhammer banjo"
          ],
          [
           "clean comedy"
          ],
          [
           "cleveland metal"
          ],
          [
           "coco"
          ],
          [
           "collage pop"
          ],
          [
           "college a cappella"
          ],
          [
           "colombian hip hop"
          ],
          [
           "colombian pop"
          ],
          [
           "colombian rock"
          ],
          [
           "columbus ohio indie"
          ],
          [
           "comedy"
          ],
          [
           "comedy rap"
          ],
          [
           "comedy rock"
          ],
          [
           "comic"
          ],
          [
           "comic metal"
          ],
          [
           "commons"
          ],
          [
           "complextro"
          ],
          [
           "compositional ambient"
          ],
          [
           "concepcion indie"
          ],
          [
           "concert band"
          ],
          [
           "connecticut hardcore"
          ],
          [
           "connecticut indie"
          ],
          [
           "conscious hip hop"
          ],
          [
           "contemporary choir"
          ],
          [
           "contemporary classical"
          ],
          [
           "contemporary classical piano"
          ],
          [
           "contemporary country"
          ],
          [
           "contemporary folk"
          ],
          [
           "contemporary gospel"
          ],
          [
           "contemporary jazz"
          ],
          [
           "contemporary post-bop"
          ],
          [
           "contemporary vocal jazz"
          ],
          [
           "contrabass"
          ],
          [
           "cool jazz"
          ],
          [
           "copla"
          ],
          [
           "cornish folk"
          ],
          [
           "cornwall indie"
          ],
          [
           "corrido"
          ],
          [
           "corridos cristianos"
          ],
          [
           "corridos tumbados"
          ],
          [
           "corrosion"
          ],
          [
           "cosmic american"
          ],
          [
           "cosmic post-rock"
          ],
          [
           "country"
          ],
          [
           "country blues"
          ],
          [
           "country boogie"
          ],
          [
           "country dawn"
          ],
          [
           "country gospel"
          ],
          [
           "country pop"
          ],
          [
           "country rap"
          ],
          [
           "country road"
          ],
          [
           "country rock"
          ],
          [
           "coverchill"
          ],
          [
           "cowboy western"
          ],
          [
           "cowpunk"
          ],
          [
           "crack rock steady"
          ],
          [
           "croatian folk"
          ],
          [
           "croatian pop"
          ],
          [
           "croatian rock"
          ],
          [
           "crossover thrash"
          ],
          [
           "crunk"
          ],
          [
           "crust punk"
          ],
          [
           "cuarteto"
          ],
          [
           "cuatro venezolano"
          ],
          [
           "cuban alternative"
          ],
          [
           "cuban rumba"
          ],
          [
           "cubaton"
          ],
          [
           "cumbia"
          ],
          [
           "cumbia andina mexicana"
          ],
          [
           "cumbia chilena"
          ],
          [
           "cumbia colombiana regia"
          ],
          [
           "cumbia ecuatoriana"
          ],
          [
           "cumbia funk"
          ],
          [
           "cumbia lagunera"
          ],
          [
           "cumbia paraguaya"
          ],
          [
           "cumbia peruana"
          ],
          [
           "cumbia pop"
          ],
          [
           "cumbia ranchera"
          ],
          [
           "cumbia salvadorena"
          ],
          [
           "cumbia santafesina"
          ],
          [
           "cumbia sonidera"
          ],
          [
           "cumbia villera"
          ],
          [
           "cyberpunk"
          ],
          [
           "cymraeg"
          ],
          [
           "cypriot pop"
          ],
          [
           "czech classical"
          ],
          [
           "czech classical piano"
          ],
          [
           "czech contemporary classical"
          ],
          [
           "d-beat"
          ],
          [
           "dabke"
          ],
          [
           "dakke dak"
          ],
          [
           "dallas indie"
          ],
          [
           "dance pop"
          ],
          [
           "dance rock"
          ],
          [
           "dance-punk"
          ],
          [
           "dancehall"
          ],
          [
           "dangdut"
          ],
          [
           "danish alternative rock"
          ],
          [
           "danish classical"
          ],
          [
           "danish electronic"
          ],
          [
           "danish electropop"
          ],
          [
           "danish hip hop"
          ],
          [
           "danish jazz"
          ],
          [
           "danish metal"
          ],
          [
           "danish pop"
          ],
          [
           "danish pop rock"
          ],
          [
           "danish post-punk"
          ],
          [
           "danish punk"
          ],
          [
           "danish rock"
          ],
          [
           "danish singer-songwriter"
          ],
          [
           "dansband"
          ],
          [
           "danseband"
          ],
          [
           "dansktop"
          ],
          [
           "danspunk"
          ],
          [
           "dark cabaret"
          ],
          [
           "dark clubbing"
          ],
          [
           "dark disco"
          ],
          [
           "dark hardcore"
          ],
          [
           "dark jazz"
          ],
          [
           "dark minimal techno"
          ],
          [
           "dark post-punk"
          ],
          [
           "dark techno"
          ],
          [
           "dark trap"
          ],
          [
           "dark wave"
          ],
          [
           "darksynth"
          ],
          [
           "dayton indie"
          ],
          [
           "dc hardcore"
          ],
          [
           "dc indie"
          ],
          [
           "death 'n' roll"
          ],
          [
           "death metal"
          ],
          [
           "deathcore"
          ],
          [
           "deathgrass"
          ],
          [
           "deathgrind"
          ],
          [
           "deathrash"
          ],
          [
           "deathrock"
          ],
          [
           "deathstep"
          ],
          [
           "deep acoustic pop"
          ],
          [
           "deep adult standards"
          ],
          [
           "deep big room"
          ],
          [
           "deep ccm"
          ],
          [
           "deep christian rock"
          ],
          [
           "deep classic garage rock"
          ],
          [
           "deep comedy"
          ],
          [
           "deep contemporary country"
          ],
          [
           "deep dance pop"
          ],
          [
           "deep delta blues"
          ],
          [
           "deep disco"
          ],
          [
           "deep disco house"
          ],
          [
           "deep dnb"
          ],
          [
           "deep east coast hip hop"
          ],
          [
           "deep euro house"
          ],
          [
           "deep flow"
          ],
          [
           "deep free jazz"
          ],
          [
           "deep freestyle"
          ],
          [
           "deep full on"
          ],
          [
           "deep funk"
          ],
          [
           "deep g funk"
          ],
          [
           "deep gothic post-punk"
          ],
          [
           "deep groove house"
          ],
          [
           "deep house"
          ],
          [
           "deep idm"
          ],
          [
           "deep indian pop"
          ],
          [
           "deep indie singer-songwriter"
          ],
          [
           "deep latin alternative"
          ],
          [
           "deep latin christian"
          ],
          [
           "deep melodic metalcore"
          ],
          [
           "deep minimal techno"
          ],
          [
           "deep motown"
          ],
          [
           "deep new americana"
          ],
          [
           "deep new wave"
          ],
          [
           "deep norteno"
          ],
          [
           "deep northern soul"
          ],
          [
           "deep pop edm"
          ],
          [
           "deep progressive house"
          ],
          [
           "deep psychobilly"
          ],
          [
           "deep punk rock"
          ],
          [
           "deep r&b"
          ],
          [
           "deep ragga"
          ],
          [
           "deep regional mexican"
          ],
          [
           "deep smooth jazz"
          ],
          [
           "deep soft rock"
          ],
          [
           "deep soul house"
          ],
          [
           "deep soundtrack"
          ],
          [
           "deep southern soul"
          ],
          [
           "deep southern trap"
          ],
          [
           "deep space rock"
          ],
          [
           "deep talent show"
          ],
          [
           "deep tech house"
          ],
          [
           "deep techno"
          ],
          [
           "deep tropical house"
          ],
          [
           "deep underground hip hop"
          ],
          [
           "deep uplifting trance"
          ],
          [
           "delta blues"
          ],
          [
           "dembow"
          ],
          [
           "denpa-kei"
          ],
          [
           "denton tx indie"
          ],
          [
           "denver indie"
          ],
          [
           "depressive black metal"
          ],
          [
           "derby indie"
          ],
          [
           "desert blues"
          ],
          [
           "desi hip hop"
          ],
          [
           "desi pop"
          ],
          [
           "destroy techno"
          ],
          [
           "detroit hip hop"
          ],
          [
           "detroit house"
          ],
          [
           "detroit techno"
          ],
          [
           "detroit trap"
          ],
          [
           "detske pisnicky"
          ],
          [
           "detskie pesni"
          ],
          [
           "devon indie"
          ],
          [
           "dfw rap"
          ],
          [
           "dhrupad"
          ],
          [
           "digital hardcore"
          ],
          [
           "dinner jazz"
          ],
          [
           "dirty south rap"
          ],
          [
           "dirty texas rap"
          ],
          [
           "disco"
          ],
          [
           "disco house"
          ],
          [
           "disney"
          ],
          [
           "diva house"
          ],
          [
           "dixieland"
          ],
          [
           "diy emo"
          ],
          [
           "djent"
          ],
          [
           "dmv rap"
          ],
          [
           "dominican pop"
          ],
          [
           "dong-yo"
          ],
          [
           "doo-wop"
          ],
          [
           "doom metal"
          ],
          [
           "double drumming"
          ],
          [
           "downtempo"
          ],
          [
           "drama"
          ],
          [
           "dream pop"
          ],
          [
           "dream trance"
          ],
          [
           "dreamgaze"
          ],
          [
           "dreamo"
          ],
          [
           "drift"
          ],
          [
           "drill"
          ],
          [
           "drill and bass"
          ],
          [
           "drone"
          ],
          [
           "drone folk"
          ],
          [
           "drone metal"
          ],
          [
           "drum and bass"
          ],
          [
           "dub"
          ],
          [
           "dub metal"
          ],
          [
           "dub poetry"
          ],
          [
           "dub techno"
          ],
          [
           "dubstep"
          ],
          [
           "dubsteppe"
          ],
          [
           "duduk"
          ],
          [
           "duluth indie"
          ],
          [
           "dunedin indie"
          ],
          [
           "dunedin sound"
          ],
          [
           "dungeon synth"
          ],
          [
           "duranguense"
          ],
          [
           "dusseldorf electronic"
          ],
          [
           "dutch blues"
          ],
          [
           "dutch cabaret"
          ],
          [
           "dutch classical piano"
          ],
          [
           "dutch death metal"
          ],
          [
           "dutch dnb"
          ],
          [
           "dutch edm"
          ],
          [
           "dutch folk"
          ],
          [
           "dutch hip hop"
          ],
          [
           "dutch house"
          ],
          [
           "dutch indie"
          ],
          [
           "dutch jazz"
          ],
          [
           "dutch metal"
          ],
          [
           "dutch pop"
          ],
          [
           "dutch prog"
          ],
          [
           "dutch rap pop"
          ],
          [
           "dutch rock"
          ],
          [
           "dutch trance"
          ],
          [
           "e6fi"
          ],
          [
           "early american folk"
          ],
          [
           "early avant garde"
          ],
          [
           "early modern classical"
          ],
          [
           "early music"
          ],
          [
           "early music choir"
          ],
          [
           "early music ensemble"
          ],
          [
           "early reggae"
          ],
          [
           "early romantic era"
          ],
          [
           "early synthpop"
          ],
          [
           "early us punk"
          ],
          [
           "east coast hip hop"
          ],
          [
           "east coast reggae"
          ],
          [
           "eastern bloc groove"
          ],
          [
           "easy listening"
          ],
          [
           "easycore"
          ],
          [
           "eau claire indie"
          ],
          [
           "ebm"
          ],
          [
           "ecm-style jazz"
          ],
          [
           "ectofolk"
          ],
          [
           "ecuadorian pop"
          ],
          [
           "edm"
          ],
          [
           "edmonton indie"
          ],
          [
           "egyptian pop"
          ],
          [
           "egyptian traditional"
          ],
          [
           "el paso indie"
          ],
          [
           "electra"
          ],
          [
           "electric bass"
          ],
          [
           "electric blues"
          ],
          [
           "electro"
          ],
          [
           "electro house"
          ],
          [
           "electro jazz"
          ],
          [
           "electro latino"
          ],
          [
           "electro swing"
          ],
          [
           "electro-industrial"
          ],
          [
           "electro-pop francais"
          ],
          [
           "electroclash"
          ],
          [
           "electrofox"
          ],
          [
           "electronic djent"
          ],
          [
           "electronic rock"
          ],
          [
           "electronic trap"
          ],
          [
           "electronica"
          ],
          [
           "electronica argentina"
          ],
          [
           "electropop"
          ],
          [
           "electropowerpop"
          ],
          [
           "emo"
          ],
          [
           "emo mexicano"
          ],
          [
           "emo punk"
          ],
          [
           "emo rap"
          ],
          [
           "emocore"
          ],
          [
           "english baroque"
          ],
          [
           "english indie rock"
          ],
          [
           "english renaissance"
          ],
          [
           "enka"
          ],
          [
           "entehno"
          ],
          [
           "environmental"
          ],
          [
           "epic doom"
          ],
          [
           "epicore"
          ],
          [
           "erhu"
          ],
          [
           "escape room"
          ],
          [
           "esperanto"
          ],
          [
           "essex indie"
          ],
          [
           "estonian hip hop"
          ],
          [
           "estonian pop"
          ],
          [
           "ethereal wave"
          ],
          [
           "etherpop"
          ],
          [
           "ethio-jazz"
          ],
          [
           "ethiopian pop"
          ],
          [
           "ethnomusicology"
          ],
          [
           "ethnotronica"
          ],
          [
           "eugene indie"
          ],
          [
           "euphoric hardstyle"
          ],
          [
           "eurobeat"
          ],
          [
           "eurodance"
          ],
          [
           "europop"
          ],
          [
           "euroska"
          ],
          [
           "eurovision"
          ],
          [
           "exotica"
          ],
          [
           "experimental"
          ],
          [
           "experimental ambient"
          ],
          [
           "experimental big band"
          ],
          [
           "experimental dub"
          ],
          [
           "experimental folk"
          ],
          [
           "experimental guitar"
          ],
          [
           "experimental hip hop"
          ],
          [
           "experimental house"
          ],
          [
           "experimental indie"
          ],
          [
           "experimental jazz"
          ],
          [
           "experimental pop"
          ],
          [
           "experimental rock"
          ],
          [
           "experimental vocal"
          ],
          [
           "fado"
          ],
          [
           "family gospel"
          ],
          [
           "faroese pop"
          ],
          [
           "fast melodic punk"
          ],
          [
           "fidget house"
          ],
          [
           "filmi"
          ],
          [
           "filter house"
          ],
          [
           "filthstep"
          ],
          [
           "final fantasy"
          ],
          [
           "fingerstyle"
          ],
          [
           "finnish alternative rock"
          ],
          [
           "finnish classical"
          ],
          [
           "finnish contemporary classical"
          ],
          [
           "finnish death metal"
          ],
          [
           "finnish edm"
          ],
          [
           "finnish hard rock"
          ],
          [
           "finnish heavy metal"
          ],
          [
           "finnish metal"
          ],
          [
           "finnish power metal"
          ],
          [
           "finnish soul"
          ],
          [
           "flamenco"
          ],
          [
           "flamenco guitar"
          ],
          [
           "flick hop"
          ],
          [
           "flint hip hop"
          ],
          [
           "float house"
          ],
          [
           "florida death metal"
          ],
          [
           "florida rap"
          ],
          [
           "fluxwork"
          ],
          [
           "fo jing"
          ],
          [
           "focus"
          ],
          [
           "focus beats"
          ],
          [
           "focus trance"
          ],
          [
           "folclor afrocolombiano"
          ],
          [
           "folclor colombiano"
          ],
          [
           "folclore extremeno"
          ],
          [
           "folclore jujeno"
          ],
          [
           "folclore navarra"
          ],
          [
           "folclore salteno"
          ],
          [
           "folclore tucumano"
          ],
          [
           "folk"
          ],
          [
           "folk metal"
          ],
          [
           "folk punk"
          ],
          [
           "folk rock"
          ],
          [
           "folk rock italiano"
          ],
          [
           "folk-pop"
          ],
          [
           "folklore argentino"
          ],
          [
           "folklore boliviano"
          ],
          [
           "folklore chileno"
          ],
          [
           "folklore ecuatoriano"
          ],
          [
           "folklore peruano"
          ],
          [
           "folklore venezolano"
          ],
          [
           "folklore veracruzano"
          ],
          [
           "folkmusik"
          ],
          [
           "folktronica"
          ],
          [
           "footwork"
          ],
          [
           "forro"
          ],
          [
           "forro tradicional"
          ],
          [
           "fort worth indie"
          ],
          [
           "fourth world"
          ],
          [
           "francoton"
          ],
          [
           "freak folk"
          ],
          [
           "freakbeat"
          ],
          [
           "free folk"
          ],
          [
           "free improvisation"
          ],
          [
           "free jazz"
          ],
          [
           "freestyle"
          ],
          [
           "french baroque"
          ],
          [
           "french classical piano"
          ],
          [
           "french contemporary classical"
          ],
          [
           "french death metal"
          ],
          [
           "french dnb"
          ],
          [
           "french hip hop"
          ],
          [
           "french indie folk"
          ],
          [
           "french indie pop"
          ],
          [
           "french indietronica"
          ],
          [
           "french jazz"
          ],
          [
           "french metal"
          ],
          [
           "french movie tunes"
          ],
          [
           "french opera"
          ],
          [
           "french orchestra"
          ],
          [
           "french pop"
          ],
          [
           "french post-punk"
          ],
          [
           "french psychedelic"
          ],
          [
           "french reggae"
          ],
          [
           "french rock"
          ],
          [
           "french romanticism"
          ],
          [
           "french shoegaze"
          ],
          [
           "french soundtrack"
          ],
          [
           "french synthpop"
          ],
          [
           "french techno"
          ],
          [
           "frenchcore"
          ],
          [
           "full on"
          ],
          [
           "funana"
          ],
          [
           "funeral doom"
          ],
          [
           "funk"
          ],
          [
           "funk 150 bpm"
          ],
          [
           "funk carioca"
          ],
          [
           "funk das antigas"
          ],
          [
           "funk metal"
          ],
          [
           "funk mexicano"
          ],
          [
           "funk ostentacao"
          ],
          [
           "funk paulista"
          ],
          [
           "funk pop"
          ],
          [
           "funk rock"
          ],
          [
           "funky breaks"
          ],
          [
           "funky tech house"
          ],
          [
           "future bass"
          ],
          [
           "future funk"
          ],
          [
           "future garage"
          ],
          [
           "future house"
          ],
          [
           "future rock"
          ],
          [
           "futurepop"
          ],
          [
           "g funk"
          ],
          [
           "gabba"
          ],
          [
           "gabonese pop"
          ],
          [
           "gaian doom"
          ],
          [
           "gainesville indie"
          ],
          [
           "gaita zuliana"
          ],
          [
           "galante era"
          ],
          [
           "gamelan"
          ],
          [
           "gaming dubstep"
          ],
          [
           "gaming edm"
          ],
          [
           "gangster rap"
          ],
          [
           "garage house"
          ],
          [
           "garage pop"
          ],
          [
           "garage psych"
          ],
          [
           "garage punk"
          ],
          [
           "garage punk blues"
          ],
          [
           "garage rock"
          ],
          [
           "garage rock revival"
          ],
          [
           "gauze pop"
          ],
          [
           "gbvfi"
          ],
          [
           "geek folk"
          ],
          [
           "geek rock"
          ],
          [
           "georgian folk"
          ],
          [
           "german alternative rock"
          ],
          [
           "german baroque"
          ],
          [
           "german choir"
          ],
          [
           "german classical piano"
          ],
          [
           "german country"
          ],
          [
           "german dance"
          ],
          [
           "german hard rock"
          ],
          [
           "german heavy metal"
          ],
          [
           "german house"
          ],
          [
           "german indie"
          ],
          [
           "german jazz"
          ],
          [
           "german literature"
          ],
          [
           "german metal"
          ],
          [
           "german oi"
          ],
          [
           "german opera"
          ],
          [
           "german orchestra"
          ],
          [
           "german pop"
          ],
          [
           "german pop rock"
          ],
          [
           "german post-hardcore"
          ],
          [
           "german power metal"
          ],
          [
           "german punk"
          ],
          [
           "german renaissance"
          ],
          [
           "german rock"
          ],
          [
           "german romanticism"
          ],
          [
           "german show tunes"
          ],
          [
           "german soundtrack"
          ],
          [
           "german techno"
          ],
          [
           "german thrash metal"
          ],
          [
           "german trance"
          ],
          [
           "german underground rap"
          ],
          [
           "ghanaian hip hop"
          ],
          [
           "ghanaian traditional"
          ],
          [
           "ghazal"
          ],
          [
           "ghent indie"
          ],
          [
           "girl group"
          ],
          [
           "glam metal"
          ],
          [
           "glam punk"
          ],
          [
           "glam rock"
          ],
          [
           "glee club"
          ],
          [
           "glitch"
          ],
          [
           "glitch hop"
          ],
          [
           "glitch pop"
          ],
          [
           "glitchcore"
          ],
          [
           "go-go"
          ],
          [
           "goregrind"
          ],
          [
           "gospel"
          ],
          [
           "gospel antigas"
          ],
          [
           "gospel blues"
          ],
          [
           "gospel italiano"
          ],
          [
           "gospel r&b"
          ],
          [
           "gospel rap"
          ],
          [
           "gospel singers"
          ],
          [
           "gospel soul"
          ],
          [
           "gothabilly"
          ],
          [
           "gothenburg indie"
          ],
          [
           "gothenburg metal"
          ],
          [
           "gothic alternative"
          ],
          [
           "gothic americana"
          ],
          [
           "gothic black metal"
          ],
          [
           "gothic metal"
          ],
          [
           "gothic post-punk"
          ],
          [
           "gothic rock"
          ],
          [
           "gothic symphonic metal"
          ],
          [
           "gqom"
          ],
          [
           "grand rapids indie"
          ],
          [
           "grave wave"
          ],
          [
           "greek clarinet"
          ],
          [
           "greek contemporary classical"
          ],
          [
           "greek folk"
          ],
          [
           "greek guitar"
          ],
          [
           "greek house"
          ],
          [
           "greek jazz"
          ],
          [
           "greek pop"
          ],
          [
           "greek swing"
          ],
          [
           "gregorian chant"
          ],
          [
           "grime"
          ],
          [
           "grindcore"
          ],
          [
           "griot"
          ],
          [
           "groove metal"
          ],
          [
           "groove room"
          ],
          [
           "grunge"
          ],
          [
           "grunge pop"
          ],
          [
           "grupera"
          ],
          [
           "gruperas inmortales"
          ],
          [
           "guadalajara indie"
          ],
          [
           "guam indie"
          ],
          [
           "guaracha"
          ],
          [
           "guatemalan pop"
          ],
          [
           "guidance"
          ],
          [
           "guinean pop"
          ],
          [
           "guitarra argentina"
          ],
          [
           "guitarra clasica"
          ],
          [
           "guitarra portuguesa"
          ],
          [
           "gujarati garba"
          ],
          [
           "gujarati pop"
          ],
          [
           "guzheng"
          ],
          [
           "gymcore"
          ],
          [
           "gypsy"
          ],
          [
           "gypsy jazz"
          ],
          [
           "gypsy punk"
          ],
          [
           "haitian traditional"
          ],
          [
           "halifax indie"
          ],
          [
           "halloween"
          ],
          [
           "hamburg electronic"
          ],
          [
           "hammered dulcimer"
          ],
          [
           "hammond organ"
          ],
          [
           "hands up"
          ],
          [
           "hangpan"
          ],
          [
           "happy hardcore"
          ],
          [
           "hard alternative"
          ],
          [
           "hard bop"
          ],
          [
           "hard minimal techno"
          ],
          [
           "hard rock"
          ],
          [
           "hard rock brasileiro"
          ],
          [
           "hardcore"
          ],
          [
           "hardcore hip hop"
          ],
          [
           "hardcore punk"
          ],
          [
           "hardcore techno"
          ],
          [
           "hardstyle"
          ],
          [
           "harlem hip hop"
          ],
          [
           "harlem renaissance"
          ],
          [
           "harmonica blues"
          ],
          [
           "harmonica jazz"
          ],
          [
           "harp"
          ],
          [
           "harpsichord"
          ],
          [
           "haryanvi pop"
          ],
          [
           "hauntology"
          ],
          [
           "hawaiian"
          ],
          [
           "hawaiian hip hop"
          ],
          [
           "hawaiian indie"
          ],
          [
           "healing"
          ],
          [
           "heartland rock"
          ],
          [
           "hi-nrg"
          ],
          [
           "highlife"
          ],
          [
           "hindi hip hop"
          ],
          [
           "hindi indie"
          ],
          [
           "hindustani classical"
          ],
          [
           "hindustani instrumental"
          ],
          [
           "hindustani vocal"
          ],
          [
           "hip hop"
          ],
          [
           "hip hop cubano"
          ],
          [
           "hip house"
          ],
          [
           "hip pop"
          ],
          [
           "hiplife"
          ],
          [
           "histoire pour enfants"
          ],
          [
           "historic classical performance"
          ],
          [
           "historic orchestral performance"
          ],
          [
           "historic piano performance"
          ],
          [
           "historic string quartet"
          ],
          [
           "historical keyboard"
          ],
          [
           "historically informed performance"
          ],
          [
           "hoerspiel"
          ],
          [
           "hokkien pop"
          ],
          [
           "hollywood"
          ],
          [
           "hong kong hip hop"
          ],
          [
           "hong kong indie"
          ],
          [
           "hong kong rock"
          ],
          [
           "honky tonk"
          ],
          [
           "honky-tonk piano"
          ],
          [
           "hopebeat"
          ],
          [
           "horror punk"
          ],
          [
           "horror synth"
          ],
          [
           "horrorcore"
          ],
          [
           "house"
          ],
          [
           "houston rap"
          ],
          [
           "huapango"
          ],
          [
           "huayno"
          ],
          [
           "hula"
          ],
          [
           "humppa"
          ],
          [
           "hungarian choir"
          ],
          [
           "hungarian classical performance"
          ],
          [
           "hungarian classical piano"
          ],
          [
           "hungarian contemporary classical"
          ],
          [
           "hungarian edm"
          ],
          [
           "hungarian folk"
          ],
          [
           "hungarian pop"
          ],
          [
           "hungarian rock"
          ],
          [
           "hungarian techno"
          ],
          [
           "hurdy-gurdy"
          ],
          [
           "hyperpop"
          ],
          [
           "hyphy"
          ],
          [
           "icelandic classical"
          ],
          [
           "icelandic electronic"
          ],
          [
           "icelandic experimental"
          ],
          [
           "icelandic folk"
          ],
          [
           "icelandic indie"
          ],
          [
           "icelandic jazz"
          ],
          [
           "icelandic pop"
          ],
          [
           "icelandic rock"
          ],
          [
           "idaho indie"
          ],
          [
           "idol"
          ],
          [
           "idol rock"
          ],
          [
           "ilahiler"
          ],
          [
           "ilocano pop"
          ],
          [
           "impressionism"
          ],
          [
           "indian classical"
          ],
          [
           "indian edm"
          ],
          [
           "indian folk"
          ],
          [
           "indian fusion"
          ],
          [
           "indian indie"
          ],
          [
           "indian instrumental"
          ],
          [
           "indian jazz"
          ],
          [
           "indiana hip hop"
          ],
          [
           "indie anthem-folk"
          ],
          [
           "indie cafe pop"
          ],
          [
           "indie deutschrap"
          ],
          [
           "indie dream pop"
          ],
          [
           "indie electronica"
          ],
          [
           "indie electropop"
          ],
          [
           "indie folk"
          ],
          [
           "indie game soundtrack"
          ],
          [
           "indie garage rock"
          ],
          [
           "indie hip hop"
          ],
          [
           "indie jazz"
          ],
          [
           "indie pop"
          ],
          [
           "indie pop rap"
          ],
          [
           "indie poptimism"
          ],
          [
           "indie psych-pop"
          ],
          [
           "indie punk"
          ],
          [
           "indie quebecois"
          ],
          [
           "indie r&b"
          ],
          [
           "indie rock"
          ],
          [
           "indie rock mexicano"
          ],
          [
           "indie rockism"
          ],
          [
           "indie shoegaze"
          ],
          [
           "indie singer-songwriter"
          ],
          [
           "indie soul"
          ],
          [
           "indie surf"
          ],
          [
           "indie triste"
          ],
          [
           "indiecoustica"
          ],
          [
           "indietronica"
          ],
          [
           "indonesian hip hop"
          ],
          [
           "indonesian indie"
          ],
          [
           "indonesian pop"
          ],
          [
           "indonesian r&b"
          ],
          [
           "indonesian worship"
          ],
          [
           "industrial"
          ],
          [
           "industrial hardcore"
          ],
          [
           "industrial hip hop"
          ],
          [
           "industrial metal"
          ],
          [
           "industrial rock"
          ],
          [
           "indy indie"
          ],
          [
           "instrumental acoustic guitar"
          ],
          [
           "instrumental bluegrass"
          ],
          [
           "instrumental funk"
          ],
          [
           "instrumental grime"
          ],
          [
           "instrumental math rock"
          ],
          [
           "instrumental post-rock"
          ],
          [
           "instrumental progressive metal"
          ],
          [
           "instrumental rock"
          ],
          [
           "instrumental soul"
          ],
          [
           "instrumental stoner rock"
          ],
          [
           "instrumental surf"
          ],
          [
           "intelligent dance music"
          ],
          [
           "iowa hip hop"
          ],
          [
           "irish accordion"
          ],
          [
           "irish ballad"
          ],
          [
           "irish banjo"
          ],
          [
           "irish classical"
          ],
          [
           "irish country"
          ],
          [
           "irish dance"
          ],
          [
           "irish fiddle"
          ],
          [
           "irish folk"
          ],
          [
           "irish hip hop"
          ],
          [
           "irish indie"
          ],
          [
           "irish metal"
          ],
          [
           "irish pop"
          ],
          [
           "irish pub song"
          ],
          [
           "irish rock"
          ],
          [
           "irish singer-songwriter"
          ],
          [
           "iskelma"
          ],
          [
           "islamic recitation"
          ],
          [
           "isle of wight indie"
          ],
          [
           "israeli classical"
          ],
          [
           "israeli classical piano"
          ],
          [
           "israeli folk"
          ],
          [
           "israeli hip hop"
          ],
          [
           "israeli mediterranean"
          ],
          [
           "israeli pop"
          ],
          [
           "israeli rock"
          ],
          [
           "israeli singer-songwriter"
          ],
          [
           "israeli techno"
          ],
          [
           "italian adult pop"
          ],
          [
           "italian baritone"
          ],
          [
           "italian baroque"
          ],
          [
           "italian baroque ensemble"
          ],
          [
           "italian bass"
          ],
          [
           "italian blues"
          ],
          [
           "italian classical guitar"
          ],
          [
           "italian classical piano"
          ],
          [
           "italian contemporary jazz"
          ],
          [
           "italian disco"
          ],
          [
           "italian gothic"
          ],
          [
           "italian gothic metal"
          ],
          [
           "italian indie pop"
          ],
          [
           "italian jazz"
          ],
          [
           "italian library music"
          ],
          [
           "italian mandolin"
          ],
          [
           "italian metal"
          ],
          [
           "italian mezzo-soprano"
          ],
          [
           "italian modern prog"
          ],
          [
           "italian opera"
          ],
          [
           "italian orchestra"
          ],
          [
           "italian pop rock"
          ],
          [
           "italian power metal"
          ],
          [
           "italian progressive metal"
          ],
          [
           "italian progressive rock"
          ],
          [
           "italian renaissance"
          ],
          [
           "italian romanticism"
          ],
          [
           "italian soprano"
          ],
          [
           "italian soundtrack"
          ],
          [
           "italian techno"
          ],
          [
           "italian tenor"
          ],
          [
           "italian violin"
          ],
          [
           "italo dance"
          ],
          [
           "italo house"
          ],
          [
           "j-acoustic"
          ],
          [
           "j-ambient"
          ],
          [
           "j-dance"
          ],
          [
           "j-division"
          ],
          [
           "j-idol"
          ],
          [
           "j-metal"
          ],
          [
           "j-pixie"
          ],
          [
           "j-pop"
          ],
          [
           "j-pop girl group"
          ],
          [
           "j-poprock"
          ],
          [
           "j-punk"
          ],
          [
           "j-reggae"
          ],
          [
           "j-rock"
          ],
          [
           "jacksonville indie"
          ],
          [
           "jam band"
          ],
          [
           "jamgrass"
          ],
          [
           "jamtronica"
          ],
          [
           "jangle pop"
          ],
          [
           "japanese alternative rock"
          ],
          [
           "japanese chillhop"
          ],
          [
           "japanese city pop"
          ],
          [
           "japanese classical"
          ],
          [
           "japanese classical performance"
          ],
          [
           "japanese classical piano"
          ],
          [
           "japanese concert band"
          ],
          [
           "japanese dream pop"
          ],
          [
           "japanese electronic"
          ],
          [
           "japanese electropop"
          ],
          [
           "japanese emo"
          ],
          [
           "japanese experimental"
          ],
          [
           "japanese folk"
          ],
          [
           "japanese garage rock"
          ],
          [
           "japanese girl punk"
          ],
          [
           "japanese heavy metal"
          ],
          [
           "japanese idm"
          ],
          [
           "japanese indie folk"
          ],
          [
           "japanese indie rock"
          ],
          [
           "japanese instrumental"
          ],
          [
           "japanese jazz"
          ],
          [
           "japanese jazz fusion"
          ],
          [
           "japanese jazztronica"
          ],
          [
           "japanese metalcore"
          ],
          [
           "japanese new wave"
          ],
          [
           "japanese piano"
          ],
          [
           "japanese pop punk"
          ],
          [
           "japanese post-hardcore"
          ],
          [
           "japanese power metal"
          ],
          [
           "japanese prog"
          ],
          [
           "japanese psychedelic"
          ],
          [
           "japanese punk rock"
          ],
          [
           "japanese r&b"
          ],
          [
           "japanese rockabilly"
          ],
          [
           "japanese singer-songwriter"
          ],
          [
           "japanese soundtrack"
          ],
          [
           "japanese traditional"
          ],
          [
           "japanese vgm"
          ],
          [
           "japanese vocal jazz"
          ],
          [
           "jawaiian"
          ],
          [
           "jazz"
          ],
          [
           "jazz accordion"
          ],
          [
           "jazz blues"
          ],
          [
           "jazz boom bap"
          ],
          [
           "jazz brass"
          ],
          [
           "jazz chileno"
          ],
          [
           "jazz clarinet"
          ],
          [
           "jazz colombiano"
          ],
          [
           "jazz cubano"
          ],
          [
           "jazz double bass"
          ],
          [
           "jazz drums"
          ],
          [
           "jazz flute"
          ],
          [
           "jazz funk"
          ],
          [
           "jazz fusion"
          ],
          [
           "jazz guitar"
          ],
          [
           "jazz harp"
          ],
          [
           "jazz metal"
          ],
          [
           "jazz mexicano"
          ],
          [
           "jazz orchestra"
          ],
          [
           "jazz organ"
          ],
          [
           "jazz piano"
          ],
          [
           "jazz pop"
          ],
          [
           "jazz quartet"
          ],
          [
           "jazz rap"
          ],
          [
           "jazz rock"
          ],
          [
           "jazz saxophone"
          ],
          [
           "jazz trio"
          ],
          [
           "jazz trombone"
          ],
          [
           "jazz trumpet"
          ],
          [
           "jazz tuba"
          ],
          [
           "jazz venezolano"
          ],
          [
           "jazz vibraphone"
          ],
          [
           "jazz violin"
          ],
          [
           "jazztronica"
          ],
          [
           "jewish cantorial"
          ],
          [
           "jewish hip hop"
          ],
          [
           "jig and reel"
          ],
          [
           "jordanian pop"
          ],
          [
           "joropo"
          ],
          [
           "jovem guarda"
          ],
          [
           "jug band"
          ],
          [
           "juju"
          ],
          [
           "jump blues"
          ],
          [
           "jump up"
          ],
          [
           "k-indie"
          ],
          [
           "k-pop"
          ],
          [
           "k-pop boy group"
          ],
          [
           "k-pop girl group"
          ],
          [
           "k-rap"
          ],
          [
           "kabarett"
          ],
          [
           "kabyle"
          ],
          [
           "kaneka"
          ],
          [
           "kannada bhava geethe"
          ],
          [
           "kansas city hip hop"
          ],
          [
           "kashmiri pop"
          ],
          [
           "kawaii future bass"
          ],
          [
           "kawaii metal"
          ],
          [
           "kayokyoku"
          ],
          [
           "kc indie"
          ],
          [
           "kent indie"
          ],
          [
           "kentucky hip hop"
          ],
          [
           "kentucky indie"
          ],
          [
           "kentucky metal"
          ],
          [
           "kentucky mountain folk"
          ],
          [
           "kentucky punk"
          ],
          [
           "kentucky roots"
          ],
          [
           "keroncong"
          ],
          [
           "khaleeji iraqi"
          ],
          [
           "khmer"
          ],
          [
           "kids dance party"
          ],
          [
           "kindie rock"
          ],
          [
           "kingston on indie"
          ],
          [
           "kirtan"
          ],
          [
           "kiwi rock"
          ],
          [
           "kizomba antigas"
          ],
          [
           "kleine hoerspiel"
          ],
          [
           "klezmer"
          ],
          [
           "knoxville indie"
          ],
          [
           "kodomo no ongaku"
          ],
          [
           "kolsche karneval"
          ],
          [
           "komedi"
          ],
          [
           "kompa"
          ],
          [
           "kora"
          ],
          [
           "korean classical performance"
          ],
          [
           "korean classical piano"
          ],
          [
           "korean indie rock"
          ],
          [
           "korean mask singer"
          ],
          [
           "korean pop"
          ],
          [
           "korean r&b"
          ],
          [
           "korean trap"
          ],
          [
           "koto"
          ],
          [
           "krautrock"
          ],
          [
           "kundiman"
          ],
          [
           "la indie"
          ],
          [
           "la pop"
          ],
          [
           "laboratorio"
          ],
          [
           "lafayette indie"
          ],
          [
           "laiko"
          ],
          [
           "lancashire indie"
          ],
          [
           "lancaster pa indie"
          ],
          [
           "late romantic era"
          ],
          [
           "latin"
          ],
          [
           "latin afrobeat"
          ],
          [
           "latin alternative"
          ],
          [
           "latin american classical piano"
          ],
          [
           "latin arena pop"
          ],
          [
           "latin christian"
          ],
          [
           "latin classical"
          ],
          [
           "latin funk"
          ],
          [
           "latin hip hop"
          ],
          [
           "latin house"
          ],
          [
           "latin jazz"
          ],
          [
           "latin metal"
          ],
          [
           "latin pop"
          ],
          [
           "latin rock"
          ],
          [
           "latin ska"
          ],
          [
           "latin soundtrack"
          ],
          [
           "latin talent show"
          ],
          [
           "latin tech house"
          ],
          [
           "latin viral pop"
          ],
          [
           "latin worship"
          ],
          [
           "latincore"
          ],
          [
           "latino comedy"
          ],
          [
           "latintronica"
          ],
          [
           "latinx alternative"
          ],
          [
           "latvian pop"
          ],
          [
           "lds"
          ],
          [
           "lds youth"
          ],
          [
           "lebanese pop"
          ],
          [
           "leicester indie"
          ],
          [
           "lexington ky indie"
          ],
          [
           "lgbtq+ hip hop"
          ],
          [
           "library music"
          ],
          [
           "liedermacher"
          ],
          [
           "light music"
          ],
          [
           "lilith"
          ],
          [
           "liquid funk"
          ],
          [
           "lithuanian electronic"
          ],
          [
           "liverpool indie"
          ],
          [
           "livetronica"
          ],
          [
           "lldm"
          ],
          [
           "lo star"
          ],
          [
           "lo-fi"
          ],
          [
           "lo-fi beats"
          ],
          [
           "lo-fi brasileiro"
          ],
          [
           "lo-fi chill"
          ],
          [
           "lo-fi cover"
          ],
          [
           "lo-fi emo"
          ],
          [
           "lo-fi house"
          ],
          [
           "lo-fi indie"
          ],
          [
           "lo-fi vgm"
          ],
          [
           "london rap"
          ],
          [
           "louisiana blues"
          ],
          [
           "louisiana metal"
          ],
          [
           "louisville indie"
          ],
          [
           "louisville underground"
          ],
          [
           "lounge"
          ],
          [
           "louvor"
          ],
          [
           "lovers rock"
          ],
          [
           "lullaby"
          ],
          [
           "lund indie"
          ],
          [
           "lute"
          ],
          [
           "macedonian folk"
          ],
          [
           "madchester"
          ],
          [
           "madrigal"
          ],
          [
           "magyar alternative"
          ],
          [
           "maine hip hop"
          ],
          [
           "maine indie"
          ],
          [
           "mainland chinese pop"
          ],
          [
           "makossa"
          ],
          [
           "malaysian mandopop"
          ],
          [
           "malaysian pop"
          ],
          [
           "malian blues"
          ],
          [
           "mallet"
          ],
          [
           "malmo indie"
          ],
          [
           "mambo"
          ],
          [
           "manchester hip hop"
          ],
          [
           "manchester indie"
          ],
          [
           "mande pop"
          ],
          [
           "mandolin"
          ],
          [
           "mandopop"
          ],
          [
           "manguebeat"
          ],
          [
           "manila sound"
          ],
          [
           "manitoba indie"
          ],
          [
           "mantra"
          ],
          [
           "marathi pop"
          ],
          [
           "marathi traditional"
          ],
          [
           "marching band"
          ],
          [
           "mariachi"
          ],
          [
           "mariachi cristiano"
          ],
          [
           "marimba orquesta"
          ],
          [
           "martial industrial"
          ],
          [
           "mashup"
          ],
          [
           "math rock"
          ],
          [
           "mathcore"
          ],
          [
           "mbalax"
          ],
          [
           "medieval"
          ],
          [
           "medieval folk"
          ],
          [
           "medieval rock"
          ],
          [
           "meditation"
          ],
          [
           "melancholia"
          ],
          [
           "melbourne bounce"
          ],
          [
           "melbourne bounce international"
          ],
          [
           "melbourne indie"
          ],
          [
           "mellow gold"
          ],
          [
           "melodic death metal"
          ],
          [
           "melodic deathcore"
          ],
          [
           "melodic dubstep"
          ],
          [
           "melodic groove metal"
          ],
          [
           "melodic hard rock"
          ],
          [
           "melodic hardcore"
          ],
          [
           "melodic metal"
          ],
          [
           "melodic metalcore"
          ],
          [
           "melodic power metal"
          ],
          [
           "melodic rap"
          ],
          [
           "melodic thrash"
          ],
          [
           "meme rap"
          ],
          [
           "memphis americana"
          ],
          [
           "memphis blues"
          ],
          [
           "memphis hip hop"
          ],
          [
           "memphis indie"
          ],
          [
           "memphis soul"
          ],
          [
           "mento"
          ],
          [
           "merengue"
          ],
          [
           "merengue tipico"
          ],
          [
           "merseybeat"
          ],
          [
           "messianic praise"
          ],
          [
           "metal"
          ],
          [
           "metal guitar"
          ],
          [
           "metal mineiro"
          ],
          [
           "metalcore"
          ],
          [
           "metropopolis"
          ],
          [
           "mexican classic rock"
          ],
          [
           "mexican classical"
          ],
          [
           "mexican hip hop"
          ],
          [
           "mexican indie"
          ],
          [
           "mexican pop"
          ],
          [
           "mexican pop punk"
          ],
          [
           "mexican rock"
          ],
          [
           "mexican rock-and-roll"
          ],
          [
           "mexican son"
          ],
          [
           "mexican traditional"
          ],
          [
           "miami bass"
          ],
          [
           "miami hip hop"
          ],
          [
           "miami indie"
          ],
          [
           "miami metal"
          ],
          [
           "michigan indie"
          ],
          [
           "microhouse"
          ],
          [
           "microtonal"
          ],
          [
           "middle earth"
          ],
          [
           "middle east hip hop"
          ],
          [
           "middle eastern traditional"
          ],
          [
           "midwest americana"
          ],
          [
           "midwest emo"
          ],
          [
           "military cadence"
          ],
          [
           "military rap"
          ],
          [
           "milwaukee indie"
          ],
          [
           "mindfulness"
          ],
          [
           "minecraft"
          ],
          [
           "minimal melodic techno"
          ],
          [
           "minimal tech house"
          ],
          [
           "minimal techno"
          ],
          [
           "minimal wave"
          ],
          [
           "minimalism"
          ],
          [
           "minneapolis indie"
          ],
          [
           "minneapolis metal"
          ],
          [
           "minneapolis punk"
          ],
          [
           "minneapolis sound"
          ],
          [
           "minnesota hip hop"
          ],
          [
           "mississippi hip hop"
          ],
          [
           "mississippi indie"
          ],
          [
           "mizrahi"
          ],
          [
           "mod revival"
          ],
          [
           "modern alternative pop"
          ],
          [
           "modern alternative rock"
          ],
          [
           "modern big band"
          ],
          [
           "modern blues"
          ],
          [
           "modern blues rock"
          ],
          [
           "modern bollywood"
          ],
          [
           "modern country rock"
          ],
          [
           "modern dream pop"
          ],
          [
           "modern folk rock"
          ],
          [
           "modern funk"
          ],
          [
           "modern hard rock"
          ],
          [
           "modern indie pop"
          ],
          [
           "modern jazz piano"
          ],
          [
           "modern jazz trio"
          ],
          [
           "modern old-time"
          ],
          [
           "modern performance"
          ],
          [
           "modern power pop"
          ],
          [
           "modern psychedelic folk"
          ],
          [
           "modern reggae"
          ],
          [
           "modern rock"
          ],
          [
           "modern salsa"
          ],
          [
           "modern ska punk"
          ],
          [
           "modern southern rock"
          ],
          [
           "modern string quartet"
          ],
          [
           "modern swing"
          ],
          [
           "modern uplift"
          ],
          [
           "modular synth"
          ],
          [
           "moldovan pop"
          ],
          [
           "mollywood"
          ],
          [
           "mongolian hip hop"
          ],
          [
           "mongolian pop"
          ],
          [
           "monterrey indie"
          ],
          [
           "montreal indie"
          ],
          [
           "moog"
          ],
          [
           "moombahton"
          ],
          [
           "morna"
          ],
          [
           "motivation"
          ],
          [
           "motown"
          ],
          [
           "mountain dulcimer"
          ],
          [
           "movie tunes"
          ],
          [
           "mpb"
          ],
          [
           "music box"
          ],
          [
           "music hall"
          ],
          [
           "musica afroperuana"
          ],
          [
           "musica alagoana"
          ],
          [
           "musica andina"
          ],
          [
           "musica andina colombiana"
          ],
          [
           "musica antigua"
          ],
          [
           "musica aragonesa"
          ],
          [
           "musica ayacuchana"
          ],
          [
           "musica canaria"
          ],
          [
           "musica costarricense"
          ],
          [
           "musica costena"
          ],
          [
           "musica cristiana guatemalteca"
          ],
          [
           "musica de fondo"
          ],
          [
           "musica gaucha tradicionalista"
          ],
          [
           "musica hondurena"
          ],
          [
           "musica infantil"
          ],
          [
           "musica jibara"
          ],
          [
           "musica juiz-forana"
          ],
          [
           "musica llanera"
          ],
          [
           "musica nicaraguense"
          ],
          [
           "musica para criancas"
          ],
          [
           "musica para ninos"
          ],
          [
           "musica paraibana"
          ],
          [
           "musica piemonteisa"
          ],
          [
           "musica popular colombiana"
          ],
          [
           "musica popular mineira"
          ],
          [
           "musica popular paraense"
          ],
          [
           "musica potosina"
          ],
          [
           "musica prehispanica"
          ],
          [
           "musica sarda"
          ],
          [
           "musica tradicional cubana"
          ],
          [
           "musica tropical guatemalteca"
          ],
          [
           "musical advocacy"
          ],
          [
           "musikkorps"
          ],
          [
           "musique concrete"
          ],
          [
           "musique peule"
          ],
          [
           "musique pour enfant quebecois"
          ],
          [
           "musique pour enfants"
          ],
          [
           "musique touareg"
          ],
          [
           "muzica populara"
          ],
          [
           "muzika l'yeladim"
          ],
          [
           "naija worship"
          ],
          [
           "nantes indie"
          ],
          [
           "narodna muzika"
          ],
          [
           "nashville americana"
          ],
          [
           "nashville hip hop"
          ],
          [
           "nashville indie"
          ],
          [
           "nashville singer-songwriter"
          ],
          [
           "nashville sound"
          ],
          [
           "native american"
          ],
          [
           "native american contemporary"
          ],
          [
           "native american flute"
          ],
          [
           "native american hip hop"
          ],
          [
           "native american spiritual"
          ],
          [
           "navajo"
          ],
          [
           "nederlandse hardstyle"
          ],
          [
           "nederpop"
          ],
          [
           "neo classical metal"
          ],
          [
           "neo kyma"
          ],
          [
           "neo mellow"
          ],
          [
           "neo r&b"
          ],
          [
           "neo soul"
          ],
          [
           "neo-classical"
          ],
          [
           "neo-kraut"
          ],
          [
           "neo-pagan"
          ],
          [
           "neo-progressive"
          ],
          [
           "neo-psychedelic"
          ],
          [
           "neo-rockabilly"
          ],
          [
           "neo-singer-songwriter"
          ],
          [
           "neo-synthpop"
          ],
          [
           "neo-trad metal"
          ],
          [
           "neo-traditional bluegrass"
          ],
          [
           "neo-traditional country"
          ],
          [
           "neoclassical darkwave"
          ],
          [
           "neoclassicism"
          ],
          [
           "neofolk"
          ],
          [
           "neon pop punk"
          ],
          [
           "neotango"
          ],
          [
           "nepali indie"
          ],
          [
           "nepali pop"
          ],
          [
           "nerdcore"
          ],
          [
           "neue deutsche harte"
          ],
          [
           "neue deutsche todeskunst"
          ],
          [
           "neue deutsche welle"
          ],
          [
           "neurofunk"
          ],
          [
           "new age"
          ],
          [
           "new age piano"
          ],
          [
           "new americana"
          ],
          [
           "new beat"
          ],
          [
           "new comedy"
          ],
          [
           "new england americana"
          ],
          [
           "new england emo"
          ],
          [
           "new french touch"
          ],
          [
           "new isolationism"
          ],
          [
           "new jack swing"
          ],
          [
           "new jersey hardcore"
          ],
          [
           "new jersey indie"
          ],
          [
           "new jersey punk"
          ],
          [
           "new jersey rap"
          ],
          [
           "new mexico music"
          ],
          [
           "new orleans blues"
          ],
          [
           "new orleans funk"
          ],
          [
           "new orleans indie"
          ],
          [
           "new orleans jazz"
          ],
          [
           "new orleans rap"
          ],
          [
           "new rave"
          ],
          [
           "new romantic"
          ],
          [
           "new tribe"
          ],
          [
           "new wave"
          ],
          [
           "new wave of thrash metal"
          ],
          [
           "new wave pop"
          ],
          [
           "new weird america"
          ],
          [
           "new york death metal"
          ],
          [
           "new york drill"
          ],
          [
           "new zealand classical"
          ],
          [
           "newcastle indie"
          ],
          [
           "newcastle nsw indie"
          ],
          [
           "nigerian hip hop"
          ],
          [
           "nigerian pop"
          ],
          [
           "nightcore"
          ],
          [
           "nightrun"
          ],
          [
           "ninja"
          ],
          [
           "nintendocore"
          ],
          [
           "nisiotika"
          ],
          [
           "nl folk"
          ],
          [
           "no wave"
          ],
          [
           "noise pop"
          ],
          [
           "noise punk"
          ],
          [
           "noise rock"
          ],
          [
           "nordic classical piano"
          ],
          [
           "nordic contemporary classical"
          ],
          [
           "nordic folk"
          ],
          [
           "nordic house"
          ],
          [
           "nordic orchestra"
          ],
          [
           "nordic post-rock"
          ],
          [
           "nordic soundtrack"
          ],
          [
           "norman ok indie"
          ],
          [
           "norsk lovsang"
          ],
          [
           "norteno"
          ],
          [
           "norteno-sax"
          ],
          [
           "north carolina emo"
          ],
          [
           "north carolina hip hop"
          ],
          [
           "north carolina indie"
          ],
          [
           "north carolina metal"
          ],
          [
           "north carolina roots"
          ],
          [
           "north east england indie"
          ],
          [
           "northern irish indie"
          ],
          [
           "northern irish punk"
          ],
          [
           "northern soul"
          ],
          [
           "norwegian black metal"
          ],
          [
           "norwegian choir"
          ],
          [
           "norwegian classical"
          ],
          [
           "norwegian contemporary jazz"
          ],
          [
           "norwegian death metal"
          ],
          [
           "norwegian experimental"
          ],
          [
           "norwegian hip hop"
          ],
          [
           "norwegian indie"
          ],
          [
           "norwegian jazz"
          ],
          [
           "norwegian metal"
          ],
          [
           "norwegian pop"
          ],
          [
           "norwegian pop rap"
          ],
          [
           "norwegian punk rock"
          ],
          [
           "norwegian rock"
          ],
          [
           "norwegian singer-songwriter"
          ],
          [
           "norwegian space disco"
          ],
          [
           "nottingham indie"
          ],
          [
           "nouvelle chanson francaise"
          ],
          [
           "nova canco"
          ],
          [
           "nova mpb"
          ],
          [
           "nova musica pernambucana"
          ],
          [
           "novelty"
          ],
          [
           "nu age"
          ],
          [
           "nu disco"
          ],
          [
           "nu gaze"
          ],
          [
           "nu jazz"
          ],
          [
           "nu metal"
          ],
          [
           "nu skool breaks"
          ],
          [
           "nu-cumbia"
          ],
          [
           "nu-metalcore"
          ],
          [
           "nubian traditional"
          ],
          [
           "nueva cancion"
          ],
          [
           "nueva ola chilena"
          ],
          [
           "nueva ola peruana"
          ],
          [
           "nuevo flamenco"
          ],
          [
           "nuevo folklore mexicano"
          ],
          [
           "nuevo regional mexicano"
          ],
          [
           "nuevo tango"
          ],
          [
           "nursery"
          ],
          [
           "nwobhm"
          ],
          [
           "nwothm"
          ],
          [
           "ny roots"
          ],
          [
           "nyc pop"
          ],
          [
           "nyc rap"
          ],
          [
           "nyhc"
          ],
          [
           "nz christian"
          ],
          [
           "nz folk"
          ],
          [
           "nz hardcore"
          ],
          [
           "nz indie"
          ],
          [
           "nz pop"
          ],
          [
           "nz punk"
          ],
          [
           "nz reggae"
          ],
          [
           "nz singer-songwriter"
          ],
          [
           "oakland hip hop"
          ],
          [
           "oakland indie"
          ],
          [
           "oc indie"
          ],
          [
           "oc rap"
          ],
          [
           "oceania soundtrack"
          ],
          [
           "ohio hip hop"
          ],
          [
           "ohio indie"
          ],
          [
           "oi"
          ],
          [
           "ok indie"
          ],
          [
           "okc indie"
          ],
          [
           "okinawan pop"
          ],
          [
           "oklahoma country"
          ],
          [
           "old school dancehall"
          ],
          [
           "old school hip hop"
          ],
          [
           "old school rap francais"
          ],
          [
           "old school thrash"
          ],
          [
           "old school uk hip hop"
          ],
          [
           "old west"
          ],
          [
           "old-time"
          ],
          [
           "old-time fiddle"
          ],
          [
           "olympia wa indie"
          ],
          [
           "omaha indie"
          ],
          [
           "one-person band"
          ],
          [
           "ontario indie"
          ],
          [
           "opera"
          ],
          [
           "opera chorus"
          ],
          [
           "opera metal"
          ],
          [
           "operatic pop"
          ],
          [
           "operetta"
          ],
          [
           "opm"
          ],
          [
           "oratory"
          ],
          [
           "orchestra"
          ],
          [
           "orchestral performance"
          ],
          [
           "orebro indie"
          ],
          [
           "organic ambient"
          ],
          [
           "organic electronic"
          ],
          [
           "organic house"
          ],
          [
           "orgcore"
          ],
          [
           "oriental classical"
          ],
          [
           "orkney and shetland folk"
          ],
          [
           "orlando indie"
          ],
          [
           "orquesta tipica"
          ],
          [
           "orthodox chant"
          ],
          [
           "oshare kei"
          ],
          [
           "otacore"
          ],
          [
           "oth indie"
          ],
          [
           "ottawa indie"
          ],
          [
           "ottawa rap"
          ],
          [
           "oud"
          ],
          [
           "outer hip hop"
          ],
          [
           "outlaw country"
          ],
          [
           "outsider"
          ],
          [
           "outsider house"
          ],
          [
           "oxford choir"
          ],
          [
           "oxford indie"
          ],
          [
           "p funk"
          ],
          [
           "pagan black metal"
          ],
          [
           "pagode"
          ],
          [
           "pagode baiano"
          ],
          [
           "paisley underground"
          ],
          [
           "pakistani folk"
          ],
          [
           "pakistani hip hop"
          ],
          [
           "pakistani pop"
          ],
          [
           "palestinian pop"
          ],
          [
           "palm desert scene"
          ],
          [
           "panamanian pop"
          ],
          [
           "panamanian rock"
          ],
          [
           "panpipe"
          ],
          [
           "papuri"
          ],
          [
           "parody"
          ],
          [
           "partido alto"
          ],
          [
           "partyschlager"
          ],
          [
           "pei indie"
          ],
          [
           "permanent wave"
          ],
          [
           "perreo"
          ],
          [
           "persian pop"
          ],
          [
           "persian traditional"
          ],
          [
           "perth indie"
          ],
          [
           "peruvian hip hop"
          ],
          [
           "peruvian rock"
          ],
          [
           "pet calming"
          ],
          [
           "philly indie"
          ],
          [
           "philly rap"
          ],
          [
           "philly soul"
          ],
          [
           "phoenix indie"
          ],
          [
           "phonk"
          ],
          [
           "pianissimo"
          ],
          [
           "piano blues"
          ],
          [
           "piano cover"
          ],
          [
           "piano mpb"
          ],
          [
           "piano rock"
          ],
          [
           "pibroch"
          ],
          [
           "piedmont blues"
          ],
          [
           "pinoy hip hop"
          ],
          [
           "pinoy indie"
          ],
          [
           "pinoy pop punk"
          ],
          [
           "pinoy praise"
          ],
          [
           "pinoy r&b"
          ],
          [
           "pinoy reggae"
          ],
          [
           "pinoy rock"
          ],
          [
           "pinoy traditional"
          ],
          [
           "pinoy trap"
          ],
          [
           "pirate"
          ],
          [
           "pittsburgh indie"
          ],
          [
           "pittsburgh rap"
          ],
          [
           "pittsburgh rock"
          ],
          [
           "pixie"
          ],
          [
           "plunderphonics"
          ],
          [
           "poetry"
          ],
          [
           "polca paraguaya"
          ],
          [
           "polish blues"
          ],
          [
           "polish classical"
          ],
          [
           "polish classical piano"
          ],
          [
           "polish contemporary classical"
          ],
          [
           "polish jazz"
          ],
          [
           "polish modern jazz"
          ],
          [
           "polish pop"
          ],
          [
           "polish post-rock"
          ],
          [
           "polish reggae"
          ],
          [
           "polish rock"
          ],
          [
           "political hip hop"
          ],
          [
           "polka"
          ],
          [
           "polynesian hip hop"
          ],
          [
           "polynesian pop"
          ],
          [
           "polyphony"
          ],
          [
           "pony"
          ],
          [
           "pop"
          ],
          [
           "pop argentino"
          ],
          [
           "pop chileno"
          ],
          [
           "pop dance"
          ],
          [
           "pop edm"
          ],
          [
           "pop electronico"
          ],
          [
           "pop emo"
          ],
          [
           "pop flamenco"
          ],
          [
           "pop folk"
          ],
          [
           "pop house"
          ],
          [
           "pop nacional"
          ],
          [
           "pop nacional antigas"
          ],
          [
           "pop peruano"
          ],
          [
           "pop punk"
          ],
          [
           "pop quebecois"
          ],
          [
           "pop r&b"
          ],
          [
           "pop rap"
          ],
          [
           "pop reggaeton"
          ],
          [
           "pop rock"
          ],
          [
           "pop rock brasileiro"
          ],
          [
           "pop romantico"
          ],
          [
           "pop soul"
          ],
          [
           "pop venezolano"
          ],
          [
           "pop violin"
          ],
          [
           "popgaze"
          ],
          [
           "popping"
          ],
          [
           "pops orchestra"
          ],
          [
           "popwave"
          ],
          [
           "pornogrind"
          ],
          [
           "porro"
          ],
          [
           "portland hip hop"
          ],
          [
           "portland indie"
          ],
          [
           "portland metal"
          ],
          [
           "portland punk"
          ],
          [
           "portuguese early music"
          ],
          [
           "post-disco"
          ],
          [
           "post-disco soul"
          ],
          [
           "post-doom metal"
          ],
          [
           "post-grunge"
          ],
          [
           "post-hardcore"
          ],
          [
           "post-metal"
          ],
          [
           "post-minimalism"
          ],
          [
           "post-post-hardcore"
          ],
          [
           "post-punk"
          ],
          [
           "post-punk argentina"
          ],
          [
           "post-rock"
          ],
          [
           "post-romantic era"
          ],
          [
           "post-screamo"
          ],
          [
           "post-teen pop"
          ],
          [
           "power metal"
          ],
          [
           "power pop"
          ],
          [
           "power thrash"
          ],
          [
           "power-pop punk"
          ],
          [
           "praise"
          ],
          [
           "prepared piano"
          ],
          [
           "preschool children's music"
          ],
          [
           "prog quebec"
          ],
          [
           "progressive alternative"
          ],
          [
           "progressive bluegrass"
          ],
          [
           "progressive deathcore"
          ],
          [
           "progressive electro house"
          ],
          [
           "progressive groove metal"
          ],
          [
           "progressive house"
          ],
          [
           "progressive jazz fusion"
          ],
          [
           "progressive metal"
          ],
          [
           "progressive metalcore"
          ],
          [
           "progressive post-hardcore"
          ],
          [
           "progressive power metal"
          ],
          [
           "progressive psytrance"
          ],
          [
           "progressive rock"
          ],
          [
           "progressive sludge"
          ],
          [
           "progressive trance"
          ],
          [
           "progressive trance house"
          ],
          [
           "progressive uplifting trance"
          ],
          [
           "proto-rap"
          ],
          [
           "proto-techno"
          ],
          [
           "protopunk"
          ],
          [
           "psalmen"
          ],
          [
           "psicodelia brasileira"
          ],
          [
           "psybass"
          ],
          [
           "psychedelic blues-rock"
          ],
          [
           "psychedelic doom"
          ],
          [
           "psychedelic folk"
          ],
          [
           "psychedelic folk rock"
          ],
          [
           "psychedelic hip hop"
          ],
          [
           "psychedelic pop"
          ],
          [
           "psychedelic punk"
          ],
          [
           "psychedelic rock"
          ],
          [
           "psychedelic soul"
          ],
          [
           "psychedelic trance"
          ],
          [
           "psychill"
          ],
          [
           "psychobilly"
          ],
          [
           "pub rock"
          ],
          [
           "puerto rican folk"
          ],
          [
           "puerto rican pop"
          ],
          [
           "puerto rican rock"
          ],
          [
           "punjabi folk"
          ],
          [
           "punjabi hip hop"
          ],
          [
           "punjabi pop"
          ],
          [
           "punk"
          ],
          [
           "punk 'n' roll"
          ],
          [
           "punk blues"
          ],
          [
           "punk rock italiano"
          ],
          [
           "punk rock mexicano"
          ],
          [
           "punta"
          ],
          [
           "purple sound"
          ],
          [
           "qawwali"
          ],
          [
           "quartetto d'archi"
          ],
          [
           "quatuor a cordes"
          ],
          [
           "quebec death metal"
          ],
          [
           "quebec indie"
          ],
          [
           "queens hip hop"
          ],
          [
           "queer country"
          ],
          [
           "queercore"
          ],
          [
           "quiet storm"
          ],
          [
           "quran"
          ],
          [
           "r&b"
          ],
          [
           "r&b en espanol"
          ],
          [
           "rabindra sangeet"
          ],
          [
           "radio symphony"
          ],
          [
           "ragtime"
          ],
          [
           "rai"
          ],
          [
           "ranchera"
          ],
          [
           "rap"
          ],
          [
           "rap chileno"
          ],
          [
           "rap conciencia"
          ],
          [
           "rap conscient"
          ],
          [
           "rap cristiano"
          ],
          [
           "rap dominicano"
          ],
          [
           "rap kreyol"
          ],
          [
           "rap latina"
          ],
          [
           "rap metal"
          ],
          [
           "rap nacional antigo"
          ],
          [
           "rap napoletano"
          ],
          [
           "rap rock"
          ],
          [
           "rap underground mexicano"
          ],
          [
           "rare groove"
          ],
          [
           "rave"
          ],
          [
           "rawstyle"
          ],
          [
           "reading"
          ],
          [
           "reading indie"
          ],
          [
           "rebel blues"
          ],
          [
           "rebetiko"
          ],
          [
           "recorder"
          ],
          [
           "red dirt"
          ],
          [
           "redneck"
          ],
          [
           "reggae"
          ],
          [
           "reggae en espanol"
          ],
          [
           "reggae fusion"
          ],
          [
           "reggae rock"
          ],
          [
           "reggaeton"
          ],
          [
           "reggaeton colombiano"
          ],
          [
           "reggaeton cristiano"
          ],
          [
           "reggaeton flow"
          ],
          [
           "reggaeton mexicano"
          ],
          [
           "regional mexican"
          ],
          [
           "relaxative"
          ],
          [
           "renaissance"
          ],
          [
           "rennes indie"
          ],
          [
           "retro metal"
          ],
          [
           "retro soul"
          ],
          [
           "rhode island indie"
          ],
          [
           "rhode island rap"
          ],
          [
           "rhythm and blues"
          ],
          [
           "riddim"
          ],
          [
           "rif"
          ],
          [
           "riot grrrl"
          ],
          [
           "ritmo kombina"
          ],
          [
           "rochester mn indie"
          ],
          [
           "rochester ny indie"
          ],
          [
           "rock"
          ],
          [
           "rock alternatif francais"
          ],
          [
           "rock alternativo brasileiro"
          ],
          [
           "rock andaluz"
          ],
          [
           "rock baiano"
          ],
          [
           "rock brasiliense"
          ],
          [
           "rock chapin"
          ],
          [
           "rock cristiano"
          ],
          [
           "rock drums"
          ],
          [
           "rock en espanol"
          ],
          [
           "rock gaucho"
          ],
          [
           "rock independant francais"
          ],
          [
           "rock kapak"
          ],
          [
           "rock keyboard"
          ],
          [
           "rock nacional"
          ],
          [
           "rock nacional brasileiro"
          ],
          [
           "rock pernambucano"
          ],
          [
           "rock progressif francais"
          ],
          [
           "rock steady"
          ],
          [
           "rock urbano mexicano"
          ],
          [
           "rock-and-roll"
          ],
          [
           "rockabilly"
          ],
          [
           "rockabilly en espanol"
          ],
          [
           "roda de samba"
          ],
          [
           "romanian classical piano"
          ],
          [
           "romanian electronic"
          ],
          [
           "romanian folk"
          ],
          [
           "romanian pop"
          ],
          [
           "romanian rock"
          ],
          [
           "romantico"
          ],
          [
           "roots americana"
          ],
          [
           "roots reggae"
          ],
          [
           "roots rock"
          ],
          [
           "roots worship"
          ],
          [
           "rosary"
          ],
          [
           "rumba"
          ],
          [
           "rumba congolaise"
          ],
          [
           "rune folk"
          ],
          [
           "russian alternative rock"
          ],
          [
           "russian ccm"
          ],
          [
           "russian chanson"
          ],
          [
           "russian choir"
          ],
          [
           "russian classical piano"
          ],
          [
           "russian dance"
          ],
          [
           "russian edm"
          ],
          [
           "russian folk"
          ],
          [
           "russian folk rock"
          ],
          [
           "russian jazz"
          ],
          [
           "russian metal"
          ],
          [
           "russian metalcore"
          ],
          [
           "russian modern classical"
          ],
          [
           "russian orchestra"
          ],
          [
           "russian pop"
          ],
          [
           "russian post-punk"
          ],
          [
           "russian punk"
          ],
          [
           "russian rock"
          ],
          [
           "russian romanticism"
          ],
          [
           "russian shoegaze"
          ],
          [
           "russian trance"
          ],
          [
           "rva indie"
          ],
          [
           "rwandan traditional"
          ],
          [
           "ryukyu ongaku"
          ],
          [
           "sacramento hip hop"
          ],
          [
           "sacramento indie"
          ],
          [
           "sacred steel"
          ],
          [
           "sad rap"
          ],
          [
           "salsa"
          ],
          [
           "salsa choke"
          ],
          [
           "salsa colombiana"
          ],
          [
           "salsa cubana"
          ],
          [
           "salsa international"
          ],
          [
           "salsa peruana"
          ],
          [
           "salsa puertorriquena"
          ],
          [
           "salsa venezolana"
          ],
          [
           "samba"
          ],
          [
           "samba de roda"
          ],
          [
           "samba moderno"
          ],
          [
           "samba-enredo"
          ],
          [
           "samba-jazz"
          ],
          [
           "samba-rock"
          ],
          [
           "san antonio rap"
          ],
          [
           "san diego indie"
          ],
          [
           "san diego rap"
          ],
          [
           "san marcos tx indie"
          ],
          [
           "sandalwood"
          ],
          [
           "sarod"
          ],
          [
           "saskatchewan indie"
          ],
          [
           "scam rap"
          ],
          [
           "scandinavian r&b"
          ],
          [
           "scandipop"
          ],
          [
           "schlager"
          ],
          [
           "scorecore"
          ],
          [
           "scottish electronic"
          ],
          [
           "scottish fiddle"
          ],
          [
           "scottish folk"
          ],
          [
           "scottish hip hop"
          ],
          [
           "scottish indie"
          ],
          [
           "scottish jazz"
          ],
          [
           "scottish metal"
          ],
          [
           "scottish new wave"
          ],
          [
           "scottish rock"
          ],
          [
           "scottish singer-songwriter"
          ],
          [
           "scratch"
          ],
          [
           "scream rap"
          ],
          [
           "screamo"
          ],
          [
           "seattle hip hop"
          ],
          [
           "seattle indie"
          ],
          [
           "second line"
          ],
          [
           "sefardi"
          ],
          [
           "serbian electronic"
          ],
          [
           "serialism"
          ],
          [
           "sertanejo"
          ],
          [
           "sertanejo pop"
          ],
          [
           "sertanejo tradicional"
          ],
          [
           "sertanejo universitario"
          ],
          [
           "sevdah"
          ],
          [
           "sevillanas"
          ],
          [
           "shaabi"
          ],
          [
           "shabad"
          ],
          [
           "shakuhachi"
          ],
          [
           "shamanic"
          ],
          [
           "shanty"
          ],
          [
           "sheffield indie"
          ],
          [
           "shibuya-kei"
          ],
          [
           "shimmer pop"
          ],
          [
           "shimmer psych"
          ],
          [
           "shiver pop"
          ],
          [
           "shoegaze"
          ],
          [
           "show tunes"
          ],
          [
           "shred"
          ],
          [
           "shush"
          ],
          [
           "sierreno"
          ],
          [
           "singaporean mandopop"
          ],
          [
           "singaporean pop"
          ],
          [
           "singaporean singer-songwriter"
          ],
          [
           "singer-songwriter"
          ],
          [
           "singing bowl"
          ],
          [
           "sitar"
          ],
          [
           "ska"
          ],
          [
           "ska argentino"
          ],
          [
           "ska chileno"
          ],
          [
           "ska jazz"
          ],
          [
           "ska mexicano"
          ],
          [
           "ska punk"
          ],
          [
           "ska revival"
          ],
          [
           "skate punk"
          ],
          [
           "skiffle"
          ],
          [
           "skramz"
          ],
          [
           "sky room"
          ],
          [
           "slack-key guitar"
          ],
          [
           "slam poetry"
          ],
          [
           "slamming deathcore"
          ],
          [
           "slavic folk metal"
          ],
          [
           "slayer"
          ],
          [
           "slc indie"
          ],
          [
           "sleaze rock"
          ],
          [
           "sleep"
          ],
          [
           "slovak electronic"
          ],
          [
           "slovenian electronic"
          ],
          [
           "slovenian metal"
          ],
          [
           "slow game"
          ],
          [
           "slowcore"
          ],
          [
           "sludge metal"
          ],
          [
           "small room"
          ],
          [
           "smooth jazz"
          ],
          [
           "smooth saxophone"
          ],
          [
           "smooth soul"
          ],
          [
           "soca"
          ],
          [
           "socal pop punk"
          ],
          [
           "social media pop"
          ],
          [
           "soda pop"
          ],
          [
           "soft rock"
          ],
          [
           "solipsynthm"
          ],
          [
           "son cubano"
          ],
          [
           "son cubano clasico"
          ],
          [
           "son jarocho"
          ],
          [
           "sophisti-pop"
          ],
          [
           "sotalaulut"
          ],
          [
           "soukous"
          ],
          [
           "soul"
          ],
          [
           "soul blues"
          ],
          [
           "soul flow"
          ],
          [
           "soul jazz"
          ],
          [
           "souldies"
          ],
          [
           "sound"
          ],
          [
           "sound art"
          ],
          [
           "sound effects"
          ],
          [
           "sound team"
          ],
          [
           "soundtrack"
          ],
          [
           "south african alternative"
          ],
          [
           "south african choral"
          ],
          [
           "south african country"
          ],
          [
           "south african hip hop"
          ],
          [
           "south african house"
          ],
          [
           "south african jazz"
          ],
          [
           "south african pop"
          ],
          [
           "south african pop dance"
          ],
          [
           "south african rock"
          ],
          [
           "south carolina hip hop"
          ],
          [
           "south carolina indie"
          ],
          [
           "south carolina metal"
          ],
          [
           "south dakota indie"
          ],
          [
           "southampton indie"
          ],
          [
           "southern americana"
          ],
          [
           "southern gospel"
          ],
          [
           "southern hip hop"
          ],
          [
           "southern metal"
          ],
          [
           "southern rock"
          ],
          [
           "southern soul"
          ],
          [
           "southern soul blues"
          ],
          [
           "soviet synthpop"
          ],
          [
           "sovietwave"
          ],
          [
           "spa"
          ],
          [
           "space age pop"
          ],
          [
           "space ambient"
          ],
          [
           "space rock"
          ],
          [
           "spanish baroque"
          ],
          [
           "spanish classical"
          ],
          [
           "spanish classical piano"
          ],
          [
           "spanish folk metal"
          ],
          [
           "spanish hip hop"
          ],
          [
           "spanish indie pop"
          ],
          [
           "spanish invasion"
          ],
          [
           "spanish metal"
          ],
          [
           "spanish modern rock"
          ],
          [
           "spanish new wave"
          ],
          [
           "spanish noise pop"
          ],
          [
           "spanish pop"
          ],
          [
           "spanish pop rock"
          ],
          [
           "spanish renaissance"
          ],
          [
           "spanish rock"
          ],
          [
           "spanish synthpop"
          ],
          [
           "spanish techno"
          ],
          [
           "speed garage"
          ],
          [
           "speed metal"
          ],
          [
           "speedcore"
          ],
          [
           "spiritual hip hop"
          ],
          [
           "spiritual jazz"
          ],
          [
           "spirituals"
          ],
          [
           "springfield mo indie"
          ],
          [
           "spytrack"
          ],
          [
           "st louis rap"
          ],
          [
           "steampunk"
          ],
          [
           "steel guitar"
          ],
          [
           "steelpan"
          ],
          [
           "stl indie"
          ],
          [
           "stomp and flutter"
          ],
          [
           "stomp and holler"
          ],
          [
           "stomp and whittle"
          ],
          [
           "stomp pop"
          ],
          [
           "stoner metal"
          ],
          [
           "stoner rock"
          ],
          [
           "straight edge"
          ],
          [
           "straight-ahead jazz"
          ],
          [
           "street band"
          ],
          [
           "street punk"
          ],
          [
           "streichquartett"
          ],
          [
           "stride"
          ],
          [
           "string band"
          ],
          [
           "string folk"
          ],
          [
           "string orchestra"
          ],
          [
           "string quartet"
          ],
          [
           "strut"
          ],
          [
           "substep"
          ],
          [
           "sudanese pop"
          ],
          [
           "sufi"
          ],
          [
           "sufi chant"
          ],
          [
           "sunshine pop"
          ],
          [
           "supergroup"
          ],
          [
           "surf music"
          ],
          [
           "surf punk"
          ],
          [
           "svensk progg"
          ],
          [
           "swamp blues"
          ],
          [
           "swamp pop"
          ],
          [
           "swamp rock"
          ],
          [
           "swancore"
          ],
          [
           "swedish alternative rock"
          ],
          [
           "swedish americana"
          ],
          [
           "swedish black metal"
          ],
          [
           "swedish choir"
          ],
          [
           "swedish country"
          ],
          [
           "swedish dancehall"
          ],
          [
           "swedish death metal"
          ],
          [
           "swedish doom metal"
          ],
          [
           "swedish electronic"
          ],
          [
           "swedish electropop"
          ],
          [
           "swedish eurodance"
          ],
          [
           "swedish garage rock"
          ],
          [
           "swedish hard rock"
          ],
          [
           "swedish hardcore"
          ],
          [
           "swedish heavy metal"
          ],
          [
           "swedish house"
          ],
          [
           "swedish idol pop"
          ],
          [
           "swedish indie folk"
          ],
          [
           "swedish indie pop"
          ],
          [
           "swedish indie rock"
          ],
          [
           "swedish jazz"
          ],
          [
           "swedish jazz orkester"
          ],
          [
           "swedish melodic rock"
          ],
          [
           "swedish metal"
          ],
          [
           "swedish metalcore"
          ],
          [
           "swedish pop"
          ],
          [
           "swedish post-hardcore"
          ],
          [
           "swedish power metal"
          ],
          [
           "swedish prog"
          ],
          [
           "swedish progressive metal"
          ],
          [
           "swedish rock-and-roll"
          ],
          [
           "swedish singer-songwriter"
          ],
          [
           "swedish soul"
          ],
          [
           "swedish stoner rock"
          ],
          [
           "swedish synth"
          ],
          [
           "swedish synthpop"
          ],
          [
           "swedish tropical house"
          ],
          [
           "swedish underground rap"
          ],
          [
           "swing"
          ],
          [
           "swing italiano"
          ],
          [
           "swing revival"
          ],
          [
           "swiss black metal"
          ],
          [
           "swiss classical piano"
          ],
          [
           "swiss country"
          ],
          [
           "swiss metal"
          ],
          [
           "swiss pop"
          ],
          [
           "swiss rock"
          ],
          [
           "swiss worship"
          ],
          [
           "sydney indie"
          ],
          [
           "symphonic black metal"
          ],
          [
           "symphonic metal"
          ],
          [
           "symphonic rock"
          ],
          [
           "synth funk"
          ],
          [
           "synthpop"
          ],
          [
           "synthwave"
          ],
          [
           "syrian pop"
          ],
          [
           "tabla"
          ],
          [
           "tagalog rap"
          ],
          [
           "tagalog worship"
          ],
          [
           "taiwan campus folk"
          ],
          [
           "taiwan classical performance"
          ],
          [
           "taiwan hip hop"
          ],
          [
           "taiwan indie"
          ],
          [
           "taiwan pop"
          ],
          [
           "taiwan singer-songwriter"
          ],
          [
           "tajik pop"
          ],
          [
           "talent show"
          ],
          [
           "tamaulipas indie"
          ],
          [
           "tamaulipas rap"
          ],
          [
           "tamborazo"
          ],
          [
           "tamil hip hop"
          ],
          [
           "tamil pop"
          ],
          [
           "tamil worship"
          ],
          [
           "tampa indie"
          ],
          [
           "tango"
          ],
          [
           "tango cancion"
          ],
          [
           "tape club"
          ],
          [
           "tech house"
          ],
          [
           "technical death metal"
          ],
          [
           "technical deathcore"
          ],
          [
           "technical groove metal"
          ],
          [
           "technical melodic death metal"
          ],
          [
           "technical thrash"
          ],
          [
           "techno"
          ],
          [
           "techno kayo"
          ],
          [
           "tecnobanda"
          ],
          [
           "teen pop"
          ],
          [
           "tejano"
          ],
          [
           "tempe indie"
          ],
          [
           "tennessee hip hop"
          ],
          [
           "tennessee metal"
          ],
          [
           "tex-mex"
          ],
          [
           "texas blues"
          ],
          [
           "texas country"
          ],
          [
           "texas latin rap"
          ],
          [
           "texas pop punk"
          ],
          [
           "texas punk"
          ],
          [
           "thai folk"
          ],
          [
           "thai folk rock"
          ],
          [
           "thai idol"
          ],
          [
           "thai indie rock"
          ],
          [
           "thai pop"
          ],
          [
           "thall"
          ],
          [
           "theme"
          ],
          [
           "theremin"
          ],
          [
           "thrash core"
          ],
          [
           "thrash metal"
          ],
          [
           "timba"
          ],
          [
           "tin pan alley"
          ],
          [
           "tipico"
          ],
          [
           "tolkien metal"
          ],
          [
           "tollywood"
          ],
          [
           "tone"
          ],
          [
           "torch song"
          ],
          [
           "toronto indie"
          ],
          [
           "toronto rap"
          ],
          [
           "trad jazz catala"
          ],
          [
           "traditional bluegrass"
          ],
          [
           "traditional blues"
          ],
          [
           "traditional british folk"
          ],
          [
           "traditional country"
          ],
          [
           "traditional folk"
          ],
          [
           "traditional funk"
          ],
          [
           "traditional rockabilly"
          ],
          [
           "traditional ska"
          ],
          [
           "traditional soul"
          ],
          [
           "trance"
          ],
          [
           "trance mexicano"
          ],
          [
           "trancecore"
          ],
          [
           "transpop"
          ],
          [
           "trap"
          ],
          [
           "trap argentino"
          ],
          [
           "trap chileno"
          ],
          [
           "trap dominicano"
          ],
          [
           "trap latino"
          ],
          [
           "trap mexicano"
          ],
          [
           "trap queen"
          ],
          [
           "trap soul"
          ],
          [
           "trap triste"
          ],
          [
           "trap venezolano"
          ],
          [
           "traprun"
          ],
          [
           "trash rock"
          ],
          [
           "triangle indie"
          ],
          [
           "tribal house"
          ],
          [
           "trinidadian reggae"
          ],
          [
           "trio cubano"
          ],
          [
           "trip hop"
          ],
          [
           "trival"
          ],
          [
           "tropical"
          ],
          [
           "tropical house"
          ],
          [
           "tropicalia"
          ],
          [
           "trova"
          ],
          [
           "trova mexicana"
          ],
          [
           "truck-driving country"
          ],
          [
           "tuareg guitar"
          ],
          [
           "tucson indie"
          ],
          [
           "tulsa indie"
          ],
          [
           "tuna estudiantil"
          ],
          [
           "tunisian pop"
          ],
          [
           "turbo folk"
          ],
          [
           "turkish classical"
          ],
          [
           "turkish classical performance"
          ],
          [
           "turkish edm"
          ],
          [
           "turkish experimental"
          ],
          [
           "turkish folk"
          ],
          [
           "turkish jazz"
          ],
          [
           "turkish modern jazz"
          ],
          [
           "turkish pop"
          ],
          [
           "turkish psych"
          ],
          [
           "turkish trap"
          ],
          [
           "turkish trap pop"
          ],
          [
           "turntablism"
          ],
          [
           "twee pop"
          ],
          [
           "twoubadou"
          ],
          [
           "tzadik"
          ],
          [
           "ugandan pop"
          ],
          [
           "uilleann pipes"
          ],
          [
           "uk alternative hip hop"
          ],
          [
           "uk alternative pop"
          ],
          [
           "uk americana"
          ],
          [
           "uk contemporary jazz"
          ],
          [
           "uk contemporary r&b"
          ],
          [
           "uk dance"
          ],
          [
           "uk dancehall"
          ],
          [
           "uk diy punk"
          ],
          [
           "uk dnb"
          ],
          [
           "uk doom metal"
          ],
          [
           "uk dub"
          ],
          [
           "uk experimental electronic"
          ],
          [
           "uk funky"
          ],
          [
           "uk garage"
          ],
          [
           "uk hip hop"
          ],
          [
           "uk house"
          ],
          [
           "uk metalcore"
          ],
          [
           "uk noise rock"
          ],
          [
           "uk pop"
          ],
          [
           "uk pop punk"
          ],
          [
           "uk post-hardcore"
          ],
          [
           "uk post-punk"
          ],
          [
           "uk reggae"
          ],
          [
           "uk rockabilly"
          ],
          [
           "uk stoner rock"
          ],
          [
           "uk worship"
          ],
          [
           "uk82"
          ],
          [
           "ukrainian choir"
          ],
          [
           "ukrainian classical"
          ],
          [
           "ukrainian classical piano"
          ],
          [
           "ukrainian electronic"
          ],
          [
           "ukrainian pop"
          ],
          [
           "ukulele"
          ],
          [
           "umbanda"
          ],
          [
           "underground hip hop"
          ],
          [
           "underground power pop"
          ],
          [
           "underground rap"
          ],
          [
           "university choir"
          ],
          [
           "uplifting trance"
          ],
          [
           "uptempo hardcore"
          ],
          [
           "urban contemporary"
          ],
          [
           "urbano espanol"
          ],
          [
           "us power metal"
          ],
          [
           "utah indie"
          ],
          [
           "uzbek pop"
          ],
          [
           "uzbek traditional"
          ],
          [
           "v-pop"
          ],
          [
           "vallenato"
          ],
          [
           "vallenato moderno"
          ],
          [
           "vancouver indie"
          ],
          [
           "vancouver metal"
          ],
          [
           "vancouver punk"
          ],
          [
           "vapor pop"
          ],
          [
           "vapor soul"
          ],
          [
           "vapor trap"
          ],
          [
           "vapor twitch"
          ],
          [
           "vaporwave"
          ],
          [
           "variete francaise"
          ],
          [
           "vaudeville"
          ],
          [
           "vbs"
          ],
          [
           "veena"
          ],
          [
           "vegan straight edge"
          ],
          [
           "vegas indie"
          ],
          [
           "velha guarda"
          ],
          [
           "venezuelan hip hop"
          ],
          [
           "venezuelan indie"
          ],
          [
           "venezuelan rock"
          ],
          [
           "veracruz indie"
          ],
          [
           "vermont indie"
          ],
          [
           "vgm instrumental"
          ],
          [
           "vgm remix"
          ],
          [
           "victoria bc indie"
          ],
          [
           "victorian britain"
          ],
          [
           "video game music"
          ],
          [
           "vienna indie"
          ],
          [
           "vietnamese bolero"
          ],
          [
           "vietnamese pop"
          ],
          [
           "viking black metal"
          ],
          [
           "viking folk"
          ],
          [
           "viking metal"
          ],
          [
           "villancicos"
          ],
          [
           "vintage chanson"
          ],
          [
           "vintage chinese pop"
          ],
          [
           "vintage classical singing"
          ],
          [
           "vintage country folk"
          ],
          [
           "vintage dutch pop"
          ],
          [
           "vintage french electronic"
          ],
          [
           "vintage gospel"
          ],
          [
           "vintage hollywood"
          ],
          [
           "vintage italian pop"
          ],
          [
           "vintage italian soundtrack"
          ],
          [
           "vintage jazz"
          ],
          [
           "vintage old-time"
          ],
          [
           "vintage rockabilly"
          ],
          [
           "vintage schlager"
          ],
          [
           "vintage spanish pop"
          ],
          [
           "vintage swedish pop"
          ],
          [
           "vintage swing"
          ],
          [
           "vintage tango"
          ],
          [
           "viola"
          ],
          [
           "violao"
          ],
          [
           "violao classico"
          ],
          [
           "violin"
          ],
          [
           "viral pop"
          ],
          [
           "viral rap"
          ],
          [
           "viral trap"
          ],
          [
           "virgin islands reggae"
          ],
          [
           "virginia hip hop"
          ],
          [
           "virginia metal"
          ],
          [
           "virginia punk"
          ],
          [
           "visor"
          ],
          [
           "visual kei"
          ],
          [
           "vocal ensemble"
          ],
          [
           "vocal harmony group"
          ],
          [
           "vocal house"
          ],
          [
           "vocal jazz"
          ],
          [
           "vocal trance"
          ],
          [
           "vocaloid"
          ],
          [
           "vogue"
          ],
          [
           "volksmusik"
          ],
          [
           "warm drone"
          ],
          [
           "washboard"
          ],
          [
           "washington indie"
          ],
          [
           "wassoulou"
          ],
          [
           "water"
          ],
          [
           "wave"
          ],
          [
           "welsh folk"
          ],
          [
           "welsh indie"
          ],
          [
           "welsh metal"
          ],
          [
           "welsh rock"
          ],
          [
           "west african jazz"
          ],
          [
           "west australian hip hop"
          ],
          [
           "west coast rap"
          ],
          [
           "west coast reggae"
          ],
          [
           "west coast trap"
          ],
          [
           "west end"
          ],
          [
           "west virginia indie"
          ],
          [
           "western americana"
          ],
          [
           "western mass indie"
          ],
          [
           "western saharan folk"
          ],
          [
           "western swing"
          ],
          [
           "white noise"
          ],
          [
           "wind ensemble"
          ],
          [
           "wind quintet"
          ],
          [
           "wisconsin indie"
          ],
          [
           "witch house"
          ],
          [
           "women's choir"
          ],
          [
           "women's music"
          ],
          [
           "wonky"
          ],
          [
           "worcester ma indie"
          ],
          [
           "world"
          ],
          [
           "world fusion"
          ],
          [
           "world meditation"
          ],
          [
           "world worship"
          ],
          [
           "worship"
          ],
          [
           "wrestling"
          ],
          [
           "wu fam"
          ],
          [
           "wyoming indie"
          ],
          [
           "wyoming roots"
          ],
          [
           "xhosa"
          ],
          [
           "xtra raw"
          ],
          [
           "yacht rock"
          ],
          [
           "ye ye"
          ],
          [
           "yiddish folk"
          ],
          [
           "yodeling"
          ],
          [
           "yoga"
          ],
          [
           "yoik"
          ],
          [
           "york indie"
          ],
          [
           "yorkshire folk"
          ],
          [
           "yugoslav new wave"
          ],
          [
           "yugoslav rock"
          ],
          [
           "zambian pop"
          ],
          [
           "zeuhl"
          ],
          [
           "zhongguo feng"
          ],
          [
           "zimdancehall"
          ],
          [
           "zolo"
          ],
          [
           "zouglou"
          ],
          [
           "zouk"
          ],
          [
           "zurich indie"
          ],
          [
           "zydeco"
          ]
         ],
         "hovertemplate": "x=%{x}<br>y=%{y}<br>generos=%{customdata[0]}<br>cluster_pca=%{marker.color}<extra></extra>",
         "legendgroup": "",
         "marker": {
          "color": [
           3,
           3,
           4,
           1,
           1,
           2,
           2,
           4,
           1,
           1,
           0,
           2,
           0,
           3,
           1,
           2,
           4,
           2,
           0,
           2,
           1,
           1,
           4,
           1,
           2,
           4,
           4,
           3,
           4,
           4,
           4,
           4,
           4,
           2,
           2,
           0,
           2,
           4,
           0,
           2,
           0,
           4,
           4,
           4,
           2,
           4,
           4,
           2,
           4,
           0,
           4,
           2,
           2,
           0,
           0,
           4,
           0,
           0,
           4,
           4,
           0,
           2,
           4,
           3,
           0,
           2,
           0,
           0,
           2,
           3,
           2,
           2,
           3,
           3,
           3,
           3,
           3,
           1,
           0,
           3,
           2,
           3,
           2,
           3,
           3,
           0,
           1,
           0,
           3,
           4,
           0,
           0,
           0,
           2,
           2,
           0,
           0,
           2,
           1,
           4,
           1,
           3,
           2,
           2,
           2,
           2,
           3,
           2,
           4,
           0,
           4,
           2,
           4,
           4,
           4,
           4,
           4,
           0,
           2,
           4,
           2,
           3,
           2,
           4,
           2,
           3,
           4,
           2,
           4,
           3,
           2,
           4,
           4,
           4,
           0,
           4,
           3,
           0,
           4,
           0,
           4,
           0,
           0,
           1,
           0,
           2,
           2,
           4,
           2,
           4,
           3,
           4,
           3,
           3,
           3,
           2,
           0,
           0,
           4,
           4,
           0,
           0,
           2,
           0,
           4,
           0,
           0,
           4,
           4,
           2,
           0,
           2,
           2,
           4,
           4,
           0,
           2,
           4,
           4,
           3,
           3,
           3,
           2,
           3,
           4,
           1,
           0,
           3,
           3,
           0,
           4,
           1,
           4,
           4,
           4,
           4,
           3,
           3,
           1,
           2,
           1,
           4,
           1,
           1,
           1,
           0,
           2,
           3,
           3,
           1,
           3,
           4,
           0,
           4,
           4,
           4,
           1,
           1,
           1,
           1,
           2,
           3,
           4,
           1,
           1,
           1,
           3,
           3,
           3,
           3,
           2,
           3,
           3,
           1,
           4,
           2,
           0,
           4,
           4,
           0,
           4,
           4,
           4,
           4,
           0,
           4,
           4,
           1,
           2,
           1,
           4,
           2,
           1,
           2,
           4,
           0,
           0,
           0,
           3,
           3,
           0,
           0,
           4,
           2,
           0,
           1,
           0,
           4,
           2,
           2,
           2,
           2,
           1,
           4,
           4,
           2,
           3,
           1,
           4,
           3,
           1,
           0,
           0,
           3,
           3,
           4,
           4,
           0,
           0,
           0,
           4,
           0,
           0,
           0,
           0,
           2,
           0,
           2,
           1,
           2,
           1,
           0,
           0,
           2,
           4,
           1,
           1,
           4,
           4,
           1,
           4,
           4,
           1,
           1,
           2,
           4,
           4,
           4,
           0,
           0,
           2,
           4,
           4,
           1,
           2,
           4,
           4,
           3,
           3,
           3,
           2,
           3,
           3,
           4,
           3,
           3,
           3,
           4,
           0,
           4,
           1,
           1,
           0,
           1,
           1,
           4,
           4,
           4,
           0,
           4,
           0,
           0,
           4,
           2,
           3,
           2,
           2,
           0,
           0,
           0,
           4,
           0,
           0,
           2,
           4,
           3,
           3,
           4,
           3,
           1,
           0,
           2,
           1,
           0,
           0,
           2,
           2,
           2,
           3,
           3,
           2,
           0,
           2,
           4,
           3,
           0,
           2,
           2,
           4,
           4,
           4,
           0,
           0,
           4,
           0,
           2,
           4,
           4,
           4,
           2,
           0,
           3,
           1,
           1,
           2,
           2,
           1,
           4,
           0,
           4,
           3,
           1,
           4,
           3,
           2,
           4,
           1,
           4,
           0,
           4,
           1,
           3,
           3,
           3,
           1,
           4,
           2,
           2,
           0,
           4,
           3,
           1,
           0,
           4,
           0,
           2,
           1,
           2,
           4,
           4,
           0,
           0,
           2,
           4,
           0,
           0,
           3,
           2,
           0,
           0,
           4,
           2,
           3,
           2,
           0,
           2,
           2,
           2,
           1,
           2,
           2,
           1,
           1,
           0,
           1,
           1,
           4,
           1,
           1,
           1,
           4,
           3,
           3,
           3,
           0,
           4,
           3,
           1,
           3,
           0,
           4,
           4,
           1,
           3,
           1,
           3,
           3,
           2,
           3,
           2,
           2,
           0,
           4,
           2,
           2,
           4,
           0,
           1,
           4,
           4,
           0,
           1,
           1,
           4,
           0,
           4,
           0,
           0,
           0,
           4,
           2,
           0,
           4,
           4,
           4,
           1,
           1,
           4,
           1,
           4,
           2,
           2,
           4,
           0,
           3,
           1,
           2,
           1,
           4,
           1,
           0,
           2,
           2,
           3,
           3,
           3,
           0,
           0,
           4,
           2,
           0,
           3,
           2,
           2,
           3,
           3,
           3,
           4,
           3,
           1,
           2,
           1,
           2,
           0,
           4,
           0,
           4,
           4,
           2,
           0,
           0,
           2,
           0,
           0,
           4,
           3,
           0,
           4,
           2,
           3,
           2,
           4,
           4,
           4,
           0,
           0,
           2,
           4,
           1,
           1,
           4,
           4,
           1,
           4,
           2,
           1,
           1,
           1,
           1,
           0,
           1,
           4,
           4,
           4,
           2,
           1,
           0,
           0,
           0,
           1,
           2,
           1,
           2,
           0,
           1,
           1,
           1,
           2,
           4,
           2,
           1,
           2,
           4,
           1,
           2,
           2,
           4,
           2,
           1,
           0,
           1,
           2,
           3,
           4,
           4,
           4,
           2,
           2,
           4,
           3,
           2,
           3,
           3,
           3,
           3,
           3,
           3,
           3,
           3,
           3,
           3,
           3,
           1,
           3,
           3,
           3,
           3,
           3,
           3,
           3,
           2,
           3,
           3,
           3,
           1,
           1,
           4,
           0,
           4,
           4,
           4,
           4,
           4,
           4,
           4,
           4,
           4,
           1,
           4,
           0,
           2,
           0,
           3,
           4,
           3,
           0,
           0,
           4,
           3,
           3,
           3,
           4,
           2,
           2,
           3,
           1,
           1,
           3,
           1,
           1,
           1,
           0,
           4,
           4,
           4,
           0,
           2,
           3,
           4,
           1,
           1,
           2,
           1,
           4,
           4,
           4,
           2,
           1,
           1,
           4,
           4,
           2,
           4,
           4,
           0,
           4,
           0,
           4,
           4,
           4,
           1,
           4,
           4,
           4,
           4,
           4,
           4,
           4,
           4,
           4,
           1,
           4,
           1,
           4,
           4,
           4,
           4,
           0,
           0,
           1,
           3,
           3,
           1,
           0,
           1,
           4,
           4,
           4,
           4,
           0,
           4,
           0,
           0,
           3,
           0,
           3,
           4,
           3,
           0,
           4,
           2,
           0,
           4,
           0,
           0,
           1,
           4,
           1,
           4,
           4,
           0,
           4,
           0,
           3,
           2,
           0,
           2,
           4,
           0,
           0,
           0,
           0,
           2,
           0,
           0,
           0,
           4,
           0,
           0,
           0,
           0,
           4,
           1,
           0,
           0,
           2,
           4,
           1,
           2,
           4,
           1,
           4,
           2,
           0,
           4,
           4,
           4,
           1,
           4,
           0,
           4,
           4,
           0,
           4,
           4,
           3,
           1,
           0,
           1,
           2,
           0,
           2,
           1,
           2,
           4,
           4,
           3,
           0,
           0,
           0,
           4,
           0,
           4,
           4,
           2,
           2,
           2,
           3,
           1,
           4,
           2,
           4,
           2,
           2,
           4,
           4,
           0,
           1,
           4,
           4,
           4,
           4,
           2,
           4,
           2,
           4,
           4,
           0,
           4,
           2,
           0,
           4,
           2,
           1,
           2,
           4,
           1,
           0,
           3,
           4,
           4,
           4,
           4,
           1,
           4,
           1,
           0,
           0,
           4,
           4,
           4,
           1,
           0,
           0,
           2,
           1,
           2,
           0,
           0,
           0,
           3,
           4,
           2,
           3,
           3,
           0,
           0,
           4,
           0,
           4,
           3,
           0,
           2,
           3,
           2,
           1,
           1,
           0,
           4,
           2,
           0,
           1,
           3,
           0,
           0,
           4,
           1,
           4,
           0,
           1,
           3,
           0,
           4,
           0,
           4,
           2,
           0,
           2,
           1,
           1,
           3,
           3,
           3,
           3,
           4,
           3,
           2,
           0,
           4,
           4,
           2,
           1,
           4,
           2,
           0,
           3,
           2,
           4,
           0,
           4,
           4,
           1,
           0,
           0,
           1,
           2,
           4,
           0,
           2,
           4,
           4,
           0,
           2,
           0,
           4,
           0,
           0,
           0,
           2,
           4,
           4,
           4,
           0,
           0,
           0,
           4,
           0,
           3,
           0,
           3,
           2,
           1,
           3,
           0,
           2,
           1,
           4,
           3,
           0,
           1,
           4,
           2,
           2,
           2,
           3,
           1,
           2,
           4,
           0,
           0,
           4,
           4,
           4,
           4,
           1,
           2,
           3,
           3,
           4,
           4,
           3,
           2,
           4,
           0,
           3,
           2,
           2,
           1,
           1,
           2,
           1,
           0,
           4,
           1,
           4,
           0,
           2,
           3,
           0,
           3,
           3,
           0,
           0,
           0,
           0,
           0,
           0,
           4,
           2,
           2,
           3,
           4,
           2,
           0,
           4,
           0,
           2,
           3,
           4,
           0,
           4,
           4,
           1,
           1,
           1,
           1,
           2,
           2,
           0,
           4,
           2,
           2,
           2,
           2,
           4,
           1,
           1,
           4,
           4,
           4,
           1,
           2,
           2,
           4,
           4,
           0,
           3,
           4,
           2,
           2,
           2,
           3,
           3,
           4,
           3,
           3,
           1,
           0,
           0,
           4,
           2,
           2,
           0,
           1,
           0,
           1,
           3,
           3,
           2,
           4,
           0,
           4,
           4,
           3,
           0,
           1,
           4,
           0,
           0,
           0,
           4,
           0,
           2,
           1,
           4,
           4,
           0,
           0,
           1,
           4,
           4,
           4,
           4,
           0,
           0,
           4,
           2,
           4,
           0,
           2,
           4,
           0,
           2,
           0,
           0,
           4,
           1,
           3,
           0,
           0,
           4,
           4,
           0,
           2,
           0,
           2,
           0,
           4,
           0,
           2,
           2,
           4,
           2,
           0,
           3,
           3,
           3,
           2,
           4,
           0,
           0,
           4,
           4,
           3,
           1,
           0,
           0,
           3,
           3,
           4,
           4,
           4,
           0,
           4,
           3,
           0,
           3,
           3,
           3,
           0,
           0,
           0,
           4,
           4,
           1,
           1,
           0,
           4,
           0,
           0,
           2,
           4,
           0,
           0,
           0,
           4,
           4,
           0,
           2,
           1,
           1,
           1,
           2,
           4,
           1,
           2,
           0,
           2,
           0,
           4,
           4,
           0,
           0,
           2,
           0,
           0,
           4,
           4,
           0,
           1,
           3,
           1,
           1,
           0,
           3,
           1,
           1,
           3,
           4,
           0,
           2,
           0,
           4,
           0,
           0,
           4,
           4,
           4,
           4,
           0,
           0,
           1,
           2,
           1,
           3,
           1,
           1,
           1,
           3,
           0,
           1,
           1,
           2,
           1,
           4,
           4,
           4,
           3,
           2,
           4,
           3,
           0,
           0,
           1,
           2,
           0,
           4,
           0,
           4,
           0,
           0,
           0,
           4,
           1,
           1,
           1,
           3,
           3,
           3,
           3,
           1,
           4,
           4,
           3,
           4,
           4,
           4,
           2,
           4,
           3,
           3,
           1,
           4,
           4,
           4,
           4,
           4,
           3,
           3,
           3,
           3,
           3,
           3,
           3,
           1,
           2,
           2,
           4,
           2,
           2,
           1,
           1,
           4,
           0,
           3,
           4,
           4,
           4,
           4,
           4,
           1,
           4,
           3,
           3,
           3,
           3,
           2,
           1,
           1,
           1,
           2,
           2,
           4,
           4,
           3,
           0,
           3,
           2,
           2,
           2,
           2,
           2,
           2,
           2,
           0,
           2,
           1,
           3,
           1,
           4,
           4,
           3,
           4,
           1,
           1,
           4,
           2,
           2,
           1,
           2,
           3,
           4,
           2,
           2,
           2,
           4,
           2,
           2,
           4,
           4,
           2,
           0,
           2,
           4,
           2,
           0,
           4,
           0,
           2,
           2,
           0,
           1,
           2,
           0,
           4,
           0,
           2,
           4,
           3,
           2,
           2,
           4,
           0,
           0,
           2,
           1,
           1,
           2,
           4,
           0,
           0,
           0,
           0,
           2,
           0,
           2,
           2,
           4,
           4,
           1,
           2,
           3,
           2,
           2,
           1,
           1,
           4,
           3,
           0,
           2,
           1,
           0,
           1,
           4,
           1,
           1,
           3,
           3,
           1,
           4,
           0,
           4,
           2,
           2,
           2,
           2,
           3,
           3,
           3,
           3,
           0,
           3,
           3,
           2,
           4,
           0,
           0,
           4,
           3,
           2,
           3,
           0,
           3,
           0,
           3,
           3,
           2,
           0,
           2,
           0,
           3,
           3,
           3,
           3,
           2,
           1,
           1,
           4,
           4,
           0,
           3,
           2,
           0,
           4,
           0,
           0,
           0,
           4,
           0,
           0,
           4,
           0,
           0,
           2,
           2,
           4,
           4,
           0,
           1,
           4,
           3,
           3,
           3,
           3,
           0,
           3,
           4,
           0,
           2,
           2,
           4,
           0,
           0,
           3,
           1,
           4,
           2,
           1,
           2,
           0,
           0,
           2,
           0,
           0,
           0,
           0,
           2,
           0,
           0,
           4,
           4,
           0,
           2,
           3,
           2,
           2,
           4,
           1,
           1,
           1,
           4,
           1,
           1,
           1,
           2,
           1,
           3,
           1,
           1,
           2,
           2,
           1,
           1,
           0,
           3,
           1,
           2,
           1,
           2,
           1,
           4,
           2,
           1,
           3,
           1,
           1,
           1,
           1,
           1,
           1,
           2,
           3,
           4,
           2,
           4,
           4,
           2,
           1,
           4,
           1,
           0,
           4,
           4,
           4,
           4,
           4,
           1,
           1,
           4,
           1,
           4,
           1,
           0,
           0,
           2,
           0,
           2,
           4,
           2,
           4,
           1,
           4,
           4,
           1,
           3,
           4,
           4,
           1,
           4,
           3,
           2,
           2,
           1,
           1,
           4,
           3,
           3,
           3,
           2,
           1,
           3,
           3,
           0,
           4,
           4,
           4,
           4,
           3,
           3,
           1,
           4,
           0,
           3,
           4,
           1,
           2,
           2,
           3,
           4,
           4,
           4,
           3,
           4,
           2,
           1,
           4,
           4,
           4,
           4,
           0,
           4,
           4,
           4,
           1,
           4,
           4,
           4,
           2,
           4,
           4,
           4,
           4,
           1,
           3,
           2,
           2,
           0,
           4,
           4,
           1,
           2,
           3,
           2,
           0,
           2,
           2,
           0,
           1,
           4,
           2,
           1,
           4,
           1,
           2,
           2,
           1,
           2,
           2,
           4,
           1,
           0,
           0,
           0,
           1,
           2,
           4,
           3,
           2,
           1,
           2,
           0,
           3,
           1,
           4,
           2,
           2,
           4,
           2,
           0,
           2,
           3,
           0,
           1,
           4,
           0,
           2,
           2,
           2,
           4,
           1,
           2,
           1,
           4,
           1,
           1,
           2,
           2,
           4,
           2,
           4,
           2,
           0,
           2,
           3,
           2,
           0,
           3,
           2,
           4,
           4,
           0,
           2,
           0,
           0,
           0,
           0,
           0,
           0,
           0,
           0,
           0,
           4,
           0,
           4,
           2,
           1,
           4,
           0,
           2,
           1,
           4,
           4,
           2,
           1,
           0,
           0,
           0,
           0,
           0,
           2,
           3,
           4,
           0,
           4,
           0,
           4,
           1,
           4,
           4,
           4,
           4,
           4,
           0,
           4,
           2,
           3,
           3,
           2,
           3,
           2,
           0,
           1,
           4,
           2,
           3,
           2,
           0,
           4,
           2,
           0,
           3,
           2,
           0,
           0,
           4,
           4,
           4,
           2,
           3,
           0,
           2,
           0,
           2,
           2,
           0,
           4,
           4,
           0,
           2,
           2,
           4,
           2,
           3,
           3,
           4,
           3,
           0,
           4,
           4,
           0,
           4,
           4,
           4,
           3,
           0,
           0,
           3,
           4,
           1,
           1,
           1,
           2,
           4,
           3,
           4,
           1,
           1,
           2,
           1,
           1,
           2,
           1,
           1,
           4,
           2,
           2,
           4,
           3,
           0,
           4,
           4,
           2,
           4,
           2,
           3,
           1,
           4,
           1,
           1,
           4,
           4,
           1,
           4,
           1,
           1,
           1,
           4,
           2,
           4,
           4,
           1,
           1,
           1,
           4,
           2,
           1,
           0,
           0,
           4,
           3,
           2,
           1,
           1,
           0,
           0,
           2,
           2,
           4,
           0,
           2,
           1,
           3,
           4,
           3,
           4,
           3,
           1,
           0,
           2,
           0,
           1,
           2,
           4,
           4,
           3,
           2,
           1,
           2,
           0,
           4,
           2,
           0,
           0,
           2,
           2,
           2,
           3,
           2,
           4,
           2,
           1,
           1,
           2,
           0,
           0,
           4,
           0,
           3,
           3,
           2,
           4,
           4,
           2,
           0,
           2,
           3,
           4,
           0,
           2,
           0,
           4,
           1,
           1,
           4,
           4,
           1,
           4,
           0,
           4,
           2,
           4,
           0,
           4,
           2,
           0,
           4,
           3,
           0,
           0,
           4,
           4,
           0,
           0,
           2,
           0,
           1,
           4,
           2,
           0,
           0,
           0,
           3,
           3,
           2,
           4,
           3,
           2,
           3,
           1,
           0,
           4,
           4,
           0,
           4,
           2,
           0,
           2,
           0,
           4,
           0,
           4,
           0,
           3,
           3,
           3,
           0,
           3,
           4,
           2,
           3,
           0,
           0,
           0,
           0,
           0,
           2,
           0,
           2,
           4,
           2,
           2,
           4,
           4,
           3,
           4,
           0,
           2,
           0,
           0,
           4,
           0,
           1,
           2,
           2,
           2,
           2,
           1,
           4,
           1,
           1,
           0,
           0,
           4,
           4,
           4,
           0,
           3,
           2,
           4,
           2,
           4,
           4,
           0,
           2,
           4,
           4,
           0,
           4,
           3,
           4,
           2,
           0,
           4,
           2,
           4,
           2,
           4,
           4,
           4,
           0,
           4,
           2,
           1,
           1,
           2,
           0,
           4,
           2,
           3,
           3,
           0,
           3,
           3,
           2,
           3,
           3,
           3,
           0,
           3,
           0,
           2,
           0,
           3,
           3,
           1,
           1,
           3,
           4,
           0,
           4,
           4,
           4,
           1,
           4,
           2,
           2,
           3,
           3,
           0,
           4,
           0,
           4,
           4,
           0,
           1,
           4,
           1,
           2,
           2,
           4,
           4,
           3,
           2,
           4,
           4,
           4,
           1,
           2,
           4,
           2,
           1,
           0,
           4,
           4,
           1,
           0,
           4,
           2,
           4,
           4,
           4,
           1,
           3,
           2,
           2,
           3,
           1,
           4,
           0,
           0,
           0,
           1,
           2,
           0,
           2,
           4,
           4,
           4,
           4,
           4,
           0,
           0,
           1,
           3,
           4,
           3,
           3,
           3,
           3,
           3,
           1,
           0,
           1,
           4,
           4,
           1,
           4,
           4,
           3,
           4,
           4,
           4,
           2,
           4,
           0,
           4,
           0,
           4,
           2,
           4,
           4,
           2,
           4,
           0,
           2,
           4,
           4,
           4,
           4,
           0,
           2,
           2,
           4,
           2,
           4,
           4,
           3,
           0,
           1,
           4,
           2,
           2,
           0,
           2,
           3,
           4,
           4,
           0,
           0,
           0,
           0,
           3,
           0,
           2,
           2,
           3,
           3,
           0,
           4,
           0,
           4,
           0,
           0,
           2,
           3,
           4,
           2,
           2,
           2,
           0,
           0,
           0,
           0,
           0,
           0,
           0,
           0,
           0,
           0,
           2,
           0,
           0,
           2,
           0,
           1,
           0,
           2,
           1,
           2,
           0,
           2,
           0,
           1,
           2,
           4,
           2,
           0,
           2,
           2,
           0,
           0,
           0,
           4,
           1,
           2,
           4,
           1,
           4,
           4,
           0,
           0,
           0,
           4,
           0,
           4,
           4,
           1,
           3,
           3,
           0,
           2,
           4,
           4,
           4,
           2,
           1,
           4,
           4,
           1,
           3,
           1,
           2,
           2,
           4,
           4,
           4,
           4,
           2,
           4,
           4,
           4,
           0,
           4,
           3,
           0,
           4,
           2,
           0,
           0,
           1,
           0,
           4,
           1,
           1,
           0,
           4,
           4,
           4,
           4,
           4,
           4,
           4,
           0,
           4,
           4,
           4,
           1,
           3,
           4,
           0,
           4,
           2,
           4,
           1,
           4,
           2,
           0,
           4,
           0,
           4,
           0,
           4,
           4,
           4,
           4,
           2,
           0,
           0,
           2,
           4,
           0,
           0,
           4,
           2,
           2,
           4,
           1,
           2,
           4,
           0,
           2,
           4,
           4,
           1,
           3,
           2,
           3,
           4,
           1,
           2,
           2,
           4,
           2,
           2,
           1,
           2,
           2,
           2,
           0,
           0,
           1,
           3,
           3,
           0,
           0,
           1,
           2,
           1,
           0,
           0,
           3,
           3,
           4,
           0,
           2,
           2,
           3,
           2,
           0,
           4,
           3,
           1,
           4,
           0,
           4,
           4,
           4,
           4,
           4,
           4,
           4,
           4,
           4,
           2,
           1,
           1,
           4,
           4,
           1,
           4,
           4,
           0,
           4,
           2,
           1,
           3,
           1,
           4,
           2,
           4,
           2,
           3,
           4,
           3,
           2,
           4,
           2,
           1,
           4,
           4,
           4,
           4,
           4,
           4,
           0,
           4,
           2,
           4,
           4,
           2,
           3,
           2,
           1,
           1,
           4,
           2,
           2,
           4,
           1,
           3,
           3,
           1,
           0,
           2,
           0,
           2,
           2,
           0,
           2,
           0,
           3,
           4,
           2,
           2,
           0,
           2,
           3,
           3,
           4,
           4,
           4,
           2,
           4,
           4,
           4,
           0,
           1,
           1,
           0,
           1,
           0,
           0,
           0,
           0,
           2,
           0,
           3,
           2,
           4,
           0,
           4,
           2,
           0,
           2,
           2,
           2,
           2,
           4,
           0,
           4,
           1,
           2,
           4,
           2,
           1,
           4,
           4,
           4,
           1,
           2,
           2,
           4,
           1,
           2,
           3,
           3,
           3,
           4,
           3,
           4,
           1,
           4,
           4,
           4,
           1,
           4,
           4,
           0,
           4,
           2,
           0,
           0,
           2,
           4,
           2,
           4,
           0,
           2,
           2,
           4,
           4,
           0,
           3,
           1,
           3,
           2,
           3,
           3,
           3,
           0,
           4,
           2,
           4,
           0,
           2,
           4,
           2,
           4,
           4,
           3,
           4,
           4,
           2,
           4,
           0,
           2,
           4,
           2,
           1,
           2,
           1,
           4,
           4,
           1,
           1,
           4,
           1,
           2,
           1,
           4,
           0,
           0,
           0,
           3,
           4,
           0,
           3,
           1,
           1,
           3,
           3,
           3,
           4,
           0,
           2,
           2,
           2,
           2,
           2,
           2,
           0,
           0,
           4,
           4,
           4,
           0,
           0,
           2,
           0,
           3,
           4,
           4,
           0,
           0,
           2,
           0,
           0,
           4,
           0,
           0,
           2,
           2,
           0,
           2,
           0,
           0,
           3,
           1,
           2,
           0,
           0,
           4,
           0,
           0,
           0,
           0,
           4,
           2,
           2,
           2,
           3,
           2,
           0,
           4,
           1,
           1,
           2,
           0,
           3,
           3,
           0,
           4,
           2,
           3,
           1,
           0,
           0,
           2,
           4,
           4,
           0,
           1,
           1,
           4,
           2,
           2,
           3,
           1,
           2,
           2,
           2,
           1,
           4,
           4,
           4,
           4,
           1,
           1,
           1,
           0,
           1,
           1,
           2,
           2,
           0,
           2,
           0,
           0,
           0,
           2,
           2,
           4,
           4,
           4,
           4,
           4,
           0,
           4,
           2,
           2,
           4,
           4,
           4,
           4,
           4,
           2,
           1,
           4,
           0,
           1,
           3,
           0,
           0,
           4,
           1,
           2,
           2,
           1,
           3,
           1,
           2,
           4,
           1,
           2,
           1,
           2,
           1,
           1,
           2,
           4,
           4,
           4,
           0,
           0,
           0,
           4,
           4,
           4,
           0,
           2,
           4,
           4,
           4,
           4,
           4,
           4,
           0,
           0,
           0,
           4,
           1,
           1,
           2,
           4,
           4,
           4,
           2,
           2,
           1,
           1,
           2,
           4,
           2,
           4,
           4,
           4,
           1,
           3,
           0,
           0,
           1,
           1,
           1,
           2,
           1,
           0,
           2,
           4,
           2,
           1,
           3,
           2,
           1,
           4,
           4,
           2,
           2,
           4,
           4,
           4,
           0,
           0,
           0,
           4,
           2,
           4,
           4,
           4,
           4,
           0,
           4,
           4,
           4,
           0,
           2,
           4,
           4,
           0,
           2,
           0,
           3,
           3,
           3,
           0,
           4,
           1,
           4,
           4,
           4,
           4,
           3,
           0,
           0,
           4,
           4,
           0,
           2,
           1,
           1,
           4,
           4,
           4,
           2,
           0,
           0,
           2,
           2,
           4,
           2,
           0,
           2,
           1,
           4,
           1,
           0,
           0,
           1,
           4,
           4,
           4,
           4,
           2,
           3,
           0,
           4,
           3,
           2,
           2,
           4,
           4,
           0,
           2,
           0,
           1,
           1,
           1,
           3,
           1,
           1,
           2,
           1,
           1,
           1,
           3,
           1,
           1,
           4,
           1,
           1,
           1,
           1,
           1,
           3,
           1,
           1,
           3,
           2,
           4,
           4,
           4,
           4,
           0,
           0,
           1,
           0,
           3,
           1,
           4,
           1,
           0,
           0,
           4,
           1,
           3,
           1,
           4,
           2,
           3,
           4,
           3,
           0,
           0,
           0,
           2,
           4,
           4,
           4,
           4,
           1,
           4,
           2,
           4,
           2,
           1,
           3,
           3,
           3,
           3,
           2,
           0,
           2,
           2,
           4,
           2,
           2,
           3,
           0,
           2,
           0,
           4,
           0,
           2,
           2,
           0,
           2,
           2,
           3,
           1,
           3,
           3,
           1,
           2,
           4,
           4,
           4,
           0,
           4,
           4,
           2,
           4,
           4,
           1,
           4
          ],
          "coloraxis": "coloraxis",
          "symbol": "circle"
         },
         "mode": "markers",
         "name": "",
         "showlegend": false,
         "type": "scattergl",
         "x": [
          5.910268108221791,
          2.787093152808593,
          -0.7575375383744642,
          1.020521486616816,
          0.7539105142791424,
          1.7971062652419414,
          -0.4620496054489365,
          -1.3116722595637262,
          0.5984179553898571,
          0.5982012013950394,
          -1.1656525385277152,
          -0.0711812465569597,
          -2.171711585828402,
          3.673296663029769,
          0.8327855889826032,
          0.0014059392111348999,
          -0.9273057420077752,
          0.6796203745139363,
          -1.4878005371777194,
          -0.2501697630725658,
          0.9541894103960761,
          0.8894938464845352,
          -0.9349244756981557,
          2.435242216702912,
          -0.5794096848078704,
          -1.6872704870086686,
          -1.0665290759030293,
          3.743308758581933,
          -2.1543016574456946,
          -1.080850305552252,
          -0.9549632645218932,
          -3.2358726515928025,
          -1.711975534173557,
          -0.43365637370201987,
          -0.6062336832001025,
          -0.9441629326199643,
          -0.2189735279123695,
          -1.5617667209055157,
          -1.3458348880477145,
          -0.6937048482628616,
          -1.6190405446647007,
          -1.533327685835035,
          -1.6988335792571163,
          -1.8093965083506092,
          1.0018621405554724,
          -1.550555791953906,
          -2.6162017995351032,
          -0.7218561265706733,
          -0.9358284356998535,
          -2.321719004377391,
          -2.169859771706419,
          -0.11704076484140127,
          -0.17798254163413818,
          -1.3770978627884978,
          -1.2775706484489118,
          -1.6689082229336598,
          -1.4330066722916894,
          -0.8812940272849344,
          -1.9337278510850244,
          -0.9919561769523912,
          -0.8554408012501132,
          -0.4500486285925349,
          -1.0642892702634437,
          3.462606271585077,
          0.6998427652454086,
          1.0246979229312392,
          -0.8535513919608634,
          0.6504792609298515,
          -0.47748776932747045,
          3.654736858516906,
          -0.5680284493815135,
          1.2275685578826745,
          6.308184544302044,
          3.394757217806678,
          4.909954292792232,
          4.52149731111167,
          3.436840226679443,
          1.7065111212663078,
          -1.9949213104070924,
          2.8835226719022256,
          -0.04924041576369408,
          4.251881907817699,
          1.5205339090003143,
          2.7578274763525523,
          3.818868841818886,
          0.5222233385124361,
          0.6640664570007115,
          -1.8377265384972312,
          4.307369932725614,
          -0.9793272008623088,
          -1.753254673290716,
          -2.255179190561468,
          -2.29044156642183,
          -0.28007894163165425,
          0.22291185347269313,
          -1.5101821955287535,
          -0.6192845089796347,
          -0.07420986987072398,
          1.6728243374303766,
          -1.94335301465705,
          1.014976612873286,
          2.7195576686454244,
          0.9057166961074977,
          -0.21837300691801098,
          -0.2625665565621549,
          0.8449080453819638,
          2.8327794759317673,
          1.461495770999628,
          -1.5842602988284014,
          -1.8856176787118504,
          -2.393866425909585,
          -0.008422928392726115,
          -3.078642085622773,
          -1.6438199733026295,
          -2.0393729844155706,
          -0.9968674357840719,
          -1.9809887425444186,
          -1.9736099706764743,
          -0.21426030082170935,
          -2.3201588880940074,
          0.6288114935083471,
          5.262718544641115,
          -0.12166536408823826,
          -1.0121054754613958,
          0.03526096300568481,
          3.492610514342789,
          -1.2753710449014182,
          0.3282646881366825,
          -1.6951789119860818,
          3.7286177933129556,
          -0.6107015592017125,
          -1.9032893260849404,
          -1.8874273931826748,
          -1.4787588103471279,
          -1.687927343644113,
          -2.1606659415912106,
          4.6580882075069185,
          0.6998427652454086,
          -1.8094474553131523,
          0.6443884999442747,
          -2.8182814169138863,
          0.6443884999442747,
          -1.4716926838801556,
          1.8781753016297518,
          -1.1338434847768153,
          -0.7702516670886767,
          -0.5221138504004776,
          -0.9270989547196358,
          0.5931378934821793,
          -1.3843251626688347,
          5.271177784407819,
          -0.9642170705834133,
          3.754319584280466,
          2.9926527080734293,
          4.167831601809075,
          -0.3896280793317456,
          -1.642475143557614,
          -1.1675433931298078,
          -1.7381524969306457,
          -1.9383384408051338,
          -1.6757529454902507,
          -1.1873372651487155,
          -0.3541927469754769,
          -1.9748930162104512,
          -1.4332166640427924,
          -1.8599621279939214,
          -1.6285081252103313,
          -1.2616275422044283,
          -1.23973628107494,
          0.18868288124372753,
          -1.201802979168829,
          0.07754390698956903,
          -0.436069970580209,
          -1.272795338523541,
          -1.02740903974863,
          -1.8617821657705749,
          -0.8788683358223202,
          -2.622199874478131,
          -1.6576596345415069,
          4.075563099476096,
          4.894322340584222,
          4.158854712674677,
          0.3441558565252687,
          3.2529655317034614,
          -2.0146663246069756,
          0.1933516169142163,
          0.5398747178532814,
          4.4076560013832,
          2.359553565217615,
          -1.0134812826832027,
          -1.4775598253498055,
          1.7516550987332933,
          -1.9813204401207747,
          -1.5921148477738616,
          -1.8603543986322113,
          -1.6438683942628742,
          4.743511527342341,
          2.1646111991229047,
          1.9271058748133272,
          0.24867553257171132,
          0.2640495888153451,
          -3.1062145776446375,
          1.00692923180796,
          0.7363487998666418,
          0.013770393933029687,
          -0.986259205589774,
          -0.010758925244006167,
          5.381249937095059,
          3.031134078256738,
          2.1219579799750274,
          5.376825054885018,
          -1.8715344938197171,
          -0.8257044500186865,
          -1.8050999520940776,
          -1.59657470631714,
          -1.3903620518490425,
          2.3817849882339286,
          0.32671054219402584,
          1.185544836543208,
          2.23079523330735,
          0.18273407852012652,
          4.819813386113589,
          -1.8931190472758395,
          1.087727703636128,
          1.2390028548321206,
          2.394036667746406,
          2.5765941967237214,
          3.758125064467635,
          3.603387921723093,
          3.089296631764701,
          -0.29784148837110086,
          4.138457045658252,
          2.6839649557379284,
          0.9951124914788204,
          -1.6409269228190297,
          -0.107336531593683,
          -1.7242942774158057,
          -2.2972037194660824,
          -2.151173770862403,
          -1.5759181415763408,
          -1.3487051914956139,
          -2.0265484820804582,
          -2.1206904747689888,
          -1.9307654535976806,
          -0.923406653060198,
          -1.2516471860681753,
          -1.911351662006332,
          0.7812550919890986,
          -0.5237497338668538,
          1.5258122967139596,
          -1.481522903777516,
          -0.860801500399018,
          2.066445088869664,
          -0.3918110027355385,
          -0.8627420859305026,
          -1.7244851503949097,
          -2.4519764221514797,
          -2.4519764221514797,
          4.911094086350667,
          2.1284228776298364,
          -2.0262276800530046,
          -1.7259688400927662,
          -1.7612462995881772,
          -0.32942484453738224,
          -0.7167812722224338,
          2.359912655797251,
          -0.4109516244751066,
          -2.0724990678317297,
          0.4941512548817771,
          0.39473675784610585,
          0.5011147455994409,
          -0.1501947731074117,
          2.2643665658299246,
          -1.354015453680445,
          -1.4700532554453172,
          -0.3914865896117496,
          2.9286868308441947,
          1.5627344941817924,
          -1.804653395322846,
          4.421919934708997,
          1.666634125245815,
          -0.8630069468661096,
          -1.8240161816083944,
          6.202329832453549,
          2.7007297571142224,
          -1.9219988731601114,
          -3.8853351569825363,
          -0.32373523372279134,
          -1.4830437992216357,
          -0.666158130586657,
          -0.8975313027897458,
          -0.27150010958598886,
          -2.02600749641184,
          0.030668548225326095,
          -0.666158130586657,
          1.667937617563402,
          -0.9628431990032473,
          0.05229047058608261,
          1.4342428370670812,
          -0.07440927214208777,
          0.31619568972430295,
          -1.6854348307187534,
          -1.3783735498215963,
          -0.5302811239602089,
          -1.9482834157370141,
          0.43768166538024367,
          0.4611651127096495,
          -0.6169217471719334,
          -1.140025637705938,
          1.2533220435925616,
          -1.8065011423621293,
          -2.1058975606514676,
          0.5834156893519923,
          0.6150431813346554,
          0.8314068380244765,
          -1.167749833094719,
          -1.8797451580250846,
          -1.5737313828666788,
          -1.7148709729100609,
          -1.2187163240425547,
          -0.9081075934919378,
          -2.407638506198656,
          -2.6312477371308916,
          1.5673168136376296,
          1.2606761374764384,
          -1.2731362784415332,
          -1.9933897451720621,
          6.078392568331344,
          6.202329832453549,
          1.8806471974660983,
          0.48550384897295157,
          3.7247868746474646,
          4.9990228510230175,
          -0.6507019188068319,
          2.83175403210811,
          5.1572241210913194,
          3.819290274650808,
          -1.8812815325483467,
          -1.01704157808958,
          -2.343114277873313,
          -0.06139419459486136,
          1.1244973226335095,
          -1.01704157808958,
          1.549987445185144,
          -0.23880439879088955,
          -2.054894883326248,
          -1.4608536919332893,
          -1.2511268482027644,
          -1.4326231369090205,
          -0.8322050040893009,
          -1.01704157808958,
          -1.4771002595731528,
          -2.628606599334159,
          -0.21035255659039023,
          3.7220411064919303,
          -0.6601937727661524,
          -0.08898081277070427,
          -1.3796424287630298,
          0.8934594009314073,
          -0.6029963198787502,
          -0.7120551860400108,
          -0.7769839379468482,
          -0.6805758573158148,
          -0.24279844901403544,
          -1.956231538351015,
          4.118042026063584,
          5.713741031844157,
          -0.7417411626392644,
          4.424095099147773,
          2.3273182406295385,
          0.01776347120644865,
          0.301493993084998,
          0.9650215283895119,
          0.02246839262249756,
          -1.2199650459691418,
          0.34177511590531073,
          -0.537891286867248,
          0.8644678960471948,
          4.004696577326852,
          4.008320181774834,
          1.3829663131262566,
          -2.0574297891427635,
          1.3094774137593306,
          -1.2244223547667645,
          3.3013877478747737,
          -1.1107604184765898,
          0.5360702750732713,
          -0.2474405369725471,
          -1.944189985078294,
          -2.1330576537603534,
          -1.0891187918604013,
          -1.8302469752259658,
          -0.15516416449344056,
          -0.9951653539849199,
          -1.3596060537015464,
          -0.611080956406419,
          -2.549815498266093,
          -0.6067753052647099,
          -0.7288872748469319,
          -0.6427561202341459,
          -0.8384661829154182,
          7.048160534198851,
          3.086299510078865,
          1.649916053914382,
          0.5039626516959583,
          -0.7628234779254296,
          1.9098861430974061,
          -0.7381554703584142,
          -1.2105050375339597,
          -1.6165006411449971,
          2.9152852845241637,
          0.7875315395435427,
          -1.4713066508652928,
          3.8405366544879773,
          0.8180105809922912,
          -1.5363920461225513,
          1.5017010248753788,
          -0.826957392858423,
          -1.2365537984863495,
          -1.1213910396496642,
          0.35325357571309446,
          4.156988672470463,
          4.181143915852829,
          5.874241617946338,
          0.7726737970500182,
          -1.2384651584229953,
          0.17391144426442487,
          -0.29101915682132595,
          -1.364328919672979,
          -1.0013576229512056,
          2.8143610849320835,
          1.0152267748235688,
          -0.8997096472317084,
          -1.8161225830951806,
          -0.4069198563664306,
          -0.6222506022041556,
          0.9298554236724567,
          -0.031158874814143166,
          -1.8953253854099996,
          -2.0864594737726576,
          -1.033074036500284,
          -1.6484788353344277,
          -0.0768896737725617,
          -0.9626729037514548,
          -2.014035053021466,
          -1.3293413005641408,
          2.9602001025583236,
          0.3366612973343734,
          -1.7136150221763604,
          -1.432279762951494,
          -0.9929724146692337,
          0.37104684811124145,
          2.6387134059669584,
          -0.02807780164997964,
          -1.6676648655046535,
          -0.6079060289417968,
          0.022377474382159677,
          0.9645203776907136,
          1.2387761280336023,
          0.3211546567581569,
          0.3993101634015982,
          1.4480493860298336,
          2.2798976418949337,
          -0.22663402010361905,
          0.2531651111744025,
          -0.21480126217786213,
          -2.4628532337473232,
          1.369780176535799,
          1.7508953452310552,
          1.3863298495833418,
          -1.2538737101450224,
          5.133050169971325,
          3.526515125883701,
          6.346033202222224,
          -0.6161373499207312,
          -2.374828947252519,
          2.2533078147803627,
          0.8167571253489764,
          3.653765378813387,
          -1.8047421918261297,
          -1.86279511250348,
          -0.9242152643491609,
          0.7066524688936524,
          4.942598053975865,
          1.1252336127832718,
          4.795289250255228,
          2.4635678490115,
          -0.09446247231001621,
          4.247306482872685,
          0.2490357613668699,
          -0.11019294017436518,
          -1.8060319312706896,
          -1.469079712748626,
          -0.025425946360966376,
          0.33700374221790064,
          -1.0272113725970842,
          -1.1806601610443488,
          -0.08462383414741131,
          -1.2131974145350364,
          -1.5289774319052665,
          -1.3378086857797171,
          0.9015460755941903,
          0.3470413035334126,
          -1.8391030814300064,
          -1.210592631037001,
          -1.3843046322401926,
          -1.1745523891881087,
          -0.8900534710795277,
          -1.7792525918076756,
          -1.7629015313750143,
          -0.22626369877920577,
          -1.3596743740108521,
          -1.4373298042223681,
          -1.0505476390009734,
          -1.2326907154182067,
          1.356528349909239,
          -0.31742155846790165,
          -0.8073456954282046,
          0.629475313546107,
          -2.0174373591629933,
          -0.11454795107119002,
          -0.5797367236830113,
          -1.8188905101656412,
          -0.21705098951570123,
          4.529430260517016,
          0.3331897153750478,
          0.9708797436014688,
          -0.17127054263204194,
          -0.7941852500264389,
          0.1589213249972658,
          -1.1876432241511583,
          -0.6402858806840847,
          0.8750838457096441,
          3.6087315817291588,
          5.022988638057468,
          5.805832447701811,
          -2.4845855869545876,
          -0.06723872685756697,
          -1.819945680286819,
          -0.16463751050254685,
          -0.9373426065815239,
          3.695987464448696,
          -0.11499063549310393,
          -0.3119119497426377,
          3.6087315817291588,
          2.9628211173285965,
          1.974525554328062,
          -1.8693347569376897,
          3.9265835294224654,
          0.851465596997388,
          0.25165487338246095,
          1.5069037952476538,
          0.8765073635953345,
          -0.8493286256975375,
          -2.7670422182850563,
          -1.9426782361716521,
          -1.9404583741889663,
          -2.3277141531057524,
          -0.4893008855169196,
          -1.2448085534620563,
          -1.4681887969761527,
          -0.4197705078970212,
          -1.1794041820554675,
          -0.7316519448921259,
          -1.9934477924940697,
          2.6589574687484143,
          -1.8424902425655316,
          -1.975203754135939,
          0.4973821345345368,
          2.8030142480459292,
          0.8898853897758192,
          -1.6997216230484244,
          -1.1189657700263966,
          -2.2297276153308534,
          -0.7369155743144531,
          -2.8860579727672393,
          -0.04773120798274656,
          -1.245507758932584,
          1.5812933821637334,
          0.38624025734860995,
          -1.3826420603119787,
          -2.4775829776870504,
          1.149762766157925,
          -1.0859697564578676,
          0.6207099620941164,
          -0.07313623450419005,
          0.0026958861477241456,
          2.1700272297685466,
          0.36718627717097746,
          -0.9314426872002078,
          2.353248545597482,
          -1.059789093472061,
          -2.276109855694125,
          -0.7031780913867122,
          -0.2926633824128875,
          1.0280402330301825,
          -1.1648221376777195,
          0.4511604577525476,
          -0.5491172599185637,
          -0.6751459147216361,
          0.2997968815429105,
          2.6834129126268156,
          0.5984074638508642,
          -0.5498879058004904,
          1.5305789710549678,
          1.671927373310239,
          2.365034188094585,
          0.5073760258805258,
          -1.3539098259275264,
          0.5151319213344536,
          1.0608289232294794,
          0.5729789672192855,
          -0.7152407495550086,
          -0.043178192952210946,
          1.6217258746453858,
          0.36751585684045157,
          -0.7640261804664324,
          -0.541983772917158,
          1.0156004276682955,
          -1.0104901039718688,
          0.3474543065382503,
          -0.2807461940428689,
          3.1877031348523146,
          -0.5452603790317768,
          -1.6326205624300452,
          -1.1815682360615916,
          0.4831617885888122,
          -0.46624827532572416,
          -0.6461748391001949,
          4.245475571774245,
          -0.170327940417601,
          3.4798674918083137,
          3.8409758809403707,
          4.963938781946999,
          4.408080150824802,
          4.139496296933862,
          4.0312853081022775,
          3.9363214242193965,
          4.187078489713526,
          4.91780816360102,
          4.959531607032033,
          5.491363812178901,
          1.5324624690552493,
          3.786004970194429,
          4.224405197605613,
          3.8134457247031825,
          4.26904729094743,
          5.355886276386324,
          5.634525317250316,
          5.131366024213474,
          1.5778734844665678,
          3.6283998048062993,
          3.3748679584004275,
          3.136640936473177,
          1.5464616640991637,
          1.7734555001668155,
          -0.5736981384083444,
          -1.347476937918507,
          -1.4095676969430233,
          -1.7902349574504635,
          -0.9599392716314977,
          -2.337850209070728,
          -1.9219232563386317,
          -1.4554683365959469,
          -1.907226287672336,
          -0.671679500277062,
          -2.004656223155101,
          0.32515666255138076,
          -1.1523860720717638,
          -1.4557044571067244,
          0.18059071362684292,
          -1.9079350595148403,
          3.5236590611379044,
          -2.0491186934792056,
          3.6180834062291516,
          -1.737484514657711,
          -1.4392948516572364,
          -1.5714083380161554,
          6.308184544302044,
          5.008294840003462,
          5.4032656642570895,
          -1.4853710029965541,
          0.33114376729517825,
          -0.46419951317278,
          2.793778628069705,
          2.229327145953378,
          1.389333400921568,
          4.269223510110592,
          2.1474447251427837,
          0.7629686163768572,
          0.5313880649539601,
          -1.1115207404332896,
          -1.8204209333872412,
          -2.1921376455691473,
          -1.6730626775637123,
          -0.562561128693776,
          0.45191804574874045,
          1.919573857543193,
          -0.8702170708257273,
          1.0741748437685996,
          -0.2271813656959777,
          -0.8526204872249911,
          0.43098339581022027,
          -1.5594414900233995,
          -1.7883857649490373,
          -1.28436908280347,
          -0.32892936146030155,
          1.0518143755809586,
          0.5340816012176941,
          -1.1097151949345347,
          -1.9685741228713407,
          1.3526971314440268,
          -1.1080951590932833,
          -1.1080951590932833,
          -0.7862581323449482,
          -2.1866569882184574,
          -0.7966028054395348,
          -1.841841154586214,
          -0.7800250543797578,
          -2.4784838201281767,
          0.2597603556403643,
          -1.3550297693817044,
          -1.617755799327202,
          -1.8260772103567118,
          -2.304690502949195,
          -1.7235553968485766,
          -1.376194964792644,
          -1.02187574328525,
          -1.7791379054828047,
          -2.6566225729098734,
          1.0291146255100536,
          -3.0946663512600616,
          0.27246992250829477,
          -1.7900071853916149,
          -2.479383087771242,
          -1.8871690235505918,
          -2.6430738121785353,
          -0.3573801366614924,
          -2.5671936495562417,
          1.3794835128663605,
          4.525123553936599,
          4.716885186699746,
          2.595025591971071,
          -1.1366165372990904,
          1.9842254319975143,
          -2.4281391425039116,
          -1.3561754011404548,
          -1.6507557002712345,
          -0.9916773688297721,
          -1.461483843233098,
          -2.1097261247542543,
          -0.5491172599185637,
          -1.985274255033777,
          4.386572613899495,
          -1.1101722919442198,
          3.377600294793803,
          -2.4344247833985966,
          3.5934938671033745,
          -0.49643132082921265,
          -2.4420108168095602,
          1.0393967728352183,
          0.02417263635028192,
          -2.536043601464766,
          -1.4224961761214596,
          0.02417263635028192,
          -0.26129956152696926,
          -0.9108428135470131,
          2.0940424856091564,
          -2.5645649137076534,
          -1.2386221853149897,
          -0.30842192358759607,
          -1.5155895125722447,
          -2.031298614678037,
          3.86310488973433,
          -0.10838299594407634,
          -0.6022552644160731,
          0.5177509655213366,
          -1.7090697231493608,
          -0.27614522230501004,
          -0.7551372548019911,
          -1.3763064760423573,
          -0.5312260392016572,
          0.2371719517248241,
          -0.3026081729421211,
          -0.5065280021147455,
          -1.2055895512885533,
          -0.8204348260187274,
          0.26606506371006233,
          -0.29884421461537586,
          -0.8728012554034766,
          -1.7175667292646413,
          -1.5155528888804213,
          0.8864093485671762,
          -1.676646874745968,
          -0.46943459661423337,
          0.8710775895722579,
          -0.8644705676615115,
          -0.7144561741353843,
          -0.4406885569491478,
          -2.790270900922428,
          2.890414617654669,
          -1.1507276718314714,
          -0.8031773216690995,
          -1.9473824019540256,
          -2.1629636170947357,
          -1.4723654985500971,
          -2.6893121402844167,
          0.9240011933509129,
          -1.7474528809598413,
          -0.14576653368649728,
          -1.8983586902445275,
          -2.669347847935736,
          -0.5221693744493332,
          -1.4548434949416955,
          -1.028309638166623,
          2.3622397711804504,
          0.5436395862813673,
          -1.8689304368530788,
          1.1710036212559025,
          0.699904004293886,
          -1.7044471429551544,
          -0.5920546990026871,
          0.4498649728207423,
          -0.3295745148089149,
          -1.6376693914418607,
          -1.4572609901665465,
          2.4660708696178197,
          -1.2095953675949747,
          0.5254555899481624,
          0.07547147484810708,
          -1.5847134393643678,
          -2.908061928223542,
          -1.176508440804871,
          -1.9119343526634274,
          0.9356036829290543,
          -0.3608660025696724,
          0.9679635861196798,
          4.699816675368836,
          -0.4723314055617333,
          -2.0056305322142776,
          1.5727472398500437,
          -0.9464089318334714,
          1.4686267276229208,
          0.5011147455994409,
          -1.353749504362388,
          -1.843412047612338,
          -0.6537657414667487,
          0.8902655962892354,
          -2.8162591250589304,
          -1.2235095886351688,
          -1.5127849605175299,
          -0.9684779368006279,
          1.1487058582651957,
          -1.098446924932566,
          0.502237797213784,
          -1.4812543999862993,
          -0.5435665341609949,
          -1.2909649366086218,
          -2.1628333074786075,
          -0.8354743294354067,
          -0.03314856246124668,
          -2.0149265692493192,
          1.7960332420843463,
          0.7846163460118237,
          0.32114376159708014,
          -2.190137139222609,
          2.597137364064699,
          -1.612796711737503,
          3.02605302894775,
          -2.0657056457669607,
          -1.521099337417587,
          -0.925865517834651,
          -2.0743795323201724,
          0.7511849781136243,
          -1.716483360522905,
          1.319945573060843,
          -0.29967490885489495,
          -1.0601592783170941,
          -1.5793861632167494,
          -1.692465651475793,
          -3.1331777327955397,
          -0.037246232862970664,
          -0.08421121464130014,
          -0.7467746719958053,
          -0.16470824566879225,
          1.402248220174108,
          0.46779897642367285,
          -1.3373216840889643,
          0.08110278845448585,
          -1.3779265458413679,
          5.031107844903641,
          -1.8983922147789343,
          0.5995552083481098,
          3.5252046394474537,
          2.2683191496362323,
          0.9096299592015578,
          -1.0264189143478977,
          -1.0690904627080775,
          0.6556631320797379,
          -2.023769019412259,
          2.1959209999050593,
          -1.9202674340983548,
          0.6521268829335801,
          5.262718544641115,
          -0.6974112188432166,
          0.7820338260369193,
          -0.20904323278860865,
          0.6998427652454086,
          -2.0224335239758715,
          0.47120716399528306,
          -1.2604802866831226,
          1.8271454550885449,
          6.083318328609308,
          -0.8508696332442792,
          -2.0825048372647568,
          -2.2243366255023718,
          1.401429885067642,
          -2.7228295299586796,
          -1.6085417664418018,
          1.601305439049669,
          3.317048515490673,
          -0.8936287712527989,
          -1.0459539727090394,
          -0.7263218841933,
          -2.9436481698922803,
          0.062214037564452304,
          -1.1663865563967548,
          -0.5132483562854898,
          0.6525178740460725,
          2.213623428481488,
          4.157689233042856,
          3.995264448657275,
          3.7441441343435877,
          3.3340361292652143,
          -0.6706922862361598,
          3.7210836024692693,
          -0.7220199150774412,
          -1.5037488884709538,
          -1.8208063443174316,
          -1.3092499530556858,
          -0.5828274996029216,
          1.8767430181001135,
          -2.3135721971896435,
          0.7099128201293098,
          -0.7812682277707909,
          3.394927981868261,
          0.9032880273730485,
          -1.5365804542172712,
          -1.6283452043117537,
          -1.7022684814942095,
          -2.4352854352283098,
          2.018654282616746,
          -0.3166155515639348,
          -0.8941954290264565,
          1.104760978472736,
          -0.19612740703368436,
          -1.3280200419065067,
          -1.8704463127127646,
          -0.7325588346573657,
          -2.4322104556325077,
          -1.0631051517428245,
          -0.9018458559798217,
          -0.5690495861384954,
          -1.730386673282588,
          -2.1007718092553658,
          0.12062405251041598,
          -1.528097331953764,
          -1.9108022973619911,
          -0.21031089609908848,
          -1.794354812733885,
          -1.5361213058279375,
          -2.216000136727968,
          -1.495598569529972,
          -2.5500589751698026,
          -1.098226216720645,
          -1.2393277340386917,
          -0.8577092210584598,
          3.660395664513195,
          -2.660151441663603,
          4.225043041397306,
          0.415080781485709,
          1.188059738799601,
          2.753189107588194,
          -0.29049845972909005,
          0.5136929486351998,
          1.8792188806685457,
          -1.6657745499794445,
          4.166293634806007,
          -0.5221693744493332,
          1.0434337104662186,
          -1.8730996534974436,
          0.850028535373002,
          -0.33185038438281467,
          0.27442997513218687,
          3.481276240454129,
          2.331775500646685,
          -0.07084590733890402,
          -1.209283743406309,
          -1.3631427295039147,
          -2.450222781385807,
          -2.0884769934788587,
          -1.80575498081437,
          -3.3995837310824384,
          -1.699822589137529,
          1.5209018222443884,
          0.7646308800896885,
          4.478609512834523,
          2.466113319803971,
          -2.235490459928443,
          -0.8246614851720219,
          3.4324506450763255,
          -0.48823623226826834,
          -2.0813223551309625,
          0.149894004055518,
          1.897388952891096,
          -0.1368377530801949,
          0.45025923423541886,
          2.0957686662777855,
          0.9153914685653907,
          0.5857264273779649,
          2.233359533306138,
          -3.0450765877715438,
          -2.3291508714311773,
          0.4543220270451252,
          -1.6301207350897278,
          -1.4143229884606339,
          0.24435456870028224,
          3.21079964856441,
          -0.9304532954544275,
          5.150035753984848,
          5.00428170738885,
          -1.314867575910184,
          -0.7597385878813313,
          -1.6628375487419662,
          -1.890230329783115,
          -1.5328467352522692,
          -1.2536233695640084,
          -1.230235225523595,
          0.10461162581345562,
          0.5222047642496477,
          4.431045401922306,
          -1.1896884868417057,
          0.38265151072862447,
          -0.7773625634585379,
          -1.4952959189875168,
          1.6675267223983992,
          1.4852428780681362,
          4.356729544123439,
          -0.9108592533331853,
          0.1816427229341864,
          -1.8732582454237792,
          -1.694678699673469,
          0.43583143175887595,
          0.48799101985832377,
          2.7658581502204425,
          1.9540876681797292,
          -0.1761359959909162,
          0.4227931229385328,
          -1.611735936982191,
          -1.0419915528465538,
          -0.12021237473150576,
          -0.11140233801850623,
          -0.34434278626743675,
          0.6672750904822241,
          -1.2131974145350364,
          2.513690310109365,
          1.1845545043666195,
          -1.7553890311473135,
          -0.6992418306210513,
          -1.058019557956238,
          2.3119403786115735,
          -0.1368894817829305,
          -0.8741749815567249,
          -0.930442208823627,
          -0.9840382097343723,
          -1.3564305630785587,
          3.3966287287929493,
          -1.7688160662074723,
          0.25324946539756943,
          -0.5625432966733257,
          0.13894980838009344,
          2.9951823246963114,
          2.3219296947796306,
          -1.4964895263633475,
          3.2743693149316204,
          5.335536638163783,
          1.1970948667173484,
          -0.9325106706495228,
          -1.0348098358027813,
          -2.025148199151575,
          1.0657747825801036,
          -0.3857410564931713,
          -0.6253799907794833,
          1.547990068286158,
          -0.9325106706495228,
          1.181020052840215,
          3.6809276424008903,
          3.757014733272656,
          0.012415187357943619,
          -3.0305697190318273,
          -0.9098410453161853,
          -1.5191912139342894,
          -0.9195814288618508,
          3.828456183828896,
          -1.1117133103932146,
          2.2673373620579813,
          -1.5150721309734039,
          -1.3925033257613084,
          -1.2995846666732833,
          -0.12266151502753604,
          -1.8668753039071242,
          -1.5018729408205702,
          -0.5700160017381586,
          3.039882270510461,
          -1.8005405433301171,
          -3.66323155996817,
          -1.4679455092351448,
          -1.0800614696303603,
          0.8055109936842504,
          -2.820267239135904,
          -3.45297103377621,
          -1.1110635172556051,
          -2.7918970904646625,
          -0.6542529218710758,
          -1.231632835026547,
          -1.3092383176769784,
          -0.4469941032014104,
          -2.114793859435531,
          -0.848677047830562,
          -0.9409778444685286,
          -1.8320832439959547,
          -1.4789288509342493,
          -0.2603117476767196,
          0.7062856706652357,
          -0.9472312383775645,
          -1.8280677033103936,
          2.896886985755475,
          4.209593201660837,
          -2.754870819905933,
          -1.545945924038413,
          -1.8925052109960363,
          -1.7067784255245098,
          -1.6774539508660644,
          -0.4563518583717415,
          -1.334604345373531,
          -0.3216295003543693,
          -1.5006475935961932,
          -1.4595938170239804,
          -0.8243341544860167,
          -0.6580875903276745,
          0.28642701434719275,
          -1.2796134458978508,
          -0.3704970587555014,
          -1.2343513887207471,
          3.9963005471458795,
          3.3395779158555357,
          5.384016484346953,
          0.21837706806185858,
          -2.3067688482910245,
          -0.5021981388206944,
          -1.0068978534182285,
          -2.1476944439402628,
          -2.3968637435576943,
          2.7096069646934557,
          1.7560435745437557,
          -0.9443973872998475,
          -1.1396430988151258,
          3.557863814296518,
          3.853519820121417,
          -0.8855858941782225,
          -0.9829651653205778,
          -2.32012542127059,
          -1.2569492976214982,
          -1.7231498462043982,
          5.96107428123808,
          -0.9304306817837575,
          3.7923096640832346,
          2.5338939245783836,
          2.400346932906477,
          -1.7878372257776929,
          -0.2335289532416366,
          -1.8863702813551415,
          -3.000784722314574,
          -2.0888534256576934,
          1.0430639994862418,
          1.4753691607777768,
          -0.7167812722224338,
          -1.824163976086663,
          -1.0939818264875387,
          -1.4173759806756017,
          -0.9227672156589168,
          -1.1044280464120813,
          0.06735268474735862,
          -0.7895365930463443,
          -0.07072149456798837,
          -1.8517630213186196,
          -1.8601271467736307,
          -0.08828355973957654,
          -0.25544103116343153,
          1.8793807339843194,
          0.9116853878805051,
          0.10012379315177727,
          -0.6039439779725393,
          -2.9298175854967057,
          0.19839714092277613,
          -0.44918673033604173,
          -0.793796098653856,
          -0.6206510300666293,
          -1.445924049009497,
          -2.336906125358006,
          -1.4633820680402185,
          -1.2208847510985525,
          -1.129654620745942,
          -0.17787330371714666,
          -0.69607520284339,
          -1.367833952743649,
          -2.34468824468903,
          -1.5994355501742885,
          -0.695313590167217,
          1.6229388520328973,
          2.782399844533675,
          2.285874428736387,
          2.155550798796949,
          -0.2647829444104698,
          2.827606248898016,
          0.6100656850450615,
          1.317480504278313,
          2.746800775169634,
          -2.2523754075787217,
          0.703634312490078,
          -0.0011837602491465637,
          -1.482961908069973,
          -1.1075232058518307,
          -0.6971997960267916,
          -1.956862020873559,
          -1.105497027809525,
          -1.3264831935701502,
          -1.7849025600389339,
          -1.2811371791205033,
          -2.8860579727672393,
          -1.241834856815291,
          -0.15427203546753487,
          0.5668302283795726,
          3.163873829531569,
          5.0470312245647575,
          1.248707545291637,
          0.6273736799906441,
          0.07539853780510465,
          4.046423353988647,
          -2.0948414895359453,
          1.770470506150429,
          1.3428053485486438,
          -0.6281159028604066,
          2.700757100788,
          -2.896459582461673,
          -0.48907148657955796,
          -2.415360371635471,
          3.3505970687397957,
          0.11785838188577148,
          -2.0818315040779076,
          3.3833813768610854,
          -2.0288683703444126,
          -1.9296895864420225,
          1.9624352875108129,
          -0.11473781767402368,
          -0.8976185323361072,
          -0.6162589382614427,
          -1.3398506344220273,
          -1.8605094581925588,
          -1.1256165151572644,
          -1.3471905127214159,
          -1.6634667301389148,
          -1.7937172212243646,
          1.7116070792188427,
          0.6875307868210205,
          2.359912655797251,
          3.4077455863709964,
          3.420163417355513,
          3.1704080433561836,
          4.189709436743142,
          0.8861883023723545,
          -1.2041336806401508,
          -2.433266038421998,
          4.396257729264008,
          -0.9943458450544881,
          -1.6640786009656174,
          -0.6530120732992512,
          -0.7024160963306577,
          -1.6162721975405985,
          2.7000671233999936,
          3.1332303142138063,
          2.6230336450209117,
          -1.723406422691791,
          -2.880024558039392,
          -1.8011679111545558,
          -1.6369871043498485,
          -1.8914809660644962,
          4.618935780161163,
          4.050843042184681,
          4.352663051268988,
          5.1220670615638735,
          3.906816410033583,
          3.986678980914989,
          2.7852234093895083,
          0.9999800069643597,
          0.6799719491218106,
          0.014298306941483572,
          -3.1561527611479896,
          0.022755347441269017,
          0.022755347441269017,
          0.1621552183504657,
          1.884824936440656,
          -1.6357883699260107,
          -1.4405368092396207,
          1.9595862552593755,
          -1.9643963626404652,
          -1.597373864650285,
          -2.0894463149704245,
          -1.802665818906081,
          -1.291771062102564,
          1.6122957977964254,
          -1.059789093472061,
          4.601631831528844,
          4.450568176559052,
          5.210196579660403,
          5.777399769903289,
          0.20076562572775764,
          2.1326120989580444,
          1.7459968094343277,
          1.7459968094343277,
          0.20076562572775764,
          0.3454668439277413,
          -1.5154226810918985,
          -1.6922378597241017,
          4.310681878249158,
          0.4692689472391078,
          2.324208231380985,
          0.9381121233998017,
          1.184125244273473,
          -0.3743066976564628,
          1.0133098935057994,
          1.0103085340590081,
          0.7875315203113387,
          -0.5858043284252908,
          -2.643227313951729,
          0.7454678649645959,
          1.043743896138429,
          4.839564142521274,
          2.2896581436048007,
          -1.3025333410462439,
          -1.3212499387413403,
          4.033258007856047,
          -0.905465327976194,
          1.4077154542863606,
          1.8197767618637943,
          -2.026680141298869,
          0.4069739919366754,
          -0.17898853073046242,
          0.4847618118735953,
          0.26373780786601153,
          1.949047289770573,
          -1.2617841821502722,
          0.1492151480055357,
          -0.21755040086465116,
          -0.762472406678773,
          -0.9387029953969075,
          0.2794997792688245,
          -0.7588630483770612,
          -2.152795985798635,
          -1.53578146180787,
          0.8290154285889052,
          -0.981713705629861,
          0.0007320463538191353,
          -1.0590701782309828,
          -0.7529011708788531,
          -2.517514521755164,
          -2.319940517122191,
          -0.23471491664775176,
          -0.2212072962441548,
          -0.6810305719934207,
          -1.3423911334200624,
          0.9329099433229745,
          -0.33138598600913244,
          -1.3663419235685057,
          -1.0192775239661638,
          -0.5491172599185637,
          0.05306629499184335,
          -1.2567107324055806,
          5.259661506974289,
          -0.29656343051103284,
          -0.20192591787070097,
          -2.024602339850487,
          -1.4443686593542002,
          -0.9751839182365087,
          0.05452714640811966,
          1.4523524534217258,
          0.8192739231873553,
          0.07698261684037509,
          -2.4241133476805636,
          -1.049939683603634,
          1.3593481661758229,
          -0.8437018248035686,
          -0.4054386474312045,
          0.6101227140817002,
          0.12017397103911939,
          -1.0084097097668356,
          1.222997472045642,
          -1.1031682937994687,
          -1.4083418571679758,
          2.5756303060219765,
          -0.15864834545483555,
          2.9154589235875874,
          0.014968192928109685,
          1.408880672599903,
          0.8082967149746662,
          0.446494580276256,
          -1.27956000597858,
          2.8272600811544866,
          -0.4277133637975988,
          -0.8837451046928397,
          -0.2309309414336459,
          -0.5371447045574771,
          1.3880784370526693,
          -1.059789093472061,
          0.8795324448096473,
          1.4764147298242953,
          2.765001627237033,
          5.6370756187532205,
          3.500235764018905,
          -1.510418400212594,
          -1.2334843591545113,
          -0.7529405029218759,
          0.08511187324309104,
          0.320510985145151,
          -0.9120762581936721,
          -0.2785807002941413,
          3.0884336247674806,
          4.143247777999697,
          2.3997163163978614,
          3.1769579298468993,
          -0.6044283440694068,
          5.574219688203973,
          5.333727896640727,
          -0.170327940417601,
          -1.4427210612478671,
          -1.3399879370214884,
          -1.3399879370214884,
          -1.080245898570194,
          3.9166593931872016,
          1.1333539879918564,
          3.131924063360544,
          -1.3399879370214884,
          3.1351717246654642,
          0.05296106361416899,
          3.824228685300256,
          3.3139603610314197,
          0.6376433975357709,
          -1.3678276494516477,
          1.4795949689527148,
          0.5075398114106472,
          4.02516376389303,
          3.3976341754496935,
          3.302529115701345,
          2.83112882247411,
          0.4298703987209272,
          2.6526038200999,
          1.9894395187425342,
          -2.44513483770625,
          -1.9828992824413232,
          -2.908813880378369,
          4.910713009747099,
          -0.6498036654322962,
          -1.5303444494937986,
          -2.7153897454154516,
          -2.0687544157967643,
          -2.2542542997003827,
          -2.0100526796115545,
          -2.1099099573153444,
          -2.2236326075156008,
          -2.313210306482978,
          -0.950234681424934,
          -2.136402709539325,
          -1.0065335489460205,
          -0.56351175359326,
          -0.5452437114590937,
          -2.2698090988609705,
          -1.2016336137926893,
          -1.311771496073855,
          0.11607867116484662,
          -1.1573319711835888,
          2.844261208468639,
          4.816971047050102,
          5.388502137886451,
          4.902234021478254,
          0.17804007974110767,
          3.1296296239009402,
          -2.6715653444756335,
          -1.4732881003033524,
          1.2109456547170132,
          -0.6283268472049907,
          -1.8232159852586598,
          -2.7616267192664945,
          -0.8038412941572948,
          3.1296296239009402,
          1.2775355899569323,
          -3.4999871537663014,
          1.3589483043899577,
          1.73855544628032,
          -0.22573449118776834,
          -2.274067346388715,
          -2.7222920271687383,
          -0.5665714728194742,
          -0.7245547433332944,
          -1.8992419894110675,
          -2.8397395979008886,
          -2.0779173370881687,
          -0.8771721526876278,
          -0.4066838677898664,
          -2.4626824440774833,
          -0.950234681424934,
          -0.8848052512508232,
          -1.4759715630515937,
          1.0340563390737683,
          3.9266530882283877,
          1.3504189491626395,
          0.40228114438331436,
          -0.788343321756894,
          2.0279654140200645,
          2.0402179546875283,
          0.8979910073856014,
          -1.370362281983276,
          2.1959478767859335,
          -0.3257151107438947,
          2.166790516006024,
          -0.108499638796251,
          0.5555801926793541,
          2.685527235091844,
          2.0629718502740517,
          1.932778973012088,
          0.5823874663723918,
          1.428007669470053,
          2.227950207798834,
          2.0141117237244615,
          -1.754826047247281,
          3.145271157736505,
          1.885187831139475,
          0.5461741363291335,
          2.356396628203319,
          0.8590333940405677,
          1.5750036225782391,
          -1.4254079176047507,
          0.13229505704735003,
          1.6585341861753558,
          2.6330801007313847,
          1.2919858967101807,
          1.530773141237545,
          1.8030112846657083,
          0.06706942676045899,
          1.8045403505981705,
          1.3745874347744307,
          -0.08395614302769248,
          4.0497491727114605,
          -2.1275500290304166,
          0.5273523375187055,
          -3.0914737893276927,
          -0.92911763790986,
          -0.40155489571023417,
          1.1987811941730053,
          -1.4489486989802907,
          0.42164195837834484,
          -1.0348098358027813,
          -0.6337420572126485,
          -2.1834965098510475,
          -2.1758672952105016,
          -2.824356856047121,
          -1.5657851439064698,
          2.4888524869873825,
          1.7069952938522626,
          -1.7699525413624655,
          2.0944287535894532,
          -2.538940561074889,
          1.7757562576013006,
          -1.367381381578481,
          -2.321719004377391,
          -0.07145510003716136,
          -0.12953515656082057,
          0.01705652057736759,
          -1.6918615662065606,
          0.24788898634041925,
          -3.37194900569206,
          1.8109439725347136,
          -2.956316710280407,
          -0.9326576513945365,
          1.5453563721904238,
          2.017567630254303,
          -0.9777384825203523,
          -1.8088045851480499,
          -0.19764938933701556,
          -1.7360045350795763,
          3.684220198929721,
          -0.6847094485509617,
          -0.2603117476767196,
          1.542298888804763,
          0.5930026646121629,
          -1.7912959670136783,
          3.1180214989226323,
          3.3580144918752333,
          3.509930965088283,
          -0.19461924016161924,
          2.480527963790225,
          4.517776810914007,
          6.091867137337175,
          -1.3864258127587978,
          -1.65908942919348,
          -0.8451615089399577,
          -1.041719254878501,
          -2.212632844114007,
          3.904762418566284,
          2.3576582971520192,
          0.03992601661587289,
          -1.100495324757872,
          -1.3293394373721146,
          2.4179234417138873,
          -1.8494158071698892,
          0.6194589894389151,
          0.7007141496868079,
          -0.22131099576619329,
          4.069805840259909,
          -1.6915198589429592,
          -1.6480326701342507,
          -1.6266757262409492,
          5.0705984901097185,
          -1.2012069430765233,
          -0.2016148315962882,
          2.2123779499001266,
          -2.464924839700888,
          -1.9249814682117172,
          -2.4080164096721766,
          -0.39816065469449013,
          -1.1481127843950472,
          -1.237330464390968,
          -1.4628181365509452,
          -2.6429915346372566,
          1.9533017033003968,
          -2.1195725580612317,
          -1.014042185781765,
          -1.843089415576859,
          -0.17434341580478288,
          -1.807906374375226,
          -1.0770098667738883,
          -1.490548176924027,
          -1.2980784897176671,
          2.3650341880945844,
          2.8056902680785303,
          0.4847235106188623,
          0.8549288236322983,
          -1.5013922149508785,
          -1.3673565615888,
          -1.5786623309290855,
          1.9460913874910193,
          0.03174403073604928,
          3.518987096487809,
          -0.12194207361813164,
          -0.8643826427197118,
          -0.34316401580846145,
          0.14879956982851653,
          -0.7021345155769465,
          2.526890730193047,
          -1.5907428957012455,
          -0.040819221845631734,
          0.7899298288307433,
          -0.9108592533331853,
          0.5345492960066751,
          1.7118640514247754,
          0.3291372387869488,
          1.1931202253106956,
          1.0958689907088606,
          1.2545681987114239,
          -1.6454912421714345,
          0.06998303323160428,
          -0.6562708849308353,
          -0.8025844842561624,
          1.0288670632622703,
          1.5503148149597883,
          0.7522544149888791,
          -1.3594752795046874,
          3.0180003913879463,
          1.071295741294713,
          3.221728737298457,
          -0.0930915214985516,
          -1.2985779973467582,
          3.218628062553705,
          2.1326120989580444,
          -2.3446730016825574,
          0.40529331240226624,
          -0.5726023021440045,
          -0.8831651240421446,
          0.28649928790183904,
          -1.1602891468274357,
          0.7158496154657071,
          3.51075343562,
          -0.20646597214665563,
          0.13893639159218557,
          -1.8058188159171573,
          -1.7690512660095568,
          0.8116576480875325,
          0.33752469190627266,
          -0.01039477591061364,
          -0.8944573785036684,
          0.21387473617623082,
          0.2310045243481402,
          2.030878227187984,
          -2.299520470423305,
          2.4641111195466676,
          2.1192178617213586,
          0.039000464651964745,
          -0.6538759240822306,
          -2.50862721888072,
          0.8123565472634449,
          -1.5787530557618956,
          0.21465726009403863,
          -1.8370165087569894,
          0.9229565319598529,
          5.656350818133163,
          1.2758796109944477,
          -0.5087977010750424,
          4.2784287220852635,
          0.6992100078765243,
          -2.384136424298684,
          -1.7777308426945018,
          -1.780389886012656,
          -0.41675396826810746,
          -1.189441828975477,
          -1.316881436583953,
          -1.341598059302446,
          -1.9057076077566901,
          -0.9399967293329499,
          -1.6808685152004792,
          -1.190406555553499,
          -1.4119055620195078,
          -1.919022355587362,
          -1.68182039020012,
          -1.435902700417143,
          -2.011230902479244,
          0.0912140689015646,
          0.5055869622129665,
          -2.399124947771616,
          -1.4878005371777194,
          0.09012877718788258,
          0.3101465274982128,
          -1.4468211063157417,
          -1.8879364766330247,
          -0.43080997590404696,
          1.9127398992549007,
          -0.9340739420096684,
          -0.09245424702742976,
          -1.01704157808958,
          -1.4337106390703656,
          -1.1513085587600569,
          -0.3505327260134424,
          4.891728612485042,
          -2.262035465700967,
          -1.1646239535239467,
          -1.4194876518446777,
          -2.1789826747725134,
          -1.7048467653411048,
          0.08723516303489745,
          -1.551371397189594,
          -1.1305919329747027,
          -2.008601460302474,
          -1.9719849087291308,
          -0.7603552441700429,
          -1.7081845936205502,
          -1.4526447883764568,
          1.0936536290838423,
          4.707297316935379,
          4.066416551661848,
          0.8449080453819638,
          2.017567630254303,
          -0.5221029502555892,
          -1.081903018351178,
          0.9363603495410876,
          -1.6901930633720712,
          -0.06734437755377418,
          3.1284096100847663,
          -0.013372924890362278,
          0.9315488370480701,
          -1.107898841368992,
          0.9836845171357768,
          -0.6216384167307966,
          4.176384153224833,
          -0.8174650647916102,
          -0.9844049327521106,
          -1.9340208521383069,
          -0.9150586306583643,
          -1.9024375077661242,
          -1.5991191899978696,
          -0.3979122673442815,
          3.1890107734387274,
          -1.3604505665769016,
          -0.7141034047337279,
          -1.5914938986038447,
          -0.269817901147434,
          -0.3205716019590925,
          -0.97484675569794,
          -0.6346112423952772,
          -1.4852467869909063,
          -0.6488361413093119,
          -0.6875208972982044,
          -0.523521052252447,
          -1.2997644179330252,
          -0.3937474251797392,
          3.4924077989945745,
          2.5763577232711774,
          -1.2550502056471333,
          3.8527580670263823,
          -1.3963654042352833,
          -1.5970419948490953,
          -1.688632875815763,
          -1.3774550293604093,
          -1.369072952462098,
          -2.08261819958134,
          -1.1954018276570266,
          3.4027511525664944,
          -1.9587229941745243,
          -2.6463148412916926,
          2.3353127950974386,
          -2.345824751081746,
          1.3957426239486526,
          0.3091765784289818,
          0.3091765784289818,
          0.04825874689567972,
          -1.0823520722647508,
          3.049088181041764,
          -2.0975769095841943,
          0.2531651111744025,
          -0.15427203546753487,
          -0.4124018197799249,
          2.8948856676427663,
          0.9925700176837295,
          -0.10380387445274472,
          1.8938195243268818,
          0.9398182903443827,
          -2.2190070001920614,
          -0.40289995088326575,
          0.48555984194641966,
          -1.694678699673469,
          4.453263833371458,
          -1.769804225100499,
          -1.291771062102564,
          -1.8456441547473588,
          0.09262464006245304,
          -1.853771804976349,
          -0.32412406221746115,
          5.699030304877429,
          2.3817849882339286,
          -1.5609102360473242,
          -0.2799174074815638,
          -0.5542550572699022,
          -0.6637454999146557,
          -0.3292698306096525,
          0.6663435469489156,
          -0.8145720543150364,
          0.6939265197491388,
          1.4162075885952445,
          0.5778186477553656,
          -1.2584741789017162,
          -0.18772365879072306,
          -0.8836013757068099,
          -1.6875506785986953,
          1.5211340327985508,
          0.21959081948294887,
          0.2885020536256099,
          -1.4926217671802808,
          -0.21175692447558014,
          -0.17581020496163344,
          -0.8875625801717629,
          -1.2556219866206972,
          -1.226936160428375,
          4.618935780161163,
          1.3552239026426227,
          1.9336164093535582,
          0.34368407284732544,
          -0.5690376399407595,
          -1.891992010300226,
          -0.584189054917663,
          0.33276996189999614,
          -1.9175550818936067,
          -1.2392356281844934,
          -0.09546520325791767,
          0.5577786585832486,
          3.002801573904522,
          -0.5753522125886532,
          4.161022525837931,
          -1.998877005770337,
          3.746890986528971,
          2.224478260333409,
          -2.0601769600585,
          -0.7651747940113185,
          -0.8818233752987552,
          2.200828587032447,
          -0.5335105742105525,
          -0.5913765417068708,
          -0.8686121365386249,
          3.12692919116963,
          1.5727472398500437,
          1.8241788630931572,
          0.9487631695800602,
          -0.7979632686424225,
          -1.5274385093734053,
          -0.04031006817489402,
          -1.4688940844932508,
          -1.5189484652220904,
          -0.33363903038412523,
          -0.28741846532537485,
          1.9173914860919659,
          4.217793257754891,
          0.8123565472634449,
          -2.026822876035975,
          -0.9888603025879964,
          1.3505978175446582,
          1.3505978175446582,
          -0.22448253695649273,
          -1.5599823753878839,
          -0.9445110188851533,
          -0.9687374941369973,
          -1.9473824019540256,
          3.2626195808960086,
          3.3357502012362747,
          -0.08400104548677033,
          -1.835301661847436,
          -1.0147768860330926,
          0.6805879787852318,
          -0.9288952404986105,
          -0.9673631567290877,
          4.1683633391471355,
          -0.8950461905575408,
          -1.6554978350332141,
          -0.6736705457075535,
          -1.5694794034452266,
          -1.661983630782516,
          -0.15889958107504204,
          0.6637508483382959,
          -0.8307561706234644,
          -2.283315635946638,
          0.8752453390642225,
          -2.4277401058841868,
          -1.4224065981480551,
          -1.103766214033281,
          1.5650671095135877,
          -1.0895612371376293,
          -1.1687147925779526,
          -0.9946974720841739,
          0.735242638839316,
          0.056850559292936836,
          -2.3649098795794234,
          4.904751130878138,
          -2.8030403909571477,
          -2.252562080818783,
          -1.8959245730757277,
          -2.0917516052011518,
          -2.508317131163248,
          -1.0932669094952767,
          0.23002712834864789,
          -1.7664024000158312,
          0.6845546448708263,
          -0.90246065712377,
          -0.47940453613652784,
          -0.7455458630228238,
          -0.9013326790547902,
          -0.7150579071819952,
          5.521484025398483,
          4.330780758381719,
          1.0507517772310695,
          -1.6734809168327205,
          4.2365941773482545,
          -0.27450214919145793,
          4.055818049656477,
          2.13576691328172,
          -0.8330021081673904,
          -1.8279298926842606,
          -1.746209578146317,
          -1.4292748016739296,
          -1.8043356480433588,
          -0.0389260722389808,
          -1.3609492642096952,
          0.4479854069546503,
          -1.6881966197421532,
          -2.2605554980822578,
          -1.6032958665289632,
          -0.5719868279724861,
          0.22680621843925708,
          3.000746418246711,
          5.262058618140632,
          2.8858699481600536,
          -0.666158130586657,
          4.647416850813504,
          -2.3259805083008875,
          -0.8749418351069349,
          3.4358447536432446,
          -0.18592056996048126,
          -1.3252577961419487,
          -1.6454826504708155,
          -2.2743637727692687,
          -1.137548985445838,
          -0.30594649082110376,
          -0.26321036146483734,
          0.36823439087847687,
          -0.774991959841607,
          -0.17119199961990794,
          -0.06981557094042527,
          -1.2072588326020257,
          -0.6241021127308286,
          5.41987474102352,
          -1.5972222455784257,
          -0.36389517538093685,
          -0.344502172509296,
          -1.6165697131635015,
          -1.102159409796175,
          -1.2273516660222623,
          -2.0452140986874645,
          2.018654282616746,
          0.42982899271672537,
          0.6052682794470796,
          -0.4423537865870968,
          0.022947141944436172,
          0.0015944771473526075,
          -1.8238846076569706,
          2.23175416819827,
          0.764274814163571,
          -0.8433282919666291,
          -1.3230875790813394,
          -1.3298929349932964,
          -1.2267220894847883,
          -2.149994931085678,
          -1.2163920877132448,
          3.4634847114667826,
          0.45394121663571624,
          -3.0613383031984136,
          0.22729614518138527,
          -1.1344768325631744,
          -3.0613383031984136,
          -0.7072963438992372,
          0.34184338041430506,
          -1.5671182591234896,
          -0.8696666900612372,
          -1.5795590761486478,
          -0.8772502462786003,
          3.5825006834571176,
          -2.2268342780614696,
          -0.20126115331103775,
          -1.6675215191123844,
          -1.167686938641089,
          -0.09594405636152681,
          -2.3820664249846026,
          -0.12872264422547502,
          -1.582249851962994,
          -1.6387434617760284,
          -2.0251481991515745,
          -0.6993509873931991,
          -1.8764670933076537,
          0.3544325608968112,
          0.571716730643049,
          3.101964714448181,
          -0.5188294035461432,
          -1.0126741219338116,
          -0.7097641046725915,
          -0.7276269751785633,
          3.3634624924175145,
          2.9752226817107945,
          -0.821936659903438,
          2.208962871622311,
          2.7850640053433664,
          0.2981463520357143,
          1.866488474163866,
          4.140411488353789,
          4.133048817017732,
          0.5282838272987553,
          2.605572101764562,
          -0.2647829444104698,
          -0.17832420764440712,
          -1.938030371572624,
          2.9039050390292225,
          3.649677021506465,
          -0.012929923744354508,
          0.9703843368446686,
          4.840030364876462,
          -2.382120428766227,
          -1.5441689772345772,
          -1.3888697809804085,
          -1.9542613765864998,
          -1.5849819030822276,
          2.4466955357895825,
          -1.3666480483746375,
          -0.2676245317046496,
          0.40230341805213843,
          2.374570566204158,
          5.050054496026233,
          -0.9053180429942432,
          -1.2698419846443323,
          0.5398747178532814,
          -0.9479576954954885,
          -3.032449981392287,
          -1.1121517547583082,
          1.0543642222548273,
          -2.174826059050462,
          0.8783391882405455,
          0.8449080453819638,
          -0.28380427510568873,
          -1.8083647450254479,
          -3.2024704591966735,
          3.3215521054488204,
          0.8539122759964448,
          -1.0527079835431898,
          -1.6233526075106717,
          -1.4951842716237833,
          1.7519453777759308,
          -0.8298967446281686,
          -2.1873335437017474,
          -0.2494408066463484,
          1.107472360111229,
          -2.0859355414082117,
          -2.4125115180318626,
          -1.2499990583699132,
          1.2918669581773625,
          -1.4808604861756578,
          -2.0144429700235,
          -0.5413481296670036,
          -1.6534058002388414,
          -1.4317917003045726,
          -0.9871359024336297,
          1.1655411567729184,
          3.000235685866881,
          0.15000872558749032,
          -0.5219177664341917,
          3.047428758666203,
          0.8524577565344758,
          -1.8419708771379102,
          -1.4212505387436187,
          -1.5990912760966647,
          -0.09245231702928368,
          0.7589239174389392,
          -0.3886175367629267,
          -0.4886912992334434,
          0.18601744652391805,
          -0.5767423202391139,
          -1.0445259856521205,
          -1.4103425017750706,
          -0.946717463856445,
          -1.5570907577492819,
          -2.0316565223762746,
          -1.505020714177399,
          2.0330414338414124,
          2.9972411903138916,
          -1.1131903712057172,
          3.4143457476927646,
          5.320867729182727,
          4.085991435509482,
          2.1274425358348843,
          4.947269754284723,
          0.472619792430507,
          -2.2016868255719313,
          0.43167185305864103,
          -1.1131903712057172,
          -1.6057702396471825,
          0.831219705010407,
          -1.7642479233188497,
          -1.1590732070276348,
          4.08144709943776,
          -1.1266837590924161,
          -1.2919547680535048,
          -1.7723311723076078,
          0.0219005639034803,
          -1.833336844358952,
          -1.7602758888628416,
          -1.8693460615922177,
          -2.046542277096344,
          -1.0561390468606322,
          1.1770516789703713,
          -1.8762990960288097,
          -2.425224032256408,
          -0.12210277573933521,
          -1.6260066325782985,
          -1.844549491208007,
          -0.3033082971030343,
          -1.2048764587975171,
          -1.8182765975060036,
          -1.4422094887527548,
          -1.094700997664761,
          -1.9236465210710891,
          0.06349215750229686,
          -0.7967643032374756,
          -1.3089600393569707,
          0.5354649061742399,
          -1.1538421770428804,
          -1.1326586912829242,
          3.1056989824074215,
          -0.565531456456238,
          1.6711847582607373,
          -1.6903592808965597,
          -0.17282411226062386,
          -0.15342344242621847,
          -1.1213935734132476,
          -0.356011489203239,
          4.264393263445869,
          -0.970208733123112,
          -1.4795207011403093,
          -0.01916393802213711,
          -1.6262673095858822,
          -1.0729349066364668,
          0.6594213427915587,
          4.066995385985657,
          -1.759394713916531,
          -0.6148631774543114,
          -0.5328443733186652,
          2.1951310166489777,
          4.211073384228149,
          -2.0951936831935867,
          -1.7126773122191739,
          -1.3176226052793818,
          -1.2398389440352913,
          -0.636515944312324,
          -1.8680718365870288,
          -0.2077489898443961,
          4.6631581902131956,
          -0.7172902492876053,
          1.4126375362115104,
          -0.05348159629165167,
          0.12258449104649262,
          -0.6930082747630678,
          -1.6842462616801208,
          -0.9997143462304259,
          -0.9925277416519355,
          -0.40554552468515104,
          -0.7943307030855629,
          -1.4179766882023694,
          -1.5077618691738783,
          -0.11864752625193954,
          0.06513251514330058,
          0.4479061806002195,
          -0.590535269829555,
          -0.6656940772015774,
          -0.12568353651020503,
          -0.2968239783275774,
          -0.3020850369503302,
          -0.44315387676607676,
          -0.8497568273164446,
          1.5069037952476538,
          0.4803661333128787,
          -0.6970804646138757,
          -0.10347402499997105,
          0.42611844118291275,
          1.718198895670898,
          -0.14880872420562738,
          -0.8608961760184044,
          -0.21186655948989558,
          -1.207440562477615,
          -0.24447286527723036,
          -0.11108361445809364,
          0.4331828913071635,
          -0.46666599304565765,
          -1.8413507629642507,
          -1.0214066744382937,
          -0.4975884880865202,
          -0.6844849178178244,
          -1.6697028500088251,
          1.9435278334052584,
          -2.5904012105039653,
          -0.9832888022778712,
          -1.5102450456487497,
          -1.5772672834448833,
          -1.37475474794452,
          -1.200195319866403,
          -2.5500589751698026,
          -1.5609102360473242,
          -1.8902776392732579,
          1.6587543910014164,
          2.7931435870373345,
          3.3936697303588153,
          -0.30781971693868165,
          -0.5170085720229927,
          -1.938067491497644,
          -0.8915763547993778,
          -0.9886668262046708,
          -0.5696178874425258,
          0.8795324448096473,
          -1.144733415870365,
          -2.0065454067291424,
          2.820574209762173,
          4.028986191210214,
          1.737225379649977,
          1.5655853810053766,
          0.07802122878736976,
          -1.8274876886852274,
          -1.9502075389529843,
          -1.7354065296445784,
          -1.8699631356031987,
          -0.5644354650111927,
          -2.0061121385605514,
          -1.763414078413879,
          -1.872300894132351,
          -1.8639932204222436,
          -2.1058975606514676,
          2.9575397143169195,
          -1.9232812200626475,
          -1.7291945028487072,
          -0.3394603933605102,
          -1.4817947434057146,
          -1.364827290068008,
          1.6184380633196087,
          0.6731669759445241,
          -1.3981525797114391,
          1.4897707598582144,
          1.015743268984602,
          -1.0568509529743555,
          -1.7518249634932703,
          -1.2421958404602662,
          -1.933693872770838,
          -1.759821704033374,
          -1.4555523482943329,
          -2.108294479868845,
          -2.0606660439063935,
          -1.4904194189397022,
          -2.0734945064138404,
          -3.99375471846285,
          -1.780450300922481,
          0.41880137678603657,
          4.074252866889353,
          -1.6540996021001355,
          -0.8706935586305724,
          -1.2311045301288566,
          -0.07788453537429922,
          -2.443401395671395,
          -0.07625660353628234,
          -2.1318590249117153,
          -0.16461671372417555,
          -1.7771222855258433,
          -2.2929023354570384,
          -1.2277075421191306,
          -2.4270031251579987,
          -1.0198781946837476,
          -0.6385744256983865,
          -0.6162589382614427,
          -1.5903114999670271,
          -1.1226867924008348,
          -0.7780117610925478,
          -1.241834856815291,
          -0.41877224870219876,
          -0.5887610453578066,
          -1.4255157505699623,
          -1.9236465210710891,
          -0.832112270287124,
          -0.7103155395647766,
          -0.45457897450550927,
          -0.5006469673618128,
          -1.3433860165170095,
          -0.5586881735072363,
          0.7183670596719586,
          -0.8757146430848194,
          -1.068489112956907,
          -0.37919072063458836,
          -0.5255270518176561,
          -0.4899308370179323,
          -0.1597267102618851,
          4.813777021504075,
          -0.869000942686585,
          3.3215521054488204,
          -2.5792042125307066,
          1.5603981597326735,
          0.888896898914361,
          -0.4769077058258343,
          -1.3173980164012014,
          -0.4962570470088788,
          0.3375764127658354,
          2.148755017920206,
          0.5205896223390913,
          0.00239037867126447,
          1.44385437022298,
          -1.7722920756714389,
          -0.2113876577507537,
          0.9097158032319768,
          4.844601565033673,
          5.666384156661315,
          -1.941710896705663,
          -2.1065509824092166,
          1.1407962580835318,
          0.23103463786948517,
          0.42561757819746465,
          -1.5657114923930817,
          -1.5657114923930817,
          4.244480994355995,
          5.176708744973615,
          -0.8596027093370094,
          -1.0270738870476321,
          0.3751242769202258,
          0.05181137151232446,
          4.582553845204488,
          0.5168944033678443,
          0.060574269729905365,
          -1.778492725569419,
          5.408174041012419,
          2.532775701991875,
          -1.5302866131478003,
          -1.0610339222842116,
          -1.094773638052919,
          -0.9227741339323359,
          -0.9605533109182784,
          -2.132240077056637,
          -1.6689001793002778,
          -1.4351673016485857,
          -0.7169772246162468,
          -0.9568264963416656,
          -0.9416875707314996,
          -0.4133385047052846,
          0.16883070258110078,
          1.4322493420169795,
          -0.7813213297476462,
          -1.1271281147595316,
          0.6524595908390045,
          -0.69274030140422,
          -0.6732878229230722,
          -1.141479992617012,
          -1.48927707026469,
          -0.3553585485210677,
          1.8294487165805156,
          3.6560772718222285,
          0.7261799401622568,
          -1.896971419854982,
          -0.41939395144300956,
          -1.273066331883836,
          0.10397499296520898,
          2.0964836415896615,
          -0.8776788935290593,
          2.5299097893625837,
          1.0082003519061757,
          -1.8902776392732579,
          -0.42207825344761174,
          2.1090057143499497,
          -2.371561218751931,
          -1.0444388347634848,
          -1.2311316155798775,
          -1.1776970800546385,
          -1.0345327312064303,
          -2.723466640316102,
          -1.71044201135573,
          -1.9914059300228164,
          -0.6226927475906399,
          -1.046852762323429,
          -1.2900248382332737,
          0.12309112973266222,
          4.65240368969126,
          -0.4046236413406734,
          0.4430017973536214,
          0.7869224265474064,
          -0.5605651851159849,
          -0.12843809243295412,
          -0.5314028806277057,
          -1.023829088862141,
          3.1748797341320354,
          3.859538766764741,
          2.602623133165773,
          0.1583326346192816,
          -0.7710403655798262,
          -0.49954195302792953,
          -1.2938074605601009,
          -0.358054268891264,
          -0.837184760004048,
          0.23327622655162303,
          -0.08852138585591865,
          -0.6084691009396398,
          3.8798628593031768,
          -1.6480835900823714,
          -0.0792062881776122,
          0.18122554674263447,
          -0.7235894288501385,
          0.38067681393629815,
          7.226544609014921,
          3.401539713522079,
          -1.4159279091453272,
          -1.9127960305645069,
          -2.0174373591629933,
          -0.8956325749527944,
          -2.260349604311189,
          -1.940733736119525,
          -1.4539395308420215,
          -1.9899331345222506,
          0.5563608894958331,
          1.3655741274589217,
          -0.6778354788931381,
          1.4872586279570355,
          -1.4237008451336217,
          -1.2748104198497436,
          -2.5524611671940147,
          -1.7375662708101354,
          0.8903585804759296,
          -1.351406689579026,
          3.6734951616390203,
          0.2389397954855062,
          -1.8009380597154059,
          -0.6930082747630678,
          -1.1302346153383849,
          1.0424609969554544,
          -0.3854930285215786,
          0.4808026898470216,
          0.3696015150662237,
          -0.24312431299061155,
          -0.3142989666133027,
          -2.122990542540928,
          -1.7729246995643375,
          -1.6173696754713012,
          0.23810845387496823,
          -0.48339166999374134,
          -1.7273711551849695,
          -0.10198804553304724,
          0.5055144803084032,
          -0.7131430817527236,
          -0.8951228201123647,
          -1.059789093472061,
          0.3674321547116669,
          -0.32755247999582043,
          -0.1539229033512909,
          -1.0079751959068282,
          1.331226750839261,
          0.1487917839884214,
          2.593757649392419,
          5.280198100270836,
          2.612540123623397,
          -1.2429187294667823,
          2.883460748025333,
          -0.8454958932986628,
          2.1255631796368903,
          -1.2848447129982985,
          -2.3335290439494845,
          -2.3874608455512782,
          0.4708102218623851,
          -1.87036540913001,
          -2.6048645631439262,
          -1.524958547998182,
          -1.931135213046159,
          0.15925914311312808,
          -0.33685427467472734,
          -1.7238132206500614,
          -0.1452317393293592,
          -1.1513324744387912,
          0.5329054203221858,
          -1.9612249102027282,
          -1.2399292163761018,
          -0.9213520425348974,
          -0.2934493481289038,
          -0.7878251517408995,
          -1.9817641589624002,
          -1.7244851503949095,
          3.925517286069735,
          1.594293129963459,
          3.1863353179970497,
          0.977596931153785,
          3.5867432508255215,
          2.6477450497993624,
          5.270217759644973,
          -1.708248597738552,
          -2.1998039804602207,
          -0.06578081779005399,
          -0.8368706284559645,
          -0.7854677175050843,
          -0.20916402742117848,
          -1.708575458599481,
          -0.20916402742117848,
          -1.3997320777127065,
          -1.0909590554136062,
          4.1694664715057215,
          -1.3684630603624204,
          -1.9324283671873028,
          0.11061706995923545,
          -1.8318071541194496,
          -0.9598571387641517,
          -0.20192591787070097,
          -2.3224821040846466,
          1.2956242638589617,
          2.43993896804247,
          -0.0034299770508503364,
          1.968987870792326,
          -1.8110394558681597,
          -1.276022801697399,
          1.7512646091908473,
          0.04735484250802937,
          -1.4262864308855527,
          0.8119245867926469,
          -0.33516147313772576,
          -0.28854191440586063,
          -1.9135217129716564,
          -0.4450657468956559,
          -0.38980135923955905,
          -1.0965604946490624,
          2.863244558695547,
          -1.0064366536641474,
          -1.6679956265557816,
          5.037072097193789,
          2.3072516687894207,
          0.9817234747421214,
          3.0232908871047823,
          4.117010734472983,
          4.113361444554916,
          -1.7640887933065441,
          0.1520039730115467,
          1.0100574747776063,
          -0.09826825918659757,
          0.7454678649645959,
          -0.07912913968776597,
          -0.5869929672815049,
          0.061376567586416325,
          -1.2493185544417869,
          -1.1625329569665979,
          -0.544646435717871,
          -0.5257359411169928,
          -0.6973969041449734,
          -0.9719600477668985,
          -1.7113924337417705,
          0.6626099536052513,
          0.3799066704611547,
          4.353172762386834,
          -1.7505111883218227,
          -2.6082819147952394,
          -0.7744430956484719,
          -0.29049845972909005,
          0.19347918400083877,
          -1.5005648417719326,
          -1.380223176004352,
          -2.5201491133096097,
          -0.6742590697690064,
          -1.228063329607459,
          0.42297421259544377,
          0.19347918400083877,
          -1.613989367967243,
          0.24592070134157007,
          -0.932024120344957,
          -2.0291882153646807,
          3.0861648235299457,
          3.289630235628948,
          -0.8430280926050694,
          -1.0191080260121508,
          -1.258131171944332,
          -1.4293847145323801,
          -1.228063329607459,
          -0.891851831485303,
          -1.1625329569665979,
          0.3320094024663944,
          -1.4006157751179202,
          0.4749551626010544,
          -0.3285383111216564,
          1.2317234135229205,
          1.8982351464781346,
          -0.8272044736771343,
          -1.1182953375910345,
          -1.2140979999974262,
          1.4102809155728928,
          1.1162558244140932,
          -0.9625261685035061,
          -0.22774342883917242,
          4.820483671447005,
          2.806672678167791,
          -0.8910597762575779,
          -1.419710022543955,
          -0.6373053624231053,
          2.667811075962946,
          1.3709647550842816,
          -0.8509927620370421,
          -1.134936953231043,
          0.308313985762175,
          -1.4183221756409592,
          -1.1093252736015082,
          -0.7858824490959339,
          2.1433565649047126,
          1.6998034813955667,
          -0.5767423202391138,
          1.1753290502836984,
          0.7683249437917387,
          3.0672479686245677,
          2.1713827731880704,
          0.09109228763953102,
          0.17424196049511936,
          0.3190799364008097,
          0.5277083757468616,
          -1.5891418340117438,
          -1.807906374375226,
          -3.0009494117127997,
          -1.568343055410002,
          1.253132096652606,
          0.48007880695773425,
          1.1470176346512189,
          -1.309517091738925,
          1.5929388159834157,
          1.0710420132491287,
          -0.6277790692076223,
          -0.7049891902633255,
          -0.36609949043409296,
          -0.4871764094606707,
          -0.7621598571323511,
          -0.09005428008473042,
          -0.14868520555968945,
          -0.2507783494082103,
          -0.7043224955062207,
          -2.1090182695832587,
          -1.879334070811121,
          -1.448327310431452,
          -1.6855200932596461,
          -1.8814813682552227,
          -1.4090316369170122,
          -1.8761815210993218,
          -0.41135347671405925,
          -0.866203259858258,
          -1.5843624105760052,
          -2.4428347518126077,
          -1.0024189493957543,
          -0.7470110613107911,
          -1.2099907754251196,
          0.8179688501593766,
          -0.3212642807458104,
          -1.139852234731844,
          -0.8437018248035686,
          2.042252885206129,
          4.763938610263661,
          -0.8284168584098429,
          -0.6352570447275022,
          -0.8515059856345195,
          2.2461767341646786,
          -0.39823929265682867,
          0.640498780556576,
          1.2643075804942292,
          5.199354627810795,
          1.8583829004360748,
          0.7197917125418742,
          -1.8100918480866637,
          -0.051435894770323544,
          0.37389210195511713,
          0.7611727109350751,
          0.8241113127768863,
          0.5550844565870731,
          0.7400410988074467,
          0.43047588600987713,
          -1.1913376013534485,
          -2.0196290838920703,
          -1.0362298519507231,
          -0.6266858975965713,
          -1.7617435578112277,
          -1.9484506333422835,
          -1.0008080358122449,
          -1.9465609399407118,
          -2.4761756352926856,
          -2.6575800924276174,
          -0.7988177186083164,
          -2.13236430571108,
          -2.564168655670439,
          -2.1305638358695558,
          -1.027109505898173,
          -2.2711827620735545,
          -2.995567970719322,
          -2.013777147378138,
          -1.5437600629004624,
          -0.5641657478210652,
          -1.953961590067142,
          0.135311774620939,
          1.5240830508841,
          -0.3897913275357001,
          -2.147249054111006,
          -1.7165767230653308,
          -1.7102416567782452,
          -0.29456810914750287,
          0.6183200167275001,
          1.105052316821267,
          0.013477089149456386,
          1.3552239026426227,
          -1.4987842085344656,
          -0.8367365709615099,
          -1.089286924134,
          -1.1815682360615916,
          -0.8359986265401644,
          1.8064229455207181,
          4.57352228553585,
          -2.3895472039585006,
          -0.8875625801717629,
          1.562393247252767,
          1.612992140634689,
          2.378287010706773,
          0.24814725641207472,
          0.8731453432239886,
          -1.7647645267425434,
          -0.13139150759423326,
          -1.612977308128734,
          -0.5758965096135339,
          0.07342012773008666,
          5.948310252700196,
          -0.2603117476767196,
          2.343952977423159,
          -2.031774874687595,
          -1.342230834318822,
          0.5257049943117347,
          0.2204243997714498,
          -1.4231533307505306,
          -1.9680325183749647,
          -2.4900041877896313,
          -3.6403170139945304,
          -0.7100689834528803,
          0.1803774457546653,
          -2.7307792390101295,
          0.6051493269356285,
          -2.012226808574385,
          -2.9882377865906733,
          -1.988122656708789,
          -1.1001811056752315,
          -1.6322560102481383,
          -1.5585212785368732,
          -1.2003769056176083,
          -1.1518035655172456,
          -1.562657540876254,
          -0.7030185679656771,
          -1.510987856425023,
          -2.09497625640537,
          0.21820803727112015,
          0.28102092564734643,
          -1.5999015985109126,
          3.636437671895395,
          4.377634569812746,
          5.517832620777445,
          -0.15593220469833188,
          -2.782354500681216,
          1.7058186045512935,
          -0.3325634464411622,
          -1.560633597882819,
          -1.4666166729454653,
          -1.6720377493956826,
          5.050054496026233,
          -0.42113023519586906,
          -1.4156805781784687,
          -1.0310175317531436,
          -2.0594619338254345,
          -1.1993121002513583,
          0.8418391167498278,
          0.5277083757468616,
          3.200054060466448,
          -1.0918956593169193,
          -1.6640321370290694,
          -1.7940379519331613,
          0.26759154444683014,
          -1.1761461616742332,
          -0.9236608800933439,
          -0.7383878592737929,
          -0.7370115676562271,
          -1.7260061487881724,
          -0.8276749826467557,
          -1.0981889258275144,
          -0.06860373314219247,
          -0.19842300499808743,
          -1.725288288425194,
          1.9027041250642687,
          -1.204137746931999,
          -2.146761574037713,
          0.5675226390225946,
          -2.737860585635958,
          -2.3646735229993046,
          -1.5159051852544072,
          -1.1991820155424169,
          -0.23901879110390287,
          3.755510100997642,
          -0.9172187524603734,
          -0.6027578678703448,
          4.365128553031848,
          1.3570526592632621,
          1.0610805001881742,
          -1.0918956593169193,
          -1.0918956593169193,
          0.3799066704611547,
          1.0507517772310695,
          -0.8347222062997997,
          -0.43629024499739333,
          1.8393460147500833,
          0.9749323262388512,
          3.5998474603595287,
          1.3878500421641162,
          1.8808998932641365,
          -0.24102161445379244,
          2.5242881418413683,
          1.8226454879784864,
          2.3824054687967258,
          2.716071146567463,
          1.3400521098127427,
          2.0675085711905994,
          -1.3774147805614492,
          2.1169017128094128,
          0.4725370812856809,
          1.7005090330279198,
          1.0124138734776404,
          1.4638489861406858,
          4.517415285770567,
          1.6062390664664272,
          1.509098548391416,
          3.328173071321643,
          -0.7586867391814032,
          -1.971089378520746,
          -2.6279453478185073,
          -1.0959217221133761,
          -1.7330340393361572,
          -1.5509421569582749,
          -1.9153264230825668,
          3.2865430676300695,
          -1.8853012598366483,
          4.031929446383435,
          1.0917032949632037,
          -2.099589175122622,
          1.6077515138179554,
          -0.733899633149503,
          -2.3299231668522853,
          -1.671499401380419,
          1.322793692923372,
          3.224578804871138,
          0.8493078136160139,
          -0.8991050041159991,
          -0.2596369783110548,
          2.487845989688521,
          -1.0057381074581442,
          3.7826527020996896,
          -1.9157679231230458,
          -2.002623395739875,
          -1.6696448272331206,
          0.3515054625690077,
          -2.4460483692043993,
          -1.7619019356353502,
          -1.651777456767838,
          -1.6237547621234032,
          0.8957766323986618,
          -1.864228674327059,
          0.05337344824099867,
          -1.6425344618411404,
          1.3552239026426227,
          0.14624608874565265,
          5.858209721616867,
          3.7180312609607884,
          4.993793590175095,
          1.8999455539621668,
          -0.8127854597663113,
          -0.9882751706880359,
          0.6321516301100978,
          0.013416667960795292,
          -1.277250408742437,
          0.5751095293838521,
          1.8650579113698982,
          4.510568593122146,
          -0.08449905553375534,
          -0.2416463803129783,
          -1.9830682310610868,
          -1.8494850568377132,
          -2.507249276942517,
          -0.3120875385222826,
          -0.19799516276387977,
          -1.9132406824951949,
          -0.4667570855707589,
          0.5301321114835886,
          2.8059892371366972,
          0.6503978876248565,
          4.008015267389634,
          3.000746418246711,
          0.3032852502015841,
          0.7826398955578462,
          -1.4792219052824112,
          -1.3563827742337011,
          -0.9660709260830572,
          -0.05259932417507849,
          -1.3776523091749266,
          -3.0725256635991185,
          -0.4751356317600315,
          -3.026756059954508,
          -0.8325111872744712,
          1.7747900310136344,
          -1.0280691588067052
         ],
         "xaxis": "x",
         "y": [
          -0.0111462901268246,
          4.4984830404915765,
          -1.2584950530912473,
          -0.9316902391794368,
          -0.9998605575699339,
          1.4491987952161314,
          -0.1534910566635219,
          -1.097694828591707,
          -1.2029511963611919,
          -1.6720710185825922,
          0.6245816077119488,
          0.35427951833409804,
          0.6218862595041157,
          -0.7257260770647118,
          -1.7533744258913757,
          0.094560022646574,
          -0.7607765416859102,
          0.09023324070522598,
          0.6354891072036867,
          0.9549247299482825,
          -0.8173396601849998,
          -1.2470979651002152,
          -1.03845045831072,
          -1.847753052436401,
          0.3664056587919298,
          -1.0939423326821676,
          -0.5130725914703972,
          0.19285191038163452,
          -0.40850583478902336,
          -0.40191277686913596,
          -0.5390360868356443,
          -0.5093297116411099,
          -1.5551823065201968,
          -0.32752024826158105,
          -0.11881659332814436,
          0.6359085300784638,
          -0.5876810821821735,
          -1.6234813101233776,
          0.9261554472362573,
          -0.0025837146344454684,
          0.948238411536104,
          -0.43252723603061227,
          -1.0477234546789922,
          -0.5884127949167801,
          0.10962376719394869,
          -0.17631562638303372,
          -2.2313108525205236,
          0.34217595688040764,
          -0.13393724871445786,
          1.8282937839211113,
          -1.5586608599510372,
          0.3941377070229451,
          -0.16899555980659367,
          0.6402870848131602,
          0.7535261568595867,
          -1.0071979202008525,
          1.2513815447321552,
          0.7283795254050496,
          -0.3155870920706937,
          -0.3743084277381333,
          0.6971582660739044,
          0.4907815022846542,
          -1.4496313293936192,
          1.4022237154782542,
          3.1825154078065854,
          -0.13343620635138465,
          0.7231412843907914,
          2.435673232412771,
          -0.6624452959667988,
          0.8828610649268495,
          -0.4539974243368549,
          1.2895652026945381,
          0.7021569500086011,
          -0.032120349417952054,
          0.15589311833334987,
          0.04483740558801667,
          0.7644853720457677,
          -1.8700830086717906,
          1.942401413073401,
          -0.5355532328520172,
          -0.7101916522494037,
          0.6821340814378546,
          1.5096042889137338,
          1.067712524849246,
          -0.20319345565050423,
          1.9000703759917146,
          -0.9569272319374221,
          1.7957948181498673,
          -0.5045512816835356,
          -3.035114235492891,
          1.1858743295178076,
          0.8760206158908891,
          1.065871083144341,
          0.8982598530428665,
          -0.10984688935739931,
          0.7719022721632369,
          1.1990816803218647,
          -0.05275616015040478,
          -1.8569894900465973,
          -0.3264355253289222,
          -1.693948184066832,
          -0.10438796376461759,
          -0.14531043781235484,
          -0.49969689446459586,
          0.32606478883571516,
          0.5077876996619034,
          -0.05048147181217345,
          0.47469665982555037,
          -0.3879735524805965,
          0.9981145621078852,
          -0.0645886857741185,
          -0.16680607960514107,
          0.6183612930258775,
          0.3466789772890175,
          -0.8498816694047588,
          0.0282853545309394,
          -0.43098808762267043,
          0.9716433758065672,
          -1.0005494442087903,
          0.5665290125385687,
          1.1465811195268019,
          1.3964744337563024,
          0.43319264302379445,
          0.0928686867080555,
          0.2827170296635825,
          -0.4675119546435436,
          0.30059066562798725,
          -0.2568312192639192,
          -0.708229929914613,
          1.965355687242327,
          0.5402660920588395,
          -0.4733052245128074,
          -0.45905707493853964,
          0.17712840735323782,
          1.3226057430132476,
          -0.18364572119185663,
          0.571541872576384,
          3.1825154078065854,
          -0.2252076926587145,
          3.3372777729058822,
          -1.1787016560533612,
          3.3372777729058822,
          0.8919286352285144,
          -1.6621229341015216,
          0.9126518916872702,
          0.04544220504715577,
          0.15799090914535033,
          -0.3881116746652975,
          0.7693841067862267,
          0.31652003537511214,
          1.5899977353431323,
          -1.9047868000468422,
          -0.9570850389300165,
          0.22303451284726147,
          2.1053849872447756,
          -0.6995465461225123,
          0.7111076327776109,
          1.0092401714194623,
          0.3238118826696445,
          -0.1631943487323812,
          1.040437590492315,
          0.6564793989659156,
          0.3951741514894211,
          1.2410104338213037,
          0.3769590932264091,
          2.4618886452370807,
          1.2357005578886262,
          0.26347434069350845,
          -0.31498030623084544,
          0.5105081730241862,
          1.1597876950391848,
          -0.15864705407279187,
          0.2960584459910341,
          0.08484118937578802,
          -0.7467089182464871,
          2.211413217937472,
          0.08320541248182053,
          -1.0443441784920717,
          0.19123446817489217,
          0.6089226265344337,
          0.7789952619638933,
          0.9523723915944765,
          1.0296391405424687,
          -0.3626701596053835,
          -0.971139026376092,
          -2.64248642334522,
          3.1033319622259445,
          0.21619308773179546,
          0.014957619740981648,
          3.9190384728573777,
          -0.5723148273970262,
          -0.9986452552999902,
          -0.9516486023188425,
          -0.690698866051481,
          -1.1840841818426306,
          -1.3006189908905796,
          0.5947979963623202,
          0.0805416263861344,
          -1.8790387512323186,
          -0.33885212574193446,
          -1.6309491743985556,
          -1.0941715165686412,
          -2.446461747927908,
          -1.140705993026646,
          -1.8453286786660525,
          0.6507379346285593,
          -0.47118087570082173,
          1.0197325913084672,
          -0.273365156373654,
          0.017367780195283813,
          0.774417891072696,
          -1.1653490752846187,
          1.5829275370760438,
          -1.2845530401926506,
          -1.346232770772071,
          -1.1924586912170858,
          -2.3552209829195125,
          -1.6350920282524668,
          -0.7943134394819898,
          -1.5948015187911322,
          -1.0367744163767705,
          0.23834202586569206,
          -0.9150329918104106,
          -1.6791143643828972,
          -1.114008183778784,
          -0.4264153508845733,
          0.19720315170070013,
          -0.7675781583836285,
          -0.6634064026910889,
          0.018494863427137048,
          0.03239395742923362,
          0.5429849610833245,
          -0.5502293308844984,
          -2.587755947082542,
          0.07003755588592918,
          0.7387646468178277,
          0.851744808959511,
          -1.0045392123559742,
          0.02274491893061832,
          1.1028840070236046,
          -0.9711482695074372,
          -0.5747759434969205,
          -0.7041665708533736,
          -1.2590290776964839,
          0.5110837248386949,
          -0.4473929302746724,
          -0.7770987572885075,
          -1.5128098061317339,
          -0.010119072281300443,
          -2.6565170442836528,
          -1.8578537653499563,
          0.029678348751542325,
          -0.4881176600840505,
          -0.4626350100807763,
          -0.6323213193002122,
          0.8689648267049023,
          3.2404775080304926,
          3.2404775080304926,
          0.023892287317248018,
          0.6703963948146858,
          0.7996627431599505,
          0.5833737164149413,
          -0.11689578549234186,
          0.7123683209024146,
          1.5310948073312343,
          -1.606980022160721,
          1.855994257066213,
          0.044375399803954316,
          1.2105451052359497,
          -0.6133121765032442,
          1.0809283795560032,
          -0.21205336988886217,
          -1.1818910023338238,
          -0.7775444494726165,
          -0.6234088227383918,
          0.5694778943370111,
          1.7175189370213653,
          -1.0189490622171717,
          -1.118097633957597,
          0.5457794249420194,
          -1.2203204394225375,
          0.8906898331423577,
          0.9608276029309021,
          -1.267261303422767,
          1.6835784222939236,
          -0.7047166607825207,
          -0.6445389710374202,
          1.7118067203121399,
          2.0700335917909687,
          3.7740953500324323,
          -2.5264020438823365,
          3.0277051545857185,
          0.7863022708009582,
          2.853662751981017,
          3.7740953500324323,
          2.0513570557630874,
          1.4012277428553193,
          -0.9266969511957196,
          -0.6326476919953282,
          -1.127956307161738,
          -1.1810383810275724,
          1.9575377687744218,
          1.9979683623798539,
          0.06784792539787278,
          0.5362425827548248,
          -1.4777415250203894,
          -1.9777901671232034,
          -1.1096645491064128,
          -0.7895282956595118,
          -1.4068333771286503,
          -0.8359585182991218,
          -1.5475653090429005,
          -1.2046762480700852,
          -1.6143833336086235,
          -0.5314998546403885,
          0.18027712010472371,
          -0.7320794166920254,
          -0.035066869396598914,
          1.9807742361710334,
          0.4223294232920469,
          0.28360676072867375,
          -0.6255932639365427,
          0.711235320710877,
          -1.1077101885611744,
          0.48824908011310586,
          -0.22795730447657864,
          0.19717824977674145,
          0.31503199804626963,
          -1.267261303422767,
          1.1177165541627052,
          -0.4457172777483633,
          -0.8138693535483456,
          0.3178642790899825,
          -1.1464663024558068,
          -0.17714161009328017,
          0.34844421110531965,
          2.406404972446323,
          -0.00035252177764251343,
          1.887320341583244,
          -1.37252041645483,
          -1.2657688377536727,
          -0.6949733179444171,
          1.887320341583244,
          -0.810121318732317,
          -2.918341516468286,
          -0.9151402576715304,
          -0.9894869373615407,
          -0.2992327208272402,
          0.47601987186311795,
          -1.5094498562717904,
          1.887320341583244,
          1.1113603909961753,
          -0.37497601475159237,
          -1.2545771481814119,
          0.9048464943468988,
          0.14491983213610285,
          -1.0798413560153655,
          0.8958070512138059,
          2.0607557633872755,
          1.3380694906666513,
          -0.7927850799344993,
          0.7801239402947877,
          2.389002631678663,
          0.010923878415343532,
          -2.7011628810914154,
          0.3071600666562857,
          0.4060177721073541,
          -1.7931461706698204,
          0.6582528726690454,
          -1.5634644260717658,
          2.415054241488733,
          0.584333602925986,
          -0.6038418556220893,
          2.282537677712439,
          0.5348228328720831,
          0.4434997849539612,
          -0.6515118089357855,
          1.0533504658934303,
          -0.05684593511018145,
          0.7667072369067001,
          1.992429924558512,
          1.6650019235103073,
          0.09891338575271465,
          -0.21030445971978154,
          1.404959187868925,
          0.6572987131801561,
          -0.7572609888099865,
          -0.42897885501636696,
          -1.1663827255438746,
          -1.0375737857811518,
          0.3177602599695207,
          1.1770272825990276,
          2.5220133022988516,
          -0.35565697175471456,
          1.2739159471111894,
          0.1255266410729601,
          -0.04443688853521394,
          -0.9598826795695876,
          -0.9994617694103686,
          -0.17192238560156847,
          2.08250476696476,
          9.808615665275774,
          -1.9109995363880061,
          -1.5953448853504708,
          -0.20772046078352846,
          0.38379843657746754,
          -1.6622338726879482,
          -0.5449138158015006,
          0.3926042114015642,
          -1.0816366373679909,
          0.2533103235365397,
          -2.393874721053962,
          -0.4715012759360959,
          -0.1756116728172272,
          0.7451440430086229,
          -1.687349501878601,
          -0.20380451675243633,
          -0.6772495315786106,
          0.45154411590279386,
          -0.4727486064660558,
          -2.612478894522996,
          -0.5263262266185569,
          0.8079535533547797,
          0.11383168486562599,
          -0.8406691236039692,
          -0.07662975110137674,
          -0.5132639481080163,
          -0.5820581328286781,
          1.496618915147977,
          0.2159129418191702,
          0.8749333087385149,
          -0.4958347243325994,
          1.2667969389178988,
          -0.6352214968617711,
          1.7116862484491013,
          -0.05981311705813996,
          -0.6497724736162366,
          -0.6584021042342973,
          -0.11984531532774757,
          -0.6498927216938738,
          1.6583247694069516,
          2.002139326406235,
          0.10467094944932721,
          0.12593071239530423,
          0.92118428085053,
          1.1566985880876277,
          4.137971827721915,
          0.45103399100912756,
          0.7392753979079764,
          0.7802223761612866,
          -2.001011530090774,
          -0.5462424385825635,
          1.2886913072683872,
          -0.41389348527970954,
          0.5142060333389618,
          -0.1983400279045013,
          -1.1325191168425948,
          1.088833514659241,
          -0.8852774981108771,
          -0.25957366671033005,
          -0.3365596012460418,
          -1.43830206059488,
          -0.8553689297851284,
          2.0374156634903384,
          -1.0849805099308287,
          -2.624972510429553,
          -0.2911849371881086,
          -0.9406771827196857,
          -0.8619638727305476,
          -0.7446552433346811,
          -1.580640430044734,
          -0.24540199652620542,
          0.16613234798095322,
          0.25522346651492034,
          0.8974807722274428,
          0.6208671719375564,
          0.2805925306926598,
          -0.6340873085014103,
          1.0661851762831918,
          1.5503964871266431,
          -0.7612398420860176,
          -0.0692274923552735,
          -2.1577156365998063,
          2.187271309515399,
          -1.321554852062232,
          0.7356238326523745,
          0.767364251082471,
          -0.06979929244776403,
          0.48866766504332193,
          0.2669812198875652,
          0.7328123563979603,
          0.5861214875061441,
          -0.9953858151396198,
          -0.17759522520564278,
          -0.6764116893753374,
          -1.2989213224117415,
          0.8921496309187914,
          -2.2675364797362914,
          -0.6406026434243647,
          0.08160718107044493,
          0.797653690344075,
          -2.531916305770244,
          -1.079901417635556,
          -0.19615586969321397,
          1.1384170320766476,
          0.2870754908025138,
          0.4226851034531932,
          1.5804058973004487,
          0.7663364597659571,
          -0.6146786963745646,
          -1.1175193421862744,
          0.6785761172927816,
          -1.1806363394390706,
          -1.2359788765089361,
          -0.31955324249624784,
          -0.3744071069079027,
          -1.8640708749147745,
          -1.7773287436540273,
          -1.981360854814621,
          0.25707335983407037,
          -0.6155426574374933,
          0.2429255993826787,
          -1.1616324224085073,
          1.8958622798558837,
          -0.3356606365168616,
          -1.0694624857178232,
          1.7513158520768228,
          -2.4367945237996946,
          -0.7722764505011098,
          -1.1810989500449793,
          1.9317052289038248,
          0.5716358610330147,
          -0.466695749779107,
          0.7085487574433718,
          0.2816180026787553,
          0.390779689139953,
          1.8664572644859514,
          1.2570515395744695,
          -0.025989927797275575,
          0.08292369316000588,
          2.2125582507039687,
          0.3250617645608714,
          -1.1703087112108936,
          0.2742683209909468,
          0.7085487574433718,
          1.143739289582146,
          1.3752645944313244,
          -0.5836498678916405,
          0.19823214236746078,
          -1.614894781019973,
          1.0620864810567925,
          -0.9361637998070008,
          -0.022866776118989365,
          0.6613537913076044,
          0.3853063184308242,
          1.2299781646381993,
          -0.07782348751577016,
          -0.15923645755136398,
          0.4627913102919544,
          0.8672704536836494,
          1.5854835718191655,
          0.7367549070529662,
          0.7140682739125946,
          0.968836967811839,
          0.25126802391534464,
          0.5132039117659929,
          0.8372222203501746,
          -0.3573670748157761,
          0.771781649327701,
          -0.6074502986416032,
          -0.2694611797895223,
          -0.8556227790287777,
          -1.1068158657389375,
          0.18685711887944687,
          0.6816277954199138,
          0.9788842536594308,
          0.45208387285022456,
          -0.7983021441809109,
          -0.1338552566481268,
          -1.3796314186286907,
          -0.21078138640284438,
          -0.9811799170595057,
          -1.331994816318074,
          -0.19328093980775193,
          -0.27708365578956434,
          -1.9783775271564659,
          -1.3738927533892729,
          -1.2024447361796242,
          -1.3080694576617211,
          1.7650475397544336,
          -1.1229156368814175,
          -2.73092583215836,
          -0.8706224842112559,
          -0.5243173469086183,
          -1.109747986361625,
          -1.23080398319495,
          1.1494624022273898,
          1.964197765747787,
          2.178529382318977,
          -2.8135610607731665,
          -0.44468607627745715,
          -1.3634716348410452,
          -0.6220149462494279,
          1.0416800370699917,
          -0.3952177166580225,
          -0.19449469553584187,
          -0.38526083549147283,
          -0.06318642030527051,
          -0.06793988912861192,
          0.047525272443749794,
          -1.2880149374051086,
          -0.4742245086831733,
          -1.3815311599721707,
          -1.4991282734577849,
          0.10597497457687897,
          1.2977230389711831,
          -1.4864565185645993,
          -0.04309271241806752,
          -2.332831179770085,
          0.9425352116267085,
          -0.978285210370749,
          -0.8375933378434293,
          0.24182119457517615,
          -0.849007708129131,
          0.0673753083103228,
          -1.174535786255179,
          -0.627131539281845,
          -0.5770669957486705,
          -1.3448712697469256,
          0.2319654410246684,
          0.84451973909032,
          -0.4029009897872094,
          -0.005736214361112885,
          0.4499143340358735,
          0.6750056141422731,
          0.28269214284247507,
          1.2696072180370284,
          -0.48718018052216155,
          0.6108104896236385,
          -0.4948587314914135,
          0.11817817238234182,
          0.7334875142917906,
          -0.5180917961506786,
          0.18106416040858114,
          0.7146230917208748,
          0.7428997971628288,
          0.5593656303835157,
          0.4849053310827822,
          -1.0171259983707728,
          0.38781049055471023,
          1.622637784339554,
          -0.17809704794334785,
          -0.12476503646774108,
          -0.2961779604109379,
          -0.2737989226362764,
          -0.9268841480713084,
          -2.0380101122304195,
          1.4506337137912306,
          -2.0579085201675236,
          0.033027310562340574,
          -0.6887356962529703,
          -0.519081532889865,
          -0.7472663186110983,
          -0.8682390206907931,
          -0.23433916561783094,
          -1.4053392824479323,
          -1.2981861098400016,
          -1.1127467506287074,
          -0.9768526143068073,
          0.6741636247927312,
          -0.9814765781246834,
          1.0934127148953359,
          1.1383910108144224,
          0.06965396958827796,
          1.9959801067556349,
          0.9755122541602348,
          0.6623848700199328,
          -0.8861233320777758,
          0.7021569500086011,
          0.7363870858767178,
          0.2330089649067199,
          0.15532837478584297,
          -0.7151335683911898,
          0.453462304476265,
          0.5953873912830424,
          -0.12083862405770146,
          -0.7904677532104043,
          0.7442943549477109,
          -0.5173945461923839,
          -1.367181553739716,
          -2.164760686281045,
          2.406575770189158,
          -1.2491142295755082,
          -1.7138057454863673,
          -1.1199854719256812,
          1.6019710557732292,
          -0.7298052345060054,
          2.696272599035894,
          -0.3514964395317297,
          -1.702470907429889,
          -2.6028083441033294,
          -0.0018618573810418176,
          -1.678578747257528,
          0.1710084301558375,
          -0.2664486511200114,
          0.07288441826828135,
          -0.5148061391081232,
          -3.652147331222937,
          -1.522995597008852,
          -0.3615044442366945,
          0.3320991460197071,
          0.06386128061298385,
          -0.06798773550581667,
          -0.06798773550581667,
          1.660087892788121,
          -0.5499230709138873,
          1.1657589760111973,
          -0.5731714708818137,
          -1.6661836834923538,
          -1.4165624627850488,
          -1.4308328180936054,
          -1.1943971753589058,
          -1.4274095208739388,
          -1.15112099707704,
          -1.4869190971071633,
          -1.5228713473950621,
          -1.4516382091534201,
          0.17590165038654978,
          -1.2007541057312043,
          -1.157451330411489,
          -0.877590538363431,
          -0.5753777267466671,
          -2.0477466943732683,
          -1.2612019677118838,
          -1.6578915972040793,
          -0.9738377876979736,
          -1.3021828325620213,
          2.0304286520410355,
          0.735429388663364,
          -1.4150905188260006,
          0.5545644883197954,
          0.49610856408442405,
          -1.430563963798723,
          1.6075802808416464,
          -0.8012284798287436,
          0.6747351899313605,
          0.12194654885889787,
          -0.09902124256603922,
          -0.06924925887923102,
          0.6715536596689557,
          -1.1968649079150158,
          2.178529382318977,
          0.7120396547541893,
          1.071911729382904,
          1.1478520740596874,
          0.6481283190597519,
          -0.5960966025054214,
          0.22109387579758055,
          1.9766866328626111,
          0.06676449711305016,
          0.9143713972798214,
          2.84677082653431,
          0.14701877091225835,
          1.281646969809815,
          2.84677082653431,
          -1.940794020637523,
          0.045940278560430474,
          -2.106243615014699,
          -0.7473077818496998,
          0.3813305370708728,
          1.1563480223931888,
          0.09832857235023819,
          1.3195450645550888,
          0.683850221106294,
          0.9286327150239324,
          1.2197449477602873,
          1.1812618877138947,
          -0.2462677983935707,
          1.0543507232368006,
          1.6346249482684627,
          1.1208526375187822,
          1.166500400610699,
          0.3592048896803263,
          2.9368444395740854,
          2.359411015343154,
          1.5909270645632743,
          -0.21910571865285208,
          2.2780569687552292,
          2.6215188359867847,
          1.5149446421866564,
          2.1521154668475537,
          0.3527371550411692,
          -1.5239595469807012,
          0.8283125934152258,
          1.4516358923430048,
          -0.07205021415422923,
          -1.1760735761202985,
          -3.1982178651250677,
          -0.820181843812286,
          0.6486029919662091,
          -1.8391905524002927,
          -0.295833278440795,
          -0.08593625358313285,
          2.161647716158942,
          -1.556651173133042,
          -0.1914810210768595,
          -0.7299870431004486,
          -0.7726676252422116,
          -0.8789815373159131,
          2.596594940330132,
          -0.9684721849669113,
          -0.012415922773762439,
          2.777631799250747,
          0.008146240049375104,
          -0.12915323542917945,
          0.6678652880289526,
          -1.5107021703796688,
          3.073149355538071,
          -1.4438610416065336,
          -0.5025097048772165,
          1.3242077355585733,
          0.5827095805282668,
          -2.197356875373617,
          -0.1475387356974879,
          -0.4880953525546381,
          -1.3450083943612807,
          0.3268532613083858,
          0.8459249238174408,
          2.252464482030417,
          3.30499315460897,
          0.03839524739570417,
          0.9816545686601089,
          -1.7461053753967286,
          -1.4139744288995475,
          0.10598670322736035,
          -1.1229631780375946,
          1.3844106892201409,
          -0.16167197298894095,
          -2.2544696238792863,
          -0.6869253409334289,
          0.7902407593582305,
          -0.14973732308851198,
          2.0284456703648446,
          1.0809283795560032,
          0.25328243485601293,
          -0.13986980407637514,
          1.5193532518080153,
          -1.5507576235702558,
          -0.8088935101256501,
          0.15044670458467144,
          -0.04500234018913875,
          0.18720132576080944,
          1.2968594264079625,
          -0.4626240158171085,
          1.0988180711853757,
          -0.42462718617279316,
          -0.818560605317474,
          1.1197926281004655,
          -0.6119842950529533,
          0.29474561896679224,
          1.4551038711161925,
          -0.41001794748550197,
          0.5691942254362459,
          -2.590599150048017,
          -0.18202951374809767,
          -0.8607013036745839,
          -2.2960756072603283,
          1.3167076465878877,
          -0.2725169039811784,
          -0.5566738862995992,
          -0.7152170885868782,
          -0.7028362760612363,
          0.06303033231618405,
          -0.9902208730061556,
          0.01972410670452893,
          -1.560139230215976,
          1.2645522348953004,
          1.738302222935589,
          -0.2495732285193389,
          -1.0702528843505708,
          -1.2844295150086993,
          -1.2464356433071118,
          2.2993299862982375,
          1.1641245992756373,
          0.7015448503931605,
          -1.5291054878331347,
          1.2451125043197102,
          1.2631399169680362,
          2.2103714360060254,
          0.8690317957680934,
          1.7953295321679053,
          -0.22799795098332123,
          1.035496693630142,
          1.747185016862292,
          0.6393512413680978,
          2.732274605758205,
          1.9385695616987804,
          -1.4797811365083366,
          2.6268932317139178,
          -0.9871339708869412,
          1.503013028703805,
          1.0529794513877173,
          1.2377964378668722,
          1.3964744337563024,
          -0.40502039300439263,
          -0.9982484808587226,
          -1.546883743976747,
          3.1825154078065854,
          -1.541263478536012,
          0.8001407315361092,
          1.6262958353849535,
          -3.4389885917616074,
          0.5753938621894721,
          2.2122163894790114,
          2.4836772733523036,
          0.5885938945441714,
          -4.121183392702434,
          -1.3940325838598786,
          0.7540240214844238,
          -0.9321725445352375,
          3.0281100691433456,
          2.2881131630279743,
          -0.40786311925113033,
          1.118236966044158,
          -1.304592313992267,
          -1.01147150543045,
          1.4550998217037563,
          -0.11640318223675873,
          -2.4161106590600347,
          -1.9796288927708388,
          0.16213361299954104,
          -0.4682875272625711,
          0.591316729418083,
          -0.3108898220591177,
          -2.5200907369768615,
          -0.09431542449179693,
          -0.13783072116580292,
          0.6444051988424165,
          -1.162064466052444,
          -0.5610637779327764,
          0.2316888902685767,
          -0.5581193468046429,
          0.2153890923015164,
          0.38654712958518983,
          0.9889416595795443,
          0.7515095953074546,
          -0.2332940537339593,
          -1.229747887102902,
          0.8201643769410969,
          -0.15882043442039417,
          -0.7565388853115717,
          -2.1120286151716274,
          1.8405369669807967,
          0.5764743024800885,
          -0.6914969477991746,
          -0.31577070586742334,
          -0.8810996699177831,
          0.8021470798848591,
          0.19347997695700553,
          -0.42601966535244234,
          -0.594341656304827,
          1.429187287610048,
          -0.1640924591100482,
          0.8120993643015327,
          -1.502649842253866,
          2.598779509754674,
          0.5293587436794369,
          0.7783608326259323,
          0.6238136690580937,
          -0.12191949193504828,
          0.2679161610638065,
          0.42379064874775113,
          1.0686408169382282,
          1.4026574288018119,
          1.38798165614311,
          -0.21462188479536648,
          1.5320826718596217,
          -0.650364763197722,
          1.3022033030346332,
          -1.3393116405859753,
          0.09681015173227799,
          -1.315588006217712,
          3.2836447682990144,
          2.7994210517958296,
          1.3470804164822874,
          -0.18101845690861285,
          -0.1754369017855208,
          0.6064345226532626,
          2.777631799250747,
          -1.8230617493286487,
          0.13057729102599278,
          1.2313845008696023,
          0.3466045216035876,
          -0.09832938999496153,
          -0.0943677765923294,
          -1.8418970721984353,
          0.5570265612360747,
          0.3387411601865374,
          1.0151455031556174,
          0.7643506416929181,
          0.08291424450270422,
          -0.10603512351487338,
          -0.04999871550889705,
          -0.8471965335775022,
          -0.7625426989529603,
          0.44949717893278546,
          1.1125741175253248,
          0.6084618967296074,
          -1.2541278438638552,
          -0.6314035129261302,
          1.296284905765053,
          0.24621207217738078,
          0.05394140392631997,
          1.4956554144984222,
          1.7899910019342102,
          0.4706658161331808,
          0.519657362120606,
          -0.09702344877198796,
          -1.6289827036759508,
          -0.1476210353558334,
          -1.0538483392872005,
          2.5754738973101525,
          0.3269827008452088,
          -1.0584835530918633,
          0.28102921468649217,
          1.4795346263809068,
          0.8726252657977525,
          0.019121467791141426,
          0.8287698711128353,
          1.137836809617572,
          0.26354457909270224,
          2.2707965426279704,
          1.3077206199092632,
          0.8185767880870041,
          0.665076854933505,
          1.7874380723813008,
          2.066405130723687,
          -0.3463926836305332,
          -0.8577415633782204,
          -0.3466429693933378,
          -1.0922817043651112,
          -1.3118166173906034,
          0.8976326080505251,
          2.5385277673135653,
          -1.1870387717949198,
          2.786982618493673,
          0.2545143723187328,
          0.38936147667519894,
          -1.1071412055199408,
          1.6107705074878331,
          -1.1739525088554195,
          -2.061682013256689,
          -2.8053945963871203,
          -0.8831663371685525,
          -2.0633678994235947,
          -1.7987616717190278,
          -0.4207314753269794,
          -0.61480242132908,
          2.27439344992207,
          0.18599348650960348,
          -0.589859390419155,
          -1.2018199465962733,
          -0.1105087169837728,
          -0.5749320975573816,
          -0.6406026434243647,
          -1.3543005202399991,
          -1.5725660924039027,
          -0.642120748801083,
          -1.7657936503406657,
          -1.4009596285162937,
          -0.5103533356941596,
          0.3136669597306124,
          0.10148720546280462,
          -2.227761661146166,
          -2.166398930590745,
          0.9798370766144248,
          1.2933397156417676,
          -0.18737478514681388,
          0.3543719949788684,
          -0.4940457410139055,
          0.40820241461265594,
          0.07545889725108082,
          -0.020097489442545507,
          -0.5232755081075602,
          -1.1151845701111465,
          -0.03524547218808925,
          -1.7256356053318616,
          2.5653555509713564,
          3.7855980781445697,
          -0.5196969124319146,
          2.022522949103085,
          -0.3273361120999766,
          0.9020944113643274,
          -0.9310219539819908,
          2.5653555509713564,
          -0.9971014093097128,
          -0.29762929933797144,
          0.32410340956387307,
          -0.39729658274353474,
          -0.2918528030421973,
          1.258970406007548,
          -1.1152716845022315,
          -0.6068327709989897,
          -0.019608718525090826,
          1.857689027053376,
          -0.4460132004082276,
          -0.08888667464901692,
          1.2226267391788161,
          1.318041944793479,
          2.8347796606319924,
          -1.6881739103057396,
          0.8702582499121755,
          -0.6016329590871643,
          -1.6520216682288407,
          -0.6742172913753657,
          -0.16801077379186707,
          0.6829368856864031,
          1.016614142088522,
          -1.1573513700831826,
          -0.9920311725425562,
          -0.30940759541017737,
          0.2731435477189477,
          0.01583870155865695,
          0.7240235934694058,
          0.8707080592041285,
          0.216019779795582,
          0.4183086601789257,
          -0.7748456390260222,
          1.670090775433567,
          0.21471234273482487,
          -1.17334478380656,
          1.0707460862605112,
          -0.5757347764161701,
          2.7914806372152183,
          0.807348422048244,
          -1.0511858033337018,
          -1.163890600220107,
          -0.9323783000383279,
          1.4338452229528638,
          1.5482517667524,
          -0.8243053696849098,
          -0.21727761748933574,
          0.7408819707686044,
          0.7766444874755674,
          1.2466074522256292,
          0.7996077501042859,
          0.7098984500909362,
          0.15738238233608817,
          0.8291981600164916,
          0.4115211848400113,
          0.18507012194701042,
          -1.069988920233643,
          0.5477835991559205,
          1.0667926679701105,
          -0.8775491680441393,
          -0.4112771774398264,
          0.0956270224192849,
          0.07627133581845968,
          -0.41211540420469267,
          1.2651376595429655,
          1.135051836093592,
          -0.06337771493284043,
          -0.435462014062576,
          0.7196787549342655,
          -4.402578912524444,
          1.9687208683682647,
          0.6555126013851452,
          -0.05604008805531087,
          0.3601484392440374,
          -0.3393310530515739,
          -0.05618864061895102,
          -0.7620360756541404,
          2.276584436476028,
          -0.1809785248737478,
          0.047410307066850635,
          0.9977781862139063,
          -0.10368604875802587,
          0.08477651925558415,
          0.8612425944740147,
          0.7906107892066145,
          2.222153168898034,
          0.9271137572827836,
          -0.933076573827795,
          -0.8988029806520142,
          -2.3137946958988995,
          -1.2620312997889227,
          1.5310948073312343,
          -0.4698002472753565,
          0.8215286852076051,
          0.7262953082237106,
          0.3474608869182163,
          0.19331601407251783,
          1.40302092570133,
          1.4136472750859503,
          1.4846899884981617,
          -0.31071788634396136,
          -0.10512270723038841,
          2.7885881960637953,
          0.6942665279067924,
          -1.622120516819674,
          -1.5358891258969787,
          -5.390230091324021,
          -0.0538271458380847,
          -0.2898665417593178,
          -1.2603822989769304,
          -0.780322454564141,
          1.505149577031161,
          0.5803112501175954,
          2.086664936649378,
          -0.1816100174064428,
          -0.6501600677716775,
          2.800508129550585,
          2.0106846318145104,
          1.0261929757046167,
          0.8826209995591463,
          1.4018861885732572,
          -0.16219622891775906,
          0.25599546097227616,
          0.8691497060902634,
          -1.501184848873211,
          -0.32005972773275615,
          -1.294499404202614,
          -0.5456178840144877,
          1.8888243208697109,
          -0.5729396178889077,
          -1.4908371626663004,
          -2.1898217107727236,
          -0.6979816378653634,
          -0.23905295474811714,
          2.409294352998545,
          0.9257675849876749,
          1.5566745603483823,
          -1.00693749672428,
          1.0084966732206229,
          0.9323963957092496,
          -1.0527303276752833,
          -1.2373064742887592,
          -1.0619565111290779,
          -0.5555449222733371,
          0.9788842536594308,
          1.0408259298766658,
          -2.8428263971497465,
          0.5180488529611266,
          -1.690511065274156,
          -0.3262885111417046,
          -2.130031613612814,
          -1.1278168907275705,
          -1.281563485961733,
          2.4684970360729044,
          1.0838583358054055,
          -3.134978290334299,
          -1.6413306810627175,
          -0.4525027847066137,
          -1.9522743211029685,
          0.483622910751916,
          -1.4563425687414246,
          -0.1098731438504191,
          0.615857613709947,
          -0.5868950184257326,
          0.5769079407121154,
          0.9088328834540075,
          0.974054360965443,
          1.4055402227803486,
          -0.45150411441299804,
          0.8918181728173383,
          0.897536079664849,
          -0.6621999979037618,
          0.9635875557456018,
          -1.2252005169240605,
          0.8707039875644672,
          0.8253771930222167,
          1.0561426926150983,
          -0.9405407931339537,
          -1.8287828386842526,
          -1.3540124493050352,
          -1.606980022160721,
          0.3460117677467235,
          -0.482243700361704,
          -1.079742157652027,
          2.049442378801733,
          -0.686358986444106,
          -1.2312058155561385,
          -0.4408077734631789,
          1.910392882739906,
          0.03270583740353617,
          -0.20996796039133617,
          -0.6289580764774869,
          0.5105359440905787,
          -0.9591936739663655,
          -0.6258817633061422,
          0.0652014234646771,
          -1.7822998845983427,
          -0.8405755615134077,
          -0.6824369774306125,
          -0.30506673575070564,
          -0.6683855409374195,
          -1.2952094103434566,
          4.8265599313504275,
          -0.33603727332859434,
          0.5404265351754735,
          -0.12259444631687194,
          0.4040503109581143,
          -0.43068633033445164,
          -0.24231908854981504,
          -3.7463039154987903,
          0.3903540292108675,
          -0.35595835639309104,
          0.06001886261222945,
          -0.8933600247286201,
          -0.8933600247286201,
          -2.086516395357708,
          -1.7010795872307398,
          0.2606769403007997,
          1.092259393392992,
          1.234550675135648,
          -0.4882407877851652,
          0.4524186313225971,
          -0.8399721363552345,
          -1.5610763688475304,
          -0.5750562636036373,
          -0.8381301731828626,
          -2.73092583215836,
          0.7874939756284257,
          0.4911950927440073,
          0.37744873752101515,
          -0.9967827441174487,
          1.2010413815187766,
          -1.6818591537753553,
          -1.4601155094272105,
          -1.4601155094272105,
          1.2010413815187766,
          1.0670428479199028,
          -0.45679465998486174,
          -1.2245378851001374,
          0.6475400473459301,
          1.71943373875804,
          0.4721520501796535,
          0.13514671558854988,
          -0.28063377886379576,
          -0.35412608462657774,
          1.031857393080047,
          1.7208456743530538,
          1.3009344093014217,
          0.4789975912632347,
          1.869734898114163,
          -0.5914828614287035,
          -2.0590376645165573,
          0.26757430621377765,
          -0.9853266239471629,
          -0.4604816004754549,
          -0.5391510807840101,
          0.9443175429761813,
          -0.259953029869618,
          -1.0649853089125996,
          -0.23905742054502574,
          -0.7345811253619413,
          -0.08720400421958191,
          -0.048942049376890534,
          -2.865759634712726,
          0.641459461691022,
          0.652003789350813,
          0.2747868787312034,
          -0.08784013708631368,
          0.6768356895737329,
          0.35920674858526863,
          -1.3101377947307828,
          -0.06956410118681552,
          0.21875627038952816,
          -0.10658644268281176,
          0.3257683708684389,
          -0.2924354141491253,
          0.6336547576565387,
          0.3133456930887126,
          -0.5032505939465289,
          0.5371220456325408,
          2.3743377142720083,
          0.2790429935717417,
          3.1922750681240517,
          0.08380126477325377,
          -0.34517502480052265,
          0.616709899310488,
          -1.0792900548148625,
          0.14936143468669924,
          0.4447099327029953,
          -0.5114790901334098,
          2.178529382318977,
          0.457220602073149,
          -0.25556123260532926,
          -0.8074208670098912,
          0.9472386308757991,
          -1.2426905814373956,
          -0.3364176185262618,
          1.0736651373184203,
          1.1904782212570642,
          0.7623681292410838,
          -0.6732696472195221,
          -0.6440393410699308,
          -0.4569795729109636,
          -0.9355214742832713,
          2.992943722669243,
          2.7260040104125713,
          0.5718932501658427,
          1.588926021384988,
          -0.20647348498483112,
          2.5038347489576935,
          0.2961501475715508,
          1.0846189796399635,
          -2.2022095311350434,
          -1.4404515406505798,
          -1.2821572583643785,
          -1.0392645050027773,
          -0.835978428243052,
          -0.30479871560060245,
          2.0729705769748663,
          -1.8586859035534322,
          -1.2049475634533102,
          -0.5032153485091956,
          0.33624312056904127,
          2.5649619811228295,
          0.3017574318526961,
          -1.7667927291437815,
          0.823543541008874,
          -0.22551329798239286,
          -2.73092583215836,
          -1.6613392304245813,
          -0.5014512201902248,
          -0.6092820716180192,
          0.8458223801724134,
          -1.9773985178392355,
          -1.0538519726242703,
          1.8607976208546817,
          -0.3395686494139362,
          -0.9174984834704721,
          -0.8125754547368499,
          0.14301701527301655,
          -0.43627379330685845,
          -0.9044991715514362,
          -0.276789218115056,
          -0.2457930742265121,
          -0.8244011946355031,
          0.9298124473763081,
          -0.5950664354754107,
          0.4412507041863297,
          0.84451973909032,
          -0.46507013203248204,
          2.1319338498127425,
          2.1319338498127425,
          -0.3313983578893626,
          0.4415323021122128,
          0.0799897837563183,
          -0.3963211426076443,
          2.1319338498127425,
          -0.8155413081291486,
          3.171873475784781,
          -0.5190281872867483,
          -0.04992336453818147,
          -0.5719527809990393,
          1.4382986039502876,
          1.0900669684738835,
          1.7843626906751495,
          0.10095590734267965,
          -0.6444052078607323,
          -0.6061843984291291,
          0.5550883374467257,
          1.5481209530840563,
          -0.7817051706674062,
          -0.6388486423779081,
          -0.1709022340110751,
          -0.32611218191329594,
          2.301222596672438,
          1.7357442769118525,
          0.046925631639285065,
          1.3344903152923,
          -0.311512547216256,
          1.5407603460529977,
          1.508579927316923,
          0.807560413027533,
          -0.4410685895903916,
          1.14618920911041,
          1.0750781640158087,
          -0.025287696876737483,
          1.0359956773490946,
          0.7940371917879298,
          0.01029807997203164,
          -0.23136664446222235,
          -1.1263578380899055,
          0.34827356830738804,
          0.7188007759804195,
          -1.2006685866016813,
          -0.48874919385379556,
          1.0511329441517376,
          0.7337050641208384,
          0.5801340207770189,
          1.746518548949691,
          1.5845399675575031,
          1.229362757056715,
          -0.06943785397606766,
          1.3142245990799344,
          0.3466877992177156,
          -0.3224727914058883,
          0.2900924021945514,
          1.274463103930165,
          1.9501468899176195,
          1.229362757056715,
          -2.3742008151056586,
          0.8097924046763028,
          0.3257493828803771,
          -0.11367229774894572,
          0.5239443339764686,
          1.6637469576513124,
          1.745347174782663,
          0.19832259823787107,
          1.725868171022634,
          1.474575388027563,
          1.6228113586987196,
          2.126492838412723,
          0.3083705907543971,
          1.1642030880653833,
          1.141539810653928,
          -0.025287696876737483,
          -0.6942782995410622,
          0.6062441505324687,
          0.8056575915427338,
          -0.9718696038331143,
          1.184647502588819,
          0.2226039312098777,
          -1.1380333885721887,
          -0.4229417107027701,
          -0.96038428412995,
          -1.265586488281602,
          -1.6743094682762183,
          -0.9592325696676626,
          -2.2082757823500154,
          -0.7614311127461272,
          -0.9283602915772451,
          -1.0003872778034206,
          0.3330594280435984,
          -0.19978661479337134,
          -0.09779050727088565,
          -0.32732316638661946,
          0.32999149224548013,
          -0.17328787315154404,
          -0.21810390747021483,
          2.0778770647655067,
          0.02548911291235581,
          -0.941850780328377,
          -0.4804940299306705,
          -0.4777960559294731,
          -0.523632623549194,
          -0.9163671842424645,
          -1.2884126387002188,
          0.7256755059981315,
          -0.5361754770471583,
          -0.20004831834695264,
          -1.561352200110988,
          -0.61421212038373,
          -1.1941311908090269,
          -2.1123758191296798,
          -0.7475462109839744,
          -1.0862550094175352,
          0.607292177975292,
          -0.3597777472887285,
          -1.5821085055818653,
          -0.13876869479145912,
          -0.00398216353961091,
          -1.7721004542251886,
          -0.10800633824616152,
          -1.7184551482442993,
          -0.7220600773571375,
          -2.0084981311726917,
          3.7855980781445697,
          -0.6245323153977081,
          -0.18114110937883593,
          -0.022800292142005577,
          -0.15263025560776597,
          -0.18879500559028406,
          -2.323447975853469,
          -1.612958575629984,
          -1.9259738186536488,
          -1.4099877285403852,
          0.10661860207797022,
          -3.2055384867100982,
          0.532307265292735,
          1.8282937839211113,
          -0.6155007542491487,
          1.3122550950150018,
          0.6822192108782611,
          -1.0354897180880482,
          -0.4567652894288663,
          -0.8453131010072391,
          -1.9210975153315755,
          -0.6527180829080148,
          0.02426250545143578,
          -1.1247553043951943,
          0.401455694845416,
          0.053466258378493295,
          -1.7065805207387796,
          -1.9235702921852273,
          -0.6810658577223943,
          1.6164448236652194,
          0.09441690780118896,
          -0.5757347764161701,
          -5.324849710991159,
          -1.8070057827169663,
          -0.021224692335780795,
          -0.8179812815431775,
          -1.3805997531516452,
          -0.42525522515752856,
          -1.152342456182801,
          -0.6194712237286737,
          0.2735411475255186,
          -1.2756162640421804,
          1.7770619659271742,
          -0.45488241736513824,
          -0.4217610806862279,
          -0.6384313705147731,
          0.3983427053701477,
          -0.18775644327673427,
          1.6973069926470388,
          -1.549598120569179,
          0.19379976247851896,
          0.4813935019603195,
          -0.20512310302811254,
          -1.0982469509351993,
          -1.5081390298152724,
          1.423517603838812,
          0.8841847068181846,
          0.20932951138073838,
          -0.5197990686970089,
          -0.7780011535498264,
          -0.08477339014202888,
          0.7143393983015879,
          0.13736835214689613,
          0.7007718477066598,
          -1.009197651514128,
          -1.0020222624106305,
          -0.7434581785609026,
          -0.7805593020332112,
          -1.3122341658827277,
          1.0170344495471046,
          -0.3040733125345676,
          0.0894631503005439,
          -0.3123068127017177,
          -0.164568014419161,
          -0.20494956985883142,
          -0.07991557811551428,
          -0.48004023356821274,
          1.041874629670968,
          0.4183237628628035,
          -1.0277443701394038,
          -0.6611049658549459,
          -0.6489680497255804,
          -0.38526083549147294,
          0.1744841053717772,
          0.5248339009637609,
          -0.4352913993616492,
          1.1609463777718747,
          0.2589852009041751,
          -0.42691453943558544,
          -0.6464046362867766,
          0.42815031752521604,
          0.4327388460338249,
          -0.10281476747520336,
          1.7409198864727415,
          0.5389720184815611,
          0.20213755898732724,
          0.7995084254451732,
          -2.2233358551456646,
          -0.29818416988592994,
          0.4103470932355616,
          -1.183936702847162,
          -1.1071412055199408,
          -1.1559737393615086,
          0.447151576388069,
          0.710867710084307,
          -0.4873342819660078,
          0.6078594827312329,
          0.14936260868723306,
          -0.5306247834551385,
          -1.4600986525329225,
          2.1588799721449377,
          1.4175724059415644,
          2.3234746462337403,
          -0.7264340924704078,
          0.5380051620704802,
          -1.5551401795197888,
          -0.23681909680486016,
          0.48309881468210863,
          -1.6654053221269085,
          -0.7714833608045419,
          0.43587842058410947,
          -0.9528768477392708,
          -1.6818591537753553,
          -1.1853532984892685,
          0.03981564058480907,
          0.4276802732664074,
          -1.1439320101672592,
          0.48812003926868053,
          1.066662585650464,
          0.011626124047277607,
          0.5060631780243195,
          1.4863001605179276,
          -1.2844967685177497,
          -0.37133890488071314,
          1.9640017001666557,
          -0.16778180715887275,
          -0.604035578245663,
          0.29178307745409765,
          -1.474121857523542,
          -1.1120222115701348,
          0.3059623637210827,
          -0.43793654039099894,
          -0.5672204471636627,
          -1.4898328117949904,
          -0.43677317153655115,
          -0.9923148417845846,
          -0.2090243774305259,
          -1.0654567706274052,
          0.7770097252992123,
          0.33401701714382925,
          0.5252445248516967,
          1.8155609678787519,
          0.5081082583965714,
          -1.711762641022563,
          0.4959448449737458,
          1.7418772023653089,
          1.4017740558582383,
          0.2819221874301149,
          0.13536712504467766,
          0.07841349962985632,
          0.624522949093913,
          -0.35942637089814505,
          1.740676276274569,
          1.7810790132391312,
          1.6140113589621887,
          1.6826908295445604,
          1.2215784649122454,
          0.9220277790772258,
          1.761739528696355,
          1.569076746725293,
          2.7233564576301794,
          -0.47763708031993984,
          2.1233022870016174,
          -1.1063612328205017,
          0.10993501322157806,
          -1.6569223971159366,
          -0.7710263136821062,
          0.6354891072036867,
          -0.9350760961442339,
          -3.1540523613575306,
          -1.2137938729879876,
          -0.8438981481839096,
          -0.9125375098004542,
          0.23681176346470037,
          1.7845842030479535,
          1.987928065450016,
          1.887320341583244,
          1.3890820852305417,
          0.5250577760428046,
          -0.6949754865209067,
          -1.6187760969086666,
          -1.001906597455534,
          0.46327213127598,
          -0.16280340377950744,
          0.9104905958323077,
          0.42987233925511176,
          -1.1802309291515367,
          -1.1011781151568303,
          -2.409564022889263,
          -1.1367904663450696,
          -0.48103855836933845,
          -1.242917765011497,
          0.6135342320569064,
          0.06955499887095168,
          0.882505708245249,
          5.6610644697501415,
          -0.1617325261948561,
          0.5077876996619034,
          0.401455694845416,
          0.6099267306357661,
          0.7221971732916761,
          -1.1482497042279056,
          -0.3069504230571497,
          -0.7545499809956985,
          2.3277517381735198,
          0.24686911448379673,
          2.436830025160065,
          0.3434852089598277,
          0.5893342154021549,
          1.017508286688116,
          0.6428230485845237,
          0.08601275154033272,
          1.3216325337985877,
          1.7160008601508743,
          -0.5715956896217794,
          -0.8386394424269172,
          -0.37632737319680104,
          -0.004324987100126055,
          0.8203433536037078,
          0.916166751087152,
          -0.14941271670467812,
          0.6042109943935772,
          1.0137097562146624,
          0.13603763028618615,
          0.5283163487891251,
          -0.7549928952607802,
          0.16600454255353322,
          0.9505098176612289,
          -0.12126743768402261,
          -0.2766010244296395,
          0.282344052419291,
          -0.6505340216336402,
          0.5842145967287772,
          0.5598043266791877,
          -0.4591874361420248,
          1.18356592752123,
          0.747610936615994,
          0.09042435986383338,
          -1.1641913972188551,
          0.5884791515413875,
          -0.9406279038400553,
          0.18524942989997778,
          0.19004799950629864,
          0.8947453894033411,
          1.5051506536341948,
          0.8918238940497774,
          2.913545690631498,
          0.19535040548850774,
          -2.1347042752673895,
          -1.0963441427170522,
          -1.0963441427170522,
          -0.17984935525889512,
          -0.8950542673028752,
          0.4247555799804486,
          0.583105306526444,
          -1.0849805099308287,
          -2.8428263971497465,
          -0.9306059402806303,
          -1.2361284238426484,
          -0.9994364223214978,
          -0.8532624380946292,
          -1.2052063378789608,
          -3.006413789118258,
          -0.7091852339985293,
          -1.0871716684012869,
          -0.5411080761057536,
          -2.061682013256689,
          -1.8606143982219376,
          1.0730684436328815,
          -0.5750562636036373,
          -1.4422160971020928,
          0.1886789586010875,
          -1.375892005964173,
          -0.5901899611195294,
          0.9140536000059537,
          -2.3552209829195125,
          -1.1982458217628014,
          -1.4354924459886,
          -2.2823724017631157,
          -1.4495411317022129,
          -1.3961646106574408,
          -1.2322459853919894,
          -0.6873446047620487,
          -1.3331003309856124,
          -0.3457065151016597,
          -1.6510206389647344,
          -1.2550499258583436,
          -0.6079438902660649,
          -1.3761751048259727,
          -1.5947288333897798,
          -2.75681514610376,
          -2.0975174481531966,
          -1.789045300998638,
          0.2693814055156134,
          0.6810389452681551,
          -1.4846548825159882,
          0.7411803149126499,
          1.9235878436744343,
          -3.165362786607476,
          4.8265599313504275,
          -0.08741851902060427,
          -2.0674106916733965,
          -2.968734440754035,
          0.90646580207068,
          0.7987656364710455,
          -0.557138245544947,
          -0.2985993159826272,
          -1.1430498587646876,
          0.4817104725042956,
          0.24316610774922562,
          -1.280571140894989,
          -0.5518033813859777,
          -1.1406132411762977,
          -0.6281451448687295,
          -1.8650987670142078,
          -0.0715371270373824,
          -1.5947560608544487,
          1.4829391941010008,
          -0.03041744399149898,
          1.9025446924993994,
          -0.6947868184198277,
          0.14542983433201262,
          -0.7902420934319364,
          -0.4958217071530863,
          0.4233905789931018,
          0.7902407593582305,
          -0.326351184873616,
          1.1445857085486673,
          0.8799311581112477,
          -0.943943834061544,
          -0.42960764079663066,
          0.667091240469466,
          2.2933766544371195,
          -0.48544282290059093,
          -0.7261160220215014,
          0.6223149471238151,
          0.16143317928932477,
          0.7770097252992123,
          0.4494073239760205,
          0.2917261998932682,
          -2.855966032511485,
          -2.855966032511485,
          0.6559230533819528,
          1.4062937358818393,
          1.0147877716635763,
          -0.2578256762650222,
          2.161647716158942,
          0.9725077360054144,
          0.5566877659983641,
          -0.12451622959310225,
          0.3868410938488674,
          -2.2742671474040783,
          -0.5032745309280633,
          0.4632574382839316,
          0.24131108774215987,
          0.43473066937475874,
          -0.48608191553885094,
          1.3493684929291632,
          0.5291162113167038,
          1.3688832383135718,
          -0.7445120828736259,
          -1.487337348536498,
          -1.4723501299578963,
          -0.5094951483576841,
          -0.6626360277993802,
          -1.0397485474220636,
          -0.5147913976645222,
          0.6622361023624534,
          -0.12984942660822243,
          2.5095452655965045,
          0.03438825382887634,
          1.6820118145061915,
          -0.22151898410253923,
          -0.4154576536923475,
          1.8643364588341358,
          -0.69319161827156,
          3.389284322513327,
          1.6888125651475767,
          0.77248041027481,
          -0.02711420406282339,
          -0.4415817358862903,
          0.8066569243264341,
          1.3009605925765597,
          0.8036905200841323,
          1.455185427801069,
          -0.9668417120819913,
          -1.6011254016144791,
          0.4239634544031938,
          0.976869341411483,
          1.6643262992104528,
          0.6616282733623583,
          -0.07493749940943142,
          -0.05341915052323574,
          1.5817331684268638,
          0.25080378322681357,
          1.415016755302178,
          0.9464624614115403,
          1.7854208091586652,
          -1.8986513450642615,
          1.6602819900696815,
          -1.2797034194713341,
          -1.2278698439781472,
          1.5382079251100944,
          -0.9416686159264955,
          0.2595421804552321,
          1.0825135388044325,
          -0.4795650203233579,
          2.5234170447632387,
          0.5799128089869476,
          0.8994140052267804,
          -1.1652508706177427,
          3.5410661345301597,
          -0.6151603064563386,
          1.2037797236775674,
          -0.19189490558534053,
          3.7740953500324323,
          1.4190247050955023,
          0.4605236227815399,
          0.19506465400557726,
          0.8894868952712858,
          3.492340918964342,
          0.5095306889194502,
          2.5580337274539606,
          2.9413296035633754,
          2.9585376283879463,
          0.6664854167602061,
          1.275112218538203,
          1.0858549905634798,
          -1.022387489382872,
          -0.489612231152237,
          -0.8883453305418901,
          -1.0527146426813947,
          -1.5979672130884708,
          2.4205435798085655,
          -0.018409808694463972,
          1.3150039075834308,
          0.05034428153885814,
          1.2175238766675425,
          1.45131889744709,
          -0.7764384500968191,
          1.4989831502198472,
          -2.1120286151716274,
          -0.8242950319505048,
          -0.7193176773642332,
          -0.5324102979469517,
          -0.7377570441587165,
          -1.7549264883420497,
          -1.1175832891565394,
          -0.8167610018597069,
          -1.424607664856229,
          1.921009491852303,
          2.5107890898612393,
          -1.0983810149208904,
          -0.3190782424130801,
          -0.7018982279762422,
          1.1118432949722492,
          -0.43925124042932495,
          0.22403578221356354,
          0.6909457256744261,
          0.13117975779423136,
          0.17250022808780388,
          0.6909457256744261,
          0.8801445212944211,
          -0.1726494324053848,
          -0.9571843923901073,
          -0.34187442727366674,
          1.2354223195199217,
          -0.4772773599784353,
          0.6744175097128838,
          -0.40133533548180467,
          0.024502695165668133,
          1.0114888345052604,
          -0.8582289768525571,
          0.9394174796720584,
          0.418121381723274,
          -0.8914675871467154,
          -1.5430309314244652,
          -1.0478864536138879,
          -0.5196969124319145,
          2.093378912735372,
          0.04095302452669538,
          0.9543876770247649,
          -1.2613527108263567,
          -1.3497698875032436,
          0.10155215220948814,
          1.1395224978776415,
          -0.6224926824437776,
          -0.29961093997960103,
          -0.038761203351085065,
          -0.332841348169212,
          2.1948710462685423,
          0.3926654752334077,
          -0.7082917138338339,
          0.29023198327406596,
          1.3922680305446276,
          0.6626605141152968,
          0.6693446790274978,
          3.8268321408784614,
          1.0358556804491117,
          1.8888243208697109,
          0.9430672461585844,
          1.2597163972076568,
          -0.8635581785887455,
          -1.623692972127175,
          -1.2939500198084373,
          -1.6971954084152066,
          1.966372838418211,
          0.5163649992285024,
          0.5004206553924497,
          0.1409209811682249,
          -1.3864965358510823,
          -0.025169305094829928,
          -1.1102871922238338,
          -0.7901974202446427,
          -0.8316780531167192,
          -0.6670526559898651,
          1.4554367646834039,
          0.9890710951795673,
          0.9287715899499629,
          -0.5819582864843331,
          3.1033319622259445,
          -1.2547084597372244,
          -0.5922012386468025,
          0.44359553061128904,
          -1.1720025427993528,
          0.13010784025672267,
          -0.8263097141400582,
          0.5077876996619034,
          0.9391439233166058,
          -0.8361202369462665,
          -0.417104459169821,
          0.7424716521704829,
          0.6133935006749388,
          -0.6458383516302346,
          -1.7510201157210312,
          -0.3198383314567175,
          -1.4596407954660429,
          0.3245641073323011,
          -0.4305756298043268,
          -1.1280657628897428,
          -0.4656357674489769,
          1.2702245745656207,
          -0.2196527357209787,
          -0.6328920510936812,
          -0.6988975412606989,
          0.7686819591582698,
          -0.8578855206836884,
          -0.6751035437408789,
          -0.4860554777818971,
          -0.6387093576147189,
          -2.300355427669764,
          -1.408986963739954,
          0.532952416617027,
          -0.5503229283988352,
          0.26496692510713743,
          0.16553005113670224,
          -1.7294067262714885,
          -1.5577347517846214,
          0.7672821803529767,
          1.2004658861734088,
          1.406140145354596,
          -2.3501932035980544,
          -0.08627299783939954,
          0.8446557092574348,
          -0.6487851809748305,
          -1.7149594650926865,
          0.001392740735549595,
          -0.6547324029555956,
          -0.6716498259605356,
          -0.23597623740894336,
          0.906418797172991,
          0.8189954933017455,
          -3.965753596410916,
          -0.11703497197782892,
          -2.256751542779668,
          -0.09410452304932332,
          0.38125867172018074,
          2.697646336612403,
          0.5131120537669308,
          0.995921371130459,
          -1.2402689930457125,
          1.5628972442440008,
          -1.0607416100157367,
          -2.256751542779668,
          -0.9567877399978016,
          -1.729064874416467,
          0.20449305184851455,
          -1.4239004176118484,
          0.24505719072753268,
          -0.2503357512574898,
          -0.05687280290597581,
          -0.061435918394807235,
          0.7385669494015942,
          0.21719128364849952,
          0.7781800659952597,
          -0.6563513629989126,
          0.6651735153459154,
          -0.8660248605849117,
          0.1002314240411905,
          0.4355569975397272,
          -0.20416279444805763,
          -0.23066117701024924,
          -0.8316304566337299,
          0.7676614983898072,
          -0.2407920173599865,
          -0.26152158860559943,
          -0.41122320695676096,
          -0.8988800994715419,
          0.33369412234070445,
          0.6860578631441855,
          -0.4951214050625938,
          -0.05956019009530132,
          0.12075812107373304,
          0.44441784379878835,
          -0.6616514069680521,
          -1.4117539522982145,
          0.2781575732523071,
          1.2439293597589174,
          -0.23523107582540864,
          -1.2922767646910298,
          0.1324811428379808,
          -0.5926544520710976,
          3.1162867697322696,
          0.23782341079723876,
          -0.6096458997580987,
          -0.6930003232440012,
          -1.1323136221586485,
          2.198696819625908,
          1.158081048010405,
          1.2457790474239925,
          2.3900983846499297,
          0.24373481668966554,
          1.0924350472163034,
          0.2903542953149228,
          -0.22221128725046,
          1.8975682273569188,
          0.02128656045971352,
          1.3744385074293002,
          0.01571081049753038,
          1.9290845928997955,
          0.19741899494320175,
          2.3161896559614883,
          0.8430468316977255,
          0.7314162765751085,
          -0.7154802731599038,
          -2.2004649250143347,
          0.792040918702127,
          -0.5335446105803954,
          -0.6116306323663975,
          3.6031821127767283,
          1.0162723217827387,
          2.597830637319544,
          1.0108598689274613,
          1.0938512321728937,
          2.251323592944944,
          1.5770042098068666,
          1.3467527027553379,
          4.185024132169878,
          2.0897495005941096,
          1.0383832443919587,
          2.35084588373804,
          1.2583716721302423,
          0.740160926545783,
          2.160228863385688,
          -1.7852850671989065,
          1.0456398874007076,
          0.02815417728787484,
          -0.9361637998070008,
          -0.5220718237448791,
          3.513969831465891,
          1.1131804574029158,
          2.5375564571759526,
          -0.2901700140672194,
          -0.5300761897294449,
          -0.25693064754724615,
          -0.31426621774134605,
          2.556676519754198,
          -0.03293520236964054,
          -0.19885795871475254,
          2.4016454281870923,
          1.0351778267918215,
          0.6444849876155528,
          0.02830607493314425,
          -2.116290243984478,
          0.0023635999375387286,
          0.119629827894402,
          -2.347549242540538,
          -0.9201381858245032,
          -0.9743563680480044,
          0.6855028852755788,
          1.1370901144624295,
          0.5578793427893997,
          0.26544876172434034,
          1.4026574288018119,
          -1.1982458217628014,
          -0.4598399809985971,
          0.0041449469649615335,
          -0.12385926837783277,
          0.9074993270322184,
          2.96611763483044,
          0.23373058553335213,
          -1.0639389150223288,
          -0.4622098125985713,
          -0.2980526711510964,
          -0.5943153326486952,
          -1.6613392304245813,
          -0.36790667229535573,
          -1.04971346045614,
          -1.3494016832394555,
          0.7991499058784427,
          -1.6325913148629352,
          1.6707445011481488,
          -0.9660544362186683,
          -0.6556564907066488,
          -2.0606593454143676,
          -0.9655688502559315,
          -0.6386814446471752,
          0.39223597708810404,
          -0.8850916940287198,
          -0.37443829851879057,
          -0.8776851115060589,
          1.017444837628482,
          -1.5475653090429005,
          -0.3476754195333724,
          0.7476935362147737,
          -1.7158149473483144,
          -0.10726619418296277,
          1.1371005994234769,
          1.1252714892569795,
          -3.393722940762163,
          2.0080019600142722,
          0.34064027018072335,
          -1.937835895681666,
          -1.6406240108949264,
          0.36113796281649474,
          -0.1184879455672434,
          -1.3859775972109318,
          -0.801082531343607,
          -0.6575570841874526,
          -0.839436697516081,
          -0.5271531372802966,
          -0.6114212774880591,
          1.5845151521137277,
          -0.4643760537535934,
          -1.3018832532958413,
          -1.1516668256705405,
          -0.8751633821228654,
          -0.8847666158004643,
          -1.1693233863795724,
          1.7741759054637467,
          -0.0879762404941775,
          0.003121604499782378,
          -0.21948269271775817,
          -1.4655689988816705,
          -1.5463730166337208,
          0.40327617661500775,
          0.7755578306120962,
          -0.7059657906162905,
          0.5503898665299511,
          -1.1182317836598314,
          0.5624036751698478,
          -1.454991112591589,
          -0.6621999979037618,
          -0.46814956413727815,
          -0.487041013823201,
          0.33010939541902845,
          1.0408259298766658,
          1.473873043060297,
          0.5156531889061465,
          -0.015715671755881136,
          0.6860578631441855,
          1.2872874286237426,
          -1.732851809599343,
          0.6959769757292279,
          -0.0076693392679672975,
          -0.026276856447329546,
          -2.363964118673278,
          1.1631494108116522,
          -1.9638694381659418,
          0.5622885515036905,
          -1.1870319739345876,
          -1.2154061426403087,
          -1.4566505898126179,
          -2.265914905684878,
          0.1794845077670371,
          0.09855330331148836,
          0.7424716521704829,
          -0.08219381352159771,
          -0.8236358611214701,
          -0.48352969560009146,
          -0.16310794825620267,
          -1.390333562746731,
          -0.25239003901778323,
          0.48731616639509834,
          -0.47860482608153204,
          -0.31959440173336157,
          -0.4228383605114753,
          0.46157248994392125,
          1.3345949133414963,
          2.135338854279271,
          -1.260368942063369,
          0.6396464239450953,
          0.7174376136046104,
          2.3452729670637367,
          1.3733289406188727,
          -0.5966630580451423,
          -0.8228496570941354,
          -2.4169422454436047,
          0.9336350514741313,
          0.9336350514741313,
          0.23664873280865167,
          1.2386911146487702,
          -0.5418841654097468,
          0.857527918884631,
          -0.7605992017394541,
          -0.23040106781687614,
          0.5411367955330922,
          1.3618413519709776,
          2.457186219925865,
          -1.489821630377482,
          -1.0689235689502827,
          -2.0465134097188837,
          -0.9547823761436205,
          0.8758128302585275,
          -0.5020453808359151,
          -0.8450034896699802,
          -1.1505866051408835,
          -1.016271917275201,
          -0.6633142881216215,
          -1.6697928510711937,
          -1.3533738902887815,
          -0.9919352561058729,
          -1.0803934023175599,
          -0.6401416299877931,
          -1.3024094498395535,
          -1.5274633223822738,
          -1.8816369915962392,
          -0.6241541934765739,
          -1.1087513872616208,
          -1.0937437785451867,
          -0.5769655569107656,
          1.350116593760214,
          -0.6835707776461986,
          -0.21333495891230878,
          -1.7208881667392997,
          0.606993347340138,
          -0.9485578909088268,
          0.34063800496897967,
          -0.6728024875104756,
          0.009588568549987823,
          -0.33186820729642097,
          1.2099337331859232,
          -0.04351653889015318,
          0.4724973084177491,
          0.16670061782509837,
          -0.4598399809985971,
          0.837967850277039,
          -1.8668083916396376,
          0.39134901070350603,
          0.030032344428860918,
          0.33346010912390545,
          -0.41099462855908064,
          -0.7476281108276699,
          -0.5327999702766602,
          1.416575387702349,
          -0.9778755269931472,
          0.5343302360287058,
          -1.102307666103707,
          -0.8610990263499431,
          -0.7747711983975594,
          -0.14363907758537248,
          -0.9146586648127392,
          -0.9765413938527057,
          -1.7663661393860106,
          -1.1307289608189794,
          -0.7087335536763947,
          -0.594738347218477,
          0.07306755370479576,
          -1.515879694964565,
          0.6613108686606787,
          1.1286274880828175,
          -2.058197767187703,
          1.0677052103269253,
          -0.30124592352344165,
          0.42578014988780594,
          -0.40263933571266475,
          0.29896759070687945,
          1.6285636697961794,
          -0.6663501829263663,
          1.8664334683739938,
          2.420357930284388,
          -1.1092347492996737,
          0.32008414751743464,
          0.03169189012697766,
          1.1160776457145438,
          -0.439456520582334,
          2.0898309796232213,
          -0.7570751399473816,
          -0.7746598120563295,
          -0.3865389189137338,
          0.25707335983407037,
          0.0632989012921861,
          0.3373619817345924,
          0.22643180698531257,
          -1.3546107260806586,
          0.8002025039600911,
          -0.8889081107644109,
          -0.7286812887095799,
          1.3078694865346514,
          -0.6114302591907745,
          0.5466667600703216,
          1.8234840719083316,
          2.251821150301496,
          1.5327451810884503,
          1.6920378828976923,
          0.7022921431888618,
          1.9109285289174924,
          0.28044846146532654,
          -1.0498417887903473,
          3.6031821127767283,
          -0.5242582112536094,
          0.7861182653546216,
          2.0403271912218077,
          0.16893016132376104,
          -0.08526345403740689,
          -0.011024140739629259,
          -0.791675538642384,
          -1.2147270836405084,
          0.7724463413233463,
          -0.30374574130359444,
          -2.333542719980755,
          -0.35621684950736476,
          0.12430303586946675,
          -1.1706210899866976,
          -2.3606274464677397,
          -1.6367819175495648,
          -0.502357639567145,
          -2.73092583215836,
          -1.2423446127955213,
          -0.838647032770635,
          -1.00791985213986,
          -0.22761893527392585,
          -0.42160553228633385,
          -0.9631389674046108,
          2.4898319782499674,
          0.7343740197596872,
          2.115364063407622,
          0.1372487388050844,
          1.0125213152896402,
          -0.37005291574945703,
          -1.7815300896312876,
          -1.1887304827614946,
          -0.24042744331689453,
          -0.6167239342012053,
          -0.9734476761826618,
          -0.5688906477444747,
          -0.4861672206217967,
          1.0076600514519944,
          -0.30150576336683405,
          0.12897294715117716,
          2.5309300185056234,
          0.933785860326368,
          0.8418091510500236,
          -0.9333434321358268,
          -0.1939749631170659,
          -0.5671126380023026,
          1.5106561492724955,
          0.1807485566750776,
          -1.046362782222973,
          -0.7333067303893,
          -1.0246191375816285,
          0.868964826704902,
          2.413138762792482,
          -1.04758148422463,
          0.9736919192976643,
          1.721239293474563,
          -1.3429003712914247,
          -0.5792383396463382,
          1.3474157429635811,
          1.2378265189856166,
          -0.6277344905438669,
          -0.4669374453129779,
          -0.6195438014522868,
          1.4249282490014117,
          0.9643381077505923,
          0.11165727459268104,
          0.9643381077505923,
          -0.12094841593244968,
          -0.4345154977397193,
          -0.8717228134320303,
          0.15079746470859598,
          0.2779790895369185,
          1.189489127296596,
          0.1369233759336876,
          2.2951298743783135,
          -1.2426905814373956,
          -0.3485694162350364,
          0.30276431226281186,
          -0.9565041870588205,
          -0.03455778115238226,
          -0.2352821550030328,
          -0.2877116065230739,
          0.33490144838208813,
          -0.5519801147930535,
          -1.6671675160620318,
          0.3483655714328125,
          -0.6829322826912672,
          0.10279951612119759,
          -1.9959511402427126,
          0.26851184677195283,
          1.994616924866825,
          1.8483060822592745,
          1.055492558867626,
          0.21879040449048218,
          -0.135701975816607,
          0.9851968861900048,
          1.0680519747125834,
          -0.9423944222871248,
          -1.3267365895545944,
          0.23792831775974144,
          1.090673035438093,
          0.8260360840052886,
          -0.11461723951061524,
          1.840407711419567,
          1.0823540919940728,
          -0.8687738626484476,
          -0.5914828614287035,
          -0.8089063660175062,
          0.6170449549147418,
          -0.03580072293818591,
          1.5913428281037139,
          1.3560670015995706,
          -1.628748170739261,
          -1.2933490428322219,
          -0.6763485851962393,
          1.1830106693009699,
          0.6030493268732687,
          0.38239048371577383,
          3.0241485166453037,
          1.432044500492886,
          0.34228297341502,
          -1.4187000715910514,
          1.6814999864821414,
          2.7994210517958296,
          -0.04549238763922467,
          0.46574141694873716,
          1.4198239456029418,
          0.5888953615807236,
          1.0444386933204357,
          0.5964434905315036,
          0.08844995393029548,
          -0.04549238763922467,
          0.8977977758332205,
          -0.16885058170458517,
          0.5983088128366477,
          0.6667441748139572,
          0.11485247399156032,
          -2.5769252053016847,
          0.23909640755806238,
          2.2487561906624,
          2.5387340249432486,
          -0.056325911547833174,
          0.5964434905315036,
          1.9783020811682779,
          1.3560670015995706,
          2.916068975918384,
          -0.6225797561996667,
          0.25594206718460255,
          -0.29072442076003885,
          0.37573869502044555,
          1.555630945672217,
          0.45063092760922513,
          0.775785437414229,
          0.07431941987263804,
          -1.3080925230982443,
          -1.3524345982935728,
          0.29360917681999893,
          3.309915508156951,
          -0.555163640686674,
          0.5675987166081066,
          2.6461398776378933,
          0.033997998330897054,
          0.678604005661556,
          0.1492336042384123,
          -0.4559136008402422,
          2.9465579423623613,
          1.9486015356312578,
          0.6937156146030259,
          -0.6479161411275289,
          -0.16832643560406615,
          0.9206331889506508,
          -0.45076135107728,
          -1.6238548107932465,
          -1.7149594650926865,
          0.8246937348674299,
          -0.6046810983191572,
          0.9951455987502051,
          -0.49439614316897434,
          -0.1978930143661555,
          -0.17763361203952938,
          -0.08113594162833343,
          -3.59192818450826,
          0.015192898637176233,
          0.4183237628628035,
          -1.3430396251065242,
          -1.1533387805480826,
          -1.5144988077562607,
          -1.590958155769708,
          -2.345699961945222,
          0.5187929455099834,
          -2.006887843116541,
          -1.5610744785887505,
          0.4027243215517712,
          0.38857174117138327,
          2.471190761937064,
          -0.2141403583291802,
          3.002042958139085,
          2.431138990340929,
          2.8822811672315267,
          0.9642980521378592,
          0.007995287376183224,
          -1.4448575644382071,
          -0.21558652585747656,
          -1.0494337432873844,
          -0.16881431329935478,
          -0.7392065333258869,
          2.1790993577352404,
          -1.0820263567320596,
          -0.5618613817516012,
          0.059191033675625365,
          -1.0420534653157898,
          0.12324047273321402,
          -0.06624184533439045,
          -1.5632894769170895,
          -0.20455517338153,
          -0.2825690317516741,
          -1.7373472894249418,
          -1.0465870893288534,
          0.5718932501658427,
          0.03184445897223598,
          -0.012659131268620926,
          1.0406554362647813,
          2.080718977326511,
          -2.2215790057935054,
          -1.2942306228088376,
          -0.923267197308516,
          1.664850022650487,
          -2.2517164433175383,
          2.227919979383781,
          -1.4934305722339865,
          0.06759763053873889,
          -0.42200852490748625,
          -1.6224994565962763,
          -0.8568498421627432,
          -1.7156119083517,
          -0.4018140005258519,
          -1.9183111465675273,
          -1.0284176661154854,
          0.5662509076481914,
          -1.9360921290485107,
          -1.3661970267771644,
          -0.4790532667477222,
          1.5323961175618523,
          0.6372584903149978,
          1.3733798976383915,
          -0.5126351469976399,
          -0.4706577641761539,
          0.000585160465055392,
          0.8136001906911916,
          0.38997026358277487,
          -0.3954610481119689,
          -1.5825523645928847,
          -0.9178690058179535,
          -0.3820309089909242,
          0.15708317010829603,
          -0.9806604314366228,
          1.257391239773403,
          0.5631582113333875,
          1.1114556668423181,
          0.19309430754008022,
          -3.0573576367230872,
          -2.79640509009544,
          0.44419319813298935,
          -0.5425621727635142,
          -0.8201583062849659,
          0.37514319403638224,
          -1.0223780840942405,
          -0.6070712876472297,
          -0.9624492068779577,
          -2.023747135601471,
          -0.08741851902060427,
          -0.20462864179538903,
          -0.08910926007141491,
          -2.0591628392523167,
          -1.174535786255179,
          -0.6346088648189904,
          -0.5491745735455943,
          0.5095716897531232,
          0.8065406104992434,
          0.7411803149126499,
          -0.8558821629061263,
          -0.3657681542279308,
          -0.5309994855824137,
          -0.5213994519208953,
          -0.8095689157079932,
          1.126582546311054,
          -0.2098294744407532,
          -1.1323946066926902,
          0.2211940171929529,
          -1.1950493627964534,
          1.402539081269544,
          -0.5757347764161701,
          -0.7264869106374389,
          -0.7415878471844205,
          0.06951336384573252,
          -0.2044656586852113,
          -0.018790314063138365,
          0.031392890711789974,
          0.35067005623607506,
          -1.1128956328696067,
          1.8195868927959205,
          1.8713013951568809,
          1.918152595653497,
          -1.718668848043768,
          0.8757893106119167,
          0.17563027053701216,
          -0.6929183840508946,
          -0.2872600209762631,
          0.20809406613317136,
          1.776495402604134,
          -0.40857318509327356,
          0.029405535122961873,
          0.30289029594966455,
          0.9923583707665792,
          0.43377995483686005,
          -1.3564329550862644,
          0.5863758368736326,
          2.923932736424937,
          1.0230580147774835,
          0.8397768146241391,
          2.5716091789550615,
          -0.39274683629951274,
          0.3103645893388271,
          1.212222119936068,
          -0.9105271986614467,
          -0.4231354934946348,
          -1.5022933704705326,
          -0.3958114038540051,
          0.11057980583580587,
          -1.136462759521509,
          0.9890710951795673,
          1.689332261401974,
          0.9299479085907895,
          -0.45259687761377765,
          -0.744874695562724,
          1.8574219818393203,
          0.31621132843280725,
          -3.59192818450826,
          -2.7715699519860695,
          -1.0936649608603846,
          -0.8987367758535395,
          -0.7144851932041169,
          0.08471793830475367,
          3.4023252585367287,
          0.5915376393811435,
          0.19594602619168208,
          0.03596508498121773,
          -0.7572787491134746,
          0.4800421604906772,
          0.52778342651502,
          -0.07029951988053745,
          -2.6459203144839694,
          -1.3983743516341598,
          -1.7875077633778913,
          0.8485646204971764,
          1.205932979210664,
          -1.724161070808916,
          -0.472156236178936,
          -0.8206980878304483,
          -0.9083842640904414,
          -0.7454847813329062,
          -0.7426614340923899,
          -0.5761116798393076,
          1.2630604906993126,
          -0.9648409921390945,
          0.19368622313440065,
          0.9996039142658502,
          1.1575246422378065,
          -1.0936649608603846,
          -1.0936649608603846,
          3.0241485166453037,
          1.5817331684268634,
          1.645258276171452,
          -2.4045788380748405,
          -2.4574249906447134,
          -0.5475715725911354,
          -1.3098373709567745,
          -2.012652192581362,
          -2.462051030380847,
          0.48391822240133286,
          -1.4091483830778608,
          -1.555787843924437,
          -1.7104659017896573,
          -0.1493937757696497,
          -2.002703398075287,
          -2.2204584178167104,
          -0.9119564427723762,
          -2.2209031233141783,
          -1.7536558307851096,
          -1.3764437205042699,
          -2.539680899330998,
          -1.9288195091234,
          0.45865280287596044,
          -0.7370750659682073,
          -1.4238717798777574,
          0.31313785015723283,
          0.031646261329054105,
          -0.9437787672942032,
          0.4220331476734195,
          -0.19189119093840928,
          -0.5211679048184914,
          1.8836076923570406,
          1.2546259176505137,
          -1.7980071100359785,
          1.6046581333958103,
          0.5308244007763755,
          -1.467705069239337,
          -0.07553356999426512,
          -0.9371300061780358,
          0.974412936141932,
          1.0808327860734264,
          -1.3498838940521123,
          -2.6382976097380935,
          1.107574181094697,
          -1.196854463642068,
          -0.04985157001773357,
          -1.3368586236919524,
          3.380206235874217,
          -0.9362765548657955,
          -0.8512302225203642,
          0.8312994793303632,
          1.1474159317775248,
          0.8692814620397321,
          -0.06373150398819556,
          -0.45242591189057,
          -1.0487895677819894,
          -0.9786629053950876,
          -1.1203219593181089,
          -0.6009018213810926,
          0.4186241486931173,
          -0.3053760309640848,
          0.1802453542315127,
          -0.08741851902060427,
          -2.144691504600472,
          0.8614420346143546,
          0.13071407897492185,
          -0.22775045896727933,
          1.109391917455326,
          0.5061696894655041,
          2.511450929046465,
          -0.35625838503850243,
          0.2639556727669235,
          0.271615262619145,
          -0.33962311293372865,
          0.8138121170061816,
          1.6452114399898918,
          1.2386818562701003,
          0.8050649466533392,
          0.5777097466141756,
          -0.7454513238920496,
          0.769146478930029,
          -0.230099533342799,
          -1.1625225503153813,
          1.0967477999866988,
          -0.7762878624655968,
          -0.58446717104461,
          -0.6061979063641811,
          -1.4869471807666192,
          1.750344874345484,
          -0.6151603064563386,
          -1.6531344263407757,
          0.7427151707507377,
          -0.7054157806980526,
          -0.03251912330296448,
          -2.341444922488865,
          1.8408479769371748,
          0.4150643762265146,
          -0.5229064046857329,
          -0.017125860721713796,
          -1.3049828462456545,
          -1.0897255704646924,
          -3.695232752777762,
          -1.3907085464763516
         ],
         "yaxis": "y"
        }
       ],
       "layout": {
        "coloraxis": {
         "colorbar": {
          "title": {
           "text": "cluster_pca"
          }
         },
         "colorscale": [
          [
           0,
           "#0d0887"
          ],
          [
           0.1111111111111111,
           "#46039f"
          ],
          [
           0.2222222222222222,
           "#7201a8"
          ],
          [
           0.3333333333333333,
           "#9c179e"
          ],
          [
           0.4444444444444444,
           "#bd3786"
          ],
          [
           0.5555555555555556,
           "#d8576b"
          ],
          [
           0.6666666666666666,
           "#ed7953"
          ],
          [
           0.7777777777777778,
           "#fb9f3a"
          ],
          [
           0.8888888888888888,
           "#fdca26"
          ],
          [
           1,
           "#f0f921"
          ]
         ]
        },
        "legend": {
         "tracegroupgap": 0
        },
        "margin": {
         "t": 60
        },
        "template": {
         "data": {
          "bar": [
           {
            "error_x": {
             "color": "#2a3f5f"
            },
            "error_y": {
             "color": "#2a3f5f"
            },
            "marker": {
             "line": {
              "color": "#E5ECF6",
              "width": 0.5
             },
             "pattern": {
              "fillmode": "overlay",
              "size": 10,
              "solidity": 0.2
             }
            },
            "type": "bar"
           }
          ],
          "barpolar": [
           {
            "marker": {
             "line": {
              "color": "#E5ECF6",
              "width": 0.5
             },
             "pattern": {
              "fillmode": "overlay",
              "size": 10,
              "solidity": 0.2
             }
            },
            "type": "barpolar"
           }
          ],
          "carpet": [
           {
            "aaxis": {
             "endlinecolor": "#2a3f5f",
             "gridcolor": "white",
             "linecolor": "white",
             "minorgridcolor": "white",
             "startlinecolor": "#2a3f5f"
            },
            "baxis": {
             "endlinecolor": "#2a3f5f",
             "gridcolor": "white",
             "linecolor": "white",
             "minorgridcolor": "white",
             "startlinecolor": "#2a3f5f"
            },
            "type": "carpet"
           }
          ],
          "choropleth": [
           {
            "colorbar": {
             "outlinewidth": 0,
             "ticks": ""
            },
            "type": "choropleth"
           }
          ],
          "contour": [
           {
            "colorbar": {
             "outlinewidth": 0,
             "ticks": ""
            },
            "colorscale": [
             [
              0,
              "#0d0887"
             ],
             [
              0.1111111111111111,
              "#46039f"
             ],
             [
              0.2222222222222222,
              "#7201a8"
             ],
             [
              0.3333333333333333,
              "#9c179e"
             ],
             [
              0.4444444444444444,
              "#bd3786"
             ],
             [
              0.5555555555555556,
              "#d8576b"
             ],
             [
              0.6666666666666666,
              "#ed7953"
             ],
             [
              0.7777777777777778,
              "#fb9f3a"
             ],
             [
              0.8888888888888888,
              "#fdca26"
             ],
             [
              1,
              "#f0f921"
             ]
            ],
            "type": "contour"
           }
          ],
          "contourcarpet": [
           {
            "colorbar": {
             "outlinewidth": 0,
             "ticks": ""
            },
            "type": "contourcarpet"
           }
          ],
          "heatmap": [
           {
            "colorbar": {
             "outlinewidth": 0,
             "ticks": ""
            },
            "colorscale": [
             [
              0,
              "#0d0887"
             ],
             [
              0.1111111111111111,
              "#46039f"
             ],
             [
              0.2222222222222222,
              "#7201a8"
             ],
             [
              0.3333333333333333,
              "#9c179e"
             ],
             [
              0.4444444444444444,
              "#bd3786"
             ],
             [
              0.5555555555555556,
              "#d8576b"
             ],
             [
              0.6666666666666666,
              "#ed7953"
             ],
             [
              0.7777777777777778,
              "#fb9f3a"
             ],
             [
              0.8888888888888888,
              "#fdca26"
             ],
             [
              1,
              "#f0f921"
             ]
            ],
            "type": "heatmap"
           }
          ],
          "heatmapgl": [
           {
            "colorbar": {
             "outlinewidth": 0,
             "ticks": ""
            },
            "colorscale": [
             [
              0,
              "#0d0887"
             ],
             [
              0.1111111111111111,
              "#46039f"
             ],
             [
              0.2222222222222222,
              "#7201a8"
             ],
             [
              0.3333333333333333,
              "#9c179e"
             ],
             [
              0.4444444444444444,
              "#bd3786"
             ],
             [
              0.5555555555555556,
              "#d8576b"
             ],
             [
              0.6666666666666666,
              "#ed7953"
             ],
             [
              0.7777777777777778,
              "#fb9f3a"
             ],
             [
              0.8888888888888888,
              "#fdca26"
             ],
             [
              1,
              "#f0f921"
             ]
            ],
            "type": "heatmapgl"
           }
          ],
          "histogram": [
           {
            "marker": {
             "pattern": {
              "fillmode": "overlay",
              "size": 10,
              "solidity": 0.2
             }
            },
            "type": "histogram"
           }
          ],
          "histogram2d": [
           {
            "colorbar": {
             "outlinewidth": 0,
             "ticks": ""
            },
            "colorscale": [
             [
              0,
              "#0d0887"
             ],
             [
              0.1111111111111111,
              "#46039f"
             ],
             [
              0.2222222222222222,
              "#7201a8"
             ],
             [
              0.3333333333333333,
              "#9c179e"
             ],
             [
              0.4444444444444444,
              "#bd3786"
             ],
             [
              0.5555555555555556,
              "#d8576b"
             ],
             [
              0.6666666666666666,
              "#ed7953"
             ],
             [
              0.7777777777777778,
              "#fb9f3a"
             ],
             [
              0.8888888888888888,
              "#fdca26"
             ],
             [
              1,
              "#f0f921"
             ]
            ],
            "type": "histogram2d"
           }
          ],
          "histogram2dcontour": [
           {
            "colorbar": {
             "outlinewidth": 0,
             "ticks": ""
            },
            "colorscale": [
             [
              0,
              "#0d0887"
             ],
             [
              0.1111111111111111,
              "#46039f"
             ],
             [
              0.2222222222222222,
              "#7201a8"
             ],
             [
              0.3333333333333333,
              "#9c179e"
             ],
             [
              0.4444444444444444,
              "#bd3786"
             ],
             [
              0.5555555555555556,
              "#d8576b"
             ],
             [
              0.6666666666666666,
              "#ed7953"
             ],
             [
              0.7777777777777778,
              "#fb9f3a"
             ],
             [
              0.8888888888888888,
              "#fdca26"
             ],
             [
              1,
              "#f0f921"
             ]
            ],
            "type": "histogram2dcontour"
           }
          ],
          "mesh3d": [
           {
            "colorbar": {
             "outlinewidth": 0,
             "ticks": ""
            },
            "type": "mesh3d"
           }
          ],
          "parcoords": [
           {
            "line": {
             "colorbar": {
              "outlinewidth": 0,
              "ticks": ""
             }
            },
            "type": "parcoords"
           }
          ],
          "pie": [
           {
            "automargin": true,
            "type": "pie"
           }
          ],
          "scatter": [
           {
            "fillpattern": {
             "fillmode": "overlay",
             "size": 10,
             "solidity": 0.2
            },
            "type": "scatter"
           }
          ],
          "scatter3d": [
           {
            "line": {
             "colorbar": {
              "outlinewidth": 0,
              "ticks": ""
             }
            },
            "marker": {
             "colorbar": {
              "outlinewidth": 0,
              "ticks": ""
             }
            },
            "type": "scatter3d"
           }
          ],
          "scattercarpet": [
           {
            "marker": {
             "colorbar": {
              "outlinewidth": 0,
              "ticks": ""
             }
            },
            "type": "scattercarpet"
           }
          ],
          "scattergeo": [
           {
            "marker": {
             "colorbar": {
              "outlinewidth": 0,
              "ticks": ""
             }
            },
            "type": "scattergeo"
           }
          ],
          "scattergl": [
           {
            "marker": {
             "colorbar": {
              "outlinewidth": 0,
              "ticks": ""
             }
            },
            "type": "scattergl"
           }
          ],
          "scattermapbox": [
           {
            "marker": {
             "colorbar": {
              "outlinewidth": 0,
              "ticks": ""
             }
            },
            "type": "scattermapbox"
           }
          ],
          "scatterpolar": [
           {
            "marker": {
             "colorbar": {
              "outlinewidth": 0,
              "ticks": ""
             }
            },
            "type": "scatterpolar"
           }
          ],
          "scatterpolargl": [
           {
            "marker": {
             "colorbar": {
              "outlinewidth": 0,
              "ticks": ""
             }
            },
            "type": "scatterpolargl"
           }
          ],
          "scatterternary": [
           {
            "marker": {
             "colorbar": {
              "outlinewidth": 0,
              "ticks": ""
             }
            },
            "type": "scatterternary"
           }
          ],
          "surface": [
           {
            "colorbar": {
             "outlinewidth": 0,
             "ticks": ""
            },
            "colorscale": [
             [
              0,
              "#0d0887"
             ],
             [
              0.1111111111111111,
              "#46039f"
             ],
             [
              0.2222222222222222,
              "#7201a8"
             ],
             [
              0.3333333333333333,
              "#9c179e"
             ],
             [
              0.4444444444444444,
              "#bd3786"
             ],
             [
              0.5555555555555556,
              "#d8576b"
             ],
             [
              0.6666666666666666,
              "#ed7953"
             ],
             [
              0.7777777777777778,
              "#fb9f3a"
             ],
             [
              0.8888888888888888,
              "#fdca26"
             ],
             [
              1,
              "#f0f921"
             ]
            ],
            "type": "surface"
           }
          ],
          "table": [
           {
            "cells": {
             "fill": {
              "color": "#EBF0F8"
             },
             "line": {
              "color": "white"
             }
            },
            "header": {
             "fill": {
              "color": "#C8D4E3"
             },
             "line": {
              "color": "white"
             }
            },
            "type": "table"
           }
          ]
         },
         "layout": {
          "annotationdefaults": {
           "arrowcolor": "#2a3f5f",
           "arrowhead": 0,
           "arrowwidth": 1
          },
          "autotypenumbers": "strict",
          "coloraxis": {
           "colorbar": {
            "outlinewidth": 0,
            "ticks": ""
           }
          },
          "colorscale": {
           "diverging": [
            [
             0,
             "#8e0152"
            ],
            [
             0.1,
             "#c51b7d"
            ],
            [
             0.2,
             "#de77ae"
            ],
            [
             0.3,
             "#f1b6da"
            ],
            [
             0.4,
             "#fde0ef"
            ],
            [
             0.5,
             "#f7f7f7"
            ],
            [
             0.6,
             "#e6f5d0"
            ],
            [
             0.7,
             "#b8e186"
            ],
            [
             0.8,
             "#7fbc41"
            ],
            [
             0.9,
             "#4d9221"
            ],
            [
             1,
             "#276419"
            ]
           ],
           "sequential": [
            [
             0,
             "#0d0887"
            ],
            [
             0.1111111111111111,
             "#46039f"
            ],
            [
             0.2222222222222222,
             "#7201a8"
            ],
            [
             0.3333333333333333,
             "#9c179e"
            ],
            [
             0.4444444444444444,
             "#bd3786"
            ],
            [
             0.5555555555555556,
             "#d8576b"
            ],
            [
             0.6666666666666666,
             "#ed7953"
            ],
            [
             0.7777777777777778,
             "#fb9f3a"
            ],
            [
             0.8888888888888888,
             "#fdca26"
            ],
            [
             1,
             "#f0f921"
            ]
           ],
           "sequentialminus": [
            [
             0,
             "#0d0887"
            ],
            [
             0.1111111111111111,
             "#46039f"
            ],
            [
             0.2222222222222222,
             "#7201a8"
            ],
            [
             0.3333333333333333,
             "#9c179e"
            ],
            [
             0.4444444444444444,
             "#bd3786"
            ],
            [
             0.5555555555555556,
             "#d8576b"
            ],
            [
             0.6666666666666666,
             "#ed7953"
            ],
            [
             0.7777777777777778,
             "#fb9f3a"
            ],
            [
             0.8888888888888888,
             "#fdca26"
            ],
            [
             1,
             "#f0f921"
            ]
           ]
          },
          "colorway": [
           "#636efa",
           "#EF553B",
           "#00cc96",
           "#ab63fa",
           "#FFA15A",
           "#19d3f3",
           "#FF6692",
           "#B6E880",
           "#FF97FF",
           "#FECB52"
          ],
          "font": {
           "color": "#2a3f5f"
          },
          "geo": {
           "bgcolor": "white",
           "lakecolor": "white",
           "landcolor": "#E5ECF6",
           "showlakes": true,
           "showland": true,
           "subunitcolor": "white"
          },
          "hoverlabel": {
           "align": "left"
          },
          "hovermode": "closest",
          "mapbox": {
           "style": "light"
          },
          "paper_bgcolor": "white",
          "plot_bgcolor": "#E5ECF6",
          "polar": {
           "angularaxis": {
            "gridcolor": "white",
            "linecolor": "white",
            "ticks": ""
           },
           "bgcolor": "#E5ECF6",
           "radialaxis": {
            "gridcolor": "white",
            "linecolor": "white",
            "ticks": ""
           }
          },
          "scene": {
           "xaxis": {
            "backgroundcolor": "#E5ECF6",
            "gridcolor": "white",
            "gridwidth": 2,
            "linecolor": "white",
            "showbackground": true,
            "ticks": "",
            "zerolinecolor": "white"
           },
           "yaxis": {
            "backgroundcolor": "#E5ECF6",
            "gridcolor": "white",
            "gridwidth": 2,
            "linecolor": "white",
            "showbackground": true,
            "ticks": "",
            "zerolinecolor": "white"
           },
           "zaxis": {
            "backgroundcolor": "#E5ECF6",
            "gridcolor": "white",
            "gridwidth": 2,
            "linecolor": "white",
            "showbackground": true,
            "ticks": "",
            "zerolinecolor": "white"
           }
          },
          "shapedefaults": {
           "line": {
            "color": "#2a3f5f"
           }
          },
          "ternary": {
           "aaxis": {
            "gridcolor": "white",
            "linecolor": "white",
            "ticks": ""
           },
           "baxis": {
            "gridcolor": "white",
            "linecolor": "white",
            "ticks": ""
           },
           "bgcolor": "#E5ECF6",
           "caxis": {
            "gridcolor": "white",
            "linecolor": "white",
            "ticks": ""
           }
          },
          "title": {
           "x": 0.05
          },
          "xaxis": {
           "automargin": true,
           "gridcolor": "white",
           "linecolor": "white",
           "ticks": "",
           "title": {
            "standoff": 15
           },
           "zerolinecolor": "white",
           "zerolinewidth": 2
          },
          "yaxis": {
           "automargin": true,
           "gridcolor": "white",
           "linecolor": "white",
           "ticks": "",
           "title": {
            "standoff": 15
           },
           "zerolinecolor": "white",
           "zerolinewidth": 2
          }
         }
        },
        "xaxis": {
         "anchor": "y",
         "domain": [
          0,
          1
         ],
         "title": {
          "text": "x"
         }
        },
        "yaxis": {
         "anchor": "x",
         "domain": [
          0,
          1
         ],
         "title": {
          "text": "y"
         }
        }
       }
      }
     },
     "metadata": {},
     "output_type": "display_data"
    }
   ],
   "source": [
    "import plotly.express as px\n",
    "fig = px.scatter(\n",
    "   projection, x='x', y='y', color='cluster_pca', hover_data=['x', 'y', 'generos'])\n",
    "     \n",
    "fig.show()"
   ]
  },
  {
   "cell_type": "code",
   "execution_count": 21,
   "metadata": {},
   "outputs": [
    {
     "data": {
      "text/plain": [
       "5.421597305805696"
      ]
     },
     "execution_count": 21,
     "metadata": {},
     "output_type": "execute_result"
    }
   ],
   "source": [
    "pca_pipeline[1].explained_variance_ratio_.sum()\n",
    "     \n",
    "0.4927066994726641\n",
    "\n",
    "pca_pipeline[1].explained_variance_.sum()"
   ]
  },
  {
   "cell_type": "code",
   "execution_count": null,
   "metadata": {},
   "outputs": [],
   "source": []
  }
 ],
 "metadata": {
  "kernelspec": {
   "display_name": "Python 3",
   "language": "python",
   "name": "python3"
  },
  "language_info": {
   "codemirror_mode": {
    "name": "ipython",
    "version": 3
   },
   "file_extension": ".py",
   "mimetype": "text/x-python",
   "name": "python",
   "nbconvert_exporter": "python",
   "pygments_lexer": "ipython3",
   "version": "3.10.6"
  },
  "orig_nbformat": 4
 },
 "nbformat": 4,
 "nbformat_minor": 2
}
