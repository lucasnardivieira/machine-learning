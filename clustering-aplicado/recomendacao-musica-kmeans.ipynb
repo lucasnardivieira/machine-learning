{
 "cells": [
  {
   "cell_type": "code",
   "execution_count": 76,
   "metadata": {},
   "outputs": [],
   "source": [
    "import pandas as pd\n",
    "import numpy as np\n",
    "import plotly.express as px\n",
    "from sklearn.pipeline import Pipeline\n",
    "from sklearn.preprocessing import StandardScaler\n",
    "from sklearn.decomposition import PCA\n",
    "from sklearn.cluster import KMeans"
   ]
  },
  {
   "cell_type": "code",
   "execution_count": 77,
   "metadata": {},
   "outputs": [],
   "source": [
    "dados_totais = pd.read_csv('Dados/Dados_totais.csv')\n",
    "dados_totais = dados_totais.drop(columns = ['explicit', 'mode', 'key'])\n",
    "dados_genero = pd.read_csv('Dados/data_by_genres.csv')\n",
    "dados_genero = dados_genero.drop(columns = ['mode', 'key'])\n",
    "dados_ano = pd.read_csv('Dados/data_by_year.csv')\n",
    "dados_ano = dados_ano.drop(columns = ['mode', 'key'])"
   ]
  },
  {
   "cell_type": "code",
   "execution_count": 78,
   "metadata": {},
   "outputs": [
    {
     "data": {
      "text/html": [
       "<div>\n",
       "<style scoped>\n",
       "    .dataframe tbody tr th:only-of-type {\n",
       "        vertical-align: middle;\n",
       "    }\n",
       "\n",
       "    .dataframe tbody tr th {\n",
       "        vertical-align: top;\n",
       "    }\n",
       "\n",
       "    .dataframe thead th {\n",
       "        text-align: right;\n",
       "    }\n",
       "</style>\n",
       "<table border=\"1\" class=\"dataframe\">\n",
       "  <thead>\n",
       "    <tr style=\"text-align: right;\">\n",
       "      <th></th>\n",
       "      <th>valence</th>\n",
       "      <th>year</th>\n",
       "      <th>acousticness</th>\n",
       "      <th>artists</th>\n",
       "      <th>danceability</th>\n",
       "      <th>duration_ms</th>\n",
       "      <th>energy</th>\n",
       "      <th>id</th>\n",
       "      <th>instrumentalness</th>\n",
       "      <th>liveness</th>\n",
       "      <th>loudness</th>\n",
       "      <th>name</th>\n",
       "      <th>popularity</th>\n",
       "      <th>speechiness</th>\n",
       "      <th>tempo</th>\n",
       "      <th>artists_song</th>\n",
       "    </tr>\n",
       "  </thead>\n",
       "  <tbody>\n",
       "    <tr>\n",
       "      <th>0</th>\n",
       "      <td>0.285</td>\n",
       "      <td>2000</td>\n",
       "      <td>0.00239</td>\n",
       "      <td>Coldplay</td>\n",
       "      <td>0.429</td>\n",
       "      <td>266773</td>\n",
       "      <td>0.661</td>\n",
       "      <td>3AJwUDP919kvQ9QcozQPxg</td>\n",
       "      <td>0.000121</td>\n",
       "      <td>0.2340</td>\n",
       "      <td>-7.227</td>\n",
       "      <td>Yellow</td>\n",
       "      <td>84</td>\n",
       "      <td>0.0281</td>\n",
       "      <td>173.372</td>\n",
       "      <td>Coldplay - Yellow</td>\n",
       "    </tr>\n",
       "    <tr>\n",
       "      <th>1</th>\n",
       "      <td>0.613</td>\n",
       "      <td>2000</td>\n",
       "      <td>0.14300</td>\n",
       "      <td>OutKast</td>\n",
       "      <td>0.843</td>\n",
       "      <td>270507</td>\n",
       "      <td>0.806</td>\n",
       "      <td>0I3q5fE6wg7LIfHGngUTnV</td>\n",
       "      <td>0.000000</td>\n",
       "      <td>0.0771</td>\n",
       "      <td>-5.946</td>\n",
       "      <td>Ms. Jackson</td>\n",
       "      <td>80</td>\n",
       "      <td>0.2690</td>\n",
       "      <td>94.948</td>\n",
       "      <td>OutKast - Ms. Jackson</td>\n",
       "    </tr>\n",
       "    <tr>\n",
       "      <th>2</th>\n",
       "      <td>0.400</td>\n",
       "      <td>2000</td>\n",
       "      <td>0.00958</td>\n",
       "      <td>Linkin Park</td>\n",
       "      <td>0.556</td>\n",
       "      <td>216880</td>\n",
       "      <td>0.864</td>\n",
       "      <td>60a0Rd6pjrkxjPbaKzXjfq</td>\n",
       "      <td>0.000000</td>\n",
       "      <td>0.2090</td>\n",
       "      <td>-5.870</td>\n",
       "      <td>In the End</td>\n",
       "      <td>84</td>\n",
       "      <td>0.0584</td>\n",
       "      <td>105.143</td>\n",
       "      <td>Linkin Park - In the End</td>\n",
       "    </tr>\n",
       "    <tr>\n",
       "      <th>3</th>\n",
       "      <td>0.543</td>\n",
       "      <td>2000</td>\n",
       "      <td>0.00664</td>\n",
       "      <td>3 Doors Down</td>\n",
       "      <td>0.545</td>\n",
       "      <td>233933</td>\n",
       "      <td>0.865</td>\n",
       "      <td>6ZOBP3NvffbU4SZcrnt1k6</td>\n",
       "      <td>0.000011</td>\n",
       "      <td>0.1680</td>\n",
       "      <td>-5.708</td>\n",
       "      <td>Kryptonite</td>\n",
       "      <td>78</td>\n",
       "      <td>0.0286</td>\n",
       "      <td>99.009</td>\n",
       "      <td>3 Doors Down - Kryptonite</td>\n",
       "    </tr>\n",
       "    <tr>\n",
       "      <th>4</th>\n",
       "      <td>0.760</td>\n",
       "      <td>2000</td>\n",
       "      <td>0.03020</td>\n",
       "      <td>Eminem</td>\n",
       "      <td>0.949</td>\n",
       "      <td>284200</td>\n",
       "      <td>0.661</td>\n",
       "      <td>3yfqSUWxFvZELEM4PmlwIR</td>\n",
       "      <td>0.000000</td>\n",
       "      <td>0.0454</td>\n",
       "      <td>-4.244</td>\n",
       "      <td>The Real Slim Shady</td>\n",
       "      <td>80</td>\n",
       "      <td>0.0572</td>\n",
       "      <td>104.504</td>\n",
       "      <td>Eminem - The Real Slim Shady</td>\n",
       "    </tr>\n",
       "  </tbody>\n",
       "</table>\n",
       "</div>"
      ],
      "text/plain": [
       "   valence  year  acousticness       artists  danceability  duration_ms  \\\n",
       "0    0.285  2000       0.00239      Coldplay         0.429       266773   \n",
       "1    0.613  2000       0.14300       OutKast         0.843       270507   \n",
       "2    0.400  2000       0.00958   Linkin Park         0.556       216880   \n",
       "3    0.543  2000       0.00664  3 Doors Down         0.545       233933   \n",
       "4    0.760  2000       0.03020        Eminem         0.949       284200   \n",
       "\n",
       "   energy                      id  instrumentalness  liveness  loudness  \\\n",
       "0   0.661  3AJwUDP919kvQ9QcozQPxg          0.000121    0.2340    -7.227   \n",
       "1   0.806  0I3q5fE6wg7LIfHGngUTnV          0.000000    0.0771    -5.946   \n",
       "2   0.864  60a0Rd6pjrkxjPbaKzXjfq          0.000000    0.2090    -5.870   \n",
       "3   0.865  6ZOBP3NvffbU4SZcrnt1k6          0.000011    0.1680    -5.708   \n",
       "4   0.661  3yfqSUWxFvZELEM4PmlwIR          0.000000    0.0454    -4.244   \n",
       "\n",
       "                  name  popularity  speechiness    tempo  \\\n",
       "0               Yellow          84       0.0281  173.372   \n",
       "1          Ms. Jackson          80       0.2690   94.948   \n",
       "2           In the End          84       0.0584  105.143   \n",
       "3           Kryptonite          78       0.0286   99.009   \n",
       "4  The Real Slim Shady          80       0.0572  104.504   \n",
       "\n",
       "                   artists_song  \n",
       "0             Coldplay - Yellow  \n",
       "1         OutKast - Ms. Jackson  \n",
       "2      Linkin Park - In the End  \n",
       "3     3 Doors Down - Kryptonite  \n",
       "4  Eminem - The Real Slim Shady  "
      ]
     },
     "execution_count": 78,
     "metadata": {},
     "output_type": "execute_result"
    }
   ],
   "source": [
    "dados_totais.head()"
   ]
  },
  {
   "cell_type": "code",
   "execution_count": 79,
   "metadata": {},
   "outputs": [
    {
     "data": {
      "text/html": [
       "<div>\n",
       "<style scoped>\n",
       "    .dataframe tbody tr th:only-of-type {\n",
       "        vertical-align: middle;\n",
       "    }\n",
       "\n",
       "    .dataframe tbody tr th {\n",
       "        vertical-align: top;\n",
       "    }\n",
       "\n",
       "    .dataframe thead th {\n",
       "        text-align: right;\n",
       "    }\n",
       "</style>\n",
       "<table border=\"1\" class=\"dataframe\">\n",
       "  <thead>\n",
       "    <tr style=\"text-align: right;\">\n",
       "      <th></th>\n",
       "      <th>genres</th>\n",
       "      <th>acousticness</th>\n",
       "      <th>danceability</th>\n",
       "      <th>duration_ms</th>\n",
       "      <th>energy</th>\n",
       "      <th>instrumentalness</th>\n",
       "      <th>liveness</th>\n",
       "      <th>loudness</th>\n",
       "      <th>speechiness</th>\n",
       "      <th>tempo</th>\n",
       "      <th>valence</th>\n",
       "      <th>popularity</th>\n",
       "    </tr>\n",
       "  </thead>\n",
       "  <tbody>\n",
       "    <tr>\n",
       "      <th>0</th>\n",
       "      <td>21st century classical</td>\n",
       "      <td>0.979333</td>\n",
       "      <td>0.162883</td>\n",
       "      <td>1.602977e+05</td>\n",
       "      <td>0.071317</td>\n",
       "      <td>0.606834</td>\n",
       "      <td>0.361600</td>\n",
       "      <td>-31.514333</td>\n",
       "      <td>0.040567</td>\n",
       "      <td>75.336500</td>\n",
       "      <td>0.103783</td>\n",
       "      <td>27.833333</td>\n",
       "    </tr>\n",
       "    <tr>\n",
       "      <th>1</th>\n",
       "      <td>432hz</td>\n",
       "      <td>0.494780</td>\n",
       "      <td>0.299333</td>\n",
       "      <td>1.048887e+06</td>\n",
       "      <td>0.450678</td>\n",
       "      <td>0.477762</td>\n",
       "      <td>0.131000</td>\n",
       "      <td>-16.854000</td>\n",
       "      <td>0.076817</td>\n",
       "      <td>120.285667</td>\n",
       "      <td>0.221750</td>\n",
       "      <td>52.500000</td>\n",
       "    </tr>\n",
       "    <tr>\n",
       "      <th>2</th>\n",
       "      <td>8-bit</td>\n",
       "      <td>0.762000</td>\n",
       "      <td>0.712000</td>\n",
       "      <td>1.151770e+05</td>\n",
       "      <td>0.818000</td>\n",
       "      <td>0.876000</td>\n",
       "      <td>0.126000</td>\n",
       "      <td>-9.180000</td>\n",
       "      <td>0.047000</td>\n",
       "      <td>133.444000</td>\n",
       "      <td>0.975000</td>\n",
       "      <td>48.000000</td>\n",
       "    </tr>\n",
       "    <tr>\n",
       "      <th>3</th>\n",
       "      <td>[]</td>\n",
       "      <td>0.651417</td>\n",
       "      <td>0.529093</td>\n",
       "      <td>2.328809e+05</td>\n",
       "      <td>0.419146</td>\n",
       "      <td>0.205309</td>\n",
       "      <td>0.218696</td>\n",
       "      <td>-12.288965</td>\n",
       "      <td>0.107872</td>\n",
       "      <td>112.857352</td>\n",
       "      <td>0.513604</td>\n",
       "      <td>20.859882</td>\n",
       "    </tr>\n",
       "    <tr>\n",
       "      <th>4</th>\n",
       "      <td>a cappella</td>\n",
       "      <td>0.676557</td>\n",
       "      <td>0.538961</td>\n",
       "      <td>1.906285e+05</td>\n",
       "      <td>0.316434</td>\n",
       "      <td>0.003003</td>\n",
       "      <td>0.172254</td>\n",
       "      <td>-12.479387</td>\n",
       "      <td>0.082851</td>\n",
       "      <td>112.110362</td>\n",
       "      <td>0.448249</td>\n",
       "      <td>45.820071</td>\n",
       "    </tr>\n",
       "  </tbody>\n",
       "</table>\n",
       "</div>"
      ],
      "text/plain": [
       "                   genres  acousticness  danceability   duration_ms    energy  \\\n",
       "0  21st century classical      0.979333      0.162883  1.602977e+05  0.071317   \n",
       "1                   432hz      0.494780      0.299333  1.048887e+06  0.450678   \n",
       "2                   8-bit      0.762000      0.712000  1.151770e+05  0.818000   \n",
       "3                      []      0.651417      0.529093  2.328809e+05  0.419146   \n",
       "4              a cappella      0.676557      0.538961  1.906285e+05  0.316434   \n",
       "\n",
       "   instrumentalness  liveness   loudness  speechiness       tempo   valence  \\\n",
       "0          0.606834  0.361600 -31.514333     0.040567   75.336500  0.103783   \n",
       "1          0.477762  0.131000 -16.854000     0.076817  120.285667  0.221750   \n",
       "2          0.876000  0.126000  -9.180000     0.047000  133.444000  0.975000   \n",
       "3          0.205309  0.218696 -12.288965     0.107872  112.857352  0.513604   \n",
       "4          0.003003  0.172254 -12.479387     0.082851  112.110362  0.448249   \n",
       "\n",
       "   popularity  \n",
       "0   27.833333  \n",
       "1   52.500000  \n",
       "2   48.000000  \n",
       "3   20.859882  \n",
       "4   45.820071  "
      ]
     },
     "execution_count": 79,
     "metadata": {},
     "output_type": "execute_result"
    }
   ],
   "source": [
    "dados_genero.head()"
   ]
  },
  {
   "cell_type": "code",
   "execution_count": 67,
   "metadata": {},
   "outputs": [],
   "source": [
    "dados_ano = dados_ano[dados_ano['year'] >= 2000]\n",
    "dados_ano['year'].unique()\n",
    "dados_ano.reset_index(inplace=True)"
   ]
  },
  {
   "cell_type": "code",
   "execution_count": 68,
   "metadata": {},
   "outputs": [],
   "source": [
    "#ANÁLISE GRÁFICA"
   ]
  },
  {
   "cell_type": "code",
   "execution_count": 69,
   "metadata": {},
   "outputs": [
    {
     "data": {
      "application/vnd.plotly.v1+json": {
       "config": {
        "plotlyServerURL": "https://plot.ly"
       },
       "data": [
        {
         "hovertemplate": "year=%{x}<br>acousticness=%{y}<extra></extra>",
         "legendgroup": "",
         "line": {
          "color": "#636efa",
          "dash": "solid"
         },
         "marker": {
          "symbol": "circle"
         },
         "mode": "markers+lines",
         "name": "",
         "orientation": "v",
         "showlegend": false,
         "type": "scatter",
         "x": [
          2000,
          2001,
          2002,
          2003,
          2004,
          2005,
          2006,
          2007,
          2008,
          2009,
          2010,
          2011,
          2012,
          2013,
          2014,
          2015,
          2016,
          2017,
          2018,
          2019,
          2020
         ],
         "xaxis": "x",
         "y": [
          0.2893227005163599,
          0.2868424748428934,
          0.282624289885001,
          0.2564705181729783,
          0.2805589466225845,
          0.2557635068666665,
          0.2799863520256408,
          0.2540809575538463,
          0.2491917627212275,
          0.261928619096939,
          0.2426866435515872,
          0.2731826625185919,
          0.2499530443804624,
          0.2574880859564779,
          0.249312645880299,
          0.2539522577102332,
          0.2841710299554814,
          0.2860990665261043,
          0.2676329907750836,
          0.2782985863365824,
          0.2199308880935964
         ],
         "yaxis": "y"
        }
       ],
       "layout": {
        "legend": {
         "tracegroupgap": 0
        },
        "template": {
         "data": {
          "bar": [
           {
            "error_x": {
             "color": "#2a3f5f"
            },
            "error_y": {
             "color": "#2a3f5f"
            },
            "marker": {
             "line": {
              "color": "#E5ECF6",
              "width": 0.5
             },
             "pattern": {
              "fillmode": "overlay",
              "size": 10,
              "solidity": 0.2
             }
            },
            "type": "bar"
           }
          ],
          "barpolar": [
           {
            "marker": {
             "line": {
              "color": "#E5ECF6",
              "width": 0.5
             },
             "pattern": {
              "fillmode": "overlay",
              "size": 10,
              "solidity": 0.2
             }
            },
            "type": "barpolar"
           }
          ],
          "carpet": [
           {
            "aaxis": {
             "endlinecolor": "#2a3f5f",
             "gridcolor": "white",
             "linecolor": "white",
             "minorgridcolor": "white",
             "startlinecolor": "#2a3f5f"
            },
            "baxis": {
             "endlinecolor": "#2a3f5f",
             "gridcolor": "white",
             "linecolor": "white",
             "minorgridcolor": "white",
             "startlinecolor": "#2a3f5f"
            },
            "type": "carpet"
           }
          ],
          "choropleth": [
           {
            "colorbar": {
             "outlinewidth": 0,
             "ticks": ""
            },
            "type": "choropleth"
           }
          ],
          "contour": [
           {
            "colorbar": {
             "outlinewidth": 0,
             "ticks": ""
            },
            "colorscale": [
             [
              0,
              "#0d0887"
             ],
             [
              0.1111111111111111,
              "#46039f"
             ],
             [
              0.2222222222222222,
              "#7201a8"
             ],
             [
              0.3333333333333333,
              "#9c179e"
             ],
             [
              0.4444444444444444,
              "#bd3786"
             ],
             [
              0.5555555555555556,
              "#d8576b"
             ],
             [
              0.6666666666666666,
              "#ed7953"
             ],
             [
              0.7777777777777778,
              "#fb9f3a"
             ],
             [
              0.8888888888888888,
              "#fdca26"
             ],
             [
              1,
              "#f0f921"
             ]
            ],
            "type": "contour"
           }
          ],
          "contourcarpet": [
           {
            "colorbar": {
             "outlinewidth": 0,
             "ticks": ""
            },
            "type": "contourcarpet"
           }
          ],
          "heatmap": [
           {
            "colorbar": {
             "outlinewidth": 0,
             "ticks": ""
            },
            "colorscale": [
             [
              0,
              "#0d0887"
             ],
             [
              0.1111111111111111,
              "#46039f"
             ],
             [
              0.2222222222222222,
              "#7201a8"
             ],
             [
              0.3333333333333333,
              "#9c179e"
             ],
             [
              0.4444444444444444,
              "#bd3786"
             ],
             [
              0.5555555555555556,
              "#d8576b"
             ],
             [
              0.6666666666666666,
              "#ed7953"
             ],
             [
              0.7777777777777778,
              "#fb9f3a"
             ],
             [
              0.8888888888888888,
              "#fdca26"
             ],
             [
              1,
              "#f0f921"
             ]
            ],
            "type": "heatmap"
           }
          ],
          "heatmapgl": [
           {
            "colorbar": {
             "outlinewidth": 0,
             "ticks": ""
            },
            "colorscale": [
             [
              0,
              "#0d0887"
             ],
             [
              0.1111111111111111,
              "#46039f"
             ],
             [
              0.2222222222222222,
              "#7201a8"
             ],
             [
              0.3333333333333333,
              "#9c179e"
             ],
             [
              0.4444444444444444,
              "#bd3786"
             ],
             [
              0.5555555555555556,
              "#d8576b"
             ],
             [
              0.6666666666666666,
              "#ed7953"
             ],
             [
              0.7777777777777778,
              "#fb9f3a"
             ],
             [
              0.8888888888888888,
              "#fdca26"
             ],
             [
              1,
              "#f0f921"
             ]
            ],
            "type": "heatmapgl"
           }
          ],
          "histogram": [
           {
            "marker": {
             "pattern": {
              "fillmode": "overlay",
              "size": 10,
              "solidity": 0.2
             }
            },
            "type": "histogram"
           }
          ],
          "histogram2d": [
           {
            "colorbar": {
             "outlinewidth": 0,
             "ticks": ""
            },
            "colorscale": [
             [
              0,
              "#0d0887"
             ],
             [
              0.1111111111111111,
              "#46039f"
             ],
             [
              0.2222222222222222,
              "#7201a8"
             ],
             [
              0.3333333333333333,
              "#9c179e"
             ],
             [
              0.4444444444444444,
              "#bd3786"
             ],
             [
              0.5555555555555556,
              "#d8576b"
             ],
             [
              0.6666666666666666,
              "#ed7953"
             ],
             [
              0.7777777777777778,
              "#fb9f3a"
             ],
             [
              0.8888888888888888,
              "#fdca26"
             ],
             [
              1,
              "#f0f921"
             ]
            ],
            "type": "histogram2d"
           }
          ],
          "histogram2dcontour": [
           {
            "colorbar": {
             "outlinewidth": 0,
             "ticks": ""
            },
            "colorscale": [
             [
              0,
              "#0d0887"
             ],
             [
              0.1111111111111111,
              "#46039f"
             ],
             [
              0.2222222222222222,
              "#7201a8"
             ],
             [
              0.3333333333333333,
              "#9c179e"
             ],
             [
              0.4444444444444444,
              "#bd3786"
             ],
             [
              0.5555555555555556,
              "#d8576b"
             ],
             [
              0.6666666666666666,
              "#ed7953"
             ],
             [
              0.7777777777777778,
              "#fb9f3a"
             ],
             [
              0.8888888888888888,
              "#fdca26"
             ],
             [
              1,
              "#f0f921"
             ]
            ],
            "type": "histogram2dcontour"
           }
          ],
          "mesh3d": [
           {
            "colorbar": {
             "outlinewidth": 0,
             "ticks": ""
            },
            "type": "mesh3d"
           }
          ],
          "parcoords": [
           {
            "line": {
             "colorbar": {
              "outlinewidth": 0,
              "ticks": ""
             }
            },
            "type": "parcoords"
           }
          ],
          "pie": [
           {
            "automargin": true,
            "type": "pie"
           }
          ],
          "scatter": [
           {
            "fillpattern": {
             "fillmode": "overlay",
             "size": 10,
             "solidity": 0.2
            },
            "type": "scatter"
           }
          ],
          "scatter3d": [
           {
            "line": {
             "colorbar": {
              "outlinewidth": 0,
              "ticks": ""
             }
            },
            "marker": {
             "colorbar": {
              "outlinewidth": 0,
              "ticks": ""
             }
            },
            "type": "scatter3d"
           }
          ],
          "scattercarpet": [
           {
            "marker": {
             "colorbar": {
              "outlinewidth": 0,
              "ticks": ""
             }
            },
            "type": "scattercarpet"
           }
          ],
          "scattergeo": [
           {
            "marker": {
             "colorbar": {
              "outlinewidth": 0,
              "ticks": ""
             }
            },
            "type": "scattergeo"
           }
          ],
          "scattergl": [
           {
            "marker": {
             "colorbar": {
              "outlinewidth": 0,
              "ticks": ""
             }
            },
            "type": "scattergl"
           }
          ],
          "scattermapbox": [
           {
            "marker": {
             "colorbar": {
              "outlinewidth": 0,
              "ticks": ""
             }
            },
            "type": "scattermapbox"
           }
          ],
          "scatterpolar": [
           {
            "marker": {
             "colorbar": {
              "outlinewidth": 0,
              "ticks": ""
             }
            },
            "type": "scatterpolar"
           }
          ],
          "scatterpolargl": [
           {
            "marker": {
             "colorbar": {
              "outlinewidth": 0,
              "ticks": ""
             }
            },
            "type": "scatterpolargl"
           }
          ],
          "scatterternary": [
           {
            "marker": {
             "colorbar": {
              "outlinewidth": 0,
              "ticks": ""
             }
            },
            "type": "scatterternary"
           }
          ],
          "surface": [
           {
            "colorbar": {
             "outlinewidth": 0,
             "ticks": ""
            },
            "colorscale": [
             [
              0,
              "#0d0887"
             ],
             [
              0.1111111111111111,
              "#46039f"
             ],
             [
              0.2222222222222222,
              "#7201a8"
             ],
             [
              0.3333333333333333,
              "#9c179e"
             ],
             [
              0.4444444444444444,
              "#bd3786"
             ],
             [
              0.5555555555555556,
              "#d8576b"
             ],
             [
              0.6666666666666666,
              "#ed7953"
             ],
             [
              0.7777777777777778,
              "#fb9f3a"
             ],
             [
              0.8888888888888888,
              "#fdca26"
             ],
             [
              1,
              "#f0f921"
             ]
            ],
            "type": "surface"
           }
          ],
          "table": [
           {
            "cells": {
             "fill": {
              "color": "#EBF0F8"
             },
             "line": {
              "color": "white"
             }
            },
            "header": {
             "fill": {
              "color": "#C8D4E3"
             },
             "line": {
              "color": "white"
             }
            },
            "type": "table"
           }
          ]
         },
         "layout": {
          "annotationdefaults": {
           "arrowcolor": "#2a3f5f",
           "arrowhead": 0,
           "arrowwidth": 1
          },
          "autotypenumbers": "strict",
          "coloraxis": {
           "colorbar": {
            "outlinewidth": 0,
            "ticks": ""
           }
          },
          "colorscale": {
           "diverging": [
            [
             0,
             "#8e0152"
            ],
            [
             0.1,
             "#c51b7d"
            ],
            [
             0.2,
             "#de77ae"
            ],
            [
             0.3,
             "#f1b6da"
            ],
            [
             0.4,
             "#fde0ef"
            ],
            [
             0.5,
             "#f7f7f7"
            ],
            [
             0.6,
             "#e6f5d0"
            ],
            [
             0.7,
             "#b8e186"
            ],
            [
             0.8,
             "#7fbc41"
            ],
            [
             0.9,
             "#4d9221"
            ],
            [
             1,
             "#276419"
            ]
           ],
           "sequential": [
            [
             0,
             "#0d0887"
            ],
            [
             0.1111111111111111,
             "#46039f"
            ],
            [
             0.2222222222222222,
             "#7201a8"
            ],
            [
             0.3333333333333333,
             "#9c179e"
            ],
            [
             0.4444444444444444,
             "#bd3786"
            ],
            [
             0.5555555555555556,
             "#d8576b"
            ],
            [
             0.6666666666666666,
             "#ed7953"
            ],
            [
             0.7777777777777778,
             "#fb9f3a"
            ],
            [
             0.8888888888888888,
             "#fdca26"
            ],
            [
             1,
             "#f0f921"
            ]
           ],
           "sequentialminus": [
            [
             0,
             "#0d0887"
            ],
            [
             0.1111111111111111,
             "#46039f"
            ],
            [
             0.2222222222222222,
             "#7201a8"
            ],
            [
             0.3333333333333333,
             "#9c179e"
            ],
            [
             0.4444444444444444,
             "#bd3786"
            ],
            [
             0.5555555555555556,
             "#d8576b"
            ],
            [
             0.6666666666666666,
             "#ed7953"
            ],
            [
             0.7777777777777778,
             "#fb9f3a"
            ],
            [
             0.8888888888888888,
             "#fdca26"
            ],
            [
             1,
             "#f0f921"
            ]
           ]
          },
          "colorway": [
           "#636efa",
           "#EF553B",
           "#00cc96",
           "#ab63fa",
           "#FFA15A",
           "#19d3f3",
           "#FF6692",
           "#B6E880",
           "#FF97FF",
           "#FECB52"
          ],
          "font": {
           "color": "#2a3f5f"
          },
          "geo": {
           "bgcolor": "white",
           "lakecolor": "white",
           "landcolor": "#E5ECF6",
           "showlakes": true,
           "showland": true,
           "subunitcolor": "white"
          },
          "hoverlabel": {
           "align": "left"
          },
          "hovermode": "closest",
          "mapbox": {
           "style": "light"
          },
          "paper_bgcolor": "white",
          "plot_bgcolor": "#E5ECF6",
          "polar": {
           "angularaxis": {
            "gridcolor": "white",
            "linecolor": "white",
            "ticks": ""
           },
           "bgcolor": "#E5ECF6",
           "radialaxis": {
            "gridcolor": "white",
            "linecolor": "white",
            "ticks": ""
           }
          },
          "scene": {
           "xaxis": {
            "backgroundcolor": "#E5ECF6",
            "gridcolor": "white",
            "gridwidth": 2,
            "linecolor": "white",
            "showbackground": true,
            "ticks": "",
            "zerolinecolor": "white"
           },
           "yaxis": {
            "backgroundcolor": "#E5ECF6",
            "gridcolor": "white",
            "gridwidth": 2,
            "linecolor": "white",
            "showbackground": true,
            "ticks": "",
            "zerolinecolor": "white"
           },
           "zaxis": {
            "backgroundcolor": "#E5ECF6",
            "gridcolor": "white",
            "gridwidth": 2,
            "linecolor": "white",
            "showbackground": true,
            "ticks": "",
            "zerolinecolor": "white"
           }
          },
          "shapedefaults": {
           "line": {
            "color": "#2a3f5f"
           }
          },
          "ternary": {
           "aaxis": {
            "gridcolor": "white",
            "linecolor": "white",
            "ticks": ""
           },
           "baxis": {
            "gridcolor": "white",
            "linecolor": "white",
            "ticks": ""
           },
           "bgcolor": "#E5ECF6",
           "caxis": {
            "gridcolor": "white",
            "linecolor": "white",
            "ticks": ""
           }
          },
          "title": {
           "x": 0.05
          },
          "xaxis": {
           "automargin": true,
           "gridcolor": "white",
           "linecolor": "white",
           "ticks": "",
           "title": {
            "standoff": 15
           },
           "zerolinecolor": "white",
           "zerolinewidth": 2
          },
          "yaxis": {
           "automargin": true,
           "gridcolor": "white",
           "linecolor": "white",
           "ticks": "",
           "title": {
            "standoff": 15
           },
           "zerolinecolor": "white",
           "zerolinewidth": 2
          }
         }
        },
        "title": {
         "text": "Variação do acousticness conforme os anos"
        },
        "xaxis": {
         "anchor": "y",
         "domain": [
          0,
          1
         ],
         "title": {
          "text": "year"
         }
        },
        "yaxis": {
         "anchor": "x",
         "domain": [
          0,
          1
         ],
         "title": {
          "text": "acousticness"
         }
        }
       }
      }
     },
     "metadata": {},
     "output_type": "display_data"
    }
   ],
   "source": [
    "fig = px.line(dados_ano, x = 'year', y='acousticness', markers=True, title='Variação do acousticness conforme os anos')\n",
    "fig.show()"
   ]
  },
  {
   "cell_type": "code",
   "execution_count": 70,
   "metadata": {},
   "outputs": [
    {
     "data": {
      "application/vnd.plotly.v1+json": {
       "config": {
        "plotlyServerURL": "https://plot.ly"
       },
       "data": [
        {
         "hovertemplate": "year=%{x}<br>loudness=%{y}<extra></extra>",
         "legendgroup": "",
         "line": {
          "color": "#636efa",
          "dash": "solid"
         },
         "marker": {
          "symbol": "circle"
         },
         "mode": "markers+lines",
         "name": "",
         "orientation": "v",
         "showlegend": false,
         "type": "scatter",
         "x": [
          2000,
          2001,
          2002,
          2003,
          2004,
          2005,
          2006,
          2007,
          2008,
          2009,
          2010,
          2011,
          2012,
          2013,
          2014,
          2015,
          2016,
          2017,
          2018,
          2019,
          2020
         ],
         "xaxis": "x",
         "y": [
          -8.247765848670758,
          -8.305095261845384,
          -7.686639500000013,
          -7.485545035823955,
          -7.601655137334684,
          -7.46615897435897,
          -7.265500512820514,
          -7.044535897435892,
          -6.8438040920716166,
          -7.0460147959183645,
          -6.9099042658730125,
          -7.574986117997006,
          -7.260549614395888,
          -7.472039473684207,
          -7.06743990024938,
          -7.625639311043569,
          -8.061056204785759,
          -8.31262951807228,
          -7.168785068949124,
          -7.722191893278596,
          -6.595066995073878
         ],
         "yaxis": "y"
        }
       ],
       "layout": {
        "legend": {
         "tracegroupgap": 0
        },
        "template": {
         "data": {
          "bar": [
           {
            "error_x": {
             "color": "#2a3f5f"
            },
            "error_y": {
             "color": "#2a3f5f"
            },
            "marker": {
             "line": {
              "color": "#E5ECF6",
              "width": 0.5
             },
             "pattern": {
              "fillmode": "overlay",
              "size": 10,
              "solidity": 0.2
             }
            },
            "type": "bar"
           }
          ],
          "barpolar": [
           {
            "marker": {
             "line": {
              "color": "#E5ECF6",
              "width": 0.5
             },
             "pattern": {
              "fillmode": "overlay",
              "size": 10,
              "solidity": 0.2
             }
            },
            "type": "barpolar"
           }
          ],
          "carpet": [
           {
            "aaxis": {
             "endlinecolor": "#2a3f5f",
             "gridcolor": "white",
             "linecolor": "white",
             "minorgridcolor": "white",
             "startlinecolor": "#2a3f5f"
            },
            "baxis": {
             "endlinecolor": "#2a3f5f",
             "gridcolor": "white",
             "linecolor": "white",
             "minorgridcolor": "white",
             "startlinecolor": "#2a3f5f"
            },
            "type": "carpet"
           }
          ],
          "choropleth": [
           {
            "colorbar": {
             "outlinewidth": 0,
             "ticks": ""
            },
            "type": "choropleth"
           }
          ],
          "contour": [
           {
            "colorbar": {
             "outlinewidth": 0,
             "ticks": ""
            },
            "colorscale": [
             [
              0,
              "#0d0887"
             ],
             [
              0.1111111111111111,
              "#46039f"
             ],
             [
              0.2222222222222222,
              "#7201a8"
             ],
             [
              0.3333333333333333,
              "#9c179e"
             ],
             [
              0.4444444444444444,
              "#bd3786"
             ],
             [
              0.5555555555555556,
              "#d8576b"
             ],
             [
              0.6666666666666666,
              "#ed7953"
             ],
             [
              0.7777777777777778,
              "#fb9f3a"
             ],
             [
              0.8888888888888888,
              "#fdca26"
             ],
             [
              1,
              "#f0f921"
             ]
            ],
            "type": "contour"
           }
          ],
          "contourcarpet": [
           {
            "colorbar": {
             "outlinewidth": 0,
             "ticks": ""
            },
            "type": "contourcarpet"
           }
          ],
          "heatmap": [
           {
            "colorbar": {
             "outlinewidth": 0,
             "ticks": ""
            },
            "colorscale": [
             [
              0,
              "#0d0887"
             ],
             [
              0.1111111111111111,
              "#46039f"
             ],
             [
              0.2222222222222222,
              "#7201a8"
             ],
             [
              0.3333333333333333,
              "#9c179e"
             ],
             [
              0.4444444444444444,
              "#bd3786"
             ],
             [
              0.5555555555555556,
              "#d8576b"
             ],
             [
              0.6666666666666666,
              "#ed7953"
             ],
             [
              0.7777777777777778,
              "#fb9f3a"
             ],
             [
              0.8888888888888888,
              "#fdca26"
             ],
             [
              1,
              "#f0f921"
             ]
            ],
            "type": "heatmap"
           }
          ],
          "heatmapgl": [
           {
            "colorbar": {
             "outlinewidth": 0,
             "ticks": ""
            },
            "colorscale": [
             [
              0,
              "#0d0887"
             ],
             [
              0.1111111111111111,
              "#46039f"
             ],
             [
              0.2222222222222222,
              "#7201a8"
             ],
             [
              0.3333333333333333,
              "#9c179e"
             ],
             [
              0.4444444444444444,
              "#bd3786"
             ],
             [
              0.5555555555555556,
              "#d8576b"
             ],
             [
              0.6666666666666666,
              "#ed7953"
             ],
             [
              0.7777777777777778,
              "#fb9f3a"
             ],
             [
              0.8888888888888888,
              "#fdca26"
             ],
             [
              1,
              "#f0f921"
             ]
            ],
            "type": "heatmapgl"
           }
          ],
          "histogram": [
           {
            "marker": {
             "pattern": {
              "fillmode": "overlay",
              "size": 10,
              "solidity": 0.2
             }
            },
            "type": "histogram"
           }
          ],
          "histogram2d": [
           {
            "colorbar": {
             "outlinewidth": 0,
             "ticks": ""
            },
            "colorscale": [
             [
              0,
              "#0d0887"
             ],
             [
              0.1111111111111111,
              "#46039f"
             ],
             [
              0.2222222222222222,
              "#7201a8"
             ],
             [
              0.3333333333333333,
              "#9c179e"
             ],
             [
              0.4444444444444444,
              "#bd3786"
             ],
             [
              0.5555555555555556,
              "#d8576b"
             ],
             [
              0.6666666666666666,
              "#ed7953"
             ],
             [
              0.7777777777777778,
              "#fb9f3a"
             ],
             [
              0.8888888888888888,
              "#fdca26"
             ],
             [
              1,
              "#f0f921"
             ]
            ],
            "type": "histogram2d"
           }
          ],
          "histogram2dcontour": [
           {
            "colorbar": {
             "outlinewidth": 0,
             "ticks": ""
            },
            "colorscale": [
             [
              0,
              "#0d0887"
             ],
             [
              0.1111111111111111,
              "#46039f"
             ],
             [
              0.2222222222222222,
              "#7201a8"
             ],
             [
              0.3333333333333333,
              "#9c179e"
             ],
             [
              0.4444444444444444,
              "#bd3786"
             ],
             [
              0.5555555555555556,
              "#d8576b"
             ],
             [
              0.6666666666666666,
              "#ed7953"
             ],
             [
              0.7777777777777778,
              "#fb9f3a"
             ],
             [
              0.8888888888888888,
              "#fdca26"
             ],
             [
              1,
              "#f0f921"
             ]
            ],
            "type": "histogram2dcontour"
           }
          ],
          "mesh3d": [
           {
            "colorbar": {
             "outlinewidth": 0,
             "ticks": ""
            },
            "type": "mesh3d"
           }
          ],
          "parcoords": [
           {
            "line": {
             "colorbar": {
              "outlinewidth": 0,
              "ticks": ""
             }
            },
            "type": "parcoords"
           }
          ],
          "pie": [
           {
            "automargin": true,
            "type": "pie"
           }
          ],
          "scatter": [
           {
            "fillpattern": {
             "fillmode": "overlay",
             "size": 10,
             "solidity": 0.2
            },
            "type": "scatter"
           }
          ],
          "scatter3d": [
           {
            "line": {
             "colorbar": {
              "outlinewidth": 0,
              "ticks": ""
             }
            },
            "marker": {
             "colorbar": {
              "outlinewidth": 0,
              "ticks": ""
             }
            },
            "type": "scatter3d"
           }
          ],
          "scattercarpet": [
           {
            "marker": {
             "colorbar": {
              "outlinewidth": 0,
              "ticks": ""
             }
            },
            "type": "scattercarpet"
           }
          ],
          "scattergeo": [
           {
            "marker": {
             "colorbar": {
              "outlinewidth": 0,
              "ticks": ""
             }
            },
            "type": "scattergeo"
           }
          ],
          "scattergl": [
           {
            "marker": {
             "colorbar": {
              "outlinewidth": 0,
              "ticks": ""
             }
            },
            "type": "scattergl"
           }
          ],
          "scattermapbox": [
           {
            "marker": {
             "colorbar": {
              "outlinewidth": 0,
              "ticks": ""
             }
            },
            "type": "scattermapbox"
           }
          ],
          "scatterpolar": [
           {
            "marker": {
             "colorbar": {
              "outlinewidth": 0,
              "ticks": ""
             }
            },
            "type": "scatterpolar"
           }
          ],
          "scatterpolargl": [
           {
            "marker": {
             "colorbar": {
              "outlinewidth": 0,
              "ticks": ""
             }
            },
            "type": "scatterpolargl"
           }
          ],
          "scatterternary": [
           {
            "marker": {
             "colorbar": {
              "outlinewidth": 0,
              "ticks": ""
             }
            },
            "type": "scatterternary"
           }
          ],
          "surface": [
           {
            "colorbar": {
             "outlinewidth": 0,
             "ticks": ""
            },
            "colorscale": [
             [
              0,
              "#0d0887"
             ],
             [
              0.1111111111111111,
              "#46039f"
             ],
             [
              0.2222222222222222,
              "#7201a8"
             ],
             [
              0.3333333333333333,
              "#9c179e"
             ],
             [
              0.4444444444444444,
              "#bd3786"
             ],
             [
              0.5555555555555556,
              "#d8576b"
             ],
             [
              0.6666666666666666,
              "#ed7953"
             ],
             [
              0.7777777777777778,
              "#fb9f3a"
             ],
             [
              0.8888888888888888,
              "#fdca26"
             ],
             [
              1,
              "#f0f921"
             ]
            ],
            "type": "surface"
           }
          ],
          "table": [
           {
            "cells": {
             "fill": {
              "color": "#EBF0F8"
             },
             "line": {
              "color": "white"
             }
            },
            "header": {
             "fill": {
              "color": "#C8D4E3"
             },
             "line": {
              "color": "white"
             }
            },
            "type": "table"
           }
          ]
         },
         "layout": {
          "annotationdefaults": {
           "arrowcolor": "#2a3f5f",
           "arrowhead": 0,
           "arrowwidth": 1
          },
          "autotypenumbers": "strict",
          "coloraxis": {
           "colorbar": {
            "outlinewidth": 0,
            "ticks": ""
           }
          },
          "colorscale": {
           "diverging": [
            [
             0,
             "#8e0152"
            ],
            [
             0.1,
             "#c51b7d"
            ],
            [
             0.2,
             "#de77ae"
            ],
            [
             0.3,
             "#f1b6da"
            ],
            [
             0.4,
             "#fde0ef"
            ],
            [
             0.5,
             "#f7f7f7"
            ],
            [
             0.6,
             "#e6f5d0"
            ],
            [
             0.7,
             "#b8e186"
            ],
            [
             0.8,
             "#7fbc41"
            ],
            [
             0.9,
             "#4d9221"
            ],
            [
             1,
             "#276419"
            ]
           ],
           "sequential": [
            [
             0,
             "#0d0887"
            ],
            [
             0.1111111111111111,
             "#46039f"
            ],
            [
             0.2222222222222222,
             "#7201a8"
            ],
            [
             0.3333333333333333,
             "#9c179e"
            ],
            [
             0.4444444444444444,
             "#bd3786"
            ],
            [
             0.5555555555555556,
             "#d8576b"
            ],
            [
             0.6666666666666666,
             "#ed7953"
            ],
            [
             0.7777777777777778,
             "#fb9f3a"
            ],
            [
             0.8888888888888888,
             "#fdca26"
            ],
            [
             1,
             "#f0f921"
            ]
           ],
           "sequentialminus": [
            [
             0,
             "#0d0887"
            ],
            [
             0.1111111111111111,
             "#46039f"
            ],
            [
             0.2222222222222222,
             "#7201a8"
            ],
            [
             0.3333333333333333,
             "#9c179e"
            ],
            [
             0.4444444444444444,
             "#bd3786"
            ],
            [
             0.5555555555555556,
             "#d8576b"
            ],
            [
             0.6666666666666666,
             "#ed7953"
            ],
            [
             0.7777777777777778,
             "#fb9f3a"
            ],
            [
             0.8888888888888888,
             "#fdca26"
            ],
            [
             1,
             "#f0f921"
            ]
           ]
          },
          "colorway": [
           "#636efa",
           "#EF553B",
           "#00cc96",
           "#ab63fa",
           "#FFA15A",
           "#19d3f3",
           "#FF6692",
           "#B6E880",
           "#FF97FF",
           "#FECB52"
          ],
          "font": {
           "color": "#2a3f5f"
          },
          "geo": {
           "bgcolor": "white",
           "lakecolor": "white",
           "landcolor": "#E5ECF6",
           "showlakes": true,
           "showland": true,
           "subunitcolor": "white"
          },
          "hoverlabel": {
           "align": "left"
          },
          "hovermode": "closest",
          "mapbox": {
           "style": "light"
          },
          "paper_bgcolor": "white",
          "plot_bgcolor": "#E5ECF6",
          "polar": {
           "angularaxis": {
            "gridcolor": "white",
            "linecolor": "white",
            "ticks": ""
           },
           "bgcolor": "#E5ECF6",
           "radialaxis": {
            "gridcolor": "white",
            "linecolor": "white",
            "ticks": ""
           }
          },
          "scene": {
           "xaxis": {
            "backgroundcolor": "#E5ECF6",
            "gridcolor": "white",
            "gridwidth": 2,
            "linecolor": "white",
            "showbackground": true,
            "ticks": "",
            "zerolinecolor": "white"
           },
           "yaxis": {
            "backgroundcolor": "#E5ECF6",
            "gridcolor": "white",
            "gridwidth": 2,
            "linecolor": "white",
            "showbackground": true,
            "ticks": "",
            "zerolinecolor": "white"
           },
           "zaxis": {
            "backgroundcolor": "#E5ECF6",
            "gridcolor": "white",
            "gridwidth": 2,
            "linecolor": "white",
            "showbackground": true,
            "ticks": "",
            "zerolinecolor": "white"
           }
          },
          "shapedefaults": {
           "line": {
            "color": "#2a3f5f"
           }
          },
          "ternary": {
           "aaxis": {
            "gridcolor": "white",
            "linecolor": "white",
            "ticks": ""
           },
           "baxis": {
            "gridcolor": "white",
            "linecolor": "white",
            "ticks": ""
           },
           "bgcolor": "#E5ECF6",
           "caxis": {
            "gridcolor": "white",
            "linecolor": "white",
            "ticks": ""
           }
          },
          "title": {
           "x": 0.05
          },
          "xaxis": {
           "automargin": true,
           "gridcolor": "white",
           "linecolor": "white",
           "ticks": "",
           "title": {
            "standoff": 15
           },
           "zerolinecolor": "white",
           "zerolinewidth": 2
          },
          "yaxis": {
           "automargin": true,
           "gridcolor": "white",
           "linecolor": "white",
           "ticks": "",
           "title": {
            "standoff": 15
           },
           "zerolinecolor": "white",
           "zerolinewidth": 2
          }
         }
        },
        "title": {
         "text": "Variação do loudness conforme os anos"
        },
        "xaxis": {
         "anchor": "y",
         "domain": [
          0,
          1
         ],
         "title": {
          "text": "year"
         }
        },
        "yaxis": {
         "anchor": "x",
         "domain": [
          0,
          1
         ],
         "title": {
          "text": "loudness"
         }
        }
       }
      }
     },
     "metadata": {},
     "output_type": "display_data"
    }
   ],
   "source": [
    "fig = px.line(dados_ano, x = 'year', y='loudness', markers=True, title='Variação do loudness conforme os anos')\n",
    "fig.show()"
   ]
  },
  {
   "cell_type": "code",
   "execution_count": 71,
   "metadata": {},
   "outputs": [
    {
     "name": "stdout",
     "output_type": "stream",
     "text": [
      "Initialization complete\n",
      "Iteration 0, inertia 4975.4223581129345.\n",
      "Iteration 1, inertia 3873.3860314867015.\n",
      "Iteration 2, inertia 3665.048448329231.\n",
      "Iteration 3, inertia 3579.9362805656283.\n",
      "Iteration 4, inertia 3544.318583870793.\n",
      "Iteration 5, inertia 3531.5029290879193.\n",
      "Iteration 6, inertia 3527.146191375396.\n",
      "Iteration 7, inertia 3524.4738481912186.\n",
      "Iteration 8, inertia 3522.2375572880146.\n",
      "Iteration 9, inertia 3520.4491824407255.\n",
      "Iteration 10, inertia 3519.692787083722.\n",
      "Iteration 11, inertia 3518.7901579631953.\n",
      "Iteration 12, inertia 3518.038748214686.\n",
      "Iteration 13, inertia 3517.6329455699965.\n",
      "Converged at iteration 13: center shift 0.00021803977124841445 within tolerance 0.0002709886847099649.\n",
      "Initialization complete\n",
      "Iteration 0, inertia 4236.981147484262.\n",
      "Iteration 1, inertia 3687.6454352327355.\n",
      "Iteration 2, inertia 3601.2643607957652.\n",
      "Iteration 3, inertia 3569.377245630352.\n",
      "Iteration 4, inertia 3547.1276944827605.\n",
      "Iteration 5, inertia 3531.967510353079.\n",
      "Iteration 6, inertia 3522.5098124879846.\n",
      "Iteration 7, inertia 3514.5592720746745.\n",
      "Iteration 8, inertia 3509.140411847429.\n",
      "Iteration 9, inertia 3506.829303528959.\n",
      "Iteration 10, inertia 3505.798018523221.\n",
      "Iteration 11, inertia 3505.264917424503.\n",
      "Iteration 12, inertia 3504.8236594996683.\n",
      "Converged at iteration 12: center shift 0.00010092449808257362 within tolerance 0.0002709886847099649.\n",
      "Initialization complete\n",
      "Iteration 0, inertia 4004.8276198363674.\n",
      "Iteration 1, inertia 3543.7007017412125.\n",
      "Iteration 2, inertia 3519.296251877885.\n",
      "Iteration 3, inertia 3515.8870463224584.\n",
      "Iteration 4, inertia 3514.898212823188.\n",
      "Converged at iteration 4: center shift 0.00022426483802653795 within tolerance 0.0002709886847099649.\n",
      "Initialization complete\n",
      "Iteration 0, inertia 4401.620445419047.\n",
      "Iteration 1, inertia 3757.216989869479.\n",
      "Iteration 2, inertia 3634.5254280447502.\n",
      "Iteration 3, inertia 3582.028739693939.\n",
      "Iteration 4, inertia 3552.2018008929927.\n",
      "Iteration 5, inertia 3535.3157572678797.\n",
      "Iteration 6, inertia 3525.78611906299.\n",
      "Iteration 7, inertia 3519.240029001003.\n",
      "Iteration 8, inertia 3513.189242469772.\n",
      "Iteration 9, inertia 3508.270528701829.\n",
      "Iteration 10, inertia 3504.466517523459.\n",
      "Iteration 11, inertia 3501.631472542205.\n",
      "Iteration 12, inertia 3500.49861484184.\n",
      "Iteration 13, inertia 3500.2299340079207.\n",
      "Converged at iteration 13: center shift 7.512150783585619e-05 within tolerance 0.0002709886847099649.\n",
      "Initialization complete\n",
      "Iteration 0, inertia 5322.7390758103975.\n",
      "Iteration 1, inertia 4712.37067552898.\n",
      "Iteration 2, inertia 4268.085676486324.\n",
      "Iteration 3, inertia 3790.633502457265.\n",
      "Iteration 4, inertia 3630.0760236247947.\n",
      "Iteration 5, inertia 3573.7316766918657.\n",
      "Iteration 6, inertia 3549.443343157577.\n",
      "Iteration 7, inertia 3535.8108409371857.\n",
      "Iteration 8, inertia 3526.7054899297136.\n",
      "Iteration 9, inertia 3521.7847426127155.\n",
      "Iteration 10, inertia 3518.4153827648447.\n",
      "Iteration 11, inertia 3516.5039065078763.\n",
      "Iteration 12, inertia 3515.6096115423015.\n",
      "Iteration 13, inertia 3515.0694991818746.\n",
      "Converged at iteration 13: center shift 0.0002010692441854651 within tolerance 0.0002709886847099649.\n",
      "Initialization complete\n",
      "Iteration 0, inertia 4239.006198422762.\n",
      "Iteration 1, inertia 3665.8422506174397.\n",
      "Iteration 2, inertia 3645.5297548802287.\n",
      "Iteration 3, inertia 3636.813505359254.\n",
      "Iteration 4, inertia 3629.1517366443472.\n",
      "Iteration 5, inertia 3615.9537387885507.\n",
      "Iteration 6, inertia 3603.974710931885.\n",
      "Iteration 7, inertia 3587.523811725009.\n",
      "Iteration 8, inertia 3573.8674694517235.\n",
      "Iteration 9, inertia 3566.219057807308.\n",
      "Iteration 10, inertia 3562.0194753874725.\n",
      "Iteration 11, inertia 3560.4909580505064.\n",
      "Iteration 12, inertia 3559.6992144722194.\n",
      "Iteration 13, inertia 3559.0831810987715.\n",
      "Iteration 14, inertia 3558.6329110914685.\n",
      "Iteration 15, inertia 3558.243964413724.\n",
      "Converged at iteration 15: center shift 0.00016503437986978872 within tolerance 0.0002709886847099649.\n",
      "Initialization complete\n",
      "Iteration 0, inertia 6453.386678697358.\n",
      "Iteration 1, inertia 4629.796956760537.\n",
      "Iteration 2, inertia 4120.528159203595.\n",
      "Iteration 3, inertia 3841.469608311342.\n",
      "Iteration 4, inertia 3704.622003219137.\n",
      "Iteration 5, inertia 3644.2103447786885.\n",
      "Iteration 6, inertia 3615.27380652772.\n",
      "Iteration 7, inertia 3602.905456710194.\n",
      "Iteration 8, inertia 3593.0794072137096.\n",
      "Iteration 9, inertia 3579.457065259244.\n",
      "Iteration 10, inertia 3563.3333683882734.\n",
      "Iteration 11, inertia 3549.790277753989.\n",
      "Iteration 12, inertia 3535.2622601113617.\n",
      "Iteration 13, inertia 3525.120309615718.\n",
      "Iteration 14, inertia 3518.9240713386316.\n",
      "Iteration 15, inertia 3512.809523326241.\n",
      "Iteration 16, inertia 3508.437665795346.\n",
      "Iteration 17, inertia 3506.6674426721866.\n",
      "Iteration 18, inertia 3505.7529348534367.\n",
      "Iteration 19, inertia 3505.362604563193.\n",
      "Iteration 20, inertia 3504.8271260071233.\n",
      "Converged at iteration 20: center shift 0.0002615525973560675 within tolerance 0.0002709886847099649.\n",
      "Initialization complete\n",
      "Iteration 0, inertia 4994.463648853208.\n",
      "Iteration 1, inertia 4366.886983280377.\n",
      "Iteration 2, inertia 3954.663116081785.\n",
      "Iteration 3, inertia 3711.3031316701486.\n",
      "Iteration 4, inertia 3631.7555953381207.\n",
      "Iteration 5, inertia 3600.1308325063656.\n",
      "Iteration 6, inertia 3577.6784787067063.\n",
      "Iteration 7, inertia 3559.020320997587.\n",
      "Iteration 8, inertia 3548.079290792093.\n",
      "Iteration 9, inertia 3538.8036654157922.\n",
      "Iteration 10, inertia 3533.669386327691.\n",
      "Iteration 11, inertia 3529.798993997812.\n",
      "Iteration 12, inertia 3527.3614643237993.\n",
      "Iteration 13, inertia 3526.58193441169.\n",
      "Iteration 14, inertia 3526.2523461127957.\n",
      "Converged at iteration 14: center shift 0.00026744216479593596 within tolerance 0.0002709886847099649.\n",
      "Initialization complete\n",
      "Iteration 0, inertia 4229.699857331223.\n",
      "Iteration 1, inertia 3615.2148229888744.\n",
      "Iteration 2, inertia 3559.954012369922.\n",
      "Iteration 3, inertia 3537.6614994554557.\n",
      "Iteration 4, inertia 3531.580493625357.\n",
      "Iteration 5, inertia 3527.132092590768.\n",
      "Iteration 6, inertia 3524.075508115273.\n",
      "Iteration 7, inertia 3521.6853552068237.\n",
      "Iteration 8, inertia 3520.3221278131496.\n",
      "Iteration 9, inertia 3519.5641807451293.\n",
      "Iteration 10, inertia 3518.830507761812.\n",
      "Iteration 11, inertia 3518.182639201266.\n",
      "Iteration 12, inertia 3517.7863960579616.\n",
      "Converged at iteration 12: center shift 0.00014058952234738376 within tolerance 0.0002709886847099649.\n",
      "Initialization complete\n",
      "Iteration 0, inertia 4527.139210564647.\n",
      "Iteration 1, inertia 3701.260714501553.\n",
      "Iteration 2, inertia 3642.6273053729783.\n",
      "Iteration 3, inertia 3612.088336817746.\n",
      "Iteration 4, inertia 3591.5167180836966.\n",
      "Iteration 5, inertia 3569.6986100908116.\n",
      "Iteration 6, inertia 3552.752519317301.\n",
      "Iteration 7, inertia 3539.0150213381003.\n",
      "Iteration 8, inertia 3528.813899109759.\n",
      "Iteration 9, inertia 3518.970283060551.\n",
      "Iteration 10, inertia 3512.922153446425.\n",
      "Iteration 11, inertia 3508.049045306575.\n",
      "Iteration 12, inertia 3506.2647829872026.\n",
      "Iteration 13, inertia 3505.763281100853.\n",
      "Iteration 14, inertia 3505.2020436376743.\n",
      "Iteration 15, inertia 3504.88674536686.\n",
      "Converged at iteration 15: center shift 0.00026699242246044637 within tolerance 0.0002709886847099649.\n"
     ]
    },
    {
     "name": "stderr",
     "output_type": "stream",
     "text": [
      "C:\\Users\\lucas\\AppData\\Local\\Packages\\PythonSoftwareFoundation.Python.3.11_qbz5n2kfra8p0\\LocalCache\\local-packages\\Python311\\site-packages\\sklearn\\cluster\\_kmeans.py:1416: FutureWarning:\n",
      "\n",
      "The default value of `n_init` will change from 10 to 'auto' in 1.4. Set the value of `n_init` explicitly to suppress the warning\n",
      "\n"
     ]
    }
   ],
   "source": [
    "#CLUSTERIZAÇÃO POR GENERO\n",
    "\n",
    "dados_genero1 = dados_genero.drop(\"genres\", axis = 1)\n",
    "# pré-processamento e redução da dimensionalidade dos dados de gênero\n",
    "SEED = 123\n",
    "np.random.seed(SEED)\n",
    "\n",
    "pca_pipeline = Pipeline([('scaler', StandardScaler()), ('PCA', PCA(n_components=2, random_state=SEED))])\n",
    "\n",
    "genre_embedding_pca = pca_pipeline.fit_transform(dados_genero1)\n",
    "projection = pd.DataFrame(columns=['x', 'y'], data=genre_embedding_pca)\n",
    "\n",
    "kmeans_pca = KMeans(n_clusters=5, verbose=True, random_state=SEED)\n",
    "\n",
    "kmeans_pca.fit(projection)\n",
    "\n",
    "dados_genero['cluster_pca'] = kmeans_pca.predict(projection)\n",
    "projection['cluster_pca'] = kmeans_pca.predict(projection)\n",
    "\n",
    "projection['generos'] = dados_genero['genres']"
   ]
  },
  {
   "cell_type": "code",
   "execution_count": 72,
   "metadata": {},
   "outputs": [
    {
     "name": "stdout",
     "output_type": "stream",
     "text": [
      "             x         y  cluster_pca                    generos\n",
      "0     5.910268 -0.011146            0     21st century classical\n",
      "1895  3.746891 -0.071537            0  native american spiritual\n",
      "569   2.803014 -0.607450            0     christmas instrumental\n",
      "1904  3.126929  0.423391            0              neo-classical\n",
      "565   2.658957  0.513204            0       christian relaxative\n",
      "...        ...       ...          ...                        ...\n",
      "1249 -2.094841  1.083858            4                    gymcore\n",
      "2462 -0.771040  1.067705            4            sheffield indie\n",
      "2464 -1.293807  0.425780            4                shimmer pop\n",
      "530  -1.187643  1.931705            4                  chillstep\n",
      "1989 -1.603296  0.899414            4        northern irish punk\n",
      "\n",
      "[2973 rows x 4 columns]\n"
     ]
    }
   ],
   "source": [
    "print(projection.sort_values(by=\"cluster_pca\", ascending=True))\n",
    "df_final = projection.sort_values(by=\"cluster_pca\", ascending=True)\n",
    "df_final.to_csv(\"dados_finais.csv\")"
   ]
  },
  {
   "cell_type": "code",
   "execution_count": 73,
   "metadata": {},
   "outputs": [
    {
     "data": {
      "application/vnd.plotly.v1+json": {
       "config": {
        "plotlyServerURL": "https://plot.ly"
       },
       "data": [
        {
         "customdata": [
          [
           "21st century classical"
          ],
          [
           "432hz"
          ],
          [
           "8-bit"
          ],
          [
           "[]"
          ],
          [
           "a cappella"
          ],
          [
           "abstract"
          ],
          [
           "abstract beats"
          ],
          [
           "abstract hip hop"
          ],
          [
           "accordeon"
          ],
          [
           "accordion"
          ],
          [
           "acid house"
          ],
          [
           "acid rock"
          ],
          [
           "acid trance"
          ],
          [
           "acousmatic"
          ],
          [
           "acoustic blues"
          ],
          [
           "acoustic pop"
          ],
          [
           "acoustic punk"
          ],
          [
           "acoustic rock"
          ],
          [
           "action rock"
          ],
          [
           "adoracion"
          ],
          [
           "adult standards"
          ],
          [
           "adventista"
          ],
          [
           "afghan pop"
          ],
          [
           "afghan traditional"
          ],
          [
           "african percussion"
          ],
          [
           "african reggae"
          ],
          [
           "african rock"
          ],
          [
           "african-american classical"
          ],
          [
           "afro dancehall"
          ],
          [
           "afro house"
          ],
          [
           "afro psych"
          ],
          [
           "afro soul"
          ],
          [
           "afro-funk"
          ],
          [
           "afrobeat"
          ],
          [
           "afrofuturism"
          ],
          [
           "afrofuturismo brasileiro"
          ],
          [
           "afropop"
          ],
          [
           "afroswing"
          ],
          [
           "aggrotech"
          ],
          [
           "alabama indie"
          ],
          [
           "alabama metal"
          ],
          [
           "alabama rap"
          ],
          [
           "alaska indie"
          ],
          [
           "albanian pop"
          ],
          [
           "albany ny indie"
          ],
          [
           "alberta country"
          ],
          [
           "alberta hip hop"
          ],
          [
           "album rock"
          ],
          [
           "albuquerque indie"
          ],
          [
           "alt-idol"
          ],
          [
           "alte"
          ],
          [
           "alternative americana"
          ],
          [
           "alternative country"
          ],
          [
           "alternative dance"
          ],
          [
           "alternative emo"
          ],
          [
           "alternative hip hop"
          ],
          [
           "alternative metal"
          ],
          [
           "alternative pop"
          ],
          [
           "alternative pop rock"
          ],
          [
           "alternative r&b"
          ],
          [
           "alternative rock"
          ],
          [
           "alternative roots rock"
          ],
          [
           "ambeat"
          ],
          [
           "ambient"
          ],
          [
           "ambient black metal"
          ],
          [
           "ambient folk"
          ],
          [
           "ambient house"
          ],
          [
           "ambient idm"
          ],
          [
           "ambient industrial"
          ],
          [
           "ambient pop"
          ],
          [
           "ambient techno"
          ],
          [
           "ambient worship"
          ],
          [
           "american 21st century classical"
          ],
          [
           "american choir"
          ],
          [
           "american classical piano"
          ],
          [
           "american contemporary classical"
          ],
          [
           "american early music"
          ],
          [
           "american folk revival"
          ],
          [
           "american metalcore"
          ],
          [
           "american modern classical"
          ],
          [
           "american oi"
          ],
          [
           "american orchestra"
          ],
          [
           "american post-rock"
          ],
          [
           "american primitive"
          ],
          [
           "american romanticism"
          ],
          [
           "american shoegaze"
          ],
          [
           "anadolu rock"
          ],
          [
           "anarcho-punk"
          ],
          [
           "anglican liturgy"
          ],
          [
           "animal singing"
          ],
          [
           "anime"
          ],
          [
           "anime latino"
          ],
          [
           "anime rock"
          ],
          [
           "anime score"
          ],
          [
           "ann arbor indie"
          ],
          [
           "anthem emo"
          ],
          [
           "anthem worship"
          ],
          [
           "anti-folk"
          ],
          [
           "antilliaanse folklore"
          ],
          [
           "antiviral pop"
          ],
          [
           "appalachian folk"
          ],
          [
           "arab folk"
          ],
          [
           "arab groove"
          ],
          [
           "arab pop"
          ],
          [
           "arabesk"
          ],
          [
           "arabic hip hop"
          ],
          [
           "arabic jazz"
          ],
          [
           "argentine ambient"
          ],
          [
           "argentine hardcore"
          ],
          [
           "argentine heavy metal"
          ],
          [
           "argentine hip hop"
          ],
          [
           "argentine indie"
          ],
          [
           "argentine metal"
          ],
          [
           "argentine punk"
          ],
          [
           "argentine reggae"
          ],
          [
           "argentine rock"
          ],
          [
           "argentine telepop"
          ],
          [
           "arizona punk"
          ],
          [
           "arkansas country"
          ],
          [
           "arkansas hip hop"
          ],
          [
           "arkansas indie"
          ],
          [
           "armenian folk"
          ],
          [
           "art pop"
          ],
          [
           "art punk"
          ],
          [
           "art rock"
          ],
          [
           "art song"
          ],
          [
           "asbury park indie"
          ],
          [
           "asheville indie"
          ],
          [
           "asian american hip hop"
          ],
          [
           "asmr"
          ],
          [
           "athens indie"
          ],
          [
           "atl hip hop"
          ],
          [
           "atl trap"
          ],
          [
           "atlanta indie"
          ],
          [
           "atlanta metal"
          ],
          [
           "atlanta punk"
          ],
          [
           "atmosphere"
          ],
          [
           "atmospheric black metal"
          ],
          [
           "atmospheric dnb"
          ],
          [
           "atmospheric post-metal"
          ],
          [
           "atmospheric post-rock"
          ],
          [
           "atmospheric sludge"
          ],
          [
           "auckland indie"
          ],
          [
           "audiophile vocal"
          ],
          [
           "aussietronica"
          ],
          [
           "austin americana"
          ],
          [
           "austin singer-songwriter"
          ],
          [
           "austindie"
          ],
          [
           "australian alternative pop"
          ],
          [
           "australian alternative rock"
          ],
          [
           "australian ambient"
          ],
          [
           "australian children's music"
          ],
          [
           "australian choir"
          ],
          [
           "australian classical"
          ],
          [
           "australian classical piano"
          ],
          [
           "australian country"
          ],
          [
           "australian dance"
          ],
          [
           "australian electropop"
          ],
          [
           "australian garage punk"
          ],
          [
           "australian hip hop"
          ],
          [
           "australian house"
          ],
          [
           "australian indie"
          ],
          [
           "australian indie folk"
          ],
          [
           "australian indie rock"
          ],
          [
           "australian indigenous"
          ],
          [
           "australian metal"
          ],
          [
           "australian metalcore"
          ],
          [
           "australian pop"
          ],
          [
           "australian post-hardcore"
          ],
          [
           "australian post-punk"
          ],
          [
           "australian psych"
          ],
          [
           "australian r&b"
          ],
          [
           "australian reggae fusion"
          ],
          [
           "australian rock"
          ],
          [
           "australian singer-songwriter"
          ],
          [
           "australian ska"
          ],
          [
           "australian talent show"
          ],
          [
           "australian trap"
          ],
          [
           "australian underground hip hop"
          ],
          [
           "austrian choir"
          ],
          [
           "austrian classical piano"
          ],
          [
           "austrian orchestra"
          ],
          [
           "austrian pop"
          ],
          [
           "austro-german modernism"
          ],
          [
           "austropop"
          ],
          [
           "autoharp"
          ],
          [
           "autonomous black metal"
          ],
          [
           "avant-garde"
          ],
          [
           "avant-garde jazz"
          ],
          [
           "avant-garde metal"
          ],
          [
           "axe"
          ],
          [
           "azeri traditional"
          ],
          [
           "azonto"
          ],
          [
           "azontobeats"
          ],
          [
           "bachata"
          ],
          [
           "bachata dominicana"
          ],
          [
           "background music"
          ],
          [
           "background piano"
          ],
          [
           "baglama"
          ],
          [
           "bahai"
          ],
          [
           "bahamian folk"
          ],
          [
           "bahamian pop"
          ],
          [
           "baiao"
          ],
          [
           "bajki"
          ],
          [
           "bakersfield sound"
          ],
          [
           "balearic"
          ],
          [
           "balkan brass"
          ],
          [
           "balkan classical piano"
          ],
          [
           "ballet class"
          ],
          [
           "ballroom"
          ],
          [
           "baltic classical"
          ],
          [
           "baltimore hip hop"
          ],
          [
           "baltimore indie"
          ],
          [
           "banda"
          ],
          [
           "banda caliente"
          ],
          [
           "banda carnavalera"
          ],
          [
           "bandinhas"
          ],
          [
           "bandolim"
          ],
          [
           "bandoneon"
          ],
          [
           "bangla"
          ],
          [
           "banjo"
          ],
          [
           "bansuri"
          ],
          [
           "barbadian pop"
          ],
          [
           "barbershop"
          ],
          [
           "bard"
          ],
          [
           "barnmusik"
          ],
          [
           "barockinterpreten"
          ],
          [
           "baroque"
          ],
          [
           "baroque brass"
          ],
          [
           "baroque ensemble"
          ],
          [
           "baroque pop"
          ],
          [
           "baroque singing"
          ],
          [
           "baroque violin"
          ],
          [
           "baroque woodwind"
          ],
          [
           "bass house"
          ],
          [
           "bass music"
          ],
          [
           "bass trap"
          ],
          [
           "basshall"
          ],
          [
           "bassline"
          ],
          [
           "bath indie"
          ],
          [
           "baton rouge indie"
          ],
          [
           "baton rouge rap"
          ],
          [
           "battle rap"
          ],
          [
           "bay area hip hop"
          ],
          [
           "bay area indie"
          ],
          [
           "bboy"
          ],
          [
           "bc underground hip hop"
          ],
          [
           "beach music"
          ],
          [
           "beat italiano"
          ],
          [
           "beat poetry"
          ],
          [
           "beatboxing"
          ],
          [
           "beatlesque"
          ],
          [
           "bebop"
          ],
          [
           "bedroom pop"
          ],
          [
           "bedroom soul"
          ],
          [
           "belarusian indie"
          ],
          [
           "belarusian pop"
          ],
          [
           "belarusian rock"
          ],
          [
           "belgian classical piano"
          ],
          [
           "belgian contemporary classical"
          ],
          [
           "belgian dance"
          ],
          [
           "belgian edm"
          ],
          [
           "belgian hardcore"
          ],
          [
           "belgian indie"
          ],
          [
           "belgian indie rock"
          ],
          [
           "belgian jazz"
          ],
          [
           "belgian new wave"
          ],
          [
           "belgian pop"
          ],
          [
           "belgian rock"
          ],
          [
           "belgian singer-songwriter"
          ],
          [
           "belgian techno"
          ],
          [
           "belly dance"
          ],
          [
           "bengali folk"
          ],
          [
           "beninese pop"
          ],
          [
           "bergen indie"
          ],
          [
           "berlin minimal techno"
          ],
          [
           "berlin school"
          ],
          [
           "bhajan"
          ],
          [
           "bhangra"
          ],
          [
           "bible"
          ],
          [
           "big band"
          ],
          [
           "big beat"
          ],
          [
           "big room"
          ],
          [
           "binaural"
          ],
          [
           "birdsong"
          ],
          [
           "birmingham grime"
          ],
          [
           "birmingham hip hop"
          ],
          [
           "birmingham metal"
          ],
          [
           "bitpop"
          ],
          [
           "black 'n' roll"
          ],
          [
           "black comedy"
          ],
          [
           "black metal"
          ],
          [
           "black punk"
          ],
          [
           "black thrash"
          ],
          [
           "blackened crust"
          ],
          [
           "blackgaze"
          ],
          [
           "bleep techno"
          ],
          [
           "bluegrass"
          ],
          [
           "bluegrass fiddle"
          ],
          [
           "bluegrass gospel"
          ],
          [
           "blues"
          ],
          [
           "blues latinoamericano"
          ],
          [
           "blues mexicano"
          ],
          [
           "blues rock"
          ],
          [
           "bmore"
          ],
          [
           "bolero"
          ],
          [
           "bolero cubano"
          ],
          [
           "boogaloo"
          ],
          [
           "boogie"
          ],
          [
           "boogie-woogie"
          ],
          [
           "boom bap"
          ],
          [
           "boom bap brasileiro"
          ],
          [
           "bossa nova"
          ],
          [
           "bossa nova jazz"
          ],
          [
           "boston folk"
          ],
          [
           "boston hardcore"
          ],
          [
           "boston hip hop"
          ],
          [
           "boston indie"
          ],
          [
           "boston metal"
          ],
          [
           "boston punk"
          ],
          [
           "boston rock"
          ],
          [
           "bounce"
          ],
          [
           "bouncy house"
          ],
          [
           "bouzouki"
          ],
          [
           "bow pop"
          ],
          [
           "boy band"
          ],
          [
           "boy pop"
          ],
          [
           "boy soprano"
          ],
          [
           "brain waves"
          ],
          [
           "braindance"
          ],
          [
           "brass band"
          ],
          [
           "brass ensemble"
          ],
          [
           "brass quintet"
          ],
          [
           "brazilian boogie"
          ],
          [
           "brazilian classical"
          ],
          [
           "brazilian classical piano"
          ],
          [
           "brazilian contemporary classical"
          ],
          [
           "brazilian edm"
          ],
          [
           "brazilian groove metal"
          ],
          [
           "brazilian hip hop"
          ],
          [
           "brazilian indie"
          ],
          [
           "brazilian jazz"
          ],
          [
           "brazilian metal"
          ],
          [
           "brazilian modern jazz"
          ],
          [
           "brazilian percussion"
          ],
          [
           "brazilian punk"
          ],
          [
           "brazilian reggae"
          ],
          [
           "brazilian rock"
          ],
          [
           "brazilian ska"
          ],
          [
           "brazilian soul"
          ],
          [
           "brazilian thrash metal"
          ],
          [
           "breakbeat"
          ],
          [
           "breakcore"
          ],
          [
           "brega"
          ],
          [
           "breton folk"
          ],
          [
           "brighton indie"
          ],
          [
           "brill building pop"
          ],
          [
           "brisbane indie"
          ],
          [
           "bristol electronic"
          ],
          [
           "bristol indie"
          ],
          [
           "brit funk"
          ],
          [
           "british alternative rock"
          ],
          [
           "british black metal"
          ],
          [
           "british blues"
          ],
          [
           "british children's music"
          ],
          [
           "british choir"
          ],
          [
           "british classical piano"
          ],
          [
           "british comedy"
          ],
          [
           "british contemporary classical"
          ],
          [
           "british dance band"
          ],
          [
           "british death metal"
          ],
          [
           "british experimental"
          ],
          [
           "british folk"
          ],
          [
           "british grindcore"
          ],
          [
           "british indie rock"
          ],
          [
           "british industrial"
          ],
          [
           "british invasion"
          ],
          [
           "british jazz"
          ],
          [
           "british modern classical"
          ],
          [
           "british orchestra"
          ],
          [
           "british post-rock"
          ],
          [
           "british power metal"
          ],
          [
           "british singer-songwriter"
          ],
          [
           "british soul"
          ],
          [
           "british soundtrack"
          ],
          [
           "britpop"
          ],
          [
           "broadway"
          ],
          [
           "broken beat"
          ],
          [
           "bronx hip hop"
          ],
          [
           "brooklyn drill"
          ],
          [
           "brooklyn indie"
          ],
          [
           "brostep"
          ],
          [
           "brutal death metal"
          ],
          [
           "brutal deathcore"
          ],
          [
           "bubble trance"
          ],
          [
           "bubblegrunge"
          ],
          [
           "bubblegum dance"
          ],
          [
           "bubblegum pop"
          ],
          [
           "buffalo hip hop"
          ],
          [
           "buffalo ny indie"
          ],
          [
           "buffalo ny metal"
          ],
          [
           "bulgarian experimental"
          ],
          [
           "burmese traditional"
          ],
          [
           "bush ballad"
          ],
          [
           "c-pop"
          ],
          [
           "c86"
          ],
          [
           "cabaret"
          ],
          [
           "cajun"
          ],
          [
           "calgary indie"
          ],
          [
           "cali rap"
          ],
          [
           "calming instrumental"
          ],
          [
           "calypso"
          ],
          [
           "cambodian rock"
          ],
          [
           "cambridge choir"
          ],
          [
           "cambridgeshire indie"
          ],
          [
           "cameroonian pop"
          ],
          [
           "canadian americana"
          ],
          [
           "canadian blues"
          ],
          [
           "canadian ccm"
          ],
          [
           "canadian celtic"
          ],
          [
           "canadian children's music"
          ],
          [
           "canadian choir"
          ],
          [
           "canadian classical"
          ],
          [
           "canadian classical piano"
          ],
          [
           "canadian comedy"
          ],
          [
           "canadian contemporary country"
          ],
          [
           "canadian contemporary r&b"
          ],
          [
           "canadian country"
          ],
          [
           "canadian electronic"
          ],
          [
           "canadian electropop"
          ],
          [
           "canadian experimental"
          ],
          [
           "canadian folk"
          ],
          [
           "canadian hardcore"
          ],
          [
           "canadian hip hop"
          ],
          [
           "canadian house"
          ],
          [
           "canadian indie"
          ],
          [
           "canadian indie folk"
          ],
          [
           "canadian indigenous"
          ],
          [
           "canadian indigenous hip hop"
          ],
          [
           "canadian latin"
          ],
          [
           "canadian metal"
          ],
          [
           "canadian metalcore"
          ],
          [
           "canadian modern jazz"
          ],
          [
           "canadian pop"
          ],
          [
           "canadian pop punk"
          ],
          [
           "canadian post-hardcore"
          ],
          [
           "canadian post-rock"
          ],
          [
           "canadian psychedelic"
          ],
          [
           "canadian punk"
          ],
          [
           "canadian rock"
          ],
          [
           "canadian rockabilly"
          ],
          [
           "canadian singer-songwriter"
          ],
          [
           "canadian soundtrack"
          ],
          [
           "cancion melodica"
          ],
          [
           "candy pop"
          ],
          [
           "cantautor"
          ],
          [
           "cante flamenco"
          ],
          [
           "canterbury scene"
          ],
          [
           "canto popular uruguayo"
          ],
          [
           "cantopop"
          ],
          [
           "canzone d'autore"
          ],
          [
           "canzone genovese"
          ],
          [
           "canzone napoletana"
          ],
          [
           "cape town indie"
          ],
          [
           "cape verdean folk"
          ],
          [
           "capoeira"
          ],
          [
           "caracas indie"
          ],
          [
           "carnatic"
          ],
          [
           "carnatic instrumental"
          ],
          [
           "carnatic vocal"
          ],
          [
           "cartoon"
          ],
          [
           "cathedral choir"
          ],
          [
           "caucasian classical"
          ],
          [
           "caucasian classical piano"
          ],
          [
           "ccm"
          ],
          [
           "cedm"
          ],
          [
           "cello"
          ],
          [
           "celtic"
          ],
          [
           "celtic harp"
          ],
          [
           "celtic metal"
          ],
          [
           "celtic punk"
          ],
          [
           "celtic rock"
          ],
          [
           "cha-cha-cha"
          ],
          [
           "chakra"
          ],
          [
           "chamame"
          ],
          [
           "chamber choir"
          ],
          [
           "chamber ensemble"
          ],
          [
           "chamber folk"
          ],
          [
           "chamber orchestra"
          ],
          [
           "chamber pop"
          ],
          [
           "chamber psych"
          ],
          [
           "champeta"
          ],
          [
           "channel islands indie"
          ],
          [
           "channel pop"
          ],
          [
           "chanson"
          ],
          [
           "chanson paillarde"
          ],
          [
           "chaotic hardcore"
          ],
          [
           "charanga"
          ],
          [
           "charango"
          ],
          [
           "charlotte nc indie"
          ],
          [
           "charlottesville indie"
          ],
          [
           "chattanooga indie"
          ],
          [
           "chicago blues"
          ],
          [
           "chicago drill"
          ],
          [
           "chicago hardcore"
          ],
          [
           "chicago house"
          ],
          [
           "chicago indie"
          ],
          [
           "chicago pop punk"
          ],
          [
           "chicago punk"
          ],
          [
           "chicago rap"
          ],
          [
           "chicago soul"
          ],
          [
           "chicano punk"
          ],
          [
           "chicano rap"
          ],
          [
           "chicha"
          ],
          [
           "chihuahua indie"
          ],
          [
           "children's choir"
          ],
          [
           "children's folk"
          ],
          [
           "children's music"
          ],
          [
           "children's story"
          ],
          [
           "chilean hardcore"
          ],
          [
           "chilean indie"
          ],
          [
           "chilean rock"
          ],
          [
           "chilena"
          ],
          [
           "chill beats"
          ],
          [
           "chill guitar"
          ],
          [
           "chill lounge"
          ],
          [
           "chill out"
          ],
          [
           "chill pop"
          ],
          [
           "chill r&b"
          ],
          [
           "chillhop"
          ],
          [
           "chillstep"
          ],
          [
           "chillwave"
          ],
          [
           "chinese audiophile"
          ],
          [
           "chinese classical"
          ],
          [
           "chinese classical performance"
          ],
          [
           "chinese classical piano"
          ],
          [
           "chinese electropop"
          ],
          [
           "chinese hip hop"
          ],
          [
           "chinese idol pop"
          ],
          [
           "chinese indie"
          ],
          [
           "chinese indie rock"
          ],
          [
           "chinese instrumental"
          ],
          [
           "chinese jazz"
          ],
          [
           "chinese r&b"
          ],
          [
           "chinese soundtrack"
          ],
          [
           "chinese traditional"
          ],
          [
           "chiptune"
          ],
          [
           "chopped and screwed"
          ],
          [
           "choral"
          ],
          [
           "choro"
          ],
          [
           "christchurch indie"
          ],
          [
           "christelijk"
          ],
          [
           "christian a cappella"
          ],
          [
           "christian alternative rock"
          ],
          [
           "christian dance"
          ],
          [
           "christian hard rock"
          ],
          [
           "christian hardcore"
          ],
          [
           "christian hip hop"
          ],
          [
           "christian indie"
          ],
          [
           "christian metal"
          ],
          [
           "christian metalcore"
          ],
          [
           "christian music"
          ],
          [
           "christian pop"
          ],
          [
           "christian power metal"
          ],
          [
           "christian punk"
          ],
          [
           "christian relaxative"
          ],
          [
           "christian rock"
          ],
          [
           "christian trap"
          ],
          [
           "christian uplift"
          ],
          [
           "christmas instrumental"
          ],
          [
           "christmas product"
          ],
          [
           "chunchaca"
          ],
          [
           "chutney"
          ],
          [
           "cincinnati rap"
          ],
          [
           "cinematic post-rock"
          ],
          [
           "circuit"
          ],
          [
           "circus"
          ],
          [
           "classic afrobeat"
          ],
          [
           "classic arab pop"
          ],
          [
           "classic australian country"
          ],
          [
           "classic belgian pop"
          ],
          [
           "classic bhangra"
          ],
          [
           "classic bollywood"
          ],
          [
           "classic canadian rock"
          ],
          [
           "classic cantopop"
          ],
          [
           "classic colombian pop"
          ],
          [
           "classic country pop"
          ],
          [
           "classic czech pop"
          ],
          [
           "classic danish pop"
          ],
          [
           "classic dubstep"
          ],
          [
           "classic eurovision"
          ],
          [
           "classic finnish pop"
          ],
          [
           "classic french pop"
          ],
          [
           "classic garage rock"
          ],
          [
           "classic girl group"
          ],
          [
           "classic greek pop"
          ],
          [
           "classic hardstyle"
          ],
          [
           "classic icelandic pop"
          ],
          [
           "classic indo pop"
          ],
          [
           "classic iskelma"
          ],
          [
           "classic israeli pop"
          ],
          [
           "classic italian folk pop"
          ],
          [
           "classic italian pop"
          ],
          [
           "classic j-rock"
          ],
          [
           "classic japanese jazz"
          ],
          [
           "classic korean pop"
          ],
          [
           "classic latvian pop"
          ],
          [
           "classic mandopop"
          ],
          [
           "classic norwegian pop"
          ],
          [
           "classic opm"
          ],
          [
           "classic pakistani pop"
          ],
          [
           "classic persian pop"
          ],
          [
           "classic peruvian pop"
          ],
          [
           "classic polish pop"
          ],
          [
           "classic praise"
          ],
          [
           "classic psychedelic rock"
          ],
          [
           "classic punjabi pop"
          ],
          [
           "classic rock"
          ],
          [
           "classic russian pop"
          ],
          [
           "classic russian rock"
          ],
          [
           "classic schlager"
          ],
          [
           "classic soul"
          ],
          [
           "classic soundtrack"
          ],
          [
           "classic swedish pop"
          ],
          [
           "classic thai pop"
          ],
          [
           "classic tunisian pop"
          ],
          [
           "classic turkish pop"
          ],
          [
           "classic uk pop"
          ],
          [
           "classic venezuelan pop"
          ],
          [
           "classical"
          ],
          [
           "classical accordion"
          ],
          [
           "classical baritone"
          ],
          [
           "classical bass"
          ],
          [
           "classical cello"
          ],
          [
           "classical clarinet"
          ],
          [
           "classical contralto"
          ],
          [
           "classical countertenor"
          ],
          [
           "classical era"
          ],
          [
           "classical flute"
          ],
          [
           "classical guitar"
          ],
          [
           "classical harp"
          ],
          [
           "classical horn"
          ],
          [
           "classical mandolin"
          ],
          [
           "classical mezzo-soprano"
          ],
          [
           "classical oboe"
          ],
          [
           "classical organ"
          ],
          [
           "classical performance"
          ],
          [
           "classical piano"
          ],
          [
           "classical piano duo"
          ],
          [
           "classical piano trio"
          ],
          [
           "classical saxophone"
          ],
          [
           "classical soprano"
          ],
          [
           "classical tenor"
          ],
          [
           "classical trumpet"
          ],
          [
           "classify"
          ],
          [
           "clawhammer banjo"
          ],
          [
           "clean comedy"
          ],
          [
           "cleveland metal"
          ],
          [
           "coco"
          ],
          [
           "collage pop"
          ],
          [
           "college a cappella"
          ],
          [
           "colombian hip hop"
          ],
          [
           "colombian pop"
          ],
          [
           "colombian rock"
          ],
          [
           "columbus ohio indie"
          ],
          [
           "comedy"
          ],
          [
           "comedy rap"
          ],
          [
           "comedy rock"
          ],
          [
           "comic"
          ],
          [
           "comic metal"
          ],
          [
           "commons"
          ],
          [
           "complextro"
          ],
          [
           "compositional ambient"
          ],
          [
           "concepcion indie"
          ],
          [
           "concert band"
          ],
          [
           "connecticut hardcore"
          ],
          [
           "connecticut indie"
          ],
          [
           "conscious hip hop"
          ],
          [
           "contemporary choir"
          ],
          [
           "contemporary classical"
          ],
          [
           "contemporary classical piano"
          ],
          [
           "contemporary country"
          ],
          [
           "contemporary folk"
          ],
          [
           "contemporary gospel"
          ],
          [
           "contemporary jazz"
          ],
          [
           "contemporary post-bop"
          ],
          [
           "contemporary vocal jazz"
          ],
          [
           "contrabass"
          ],
          [
           "cool jazz"
          ],
          [
           "copla"
          ],
          [
           "cornish folk"
          ],
          [
           "cornwall indie"
          ],
          [
           "corrido"
          ],
          [
           "corridos cristianos"
          ],
          [
           "corridos tumbados"
          ],
          [
           "corrosion"
          ],
          [
           "cosmic american"
          ],
          [
           "cosmic post-rock"
          ],
          [
           "country"
          ],
          [
           "country blues"
          ],
          [
           "country boogie"
          ],
          [
           "country dawn"
          ],
          [
           "country gospel"
          ],
          [
           "country pop"
          ],
          [
           "country rap"
          ],
          [
           "country road"
          ],
          [
           "country rock"
          ],
          [
           "coverchill"
          ],
          [
           "cowboy western"
          ],
          [
           "cowpunk"
          ],
          [
           "crack rock steady"
          ],
          [
           "croatian folk"
          ],
          [
           "croatian pop"
          ],
          [
           "croatian rock"
          ],
          [
           "crossover thrash"
          ],
          [
           "crunk"
          ],
          [
           "crust punk"
          ],
          [
           "cuarteto"
          ],
          [
           "cuatro venezolano"
          ],
          [
           "cuban alternative"
          ],
          [
           "cuban rumba"
          ],
          [
           "cubaton"
          ],
          [
           "cumbia"
          ],
          [
           "cumbia andina mexicana"
          ],
          [
           "cumbia chilena"
          ],
          [
           "cumbia colombiana regia"
          ],
          [
           "cumbia ecuatoriana"
          ],
          [
           "cumbia funk"
          ],
          [
           "cumbia lagunera"
          ],
          [
           "cumbia paraguaya"
          ],
          [
           "cumbia peruana"
          ],
          [
           "cumbia pop"
          ],
          [
           "cumbia ranchera"
          ],
          [
           "cumbia salvadorena"
          ],
          [
           "cumbia santafesina"
          ],
          [
           "cumbia sonidera"
          ],
          [
           "cumbia villera"
          ],
          [
           "cyberpunk"
          ],
          [
           "cymraeg"
          ],
          [
           "cypriot pop"
          ],
          [
           "czech classical"
          ],
          [
           "czech classical piano"
          ],
          [
           "czech contemporary classical"
          ],
          [
           "d-beat"
          ],
          [
           "dabke"
          ],
          [
           "dakke dak"
          ],
          [
           "dallas indie"
          ],
          [
           "dance pop"
          ],
          [
           "dance rock"
          ],
          [
           "dance-punk"
          ],
          [
           "dancehall"
          ],
          [
           "dangdut"
          ],
          [
           "danish alternative rock"
          ],
          [
           "danish classical"
          ],
          [
           "danish electronic"
          ],
          [
           "danish electropop"
          ],
          [
           "danish hip hop"
          ],
          [
           "danish jazz"
          ],
          [
           "danish metal"
          ],
          [
           "danish pop"
          ],
          [
           "danish pop rock"
          ],
          [
           "danish post-punk"
          ],
          [
           "danish punk"
          ],
          [
           "danish rock"
          ],
          [
           "danish singer-songwriter"
          ],
          [
           "dansband"
          ],
          [
           "danseband"
          ],
          [
           "dansktop"
          ],
          [
           "danspunk"
          ],
          [
           "dark cabaret"
          ],
          [
           "dark clubbing"
          ],
          [
           "dark disco"
          ],
          [
           "dark hardcore"
          ],
          [
           "dark jazz"
          ],
          [
           "dark minimal techno"
          ],
          [
           "dark post-punk"
          ],
          [
           "dark techno"
          ],
          [
           "dark trap"
          ],
          [
           "dark wave"
          ],
          [
           "darksynth"
          ],
          [
           "dayton indie"
          ],
          [
           "dc hardcore"
          ],
          [
           "dc indie"
          ],
          [
           "death 'n' roll"
          ],
          [
           "death metal"
          ],
          [
           "deathcore"
          ],
          [
           "deathgrass"
          ],
          [
           "deathgrind"
          ],
          [
           "deathrash"
          ],
          [
           "deathrock"
          ],
          [
           "deathstep"
          ],
          [
           "deep acoustic pop"
          ],
          [
           "deep adult standards"
          ],
          [
           "deep big room"
          ],
          [
           "deep ccm"
          ],
          [
           "deep christian rock"
          ],
          [
           "deep classic garage rock"
          ],
          [
           "deep comedy"
          ],
          [
           "deep contemporary country"
          ],
          [
           "deep dance pop"
          ],
          [
           "deep delta blues"
          ],
          [
           "deep disco"
          ],
          [
           "deep disco house"
          ],
          [
           "deep dnb"
          ],
          [
           "deep east coast hip hop"
          ],
          [
           "deep euro house"
          ],
          [
           "deep flow"
          ],
          [
           "deep free jazz"
          ],
          [
           "deep freestyle"
          ],
          [
           "deep full on"
          ],
          [
           "deep funk"
          ],
          [
           "deep g funk"
          ],
          [
           "deep gothic post-punk"
          ],
          [
           "deep groove house"
          ],
          [
           "deep house"
          ],
          [
           "deep idm"
          ],
          [
           "deep indian pop"
          ],
          [
           "deep indie singer-songwriter"
          ],
          [
           "deep latin alternative"
          ],
          [
           "deep latin christian"
          ],
          [
           "deep melodic metalcore"
          ],
          [
           "deep minimal techno"
          ],
          [
           "deep motown"
          ],
          [
           "deep new americana"
          ],
          [
           "deep new wave"
          ],
          [
           "deep norteno"
          ],
          [
           "deep northern soul"
          ],
          [
           "deep pop edm"
          ],
          [
           "deep progressive house"
          ],
          [
           "deep psychobilly"
          ],
          [
           "deep punk rock"
          ],
          [
           "deep r&b"
          ],
          [
           "deep ragga"
          ],
          [
           "deep regional mexican"
          ],
          [
           "deep smooth jazz"
          ],
          [
           "deep soft rock"
          ],
          [
           "deep soul house"
          ],
          [
           "deep soundtrack"
          ],
          [
           "deep southern soul"
          ],
          [
           "deep southern trap"
          ],
          [
           "deep space rock"
          ],
          [
           "deep talent show"
          ],
          [
           "deep tech house"
          ],
          [
           "deep techno"
          ],
          [
           "deep tropical house"
          ],
          [
           "deep underground hip hop"
          ],
          [
           "deep uplifting trance"
          ],
          [
           "delta blues"
          ],
          [
           "dembow"
          ],
          [
           "denpa-kei"
          ],
          [
           "denton tx indie"
          ],
          [
           "denver indie"
          ],
          [
           "depressive black metal"
          ],
          [
           "derby indie"
          ],
          [
           "desert blues"
          ],
          [
           "desi hip hop"
          ],
          [
           "desi pop"
          ],
          [
           "destroy techno"
          ],
          [
           "detroit hip hop"
          ],
          [
           "detroit house"
          ],
          [
           "detroit techno"
          ],
          [
           "detroit trap"
          ],
          [
           "detske pisnicky"
          ],
          [
           "detskie pesni"
          ],
          [
           "devon indie"
          ],
          [
           "dfw rap"
          ],
          [
           "dhrupad"
          ],
          [
           "digital hardcore"
          ],
          [
           "dinner jazz"
          ],
          [
           "dirty south rap"
          ],
          [
           "dirty texas rap"
          ],
          [
           "disco"
          ],
          [
           "disco house"
          ],
          [
           "disney"
          ],
          [
           "diva house"
          ],
          [
           "dixieland"
          ],
          [
           "diy emo"
          ],
          [
           "djent"
          ],
          [
           "dmv rap"
          ],
          [
           "dominican pop"
          ],
          [
           "dong-yo"
          ],
          [
           "doo-wop"
          ],
          [
           "doom metal"
          ],
          [
           "double drumming"
          ],
          [
           "downtempo"
          ],
          [
           "drama"
          ],
          [
           "dream pop"
          ],
          [
           "dream trance"
          ],
          [
           "dreamgaze"
          ],
          [
           "dreamo"
          ],
          [
           "drift"
          ],
          [
           "drill"
          ],
          [
           "drill and bass"
          ],
          [
           "drone"
          ],
          [
           "drone folk"
          ],
          [
           "drone metal"
          ],
          [
           "drum and bass"
          ],
          [
           "dub"
          ],
          [
           "dub metal"
          ],
          [
           "dub poetry"
          ],
          [
           "dub techno"
          ],
          [
           "dubstep"
          ],
          [
           "dubsteppe"
          ],
          [
           "duduk"
          ],
          [
           "duluth indie"
          ],
          [
           "dunedin indie"
          ],
          [
           "dunedin sound"
          ],
          [
           "dungeon synth"
          ],
          [
           "duranguense"
          ],
          [
           "dusseldorf electronic"
          ],
          [
           "dutch blues"
          ],
          [
           "dutch cabaret"
          ],
          [
           "dutch classical piano"
          ],
          [
           "dutch death metal"
          ],
          [
           "dutch dnb"
          ],
          [
           "dutch edm"
          ],
          [
           "dutch folk"
          ],
          [
           "dutch hip hop"
          ],
          [
           "dutch house"
          ],
          [
           "dutch indie"
          ],
          [
           "dutch jazz"
          ],
          [
           "dutch metal"
          ],
          [
           "dutch pop"
          ],
          [
           "dutch prog"
          ],
          [
           "dutch rap pop"
          ],
          [
           "dutch rock"
          ],
          [
           "dutch trance"
          ],
          [
           "e6fi"
          ],
          [
           "early american folk"
          ],
          [
           "early avant garde"
          ],
          [
           "early modern classical"
          ],
          [
           "early music"
          ],
          [
           "early music choir"
          ],
          [
           "early music ensemble"
          ],
          [
           "early reggae"
          ],
          [
           "early romantic era"
          ],
          [
           "early synthpop"
          ],
          [
           "early us punk"
          ],
          [
           "east coast hip hop"
          ],
          [
           "east coast reggae"
          ],
          [
           "eastern bloc groove"
          ],
          [
           "easy listening"
          ],
          [
           "easycore"
          ],
          [
           "eau claire indie"
          ],
          [
           "ebm"
          ],
          [
           "ecm-style jazz"
          ],
          [
           "ectofolk"
          ],
          [
           "ecuadorian pop"
          ],
          [
           "edm"
          ],
          [
           "edmonton indie"
          ],
          [
           "egyptian pop"
          ],
          [
           "egyptian traditional"
          ],
          [
           "el paso indie"
          ],
          [
           "electra"
          ],
          [
           "electric bass"
          ],
          [
           "electric blues"
          ],
          [
           "electro"
          ],
          [
           "electro house"
          ],
          [
           "electro jazz"
          ],
          [
           "electro latino"
          ],
          [
           "electro swing"
          ],
          [
           "electro-industrial"
          ],
          [
           "electro-pop francais"
          ],
          [
           "electroclash"
          ],
          [
           "electrofox"
          ],
          [
           "electronic djent"
          ],
          [
           "electronic rock"
          ],
          [
           "electronic trap"
          ],
          [
           "electronica"
          ],
          [
           "electronica argentina"
          ],
          [
           "electropop"
          ],
          [
           "electropowerpop"
          ],
          [
           "emo"
          ],
          [
           "emo mexicano"
          ],
          [
           "emo punk"
          ],
          [
           "emo rap"
          ],
          [
           "emocore"
          ],
          [
           "english baroque"
          ],
          [
           "english indie rock"
          ],
          [
           "english renaissance"
          ],
          [
           "enka"
          ],
          [
           "entehno"
          ],
          [
           "environmental"
          ],
          [
           "epic doom"
          ],
          [
           "epicore"
          ],
          [
           "erhu"
          ],
          [
           "escape room"
          ],
          [
           "esperanto"
          ],
          [
           "essex indie"
          ],
          [
           "estonian hip hop"
          ],
          [
           "estonian pop"
          ],
          [
           "ethereal wave"
          ],
          [
           "etherpop"
          ],
          [
           "ethio-jazz"
          ],
          [
           "ethiopian pop"
          ],
          [
           "ethnomusicology"
          ],
          [
           "ethnotronica"
          ],
          [
           "eugene indie"
          ],
          [
           "euphoric hardstyle"
          ],
          [
           "eurobeat"
          ],
          [
           "eurodance"
          ],
          [
           "europop"
          ],
          [
           "euroska"
          ],
          [
           "eurovision"
          ],
          [
           "exotica"
          ],
          [
           "experimental"
          ],
          [
           "experimental ambient"
          ],
          [
           "experimental big band"
          ],
          [
           "experimental dub"
          ],
          [
           "experimental folk"
          ],
          [
           "experimental guitar"
          ],
          [
           "experimental hip hop"
          ],
          [
           "experimental house"
          ],
          [
           "experimental indie"
          ],
          [
           "experimental jazz"
          ],
          [
           "experimental pop"
          ],
          [
           "experimental rock"
          ],
          [
           "experimental vocal"
          ],
          [
           "fado"
          ],
          [
           "family gospel"
          ],
          [
           "faroese pop"
          ],
          [
           "fast melodic punk"
          ],
          [
           "fidget house"
          ],
          [
           "filmi"
          ],
          [
           "filter house"
          ],
          [
           "filthstep"
          ],
          [
           "final fantasy"
          ],
          [
           "fingerstyle"
          ],
          [
           "finnish alternative rock"
          ],
          [
           "finnish classical"
          ],
          [
           "finnish contemporary classical"
          ],
          [
           "finnish death metal"
          ],
          [
           "finnish edm"
          ],
          [
           "finnish hard rock"
          ],
          [
           "finnish heavy metal"
          ],
          [
           "finnish metal"
          ],
          [
           "finnish power metal"
          ],
          [
           "finnish soul"
          ],
          [
           "flamenco"
          ],
          [
           "flamenco guitar"
          ],
          [
           "flick hop"
          ],
          [
           "flint hip hop"
          ],
          [
           "float house"
          ],
          [
           "florida death metal"
          ],
          [
           "florida rap"
          ],
          [
           "fluxwork"
          ],
          [
           "fo jing"
          ],
          [
           "focus"
          ],
          [
           "focus beats"
          ],
          [
           "focus trance"
          ],
          [
           "folclor afrocolombiano"
          ],
          [
           "folclor colombiano"
          ],
          [
           "folclore extremeno"
          ],
          [
           "folclore jujeno"
          ],
          [
           "folclore navarra"
          ],
          [
           "folclore salteno"
          ],
          [
           "folclore tucumano"
          ],
          [
           "folk"
          ],
          [
           "folk metal"
          ],
          [
           "folk punk"
          ],
          [
           "folk rock"
          ],
          [
           "folk rock italiano"
          ],
          [
           "folk-pop"
          ],
          [
           "folklore argentino"
          ],
          [
           "folklore boliviano"
          ],
          [
           "folklore chileno"
          ],
          [
           "folklore ecuatoriano"
          ],
          [
           "folklore peruano"
          ],
          [
           "folklore venezolano"
          ],
          [
           "folklore veracruzano"
          ],
          [
           "folkmusik"
          ],
          [
           "folktronica"
          ],
          [
           "footwork"
          ],
          [
           "forro"
          ],
          [
           "forro tradicional"
          ],
          [
           "fort worth indie"
          ],
          [
           "fourth world"
          ],
          [
           "francoton"
          ],
          [
           "freak folk"
          ],
          [
           "freakbeat"
          ],
          [
           "free folk"
          ],
          [
           "free improvisation"
          ],
          [
           "free jazz"
          ],
          [
           "freestyle"
          ],
          [
           "french baroque"
          ],
          [
           "french classical piano"
          ],
          [
           "french contemporary classical"
          ],
          [
           "french death metal"
          ],
          [
           "french dnb"
          ],
          [
           "french hip hop"
          ],
          [
           "french indie folk"
          ],
          [
           "french indie pop"
          ],
          [
           "french indietronica"
          ],
          [
           "french jazz"
          ],
          [
           "french metal"
          ],
          [
           "french movie tunes"
          ],
          [
           "french opera"
          ],
          [
           "french orchestra"
          ],
          [
           "french pop"
          ],
          [
           "french post-punk"
          ],
          [
           "french psychedelic"
          ],
          [
           "french reggae"
          ],
          [
           "french rock"
          ],
          [
           "french romanticism"
          ],
          [
           "french shoegaze"
          ],
          [
           "french soundtrack"
          ],
          [
           "french synthpop"
          ],
          [
           "french techno"
          ],
          [
           "frenchcore"
          ],
          [
           "full on"
          ],
          [
           "funana"
          ],
          [
           "funeral doom"
          ],
          [
           "funk"
          ],
          [
           "funk 150 bpm"
          ],
          [
           "funk carioca"
          ],
          [
           "funk das antigas"
          ],
          [
           "funk metal"
          ],
          [
           "funk mexicano"
          ],
          [
           "funk ostentacao"
          ],
          [
           "funk paulista"
          ],
          [
           "funk pop"
          ],
          [
           "funk rock"
          ],
          [
           "funky breaks"
          ],
          [
           "funky tech house"
          ],
          [
           "future bass"
          ],
          [
           "future funk"
          ],
          [
           "future garage"
          ],
          [
           "future house"
          ],
          [
           "future rock"
          ],
          [
           "futurepop"
          ],
          [
           "g funk"
          ],
          [
           "gabba"
          ],
          [
           "gabonese pop"
          ],
          [
           "gaian doom"
          ],
          [
           "gainesville indie"
          ],
          [
           "gaita zuliana"
          ],
          [
           "galante era"
          ],
          [
           "gamelan"
          ],
          [
           "gaming dubstep"
          ],
          [
           "gaming edm"
          ],
          [
           "gangster rap"
          ],
          [
           "garage house"
          ],
          [
           "garage pop"
          ],
          [
           "garage psych"
          ],
          [
           "garage punk"
          ],
          [
           "garage punk blues"
          ],
          [
           "garage rock"
          ],
          [
           "garage rock revival"
          ],
          [
           "gauze pop"
          ],
          [
           "gbvfi"
          ],
          [
           "geek folk"
          ],
          [
           "geek rock"
          ],
          [
           "georgian folk"
          ],
          [
           "german alternative rock"
          ],
          [
           "german baroque"
          ],
          [
           "german choir"
          ],
          [
           "german classical piano"
          ],
          [
           "german country"
          ],
          [
           "german dance"
          ],
          [
           "german hard rock"
          ],
          [
           "german heavy metal"
          ],
          [
           "german house"
          ],
          [
           "german indie"
          ],
          [
           "german jazz"
          ],
          [
           "german literature"
          ],
          [
           "german metal"
          ],
          [
           "german oi"
          ],
          [
           "german opera"
          ],
          [
           "german orchestra"
          ],
          [
           "german pop"
          ],
          [
           "german pop rock"
          ],
          [
           "german post-hardcore"
          ],
          [
           "german power metal"
          ],
          [
           "german punk"
          ],
          [
           "german renaissance"
          ],
          [
           "german rock"
          ],
          [
           "german romanticism"
          ],
          [
           "german show tunes"
          ],
          [
           "german soundtrack"
          ],
          [
           "german techno"
          ],
          [
           "german thrash metal"
          ],
          [
           "german trance"
          ],
          [
           "german underground rap"
          ],
          [
           "ghanaian hip hop"
          ],
          [
           "ghanaian traditional"
          ],
          [
           "ghazal"
          ],
          [
           "ghent indie"
          ],
          [
           "girl group"
          ],
          [
           "glam metal"
          ],
          [
           "glam punk"
          ],
          [
           "glam rock"
          ],
          [
           "glee club"
          ],
          [
           "glitch"
          ],
          [
           "glitch hop"
          ],
          [
           "glitch pop"
          ],
          [
           "glitchcore"
          ],
          [
           "go-go"
          ],
          [
           "goregrind"
          ],
          [
           "gospel"
          ],
          [
           "gospel antigas"
          ],
          [
           "gospel blues"
          ],
          [
           "gospel italiano"
          ],
          [
           "gospel r&b"
          ],
          [
           "gospel rap"
          ],
          [
           "gospel singers"
          ],
          [
           "gospel soul"
          ],
          [
           "gothabilly"
          ],
          [
           "gothenburg indie"
          ],
          [
           "gothenburg metal"
          ],
          [
           "gothic alternative"
          ],
          [
           "gothic americana"
          ],
          [
           "gothic black metal"
          ],
          [
           "gothic metal"
          ],
          [
           "gothic post-punk"
          ],
          [
           "gothic rock"
          ],
          [
           "gothic symphonic metal"
          ],
          [
           "gqom"
          ],
          [
           "grand rapids indie"
          ],
          [
           "grave wave"
          ],
          [
           "greek clarinet"
          ],
          [
           "greek contemporary classical"
          ],
          [
           "greek folk"
          ],
          [
           "greek guitar"
          ],
          [
           "greek house"
          ],
          [
           "greek jazz"
          ],
          [
           "greek pop"
          ],
          [
           "greek swing"
          ],
          [
           "gregorian chant"
          ],
          [
           "grime"
          ],
          [
           "grindcore"
          ],
          [
           "griot"
          ],
          [
           "groove metal"
          ],
          [
           "groove room"
          ],
          [
           "grunge"
          ],
          [
           "grunge pop"
          ],
          [
           "grupera"
          ],
          [
           "gruperas inmortales"
          ],
          [
           "guadalajara indie"
          ],
          [
           "guam indie"
          ],
          [
           "guaracha"
          ],
          [
           "guatemalan pop"
          ],
          [
           "guidance"
          ],
          [
           "guinean pop"
          ],
          [
           "guitarra argentina"
          ],
          [
           "guitarra clasica"
          ],
          [
           "guitarra portuguesa"
          ],
          [
           "gujarati garba"
          ],
          [
           "gujarati pop"
          ],
          [
           "guzheng"
          ],
          [
           "gymcore"
          ],
          [
           "gypsy"
          ],
          [
           "gypsy jazz"
          ],
          [
           "gypsy punk"
          ],
          [
           "haitian traditional"
          ],
          [
           "halifax indie"
          ],
          [
           "halloween"
          ],
          [
           "hamburg electronic"
          ],
          [
           "hammered dulcimer"
          ],
          [
           "hammond organ"
          ],
          [
           "hands up"
          ],
          [
           "hangpan"
          ],
          [
           "happy hardcore"
          ],
          [
           "hard alternative"
          ],
          [
           "hard bop"
          ],
          [
           "hard minimal techno"
          ],
          [
           "hard rock"
          ],
          [
           "hard rock brasileiro"
          ],
          [
           "hardcore"
          ],
          [
           "hardcore hip hop"
          ],
          [
           "hardcore punk"
          ],
          [
           "hardcore techno"
          ],
          [
           "hardstyle"
          ],
          [
           "harlem hip hop"
          ],
          [
           "harlem renaissance"
          ],
          [
           "harmonica blues"
          ],
          [
           "harmonica jazz"
          ],
          [
           "harp"
          ],
          [
           "harpsichord"
          ],
          [
           "haryanvi pop"
          ],
          [
           "hauntology"
          ],
          [
           "hawaiian"
          ],
          [
           "hawaiian hip hop"
          ],
          [
           "hawaiian indie"
          ],
          [
           "healing"
          ],
          [
           "heartland rock"
          ],
          [
           "hi-nrg"
          ],
          [
           "highlife"
          ],
          [
           "hindi hip hop"
          ],
          [
           "hindi indie"
          ],
          [
           "hindustani classical"
          ],
          [
           "hindustani instrumental"
          ],
          [
           "hindustani vocal"
          ],
          [
           "hip hop"
          ],
          [
           "hip hop cubano"
          ],
          [
           "hip house"
          ],
          [
           "hip pop"
          ],
          [
           "hiplife"
          ],
          [
           "histoire pour enfants"
          ],
          [
           "historic classical performance"
          ],
          [
           "historic orchestral performance"
          ],
          [
           "historic piano performance"
          ],
          [
           "historic string quartet"
          ],
          [
           "historical keyboard"
          ],
          [
           "historically informed performance"
          ],
          [
           "hoerspiel"
          ],
          [
           "hokkien pop"
          ],
          [
           "hollywood"
          ],
          [
           "hong kong hip hop"
          ],
          [
           "hong kong indie"
          ],
          [
           "hong kong rock"
          ],
          [
           "honky tonk"
          ],
          [
           "honky-tonk piano"
          ],
          [
           "hopebeat"
          ],
          [
           "horror punk"
          ],
          [
           "horror synth"
          ],
          [
           "horrorcore"
          ],
          [
           "house"
          ],
          [
           "houston rap"
          ],
          [
           "huapango"
          ],
          [
           "huayno"
          ],
          [
           "hula"
          ],
          [
           "humppa"
          ],
          [
           "hungarian choir"
          ],
          [
           "hungarian classical performance"
          ],
          [
           "hungarian classical piano"
          ],
          [
           "hungarian contemporary classical"
          ],
          [
           "hungarian edm"
          ],
          [
           "hungarian folk"
          ],
          [
           "hungarian pop"
          ],
          [
           "hungarian rock"
          ],
          [
           "hungarian techno"
          ],
          [
           "hurdy-gurdy"
          ],
          [
           "hyperpop"
          ],
          [
           "hyphy"
          ],
          [
           "icelandic classical"
          ],
          [
           "icelandic electronic"
          ],
          [
           "icelandic experimental"
          ],
          [
           "icelandic folk"
          ],
          [
           "icelandic indie"
          ],
          [
           "icelandic jazz"
          ],
          [
           "icelandic pop"
          ],
          [
           "icelandic rock"
          ],
          [
           "idaho indie"
          ],
          [
           "idol"
          ],
          [
           "idol rock"
          ],
          [
           "ilahiler"
          ],
          [
           "ilocano pop"
          ],
          [
           "impressionism"
          ],
          [
           "indian classical"
          ],
          [
           "indian edm"
          ],
          [
           "indian folk"
          ],
          [
           "indian fusion"
          ],
          [
           "indian indie"
          ],
          [
           "indian instrumental"
          ],
          [
           "indian jazz"
          ],
          [
           "indiana hip hop"
          ],
          [
           "indie anthem-folk"
          ],
          [
           "indie cafe pop"
          ],
          [
           "indie deutschrap"
          ],
          [
           "indie dream pop"
          ],
          [
           "indie electronica"
          ],
          [
           "indie electropop"
          ],
          [
           "indie folk"
          ],
          [
           "indie game soundtrack"
          ],
          [
           "indie garage rock"
          ],
          [
           "indie hip hop"
          ],
          [
           "indie jazz"
          ],
          [
           "indie pop"
          ],
          [
           "indie pop rap"
          ],
          [
           "indie poptimism"
          ],
          [
           "indie psych-pop"
          ],
          [
           "indie punk"
          ],
          [
           "indie quebecois"
          ],
          [
           "indie r&b"
          ],
          [
           "indie rock"
          ],
          [
           "indie rock mexicano"
          ],
          [
           "indie rockism"
          ],
          [
           "indie shoegaze"
          ],
          [
           "indie singer-songwriter"
          ],
          [
           "indie soul"
          ],
          [
           "indie surf"
          ],
          [
           "indie triste"
          ],
          [
           "indiecoustica"
          ],
          [
           "indietronica"
          ],
          [
           "indonesian hip hop"
          ],
          [
           "indonesian indie"
          ],
          [
           "indonesian pop"
          ],
          [
           "indonesian r&b"
          ],
          [
           "indonesian worship"
          ],
          [
           "industrial"
          ],
          [
           "industrial hardcore"
          ],
          [
           "industrial hip hop"
          ],
          [
           "industrial metal"
          ],
          [
           "industrial rock"
          ],
          [
           "indy indie"
          ],
          [
           "instrumental acoustic guitar"
          ],
          [
           "instrumental bluegrass"
          ],
          [
           "instrumental funk"
          ],
          [
           "instrumental grime"
          ],
          [
           "instrumental math rock"
          ],
          [
           "instrumental post-rock"
          ],
          [
           "instrumental progressive metal"
          ],
          [
           "instrumental rock"
          ],
          [
           "instrumental soul"
          ],
          [
           "instrumental stoner rock"
          ],
          [
           "instrumental surf"
          ],
          [
           "intelligent dance music"
          ],
          [
           "iowa hip hop"
          ],
          [
           "irish accordion"
          ],
          [
           "irish ballad"
          ],
          [
           "irish banjo"
          ],
          [
           "irish classical"
          ],
          [
           "irish country"
          ],
          [
           "irish dance"
          ],
          [
           "irish fiddle"
          ],
          [
           "irish folk"
          ],
          [
           "irish hip hop"
          ],
          [
           "irish indie"
          ],
          [
           "irish metal"
          ],
          [
           "irish pop"
          ],
          [
           "irish pub song"
          ],
          [
           "irish rock"
          ],
          [
           "irish singer-songwriter"
          ],
          [
           "iskelma"
          ],
          [
           "islamic recitation"
          ],
          [
           "isle of wight indie"
          ],
          [
           "israeli classical"
          ],
          [
           "israeli classical piano"
          ],
          [
           "israeli folk"
          ],
          [
           "israeli hip hop"
          ],
          [
           "israeli mediterranean"
          ],
          [
           "israeli pop"
          ],
          [
           "israeli rock"
          ],
          [
           "israeli singer-songwriter"
          ],
          [
           "israeli techno"
          ],
          [
           "italian adult pop"
          ],
          [
           "italian baritone"
          ],
          [
           "italian baroque"
          ],
          [
           "italian baroque ensemble"
          ],
          [
           "italian bass"
          ],
          [
           "italian blues"
          ],
          [
           "italian classical guitar"
          ],
          [
           "italian classical piano"
          ],
          [
           "italian contemporary jazz"
          ],
          [
           "italian disco"
          ],
          [
           "italian gothic"
          ],
          [
           "italian gothic metal"
          ],
          [
           "italian indie pop"
          ],
          [
           "italian jazz"
          ],
          [
           "italian library music"
          ],
          [
           "italian mandolin"
          ],
          [
           "italian metal"
          ],
          [
           "italian mezzo-soprano"
          ],
          [
           "italian modern prog"
          ],
          [
           "italian opera"
          ],
          [
           "italian orchestra"
          ],
          [
           "italian pop rock"
          ],
          [
           "italian power metal"
          ],
          [
           "italian progressive metal"
          ],
          [
           "italian progressive rock"
          ],
          [
           "italian renaissance"
          ],
          [
           "italian romanticism"
          ],
          [
           "italian soprano"
          ],
          [
           "italian soundtrack"
          ],
          [
           "italian techno"
          ],
          [
           "italian tenor"
          ],
          [
           "italian violin"
          ],
          [
           "italo dance"
          ],
          [
           "italo house"
          ],
          [
           "j-acoustic"
          ],
          [
           "j-ambient"
          ],
          [
           "j-dance"
          ],
          [
           "j-division"
          ],
          [
           "j-idol"
          ],
          [
           "j-metal"
          ],
          [
           "j-pixie"
          ],
          [
           "j-pop"
          ],
          [
           "j-pop girl group"
          ],
          [
           "j-poprock"
          ],
          [
           "j-punk"
          ],
          [
           "j-reggae"
          ],
          [
           "j-rock"
          ],
          [
           "jacksonville indie"
          ],
          [
           "jam band"
          ],
          [
           "jamgrass"
          ],
          [
           "jamtronica"
          ],
          [
           "jangle pop"
          ],
          [
           "japanese alternative rock"
          ],
          [
           "japanese chillhop"
          ],
          [
           "japanese city pop"
          ],
          [
           "japanese classical"
          ],
          [
           "japanese classical performance"
          ],
          [
           "japanese classical piano"
          ],
          [
           "japanese concert band"
          ],
          [
           "japanese dream pop"
          ],
          [
           "japanese electronic"
          ],
          [
           "japanese electropop"
          ],
          [
           "japanese emo"
          ],
          [
           "japanese experimental"
          ],
          [
           "japanese folk"
          ],
          [
           "japanese garage rock"
          ],
          [
           "japanese girl punk"
          ],
          [
           "japanese heavy metal"
          ],
          [
           "japanese idm"
          ],
          [
           "japanese indie folk"
          ],
          [
           "japanese indie rock"
          ],
          [
           "japanese instrumental"
          ],
          [
           "japanese jazz"
          ],
          [
           "japanese jazz fusion"
          ],
          [
           "japanese jazztronica"
          ],
          [
           "japanese metalcore"
          ],
          [
           "japanese new wave"
          ],
          [
           "japanese piano"
          ],
          [
           "japanese pop punk"
          ],
          [
           "japanese post-hardcore"
          ],
          [
           "japanese power metal"
          ],
          [
           "japanese prog"
          ],
          [
           "japanese psychedelic"
          ],
          [
           "japanese punk rock"
          ],
          [
           "japanese r&b"
          ],
          [
           "japanese rockabilly"
          ],
          [
           "japanese singer-songwriter"
          ],
          [
           "japanese soundtrack"
          ],
          [
           "japanese traditional"
          ],
          [
           "japanese vgm"
          ],
          [
           "japanese vocal jazz"
          ],
          [
           "jawaiian"
          ],
          [
           "jazz"
          ],
          [
           "jazz accordion"
          ],
          [
           "jazz blues"
          ],
          [
           "jazz boom bap"
          ],
          [
           "jazz brass"
          ],
          [
           "jazz chileno"
          ],
          [
           "jazz clarinet"
          ],
          [
           "jazz colombiano"
          ],
          [
           "jazz cubano"
          ],
          [
           "jazz double bass"
          ],
          [
           "jazz drums"
          ],
          [
           "jazz flute"
          ],
          [
           "jazz funk"
          ],
          [
           "jazz fusion"
          ],
          [
           "jazz guitar"
          ],
          [
           "jazz harp"
          ],
          [
           "jazz metal"
          ],
          [
           "jazz mexicano"
          ],
          [
           "jazz orchestra"
          ],
          [
           "jazz organ"
          ],
          [
           "jazz piano"
          ],
          [
           "jazz pop"
          ],
          [
           "jazz quartet"
          ],
          [
           "jazz rap"
          ],
          [
           "jazz rock"
          ],
          [
           "jazz saxophone"
          ],
          [
           "jazz trio"
          ],
          [
           "jazz trombone"
          ],
          [
           "jazz trumpet"
          ],
          [
           "jazz tuba"
          ],
          [
           "jazz venezolano"
          ],
          [
           "jazz vibraphone"
          ],
          [
           "jazz violin"
          ],
          [
           "jazztronica"
          ],
          [
           "jewish cantorial"
          ],
          [
           "jewish hip hop"
          ],
          [
           "jig and reel"
          ],
          [
           "jordanian pop"
          ],
          [
           "joropo"
          ],
          [
           "jovem guarda"
          ],
          [
           "jug band"
          ],
          [
           "juju"
          ],
          [
           "jump blues"
          ],
          [
           "jump up"
          ],
          [
           "k-indie"
          ],
          [
           "k-pop"
          ],
          [
           "k-pop boy group"
          ],
          [
           "k-pop girl group"
          ],
          [
           "k-rap"
          ],
          [
           "kabarett"
          ],
          [
           "kabyle"
          ],
          [
           "kaneka"
          ],
          [
           "kannada bhava geethe"
          ],
          [
           "kansas city hip hop"
          ],
          [
           "kashmiri pop"
          ],
          [
           "kawaii future bass"
          ],
          [
           "kawaii metal"
          ],
          [
           "kayokyoku"
          ],
          [
           "kc indie"
          ],
          [
           "kent indie"
          ],
          [
           "kentucky hip hop"
          ],
          [
           "kentucky indie"
          ],
          [
           "kentucky metal"
          ],
          [
           "kentucky mountain folk"
          ],
          [
           "kentucky punk"
          ],
          [
           "kentucky roots"
          ],
          [
           "keroncong"
          ],
          [
           "khaleeji iraqi"
          ],
          [
           "khmer"
          ],
          [
           "kids dance party"
          ],
          [
           "kindie rock"
          ],
          [
           "kingston on indie"
          ],
          [
           "kirtan"
          ],
          [
           "kiwi rock"
          ],
          [
           "kizomba antigas"
          ],
          [
           "kleine hoerspiel"
          ],
          [
           "klezmer"
          ],
          [
           "knoxville indie"
          ],
          [
           "kodomo no ongaku"
          ],
          [
           "kolsche karneval"
          ],
          [
           "komedi"
          ],
          [
           "kompa"
          ],
          [
           "kora"
          ],
          [
           "korean classical performance"
          ],
          [
           "korean classical piano"
          ],
          [
           "korean indie rock"
          ],
          [
           "korean mask singer"
          ],
          [
           "korean pop"
          ],
          [
           "korean r&b"
          ],
          [
           "korean trap"
          ],
          [
           "koto"
          ],
          [
           "krautrock"
          ],
          [
           "kundiman"
          ],
          [
           "la indie"
          ],
          [
           "la pop"
          ],
          [
           "laboratorio"
          ],
          [
           "lafayette indie"
          ],
          [
           "laiko"
          ],
          [
           "lancashire indie"
          ],
          [
           "lancaster pa indie"
          ],
          [
           "late romantic era"
          ],
          [
           "latin"
          ],
          [
           "latin afrobeat"
          ],
          [
           "latin alternative"
          ],
          [
           "latin american classical piano"
          ],
          [
           "latin arena pop"
          ],
          [
           "latin christian"
          ],
          [
           "latin classical"
          ],
          [
           "latin funk"
          ],
          [
           "latin hip hop"
          ],
          [
           "latin house"
          ],
          [
           "latin jazz"
          ],
          [
           "latin metal"
          ],
          [
           "latin pop"
          ],
          [
           "latin rock"
          ],
          [
           "latin ska"
          ],
          [
           "latin soundtrack"
          ],
          [
           "latin talent show"
          ],
          [
           "latin tech house"
          ],
          [
           "latin viral pop"
          ],
          [
           "latin worship"
          ],
          [
           "latincore"
          ],
          [
           "latino comedy"
          ],
          [
           "latintronica"
          ],
          [
           "latinx alternative"
          ],
          [
           "latvian pop"
          ],
          [
           "lds"
          ],
          [
           "lds youth"
          ],
          [
           "lebanese pop"
          ],
          [
           "leicester indie"
          ],
          [
           "lexington ky indie"
          ],
          [
           "lgbtq+ hip hop"
          ],
          [
           "library music"
          ],
          [
           "liedermacher"
          ],
          [
           "light music"
          ],
          [
           "lilith"
          ],
          [
           "liquid funk"
          ],
          [
           "lithuanian electronic"
          ],
          [
           "liverpool indie"
          ],
          [
           "livetronica"
          ],
          [
           "lldm"
          ],
          [
           "lo star"
          ],
          [
           "lo-fi"
          ],
          [
           "lo-fi beats"
          ],
          [
           "lo-fi brasileiro"
          ],
          [
           "lo-fi chill"
          ],
          [
           "lo-fi cover"
          ],
          [
           "lo-fi emo"
          ],
          [
           "lo-fi house"
          ],
          [
           "lo-fi indie"
          ],
          [
           "lo-fi vgm"
          ],
          [
           "london rap"
          ],
          [
           "louisiana blues"
          ],
          [
           "louisiana metal"
          ],
          [
           "louisville indie"
          ],
          [
           "louisville underground"
          ],
          [
           "lounge"
          ],
          [
           "louvor"
          ],
          [
           "lovers rock"
          ],
          [
           "lullaby"
          ],
          [
           "lund indie"
          ],
          [
           "lute"
          ],
          [
           "macedonian folk"
          ],
          [
           "madchester"
          ],
          [
           "madrigal"
          ],
          [
           "magyar alternative"
          ],
          [
           "maine hip hop"
          ],
          [
           "maine indie"
          ],
          [
           "mainland chinese pop"
          ],
          [
           "makossa"
          ],
          [
           "malaysian mandopop"
          ],
          [
           "malaysian pop"
          ],
          [
           "malian blues"
          ],
          [
           "mallet"
          ],
          [
           "malmo indie"
          ],
          [
           "mambo"
          ],
          [
           "manchester hip hop"
          ],
          [
           "manchester indie"
          ],
          [
           "mande pop"
          ],
          [
           "mandolin"
          ],
          [
           "mandopop"
          ],
          [
           "manguebeat"
          ],
          [
           "manila sound"
          ],
          [
           "manitoba indie"
          ],
          [
           "mantra"
          ],
          [
           "marathi pop"
          ],
          [
           "marathi traditional"
          ],
          [
           "marching band"
          ],
          [
           "mariachi"
          ],
          [
           "mariachi cristiano"
          ],
          [
           "marimba orquesta"
          ],
          [
           "martial industrial"
          ],
          [
           "mashup"
          ],
          [
           "math rock"
          ],
          [
           "mathcore"
          ],
          [
           "mbalax"
          ],
          [
           "medieval"
          ],
          [
           "medieval folk"
          ],
          [
           "medieval rock"
          ],
          [
           "meditation"
          ],
          [
           "melancholia"
          ],
          [
           "melbourne bounce"
          ],
          [
           "melbourne bounce international"
          ],
          [
           "melbourne indie"
          ],
          [
           "mellow gold"
          ],
          [
           "melodic death metal"
          ],
          [
           "melodic deathcore"
          ],
          [
           "melodic dubstep"
          ],
          [
           "melodic groove metal"
          ],
          [
           "melodic hard rock"
          ],
          [
           "melodic hardcore"
          ],
          [
           "melodic metal"
          ],
          [
           "melodic metalcore"
          ],
          [
           "melodic power metal"
          ],
          [
           "melodic rap"
          ],
          [
           "melodic thrash"
          ],
          [
           "meme rap"
          ],
          [
           "memphis americana"
          ],
          [
           "memphis blues"
          ],
          [
           "memphis hip hop"
          ],
          [
           "memphis indie"
          ],
          [
           "memphis soul"
          ],
          [
           "mento"
          ],
          [
           "merengue"
          ],
          [
           "merengue tipico"
          ],
          [
           "merseybeat"
          ],
          [
           "messianic praise"
          ],
          [
           "metal"
          ],
          [
           "metal guitar"
          ],
          [
           "metal mineiro"
          ],
          [
           "metalcore"
          ],
          [
           "metropopolis"
          ],
          [
           "mexican classic rock"
          ],
          [
           "mexican classical"
          ],
          [
           "mexican hip hop"
          ],
          [
           "mexican indie"
          ],
          [
           "mexican pop"
          ],
          [
           "mexican pop punk"
          ],
          [
           "mexican rock"
          ],
          [
           "mexican rock-and-roll"
          ],
          [
           "mexican son"
          ],
          [
           "mexican traditional"
          ],
          [
           "miami bass"
          ],
          [
           "miami hip hop"
          ],
          [
           "miami indie"
          ],
          [
           "miami metal"
          ],
          [
           "michigan indie"
          ],
          [
           "microhouse"
          ],
          [
           "microtonal"
          ],
          [
           "middle earth"
          ],
          [
           "middle east hip hop"
          ],
          [
           "middle eastern traditional"
          ],
          [
           "midwest americana"
          ],
          [
           "midwest emo"
          ],
          [
           "military cadence"
          ],
          [
           "military rap"
          ],
          [
           "milwaukee indie"
          ],
          [
           "mindfulness"
          ],
          [
           "minecraft"
          ],
          [
           "minimal melodic techno"
          ],
          [
           "minimal tech house"
          ],
          [
           "minimal techno"
          ],
          [
           "minimal wave"
          ],
          [
           "minimalism"
          ],
          [
           "minneapolis indie"
          ],
          [
           "minneapolis metal"
          ],
          [
           "minneapolis punk"
          ],
          [
           "minneapolis sound"
          ],
          [
           "minnesota hip hop"
          ],
          [
           "mississippi hip hop"
          ],
          [
           "mississippi indie"
          ],
          [
           "mizrahi"
          ],
          [
           "mod revival"
          ],
          [
           "modern alternative pop"
          ],
          [
           "modern alternative rock"
          ],
          [
           "modern big band"
          ],
          [
           "modern blues"
          ],
          [
           "modern blues rock"
          ],
          [
           "modern bollywood"
          ],
          [
           "modern country rock"
          ],
          [
           "modern dream pop"
          ],
          [
           "modern folk rock"
          ],
          [
           "modern funk"
          ],
          [
           "modern hard rock"
          ],
          [
           "modern indie pop"
          ],
          [
           "modern jazz piano"
          ],
          [
           "modern jazz trio"
          ],
          [
           "modern old-time"
          ],
          [
           "modern performance"
          ],
          [
           "modern power pop"
          ],
          [
           "modern psychedelic folk"
          ],
          [
           "modern reggae"
          ],
          [
           "modern rock"
          ],
          [
           "modern salsa"
          ],
          [
           "modern ska punk"
          ],
          [
           "modern southern rock"
          ],
          [
           "modern string quartet"
          ],
          [
           "modern swing"
          ],
          [
           "modern uplift"
          ],
          [
           "modular synth"
          ],
          [
           "moldovan pop"
          ],
          [
           "mollywood"
          ],
          [
           "mongolian hip hop"
          ],
          [
           "mongolian pop"
          ],
          [
           "monterrey indie"
          ],
          [
           "montreal indie"
          ],
          [
           "moog"
          ],
          [
           "moombahton"
          ],
          [
           "morna"
          ],
          [
           "motivation"
          ],
          [
           "motown"
          ],
          [
           "mountain dulcimer"
          ],
          [
           "movie tunes"
          ],
          [
           "mpb"
          ],
          [
           "music box"
          ],
          [
           "music hall"
          ],
          [
           "musica afroperuana"
          ],
          [
           "musica alagoana"
          ],
          [
           "musica andina"
          ],
          [
           "musica andina colombiana"
          ],
          [
           "musica antigua"
          ],
          [
           "musica aragonesa"
          ],
          [
           "musica ayacuchana"
          ],
          [
           "musica canaria"
          ],
          [
           "musica costarricense"
          ],
          [
           "musica costena"
          ],
          [
           "musica cristiana guatemalteca"
          ],
          [
           "musica de fondo"
          ],
          [
           "musica gaucha tradicionalista"
          ],
          [
           "musica hondurena"
          ],
          [
           "musica infantil"
          ],
          [
           "musica jibara"
          ],
          [
           "musica juiz-forana"
          ],
          [
           "musica llanera"
          ],
          [
           "musica nicaraguense"
          ],
          [
           "musica para criancas"
          ],
          [
           "musica para ninos"
          ],
          [
           "musica paraibana"
          ],
          [
           "musica piemonteisa"
          ],
          [
           "musica popular colombiana"
          ],
          [
           "musica popular mineira"
          ],
          [
           "musica popular paraense"
          ],
          [
           "musica potosina"
          ],
          [
           "musica prehispanica"
          ],
          [
           "musica sarda"
          ],
          [
           "musica tradicional cubana"
          ],
          [
           "musica tropical guatemalteca"
          ],
          [
           "musical advocacy"
          ],
          [
           "musikkorps"
          ],
          [
           "musique concrete"
          ],
          [
           "musique peule"
          ],
          [
           "musique pour enfant quebecois"
          ],
          [
           "musique pour enfants"
          ],
          [
           "musique touareg"
          ],
          [
           "muzica populara"
          ],
          [
           "muzika l'yeladim"
          ],
          [
           "naija worship"
          ],
          [
           "nantes indie"
          ],
          [
           "narodna muzika"
          ],
          [
           "nashville americana"
          ],
          [
           "nashville hip hop"
          ],
          [
           "nashville indie"
          ],
          [
           "nashville singer-songwriter"
          ],
          [
           "nashville sound"
          ],
          [
           "native american"
          ],
          [
           "native american contemporary"
          ],
          [
           "native american flute"
          ],
          [
           "native american hip hop"
          ],
          [
           "native american spiritual"
          ],
          [
           "navajo"
          ],
          [
           "nederlandse hardstyle"
          ],
          [
           "nederpop"
          ],
          [
           "neo classical metal"
          ],
          [
           "neo kyma"
          ],
          [
           "neo mellow"
          ],
          [
           "neo r&b"
          ],
          [
           "neo soul"
          ],
          [
           "neo-classical"
          ],
          [
           "neo-kraut"
          ],
          [
           "neo-pagan"
          ],
          [
           "neo-progressive"
          ],
          [
           "neo-psychedelic"
          ],
          [
           "neo-rockabilly"
          ],
          [
           "neo-singer-songwriter"
          ],
          [
           "neo-synthpop"
          ],
          [
           "neo-trad metal"
          ],
          [
           "neo-traditional bluegrass"
          ],
          [
           "neo-traditional country"
          ],
          [
           "neoclassical darkwave"
          ],
          [
           "neoclassicism"
          ],
          [
           "neofolk"
          ],
          [
           "neon pop punk"
          ],
          [
           "neotango"
          ],
          [
           "nepali indie"
          ],
          [
           "nepali pop"
          ],
          [
           "nerdcore"
          ],
          [
           "neue deutsche harte"
          ],
          [
           "neue deutsche todeskunst"
          ],
          [
           "neue deutsche welle"
          ],
          [
           "neurofunk"
          ],
          [
           "new age"
          ],
          [
           "new age piano"
          ],
          [
           "new americana"
          ],
          [
           "new beat"
          ],
          [
           "new comedy"
          ],
          [
           "new england americana"
          ],
          [
           "new england emo"
          ],
          [
           "new french touch"
          ],
          [
           "new isolationism"
          ],
          [
           "new jack swing"
          ],
          [
           "new jersey hardcore"
          ],
          [
           "new jersey indie"
          ],
          [
           "new jersey punk"
          ],
          [
           "new jersey rap"
          ],
          [
           "new mexico music"
          ],
          [
           "new orleans blues"
          ],
          [
           "new orleans funk"
          ],
          [
           "new orleans indie"
          ],
          [
           "new orleans jazz"
          ],
          [
           "new orleans rap"
          ],
          [
           "new rave"
          ],
          [
           "new romantic"
          ],
          [
           "new tribe"
          ],
          [
           "new wave"
          ],
          [
           "new wave of thrash metal"
          ],
          [
           "new wave pop"
          ],
          [
           "new weird america"
          ],
          [
           "new york death metal"
          ],
          [
           "new york drill"
          ],
          [
           "new zealand classical"
          ],
          [
           "newcastle indie"
          ],
          [
           "newcastle nsw indie"
          ],
          [
           "nigerian hip hop"
          ],
          [
           "nigerian pop"
          ],
          [
           "nightcore"
          ],
          [
           "nightrun"
          ],
          [
           "ninja"
          ],
          [
           "nintendocore"
          ],
          [
           "nisiotika"
          ],
          [
           "nl folk"
          ],
          [
           "no wave"
          ],
          [
           "noise pop"
          ],
          [
           "noise punk"
          ],
          [
           "noise rock"
          ],
          [
           "nordic classical piano"
          ],
          [
           "nordic contemporary classical"
          ],
          [
           "nordic folk"
          ],
          [
           "nordic house"
          ],
          [
           "nordic orchestra"
          ],
          [
           "nordic post-rock"
          ],
          [
           "nordic soundtrack"
          ],
          [
           "norman ok indie"
          ],
          [
           "norsk lovsang"
          ],
          [
           "norteno"
          ],
          [
           "norteno-sax"
          ],
          [
           "north carolina emo"
          ],
          [
           "north carolina hip hop"
          ],
          [
           "north carolina indie"
          ],
          [
           "north carolina metal"
          ],
          [
           "north carolina roots"
          ],
          [
           "north east england indie"
          ],
          [
           "northern irish indie"
          ],
          [
           "northern irish punk"
          ],
          [
           "northern soul"
          ],
          [
           "norwegian black metal"
          ],
          [
           "norwegian choir"
          ],
          [
           "norwegian classical"
          ],
          [
           "norwegian contemporary jazz"
          ],
          [
           "norwegian death metal"
          ],
          [
           "norwegian experimental"
          ],
          [
           "norwegian hip hop"
          ],
          [
           "norwegian indie"
          ],
          [
           "norwegian jazz"
          ],
          [
           "norwegian metal"
          ],
          [
           "norwegian pop"
          ],
          [
           "norwegian pop rap"
          ],
          [
           "norwegian punk rock"
          ],
          [
           "norwegian rock"
          ],
          [
           "norwegian singer-songwriter"
          ],
          [
           "norwegian space disco"
          ],
          [
           "nottingham indie"
          ],
          [
           "nouvelle chanson francaise"
          ],
          [
           "nova canco"
          ],
          [
           "nova mpb"
          ],
          [
           "nova musica pernambucana"
          ],
          [
           "novelty"
          ],
          [
           "nu age"
          ],
          [
           "nu disco"
          ],
          [
           "nu gaze"
          ],
          [
           "nu jazz"
          ],
          [
           "nu metal"
          ],
          [
           "nu skool breaks"
          ],
          [
           "nu-cumbia"
          ],
          [
           "nu-metalcore"
          ],
          [
           "nubian traditional"
          ],
          [
           "nueva cancion"
          ],
          [
           "nueva ola chilena"
          ],
          [
           "nueva ola peruana"
          ],
          [
           "nuevo flamenco"
          ],
          [
           "nuevo folklore mexicano"
          ],
          [
           "nuevo regional mexicano"
          ],
          [
           "nuevo tango"
          ],
          [
           "nursery"
          ],
          [
           "nwobhm"
          ],
          [
           "nwothm"
          ],
          [
           "ny roots"
          ],
          [
           "nyc pop"
          ],
          [
           "nyc rap"
          ],
          [
           "nyhc"
          ],
          [
           "nz christian"
          ],
          [
           "nz folk"
          ],
          [
           "nz hardcore"
          ],
          [
           "nz indie"
          ],
          [
           "nz pop"
          ],
          [
           "nz punk"
          ],
          [
           "nz reggae"
          ],
          [
           "nz singer-songwriter"
          ],
          [
           "oakland hip hop"
          ],
          [
           "oakland indie"
          ],
          [
           "oc indie"
          ],
          [
           "oc rap"
          ],
          [
           "oceania soundtrack"
          ],
          [
           "ohio hip hop"
          ],
          [
           "ohio indie"
          ],
          [
           "oi"
          ],
          [
           "ok indie"
          ],
          [
           "okc indie"
          ],
          [
           "okinawan pop"
          ],
          [
           "oklahoma country"
          ],
          [
           "old school dancehall"
          ],
          [
           "old school hip hop"
          ],
          [
           "old school rap francais"
          ],
          [
           "old school thrash"
          ],
          [
           "old school uk hip hop"
          ],
          [
           "old west"
          ],
          [
           "old-time"
          ],
          [
           "old-time fiddle"
          ],
          [
           "olympia wa indie"
          ],
          [
           "omaha indie"
          ],
          [
           "one-person band"
          ],
          [
           "ontario indie"
          ],
          [
           "opera"
          ],
          [
           "opera chorus"
          ],
          [
           "opera metal"
          ],
          [
           "operatic pop"
          ],
          [
           "operetta"
          ],
          [
           "opm"
          ],
          [
           "oratory"
          ],
          [
           "orchestra"
          ],
          [
           "orchestral performance"
          ],
          [
           "orebro indie"
          ],
          [
           "organic ambient"
          ],
          [
           "organic electronic"
          ],
          [
           "organic house"
          ],
          [
           "orgcore"
          ],
          [
           "oriental classical"
          ],
          [
           "orkney and shetland folk"
          ],
          [
           "orlando indie"
          ],
          [
           "orquesta tipica"
          ],
          [
           "orthodox chant"
          ],
          [
           "oshare kei"
          ],
          [
           "otacore"
          ],
          [
           "oth indie"
          ],
          [
           "ottawa indie"
          ],
          [
           "ottawa rap"
          ],
          [
           "oud"
          ],
          [
           "outer hip hop"
          ],
          [
           "outlaw country"
          ],
          [
           "outsider"
          ],
          [
           "outsider house"
          ],
          [
           "oxford choir"
          ],
          [
           "oxford indie"
          ],
          [
           "p funk"
          ],
          [
           "pagan black metal"
          ],
          [
           "pagode"
          ],
          [
           "pagode baiano"
          ],
          [
           "paisley underground"
          ],
          [
           "pakistani folk"
          ],
          [
           "pakistani hip hop"
          ],
          [
           "pakistani pop"
          ],
          [
           "palestinian pop"
          ],
          [
           "palm desert scene"
          ],
          [
           "panamanian pop"
          ],
          [
           "panamanian rock"
          ],
          [
           "panpipe"
          ],
          [
           "papuri"
          ],
          [
           "parody"
          ],
          [
           "partido alto"
          ],
          [
           "partyschlager"
          ],
          [
           "pei indie"
          ],
          [
           "permanent wave"
          ],
          [
           "perreo"
          ],
          [
           "persian pop"
          ],
          [
           "persian traditional"
          ],
          [
           "perth indie"
          ],
          [
           "peruvian hip hop"
          ],
          [
           "peruvian rock"
          ],
          [
           "pet calming"
          ],
          [
           "philly indie"
          ],
          [
           "philly rap"
          ],
          [
           "philly soul"
          ],
          [
           "phoenix indie"
          ],
          [
           "phonk"
          ],
          [
           "pianissimo"
          ],
          [
           "piano blues"
          ],
          [
           "piano cover"
          ],
          [
           "piano mpb"
          ],
          [
           "piano rock"
          ],
          [
           "pibroch"
          ],
          [
           "piedmont blues"
          ],
          [
           "pinoy hip hop"
          ],
          [
           "pinoy indie"
          ],
          [
           "pinoy pop punk"
          ],
          [
           "pinoy praise"
          ],
          [
           "pinoy r&b"
          ],
          [
           "pinoy reggae"
          ],
          [
           "pinoy rock"
          ],
          [
           "pinoy traditional"
          ],
          [
           "pinoy trap"
          ],
          [
           "pirate"
          ],
          [
           "pittsburgh indie"
          ],
          [
           "pittsburgh rap"
          ],
          [
           "pittsburgh rock"
          ],
          [
           "pixie"
          ],
          [
           "plunderphonics"
          ],
          [
           "poetry"
          ],
          [
           "polca paraguaya"
          ],
          [
           "polish blues"
          ],
          [
           "polish classical"
          ],
          [
           "polish classical piano"
          ],
          [
           "polish contemporary classical"
          ],
          [
           "polish jazz"
          ],
          [
           "polish modern jazz"
          ],
          [
           "polish pop"
          ],
          [
           "polish post-rock"
          ],
          [
           "polish reggae"
          ],
          [
           "polish rock"
          ],
          [
           "political hip hop"
          ],
          [
           "polka"
          ],
          [
           "polynesian hip hop"
          ],
          [
           "polynesian pop"
          ],
          [
           "polyphony"
          ],
          [
           "pony"
          ],
          [
           "pop"
          ],
          [
           "pop argentino"
          ],
          [
           "pop chileno"
          ],
          [
           "pop dance"
          ],
          [
           "pop edm"
          ],
          [
           "pop electronico"
          ],
          [
           "pop emo"
          ],
          [
           "pop flamenco"
          ],
          [
           "pop folk"
          ],
          [
           "pop house"
          ],
          [
           "pop nacional"
          ],
          [
           "pop nacional antigas"
          ],
          [
           "pop peruano"
          ],
          [
           "pop punk"
          ],
          [
           "pop quebecois"
          ],
          [
           "pop r&b"
          ],
          [
           "pop rap"
          ],
          [
           "pop reggaeton"
          ],
          [
           "pop rock"
          ],
          [
           "pop rock brasileiro"
          ],
          [
           "pop romantico"
          ],
          [
           "pop soul"
          ],
          [
           "pop venezolano"
          ],
          [
           "pop violin"
          ],
          [
           "popgaze"
          ],
          [
           "popping"
          ],
          [
           "pops orchestra"
          ],
          [
           "popwave"
          ],
          [
           "pornogrind"
          ],
          [
           "porro"
          ],
          [
           "portland hip hop"
          ],
          [
           "portland indie"
          ],
          [
           "portland metal"
          ],
          [
           "portland punk"
          ],
          [
           "portuguese early music"
          ],
          [
           "post-disco"
          ],
          [
           "post-disco soul"
          ],
          [
           "post-doom metal"
          ],
          [
           "post-grunge"
          ],
          [
           "post-hardcore"
          ],
          [
           "post-metal"
          ],
          [
           "post-minimalism"
          ],
          [
           "post-post-hardcore"
          ],
          [
           "post-punk"
          ],
          [
           "post-punk argentina"
          ],
          [
           "post-rock"
          ],
          [
           "post-romantic era"
          ],
          [
           "post-screamo"
          ],
          [
           "post-teen pop"
          ],
          [
           "power metal"
          ],
          [
           "power pop"
          ],
          [
           "power thrash"
          ],
          [
           "power-pop punk"
          ],
          [
           "praise"
          ],
          [
           "prepared piano"
          ],
          [
           "preschool children's music"
          ],
          [
           "prog quebec"
          ],
          [
           "progressive alternative"
          ],
          [
           "progressive bluegrass"
          ],
          [
           "progressive deathcore"
          ],
          [
           "progressive electro house"
          ],
          [
           "progressive groove metal"
          ],
          [
           "progressive house"
          ],
          [
           "progressive jazz fusion"
          ],
          [
           "progressive metal"
          ],
          [
           "progressive metalcore"
          ],
          [
           "progressive post-hardcore"
          ],
          [
           "progressive power metal"
          ],
          [
           "progressive psytrance"
          ],
          [
           "progressive rock"
          ],
          [
           "progressive sludge"
          ],
          [
           "progressive trance"
          ],
          [
           "progressive trance house"
          ],
          [
           "progressive uplifting trance"
          ],
          [
           "proto-rap"
          ],
          [
           "proto-techno"
          ],
          [
           "protopunk"
          ],
          [
           "psalmen"
          ],
          [
           "psicodelia brasileira"
          ],
          [
           "psybass"
          ],
          [
           "psychedelic blues-rock"
          ],
          [
           "psychedelic doom"
          ],
          [
           "psychedelic folk"
          ],
          [
           "psychedelic folk rock"
          ],
          [
           "psychedelic hip hop"
          ],
          [
           "psychedelic pop"
          ],
          [
           "psychedelic punk"
          ],
          [
           "psychedelic rock"
          ],
          [
           "psychedelic soul"
          ],
          [
           "psychedelic trance"
          ],
          [
           "psychill"
          ],
          [
           "psychobilly"
          ],
          [
           "pub rock"
          ],
          [
           "puerto rican folk"
          ],
          [
           "puerto rican pop"
          ],
          [
           "puerto rican rock"
          ],
          [
           "punjabi folk"
          ],
          [
           "punjabi hip hop"
          ],
          [
           "punjabi pop"
          ],
          [
           "punk"
          ],
          [
           "punk 'n' roll"
          ],
          [
           "punk blues"
          ],
          [
           "punk rock italiano"
          ],
          [
           "punk rock mexicano"
          ],
          [
           "punta"
          ],
          [
           "purple sound"
          ],
          [
           "qawwali"
          ],
          [
           "quartetto d'archi"
          ],
          [
           "quatuor a cordes"
          ],
          [
           "quebec death metal"
          ],
          [
           "quebec indie"
          ],
          [
           "queens hip hop"
          ],
          [
           "queer country"
          ],
          [
           "queercore"
          ],
          [
           "quiet storm"
          ],
          [
           "quran"
          ],
          [
           "r&b"
          ],
          [
           "r&b en espanol"
          ],
          [
           "rabindra sangeet"
          ],
          [
           "radio symphony"
          ],
          [
           "ragtime"
          ],
          [
           "rai"
          ],
          [
           "ranchera"
          ],
          [
           "rap"
          ],
          [
           "rap chileno"
          ],
          [
           "rap conciencia"
          ],
          [
           "rap conscient"
          ],
          [
           "rap cristiano"
          ],
          [
           "rap dominicano"
          ],
          [
           "rap kreyol"
          ],
          [
           "rap latina"
          ],
          [
           "rap metal"
          ],
          [
           "rap nacional antigo"
          ],
          [
           "rap napoletano"
          ],
          [
           "rap rock"
          ],
          [
           "rap underground mexicano"
          ],
          [
           "rare groove"
          ],
          [
           "rave"
          ],
          [
           "rawstyle"
          ],
          [
           "reading"
          ],
          [
           "reading indie"
          ],
          [
           "rebel blues"
          ],
          [
           "rebetiko"
          ],
          [
           "recorder"
          ],
          [
           "red dirt"
          ],
          [
           "redneck"
          ],
          [
           "reggae"
          ],
          [
           "reggae en espanol"
          ],
          [
           "reggae fusion"
          ],
          [
           "reggae rock"
          ],
          [
           "reggaeton"
          ],
          [
           "reggaeton colombiano"
          ],
          [
           "reggaeton cristiano"
          ],
          [
           "reggaeton flow"
          ],
          [
           "reggaeton mexicano"
          ],
          [
           "regional mexican"
          ],
          [
           "relaxative"
          ],
          [
           "renaissance"
          ],
          [
           "rennes indie"
          ],
          [
           "retro metal"
          ],
          [
           "retro soul"
          ],
          [
           "rhode island indie"
          ],
          [
           "rhode island rap"
          ],
          [
           "rhythm and blues"
          ],
          [
           "riddim"
          ],
          [
           "rif"
          ],
          [
           "riot grrrl"
          ],
          [
           "ritmo kombina"
          ],
          [
           "rochester mn indie"
          ],
          [
           "rochester ny indie"
          ],
          [
           "rock"
          ],
          [
           "rock alternatif francais"
          ],
          [
           "rock alternativo brasileiro"
          ],
          [
           "rock andaluz"
          ],
          [
           "rock baiano"
          ],
          [
           "rock brasiliense"
          ],
          [
           "rock chapin"
          ],
          [
           "rock cristiano"
          ],
          [
           "rock drums"
          ],
          [
           "rock en espanol"
          ],
          [
           "rock gaucho"
          ],
          [
           "rock independant francais"
          ],
          [
           "rock kapak"
          ],
          [
           "rock keyboard"
          ],
          [
           "rock nacional"
          ],
          [
           "rock nacional brasileiro"
          ],
          [
           "rock pernambucano"
          ],
          [
           "rock progressif francais"
          ],
          [
           "rock steady"
          ],
          [
           "rock urbano mexicano"
          ],
          [
           "rock-and-roll"
          ],
          [
           "rockabilly"
          ],
          [
           "rockabilly en espanol"
          ],
          [
           "roda de samba"
          ],
          [
           "romanian classical piano"
          ],
          [
           "romanian electronic"
          ],
          [
           "romanian folk"
          ],
          [
           "romanian pop"
          ],
          [
           "romanian rock"
          ],
          [
           "romantico"
          ],
          [
           "roots americana"
          ],
          [
           "roots reggae"
          ],
          [
           "roots rock"
          ],
          [
           "roots worship"
          ],
          [
           "rosary"
          ],
          [
           "rumba"
          ],
          [
           "rumba congolaise"
          ],
          [
           "rune folk"
          ],
          [
           "russian alternative rock"
          ],
          [
           "russian ccm"
          ],
          [
           "russian chanson"
          ],
          [
           "russian choir"
          ],
          [
           "russian classical piano"
          ],
          [
           "russian dance"
          ],
          [
           "russian edm"
          ],
          [
           "russian folk"
          ],
          [
           "russian folk rock"
          ],
          [
           "russian jazz"
          ],
          [
           "russian metal"
          ],
          [
           "russian metalcore"
          ],
          [
           "russian modern classical"
          ],
          [
           "russian orchestra"
          ],
          [
           "russian pop"
          ],
          [
           "russian post-punk"
          ],
          [
           "russian punk"
          ],
          [
           "russian rock"
          ],
          [
           "russian romanticism"
          ],
          [
           "russian shoegaze"
          ],
          [
           "russian trance"
          ],
          [
           "rva indie"
          ],
          [
           "rwandan traditional"
          ],
          [
           "ryukyu ongaku"
          ],
          [
           "sacramento hip hop"
          ],
          [
           "sacramento indie"
          ],
          [
           "sacred steel"
          ],
          [
           "sad rap"
          ],
          [
           "salsa"
          ],
          [
           "salsa choke"
          ],
          [
           "salsa colombiana"
          ],
          [
           "salsa cubana"
          ],
          [
           "salsa international"
          ],
          [
           "salsa peruana"
          ],
          [
           "salsa puertorriquena"
          ],
          [
           "salsa venezolana"
          ],
          [
           "samba"
          ],
          [
           "samba de roda"
          ],
          [
           "samba moderno"
          ],
          [
           "samba-enredo"
          ],
          [
           "samba-jazz"
          ],
          [
           "samba-rock"
          ],
          [
           "san antonio rap"
          ],
          [
           "san diego indie"
          ],
          [
           "san diego rap"
          ],
          [
           "san marcos tx indie"
          ],
          [
           "sandalwood"
          ],
          [
           "sarod"
          ],
          [
           "saskatchewan indie"
          ],
          [
           "scam rap"
          ],
          [
           "scandinavian r&b"
          ],
          [
           "scandipop"
          ],
          [
           "schlager"
          ],
          [
           "scorecore"
          ],
          [
           "scottish electronic"
          ],
          [
           "scottish fiddle"
          ],
          [
           "scottish folk"
          ],
          [
           "scottish hip hop"
          ],
          [
           "scottish indie"
          ],
          [
           "scottish jazz"
          ],
          [
           "scottish metal"
          ],
          [
           "scottish new wave"
          ],
          [
           "scottish rock"
          ],
          [
           "scottish singer-songwriter"
          ],
          [
           "scratch"
          ],
          [
           "scream rap"
          ],
          [
           "screamo"
          ],
          [
           "seattle hip hop"
          ],
          [
           "seattle indie"
          ],
          [
           "second line"
          ],
          [
           "sefardi"
          ],
          [
           "serbian electronic"
          ],
          [
           "serialism"
          ],
          [
           "sertanejo"
          ],
          [
           "sertanejo pop"
          ],
          [
           "sertanejo tradicional"
          ],
          [
           "sertanejo universitario"
          ],
          [
           "sevdah"
          ],
          [
           "sevillanas"
          ],
          [
           "shaabi"
          ],
          [
           "shabad"
          ],
          [
           "shakuhachi"
          ],
          [
           "shamanic"
          ],
          [
           "shanty"
          ],
          [
           "sheffield indie"
          ],
          [
           "shibuya-kei"
          ],
          [
           "shimmer pop"
          ],
          [
           "shimmer psych"
          ],
          [
           "shiver pop"
          ],
          [
           "shoegaze"
          ],
          [
           "show tunes"
          ],
          [
           "shred"
          ],
          [
           "shush"
          ],
          [
           "sierreno"
          ],
          [
           "singaporean mandopop"
          ],
          [
           "singaporean pop"
          ],
          [
           "singaporean singer-songwriter"
          ],
          [
           "singer-songwriter"
          ],
          [
           "singing bowl"
          ],
          [
           "sitar"
          ],
          [
           "ska"
          ],
          [
           "ska argentino"
          ],
          [
           "ska chileno"
          ],
          [
           "ska jazz"
          ],
          [
           "ska mexicano"
          ],
          [
           "ska punk"
          ],
          [
           "ska revival"
          ],
          [
           "skate punk"
          ],
          [
           "skiffle"
          ],
          [
           "skramz"
          ],
          [
           "sky room"
          ],
          [
           "slack-key guitar"
          ],
          [
           "slam poetry"
          ],
          [
           "slamming deathcore"
          ],
          [
           "slavic folk metal"
          ],
          [
           "slayer"
          ],
          [
           "slc indie"
          ],
          [
           "sleaze rock"
          ],
          [
           "sleep"
          ],
          [
           "slovak electronic"
          ],
          [
           "slovenian electronic"
          ],
          [
           "slovenian metal"
          ],
          [
           "slow game"
          ],
          [
           "slowcore"
          ],
          [
           "sludge metal"
          ],
          [
           "small room"
          ],
          [
           "smooth jazz"
          ],
          [
           "smooth saxophone"
          ],
          [
           "smooth soul"
          ],
          [
           "soca"
          ],
          [
           "socal pop punk"
          ],
          [
           "social media pop"
          ],
          [
           "soda pop"
          ],
          [
           "soft rock"
          ],
          [
           "solipsynthm"
          ],
          [
           "son cubano"
          ],
          [
           "son cubano clasico"
          ],
          [
           "son jarocho"
          ],
          [
           "sophisti-pop"
          ],
          [
           "sotalaulut"
          ],
          [
           "soukous"
          ],
          [
           "soul"
          ],
          [
           "soul blues"
          ],
          [
           "soul flow"
          ],
          [
           "soul jazz"
          ],
          [
           "souldies"
          ],
          [
           "sound"
          ],
          [
           "sound art"
          ],
          [
           "sound effects"
          ],
          [
           "sound team"
          ],
          [
           "soundtrack"
          ],
          [
           "south african alternative"
          ],
          [
           "south african choral"
          ],
          [
           "south african country"
          ],
          [
           "south african hip hop"
          ],
          [
           "south african house"
          ],
          [
           "south african jazz"
          ],
          [
           "south african pop"
          ],
          [
           "south african pop dance"
          ],
          [
           "south african rock"
          ],
          [
           "south carolina hip hop"
          ],
          [
           "south carolina indie"
          ],
          [
           "south carolina metal"
          ],
          [
           "south dakota indie"
          ],
          [
           "southampton indie"
          ],
          [
           "southern americana"
          ],
          [
           "southern gospel"
          ],
          [
           "southern hip hop"
          ],
          [
           "southern metal"
          ],
          [
           "southern rock"
          ],
          [
           "southern soul"
          ],
          [
           "southern soul blues"
          ],
          [
           "soviet synthpop"
          ],
          [
           "sovietwave"
          ],
          [
           "spa"
          ],
          [
           "space age pop"
          ],
          [
           "space ambient"
          ],
          [
           "space rock"
          ],
          [
           "spanish baroque"
          ],
          [
           "spanish classical"
          ],
          [
           "spanish classical piano"
          ],
          [
           "spanish folk metal"
          ],
          [
           "spanish hip hop"
          ],
          [
           "spanish indie pop"
          ],
          [
           "spanish invasion"
          ],
          [
           "spanish metal"
          ],
          [
           "spanish modern rock"
          ],
          [
           "spanish new wave"
          ],
          [
           "spanish noise pop"
          ],
          [
           "spanish pop"
          ],
          [
           "spanish pop rock"
          ],
          [
           "spanish renaissance"
          ],
          [
           "spanish rock"
          ],
          [
           "spanish synthpop"
          ],
          [
           "spanish techno"
          ],
          [
           "speed garage"
          ],
          [
           "speed metal"
          ],
          [
           "speedcore"
          ],
          [
           "spiritual hip hop"
          ],
          [
           "spiritual jazz"
          ],
          [
           "spirituals"
          ],
          [
           "springfield mo indie"
          ],
          [
           "spytrack"
          ],
          [
           "st louis rap"
          ],
          [
           "steampunk"
          ],
          [
           "steel guitar"
          ],
          [
           "steelpan"
          ],
          [
           "stl indie"
          ],
          [
           "stomp and flutter"
          ],
          [
           "stomp and holler"
          ],
          [
           "stomp and whittle"
          ],
          [
           "stomp pop"
          ],
          [
           "stoner metal"
          ],
          [
           "stoner rock"
          ],
          [
           "straight edge"
          ],
          [
           "straight-ahead jazz"
          ],
          [
           "street band"
          ],
          [
           "street punk"
          ],
          [
           "streichquartett"
          ],
          [
           "stride"
          ],
          [
           "string band"
          ],
          [
           "string folk"
          ],
          [
           "string orchestra"
          ],
          [
           "string quartet"
          ],
          [
           "strut"
          ],
          [
           "substep"
          ],
          [
           "sudanese pop"
          ],
          [
           "sufi"
          ],
          [
           "sufi chant"
          ],
          [
           "sunshine pop"
          ],
          [
           "supergroup"
          ],
          [
           "surf music"
          ],
          [
           "surf punk"
          ],
          [
           "svensk progg"
          ],
          [
           "swamp blues"
          ],
          [
           "swamp pop"
          ],
          [
           "swamp rock"
          ],
          [
           "swancore"
          ],
          [
           "swedish alternative rock"
          ],
          [
           "swedish americana"
          ],
          [
           "swedish black metal"
          ],
          [
           "swedish choir"
          ],
          [
           "swedish country"
          ],
          [
           "swedish dancehall"
          ],
          [
           "swedish death metal"
          ],
          [
           "swedish doom metal"
          ],
          [
           "swedish electronic"
          ],
          [
           "swedish electropop"
          ],
          [
           "swedish eurodance"
          ],
          [
           "swedish garage rock"
          ],
          [
           "swedish hard rock"
          ],
          [
           "swedish hardcore"
          ],
          [
           "swedish heavy metal"
          ],
          [
           "swedish house"
          ],
          [
           "swedish idol pop"
          ],
          [
           "swedish indie folk"
          ],
          [
           "swedish indie pop"
          ],
          [
           "swedish indie rock"
          ],
          [
           "swedish jazz"
          ],
          [
           "swedish jazz orkester"
          ],
          [
           "swedish melodic rock"
          ],
          [
           "swedish metal"
          ],
          [
           "swedish metalcore"
          ],
          [
           "swedish pop"
          ],
          [
           "swedish post-hardcore"
          ],
          [
           "swedish power metal"
          ],
          [
           "swedish prog"
          ],
          [
           "swedish progressive metal"
          ],
          [
           "swedish rock-and-roll"
          ],
          [
           "swedish singer-songwriter"
          ],
          [
           "swedish soul"
          ],
          [
           "swedish stoner rock"
          ],
          [
           "swedish synth"
          ],
          [
           "swedish synthpop"
          ],
          [
           "swedish tropical house"
          ],
          [
           "swedish underground rap"
          ],
          [
           "swing"
          ],
          [
           "swing italiano"
          ],
          [
           "swing revival"
          ],
          [
           "swiss black metal"
          ],
          [
           "swiss classical piano"
          ],
          [
           "swiss country"
          ],
          [
           "swiss metal"
          ],
          [
           "swiss pop"
          ],
          [
           "swiss rock"
          ],
          [
           "swiss worship"
          ],
          [
           "sydney indie"
          ],
          [
           "symphonic black metal"
          ],
          [
           "symphonic metal"
          ],
          [
           "symphonic rock"
          ],
          [
           "synth funk"
          ],
          [
           "synthpop"
          ],
          [
           "synthwave"
          ],
          [
           "syrian pop"
          ],
          [
           "tabla"
          ],
          [
           "tagalog rap"
          ],
          [
           "tagalog worship"
          ],
          [
           "taiwan campus folk"
          ],
          [
           "taiwan classical performance"
          ],
          [
           "taiwan hip hop"
          ],
          [
           "taiwan indie"
          ],
          [
           "taiwan pop"
          ],
          [
           "taiwan singer-songwriter"
          ],
          [
           "tajik pop"
          ],
          [
           "talent show"
          ],
          [
           "tamaulipas indie"
          ],
          [
           "tamaulipas rap"
          ],
          [
           "tamborazo"
          ],
          [
           "tamil hip hop"
          ],
          [
           "tamil pop"
          ],
          [
           "tamil worship"
          ],
          [
           "tampa indie"
          ],
          [
           "tango"
          ],
          [
           "tango cancion"
          ],
          [
           "tape club"
          ],
          [
           "tech house"
          ],
          [
           "technical death metal"
          ],
          [
           "technical deathcore"
          ],
          [
           "technical groove metal"
          ],
          [
           "technical melodic death metal"
          ],
          [
           "technical thrash"
          ],
          [
           "techno"
          ],
          [
           "techno kayo"
          ],
          [
           "tecnobanda"
          ],
          [
           "teen pop"
          ],
          [
           "tejano"
          ],
          [
           "tempe indie"
          ],
          [
           "tennessee hip hop"
          ],
          [
           "tennessee metal"
          ],
          [
           "tex-mex"
          ],
          [
           "texas blues"
          ],
          [
           "texas country"
          ],
          [
           "texas latin rap"
          ],
          [
           "texas pop punk"
          ],
          [
           "texas punk"
          ],
          [
           "thai folk"
          ],
          [
           "thai folk rock"
          ],
          [
           "thai idol"
          ],
          [
           "thai indie rock"
          ],
          [
           "thai pop"
          ],
          [
           "thall"
          ],
          [
           "theme"
          ],
          [
           "theremin"
          ],
          [
           "thrash core"
          ],
          [
           "thrash metal"
          ],
          [
           "timba"
          ],
          [
           "tin pan alley"
          ],
          [
           "tipico"
          ],
          [
           "tolkien metal"
          ],
          [
           "tollywood"
          ],
          [
           "tone"
          ],
          [
           "torch song"
          ],
          [
           "toronto indie"
          ],
          [
           "toronto rap"
          ],
          [
           "trad jazz catala"
          ],
          [
           "traditional bluegrass"
          ],
          [
           "traditional blues"
          ],
          [
           "traditional british folk"
          ],
          [
           "traditional country"
          ],
          [
           "traditional folk"
          ],
          [
           "traditional funk"
          ],
          [
           "traditional rockabilly"
          ],
          [
           "traditional ska"
          ],
          [
           "traditional soul"
          ],
          [
           "trance"
          ],
          [
           "trance mexicano"
          ],
          [
           "trancecore"
          ],
          [
           "transpop"
          ],
          [
           "trap"
          ],
          [
           "trap argentino"
          ],
          [
           "trap chileno"
          ],
          [
           "trap dominicano"
          ],
          [
           "trap latino"
          ],
          [
           "trap mexicano"
          ],
          [
           "trap queen"
          ],
          [
           "trap soul"
          ],
          [
           "trap triste"
          ],
          [
           "trap venezolano"
          ],
          [
           "traprun"
          ],
          [
           "trash rock"
          ],
          [
           "triangle indie"
          ],
          [
           "tribal house"
          ],
          [
           "trinidadian reggae"
          ],
          [
           "trio cubano"
          ],
          [
           "trip hop"
          ],
          [
           "trival"
          ],
          [
           "tropical"
          ],
          [
           "tropical house"
          ],
          [
           "tropicalia"
          ],
          [
           "trova"
          ],
          [
           "trova mexicana"
          ],
          [
           "truck-driving country"
          ],
          [
           "tuareg guitar"
          ],
          [
           "tucson indie"
          ],
          [
           "tulsa indie"
          ],
          [
           "tuna estudiantil"
          ],
          [
           "tunisian pop"
          ],
          [
           "turbo folk"
          ],
          [
           "turkish classical"
          ],
          [
           "turkish classical performance"
          ],
          [
           "turkish edm"
          ],
          [
           "turkish experimental"
          ],
          [
           "turkish folk"
          ],
          [
           "turkish jazz"
          ],
          [
           "turkish modern jazz"
          ],
          [
           "turkish pop"
          ],
          [
           "turkish psych"
          ],
          [
           "turkish trap"
          ],
          [
           "turkish trap pop"
          ],
          [
           "turntablism"
          ],
          [
           "twee pop"
          ],
          [
           "twoubadou"
          ],
          [
           "tzadik"
          ],
          [
           "ugandan pop"
          ],
          [
           "uilleann pipes"
          ],
          [
           "uk alternative hip hop"
          ],
          [
           "uk alternative pop"
          ],
          [
           "uk americana"
          ],
          [
           "uk contemporary jazz"
          ],
          [
           "uk contemporary r&b"
          ],
          [
           "uk dance"
          ],
          [
           "uk dancehall"
          ],
          [
           "uk diy punk"
          ],
          [
           "uk dnb"
          ],
          [
           "uk doom metal"
          ],
          [
           "uk dub"
          ],
          [
           "uk experimental electronic"
          ],
          [
           "uk funky"
          ],
          [
           "uk garage"
          ],
          [
           "uk hip hop"
          ],
          [
           "uk house"
          ],
          [
           "uk metalcore"
          ],
          [
           "uk noise rock"
          ],
          [
           "uk pop"
          ],
          [
           "uk pop punk"
          ],
          [
           "uk post-hardcore"
          ],
          [
           "uk post-punk"
          ],
          [
           "uk reggae"
          ],
          [
           "uk rockabilly"
          ],
          [
           "uk stoner rock"
          ],
          [
           "uk worship"
          ],
          [
           "uk82"
          ],
          [
           "ukrainian choir"
          ],
          [
           "ukrainian classical"
          ],
          [
           "ukrainian classical piano"
          ],
          [
           "ukrainian electronic"
          ],
          [
           "ukrainian pop"
          ],
          [
           "ukulele"
          ],
          [
           "umbanda"
          ],
          [
           "underground hip hop"
          ],
          [
           "underground power pop"
          ],
          [
           "underground rap"
          ],
          [
           "university choir"
          ],
          [
           "uplifting trance"
          ],
          [
           "uptempo hardcore"
          ],
          [
           "urban contemporary"
          ],
          [
           "urbano espanol"
          ],
          [
           "us power metal"
          ],
          [
           "utah indie"
          ],
          [
           "uzbek pop"
          ],
          [
           "uzbek traditional"
          ],
          [
           "v-pop"
          ],
          [
           "vallenato"
          ],
          [
           "vallenato moderno"
          ],
          [
           "vancouver indie"
          ],
          [
           "vancouver metal"
          ],
          [
           "vancouver punk"
          ],
          [
           "vapor pop"
          ],
          [
           "vapor soul"
          ],
          [
           "vapor trap"
          ],
          [
           "vapor twitch"
          ],
          [
           "vaporwave"
          ],
          [
           "variete francaise"
          ],
          [
           "vaudeville"
          ],
          [
           "vbs"
          ],
          [
           "veena"
          ],
          [
           "vegan straight edge"
          ],
          [
           "vegas indie"
          ],
          [
           "velha guarda"
          ],
          [
           "venezuelan hip hop"
          ],
          [
           "venezuelan indie"
          ],
          [
           "venezuelan rock"
          ],
          [
           "veracruz indie"
          ],
          [
           "vermont indie"
          ],
          [
           "vgm instrumental"
          ],
          [
           "vgm remix"
          ],
          [
           "victoria bc indie"
          ],
          [
           "victorian britain"
          ],
          [
           "video game music"
          ],
          [
           "vienna indie"
          ],
          [
           "vietnamese bolero"
          ],
          [
           "vietnamese pop"
          ],
          [
           "viking black metal"
          ],
          [
           "viking folk"
          ],
          [
           "viking metal"
          ],
          [
           "villancicos"
          ],
          [
           "vintage chanson"
          ],
          [
           "vintage chinese pop"
          ],
          [
           "vintage classical singing"
          ],
          [
           "vintage country folk"
          ],
          [
           "vintage dutch pop"
          ],
          [
           "vintage french electronic"
          ],
          [
           "vintage gospel"
          ],
          [
           "vintage hollywood"
          ],
          [
           "vintage italian pop"
          ],
          [
           "vintage italian soundtrack"
          ],
          [
           "vintage jazz"
          ],
          [
           "vintage old-time"
          ],
          [
           "vintage rockabilly"
          ],
          [
           "vintage schlager"
          ],
          [
           "vintage spanish pop"
          ],
          [
           "vintage swedish pop"
          ],
          [
           "vintage swing"
          ],
          [
           "vintage tango"
          ],
          [
           "viola"
          ],
          [
           "violao"
          ],
          [
           "violao classico"
          ],
          [
           "violin"
          ],
          [
           "viral pop"
          ],
          [
           "viral rap"
          ],
          [
           "viral trap"
          ],
          [
           "virgin islands reggae"
          ],
          [
           "virginia hip hop"
          ],
          [
           "virginia metal"
          ],
          [
           "virginia punk"
          ],
          [
           "visor"
          ],
          [
           "visual kei"
          ],
          [
           "vocal ensemble"
          ],
          [
           "vocal harmony group"
          ],
          [
           "vocal house"
          ],
          [
           "vocal jazz"
          ],
          [
           "vocal trance"
          ],
          [
           "vocaloid"
          ],
          [
           "vogue"
          ],
          [
           "volksmusik"
          ],
          [
           "warm drone"
          ],
          [
           "washboard"
          ],
          [
           "washington indie"
          ],
          [
           "wassoulou"
          ],
          [
           "water"
          ],
          [
           "wave"
          ],
          [
           "welsh folk"
          ],
          [
           "welsh indie"
          ],
          [
           "welsh metal"
          ],
          [
           "welsh rock"
          ],
          [
           "west african jazz"
          ],
          [
           "west australian hip hop"
          ],
          [
           "west coast rap"
          ],
          [
           "west coast reggae"
          ],
          [
           "west coast trap"
          ],
          [
           "west end"
          ],
          [
           "west virginia indie"
          ],
          [
           "western americana"
          ],
          [
           "western mass indie"
          ],
          [
           "western saharan folk"
          ],
          [
           "western swing"
          ],
          [
           "white noise"
          ],
          [
           "wind ensemble"
          ],
          [
           "wind quintet"
          ],
          [
           "wisconsin indie"
          ],
          [
           "witch house"
          ],
          [
           "women's choir"
          ],
          [
           "women's music"
          ],
          [
           "wonky"
          ],
          [
           "worcester ma indie"
          ],
          [
           "world"
          ],
          [
           "world fusion"
          ],
          [
           "world meditation"
          ],
          [
           "world worship"
          ],
          [
           "worship"
          ],
          [
           "wrestling"
          ],
          [
           "wu fam"
          ],
          [
           "wyoming indie"
          ],
          [
           "wyoming roots"
          ],
          [
           "xhosa"
          ],
          [
           "xtra raw"
          ],
          [
           "yacht rock"
          ],
          [
           "ye ye"
          ],
          [
           "yiddish folk"
          ],
          [
           "yodeling"
          ],
          [
           "yoga"
          ],
          [
           "yoik"
          ],
          [
           "york indie"
          ],
          [
           "yorkshire folk"
          ],
          [
           "yugoslav new wave"
          ],
          [
           "yugoslav rock"
          ],
          [
           "zambian pop"
          ],
          [
           "zeuhl"
          ],
          [
           "zhongguo feng"
          ],
          [
           "zimdancehall"
          ],
          [
           "zolo"
          ],
          [
           "zouglou"
          ],
          [
           "zouk"
          ],
          [
           "zurich indie"
          ],
          [
           "zydeco"
          ]
         ],
         "hovertemplate": "x=%{x}<br>y=%{y}<br>generos=%{customdata[0]}<br>cluster_pca=%{marker.color}<extra></extra>",
         "legendgroup": "",
         "marker": {
          "color": [
           0,
           0,
           1,
           2,
           2,
           3,
           3,
           1,
           2,
           2,
           4,
           3,
           4,
           0,
           2,
           3,
           1,
           3,
           4,
           3,
           2,
           2,
           1,
           2,
           3,
           1,
           1,
           0,
           1,
           1,
           1,
           1,
           1,
           3,
           3,
           4,
           3,
           1,
           4,
           3,
           4,
           1,
           1,
           1,
           3,
           1,
           1,
           3,
           1,
           4,
           1,
           3,
           3,
           4,
           4,
           1,
           4,
           4,
           1,
           1,
           4,
           3,
           1,
           0,
           4,
           3,
           4,
           3,
           1,
           0,
           1,
           3,
           0,
           0,
           0,
           0,
           0,
           2,
           4,
           0,
           3,
           0,
           3,
           0,
           0,
           3,
           2,
           4,
           0,
           1,
           4,
           4,
           4,
           3,
           3,
           4,
           4,
           3,
           2,
           1,
           2,
           0,
           3,
           3,
           3,
           3,
           0,
           3,
           1,
           4,
           1,
           3,
           1,
           1,
           1,
           1,
           1,
           4,
           1,
           4,
           3,
           0,
           3,
           1,
           3,
           0,
           1,
           3,
           1,
           0,
           3,
           1,
           1,
           1,
           4,
           1,
           0,
           4,
           1,
           4,
           1,
           4,
           4,
           2,
           4,
           1,
           3,
           1,
           3,
           1,
           0,
           1,
           0,
           0,
           0,
           1,
           4,
           4,
           1,
           1,
           4,
           4,
           3,
           4,
           1,
           4,
           4,
           1,
           1,
           3,
           4,
           3,
           3,
           1,
           1,
           4,
           1,
           1,
           1,
           0,
           0,
           0,
           3,
           0,
           1,
           2,
           4,
           0,
           0,
           4,
           1,
           2,
           1,
           1,
           1,
           1,
           0,
           0,
           2,
           3,
           2,
           1,
           2,
           2,
           2,
           4,
           3,
           0,
           0,
           2,
           0,
           1,
           4,
           1,
           1,
           1,
           2,
           2,
           2,
           2,
           2,
           0,
           1,
           2,
           2,
           2,
           0,
           0,
           0,
           0,
           3,
           0,
           0,
           2,
           1,
           3,
           4,
           1,
           1,
           4,
           1,
           1,
           1,
           1,
           4,
           1,
           1,
           2,
           3,
           2,
           1,
           1,
           2,
           3,
           1,
           4,
           4,
           4,
           0,
           0,
           4,
           4,
           1,
           3,
           4,
           2,
           4,
           1,
           3,
           3,
           3,
           3,
           2,
           1,
           1,
           3,
           0,
           2,
           1,
           0,
           2,
           4,
           4,
           0,
           0,
           1,
           1,
           4,
           4,
           4,
           1,
           4,
           4,
           4,
           4,
           3,
           4,
           2,
           2,
           2,
           2,
           4,
           4,
           3,
           4,
           2,
           2,
           1,
           1,
           2,
           1,
           1,
           2,
           2,
           2,
           1,
           1,
           1,
           4,
           4,
           1,
           1,
           4,
           2,
           3,
           1,
           1,
           0,
           0,
           3,
           3,
           0,
           0,
           1,
           0,
           0,
           0,
           1,
           4,
           1,
           2,
           2,
           4,
           2,
           2,
           1,
           1,
           1,
           4,
           1,
           4,
           4,
           1,
           2,
           0,
           3,
           2,
           4,
           3,
           4,
           1,
           4,
           4,
           3,
           1,
           0,
           0,
           1,
           0,
           2,
           4,
           3,
           2,
           4,
           4,
           3,
           1,
           3,
           0,
           0,
           3,
           4,
           3,
           1,
           0,
           4,
           2,
           3,
           1,
           1,
           1,
           4,
           4,
           1,
           4,
           3,
           1,
           1,
           1,
           1,
           4,
           0,
           2,
           2,
           3,
           3,
           2,
           1,
           4,
           1,
           0,
           2,
           1,
           0,
           3,
           1,
           2,
           1,
           4,
           1,
           2,
           0,
           0,
           0,
           2,
           1,
           3,
           3,
           4,
           1,
           0,
           2,
           4,
           1,
           4,
           3,
           2,
           3,
           1,
           1,
           4,
           4,
           3,
           1,
           4,
           4,
           0,
           3,
           4,
           4,
           1,
           3,
           0,
           3,
           4,
           3,
           2,
           3,
           2,
           3,
           3,
           2,
           2,
           4,
           2,
           2,
           1,
           2,
           2,
           2,
           1,
           0,
           0,
           0,
           4,
           4,
           0,
           2,
           0,
           4,
           1,
           1,
           2,
           0,
           2,
           0,
           0,
           3,
           0,
           3,
           3,
           4,
           1,
           3,
           3,
           1,
           4,
           2,
           1,
           1,
           4,
           2,
           2,
           1,
           4,
           1,
           4,
           4,
           4,
           1,
           2,
           4,
           1,
           1,
           1,
           2,
           2,
           1,
           2,
           1,
           3,
           3,
           1,
           4,
           0,
           2,
           3,
           2,
           1,
           2,
           4,
           3,
           2,
           0,
           0,
           0,
           4,
           3,
           1,
           3,
           4,
           0,
           2,
           3,
           0,
           0,
           3,
           1,
           0,
           2,
           3,
           2,
           3,
           4,
           1,
           4,
           1,
           1,
           3,
           4,
           4,
           3,
           4,
           4,
           1,
           0,
           4,
           1,
           3,
           0,
           3,
           1,
           1,
           1,
           4,
           4,
           3,
           1,
           2,
           2,
           1,
           1,
           2,
           1,
           3,
           2,
           2,
           2,
           2,
           4,
           2,
           1,
           1,
           1,
           1,
           2,
           4,
           3,
           4,
           2,
           3,
           2,
           2,
           4,
           2,
           2,
           2,
           3,
           1,
           3,
           2,
           3,
           1,
           2,
           3,
           3,
           1,
           3,
           2,
           4,
           2,
           1,
           0,
           1,
           1,
           1,
           2,
           1,
           1,
           0,
           3,
           0,
           0,
           0,
           0,
           0,
           0,
           0,
           0,
           0,
           0,
           0,
           2,
           0,
           0,
           0,
           0,
           0,
           0,
           0,
           3,
           0,
           0,
           0,
           2,
           2,
           1,
           4,
           1,
           1,
           1,
           1,
           1,
           1,
           1,
           1,
           1,
           2,
           1,
           4,
           2,
           4,
           0,
           1,
           0,
           4,
           4,
           1,
           0,
           0,
           0,
           1,
           2,
           3,
           0,
           2,
           2,
           0,
           2,
           2,
           2,
           4,
           1,
           1,
           1,
           4,
           2,
           3,
           1,
           2,
           2,
           1,
           2,
           1,
           1,
           1,
           3,
           2,
           2,
           1,
           1,
           3,
           1,
           1,
           4,
           1,
           4,
           1,
           1,
           1,
           2,
           1,
           1,
           1,
           1,
           1,
           1,
           1,
           1,
           1,
           2,
           1,
           2,
           1,
           1,
           1,
           1,
           4,
           4,
           2,
           0,
           0,
           2,
           4,
           2,
           4,
           1,
           1,
           1,
           4,
           1,
           4,
           4,
           0,
           4,
           0,
           1,
           0,
           4,
           1,
           3,
           4,
           1,
           4,
           4,
           2,
           1,
           2,
           1,
           1,
           3,
           1,
           4,
           0,
           3,
           4,
           3,
           1,
           3,
           4,
           4,
           4,
           3,
           4,
           4,
           4,
           1,
           4,
           4,
           4,
           4,
           1,
           2,
           4,
           4,
           3,
           1,
           2,
           1,
           4,
           2,
           1,
           1,
           4,
           1,
           1,
           1,
           2,
           1,
           4,
           1,
           1,
           4,
           1,
           1,
           0,
           2,
           4,
           2,
           2,
           4,
           3,
           2,
           3,
           1,
           1,
           0,
           4,
           3,
           4,
           1,
           4,
           1,
           1,
           3,
           1,
           3,
           0,
           2,
           1,
           3,
           1,
           3,
           3,
           1,
           1,
           4,
           2,
           1,
           1,
           1,
           1,
           3,
           1,
           3,
           1,
           1,
           4,
           1,
           3,
           3,
           1,
           3,
           2,
           3,
           1,
           2,
           4,
           0,
           1,
           1,
           1,
           1,
           2,
           1,
           2,
           4,
           4,
           1,
           1,
           1,
           2,
           4,
           4,
           3,
           2,
           3,
           4,
           4,
           4,
           0,
           1,
           3,
           0,
           0,
           3,
           4,
           1,
           4,
           1,
           0,
           4,
           3,
           0,
           1,
           2,
           2,
           4,
           1,
           3,
           4,
           2,
           0,
           4,
           4,
           4,
           2,
           1,
           4,
           2,
           0,
           4,
           1,
           4,
           1,
           2,
           4,
           3,
           2,
           2,
           0,
           0,
           0,
           0,
           1,
           0,
           1,
           4,
           1,
           1,
           3,
           2,
           1,
           3,
           4,
           0,
           3,
           1,
           4,
           1,
           1,
           2,
           4,
           4,
           2,
           3,
           1,
           4,
           3,
           1,
           1,
           4,
           3,
           4,
           1,
           4,
           4,
           4,
           3,
           1,
           1,
           1,
           4,
           4,
           4,
           1,
           4,
           0,
           4,
           0,
           3,
           2,
           0,
           4,
           3,
           2,
           1,
           0,
           4,
           2,
           1,
           3,
           3,
           3,
           0,
           2,
           3,
           1,
           4,
           4,
           1,
           1,
           1,
           1,
           2,
           3,
           0,
           0,
           1,
           1,
           0,
           3,
           1,
           3,
           3,
           3,
           3,
           2,
           2,
           3,
           2,
           4,
           1,
           2,
           1,
           4,
           3,
           0,
           4,
           0,
           0,
           4,
           4,
           4,
           4,
           4,
           4,
           1,
           2,
           3,
           0,
           1,
           3,
           4,
           1,
           3,
           3,
           0,
           1,
           3,
           1,
           1,
           2,
           2,
           2,
           2,
           3,
           3,
           4,
           1,
           3,
           2,
           3,
           2,
           1,
           2,
           2,
           1,
           1,
           1,
           2,
           3,
           1,
           1,
           1,
           4,
           0,
           1,
           3,
           1,
           3,
           0,
           0,
           1,
           0,
           0,
           2,
           4,
           4,
           1,
           3,
           3,
           4,
           2,
           4,
           2,
           0,
           0,
           3,
           1,
           4,
           1,
           1,
           0,
           4,
           2,
           1,
           4,
           4,
           4,
           1,
           4,
           1,
           2,
           1,
           1,
           4,
           4,
           2,
           1,
           1,
           1,
           1,
           4,
           4,
           1,
           3,
           1,
           4,
           1,
           1,
           4,
           3,
           4,
           4,
           1,
           2,
           0,
           4,
           4,
           1,
           1,
           4,
           3,
           4,
           3,
           4,
           1,
           4,
           3,
           3,
           1,
           3,
           4,
           0,
           0,
           0,
           3,
           1,
           4,
           4,
           1,
           1,
           0,
           2,
           4,
           4,
           0,
           0,
           1,
           1,
           1,
           4,
           1,
           0,
           4,
           0,
           0,
           0,
           4,
           4,
           4,
           1,
           1,
           2,
           2,
           4,
           1,
           4,
           4,
           3,
           1,
           3,
           4,
           3,
           1,
           1,
           4,
           3,
           2,
           2,
           2,
           3,
           1,
           2,
           1,
           4,
           3,
           4,
           1,
           1,
           4,
           4,
           3,
           4,
           4,
           1,
           1,
           4,
           2,
           0,
           2,
           2,
           4,
           0,
           2,
           2,
           0,
           1,
           3,
           3,
           4,
           1,
           4,
           4,
           1,
           1,
           1,
           1,
           4,
           4,
           2,
           3,
           2,
           0,
           2,
           2,
           2,
           0,
           4,
           2,
           2,
           1,
           2,
           1,
           1,
           1,
           0,
           3,
           4,
           0,
           4,
           4,
           2,
           3,
           4,
           1,
           4,
           1,
           4,
           4,
           4,
           1,
           2,
           2,
           2,
           0,
           0,
           0,
           0,
           2,
           1,
           1,
           0,
           1,
           1,
           1,
           3,
           1,
           0,
           0,
           2,
           1,
           1,
           1,
           1,
           1,
           0,
           0,
           0,
           0,
           0,
           0,
           0,
           2,
           3,
           3,
           1,
           2,
           2,
           2,
           2,
           1,
           4,
           3,
           1,
           4,
           1,
           1,
           1,
           2,
           1,
           0,
           0,
           0,
           0,
           3,
           2,
           2,
           2,
           3,
           3,
           1,
           1,
           0,
           3,
           0,
           3,
           2,
           3,
           3,
           3,
           3,
           3,
           4,
           2,
           2,
           0,
           2,
           1,
           1,
           0,
           1,
           2,
           2,
           1,
           3,
           3,
           2,
           3,
           3,
           1,
           3,
           3,
           3,
           1,
           3,
           3,
           1,
           1,
           3,
           4,
           3,
           1,
           3,
           4,
           1,
           4,
           3,
           1,
           4,
           2,
           3,
           4,
           1,
           4,
           3,
           1,
           0,
           3,
           2,
           1,
           4,
           4,
           3,
           2,
           2,
           3,
           1,
           4,
           3,
           4,
           4,
           3,
           4,
           1,
           3,
           1,
           1,
           2,
           2,
           0,
           3,
           3,
           2,
           2,
           1,
           0,
           4,
           3,
           2,
           3,
           2,
           1,
           2,
           2,
           0,
           0,
           2,
           1,
           4,
           1,
           2,
           2,
           1,
           3,
           0,
           0,
           0,
           0,
           4,
           0,
           0,
           3,
           1,
           4,
           4,
           1,
           0,
           3,
           0,
           4,
           0,
           4,
           0,
           0,
           2,
           4,
           3,
           3,
           0,
           0,
           0,
           0,
           3,
           2,
           2,
           1,
           1,
           4,
           0,
           3,
           4,
           1,
           4,
           4,
           4,
           1,
           4,
           4,
           1,
           4,
           4,
           3,
           3,
           1,
           1,
           4,
           2,
           1,
           0,
           0,
           0,
           0,
           3,
           0,
           1,
           4,
           3,
           1,
           1,
           4,
           4,
           0,
           2,
           4,
           3,
           2,
           3,
           4,
           4,
           3,
           4,
           4,
           4,
           4,
           3,
           4,
           4,
           1,
           1,
           4,
           3,
           0,
           3,
           3,
           1,
           2,
           2,
           2,
           1,
           2,
           2,
           2,
           2,
           2,
           0,
           2,
           2,
           3,
           3,
           2,
           2,
           4,
           0,
           2,
           3,
           2,
           2,
           2,
           1,
           3,
           2,
           0,
           2,
           2,
           2,
           2,
           2,
           2,
           3,
           0,
           1,
           3,
           1,
           1,
           3,
           2,
           1,
           2,
           4,
           1,
           1,
           1,
           1,
           1,
           2,
           2,
           1,
           2,
           1,
           2,
           4,
           4,
           3,
           3,
           3,
           1,
           3,
           1,
           2,
           1,
           1,
           2,
           3,
           1,
           1,
           2,
           1,
           0,
           3,
           3,
           2,
           2,
           1,
           0,
           0,
           0,
           2,
           2,
           0,
           0,
           4,
           1,
           1,
           1,
           1,
           0,
           0,
           2,
           1,
           4,
           0,
           1,
           2,
           3,
           3,
           0,
           1,
           1,
           1,
           0,
           1,
           3,
           2,
           1,
           1,
           1,
           1,
           4,
           1,
           1,
           1,
           2,
           1,
           1,
           1,
           3,
           1,
           1,
           1,
           1,
           2,
           0,
           3,
           2,
           4,
           1,
           1,
           2,
           3,
           0,
           3,
           4,
           3,
           3,
           4,
           2,
           1,
           3,
           2,
           1,
           2,
           3,
           3,
           2,
           3,
           3,
           1,
           2,
           4,
           4,
           3,
           2,
           3,
           1,
           0,
           3,
           2,
           3,
           4,
           0,
           2,
           1,
           3,
           3,
           1,
           3,
           4,
           3,
           0,
           4,
           2,
           1,
           4,
           3,
           3,
           3,
           1,
           2,
           3,
           2,
           1,
           2,
           2,
           2,
           1,
           1,
           3,
           1,
           3,
           4,
           3,
           0,
           3,
           4,
           0,
           3,
           1,
           1,
           4,
           3,
           4,
           4,
           4,
           4,
           4,
           4,
           4,
           4,
           4,
           1,
           4,
           1,
           3,
           2,
           1,
           4,
           2,
           2,
           1,
           1,
           1,
           3,
           4,
           4,
           4,
           4,
           4,
           1,
           0,
           1,
           4,
           1,
           4,
           1,
           2,
           1,
           1,
           1,
           1,
           1,
           4,
           1,
           3,
           0,
           0,
           3,
           3,
           3,
           4,
           2,
           1,
           3,
           0,
           3,
           3,
           1,
           3,
           4,
           0,
           1,
           4,
           4,
           1,
           1,
           1,
           3,
           0,
           4,
           1,
           4,
           3,
           3,
           4,
           1,
           1,
           4,
           1,
           3,
           1,
           1,
           0,
           0,
           1,
           0,
           4,
           1,
           1,
           4,
           1,
           1,
           1,
           0,
           4,
           4,
           0,
           1,
           2,
           2,
           2,
           3,
           1,
           0,
           4,
           2,
           2,
           1,
           2,
           2,
           3,
           2,
           2,
           1,
           1,
           3,
           1,
           0,
           4,
           1,
           1,
           3,
           1,
           3,
           0,
           2,
           1,
           2,
           2,
           1,
           1,
           2,
           1,
           2,
           2,
           2,
           1,
           3,
           1,
           1,
           2,
           2,
           2,
           1,
           3,
           2,
           4,
           4,
           1,
           0,
           3,
           2,
           2,
           4,
           4,
           1,
           3,
           1,
           4,
           3,
           2,
           0,
           1,
           0,
           1,
           0,
           2,
           4,
           1,
           4,
           2,
           3,
           1,
           1,
           0,
           3,
           2,
           3,
           4,
           1,
           3,
           4,
           4,
           3,
           3,
           3,
           0,
           3,
           1,
           1,
           2,
           2,
           3,
           4,
           4,
           1,
           4,
           0,
           0,
           3,
           1,
           1,
           3,
           4,
           1,
           0,
           1,
           4,
           3,
           4,
           1,
           2,
           2,
           1,
           1,
           2,
           1,
           4,
           1,
           3,
           1,
           4,
           1,
           3,
           4,
           1,
           0,
           4,
           4,
           1,
           1,
           4,
           4,
           3,
           4,
           2,
           1,
           3,
           4,
           4,
           4,
           0,
           0,
           3,
           1,
           0,
           3,
           0,
           2,
           4,
           1,
           1,
           4,
           1,
           3,
           4,
           3,
           4,
           4,
           4,
           1,
           4,
           0,
           0,
           0,
           4,
           0,
           1,
           1,
           0,
           4,
           4,
           4,
           4,
           4,
           3,
           4,
           3,
           1,
           3,
           2,
           1,
           1,
           0,
           1,
           4,
           3,
           4,
           4,
           1,
           4,
           2,
           2,
           2,
           1,
           3,
           2,
           1,
           2,
           2,
           4,
           4,
           1,
           1,
           1,
           4,
           0,
           3,
           4,
           3,
           1,
           4,
           4,
           3,
           1,
           1,
           4,
           1,
           0,
           1,
           3,
           4,
           1,
           3,
           1,
           3,
           1,
           1,
           1,
           4,
           1,
           3,
           2,
           0,
           3,
           4,
           1,
           1,
           0,
           0,
           4,
           0,
           0,
           3,
           3,
           0,
           0,
           4,
           0,
           4,
           3,
           4,
           0,
           0,
           2,
           2,
           0,
           1,
           4,
           1,
           1,
           1,
           2,
           1,
           1,
           2,
           0,
           0,
           4,
           1,
           4,
           1,
           1,
           4,
           2,
           1,
           2,
           3,
           3,
           1,
           1,
           0,
           3,
           1,
           1,
           1,
           2,
           3,
           1,
           1,
           2,
           4,
           1,
           1,
           2,
           4,
           1,
           1,
           1,
           1,
           1,
           2,
           0,
           3,
           3,
           0,
           2,
           1,
           4,
           4,
           3,
           2,
           3,
           3,
           3,
           1,
           1,
           1,
           1,
           1,
           4,
           4,
           2,
           0,
           1,
           0,
           0,
           0,
           0,
           0,
           2,
           4,
           2,
           1,
           1,
           2,
           1,
           1,
           0,
           1,
           1,
           1,
           3,
           1,
           4,
           1,
           4,
           1,
           3,
           1,
           1,
           3,
           1,
           4,
           3,
           1,
           1,
           1,
           1,
           4,
           3,
           1,
           1,
           3,
           1,
           1,
           0,
           4,
           2,
           1,
           3,
           3,
           4,
           3,
           0,
           1,
           1,
           4,
           4,
           4,
           3,
           0,
           4,
           3,
           3,
           0,
           0,
           4,
           1,
           4,
           1,
           4,
           4,
           3,
           0,
           1,
           3,
           3,
           3,
           4,
           4,
           4,
           4,
           4,
           4,
           4,
           4,
           4,
           4,
           3,
           4,
           4,
           3,
           4,
           2,
           4,
           1,
           2,
           3,
           4,
           3,
           4,
           2,
           3,
           1,
           3,
           4,
           3,
           3,
           4,
           4,
           4,
           1,
           2,
           3,
           1,
           2,
           1,
           1,
           4,
           4,
           4,
           1,
           4,
           1,
           1,
           3,
           0,
           0,
           4,
           3,
           1,
           1,
           1,
           1,
           2,
           1,
           1,
           2,
           0,
           2,
           3,
           2,
           1,
           1,
           1,
           1,
           3,
           1,
           1,
           1,
           4,
           1,
           0,
           4,
           1,
           3,
           4,
           4,
           2,
           3,
           1,
           2,
           2,
           1,
           1,
           1,
           1,
           1,
           1,
           1,
           1,
           4,
           1,
           1,
           1,
           2,
           0,
           1,
           4,
           1,
           3,
           1,
           2,
           1,
           3,
           4,
           1,
           4,
           1,
           4,
           1,
           1,
           1,
           1,
           3,
           4,
           4,
           3,
           1,
           4,
           4,
           1,
           3,
           3,
           1,
           2,
           3,
           1,
           4,
           1,
           1,
           1,
           2,
           0,
           1,
           0,
           1,
           2,
           2,
           3,
           1,
           3,
           3,
           2,
           3,
           3,
           3,
           4,
           4,
           2,
           0,
           0,
           4,
           4,
           2,
           2,
           2,
           4,
           4,
           0,
           0,
           1,
           4,
           2,
           3,
           0,
           3,
           4,
           1,
           0,
           2,
           1,
           4,
           1,
           1,
           1,
           1,
           1,
           1,
           1,
           1,
           1,
           1,
           2,
           2,
           1,
           1,
           2,
           1,
           1,
           4,
           1,
           3,
           2,
           0,
           2,
           1,
           1,
           1,
           3,
           0,
           1,
           0,
           3,
           1,
           3,
           2,
           1,
           1,
           1,
           1,
           1,
           1,
           4,
           1,
           3,
           1,
           1,
           3,
           0,
           1,
           2,
           2,
           1,
           3,
           1,
           1,
           2,
           0,
           0,
           2,
           4,
           3,
           4,
           3,
           3,
           3,
           3,
           4,
           0,
           1,
           3,
           3,
           4,
           3,
           0,
           0,
           1,
           1,
           1,
           1,
           1,
           1,
           1,
           4,
           2,
           2,
           4,
           2,
           4,
           4,
           4,
           4,
           3,
           4,
           0,
           3,
           1,
           4,
           1,
           3,
           4,
           3,
           3,
           3,
           1,
           1,
           4,
           1,
           2,
           3,
           1,
           2,
           2,
           1,
           1,
           1,
           2,
           1,
           2,
           1,
           2,
           2,
           0,
           0,
           0,
           1,
           0,
           1,
           2,
           1,
           1,
           1,
           2,
           1,
           1,
           4,
           1,
           3,
           4,
           4,
           3,
           1,
           3,
           1,
           4,
           1,
           1,
           1,
           1,
           4,
           0,
           2,
           0,
           3,
           0,
           0,
           0,
           4,
           1,
           3,
           1,
           4,
           3,
           1,
           3,
           1,
           1,
           0,
           1,
           1,
           3,
           1,
           4,
           2,
           1,
           3,
           2,
           3,
           2,
           1,
           1,
           2,
           2,
           1,
           2,
           3,
           2,
           1,
           4,
           4,
           4,
           0,
           1,
           4,
           0,
           2,
           2,
           0,
           0,
           0,
           1,
           4,
           3,
           3,
           2,
           3,
           3,
           3,
           4,
           4,
           1,
           1,
           1,
           4,
           4,
           3,
           4,
           0,
           1,
           1,
           4,
           4,
           3,
           4,
           4,
           4,
           4,
           4,
           3,
           3,
           4,
           3,
           4,
           4,
           0,
           2,
           3,
           4,
           4,
           1,
           4,
           4,
           4,
           4,
           1,
           3,
           3,
           3,
           3,
           3,
           4,
           1,
           2,
           2,
           1,
           4,
           0,
           0,
           4,
           1,
           3,
           0,
           2,
           4,
           4,
           3,
           1,
           1,
           4,
           2,
           2,
           1,
           3,
           2,
           0,
           2,
           3,
           3,
           3,
           2,
           1,
           1,
           1,
           1,
           2,
           2,
           2,
           4,
           2,
           2,
           3,
           3,
           4,
           3,
           4,
           4,
           4,
           3,
           3,
           1,
           1,
           1,
           1,
           1,
           4,
           1,
           1,
           1,
           1,
           1,
           1,
           1,
           1,
           3,
           2,
           1,
           4,
           2,
           0,
           4,
           4,
           1,
           2,
           1,
           3,
           2,
           0,
           2,
           3,
           1,
           2,
           2,
           2,
           3,
           2,
           2,
           3,
           1,
           1,
           1,
           4,
           4,
           4,
           1,
           1,
           1,
           4,
           3,
           1,
           1,
           1,
           1,
           1,
           1,
           4,
           4,
           4,
           1,
           2,
           2,
           3,
           1,
           1,
           1,
           1,
           2,
           2,
           2,
           3,
           1,
           1,
           1,
           1,
           1,
           2,
           0,
           4,
           4,
           2,
           2,
           2,
           3,
           2,
           4,
           3,
           1,
           3,
           2,
           0,
           3,
           2,
           1,
           1,
           3,
           3,
           1,
           1,
           1,
           4,
           4,
           4,
           1,
           3,
           1,
           1,
           1,
           1,
           4,
           1,
           1,
           1,
           4,
           3,
           1,
           4,
           4,
           3,
           4,
           0,
           0,
           0,
           3,
           1,
           2,
           2,
           1,
           1,
           1,
           0,
           4,
           4,
           1,
           1,
           4,
           3,
           2,
           2,
           1,
           1,
           1,
           3,
           4,
           4,
           3,
           3,
           1,
           3,
           4,
           3,
           2,
           1,
           2,
           4,
           4,
           2,
           1,
           1,
           1,
           1,
           3,
           0,
           4,
           1,
           0,
           3,
           3,
           1,
           1,
           4,
           3,
           4,
           2,
           2,
           2,
           0,
           2,
           2,
           3,
           2,
           2,
           2,
           0,
           2,
           2,
           1,
           2,
           2,
           2,
           2,
           2,
           0,
           2,
           2,
           0,
           1,
           1,
           1,
           1,
           1,
           4,
           4,
           2,
           4,
           0,
           2,
           1,
           2,
           4,
           4,
           1,
           2,
           0,
           2,
           1,
           2,
           0,
           1,
           0,
           4,
           4,
           4,
           3,
           1,
           1,
           1,
           1,
           2,
           1,
           3,
           1,
           3,
           2,
           0,
           0,
           0,
           3,
           4,
           4,
           3,
           3,
           1,
           3,
           3,
           0,
           3,
           3,
           4,
           1,
           4,
           3,
           2,
           4,
           1,
           2,
           0,
           2,
           0,
           0,
           2,
           3,
           1,
           1,
           1,
           4,
           4,
           1,
           3,
           1,
           1,
           2,
           1
          ],
          "coloraxis": "coloraxis",
          "symbol": "circle"
         },
         "mode": "markers",
         "name": "",
         "showlegend": false,
         "type": "scattergl",
         "x": [
          5.910268108221796,
          2.7870931528085947,
          -0.7575375383744648,
          1.020521486616816,
          0.7539105142791414,
          1.7971062652419418,
          -0.4620496054489374,
          -1.3116722595637271,
          0.5984179553898561,
          0.5982012013950387,
          -1.1656525385277146,
          -0.07118124655695941,
          -2.1717115858284015,
          3.6732966630297708,
          0.8327855889826027,
          0.0014059392111347624,
          -0.9273057420077754,
          0.6796203745139362,
          -1.4878005371777192,
          -0.25016976307256505,
          0.9541894103960763,
          0.8894938464845346,
          -0.9349244756981567,
          2.435242216702911,
          -0.57940968480787,
          -1.6872704870086683,
          -1.0665290759030301,
          3.7433087585819327,
          -2.154301657445696,
          -1.0808503055522527,
          -0.9549632645218928,
          -3.2358726515928025,
          -1.7119755341735585,
          -0.43365637370202004,
          -0.6062336832001025,
          -0.9441629326199642,
          -0.21897352791237013,
          -1.5617667209055175,
          -1.3458348880477138,
          -0.6937048482628619,
          -1.6190405446647005,
          -1.5333276858350355,
          -1.698833579257118,
          -1.8093965083506094,
          1.0018621405554733,
          -1.550555791953906,
          -2.616201799535104,
          -0.7218561265706734,
          -0.9358284356998541,
          -2.321719004377389,
          -2.1698597717064207,
          -0.11704076484140137,
          -0.17798254163413832,
          -1.3770978627884976,
          -1.2775706484489115,
          -1.668908222933661,
          -1.4330066722916894,
          -0.881294027284934,
          -1.9337278510850253,
          -0.9919561769523924,
          -0.8554408012501132,
          -0.45004862859253514,
          -1.064289270263445,
          3.462606271585076,
          0.69984276524541,
          1.024697922931239,
          -0.8535513919608626,
          0.6504792609298525,
          -0.47748776932747045,
          3.6547368585169053,
          -0.5680284493815141,
          1.2275685578826752,
          6.308184544302043,
          3.3947572178066756,
          4.909954292792233,
          4.521497311111668,
          3.436840226679443,
          1.7065111212663073,
          -1.9949213104070915,
          2.8835226719022256,
          -0.049240415763694076,
          4.251881907817701,
          1.5205339090003147,
          2.7578274763525523,
          3.8188688418188876,
          0.5222233385124367,
          0.664066457000711,
          -1.83772653849723,
          4.307369932725614,
          -0.9793272008623098,
          -1.7532546732907157,
          -2.2551791905614684,
          -2.29044156642183,
          -0.2800789416316542,
          0.2229118534726928,
          -1.5101821955287533,
          -0.6192845089796343,
          -0.07420986987072413,
          1.6728243374303757,
          -1.94335301465705,
          1.0149766128732856,
          2.719557668645424,
          0.9057166961074979,
          -0.21837300691801118,
          -0.2625665565621553,
          0.8449080453819647,
          2.8327794759317673,
          1.461495770999628,
          -1.5842602988284011,
          -1.8856176787118504,
          -2.393866425909586,
          -0.008422928392726323,
          -3.0786420856227736,
          -1.643819973302629,
          -2.039372984415572,
          -0.9968674357840717,
          -1.980988742544417,
          -1.9736099706764738,
          -0.2142603008217098,
          -2.3201588880940074,
          0.6288114935083476,
          5.262718544641117,
          -0.12166536408823819,
          -1.0121054754613958,
          0.035260963005684945,
          3.49261051434279,
          -1.2753710449014175,
          0.3282646881366822,
          -1.6951789119860827,
          3.7286177933129547,
          -0.6107015592017124,
          -1.9032893260849404,
          -1.8874273931826746,
          -1.4787588103471283,
          -1.687927343644112,
          -2.1606659415912097,
          4.65808820750692,
          0.69984276524541,
          -1.809447455313153,
          0.6443884999442774,
          -2.818281416913886,
          0.6443884999442774,
          -1.471692683880155,
          1.8781753016297518,
          -1.133843484776815,
          -0.7702516670886767,
          -0.5221138504004776,
          -0.9270989547196363,
          0.5931378934821793,
          -1.3843251626688344,
          5.27117778440782,
          -0.9642170705834142,
          3.754319584280466,
          2.9926527080734298,
          4.167831601809077,
          -0.3896280793317462,
          -1.642475143557614,
          -1.1675433931298083,
          -1.7381524969306457,
          -1.9383384408051352,
          -1.6757529454902504,
          -1.187337265148716,
          -0.35419274697547715,
          -1.9748930162104512,
          -1.433216664042792,
          -1.8599621279939198,
          -1.628508125210331,
          -1.2616275422044287,
          -1.2397362810749402,
          0.18868288124372787,
          -1.2018029791688296,
          0.0775439069895685,
          -0.43606997058020935,
          -1.2727953385235415,
          -1.0274090397486302,
          -1.861782165770575,
          -0.878868335822321,
          -2.622199874478131,
          -1.6576596345415069,
          4.075563099476097,
          4.894322340584221,
          4.158854712674678,
          0.34415585652526914,
          3.2529655317034623,
          -2.014666324606976,
          0.1933516169142164,
          0.5398747178532833,
          4.407656001383201,
          2.359553565217615,
          -1.0134812826832005,
          -1.477559825349806,
          1.7516550987332928,
          -1.9813204401207756,
          -1.5921148477738616,
          -1.8603543986322113,
          -1.6438683942628745,
          4.74351152734234,
          2.164611199122905,
          1.9271058748133272,
          0.24867553257171074,
          0.26404958881534507,
          -3.1062145776446393,
          1.0069292318079597,
          0.7363487998666411,
          0.013770393933029054,
          -0.986259205589773,
          -0.010758925244006356,
          5.381249937095061,
          3.031134078256738,
          2.121957979975028,
          5.376825054885018,
          -1.8715344938197187,
          -0.8257044500186861,
          -1.8050999520940791,
          -1.5965747063171414,
          -1.3903620518490438,
          2.381784988233928,
          0.3267105421940256,
          1.1855448365432077,
          2.230795233307351,
          0.1827340785201263,
          4.819813386113587,
          -1.8931190472758403,
          1.087727703636128,
          1.2390028548321201,
          2.394036667746407,
          2.576594196723721,
          3.7581250644676363,
          3.6033879217230926,
          3.089296631764702,
          -0.29784148837110097,
          4.138457045658253,
          2.683964955737929,
          0.9951124914788192,
          -1.6409269228190293,
          -0.10733653159368299,
          -1.7242942774158043,
          -2.2972037194660837,
          -2.1511737708624015,
          -1.5759181415763408,
          -1.3487051914956143,
          -2.0265484820804596,
          -2.120690474768989,
          -1.9307654535976813,
          -0.9234066530601976,
          -1.2516471860681755,
          -1.9113516620063327,
          0.7812550919890981,
          -0.5237497338668535,
          1.5258122967139587,
          -1.4815229037775164,
          -0.8608015003990184,
          2.066445088869665,
          -0.3918110027355389,
          -0.8627420859305037,
          -1.7244851503949106,
          -2.451976422151478,
          -2.451976422151478,
          4.911094086350666,
          2.128422877629836,
          -2.026227680053004,
          -1.725968840092766,
          -1.7612462995881757,
          -0.32942484453738213,
          -0.7167812722224332,
          2.359912655797251,
          -0.41095162447510464,
          -2.0724990678317297,
          0.4941512548817778,
          0.3947367578461057,
          0.501114745599442,
          -0.15019477310741175,
          2.2643665658299255,
          -1.3540154536804454,
          -1.4700532554453174,
          -0.3914865896117484,
          2.9286868308441956,
          1.5627344941817927,
          -1.8046533953228476,
          4.421919934708997,
          1.6666341252458143,
          -0.8630069468661092,
          -1.8240161816083948,
          6.2023298324535485,
          2.700729757114227,
          -1.921998873160112,
          -3.8853351569825403,
          -0.3237352337227905,
          -1.4830437992216352,
          -0.6661581305866554,
          -0.8975313027897459,
          -0.2715001095859876,
          -2.0260074964118395,
          0.03066854822532762,
          -0.6661581305866554,
          1.6679376175634022,
          -0.9628431990032471,
          0.0522904705860822,
          1.4342428370670819,
          -0.07440927214208816,
          0.3161956897243027,
          -1.6854348307187528,
          -1.378373549821596,
          -0.5302811239602085,
          -1.9482834157370135,
          0.437681665380243,
          0.4611651127096485,
          -0.6169217471719337,
          -1.1400256377059388,
          1.2533220435925612,
          -1.806501142362129,
          -2.1058975606514685,
          0.5834156893519916,
          0.6150431813346551,
          0.8314068380244762,
          -1.1677498330947185,
          -1.8797451580250861,
          -1.5737313828666786,
          -1.7148709729100609,
          -1.2187163240425543,
          -0.908107593491938,
          -2.4076385061986563,
          -2.631247737130892,
          1.5673168136376294,
          1.2606761374764386,
          -1.2731362784415337,
          -1.9933897451720621,
          6.078392568331345,
          6.2023298324535485,
          1.880647197466098,
          0.4855038489729514,
          3.7247868746474655,
          4.999022851023016,
          -0.6507019188068323,
          2.8317540321081105,
          5.157224121091322,
          3.8192902746508075,
          -1.8812815325483465,
          -1.017041578089579,
          -2.3431142778733145,
          -0.061394194594861756,
          1.124497322633509,
          -1.017041578089579,
          1.5499874451851434,
          -0.2388043987908897,
          -2.0548948833262477,
          -1.4608536919332902,
          -1.2511268482027649,
          -1.4326231369090205,
          -0.8322050040893016,
          -1.017041578089579,
          -1.4771002595731528,
          -2.6286065993341623,
          -0.21035255659039112,
          3.7220411064919303,
          -0.6601937727661523,
          -0.08898081277070465,
          -1.3796424287630298,
          0.8934594009314079,
          -0.6029963198787496,
          -0.7120551860400113,
          -0.7769839379468477,
          -0.6805758573158134,
          -0.2427984490140353,
          -1.9562315383510165,
          4.118042026063584,
          5.713741031844158,
          -0.7417411626392656,
          4.424095099147774,
          2.3273182406295385,
          0.01776347120644972,
          0.3014939930849984,
          0.9650215283895114,
          0.022468392622498893,
          -1.2199650459691418,
          0.3417751159053112,
          -0.5378912868672483,
          0.8644678960471947,
          4.004696577326854,
          4.0083201817748355,
          1.3829663131262577,
          -2.057429789142762,
          1.3094774137593301,
          -1.2244223547667654,
          3.301387747874774,
          -1.1107604184765894,
          0.5360702750732711,
          -0.24744053697254784,
          -1.944189985078294,
          -2.1330576537603547,
          -1.0891187918604013,
          -1.830246975225964,
          -0.15516416449343925,
          -0.9951653539849199,
          -1.3596060537015462,
          -0.6110809564064192,
          -2.549815498266093,
          -0.6067753052647106,
          -0.7288872748469334,
          -0.6427561202341464,
          -0.8384661829154169,
          7.048160534198853,
          3.0862995100788644,
          1.6499160539143811,
          0.5039626516959583,
          -0.7628234779254297,
          1.9098861430974055,
          -0.7381554703584144,
          -1.2105050375339599,
          -1.616500641144998,
          2.9152852845241632,
          0.7875315395435424,
          -1.4713066508652926,
          3.840536654487976,
          0.8180105809922913,
          -1.5363920461225522,
          1.5017010248753795,
          -0.8269573928584225,
          -1.2365537984863502,
          -1.1213910396496645,
          0.3532535757130931,
          4.156988672470463,
          4.181143915852828,
          5.874241617946339,
          0.7726737970500186,
          -1.2384651584229955,
          0.17391144426442443,
          -0.2910191568213263,
          -1.3643289196729786,
          -1.0013576229512053,
          2.8143610849320835,
          1.015226774823568,
          -0.8997096472317079,
          -1.8161225830951808,
          -0.40691985636642897,
          -0.6222506022041561,
          0.9298554236724567,
          -0.031158874814143797,
          -1.8953253854100007,
          -2.0864594737726585,
          -1.0330740365002835,
          -1.6484788353344273,
          -0.07688967377256213,
          -0.9626729037514548,
          -2.014035053021466,
          -1.3293413005641401,
          2.960200102558325,
          0.33666129733437344,
          -1.713615022176361,
          -1.4322797629514938,
          -0.9929724146692345,
          0.37104684811124117,
          2.638713405966958,
          -0.028077801649979858,
          -1.667664865504653,
          -0.6079060289417967,
          0.022377474382159385,
          0.964520377690715,
          1.238776128033602,
          0.3211546567581569,
          0.3993101634015978,
          1.4480493860298327,
          2.2798976418949346,
          -0.2266340201036184,
          0.2531651111744019,
          -0.21480126217786316,
          -2.4628532337473232,
          1.3697801765357984,
          1.7508953452310552,
          1.3863298495833418,
          -1.2538737101450235,
          5.133050169971327,
          3.5265151258837,
          6.346033202222224,
          -0.616137349920731,
          -2.3748289472525195,
          2.2533078147803622,
          0.8167571253489758,
          3.6537653788133873,
          -1.8047421918261293,
          -1.8627951125034803,
          -0.9242152643491609,
          0.7066524688936517,
          4.942598053975866,
          1.1252336127832714,
          4.795289250255229,
          2.463567849011499,
          -0.09446247231001659,
          4.247306482872684,
          0.2490357613668699,
          -0.11019294017436498,
          -1.8060319312706903,
          -1.469079712748627,
          -0.025425946360966754,
          0.3370037422179002,
          -1.0272113725970842,
          -1.1806601610443483,
          -0.08462383414741226,
          -1.2131974145350373,
          -1.5289774319052674,
          -1.3378086857797176,
          0.9015460755941892,
          0.34704130353341206,
          -1.8391030814300078,
          -1.210592631037,
          -1.3843046322401926,
          -1.1745523891881087,
          -0.8900534710795271,
          -1.7792525918076767,
          -1.7629015313750154,
          -0.22626369877920618,
          -1.3596743740108512,
          -1.4373298042223686,
          -1.0505476390009738,
          -1.232690715418207,
          1.356528349909239,
          -0.3174215584679026,
          -0.8073456954282057,
          0.6294753135461056,
          -2.0174373591629937,
          -0.11454795107119059,
          -0.5797367236830117,
          -1.8188905101656427,
          -0.21705098951570034,
          4.529430260517017,
          0.3331897153750483,
          0.9708797436014704,
          -0.17127054263204333,
          -0.7941852500264396,
          0.15892132499726505,
          -1.1876432241511574,
          -0.6402858806840847,
          0.8750838457096436,
          3.6087315817291605,
          5.022988638057471,
          5.8058324477018095,
          -2.484585586954587,
          -0.06723872685756664,
          -1.8199456802868195,
          -0.16463751050254707,
          -0.9373426065815234,
          3.695987464448696,
          -0.11499063549310497,
          -0.3119119497426378,
          3.6087315817291605,
          2.962821117328596,
          1.9745255543280624,
          -1.8693347569376912,
          3.9265835294224676,
          0.8514655969973878,
          0.25165487338246156,
          1.5069037952476543,
          0.8765073635953347,
          -0.849328625697538,
          -2.7670422182850576,
          -1.9426782361716515,
          -1.9404583741889676,
          -2.3277141531057515,
          -0.4893008855169199,
          -1.2448085534620557,
          -1.468188796976151,
          -0.41977050789702086,
          -1.1794041820554675,
          -0.7316519448921254,
          -1.9934477924940701,
          2.658957468748415,
          -1.8424902425655327,
          -1.9752037541359393,
          0.49738213453453706,
          2.8030142480459284,
          0.8898853897758187,
          -1.6997216230484258,
          -1.1189657700263973,
          -2.229727615330855,
          -0.7369155743144523,
          -2.8860579727672393,
          -0.04773120798274604,
          -1.2455077589325843,
          1.5812933821637338,
          0.38624025734860923,
          -1.3826420603119793,
          -2.4775829776870513,
          1.1497627661579246,
          -1.0859697564578679,
          0.6207099620941163,
          -0.07313623450419081,
          0.0026958861477235905,
          2.170027229768547,
          0.36718627717097696,
          -0.9314426872002073,
          2.3532485455974834,
          -1.0597890934720624,
          -2.2761098556941244,
          -0.7031780913867124,
          -0.29266338241288786,
          1.028040233030182,
          -1.1648221376777186,
          0.45116045775254965,
          -0.5491172599185631,
          -0.6751459147216369,
          0.2997968815429103,
          2.6834129126268156,
          0.5984074638508642,
          -0.5498879058004901,
          1.5305789710549675,
          1.6719273733102398,
          2.3650341880945853,
          0.5073760258805262,
          -1.3539098259275266,
          0.5151319213344537,
          1.060828923229479,
          0.5729789672192852,
          -0.7152407495550092,
          -0.04317819295221181,
          1.6217258746453855,
          0.36751585684045207,
          -0.7640261804664329,
          -0.5419837729171582,
          1.0156004276682944,
          -1.0104901039718683,
          0.34745430653825005,
          -0.2807461940428692,
          3.1877031348523155,
          -0.5452603790317772,
          -1.632620562430046,
          -1.181568236061592,
          0.48316178858881237,
          -0.46624827532572427,
          -0.6461748391001959,
          4.2454755717742465,
          -0.1703279404176014,
          3.4798674918083137,
          3.8409758809403707,
          4.963938781947002,
          4.408080150824802,
          4.139496296933865,
          4.031285308102277,
          3.936321424219395,
          4.187078489713527,
          4.917808163601019,
          4.9595316070320346,
          5.4913638121789035,
          1.532462469055249,
          3.78600497019443,
          4.224405197605612,
          3.8134457247031843,
          4.269047290947432,
          5.355886276386327,
          5.634525317250317,
          5.131366024213475,
          1.577873484466568,
          3.6283998048063006,
          3.374867958400428,
          3.136640936473178,
          1.5464616640991633,
          1.7734555001668157,
          -0.5736981384083447,
          -1.3474769379185056,
          -1.409567696943024,
          -1.7902349574504635,
          -0.9599392716314988,
          -2.3378502090707274,
          -1.9219232563386317,
          -1.4554683365959478,
          -1.9072262876723363,
          -0.6716795002770622,
          -2.0046562231551017,
          0.32515666255138054,
          -1.1523860720717642,
          -1.4557044571067235,
          0.18059071362684287,
          -1.9079350595148392,
          3.5236590611379066,
          -2.0491186934792065,
          3.6180834062291525,
          -1.73748451465771,
          -1.4392948516572355,
          -1.571408338016156,
          6.308184544302043,
          5.008294840003466,
          5.403265664257092,
          -1.4853710029965541,
          0.3311437672951782,
          -0.46419951317277935,
          2.793778628069706,
          2.2293271459533783,
          1.389333400921568,
          4.269223510110592,
          2.1474447251427837,
          0.7629686163768566,
          0.5313880649539579,
          -1.1115207404332892,
          -1.8204209333872428,
          -2.192137645569148,
          -1.6730626775637125,
          -0.562561128693775,
          0.45191804574874006,
          1.9195738575431935,
          -0.8702170708257275,
          1.0741748437685994,
          -0.22718136569597858,
          -0.8526204872249914,
          0.4309833958102197,
          -1.5594414900234002,
          -1.7883857649490373,
          -1.28436908280347,
          -0.32892936146030183,
          1.0518143755809573,
          0.5340816012176935,
          -1.1097151949345347,
          -1.9685741228713403,
          1.3526971314440273,
          -1.1080951590932837,
          -1.1080951590932837,
          -0.7862581323449471,
          -2.1866569882184588,
          -0.7966028054395339,
          -1.8418411545862143,
          -0.7800250543797589,
          -2.4784838201281785,
          0.2597603556403638,
          -1.3550297693817046,
          -1.6177557993272025,
          -1.8260772103567133,
          -2.3046905029491973,
          -1.7235553968485784,
          -1.3761949647926441,
          -1.0218757432852499,
          -1.7791379054828047,
          -2.6566225729098747,
          1.0291146255100538,
          -3.0946663512600616,
          0.27246992250829416,
          -1.790007185391615,
          -2.4793830877712435,
          -1.887169023550592,
          -2.6430738121785367,
          -0.35738013666149104,
          -2.567193649556243,
          1.3794835128663605,
          4.525123553936599,
          4.7168851866997485,
          2.5950255919710714,
          -1.1366165372990895,
          1.9842254319975137,
          -2.42813914250391,
          -1.356175401140455,
          -1.6507557002712347,
          -0.9916773688297719,
          -1.4614838432330985,
          -2.109726124754256,
          -0.5491172599185631,
          -1.9852742550337772,
          4.386572613899495,
          -1.1101722919442192,
          3.377600294793803,
          -2.4344247833985975,
          3.593493867103376,
          -0.49643132082921165,
          -2.442010816809561,
          1.0393967728352196,
          0.02417263635028424,
          -2.5360436014647663,
          -1.4224961761214596,
          0.02417263635028424,
          -0.2612995615269693,
          -0.9108428135470139,
          2.094042485609155,
          -2.5645649137076534,
          -1.2386221853149895,
          -0.30842192358759535,
          -1.5155895125722452,
          -2.031298614678036,
          3.863104889734331,
          -0.10838299594407506,
          -0.6022552644160726,
          0.5177509655213378,
          -1.709069723149361,
          -0.27614522230500954,
          -0.7551372548019906,
          -1.3763064760423565,
          -0.5312260392016562,
          0.2371719517248242,
          -0.3026081729421197,
          -0.5065280021147444,
          -1.2055895512885526,
          -0.8204348260187276,
          0.2660650637100636,
          -0.29884421461537464,
          -0.8728012554034761,
          -1.7175667292646393,
          -1.5155528888804215,
          0.8864093485671759,
          -1.6766468747459675,
          -0.469434596614233,
          0.8710775895722578,
          -0.8644705676615119,
          -0.7144561741353854,
          -0.440688556949148,
          -2.7902709009224274,
          2.890414617654669,
          -1.1507276718314718,
          -0.8031773216690997,
          -1.947382401954025,
          -2.1629636170947375,
          -1.4723654985500971,
          -2.6893121402844185,
          0.9240011933509129,
          -1.747452880959841,
          -0.1457665336864952,
          -1.898358690244528,
          -2.669347847935736,
          -0.5221693744493322,
          -1.4548434949416957,
          -1.0283096381666232,
          2.3622397711804495,
          0.5436395862813667,
          -1.8689304368530775,
          1.171003621255902,
          0.6999040042938858,
          -1.704447142955154,
          -0.5920546990026867,
          0.44986497282074184,
          -0.32957451480891514,
          -1.6376693914418605,
          -1.4572609901665472,
          2.466070869617822,
          -1.2095953675949749,
          0.5254555899481653,
          0.07547147484810908,
          -1.584713439364368,
          -2.9080619282235425,
          -1.1765084408048725,
          -1.9119343526634283,
          0.9356036829290546,
          -0.3608660025696726,
          0.9679635861196801,
          4.699816675368836,
          -0.47233140556173436,
          -2.0056305322142776,
          1.5727472398500433,
          -0.9464089318334716,
          1.4686267276229215,
          0.501114745599442,
          -1.3537495043623868,
          -1.8434120476123383,
          -0.6537657414667472,
          0.8902655962892352,
          -2.816259125058932,
          -1.2235095886351692,
          -1.51278496051753,
          -0.9684779368006284,
          1.148705858265197,
          -1.0984469249325672,
          0.5022377972137839,
          -1.4812543999862997,
          -0.5435665341609955,
          -1.2909649366086215,
          -2.1628333074786084,
          -0.8354743294354066,
          -0.033148562461245104,
          -2.0149265692493197,
          1.7960332420843468,
          0.7846163460118226,
          0.32114376159707986,
          -2.1901371392226094,
          2.597137364064698,
          -1.6127967117375024,
          3.0260530289477496,
          -2.0657056457669625,
          -1.5210993374175874,
          -0.9258655178346515,
          -2.0743795323201724,
          0.7511849781136237,
          -1.7164833605229053,
          1.3199455730608427,
          -0.2996749088548942,
          -1.0601592783170934,
          -1.5793861632167496,
          -1.6924656514757932,
          -3.13317773279554,
          -0.03724623286297128,
          -0.08421121464129903,
          -0.7467746719958046,
          -0.1647082456687921,
          1.4022482201741076,
          0.46779897642367335,
          -1.337321684088963,
          0.08110278845448661,
          -1.377926545841368,
          5.031107844903642,
          -1.8983922147789347,
          0.5995552083481099,
          3.525204639447454,
          2.2683191496362327,
          0.9096299592015594,
          -1.0264189143478966,
          -1.0690904627080788,
          0.6556631320797401,
          -2.0237690194122604,
          2.1959209999050593,
          -1.9202674340983539,
          0.652126882933581,
          5.262718544641117,
          -0.6974112188432168,
          0.782033826036919,
          -0.20904323278860948,
          0.69984276524541,
          -2.0224335239758724,
          0.4712071639952836,
          -1.2604802866831224,
          1.8271454550885438,
          6.0833183286093115,
          -0.8508696332442776,
          -2.0825048372647568,
          -2.224336625502372,
          1.40142988506764,
          -2.7228295299586804,
          -1.608541766441803,
          1.6013054390496684,
          3.317048515490678,
          -0.8936287712527976,
          -1.0459539727090403,
          -0.7263218841932999,
          -2.9436481698922816,
          0.06221403756445163,
          -1.166386556396754,
          -0.5132483562854896,
          0.6525178740460718,
          2.2136234284814877,
          4.157689233042857,
          3.995264448657275,
          3.744144134343589,
          3.334036129265215,
          -0.6706922862361613,
          3.7210836024692724,
          -0.7220199150774411,
          -1.5037488884709533,
          -1.8208063443174316,
          -1.3092499530556858,
          -0.5828274996029217,
          1.8767430181001143,
          -2.3135721971896444,
          0.7099128201293099,
          -0.78126822777079,
          3.394927981868262,
          0.9032880273730479,
          -1.536580454217272,
          -1.6283452043117534,
          -1.702268481494211,
          -2.435285435228311,
          2.018654282616745,
          -0.31661555156393384,
          -0.8941954290264565,
          1.104760978472736,
          -0.19612740703368442,
          -1.3280200419065071,
          -1.8704463127127646,
          -0.7325588346573656,
          -2.4322104556325077,
          -1.063105151742825,
          -0.9018458559798206,
          -0.5690495861384954,
          -1.730386673282588,
          -2.1007718092553658,
          0.12062405251041704,
          -1.5280973319537643,
          -1.9108022973619898,
          -0.2103108960990883,
          -1.7943548127338862,
          -1.5361213058279384,
          -2.216000136727967,
          -1.4955985695299716,
          -2.5500589751698026,
          -1.0982262167206447,
          -1.2393277340386921,
          -0.8577092210584585,
          3.660395664513193,
          -2.660151441663604,
          4.225043041397306,
          0.41508078148570915,
          1.1880597387996008,
          2.7531891075881947,
          -0.2904984597290891,
          0.5136929486352003,
          1.8792188806685461,
          -1.6657745499794459,
          4.166293634806011,
          -0.5221693744493322,
          1.0434337104662186,
          -1.873099653497444,
          0.8500285353730027,
          -0.3318503843828148,
          0.27442997513218675,
          3.481276240454128,
          2.331775500646685,
          -0.07084590733890217,
          -1.2092837434063093,
          -1.3631427295039136,
          -2.450222781385806,
          -2.088476993478859,
          -1.8057549808143698,
          -3.3995837310824406,
          -1.6998225891375296,
          1.5209018222443884,
          0.7646308800896889,
          4.478609512834525,
          2.4661133198039704,
          -2.235490459928444,
          -0.8246614851720218,
          3.432450645076328,
          -0.48823623226826873,
          -2.081322355130963,
          0.1498940040555197,
          1.8973889528910974,
          -0.13683775308019483,
          0.4502592342354193,
          2.095768666277786,
          0.9153914685653902,
          0.5857264273779648,
          2.2333595333061376,
          -3.0450765877715416,
          -2.3291508714311786,
          0.4543220270451251,
          -1.6301207350897275,
          -1.4143229884606336,
          0.24435456870028222,
          3.210799648564411,
          -0.9304532954544277,
          5.150035753984848,
          5.004281707388852,
          -1.3148675759101836,
          -0.7597385878813312,
          -1.662837548741966,
          -1.8902303297831147,
          -1.5328467352522683,
          -1.2536233695640078,
          -1.2302352255235958,
          0.10461162581345522,
          0.5222047642496478,
          4.431045401922305,
          -1.1896884868417064,
          0.3826515107286246,
          -0.7773625634585363,
          -1.4952959189875177,
          1.6675267223983998,
          1.4852428780681364,
          4.356729544123439,
          -0.9108592533331862,
          0.18164272293418837,
          -1.8732582454237792,
          -1.6946786996734708,
          0.4358314317588751,
          0.4879910198583232,
          2.765858150220442,
          1.9540876681797292,
          -0.17613599599091642,
          0.4227931229385324,
          -1.6117359369821898,
          -1.041991552846554,
          -0.12021237473150599,
          -0.11140233801850702,
          -0.3443427862674371,
          0.6672750904822246,
          -1.2131974145350373,
          2.5136903101093653,
          1.184554504366619,
          -1.7553890311473137,
          -0.6992418306210522,
          -1.0580195579562375,
          2.311940378611575,
          -0.1368894817829303,
          -0.8741749815567238,
          -0.9304422088236274,
          -0.9840382097343727,
          -1.356430563078558,
          3.3966287287929484,
          -1.7688160662074726,
          0.2532494653975694,
          -0.562543296673326,
          0.13894980838009352,
          2.9951823246963127,
          2.3219296947796297,
          -1.4964895263633475,
          3.27436931493162,
          5.335536638163784,
          1.1970948667173475,
          -0.9325106706495218,
          -1.03480983580278,
          -2.0251481991515745,
          1.0657747825801045,
          -0.38574105649317136,
          -0.6253799907794828,
          1.5479900682861578,
          -0.9325106706495218,
          1.181020052840215,
          3.680927642400889,
          3.757014733272659,
          0.012415187357943398,
          -3.030569719031829,
          -0.9098410453161845,
          -1.5191912139342898,
          -0.9195814288618511,
          3.828456183828896,
          -1.1117133103932142,
          2.267337362057982,
          -1.5150721309734037,
          -1.3925033257613078,
          -1.2995846666732824,
          -0.1226615150275338,
          -1.8668753039071244,
          -1.5018729408205693,
          -0.5700160017381587,
          3.0398822705104616,
          -1.8005405433301183,
          -3.663231559968172,
          -1.4679455092351443,
          -1.0800614696303605,
          0.8055109936842497,
          -2.8202672391359043,
          -3.4529710337762123,
          -1.1110635172556051,
          -2.791897090464664,
          -0.6542529218710753,
          -1.231632835026547,
          -1.3092383176769784,
          -0.44699410320141053,
          -2.1147938594355313,
          -0.8486770478305612,
          -0.9409778444685284,
          -1.8320832439959558,
          -1.4789288509342475,
          -0.26031174767672044,
          0.7062856706652368,
          -0.9472312383775636,
          -1.8280677033103938,
          2.8968869857554753,
          4.209593201660837,
          -2.754870819905933,
          -1.5459459240384124,
          -1.8925052109960363,
          -1.7067784255245109,
          -1.6774539508660635,
          -0.45635185837174114,
          -1.3346043453735306,
          -0.32162950035436844,
          -1.5006475935961934,
          -1.459593817023981,
          -0.824334154486017,
          -0.6580875903276743,
          0.2864270143471927,
          -1.27961344589785,
          -0.37049705875550143,
          -1.2343513887207471,
          3.996300547145879,
          3.3395779158555357,
          5.384016484346952,
          0.21837706806185864,
          -2.306768848291025,
          -0.5021981388206939,
          -1.0068978534182271,
          -2.1476944439402628,
          -2.3968637435576943,
          2.709606964693456,
          1.7560435745437541,
          -0.9443973872998463,
          -1.1396430988151252,
          3.5578638142965207,
          3.8535198201214182,
          -0.885585894178223,
          -0.9829651653205783,
          -2.32012542127059,
          -1.2569492976214973,
          -1.7231498462043977,
          5.961074281238081,
          -0.9304306817837575,
          3.7923096640832363,
          2.533893924578384,
          2.4003469329064773,
          -1.7878372257776922,
          -0.2335289532416354,
          -1.886370281355142,
          -3.0007847223145747,
          -2.0888534256576934,
          1.0430639994862396,
          1.4753691607777768,
          -0.7167812722224332,
          -1.8241639760866635,
          -1.0939818264875383,
          -1.4173759806756017,
          -0.9227672156589167,
          -1.1044280464120815,
          0.06735268474735914,
          -0.7895365930463434,
          -0.07072149456798785,
          -1.8517630213186207,
          -1.8601271467736293,
          -0.08828355973957526,
          -0.25544103116343103,
          1.879380733984319,
          0.9116853878805045,
          0.10012379315177457,
          -0.6039439779725395,
          -2.929817585496705,
          0.19839714092277563,
          -0.4491867303360419,
          -0.7937960986538555,
          -0.6206510300666294,
          -1.4459240490094958,
          -2.336906125358006,
          -1.463382068040218,
          -1.2208847510985514,
          -1.1296546207459408,
          -0.17787330371714627,
          -0.6960752028433892,
          -1.3678339527436494,
          -2.3446882446890305,
          -1.5994355501742892,
          -0.6953135901672165,
          1.6229388520328973,
          2.7823998445336753,
          2.285874428736387,
          2.155550798796948,
          -0.2647829444104664,
          2.8276062488980167,
          0.6100656850450613,
          1.3174805042783129,
          2.7468007751696346,
          -2.252375407578722,
          0.7036343124900797,
          -0.0011837602491464947,
          -1.4829619080699723,
          -1.1075232058518307,
          -0.6971997960267916,
          -1.9568620208735579,
          -1.1054970278095255,
          -1.3264831935701509,
          -1.7849025600389345,
          -1.2811371791205037,
          -2.8860579727672393,
          -1.241834856815291,
          -0.15427203546753743,
          0.5668302283795722,
          3.163873829531568,
          5.04703122456476,
          1.2487075452916363,
          0.6273736799906456,
          0.07539853780510372,
          4.046423353988647,
          -2.094841489535945,
          1.7704705061504278,
          1.3428053485486433,
          -0.6281159028604071,
          2.700757100788002,
          -2.8964595824616737,
          -0.4890714865795583,
          -2.415360371635472,
          3.350597068739796,
          0.1178583818857713,
          -2.081831504077907,
          3.3833813768610845,
          -2.028868370344413,
          -1.9296895864420214,
          1.9624352875108126,
          -0.11473781767402247,
          -0.8976185323361064,
          -0.6162589382614432,
          -1.3398506344220267,
          -1.8605094581925605,
          -1.1256165151572635,
          -1.3471905127214157,
          -1.663466730138914,
          -1.7937172212243646,
          1.7116070792188418,
          0.68753078682102,
          2.359912655797251,
          3.4077455863709987,
          3.420163417355512,
          3.1704080433561836,
          4.189709436743141,
          0.8861883023723549,
          -1.2041336806401517,
          -2.433266038421998,
          4.396257729264007,
          -0.994345845054488,
          -1.6640786009656174,
          -0.6530120732992516,
          -0.7024160963306578,
          -1.6162721975405991,
          2.700067123399993,
          3.1332303142138063,
          2.623033645020911,
          -1.7234064226917918,
          -2.880024558039393,
          -1.8011679111545569,
          -1.6369871043498487,
          -1.8914809660644967,
          4.6189357801611655,
          4.050843042184679,
          4.352663051268991,
          5.122067061563875,
          3.9068164100335814,
          3.986678980914988,
          2.7852234093895096,
          0.9999800069643574,
          0.6799719491218117,
          0.014298306941483244,
          -3.1561527611479896,
          0.022755347441268937,
          0.022755347441268937,
          0.16215521835046506,
          1.8848249364406549,
          -1.6357883699260112,
          -1.4405368092396198,
          1.9595862552593766,
          -1.9643963626404641,
          -1.5973738646502849,
          -2.089446314970425,
          -1.8026658189060822,
          -1.2917710621025642,
          1.6122957977964254,
          -1.0597890934720624,
          4.601631831528845,
          4.450568176559052,
          5.210196579660406,
          5.77739976990329,
          0.20076562572775877,
          2.132612098958042,
          1.745996809434328,
          1.745996809434328,
          0.20076562572775877,
          0.34546684392774196,
          -1.5154226810918991,
          -1.6922378597241028,
          4.310681878249159,
          0.4692689472391083,
          2.324208231380986,
          0.938112123399802,
          1.184125244273473,
          -0.37430669765646324,
          1.0133098935057998,
          1.0103085340590081,
          0.787531520311339,
          -0.5858043284252908,
          -2.6432273139517277,
          0.7454678649645964,
          1.0437438961384278,
          4.839564142521277,
          2.2896581436047994,
          -1.302533341046244,
          -1.321249938741341,
          4.033258007856046,
          -0.9054653279761944,
          1.4077154542863606,
          1.819776761863795,
          -2.0266801412988698,
          0.40697399193667494,
          -0.17898853073046292,
          0.48476181187359374,
          0.26373780786601153,
          1.9490472897705733,
          -1.2617841821502722,
          0.14921514800553545,
          -0.21755040086465083,
          -0.7624724066787733,
          -0.9387029953969077,
          0.2794997792688242,
          -0.7588630483770614,
          -2.152795985798636,
          -1.5357814618078702,
          0.8290154285889052,
          -0.9817137056298609,
          0.0007320463538192152,
          -1.0590701782309835,
          -0.752901170878853,
          -2.517514521755164,
          -2.3199405171221916,
          -0.234714916647751,
          -0.2212072962441552,
          -0.6810305719934213,
          -1.342391133420062,
          0.9329099433229745,
          -0.33138598600913255,
          -1.3663419235685057,
          -1.0192775239661647,
          -0.5491172599185631,
          0.053066294991843184,
          -1.2567107324055815,
          5.259661506974291,
          -0.2965634305110322,
          -0.20192591787070086,
          -2.024602339850487,
          -1.4443686593541996,
          -0.9751839182365086,
          0.05452714640811971,
          1.452352453421725,
          0.8192739231873553,
          0.0769826168403747,
          -2.424113347680564,
          -1.0499396836036334,
          1.3593481661758238,
          -0.8437018248035688,
          -0.40543864743120384,
          0.6101227140817003,
          0.12017397103911995,
          -1.0084097097668354,
          1.2229974720456427,
          -1.1031682937994691,
          -1.4083418571679767,
          2.575630306021976,
          -0.15864834545483472,
          2.9154589235875883,
          0.014968192928109343,
          1.4088806725999037,
          0.8082967149746658,
          0.44649458027625544,
          -1.2795600059785808,
          2.8272600811544857,
          -0.4277133637975981,
          -0.8837451046928396,
          -0.23093094143364593,
          -0.5371447045574769,
          1.3880784370526689,
          -1.0597890934720624,
          0.8795324448096462,
          1.4764147298242953,
          2.7650016272370346,
          5.637075618753223,
          3.5002357640189063,
          -1.5104184002125944,
          -1.2334843591545104,
          -0.752940502921876,
          0.0851118732430906,
          0.3205109851451506,
          -0.9120762581936716,
          -0.2785807002941416,
          3.0884336247674806,
          4.143247777999698,
          2.3997163163978623,
          3.1769579298468993,
          -0.6044283440694053,
          5.574219688203972,
          5.333727896640729,
          -0.1703279404176014,
          -1.4427210612478674,
          -1.3399879370214878,
          -1.3399879370214878,
          -1.0802458985701942,
          3.9166593931872025,
          1.1333539879918564,
          3.131924063360543,
          -1.3399879370214878,
          3.1351717246654633,
          0.05296106361417013,
          3.824228685300257,
          3.313960361031421,
          0.6376433975357705,
          -1.367827649451647,
          1.479594968952715,
          0.5075398114106479,
          4.025163763893029,
          3.397634175449696,
          3.3025291157013457,
          2.8311288224741085,
          0.4298703987209282,
          2.6526038200998996,
          1.9894395187425336,
          -2.4451348377062505,
          -1.9828992824413245,
          -2.9088138803783665,
          4.9107130097470995,
          -0.6498036654322973,
          -1.5303444494937988,
          -2.7153897454154525,
          -2.0687544157967643,
          -2.254254299700383,
          -2.010052679611554,
          -2.1099099573153457,
          -2.2236326075156008,
          -2.3132103064829774,
          -0.9502346814249348,
          -2.1364027095393245,
          -1.0065335489460203,
          -0.5635117535932601,
          -0.5452437114590936,
          -2.2698090988609714,
          -1.201633613792689,
          -1.311771496073855,
          0.11607867116484567,
          -1.1573319711835892,
          2.8442612084686387,
          4.816971047050104,
          5.388502137886452,
          4.902234021478256,
          0.1780400797411083,
          3.129629623900941,
          -2.6715653444756358,
          -1.4732881003033527,
          1.2109456547170134,
          -0.6283268472049909,
          -1.8232159852586587,
          -2.7616267192664945,
          -0.8038412941572941,
          3.129629623900941,
          1.2775355899569307,
          -3.499987153766302,
          1.3589483043899577,
          1.73855544628032,
          -0.22573449118776823,
          -2.274067346388714,
          -2.7222920271687396,
          -0.5665714728194738,
          -0.7245547433332931,
          -1.8992419894110664,
          -2.8397395979008886,
          -2.0779173370881687,
          -0.8771721526876274,
          -0.40668386778986626,
          -2.4626824440774833,
          -0.9502346814249348,
          -0.8848052512508227,
          -1.4759715630515928,
          1.0340563390737685,
          3.9266530882283885,
          1.3504189491626402,
          0.4022811443833142,
          -0.7883433217568947,
          2.027965414020065,
          2.040217954687528,
          0.8979910073856009,
          -1.370362281983277,
          2.195947876785933,
          -0.32571511074389536,
          2.1667905160060235,
          -0.1084996387962517,
          0.5555801926793539,
          2.685527235091845,
          2.0629718502740517,
          1.932778973012088,
          0.5823874663723918,
          1.4280076694700536,
          2.2279502077988336,
          2.014111723724461,
          -1.7548260472472803,
          3.145271157736504,
          1.8851878311394743,
          0.5461741363291331,
          2.3563966282033193,
          0.8590333940405673,
          1.5750036225782391,
          -1.4254079176047514,
          0.1322950570473506,
          1.6585341861753566,
          2.6330801007313855,
          1.2919858967101805,
          1.530773141237545,
          1.803011284665709,
          0.06706942676045816,
          1.8045403505981696,
          1.3745874347744307,
          -0.08395614302769241,
          4.049749172711461,
          -2.127550029030418,
          0.5273523375187058,
          -3.0914737893276936,
          -0.9291176379098611,
          -0.4015548957102342,
          1.1987811941730049,
          -1.4489486989802907,
          0.42164195837834406,
          -1.03480983580278,
          -0.6337420572126492,
          -2.1834965098510484,
          -2.1758672952105025,
          -2.824356856047121,
          -1.5657851439064703,
          2.4888524869873825,
          1.7069952938522626,
          -1.7699525413624666,
          2.0944287535894537,
          -2.538940561074888,
          1.775756257601299,
          -1.3673813815784805,
          -2.321719004377389,
          -0.07145510003716138,
          -0.1295351565608203,
          0.01705652057736766,
          -1.691861566206562,
          0.24788898634041903,
          -3.371949005692061,
          1.8109439725347132,
          -2.9563167102804084,
          -0.9326576513945374,
          1.5453563721904238,
          2.0175676302543053,
          -0.9777384825203526,
          -1.8088045851480514,
          -0.19764938933701665,
          -1.7360045350795767,
          3.6842201989297236,
          -0.6847094485509612,
          -0.26031174767672044,
          1.5422988888047613,
          0.5930026646121627,
          -1.7912959670136785,
          3.118021498922633,
          3.3580144918752355,
          3.5099309650882837,
          -0.1946192401616196,
          2.4805279637902253,
          4.5177768109140075,
          6.091867137337173,
          -1.3864258127587972,
          -1.6590894291934806,
          -0.8451615089399585,
          -1.0417192548785021,
          -2.212632844114007,
          3.9047624185662833,
          2.357658297152019,
          0.03992601661587214,
          -1.1004953247578728,
          -1.3293394373721144,
          2.4179234417138873,
          -1.8494158071698898,
          0.6194589894389145,
          0.7007141496868081,
          -0.22131099576619323,
          4.069805840259911,
          -1.6915198589429599,
          -1.6480326701342511,
          -1.6266757262409492,
          5.070598490109718,
          -1.2012069430765238,
          -0.20161483159628774,
          2.212377949900126,
          -2.4649248397008896,
          -1.9249814682117186,
          -2.4080164096721757,
          -0.3981606546944907,
          -1.1481127843950467,
          -1.2373304643909686,
          -1.4628181365509456,
          -2.6429915346372566,
          1.9533017033003968,
          -2.119572558061232,
          -1.0140421857817634,
          -1.843089415576858,
          -0.17434341580478235,
          -1.8079063743752273,
          -1.0770098667738885,
          -1.4905481769240272,
          -1.298078489717667,
          2.3650341880945853,
          2.8056902680785307,
          0.48472351061886226,
          0.8549288236322978,
          -1.5013922149508778,
          -1.3673565615888008,
          -1.578662330929086,
          1.9460913874910186,
          0.0317440307360497,
          3.5189870964878103,
          -0.12194207361813174,
          -0.864382642719711,
          -0.34316401580846084,
          0.14879956982851703,
          -0.7021345155769464,
          2.526890730193046,
          -1.5907428957012462,
          -0.04081922184563158,
          0.7899298288307419,
          -0.9108592533331862,
          0.5345492960066741,
          1.711864051424775,
          0.329137238786949,
          1.1931202253106954,
          1.0958689907088608,
          1.2545681987114243,
          -1.6454912421714354,
          0.06998303323160376,
          -0.6562708849308344,
          -0.8025844842561621,
          1.0288670632622716,
          1.5503148149597892,
          0.752254414988879,
          -1.3594752795046885,
          3.018000391387946,
          1.071295741294713,
          3.2217287372984575,
          -0.09309152149855185,
          -1.2985779973467584,
          3.218628062553704,
          2.132612098958042,
          -2.344673001682558,
          0.4052933124022655,
          -0.5726023021440048,
          -0.8831651240421452,
          0.286499287901839,
          -1.1602891468274352,
          0.7158496154657069,
          3.510753435619998,
          -0.2064659721466547,
          0.13893639159218524,
          -1.8058188159171584,
          -1.769051266009556,
          0.8116576480875323,
          0.3375246919062723,
          -0.010394775910613633,
          -0.8944573785036692,
          0.21387473617623023,
          0.23100452434814034,
          2.030878227187983,
          -2.2995204704233054,
          2.4641111195466676,
          2.119217861721358,
          0.03900046465196419,
          -0.653875924082231,
          -2.50862721888072,
          0.8123565472634452,
          -1.5787530557618952,
          0.21465726009403874,
          -1.8370165087569894,
          0.9229565319598527,
          5.656350818133164,
          1.275879610994448,
          -0.5087977010750422,
          4.278428722085262,
          0.6992100078765244,
          -2.3841364242986836,
          -1.7777308426945015,
          -1.7803898860126566,
          -0.41675396826810757,
          -1.1894418289754765,
          -1.3168814365839525,
          -1.3415980593024444,
          -1.9057076077566897,
          -0.9399967293329488,
          -1.6808685152004788,
          -1.1904065555534986,
          -1.4119055620195076,
          -1.9190223555873611,
          -1.6818203902001196,
          -1.4359027004171427,
          -2.0112309024792463,
          0.09121406890156449,
          0.5055869622129658,
          -2.3991249477716163,
          -1.4878005371777192,
          0.09012877718788223,
          0.3101465274982117,
          -1.4468211063157421,
          -1.8879364766330253,
          -0.4308099759040474,
          1.9127398992549007,
          -0.9340739420096675,
          -0.09245424702742876,
          -1.017041578089579,
          -1.4337106390703653,
          -1.1513085587600569,
          -0.3505327260134426,
          4.8917286124850445,
          -2.262035465700968,
          -1.1646239535239467,
          -1.4194876518446784,
          -2.1789826747725147,
          -1.7048467653411048,
          0.08723516303489694,
          -1.5513713971895928,
          -1.130591932974704,
          -2.0086014603024744,
          -1.9719849087291317,
          -0.7603552441700443,
          -1.70818459362055,
          -1.4526447883764573,
          1.0936536290838428,
          4.707297316935379,
          4.066416551661849,
          0.8449080453819647,
          2.0175676302543053,
          -0.5221029502555893,
          -1.081903018351178,
          0.9363603495410876,
          -1.6901930633720708,
          -0.06734437755377447,
          3.1284096100847707,
          -0.013372924890362422,
          0.9315488370480723,
          -1.1078988413689925,
          0.9836845171357773,
          -0.6216384167307956,
          4.176384153224833,
          -0.8174650647916103,
          -0.9844049327521097,
          -1.9340208521383058,
          -0.9150586306583649,
          -1.9024375077661253,
          -1.5991191899978698,
          -0.3979122673442814,
          3.189010773438727,
          -1.3604505665769018,
          -0.7141034047337284,
          -1.591493898603845,
          -0.26981790114743376,
          -0.32057160195909234,
          -0.9748467556979394,
          -0.6346112423952778,
          -1.4852467869909065,
          -0.648836141309312,
          -0.6875208972982046,
          -0.5235210522524472,
          -1.299764417933025,
          -0.3937474251797398,
          3.492407798994575,
          2.576357723271178,
          -1.2550502056471342,
          3.8527580670263846,
          -1.3963654042352829,
          -1.5970419948490964,
          -1.6886328758157647,
          -1.3774550293604095,
          -1.369072952462099,
          -2.0826181995813386,
          -1.1954018276570264,
          3.4027511525664957,
          -1.9587229941745221,
          -2.6463148412916926,
          2.3353127950974426,
          -2.345824751081745,
          1.3957426239486517,
          0.30917657842898233,
          0.30917657842898233,
          0.04825874689567975,
          -1.0823520722647515,
          3.049088181041765,
          -2.097576909584194,
          0.2531651111744019,
          -0.15427203546753743,
          -0.4124018197799253,
          2.8948856676427672,
          0.9925700176837294,
          -0.10380387445274515,
          1.8938195243268818,
          0.9398182903443818,
          -2.2190070001920614,
          -0.40289995088326624,
          0.4855598419464194,
          -1.6946786996734708,
          4.453263833371459,
          -1.7698042251004997,
          -1.2917710621025642,
          -1.8456441547473605,
          0.09262464006245301,
          -1.8537718049763503,
          -0.3241240622174617,
          5.6990303048774305,
          2.381784988233928,
          -1.560910236047325,
          -0.2799174074815645,
          -0.5542550572699034,
          -0.6637454999146561,
          -0.3292698306096533,
          0.6663435469489152,
          -0.8145720543150368,
          0.6939265197491373,
          1.4162075885952456,
          0.5778186477553652,
          -1.258474178901717,
          -0.18772365879072345,
          -0.8836013757068105,
          -1.6875506785986965,
          1.5211340327985512,
          0.21959081948294687,
          0.2885020536256091,
          -1.4926217671802808,
          -0.21175692447558028,
          -0.17581020496163352,
          -0.8875625801717624,
          -1.255621986620697,
          -1.226936160428377,
          4.6189357801611655,
          1.3552239026426225,
          1.9336164093535575,
          0.3436840728473236,
          -0.5690376399407588,
          -1.8919920103002243,
          -0.5841890549176636,
          0.3327699618999953,
          -1.917555081893607,
          -1.2392356281844932,
          -0.09546520325791769,
          0.5577786585832482,
          3.002801573904522,
          -0.5753522125886535,
          4.161022525837933,
          -1.9988770057703384,
          3.74689098652897,
          2.2244782603334077,
          -2.0601769600584996,
          -0.7651747940113184,
          -0.8818233752987547,
          2.200828587032446,
          -0.5335105742105527,
          -0.5913765417068712,
          -0.8686121365386255,
          3.1269291911696295,
          1.5727472398500433,
          1.8241788630931564,
          0.9487631695800605,
          -0.7979632686424223,
          -1.5274385093734053,
          -0.04031006817489472,
          -1.4688940844932505,
          -1.5189484652220895,
          -0.3336390303841255,
          -0.2874184653253743,
          1.9173914860919659,
          4.217793257754893,
          0.8123565472634452,
          -2.026822876035975,
          -0.9888603025879962,
          1.3505978175446574,
          1.3505978175446574,
          -0.22448253695649253,
          -1.5599823753878832,
          -0.9445110188851525,
          -0.9687374941369978,
          -1.947382401954025,
          3.2626195808960086,
          3.3357502012362756,
          -0.08400104548677063,
          -1.835301661847436,
          -1.0147768860330932,
          0.6805879787852318,
          -0.9288952404986105,
          -0.9673631567290877,
          4.168363339147136,
          -0.8950461905575409,
          -1.6554978350332137,
          -0.6736705457075534,
          -1.5694794034452264,
          -1.6619836307825169,
          -0.1588995810750427,
          0.6637508483382956,
          -0.8307561706234643,
          -2.283315635946638,
          0.8752453390642222,
          -2.4277401058841868,
          -1.422406598148055,
          -1.103766214033281,
          1.5650671095135893,
          -1.0895612371376286,
          -1.1687147925779513,
          -0.9946974720841741,
          0.7352426388393157,
          0.056850559292937454,
          -2.3649098795794234,
          4.9047511308781395,
          -2.8030403909571473,
          -2.252562080818784,
          -1.8959245730757286,
          -2.091751605201151,
          -2.5083171311632477,
          -1.0932669094952763,
          0.23002712834864808,
          -1.7664024000158312,
          0.6845546448708266,
          -0.9024606571237705,
          -0.47940453613652795,
          -0.7455458630228236,
          -0.9013326790547885,
          -0.7150579071819947,
          5.521484025398485,
          4.330780758381722,
          1.05075177723107,
          -1.6734809168327207,
          4.236594177348255,
          -0.2745021491914576,
          4.055818049656476,
          2.13576691328172,
          -0.8330021081673898,
          -1.8279298926842624,
          -1.746209578146318,
          -1.42927480167393,
          -1.8043356480433586,
          -0.03892607223898097,
          -1.3609492642096948,
          0.4479854069546497,
          -1.688196619742153,
          -2.260555498082257,
          -1.6032958665289632,
          -0.5719868279724867,
          0.2268062184392587,
          3.00074641824671,
          5.262058618140631,
          2.885869948160054,
          -0.6661581305866554,
          4.647416850813504,
          -2.3259805083008875,
          -0.8749418351069355,
          3.4358447536432437,
          -0.18592056996047976,
          -1.325257796141949,
          -1.6454826504708158,
          -2.274363772769267,
          -1.1375489854458367,
          -0.3059464908211037,
          -0.26321036146483595,
          0.3682343908784771,
          -0.7749919598416077,
          -0.17119199961990825,
          -0.06981557094042584,
          -1.2072588326020268,
          -0.6241021127308292,
          5.419874741023521,
          -1.5972222455784253,
          -0.36389517538093646,
          -0.3445021725092963,
          -1.6165697131635013,
          -1.1021594097961736,
          -1.2273516660222628,
          -2.0452140986874636,
          2.018654282616745,
          0.42982899271672503,
          0.6052682794470795,
          -0.44235378658709695,
          0.022947141944435895,
          0.0015944771473512026,
          -1.8238846076569724,
          2.23175416819827,
          0.7642748141635702,
          -0.8433282919666281,
          -1.323087579081339,
          -1.329892934993297,
          -1.2267220894847888,
          -2.149994931085679,
          -1.2163920877132437,
          3.4634847114667835,
          0.4539412166357163,
          -3.0613383031984127,
          0.22729614518138547,
          -1.1344768325631749,
          -3.0613383031984127,
          -0.7072963438992372,
          0.3418433804143052,
          -1.5671182591234907,
          -0.8696666900612375,
          -1.5795590761486473,
          -0.8772502462786016,
          3.5825006834571185,
          -2.22683427806147,
          -0.20126115331103736,
          -1.667521519112384,
          -1.1676869386410889,
          -0.09594405636152673,
          -2.382066424984603,
          -0.12872264422547536,
          -1.5822498519629953,
          -1.6387434617760293,
          -2.0251481991515745,
          -0.6993509873931982,
          -1.8764670933076548,
          0.3544325608968114,
          0.5717167306430488,
          3.101964714448181,
          -0.5188294035461434,
          -1.0126741219338111,
          -0.7097641046725912,
          -0.7276269751785633,
          3.363462492417516,
          2.9752226817107954,
          -0.8219366599034365,
          2.2089628716223113,
          2.7850640053433673,
          0.29814635203571427,
          1.8664884741638668,
          4.140411488353789,
          4.133048817017731,
          0.5282838272987561,
          2.6055721017645643,
          -0.2647829444104664,
          -0.17832420764440568,
          -1.9380303715726235,
          2.903905039029223,
          3.6496770215064647,
          -0.012929923744355042,
          0.9703843368446685,
          4.840030364876464,
          -2.3821204287662265,
          -1.544168977234578,
          -1.3888697809804074,
          -1.954261376586501,
          -1.5849819030822285,
          2.446695535789583,
          -1.3666480483746375,
          -0.26762453170465006,
          0.40230341805213793,
          2.3745705662041585,
          5.050054496026234,
          -0.9053180429942427,
          -1.2698419846443334,
          0.5398747178532833,
          -0.947957695495489,
          -3.032449981392289,
          -1.1121517547583077,
          1.0543642222548262,
          -2.1748260590504622,
          0.8783391882405452,
          0.8449080453819647,
          -0.28380427510568845,
          -1.8083647450254496,
          -3.2024704591966744,
          3.3215521054488204,
          0.8539122759964455,
          -1.05270798354319,
          -1.6233526075106732,
          -1.4951842716237838,
          1.7519453777759293,
          -0.8298967446281688,
          -2.1873335437017487,
          -0.24944080664634907,
          1.1074723601112284,
          -2.0859355414082112,
          -2.412511518031864,
          -1.2499990583699137,
          1.291866958177363,
          -1.4808604861756576,
          -2.0144429700235,
          -0.541348129667004,
          -1.653405800238842,
          -1.431791700304573,
          -0.987135902433631,
          1.1655411567729181,
          3.00023568586688,
          0.15000872558749,
          -0.5219177664341916,
          3.047428758666203,
          0.8524577565344752,
          -1.8419708771379106,
          -1.4212505387436192,
          -1.5990912760966645,
          -0.092452317029283,
          0.7589239174389381,
          -0.3886175367629273,
          -0.48869129923344323,
          0.18601744652391822,
          -0.5767423202391148,
          -1.0445259856521198,
          -1.410342501775071,
          -0.9467174638564452,
          -1.5570907577492823,
          -2.0316565223762746,
          -1.5050207141773984,
          2.0330414338414102,
          2.997241190313892,
          -1.1131903712057192,
          3.4143457476927668,
          5.320867729182727,
          4.085991435509485,
          2.127442535834886,
          4.947269754284722,
          0.47261979243050634,
          -2.2016868255719313,
          0.4316718530586404,
          -1.1131903712057192,
          -1.6057702396471831,
          0.8312197050104071,
          -1.7642479233188497,
          -1.1590732070276357,
          4.081447099437762,
          -1.1266837590924168,
          -1.2919547680535048,
          -1.7723311723076085,
          0.021900563903480493,
          -1.8333368443589522,
          -1.7602758888628416,
          -1.8693460615922184,
          -2.046542277096345,
          -1.0561390468606324,
          1.1770516789703707,
          -1.8762990960288082,
          -2.425224032256408,
          -0.12210277573933563,
          -1.626006632578299,
          -1.8445494912080067,
          -0.3033082971030343,
          -1.2048764587975174,
          -1.8182765975060036,
          -1.4422094887527557,
          -1.0947009976647613,
          -1.9236465210710891,
          0.06349215750229667,
          -0.7967643032374762,
          -1.3089600393569711,
          0.5354649061742405,
          -1.1538421770428808,
          -1.1326586912829248,
          3.105698982407421,
          -0.5655314564562374,
          1.6711847582607378,
          -1.6903592808965608,
          -0.17282411226062372,
          -0.15342344242621897,
          -1.1213935734132467,
          -0.356011489203239,
          4.26439326344587,
          -0.9702087331231132,
          -1.4795207011403098,
          -0.019163938022135556,
          -1.6262673095858822,
          -1.0729349066364666,
          0.6594213427915606,
          4.066995385985658,
          -1.7593947139165298,
          -0.6148631774543111,
          -0.5328443733186653,
          2.195131016648979,
          4.211073384228149,
          -2.0951936831935845,
          -1.712677312219174,
          -1.3176226052793814,
          -1.2398389440352917,
          -0.6365159443123228,
          -1.8680718365870286,
          -0.20774898984439572,
          4.663158190213198,
          -0.7172902492876063,
          1.41263753621151,
          -0.05348159629165148,
          0.12258449104649241,
          -0.6930082747630667,
          -1.6842462616801204,
          -0.9997143462304252,
          -0.9925277416519349,
          -0.4055455246851505,
          -0.7943307030855619,
          -1.4179766882023688,
          -1.5077618691738766,
          -0.11864752625193804,
          0.06513251514330244,
          0.44790618060021975,
          -0.5905352698295534,
          -0.6656940772015759,
          -0.12568353651020378,
          -0.2968239783275757,
          -0.3020850369503308,
          -0.44315387676607565,
          -0.8497568273164443,
          1.5069037952476543,
          0.4803661333128787,
          -0.6970804646138732,
          -0.10347402499997042,
          0.4261184411829135,
          1.7181988956708982,
          -0.14880872420562788,
          -0.860896176018405,
          -0.2118665594898956,
          -1.207440562477614,
          -0.24447286527723017,
          -0.11108361445809375,
          0.43318289130716564,
          -0.4666659930456571,
          -1.84135076296425,
          -1.0214066744382935,
          -0.497588488086521,
          -0.6844849178178244,
          -1.669702850008825,
          1.943527833405257,
          -2.590401210503967,
          -0.9832888022778714,
          -1.51024504564875,
          -1.5772672834448827,
          -1.3747547479445201,
          -1.200195319866402,
          -2.5500589751698026,
          -1.560910236047325,
          -1.8902776392732583,
          1.6587543910014162,
          2.793143587037334,
          3.393669730358819,
          -0.30781971693868015,
          -0.5170085720229922,
          -1.9380674914976461,
          -0.8915763547993785,
          -0.9886668262046708,
          -0.5696178874425262,
          0.8795324448096462,
          -1.1447334158703661,
          -2.0065454067291433,
          2.820574209762174,
          4.028986191210216,
          1.7372253796499766,
          1.5655853810053775,
          0.07802122878736915,
          -1.8274876886852283,
          -1.9502075389529863,
          -1.735406529644579,
          -1.8699631356031983,
          -0.5644354650111929,
          -2.006112138560553,
          -1.7634140784138805,
          -1.8723008941323516,
          -1.8639932204222431,
          -2.1058975606514685,
          2.957539714316919,
          -1.923281220062647,
          -1.729194502848708,
          -0.33946039336051026,
          -1.4817947434057146,
          -1.3648272900680065,
          1.6184380633196076,
          0.6731669759445253,
          -1.3981525797114394,
          1.489770759858214,
          1.0157432689846013,
          -1.0568509529743557,
          -1.751824963493271,
          -1.242195840460267,
          -1.9336938727708395,
          -1.7598217040333755,
          -1.4555523482943338,
          -2.1082944798688454,
          -2.0606660439063944,
          -1.4904194189397006,
          -2.073494506413842,
          -3.99375471846285,
          -1.7804503009224828,
          0.41880137678603657,
          4.0742528668893545,
          -1.6540996021001366,
          -0.8706935586305722,
          -1.231104530128857,
          -0.07788453537429932,
          -2.443401395671396,
          -0.0762566035362829,
          -2.1318590249117166,
          -0.16461671372417544,
          -1.7771222855258433,
          -2.2929023354570384,
          -1.2277075421191304,
          -2.4270031251579995,
          -1.0198781946837479,
          -0.6385744256983873,
          -0.6162589382614432,
          -1.5903114999670274,
          -1.1226867924008355,
          -0.7780117610925482,
          -1.241834856815291,
          -0.4187722487021979,
          -0.5887610453578064,
          -1.425515750569963,
          -1.9236465210710891,
          -0.8321122702871238,
          -0.7103155395647771,
          -0.45457897450550916,
          -0.5006469673618129,
          -1.3433860165170097,
          -0.5586881735072374,
          0.7183670596719594,
          -0.8757146430848199,
          -1.0684891129569067,
          -0.3791907206345889,
          -0.5255270518176562,
          -0.4899308370179325,
          -0.15972671026188628,
          4.813777021504077,
          -0.8690009426865841,
          3.3215521054488204,
          -2.5792042125307075,
          1.5603981597326737,
          0.8888968989143606,
          -0.47690770582583464,
          -1.3173980164012022,
          -0.4962570470088788,
          0.3375764127658352,
          2.148755017920206,
          0.5205896223390911,
          0.0023903786712637766,
          1.4438543702229798,
          -1.7722920756714378,
          -0.21138765775075274,
          0.9097158032319768,
          4.844601565033674,
          5.666384156661312,
          -1.941710896705662,
          -2.1065509824092152,
          1.140796258083531,
          0.2310346378694849,
          0.4256175781974637,
          -1.5657114923930808,
          -1.5657114923930808,
          4.244480994355994,
          5.176708744973616,
          -0.8596027093370098,
          -1.0270738870476315,
          0.3751242769202252,
          0.051811371512324275,
          4.582553845204488,
          0.5168944033678449,
          0.06057426972990721,
          -1.7784927255694205,
          5.40817404101242,
          2.532775701991875,
          -1.5302866131478015,
          -1.0610339222842111,
          -1.094773638052919,
          -0.9227741339323368,
          -0.9605533109182792,
          -2.132240077056639,
          -1.6689001793002782,
          -1.4351673016485869,
          -0.7169772246162475,
          -0.9568264963416663,
          -0.9416875707314999,
          -0.4133385047052849,
          0.16883070258110033,
          1.4322493420169786,
          -0.7813213297476472,
          -1.1271281147595307,
          0.652459590839004,
          -0.6927403014042207,
          -0.673287822923073,
          -1.1414799926170118,
          -1.4892770702646905,
          -0.3553585485210677,
          1.829448716580516,
          3.656077271822228,
          0.726179940162256,
          -1.8969714198549825,
          -0.41939395144301,
          -1.2730663318838364,
          0.10397499296520893,
          2.0964836415896615,
          -0.8776788935290594,
          2.5299097893625837,
          1.0082003519061753,
          -1.8902776392732583,
          -0.42207825344761135,
          2.109005714349948,
          -2.371561218751932,
          -1.044438834763485,
          -1.2311316155798773,
          -1.177697080054639,
          -1.0345327312064312,
          -2.723466640316102,
          -1.7104420113557288,
          -1.9914059300228169,
          -0.6226927475906399,
          -1.0468527623234298,
          -1.290024838233274,
          0.12309112973266186,
          4.652403689691263,
          -0.40462364134067375,
          0.4430017973536218,
          0.786922426547406,
          -0.5605651851159854,
          -0.1284380924329544,
          -0.5314028806277056,
          -1.023829088862141,
          3.1748797341320345,
          3.859538766764742,
          2.602623133165773,
          0.15833263461928054,
          -0.7710403655798258,
          -0.49954195302792964,
          -1.293807460560101,
          -0.3580542688912647,
          -0.8371847600040481,
          0.23327622655162367,
          -0.0885213858559192,
          -0.6084691009396391,
          3.8798628593031754,
          -1.6480835900823732,
          -0.07920628817761222,
          0.18122554674263436,
          -0.7235894288501381,
          0.380676813936298,
          7.226544609014921,
          3.401539713522078,
          -1.4159279091453278,
          -1.9127960305645075,
          -2.0174373591629937,
          -0.8956325749527951,
          -2.260349604311189,
          -1.940733736119526,
          -1.4539395308420222,
          -1.9899331345222502,
          0.556360889495833,
          1.3655741274589217,
          -0.6778354788931367,
          1.4872586279570363,
          -1.4237008451336208,
          -1.2748104198497434,
          -2.5524611671940143,
          -1.7375662708101338,
          0.8903585804759294,
          -1.3514066895790255,
          3.6734951616390212,
          0.23893979548550714,
          -1.8009380597154063,
          -0.6930082747630667,
          -1.1302346153383853,
          1.0424609969554546,
          -0.3854930285215779,
          0.48080268984702146,
          0.3696015150662237,
          -0.24312431299061182,
          -0.3142989666133031,
          -2.1229905425409297,
          -1.7729246995643375,
          -1.6173696754713012,
          0.23810845387496757,
          -0.48339166999374195,
          -1.72737115518497,
          -0.10198804553304779,
          0.5055144803084022,
          -0.7131430817527246,
          -0.8951228201123644,
          -1.0597890934720624,
          0.36743215471166585,
          -0.3275524799958207,
          -0.1539229033512914,
          -1.0079751959068282,
          1.3312267508392608,
          0.14879178398842127,
          2.593757649392421,
          5.280198100270835,
          2.6125401236233987,
          -1.242918729466782,
          2.883460748025333,
          -0.8454958932986626,
          2.12556317963689,
          -1.2848447129982994,
          -2.333529043949485,
          -2.38746084555128,
          0.47081022186238475,
          -1.8703654091300104,
          -2.6048645631439267,
          -1.524958547998182,
          -1.931135213046159,
          0.15925914311312794,
          -0.33685427467472656,
          -1.7238132206500625,
          -0.1452317393293588,
          -1.1513324744387923,
          0.5329054203221858,
          -1.9612249102027282,
          -1.2399292163761018,
          -0.921352042534897,
          -0.29344934812890416,
          -0.7878251517408998,
          -1.9817641589624007,
          -1.7244851503949106,
          3.925517286069739,
          1.594293129963459,
          3.1863353179970493,
          0.9775969311537857,
          3.5867432508255224,
          2.6477450497993624,
          5.270217759644972,
          -1.7082485977385513,
          -2.199803980460222,
          -0.0657808177900545,
          -0.8368706284559648,
          -0.7854677175050844,
          -0.2091640274211789,
          -1.7085754585994821,
          -0.2091640274211789,
          -1.3997320777127071,
          -1.0909590554136066,
          4.169466471505722,
          -1.3684630603624213,
          -1.9324283671873033,
          0.11061706995923666,
          -1.8318071541194485,
          -0.9598571387641505,
          -0.20192591787070086,
          -2.322482104084647,
          1.2956242638589621,
          2.4399389680424695,
          -0.003429977050849897,
          1.9689878707923258,
          -1.8110394558681608,
          -1.2760228016973987,
          1.751264609190848,
          0.047354842508028926,
          -1.4262864308855527,
          0.8119245867926466,
          -0.33516147313772593,
          -0.2885419144058618,
          -1.9135217129716564,
          -0.44506574689565515,
          -0.38980135923955844,
          -1.0965604946490617,
          2.8632445586955475,
          -1.0064366536641474,
          -1.6679956265557816,
          5.03707209719379,
          2.30725166878942,
          0.9817234747421207,
          3.023290887104781,
          4.117010734472985,
          4.113361444554916,
          -1.7640887933065448,
          0.152003973011547,
          1.010057474777607,
          -0.09826825918659805,
          0.7454678649645964,
          -0.0791291396877662,
          -0.5869929672815049,
          0.0613765675864167,
          -1.2493185544417869,
          -1.1625329569665972,
          -0.5446464357178717,
          -0.5257359411169934,
          -0.6973969041449737,
          -0.9719600477668983,
          -1.7113924337417712,
          0.6626099536052512,
          0.37990667046115667,
          4.353172762386837,
          -1.7505111883218227,
          -2.6082819147952403,
          -0.7744430956484712,
          -0.2904984597290891,
          0.19347918400083816,
          -1.500564841771932,
          -1.3802231760043517,
          -2.520149113309609,
          -0.6742590697690053,
          -1.2280633296074583,
          0.42297421259544393,
          0.19347918400083816,
          -1.613989367967244,
          0.24592070134156985,
          -0.932024120344957,
          -2.0291882153646807,
          3.0861648235299453,
          3.2896302356289477,
          -0.8430280926050688,
          -1.0191080260121503,
          -1.258131171944331,
          -1.4293847145323813,
          -1.2280633296074583,
          -0.8918518314853021,
          -1.1625329569665972,
          0.33200940246639554,
          -1.4006157751179205,
          0.4749551626010547,
          -0.32853831112165727,
          1.231723413522921,
          1.8982351464781346,
          -0.8272044736771343,
          -1.1182953375910354,
          -1.2140979999974257,
          1.4102809155728921,
          1.1162558244140923,
          -0.9625261685035053,
          -0.22774342883917095,
          4.820483671447008,
          2.806672678167791,
          -0.8910597762575773,
          -1.419710022543955,
          -0.6373053624231049,
          2.667811075962947,
          1.3709647550842816,
          -0.8509927620370409,
          -1.1349369532310423,
          0.3083139857621754,
          -1.4183221756409596,
          -1.1093252736015078,
          -0.7858824490959339,
          2.143356564904712,
          1.6998034813955667,
          -0.5767423202391146,
          1.1753290502837,
          0.7683249437917388,
          3.067247968624566,
          2.1713827731880713,
          0.09109228763953041,
          0.174241960495119,
          0.31907993640080956,
          0.5277083757468606,
          -1.5891418340117431,
          -1.8079063743752273,
          -3.000949411712801,
          -1.5683430554100033,
          1.253132096652606,
          0.4800788069577337,
          1.1470176346512182,
          -1.309517091738924,
          1.592938815983415,
          1.0710420132491287,
          -0.6277790692076219,
          -0.7049891902633251,
          -0.36609949043409157,
          -0.48717640946067053,
          -0.7621598571323498,
          -0.09005428008472947,
          -0.14868520555968823,
          -0.2507783494082098,
          -0.7043224955062206,
          -2.10901826958326,
          -1.879334070811122,
          -1.448327310431453,
          -1.6855200932596457,
          -1.8814813682552232,
          -1.4090316369170113,
          -1.8761815210993238,
          -0.4113534767140595,
          -0.866203259858258,
          -1.5843624105760064,
          -2.442834751812608,
          -1.0024189493957538,
          -0.7470110613107909,
          -1.2099907754251193,
          0.8179688501593769,
          -0.3212642807458104,
          -1.1398522347318443,
          -0.8437018248035688,
          2.0422528852061292,
          4.763938610263662,
          -0.8284168584098418,
          -0.6352570447275013,
          -0.8515059856345206,
          2.24617673416468,
          -0.3982392926568295,
          0.6404987805565773,
          1.2643075804942288,
          5.199354627810795,
          1.8583829004360752,
          0.7197917125418744,
          -1.8100918480866655,
          -0.051435894770323544,
          0.3738921019551172,
          0.7611727109350745,
          0.8241113127768863,
          0.5550844565870727,
          0.7400410988074464,
          0.43047588600987724,
          -1.1913376013534482,
          -2.0196290838920716,
          -1.0362298519507236,
          -0.62668589759657,
          -1.761743557811226,
          -1.948450633342284,
          -1.000808035812245,
          -1.9465609399407118,
          -2.476175635292686,
          -2.657580092427618,
          -0.7988177186083163,
          -2.132364305711081,
          -2.5641686556704393,
          -2.130563835869557,
          -1.0271095058981736,
          -2.271182762073556,
          -2.9955679707193235,
          -2.013777147378138,
          -1.5437600629004622,
          -0.5641657478210645,
          -1.953961590067143,
          0.13531177462093769,
          1.5240830508840988,
          -0.3897913275357,
          -2.147249054111005,
          -1.716576723065332,
          -1.7102416567782464,
          -0.29456810914750353,
          0.6183200167274999,
          1.105052316821267,
          0.013477089149455617,
          1.3552239026426225,
          -1.498784208534466,
          -0.8367365709615097,
          -1.0892869241340009,
          -1.181568236061592,
          -0.8359986265401648,
          1.8064229455207192,
          4.573522285535851,
          -2.3895472039584997,
          -0.8875625801717624,
          1.562393247252768,
          1.6129921406346894,
          2.3782870107067726,
          0.24814725641207447,
          0.8731453432239884,
          -1.7647645267425416,
          -0.13139150759423293,
          -1.6129773081287342,
          -0.575896509613534,
          0.07342012773008587,
          5.948310252700198,
          -0.26031174767672044,
          2.343952977423158,
          -2.0317748746875983,
          -1.3422308343188225,
          0.5257049943117347,
          0.22042439977144954,
          -1.4231533307505306,
          -1.9680325183749652,
          -2.490004187789632,
          -3.6403170139945296,
          -0.7100689834528795,
          0.18037744575466613,
          -2.730779239010131,
          0.6051493269356287,
          -2.0122268085743853,
          -2.9882377865906746,
          -1.9881226567087897,
          -1.1001811056752322,
          -1.6322560102481378,
          -1.5585212785368736,
          -1.2003769056176092,
          -1.1518035655172458,
          -1.5626575408762535,
          -0.7030185679656772,
          -1.510987856425024,
          -2.0949762564053693,
          0.21820803727112106,
          0.28102092564734676,
          -1.5999015985109113,
          3.6364376718953975,
          4.377634569812745,
          5.5178326207774475,
          -0.15593220469833052,
          -2.7823545006812163,
          1.705818604551293,
          -0.3325634464411631,
          -1.560633597882819,
          -1.4666166729454648,
          -1.6720377493956833,
          5.050054496026234,
          -0.42113023519586756,
          -1.4156805781784685,
          -1.0310175317531443,
          -2.059461933825435,
          -1.1993121002513576,
          0.8418391167498278,
          0.5277083757468606,
          3.200054060466447,
          -1.0918956593169198,
          -1.66403213702907,
          -1.7940379519331613,
          0.26759154444683014,
          -1.1761461616742321,
          -0.9236608800933436,
          -0.7383878592737931,
          -0.737011567656227,
          -1.7260061487881733,
          -0.827674982646755,
          -1.0981889258275137,
          -0.06860373314219267,
          -0.19842300499808735,
          -1.7252882884251945,
          1.9027041250642678,
          -1.2041377469319987,
          -2.146761574037714,
          0.5675226390225941,
          -2.737860585635958,
          -2.364673522999304,
          -1.5159051852544074,
          -1.1991820155424178,
          -0.23901879110390356,
          3.755510100997641,
          -0.9172187524603735,
          -0.6027578678703459,
          4.365128553031848,
          1.3570526592632621,
          1.0610805001881756,
          -1.0918956593169198,
          -1.0918956593169198,
          0.37990667046115667,
          1.0507517772310697,
          -0.8347222062997988,
          -0.43629024499739477,
          1.8393460147500822,
          0.9749323262388515,
          3.599847460359528,
          1.387850042164116,
          1.8808998932641365,
          -0.24102161445379222,
          2.5242881418413683,
          1.8226454879784864,
          2.3824054687967253,
          2.7160711465674634,
          1.3400521098127427,
          2.067508571190599,
          -1.3774147805614494,
          2.116901712809412,
          0.472537081285681,
          1.700509033027919,
          1.0124138734776404,
          1.4638489861406851,
          4.517415285770568,
          1.6062390664664272,
          1.5090985483914154,
          3.3281730713216438,
          -0.7586867391814038,
          -1.9710893785207475,
          -2.6279453478185073,
          -1.0959217221133764,
          -1.7330340393361578,
          -1.5509421569582744,
          -1.9153264230825666,
          3.2865430676300678,
          -1.8853012598366485,
          4.031929446383436,
          1.0917032949632033,
          -2.0995891751226234,
          1.6077515138179552,
          -0.7338996331495019,
          -2.3299231668522844,
          -1.671499401380419,
          1.322793692923371,
          3.2245788048711383,
          0.8493078136160133,
          -0.8991050041159995,
          -0.2596369783110562,
          2.4878459896885237,
          -1.0057381074581444,
          3.7826527020996896,
          -1.9157679231230458,
          -2.0026233957398745,
          -1.6696448272331201,
          0.3515054625690076,
          -2.446048369204399,
          -1.7619019356353511,
          -1.6517774567678396,
          -1.6237547621234043,
          0.895776632398662,
          -1.8642286743270584,
          0.05337344824099807,
          -1.64253446184114,
          1.3552239026426225,
          0.14624608874565184,
          5.85820972161687,
          3.718031260960787,
          4.993793590175094,
          1.8999455539621675,
          -0.8127854597663113,
          -0.9882751706880354,
          0.6321516301100971,
          0.013416667960795199,
          -1.277250408742437,
          0.575109529383852,
          1.8650579113698977,
          4.510568593122148,
          -0.08449905553375488,
          -0.24164638031297797,
          -1.9830682310610868,
          -1.8494850568377137,
          -2.5072492769425168,
          -0.31208753852228305,
          -0.19799516276388,
          -1.913240682495195,
          -0.4667570855707593,
          0.5301321114835886,
          2.8059892371366963,
          0.6503978876248561,
          4.008015267389635,
          3.00074641824671,
          0.3032852502015832,
          0.7826398955578464,
          -1.4792219052824116,
          -1.3563827742337011,
          -0.9660709260830569,
          -0.05259932417507779,
          -1.377652309174927,
          -3.072525663599118,
          -0.4751356317600314,
          -3.0267560599545082,
          -0.832511187274472,
          1.774790031013633,
          -1.0280691588067061
         ],
         "xaxis": "x",
         "y": [
          -0.011146290126811396,
          4.49848304049156,
          -1.2584950530912478,
          -0.9316902391794342,
          -0.9998605575699308,
          1.4491987952161287,
          -0.1534910566635188,
          -1.0976948285917045,
          -1.202951196361187,
          -1.6720710185825882,
          0.6245816077119464,
          0.35427951833409554,
          0.6218862595041157,
          -0.7257260770647113,
          -1.7533744258913704,
          0.09456002264657586,
          -0.7607765416859079,
          0.0902332407052289,
          0.6354891072036868,
          0.9549247299482795,
          -0.8173396601849975,
          -1.24709796510021,
          -1.038450458310717,
          -1.8477530524363974,
          0.36640565879192905,
          -1.0939423326821636,
          -0.5130725914703957,
          0.19285191038163382,
          -0.4085058347890224,
          -0.4019127768691343,
          -0.539036086835645,
          -0.5093297116411063,
          -1.5551823065201933,
          -0.3275202482615799,
          -0.11881659332814465,
          0.6359085300784646,
          -0.5876810821821719,
          -1.6234813101233723,
          0.9261554472362551,
          -0.002583714634443809,
          0.9482384115361028,
          -0.432527236030611,
          -1.0477234546789873,
          -0.5884127949167768,
          0.10962376719394872,
          -0.17631562638303272,
          -2.231310852520515,
          0.34217595688040586,
          -0.13393724871445636,
          1.8282937839211035,
          -1.5586608599510314,
          0.39413770702294504,
          -0.16899555980659253,
          0.6402870848131592,
          0.7535261568595847,
          -1.007197920200852,
          1.2513815447321517,
          0.7283795254050479,
          -0.3155870920706917,
          -0.37430842773813117,
          0.6971582660739025,
          0.4907815022846539,
          -1.4496313293936143,
          1.4022237154782515,
          3.1825154078065756,
          -0.13343620635138265,
          0.7231412843907873,
          2.435673232412766,
          -0.6624452959667979,
          0.8828610649268496,
          -0.45399742433685386,
          1.2895652026945377,
          0.702156950008601,
          -0.03212034941795453,
          0.15589311833334898,
          0.044837405588016147,
          0.7644853720457665,
          -1.8700830086717857,
          1.9424014130733953,
          -0.5355532328520177,
          -0.7101916522494041,
          0.6821340814378511,
          1.5096042889137313,
          1.0677125248492445,
          -0.20319345565050306,
          1.9000703759917095,
          -0.9569272319374194,
          1.7957948181498593,
          -0.504551281683534,
          -3.035114235492882,
          1.1858743295178054,
          0.8760206158908873,
          1.0658710831443385,
          0.8982598530428652,
          -0.10984688935739682,
          0.7719022721632356,
          1.199081680321862,
          -0.052756160150403596,
          -1.8569894900465918,
          -0.32643552532892117,
          -1.6939481840668276,
          -0.10438796376461945,
          -0.14531043781235378,
          -0.49969689446459437,
          0.3260647888357162,
          0.5077876996618974,
          -0.05048147181217287,
          0.4746966598255527,
          -0.38797355248059845,
          0.9981145621078821,
          -0.06458868577411601,
          -0.16680607960514057,
          0.6183612930258751,
          0.3466789772890137,
          -0.8498816694047553,
          0.028285354530939683,
          -0.43098808762267066,
          0.971643375806565,
          -1.0005494442087872,
          0.5665290125385666,
          1.1465811195268,
          1.3964744337563013,
          0.43319264302379434,
          0.09286868670805419,
          0.2827170296635813,
          -0.467511954643542,
          0.30059066562798864,
          -0.2568312192639158,
          -0.7082299299146099,
          1.9653556872423221,
          0.5402660920588382,
          -0.47330522451280693,
          -0.4590570749385391,
          0.17712840735323696,
          1.3226057430132447,
          -0.18364572119185602,
          0.5715418725763844,
          3.1825154078065756,
          -0.2252076926587131,
          3.3372777729058662,
          -1.1787016560533603,
          3.3372777729058662,
          0.8919286352285124,
          -1.6621229341015162,
          0.9126518916872701,
          0.04544220504715597,
          0.1579909091453482,
          -0.38811167466529506,
          0.7693841067862286,
          0.31652003537511114,
          1.5899977353431294,
          -1.9047868000468366,
          -0.9570850389300145,
          0.22303451284726156,
          2.1053849872447716,
          -0.6995465461225087,
          0.71110763277761,
          1.0092401714194603,
          0.32381188266964583,
          -0.16319434873238026,
          1.040437590492313,
          0.6564793989659148,
          0.3951741514894208,
          1.241010433821303,
          0.3769590932264068,
          2.4618886452370727,
          1.235700557888623,
          0.2634743406935093,
          -0.3149803062308429,
          0.5105081730241826,
          1.1597876950391819,
          -0.15864705407278845,
          0.2960584459910353,
          0.08484118937578762,
          -0.7467089182464843,
          2.2114132179374666,
          0.08320541248182226,
          -1.0443441784920695,
          0.19123446817488862,
          0.60892262653443,
          0.7789952619638912,
          0.9523723915944723,
          1.0296391405424674,
          -0.3626701596053846,
          -0.9711390263760888,
          -2.6424864233452197,
          3.1033319622259334,
          0.2161930877317937,
          0.014957619740980803,
          3.919038472857364,
          -0.5723148273970243,
          -0.9986452552999862,
          -0.9516486023188399,
          -0.69069886605148,
          -1.1840841818426269,
          -1.3006189908905754,
          0.5947979963623218,
          0.08054162638613652,
          -1.8790387512323166,
          -0.33885212574193146,
          -1.630949174398552,
          -1.0941715165686372,
          -2.446461747927901,
          -1.1407059930266386,
          -1.8453286786660474,
          0.6507379346285538,
          -0.4711808757008186,
          1.019732591308465,
          -0.27336515637365305,
          0.01736778019528481,
          0.774417891072691,
          -1.1653490752846132,
          1.5829275370760398,
          -1.284553040192645,
          -1.3462327707720665,
          -1.192458691217081,
          -2.3552209829195068,
          -1.635092028252463,
          -0.7943134394819894,
          -1.594801518791129,
          -1.0367744163767685,
          0.23834202586569087,
          -0.9150329918104071,
          -1.6791143643828936,
          -1.1140081837787803,
          -0.4264153508845762,
          0.1972031517007,
          -0.7675781583836265,
          -0.6634064026910833,
          0.01849486342713815,
          0.03239395742923426,
          0.5429849610833252,
          -0.5502293308844965,
          -2.5877559470825333,
          0.07003755588593047,
          0.7387646468178273,
          0.8517448089595097,
          -1.004539212355968,
          0.022744918930618408,
          1.1028840070236035,
          -0.9711482695074355,
          -0.5747759434969194,
          -0.7041665708533743,
          -1.259029077696482,
          0.511083724838694,
          -0.4473929302746718,
          -0.7770987572885033,
          -1.5128098061317294,
          -0.01011907228130125,
          -2.65651704428365,
          -1.8578537653499543,
          0.029678348751541548,
          -0.4881176600840497,
          -0.4626350100807727,
          -0.6323213193002087,
          0.8689648267049013,
          3.2404775080304846,
          3.2404775080304846,
          0.02389228731724898,
          0.6703963948146892,
          0.7996627431599466,
          0.5833737164149398,
          -0.11689578549234494,
          0.7123683209024159,
          1.5310948073312327,
          -1.6069800221607162,
          1.8559942570662065,
          0.04437539980395497,
          1.2105451052359486,
          -0.6133121765032429,
          1.080928379556001,
          -0.21205336988886253,
          -1.1818910023338214,
          -0.7775444494726184,
          -0.6234088227383876,
          0.5694778943370098,
          1.7175189370213604,
          -1.01894906221717,
          -1.1180976339575928,
          0.5457794249420169,
          -1.220320439422535,
          0.8906898331423546,
          0.9608276029309001,
          -1.2672613034227636,
          1.6835784222939096,
          -0.704716660782516,
          -0.6445389710374171,
          1.7118067203121337,
          2.0700335917909634,
          3.7740953500324212,
          -2.5264020438823405,
          3.0277051545857097,
          0.7863022708009538,
          2.853662751981008,
          3.7740953500324212,
          2.051357055763081,
          1.401227742855315,
          -0.9266969511957173,
          -0.6326476919953278,
          -1.1279563071617353,
          -1.1810383810275698,
          1.9575377687744153,
          1.9979683623798474,
          0.06784792539787134,
          0.5362425827548233,
          -1.477741525020385,
          -1.9777901671231979,
          -1.1096645491064108,
          -0.78952829565951,
          -1.4068333771286468,
          -0.835958518299122,
          -1.5475653090428996,
          -1.204676248070081,
          -1.6143833336086195,
          -0.5314998546403846,
          0.18027712010472285,
          -0.7320794166920238,
          -0.035066869396598054,
          1.9807742361710285,
          0.4223294232920444,
          0.2836067607286724,
          -0.6255932639365421,
          0.7112353207108737,
          -1.1077101885611702,
          0.4882490801131055,
          -0.22795730447657708,
          0.1971782497767422,
          0.3150319980462681,
          -1.2672613034227636,
          1.1177165541627032,
          -0.4457172777483623,
          -0.8138693535483419,
          0.31786427908998377,
          -1.1464663024558035,
          -0.17714161009327942,
          0.3484442111053194,
          2.406404972446318,
          -0.000352521777643238,
          1.8873203415832394,
          -1.3725204164548288,
          -1.2657688377536684,
          -0.6949733179444151,
          1.8873203415832394,
          -0.8101213187323127,
          -2.9183415164682796,
          -0.9151402576715346,
          -0.9894869373615408,
          -0.29923272082723934,
          0.4760198718631142,
          -1.509449856271786,
          1.8873203415832394,
          1.1113603909961718,
          -0.37497601475158926,
          -1.2545771481814068,
          0.9048464943468987,
          0.14491983213610407,
          -1.079841356015363,
          0.8958070512138061,
          2.0607557633872715,
          1.3380694906666444,
          -0.7927850799344981,
          0.7801239402947847,
          2.3890026316786557,
          0.010923878415342026,
          -2.701162881091406,
          0.30716006665628537,
          0.40601777210735374,
          -1.7931461706698153,
          0.6582528726690425,
          -1.563464426071764,
          2.4150542414887264,
          0.5843336029259836,
          -0.6038418556220868,
          2.282537677712431,
          0.5348228328720829,
          0.4434997849539592,
          -0.6515118089357839,
          1.0533504658934274,
          -0.05684593511018222,
          0.7667072369066977,
          1.9924299245585078,
          1.665001923510301,
          0.09891338575271727,
          -0.21030445971978065,
          1.4049591878689227,
          0.6572987131801543,
          -0.7572609888099847,
          -0.4289788550163661,
          -1.1663827255438741,
          -1.037573785781149,
          0.3177602599695209,
          1.1770272825990247,
          2.522013302298844,
          -0.35565697175471467,
          1.2739159471111876,
          0.12552664107296105,
          -0.044436888535213416,
          -0.9598826795695846,
          -0.9994617694103665,
          -0.17192238560156703,
          2.0825047669647545,
          9.808615665275733,
          -1.910999536388004,
          -1.5953448853504653,
          -0.20772046078352682,
          0.38379843657746593,
          -1.6622338726879453,
          -0.5449138158014994,
          0.39260421140156027,
          -1.0816366373679889,
          0.25331032353654165,
          -2.393874721053958,
          -0.47150127593609603,
          -0.17561167281722492,
          0.745144043008625,
          -1.687349501878598,
          -0.20380451675243372,
          -0.6772495315786091,
          0.45154411590279436,
          -0.4727486064660544,
          -2.6124788945229884,
          -0.5263262266185563,
          0.8079535533547773,
          0.11383168486562556,
          -0.8406691236039684,
          -0.07662975110137563,
          -0.5132639481080138,
          -0.5820581328286755,
          1.4966189151479738,
          0.21591294181917203,
          0.874933308738512,
          -0.49583472433259523,
          1.2667969389178955,
          -0.6352214968617693,
          1.71168624844909,
          -0.059813117058138965,
          -0.6497724736162326,
          -0.6584021042342945,
          -0.11984531532774574,
          -0.6498927216938704,
          1.6583247694069463,
          2.0021393264062293,
          0.10467094944933027,
          0.1259307123953051,
          0.9211842808505288,
          1.1566985880876242,
          4.137971827721905,
          0.4510339910091266,
          0.739275397907974,
          0.7802223761612849,
          -2.0010115300907665,
          -0.5462424385825616,
          1.2886913072683845,
          -0.413893485279708,
          0.514206033338961,
          -0.19834002790450103,
          -1.1325191168425925,
          1.088833514659236,
          -0.8852774981108729,
          -0.2595736667103272,
          -0.3365596012460399,
          -1.4383020605948764,
          -0.8553689297851264,
          2.037415663490336,
          -1.0849805099308247,
          -2.6249725104295467,
          -0.29118493718810684,
          -0.9406771827196855,
          -0.8619638727305493,
          -0.7446552433346815,
          -1.5806404300447299,
          -0.2454019965262049,
          0.16613234798095217,
          0.2552234665149214,
          0.8974807722274409,
          0.6208671719375569,
          0.28059253069266016,
          -0.6340873085014079,
          1.0661851762831864,
          1.5503964871266387,
          -0.7612398420860165,
          -0.06922749235527308,
          -2.1577156365998005,
          2.1872713095153946,
          -1.3215548520622253,
          0.7356238326523724,
          0.7673642510824705,
          -0.06979929244776088,
          0.4886676650433209,
          0.2669812198875662,
          0.7328123563979592,
          0.586121487506143,
          -0.9953858151396151,
          -0.17759522520563958,
          -0.6764116893753346,
          -1.298921322411738,
          0.892149630918789,
          -2.2675364797362842,
          -0.6406026434243625,
          0.08160718107044415,
          0.7976536903440749,
          -2.5319163057702347,
          -1.079901417635554,
          -0.19615586969321297,
          1.1384170320766436,
          0.287075490802513,
          0.42268510345319255,
          1.5804058973004471,
          0.7663364597659544,
          -0.6146786963745632,
          -1.1175193421862712,
          0.6785761172927782,
          -1.1806363394390673,
          -1.235978876508932,
          -0.31955324249624645,
          -0.374407106907902,
          -1.8640708749147696,
          -1.7773287436540217,
          -1.98136085481462,
          0.25707335983407015,
          -0.6155426574374904,
          0.2429255993826785,
          -1.1616324224085026,
          1.895862279855881,
          -0.3356606365168589,
          -1.0694624857178212,
          1.7513158520768175,
          -2.4367945237996853,
          -0.772276450501107,
          -1.1810989500449751,
          1.9317052289038215,
          0.5716358610330144,
          -0.46669574977910383,
          0.7085487574433709,
          0.28161800267875664,
          0.3907796891399537,
          1.8664572644859472,
          1.2570515395744681,
          -0.02598992779727239,
          0.08292369316000799,
          2.2125582507039647,
          0.325061764560872,
          -1.170308711210887,
          0.2742683209909487,
          0.7085487574433709,
          1.1437392895821437,
          1.375264594431321,
          -0.5836498678916424,
          0.1982321423674602,
          -1.6148947810199688,
          1.0620864810567894,
          -0.9361637998069956,
          -0.022866776118988085,
          0.6613537913076034,
          0.3853063184308252,
          1.2299781646381966,
          -0.07782348751577037,
          -0.15923645755136387,
          0.4627913102919548,
          0.8672704536836472,
          1.5854835718191602,
          0.7367549070529646,
          0.7140682739125941,
          0.9688369678118357,
          0.25126802391534453,
          0.5132039117659928,
          0.8372222203501726,
          -0.3573670748157758,
          0.7717816493277003,
          -0.6074502986415986,
          -0.2694611797895203,
          -0.8556227790287775,
          -1.1068158657389346,
          0.1868571188794465,
          0.681627795419911,
          0.978884253659429,
          0.45208387285022306,
          -0.7983021441809087,
          -0.13385525664812875,
          -1.3796314186286862,
          -0.21078138640284236,
          -0.9811799170595028,
          -1.331994816318072,
          -0.1932809398077517,
          -0.27708365578956257,
          -1.9783775271564612,
          -1.3738927533892682,
          -1.2024447361796196,
          -1.3080694576617176,
          1.7650475397544305,
          -1.122915636881414,
          -2.7309258321583534,
          -0.8706224842112551,
          -0.5243173469086174,
          -1.1097479863616215,
          -1.2308039831949453,
          1.1494624022273865,
          1.9641977657477767,
          2.1785293823189713,
          -2.8135610607731607,
          -0.4446860762774553,
          -1.363471634841042,
          -0.622014946249426,
          1.0416800370699881,
          -0.39521771665802097,
          -0.19449469553584042,
          -0.3852608354914707,
          -0.06318642030526982,
          -0.06793988912861136,
          0.04752527244375039,
          -1.2880149374051058,
          -0.4742245086831723,
          -1.3815311599721682,
          -1.4991282734577784,
          0.10597497457687864,
          1.297723038971179,
          -1.4864565185645953,
          -0.043092712418068356,
          -2.332831179770079,
          0.942535211626705,
          -0.9782852103707466,
          -0.8375933378434274,
          0.24182119457517562,
          -0.8490077081291281,
          0.06737530831032341,
          -1.1745357862551746,
          -0.6271315392818446,
          -0.5770669957486689,
          -1.344871269746921,
          0.23196544102466682,
          0.8445197390903202,
          -0.40290098978720906,
          -0.005736214361115034,
          0.4499143340358722,
          0.6750056141422714,
          0.2826921428424722,
          1.2696072180370255,
          -0.4871801805221603,
          0.6108104896236362,
          -0.4948587314914117,
          0.11817817238234289,
          0.7334875142917887,
          -0.518091796150676,
          0.18106416040857873,
          0.7146230917208721,
          0.7428997971628265,
          0.5593656303835142,
          0.4849053310827812,
          -1.0171259983707686,
          0.3878104905547087,
          1.62263778433955,
          -0.17809704794334918,
          -0.12476503646774185,
          -0.2961779604109371,
          -0.2737989226362739,
          -0.9268841480713059,
          -2.0380101122304275,
          1.450633713791227,
          -2.057908520167519,
          0.033027310562339256,
          -0.6887356962529672,
          -0.5190815328898649,
          -0.7472663186110939,
          -0.86823902069079,
          -0.23433916561783236,
          -1.4053392824479403,
          -1.2981861098399994,
          -1.1127467506287032,
          -0.9768526143068096,
          0.6741636247927281,
          -0.9814765781246835,
          1.093412714895332,
          1.1383910108144204,
          0.06965396958828088,
          1.995980106755624,
          0.9755122541602332,
          0.6623848700199332,
          -0.8861233320777762,
          0.702156950008601,
          0.7363870858767141,
          0.23300896490671602,
          0.1553283747858441,
          -0.7151335683911897,
          0.4534623044762606,
          0.5953873912830411,
          -0.12083862405770168,
          -0.7904677532103996,
          0.7442943549477108,
          -0.5173945461923829,
          -1.3671815537397118,
          -2.1647606862810407,
          2.406575770189152,
          -1.2491142295755036,
          -1.7138057454863616,
          -1.1199854719256763,
          1.601971055773223,
          -0.7298052345060033,
          2.696272599035887,
          -0.35149643953172777,
          -1.702470907429884,
          -2.602808344103323,
          -0.0018618573810407204,
          -1.6785787472575229,
          0.17100843015583886,
          -0.26644865112001054,
          0.07288441826828224,
          -0.5148061391081222,
          -3.6521473312229293,
          -1.522995597008847,
          -0.3615044442366951,
          0.33209914601970325,
          0.06386128061298191,
          -0.0679877355058145,
          -0.0679877355058145,
          1.6600878927881157,
          -0.5499230709138869,
          1.1657589760111924,
          -0.5731714708818119,
          -1.6661836834923482,
          -1.4165624627850473,
          -1.4308328180936019,
          -1.194397175358901,
          -1.4274095208739344,
          -1.151120997077035,
          -1.486919097107157,
          -1.522871347395058,
          -1.4516382091534177,
          0.17590165038654737,
          -1.2007541057312012,
          -1.1574513304114844,
          -0.8775905383634277,
          -0.5753777267466663,
          -2.0477466943732625,
          -1.2612019677118798,
          -1.6578915972040726,
          -0.9738377876979702,
          -1.302182832562016,
          2.0304286520410284,
          0.7354293886633645,
          -1.415090518825997,
          0.5545644883197919,
          0.49610856408442106,
          -1.43056396379872,
          1.6075802808416424,
          -0.8012284798287422,
          0.6747351899313601,
          0.12194654885889779,
          -0.09902124256603805,
          -0.06924925887923139,
          0.6715536596689543,
          -1.1968649079150135,
          2.1785293823189713,
          0.7120396547541865,
          1.0719117293829004,
          1.147852074059685,
          0.6481283190597509,
          -0.5960966025054181,
          0.2210938757975774,
          1.9766866328626045,
          0.066764497113052,
          0.9143713972798151,
          2.846770826534304,
          0.14701877091225946,
          1.2816469698098114,
          2.846770826534304,
          -1.9407940206375214,
          0.04594027856043106,
          -2.106243615014693,
          -0.7473077818496979,
          0.38133053707087206,
          1.1563480223931877,
          0.09832857235023928,
          1.3195450645550815,
          0.6838502211062939,
          0.9286327150239242,
          1.2197449477602837,
          1.1812618877138923,
          -0.24626779839356952,
          1.054350723236797,
          1.6346249482684612,
          1.1208526375187802,
          1.1665004006106945,
          0.35920488968032616,
          2.936844439574078,
          2.359411015343146,
          1.5909270645632696,
          -0.2191057186528506,
          2.2780569687552235,
          2.6215188359867776,
          1.5149446421866513,
          2.152115466847548,
          0.35273715504116676,
          -1.5239595469806966,
          0.8283125934152247,
          1.4516358923429997,
          -0.07205021415422902,
          -1.176073576120297,
          -3.1982178651250717,
          -0.8201818438122833,
          0.6486029919662072,
          -1.8391905524002878,
          -0.2958332784407959,
          -0.08593625358313166,
          2.161647716158938,
          -1.5566511731330392,
          -0.19148102107685802,
          -0.7299870431004442,
          -0.7726676252422109,
          -0.8789815373159126,
          2.596594940330124,
          -0.9684721849669086,
          -0.012415922773765166,
          2.7776317992507398,
          0.008146240049375622,
          -0.1291532354291793,
          0.6678652880289516,
          -1.5107021703796653,
          3.073149355538062,
          -1.4438610416065316,
          -0.5025097048772132,
          1.3242077355585724,
          0.5827095805282633,
          -2.1973568753736106,
          -0.14753873569748605,
          -0.48809535255463815,
          -1.345008394361276,
          0.32685326130838527,
          0.8459249238174418,
          2.2524644820304025,
          3.3049931546089604,
          0.03839524739570396,
          0.9816545686601075,
          -1.7461053753967242,
          -1.4139744288995422,
          0.1059867032273614,
          -1.1229631780375924,
          1.3844106892201369,
          -0.16167197298893907,
          -2.2544696238792787,
          -0.6869253409334287,
          0.7902407593582277,
          -0.14973732308850932,
          2.0284456703648397,
          1.080928379556001,
          0.25328243485601365,
          -0.13986980407637564,
          1.5193532518080086,
          -1.5507576235702518,
          -0.8088935101256449,
          0.15044670458467285,
          -0.04500234018913827,
          0.18720132576080972,
          1.2968594264079574,
          -0.4626240158171048,
          1.098818071185374,
          -0.4246271861727907,
          -0.8185606053174714,
          1.1197926281004646,
          -0.6119842950529534,
          0.2947456189667915,
          1.4551038711161857,
          -0.4100179474855012,
          0.5691942254362463,
          -2.590599150048011,
          -0.18202951374809379,
          -0.8607013036745819,
          -2.2960756072603226,
          1.3167076465878833,
          -0.27251690398117495,
          -0.5566738862995991,
          -0.7152170885868789,
          -0.7028362760612349,
          0.06303033231618409,
          -0.9902208730061521,
          0.019724106704528656,
          -1.560139230215972,
          1.2645522348952956,
          1.738302222935584,
          -0.2495732285193375,
          -1.070252884350567,
          -1.284429515008694,
          -1.2464356433071073,
          2.29932998629823,
          1.164124599275632,
          0.7015448503931596,
          -1.5291054878331347,
          1.245112504319708,
          1.2631399169680335,
          2.2103714360060187,
          0.8690317957680909,
          1.795329532167901,
          -0.2279979509833206,
          1.0354966936301404,
          1.747185016862288,
          0.6393512413680971,
          2.7322746057581964,
          1.9385695616987755,
          -1.4797811365083338,
          2.6268932317139058,
          -0.98713397088694,
          1.5030130287038022,
          1.0529794513877142,
          1.2377964378668687,
          1.3964744337563013,
          -0.40502039300438997,
          -0.9982484808587196,
          -1.5468837439767458,
          3.1825154078065756,
          -1.541263478536006,
          0.8001407315361061,
          1.6262958353849482,
          -3.4389885917616057,
          0.5753938621894699,
          2.2122163894790026,
          2.4836772733522996,
          0.5885938945441708,
          -4.121183392702425,
          -1.3940325838598706,
          0.7540240214844226,
          -0.9321725445352346,
          3.0281100691433287,
          2.2881131630279685,
          -0.4078631192511274,
          1.1182369660441556,
          -1.3045923139922588,
          -1.0114715054304484,
          1.4550998217037519,
          -0.1164031822367594,
          -2.416110659060029,
          -1.9796288927708408,
          0.16213361299954002,
          -0.4682875272625695,
          0.591316729418082,
          -0.3108898220591164,
          -2.5200907369768544,
          -0.09431542449179724,
          -0.137830721165804,
          0.6444051988424128,
          -1.1620644660524428,
          -0.5610637779327745,
          0.2316888902685793,
          -0.5581193468046414,
          0.21538909230151573,
          0.38654712958519116,
          0.9889416595795394,
          0.7515095953074535,
          -0.23329405373395679,
          -1.229747887102898,
          0.8201643769410951,
          -0.15882043442039206,
          -0.7565388853115692,
          -2.1120286151716203,
          1.84053696698079,
          0.5764743024800887,
          -0.6914969477991726,
          -0.31577070586742334,
          -0.8810996699177824,
          0.8021470798848578,
          0.19347997695700614,
          -0.42601966535243985,
          -0.5943416563048243,
          1.4291872876100418,
          -0.16409245911004636,
          0.8120993643015317,
          -1.5026498422538617,
          2.598779509754669,
          0.5293587436794349,
          0.7783608326259303,
          0.6238136690580927,
          -0.12191949193504543,
          0.267916161063807,
          0.42379064874774974,
          1.0686408169382253,
          1.4026574288018083,
          1.3879816561431053,
          -0.21462188479536495,
          1.5320826718596163,
          -0.6503647631977194,
          1.3022033030346303,
          -1.339311640585972,
          0.09681015173227774,
          -1.3155880062177083,
          3.2836447682990015,
          2.799421051795822,
          1.3470804164822847,
          -0.181018456908613,
          -0.17543690178551982,
          0.6064345226532637,
          2.7776317992507398,
          -1.8230617493286416,
          0.13057729102599155,
          1.2313845008695994,
          0.3466045216035885,
          -0.09832938999495985,
          -0.09436777659232712,
          -1.8418970721984327,
          0.5570265612360686,
          0.3387411601865377,
          1.0151455031556134,
          0.7643506416929156,
          0.082914244502704,
          -0.10603512351487271,
          -0.04999871550889672,
          -0.8471965335774991,
          -0.762542698952958,
          0.44949717893278374,
          1.112574117525323,
          0.6084618967296057,
          -1.2541278438638546,
          -0.6314035129261297,
          1.2962849057650505,
          0.24621207217738106,
          0.05394140392632288,
          1.4956554144984175,
          1.789991001934206,
          0.4706658161331806,
          0.5196573621206036,
          -0.09702344877198643,
          -1.6289827036759448,
          -0.14762103535583265,
          -1.053848339287195,
          2.575473897310144,
          0.32698270084520686,
          -1.0584835530918606,
          0.281029214686492,
          1.4795346263809033,
          0.8726252657977526,
          0.01912146779114325,
          0.8287698711128347,
          1.1378368096175675,
          0.2635445790927004,
          2.2707965426279646,
          1.3077206199092608,
          0.8185767880870022,
          0.665076854933505,
          1.7874380723812962,
          2.0664051307236826,
          -0.3463926836305326,
          -0.8577415633782172,
          -0.3466429693933358,
          -1.092281704365109,
          -1.3118166173906018,
          0.897632608050523,
          2.5385277673135573,
          -1.1870387717949165,
          2.786982618493668,
          0.2545143723187334,
          0.3893614766752,
          -1.1071412055199383,
          1.610770507487826,
          -1.1739525088554186,
          -2.0616820132566818,
          -2.8053945963871123,
          -0.8831663371685483,
          -2.0633678994235876,
          -1.7987616717190225,
          -0.4207314753269804,
          -0.6148024213290781,
          2.2743934499220617,
          0.1859934865096027,
          -0.5898593904191539,
          -1.2018199465962693,
          -0.11050871698377004,
          -0.5749320975573812,
          -0.6406026434243625,
          -1.3543005202399947,
          -1.5725660924038976,
          -0.642120748801079,
          -1.7657936503406595,
          -1.4009596285162917,
          -0.5103533356941566,
          0.31366695973061137,
          0.10148720546280478,
          -2.22776166114616,
          -2.166398930590741,
          0.9798370766144213,
          1.293339715641764,
          -0.18737478514681197,
          0.35437199497886845,
          -0.4940457410139044,
          0.40820241461265583,
          0.07545889725107933,
          -0.020097489442546183,
          -0.5232755081075593,
          -1.1151845701111427,
          -0.03524547218808816,
          -1.7256356053318533,
          2.5653555509713497,
          3.785598078144559,
          -0.5196969124319137,
          2.022522949103083,
          -0.32733611209997454,
          0.9020944113643269,
          -0.9310219539819882,
          2.5653555509713497,
          -0.9971014093097095,
          -0.29762929933797105,
          0.3241034095638709,
          -0.3972965827435324,
          -0.29185280304219685,
          1.2589704060075444,
          -1.115271684502229,
          -0.6068327709989875,
          -0.019608718525091197,
          1.8576890270533717,
          -0.4460132004082261,
          -0.08888667464901576,
          1.2226267391788148,
          1.3180419447934715,
          2.83477966063198,
          -1.6881739103057367,
          0.8702582499121698,
          -0.6016329590871632,
          -1.6520216682288358,
          -0.6742172913753629,
          -0.1680107737918667,
          0.6829368856863999,
          1.0166141420885215,
          -1.157351370083179,
          -0.9920311725425524,
          -0.3094075954101753,
          0.2731435477189462,
          0.01583870155865828,
          0.7240235934694037,
          0.8707080592041273,
          0.2160197797955823,
          0.41830866017892554,
          -0.7748456390260187,
          1.6700907754335625,
          0.21471234273482173,
          -1.1733447838065583,
          1.0707460862605045,
          -0.5757347764161678,
          2.7914806372152112,
          0.807348422048243,
          -1.0511858033336987,
          -1.1638906002201037,
          -0.9323783000383239,
          1.4338452229528584,
          1.5482517667523965,
          -0.8243053696849101,
          -0.21727761748933472,
          0.7408819707686031,
          0.7766444874755656,
          1.2466074522256263,
          0.7996077501042823,
          0.709898450090935,
          0.1573823823360886,
          0.8291981600164909,
          0.41152118484001016,
          0.18507012194701186,
          -1.0699889202336401,
          0.5477835991559176,
          1.0667926679701087,
          -0.8775491680441369,
          -0.4112771774398258,
          0.09562702241928452,
          0.07627133581846268,
          -0.41211540420468945,
          1.2651376595429604,
          1.1350518360935868,
          -0.06337771493283857,
          -0.4354620140625736,
          0.7196787549342645,
          -4.4025789125244446,
          1.9687208683682582,
          0.6555126013851399,
          -0.05604008805531279,
          0.3601484392440349,
          -0.33933105305157163,
          -0.05618864061894771,
          -0.7620360756541411,
          2.276584436476021,
          -0.18097852487375002,
          0.047410307066852335,
          0.9977781862139025,
          -0.10368604875802612,
          0.08477651925558284,
          0.861242594474013,
          0.7906107892066134,
          2.2221531688980285,
          0.9271137572827828,
          -0.9330765738277931,
          -0.8988029806520099,
          -2.3137946958989013,
          -1.2620312997889198,
          1.5310948073312327,
          -0.46980024727535474,
          0.8215286852076017,
          0.7262953082237072,
          0.3474608869182144,
          0.19331601407251908,
          1.4030209257013269,
          1.4136472750859455,
          1.48468998849816,
          -0.3107178863439593,
          -0.10512270723039148,
          2.7885881960637864,
          0.6942665279067884,
          -1.6221205168196675,
          -1.5358891258969731,
          -5.390230091324014,
          -0.053827145838085615,
          -0.2898665417593253,
          -1.2603822989769262,
          -0.7803224545641386,
          1.5051495770311558,
          0.5803112501175953,
          2.086664936649371,
          -0.18161001740644273,
          -0.650160067771676,
          2.800508129550578,
          2.0106846318145055,
          1.0261929757046133,
          0.8826209995591429,
          1.401886188573254,
          -0.16219622891775765,
          0.2559954609722765,
          0.8691497060902613,
          -1.501184848873207,
          -0.32005972773275304,
          -1.2944994042026092,
          -0.5456178840144862,
          1.8888243208696962,
          -0.572939617888906,
          -1.4908371626662946,
          -2.1898217107727187,
          -0.6979816378653612,
          -0.23905295474811603,
          2.409294352998538,
          0.9257675849876735,
          1.556674560348377,
          -1.0069374967242792,
          1.00849667322062,
          0.9323963957092459,
          -1.0527303276752797,
          -1.237306474288756,
          -1.0619565111290739,
          -0.5555449222733335,
          0.978884253659429,
          1.0408259298766678,
          -2.8428263971497514,
          0.5180488529611262,
          -1.6905110652741513,
          -0.32628851114170354,
          -2.130031613612809,
          -1.127816890727577,
          -1.2815634859617253,
          2.4684970360729013,
          1.0838583358054026,
          -3.134978290334291,
          -1.6413306810627117,
          -0.45250278470661237,
          -1.9522743211029667,
          0.48362291075191444,
          -1.456342568741425,
          -0.10987314385041762,
          0.6158576137099436,
          -0.5868950184257309,
          0.576907940712115,
          0.908832883454007,
          0.974054360965437,
          1.4055402227803449,
          -0.45150411441299754,
          0.8918181728173358,
          0.8975360796648453,
          -0.6621999979037602,
          0.9635875557455977,
          -1.2252005169240598,
          0.8707039875644634,
          0.825377193022212,
          1.0561426926150925,
          -0.9405407931339537,
          -1.8287828386842484,
          -1.354012449305032,
          -1.6069800221607162,
          0.3460117677467227,
          -0.482243700361703,
          -1.0797421576520227,
          2.0494423788017286,
          -0.6863589864441045,
          -1.231205815556135,
          -0.440807773463177,
          1.9103928827399017,
          0.0327058374035351,
          -0.20996796039133672,
          -0.6289580764774872,
          0.5105359440905776,
          -0.9591936739663625,
          -0.6258817633061418,
          0.06520142346467538,
          -1.7822998845983389,
          -0.840575561513407,
          -0.6824369774306162,
          -0.3050667357507052,
          -0.6683855409374182,
          -1.2952094103434537,
          4.8265599313504035,
          -0.3360372733285943,
          0.5404265351754696,
          -0.12259444631687251,
          0.4040503109581117,
          -0.43068633033445197,
          -0.24231908854981363,
          -3.746303915498791,
          0.3903540292108631,
          -0.3559583563930896,
          0.06001886261222891,
          -0.8933600247286165,
          -0.8933600247286165,
          -2.0865163953577017,
          -1.7010795872307345,
          0.26067694030080024,
          1.092259393392989,
          1.2345506751356465,
          -0.48824078778516716,
          0.45241863132259635,
          -0.8399721363552338,
          -1.5610763688475233,
          -0.5750562636036334,
          -0.8381301731828606,
          -2.7309258321583534,
          0.7874939756284244,
          0.4911950927440061,
          0.377448737521014,
          -0.9967827441174445,
          1.201041381518774,
          -1.681859153775365,
          -1.460115509427204,
          -1.460115509427204,
          1.201041381518774,
          1.067042847919901,
          -0.4567946599848601,
          -1.2245378851001352,
          0.6475400473459311,
          1.7194337387580378,
          0.4721520501796538,
          0.1351467155885507,
          -0.2806337788637918,
          -0.35412608462657524,
          1.031857393080044,
          1.720845674353051,
          1.3009344093014206,
          0.4789975912632351,
          1.8697348981141573,
          -0.5914828614287023,
          -2.0590376645165502,
          0.26757430621377615,
          -0.9853266239471615,
          -0.46048160047545283,
          -0.5391510807840081,
          0.9443175429761803,
          -0.25995302986961527,
          -1.0649853089125976,
          -0.23905742054502543,
          -0.7345811253619398,
          -0.0872040042195789,
          -0.04894204937688742,
          -2.865759634712714,
          0.6414594616910234,
          0.6520037893508114,
          0.2747868787312041,
          -0.08784013708631158,
          0.6768356895737323,
          0.35920674858526885,
          -1.3101377947307822,
          -0.06956410118681469,
          0.21875627038952894,
          -0.10658644268281177,
          0.3257683708684395,
          -0.29243541414912083,
          0.6336547576565371,
          0.3133456930887124,
          -0.5032505939465268,
          0.5371220456325406,
          2.374337714272004,
          0.2790429935717435,
          3.192275068124043,
          0.08380126477325488,
          -0.345175024800521,
          0.6167098993104876,
          -1.0792900548148576,
          0.1493614346867007,
          0.44470993270299486,
          -0.5114790901334064,
          2.1785293823189713,
          0.4572206020731491,
          -0.2555612326053269,
          -0.8074208670098902,
          0.9472386308757952,
          -1.2426905814373916,
          -0.3364176185262617,
          1.0736651373184172,
          1.19047822125706,
          0.762368129241084,
          -0.6732696472195179,
          -0.6440393410699298,
          -0.45697957291096125,
          -0.935521474283266,
          2.9929437226692377,
          2.7260040104125633,
          0.571893250165841,
          1.5889260213849834,
          -0.2064734849848298,
          2.5038347489576878,
          0.2961501475715484,
          1.0846189796399617,
          -2.2022095311350434,
          -1.4404515406505751,
          -1.2821572583643743,
          -1.0392645050027824,
          -0.8359784282430518,
          -0.30479871560060084,
          2.072970576974863,
          -1.8586859035534269,
          -1.2049475634533073,
          -0.503215348509192,
          0.33624312056904365,
          2.5649619811228237,
          0.30175743185269815,
          -1.76679272914378,
          0.8235435410088718,
          -0.22551329798239006,
          -2.7309258321583534,
          -1.6613392304245767,
          -0.5014512201902217,
          -0.6092820716180168,
          0.845822380172411,
          -1.9773985178392317,
          -1.0538519726242683,
          1.860797620854677,
          -0.339568649413934,
          -0.917498483470469,
          -0.8125754547368468,
          0.1430170152730146,
          -0.4362737933068569,
          -0.9044991715514352,
          -0.27678921811505525,
          -0.24579307422650873,
          -0.8244011946355018,
          0.9298124473763044,
          -0.5950664354754074,
          0.44125070418632906,
          0.8445197390903202,
          -0.4650701320324812,
          2.131933849812738,
          2.131933849812738,
          -0.3313983578893603,
          0.44153230211221334,
          0.07998978375631893,
          -0.396321142607642,
          2.131933849812738,
          -0.8155413081291465,
          3.171873475784771,
          -0.5190281872867482,
          -0.04992336453818279,
          -0.5719527809990377,
          1.438298603950284,
          1.090066968473882,
          1.784362690675143,
          0.10095590734267862,
          -0.6444052078607324,
          -0.6061843984291283,
          0.5550883374467264,
          1.5481209530840512,
          -0.7817051706674049,
          -0.6388486423779044,
          -0.17090223401107546,
          -0.32611218191329394,
          2.301222596672426,
          1.7357442769118503,
          0.046925631639288236,
          1.334490315292298,
          -0.31151254721625526,
          1.540760346052993,
          1.5085799273169203,
          0.8075604130275311,
          -0.44106858959038947,
          1.1461892091104082,
          1.0750781640158045,
          -0.02528769687673556,
          1.0359956773490928,
          0.794037191787928,
          0.010298079972030725,
          -0.23136664446222224,
          -1.1263578380899046,
          0.3482735683073861,
          0.7188007759804199,
          -1.200668586601678,
          -0.48874919385379395,
          1.0511329441517356,
          0.7337050641208355,
          0.5801340207770178,
          1.746518548949687,
          1.584539967557498,
          1.2293627570567158,
          -0.06943785397606689,
          1.3142245990799324,
          0.3466877992177143,
          -0.32247279140588664,
          0.290092402194547,
          1.2744631039301582,
          1.9501468899176135,
          1.2293627570567158,
          -2.3742008151056506,
          0.8097924046763015,
          0.3257493828803785,
          -0.11367229774894477,
          0.523944333976467,
          1.6637469576513066,
          1.745347174782657,
          0.19832259823786946,
          1.725868171022626,
          1.474575388027558,
          1.622811358698715,
          2.126492838412717,
          0.3083705907543964,
          1.1642030880653804,
          1.1415398106539227,
          -0.02528769687673556,
          -0.6942782995410637,
          0.6062441505324664,
          0.8056575915427334,
          -0.9718696038331124,
          1.1846475025888168,
          0.22260393120987648,
          -1.1380333885721854,
          -0.4229417107027696,
          -0.9603842841299474,
          -1.2655864882815986,
          -1.6743094682762139,
          -0.9592325696676597,
          -2.2082757823500114,
          -0.7614311127461265,
          -0.9283602915772423,
          -1.0003872778034169,
          0.3330594280435954,
          -0.19978661479337176,
          -0.09779050727088573,
          -0.32732316638661896,
          0.3299914922454789,
          -0.17328787315154318,
          -0.218103907470214,
          2.0778770647655005,
          0.025489112912356515,
          -0.9418507803283737,
          -0.480494029930669,
          -0.47779605592947183,
          -0.5236326235491906,
          -0.916367184242463,
          -1.2884126387002175,
          0.7256755059981271,
          -0.536175477047158,
          -0.20004831834695233,
          -1.5613522001109852,
          -0.6142121203837286,
          -1.1941311908090242,
          -2.112375819129674,
          -0.7475462109839722,
          -1.0862550094175338,
          0.607292177975291,
          -0.359777747288726,
          -1.5821085055818624,
          -0.13876869479146156,
          -0.003982163539608335,
          -1.7721004542251826,
          -0.1080063382461599,
          -1.7184551482442942,
          -0.7220600773571361,
          -2.0084981311726873,
          3.785598078144559,
          -0.6245323153977052,
          -0.18114110937883385,
          -0.02280029214200353,
          -0.15263025560776416,
          -0.1887950055902833,
          -2.3234479758534623,
          -1.612958575629978,
          -1.9259738186536413,
          -1.409987728540381,
          0.10661860207796743,
          -3.205538486710092,
          0.5323072652927339,
          1.8282937839211035,
          -0.6155007542491471,
          1.3122550950150005,
          0.6822192108782615,
          -1.0354897180880458,
          -0.45676528942886435,
          -0.8453131010072393,
          -1.9210975153315712,
          -0.6527180829080147,
          0.024262505451436264,
          -1.1247553043951914,
          0.40145569484541044,
          0.05346625837849202,
          -1.706580520738775,
          -1.9235702921852211,
          -0.6810658577223927,
          1.6164448236652158,
          0.0944169078011877,
          -0.5757347764161678,
          -5.324849710991163,
          -1.8070057827169625,
          -0.021224692335780605,
          -0.817981281543173,
          -1.3805997531516416,
          -0.4252552251575267,
          -1.1523424561827997,
          -0.6194712237286718,
          0.27354114752551845,
          -1.275616264042176,
          1.7770619659271725,
          -0.4548824173651343,
          -0.4217610806862251,
          -0.6384313705147701,
          0.3983427053701471,
          -0.18775644327673502,
          1.6973069926470339,
          -1.5495981205691742,
          0.19379976247852024,
          0.4813935019603188,
          -0.20512310302811185,
          -1.098246950935197,
          -1.5081390298152675,
          1.4235176038388084,
          0.8841847068181822,
          0.2093295113807365,
          -0.5197990686970066,
          -0.7780011535498246,
          -0.0847733901420283,
          0.7143393983015865,
          0.13736835214689705,
          0.7007718477066576,
          -1.0091976515141245,
          -1.0020222624106259,
          -0.7434581785609009,
          -0.7805593020332087,
          -1.3122341658827243,
          1.0170344495471018,
          -0.3040733125345657,
          0.08946315030054412,
          -0.3123068127017157,
          -0.1645680144191589,
          -0.2049495698588309,
          -0.07991557811552205,
          -0.48004023356821046,
          1.0418746296709647,
          0.41832376286280365,
          -1.0277443701394093,
          -0.6611049658549445,
          -0.648968049725579,
          -0.38526083549147083,
          0.1744841053717783,
          0.5248339009637616,
          -0.43529139936164796,
          1.1609463777718712,
          0.25898520090417526,
          -0.4269145394355844,
          -0.6464046362867734,
          0.4281503175252119,
          0.43273884603382323,
          -0.10281476747520217,
          1.7409198864727375,
          0.5389720184815595,
          0.20213755898732488,
          0.799508425445171,
          -2.2233358551456575,
          -0.2981841698859284,
          0.4103470932355611,
          -1.1839367028471564,
          -1.1071412055199383,
          -1.155973739361503,
          0.44715157638806874,
          0.710867710084307,
          -0.4873342819660026,
          0.607859482731234,
          0.1493626086872371,
          -0.5306247834551349,
          -1.4600986525329183,
          2.158879972144931,
          1.4175724059415618,
          2.3234746462337337,
          -0.7264340924704057,
          0.5380051620704812,
          -1.5551401795197852,
          -0.23681909680485771,
          0.4830988146821093,
          -1.665405322126903,
          -0.7714833608045422,
          0.4358784205841078,
          -0.9528768477392684,
          -1.681859153775365,
          -1.1853532984892745,
          0.03981564058481101,
          0.42768027326640906,
          -1.1439320101672565,
          0.48812003926868197,
          1.0666625856504628,
          0.011626124047278101,
          0.5060631780243181,
          1.486300160517925,
          -1.2844967685177457,
          -0.3713389048807114,
          1.9640017001666525,
          -0.16778180715887211,
          -0.6040355782456603,
          0.2917830774540987,
          -1.4741218575235362,
          -1.1120222115701317,
          0.3059623637210831,
          -0.43793654039099883,
          -0.5672204471636589,
          -1.4898328117949884,
          -0.43677317153655015,
          -0.9923148417845815,
          -0.20902437743052402,
          -1.0654567706274032,
          0.7770097252992104,
          0.33401701714382886,
          0.5252445248516949,
          1.8155609678787472,
          0.5081082583965715,
          -1.711762641022559,
          0.49594484497374647,
          1.7418772023653057,
          1.401774055858235,
          0.2819221874301151,
          0.13536712504467727,
          0.078413499629856,
          0.624522949093912,
          -0.3594263708981444,
          1.7406762762745638,
          1.7810790132391265,
          1.6140113589621845,
          1.6826908295445555,
          1.221578464912241,
          0.9220277790772227,
          1.7617395286963493,
          1.5690767467252886,
          2.7233564576301723,
          -0.4776370803199377,
          2.123302287001611,
          -1.1063612328204986,
          0.10993501322157981,
          -1.6569223971159324,
          -0.7710263136821053,
          0.6354891072036868,
          -0.9350760961442319,
          -3.1540523613575218,
          -1.213793872987984,
          -0.8438981481839072,
          -0.9125375098004516,
          0.23681176346469934,
          1.784584203047948,
          1.9879280654500089,
          1.8873203415832394,
          1.3890820852305379,
          0.5250577760428048,
          -0.6949754865209047,
          -1.6187760969086624,
          -1.0019065974555312,
          0.46327213127597927,
          -0.1628034037795058,
          0.9104905958323061,
          0.42987233925511104,
          -1.1802309291515323,
          -1.1011781151568316,
          -2.4095640228892568,
          -1.1367904663450688,
          -0.48103855836933834,
          -1.242917765011492,
          0.6135342320569052,
          0.06955499887095203,
          0.8825057082452477,
          5.661064469750119,
          -0.16173252619485426,
          0.5077876996618974,
          0.40145569484541044,
          0.6099267306357656,
          0.7221971732916744,
          -1.148249704227903,
          -0.30695042305714837,
          -0.7545499809956933,
          2.327751738173508,
          0.24686911448379784,
          2.4368300251600585,
          0.3434852089598273,
          0.5893342154021545,
          1.0175082866881124,
          0.6428230485845214,
          0.08601275154033117,
          1.321632533798585,
          1.7160008601508683,
          -0.5715956896217788,
          -0.838639442426914,
          -0.37632737319680043,
          -0.0043249871001247225,
          0.8203433536037066,
          0.9161667510871484,
          -0.14941271670467543,
          0.604210994393576,
          1.0137097562146562,
          0.1360376302861853,
          0.528316348789124,
          -0.7549928952607778,
          0.1660045425535338,
          0.9505098176612284,
          -0.12126743768402132,
          -0.27660102442963846,
          0.28234405241929045,
          -0.650534021633638,
          0.5842145967287761,
          0.5598043266791879,
          -0.4591874361420234,
          1.1835659275212267,
          0.7476109366159922,
          0.0904243598638339,
          -1.1641913972188527,
          0.5884791515413869,
          -0.9406279038400513,
          0.1852494298999763,
          0.19004799950629822,
          0.8947453894033408,
          1.505150653634188,
          0.8918238940497774,
          2.9135456906314796,
          0.19535040548850882,
          -2.134704275267385,
          -1.0963441427170535,
          -1.0963441427170535,
          -0.1798493552588937,
          -0.8950542673028732,
          0.4247555799804472,
          0.5831053065264429,
          -1.0849805099308247,
          -2.8428263971497514,
          -0.9306059402806278,
          -1.2361284238426473,
          -0.9994364223214948,
          -0.8532624380946269,
          -1.2052063378789568,
          -3.006413789118254,
          -0.7091852339985253,
          -1.0871716684012829,
          -0.5411080761057507,
          -2.0616820132566818,
          -1.8606143982219336,
          1.0730684436328795,
          -0.5750562636036334,
          -1.4422160971020845,
          0.18867895860108824,
          -1.375892005964168,
          -0.5901899611195257,
          0.9140536000059543,
          -2.3552209829195068,
          -1.1982458217627998,
          -1.4354924459885965,
          -2.282372401763109,
          -1.4495411317022098,
          -1.3961646106574352,
          -1.2322459853919856,
          -0.6873446047620466,
          -1.3331003309856064,
          -0.3457065151016627,
          -1.6510206389647315,
          -1.25504992585834,
          -0.607943890266063,
          -1.3761751048259685,
          -1.5947288333897742,
          -2.756815146103757,
          -2.097517448153191,
          -1.7890453009986327,
          0.2693814055156058,
          0.6810389452681557,
          -1.4846548825159835,
          0.7411803149126412,
          1.9235878436744307,
          -3.1653627866074645,
          4.8265599313504035,
          -0.08741851902060403,
          -2.0674106916733908,
          -2.9687344407540257,
          0.9064658020706734,
          0.7987656364710392,
          -0.5571382455449453,
          -0.2985993159826231,
          -1.1430498587646842,
          0.4817104725042958,
          0.24316610774922603,
          -1.280571140894984,
          -0.5518033813859757,
          -1.1406132411762946,
          -0.6281451448687281,
          -1.865098767014206,
          -0.07153712703738117,
          -1.5947560608544444,
          1.4829391941009902,
          -0.03041744399149845,
          1.9025446924993936,
          -0.6947868184198228,
          0.14542983433201398,
          -0.7902420934319347,
          -0.49582170715308455,
          0.4233905789931026,
          0.7902407593582277,
          -0.32635118487361314,
          1.1445857085486637,
          0.8799311581112462,
          -0.9439438340615446,
          -0.4296076407966252,
          0.6670912404694652,
          2.2933766544371093,
          -0.4854428229005889,
          -0.7261160220215037,
          0.6223149471238155,
          0.1614331792893234,
          0.7770097252992104,
          0.44940732397601973,
          0.2917261998932701,
          -2.855966032511476,
          -2.855966032511476,
          0.6559230533819512,
          1.4062937358818346,
          1.0147877716635707,
          -0.25782567626502184,
          2.161647716158938,
          0.9725077360054134,
          0.5566877659983643,
          -0.12451622959310024,
          0.3868410938488661,
          -2.2742671474040854,
          -0.5032745309280621,
          0.46325743828393107,
          0.24131108774216103,
          0.4347306693747573,
          -0.4860819155388495,
          1.3493684929291587,
          0.5291162113167031,
          1.368883238313567,
          -0.7445120828736255,
          -1.4873373485364942,
          -1.4723501299578932,
          -0.5094951483576838,
          -0.6626360277993757,
          -1.0397485474220614,
          -0.5147913976645235,
          0.6622361023624525,
          -0.12984942660822263,
          2.5095452655964965,
          0.03438825382887569,
          1.6820118145061855,
          -0.22151898410253884,
          -0.41545765369234583,
          1.8643364588341296,
          -0.6931916182715585,
          3.389284322513318,
          1.6888125651475736,
          0.7724804102748098,
          -0.02711420406282405,
          -0.4415817358862889,
          0.8066569243264339,
          1.3009605925765575,
          0.8036905200841312,
          1.4551854278010647,
          -0.9668417120819913,
          -1.6011254016144774,
          0.4239634544031924,
          0.9768693414114805,
          1.6643262992104437,
          0.661628273362355,
          -0.07493749940942962,
          -0.05341915052324353,
          1.58173316842686,
          0.2508037832268152,
          1.4150167553021749,
          0.9464624614115371,
          1.7854208091586623,
          -1.8986513450642573,
          1.660281990069677,
          -1.2797034194713293,
          -1.2278698439781424,
          1.5382079251100906,
          -0.9416686159264944,
          0.25954218045523403,
          1.0825135388044291,
          -0.4795650203233547,
          2.523417044763233,
          0.579912808986947,
          0.8994140052267775,
          -1.1652508706177394,
          3.5410661345301504,
          -0.6151603064563321,
          1.2037797236775656,
          -0.19189490558533984,
          3.7740953500324212,
          1.4190247050954994,
          0.46052362278154163,
          0.19506465400557918,
          0.8894868952712844,
          3.4923409189643304,
          0.5095306889194505,
          2.5580337274539566,
          2.9413296035633674,
          2.9585376283879397,
          0.6664854167602066,
          1.2751122185381918,
          1.0858549905634778,
          -1.022387489382868,
          -0.4896122311522351,
          -0.8883453305418866,
          -1.052714642681392,
          -1.5979672130884683,
          2.42054357980856,
          -0.018409808694463264,
          1.3150039075834283,
          0.05034428153885874,
          1.2175238766675394,
          1.4513188974470834,
          -0.7764384500968164,
          1.498983150219843,
          -2.1120286151716203,
          -0.8242950319505019,
          -0.7193176773642302,
          -0.5324102979469499,
          -0.737757044158714,
          -1.754926488342045,
          -1.1175832891565338,
          -0.8167610018597042,
          -1.4246076648562231,
          1.9210094918522966,
          2.5107890898612304,
          -1.0983810149208872,
          -0.31907824241307786,
          -0.7018982279762417,
          1.1118432949722437,
          -0.43925124042932384,
          0.2240357822135657,
          0.6909457256744229,
          0.13117975779423088,
          0.17250022808780538,
          0.6909457256744229,
          0.880144521294419,
          -0.17264943240538372,
          -0.9571843923901056,
          -0.34187442727366335,
          1.2354223195199183,
          -0.4772773599784323,
          0.674417509712883,
          -0.40133533548180494,
          0.024502695165668577,
          1.011488834505256,
          -0.8582289768525574,
          0.9394174796720536,
          0.41812138172327346,
          -0.8914675871467123,
          -1.5430309314244617,
          -1.0478864536138874,
          -0.5196969124319135,
          2.0933789127353646,
          0.04095302452669435,
          0.9543876770247633,
          -1.2613527108263538,
          -1.3497698875032393,
          0.10155215220948917,
          1.1395224978776366,
          -0.6224926824437768,
          -0.299610939979599,
          -0.03876120335108635,
          -0.3328413481692125,
          2.194871046268537,
          0.39266547523340795,
          -0.7082917138338334,
          0.29023198327406663,
          1.3922680305446038,
          0.6626605141152941,
          0.6693446790274961,
          3.8268321408784507,
          1.0358556804491097,
          1.8888243208696962,
          0.943067246158578,
          1.2597163972076517,
          -0.8635581785887421,
          -1.6236929721271725,
          -1.2939500198084293,
          -1.6971954084152043,
          1.9663728384182066,
          0.5163649992284995,
          0.5004206553924492,
          0.14092098116822493,
          -1.3864965358510808,
          -0.025169305094828905,
          -1.1102871922238344,
          -0.7901974202446429,
          -0.8316780531167163,
          -0.6670526559898636,
          1.455436764683401,
          0.9890710951795645,
          0.9287715899499602,
          -0.5819582864843333,
          3.1033319622259334,
          -1.2547084597372202,
          -0.5922012386467979,
          0.4435955306112867,
          -1.1720025427993501,
          0.13010784025672467,
          -0.826309714140057,
          0.5077876996618974,
          0.9391439233166042,
          -0.8361202369462645,
          -0.4171044591698217,
          0.7424716521704847,
          0.6133935006749368,
          -0.6458383516302338,
          -1.7510201157210274,
          -0.31983833145671553,
          -1.459640795466034,
          0.3245641073323003,
          -0.4305756298043259,
          -1.1280657628897404,
          -0.4656357674489752,
          1.2702245745656164,
          -0.21965273572097904,
          -0.6328920510936784,
          -0.6988975412606997,
          0.7686819591582678,
          -0.8578855206836891,
          -0.675103543740878,
          -0.48605547778189545,
          -0.6387093576147167,
          -2.300355427669755,
          -1.4089869637399504,
          0.5329524166170285,
          -0.5503229283988339,
          0.26496692510713765,
          0.16553005113670125,
          -1.7294067262714836,
          -1.5577347517846174,
          0.7672821803529766,
          1.2004658861734085,
          1.406140145354592,
          -2.3501932035980464,
          -0.08627299783939738,
          0.8446557092574338,
          -0.648785180974829,
          -1.71495946509268,
          0.0013927407355485886,
          -0.6547324029555955,
          -0.6716498259605335,
          -0.23597623740894394,
          0.9064187971729887,
          0.8189954933017397,
          -3.9657535964109125,
          -0.1170349719778276,
          -2.25675154277966,
          -0.09410452304932404,
          0.38125867172017913,
          2.6976463366123955,
          0.513112053766927,
          0.9959213711304591,
          -1.240268993045708,
          1.5628972442439981,
          -1.0607416100157325,
          -2.25675154277966,
          -0.9567877399978014,
          -1.729064874416463,
          0.2044930518485148,
          -1.423900417611844,
          0.2450571907275322,
          -0.2503357512574879,
          -0.05687280290597416,
          -0.06143591839480681,
          0.738566949401594,
          0.2171912836485002,
          0.7781800659952592,
          -0.6563513629989094,
          0.6651735153459141,
          -0.8660248605849103,
          0.10023142404119383,
          0.4355569975397255,
          -0.20416279444805527,
          -0.23066117701024683,
          -0.8316304566337259,
          0.7676614983898056,
          -0.24079201735998423,
          -0.2615215886055978,
          -0.41122320695675957,
          -0.8988800994715382,
          0.3336941223407045,
          0.6860578631441866,
          -0.49512140506259217,
          -0.059560190095300045,
          0.12075812107373478,
          0.44441784379878774,
          -0.6616514069680497,
          -1.411753952298209,
          0.2781575732523061,
          1.243929359758915,
          -0.23523107582540706,
          -1.292276764691027,
          0.13248114283797918,
          -0.5926544520710938,
          3.1162867697322585,
          0.23782341079723945,
          -0.6096458997580965,
          -0.693000323244,
          -1.132313622158647,
          2.1986968196259005,
          1.1580810480104022,
          1.245779047423988,
          2.3900983846499204,
          0.24373481668966673,
          1.0924350472162994,
          0.29035429531492135,
          -0.2222112872504589,
          1.8975682273569143,
          0.02128656045971249,
          1.3744385074292969,
          0.01571081049753146,
          1.9290845928997893,
          0.19741899494320087,
          2.3161896559614816,
          0.8430468316977218,
          0.7314162765751039,
          -0.7154802731599027,
          -2.2004649250143284,
          0.7920409187021247,
          -0.533544610580392,
          -0.611630632366396,
          3.60318211277672,
          1.0162723217827367,
          2.5978306373195355,
          1.010859868927458,
          1.093851232172892,
          2.2513235929449364,
          1.5770042098068626,
          1.3467527027553334,
          4.1850241321698665,
          2.089749500594101,
          1.038383244391955,
          2.350845883738033,
          1.2583716721302367,
          0.7401609265457794,
          2.1602288633856808,
          -1.7852850671989031,
          1.0456398874007033,
          0.028154177287873918,
          -0.9361637998069956,
          -0.5220718237448775,
          3.513969831465878,
          1.1131804574029098,
          2.537556457175946,
          -0.29017001406721854,
          -0.5300761897294424,
          -0.25693064754724704,
          -0.314266217741345,
          2.55667651975419,
          -0.032935202369641634,
          -0.1988579587147524,
          2.4016454281870807,
          1.0351778267918161,
          0.6444849876155502,
          0.028306074933143466,
          -2.1162902439844715,
          0.002363599937539685,
          0.11962982789439638,
          -2.347549242540532,
          -0.9201381858244979,
          -0.9743563680480013,
          0.6855028852755758,
          1.137090114462426,
          0.5578793427893975,
          0.2654487617243358,
          1.4026574288018083,
          -1.1982458217627998,
          -0.4598399809985948,
          0.004144946964962543,
          -0.1238592683778351,
          0.9074993270322161,
          2.9661176348304292,
          0.23373058553335285,
          -1.0639389150223284,
          -0.4622098125985692,
          -0.2980526711510942,
          -0.5943153326486942,
          -1.6613392304245767,
          -0.3679066722953543,
          -1.0497134604561356,
          -1.3494016832394515,
          0.7991499058784399,
          -1.6325913148629312,
          1.6707445011481419,
          -0.9660544362186653,
          -0.6556564907066481,
          -2.0606593454143645,
          -0.9655688502559303,
          -0.6386814446471735,
          0.39223597708810554,
          -0.8850916940287158,
          -0.37443829851878896,
          -0.8776851115060557,
          1.0174448376284784,
          -1.5475653090428996,
          -0.347675419533372,
          0.7476935362147711,
          -1.71581494734831,
          -0.10726619418296282,
          1.137100599423474,
          1.1252714892569737,
          -3.393722940762167,
          2.0080019600142665,
          0.34064027018072424,
          -1.9378358956816613,
          -1.640624010894919,
          0.3611379628164944,
          -0.11848794556724244,
          -1.3859775972109283,
          -0.8010825313436057,
          -0.6575570841874514,
          -0.8394366975160784,
          -0.5271531372802943,
          -0.6114212774880563,
          1.5845151521137213,
          -0.4643760537535916,
          -1.3018832532958369,
          -1.1516668256705351,
          -0.8751633821228613,
          -0.884766615800462,
          -1.1693233863795682,
          1.7741759054637434,
          -0.0879762404941767,
          0.0031216044997834295,
          -0.21948269271775622,
          -1.4655689988816663,
          -1.5463730166337186,
          0.4032761766150061,
          0.7755578306120942,
          -0.7059657906162852,
          0.5503898665299508,
          -1.118231783659827,
          0.562403675169846,
          -1.454991112591584,
          -0.6621999979037602,
          -0.46814956413727854,
          -0.4870410138231998,
          0.3301093954190278,
          1.0408259298766678,
          1.4738730430602922,
          0.5156531889061446,
          -0.01571567175588057,
          0.6860578631441866,
          1.287287428623741,
          -1.7328518095993366,
          0.6959769757292256,
          -0.007669339267967023,
          -0.026276856447329376,
          -2.3639641186732687,
          1.1631494108116485,
          -1.9638694381659358,
          0.5622885515036893,
          -1.1870319739345838,
          -1.2154061426403053,
          -1.4566505898126154,
          -2.2659149056848706,
          0.17948450776703603,
          0.09855330331148696,
          0.7424716521704847,
          -0.08219381352159495,
          -0.8236358611214692,
          -0.48352969560008824,
          -0.16310794825620137,
          -1.3903335627467286,
          -0.252390039017783,
          0.4873161663950982,
          -0.47860482608152993,
          -0.3195944017333591,
          -0.42283836051147694,
          0.4615724899439205,
          1.334594913341492,
          2.1353388542792646,
          -1.2603689420633657,
          0.6396464239450936,
          0.7174376136046097,
          2.345272967063731,
          1.3733289406188671,
          -0.5966630580451396,
          -0.8228496570941324,
          -2.416942245443598,
          0.9336350514741276,
          0.9336350514741276,
          0.23664873280865062,
          1.2386911146487667,
          -0.5418841654097432,
          0.8575279188846302,
          -0.7605992017394506,
          -0.23040106781687486,
          0.5411367955330897,
          1.3618413519709758,
          2.4571862199258576,
          -1.4898216303774763,
          -1.0689235689502816,
          -2.046513409718876,
          -0.9547823761436196,
          0.8758128302585254,
          -0.5020453808359149,
          -0.8450034896699764,
          -1.1505866051408806,
          -1.016271917275199,
          -0.6633142881216195,
          -1.6697928510711888,
          -1.3533738902887777,
          -0.9919352561058692,
          -1.0803934023175565,
          -0.6401416299877902,
          -1.3024094498395509,
          -1.5274633223822704,
          -1.8816369915962337,
          -0.6241541934765797,
          -1.108751387261616,
          -1.0937437785451827,
          -0.5769655569107655,
          1.350116593760211,
          -0.683570777646198,
          -0.21333495891230744,
          -1.7208881667392948,
          0.6069933473401385,
          -0.948557890908821,
          0.34063800496898095,
          -0.6728024875104716,
          0.009588568549990552,
          -0.3318682072964195,
          1.209933733185922,
          -0.04351653889015172,
          0.4724973084177475,
          0.16670061782509896,
          -0.4598399809985948,
          0.8379678502770364,
          -1.8668083916396305,
          0.39134901070350425,
          0.03003234442886058,
          0.33346010912390467,
          -0.41099462855907754,
          -0.7476281108276691,
          -0.5327999702766593,
          1.4165753877023446,
          -0.9778755269931462,
          0.5343302360287057,
          -1.102307666103706,
          -0.8610990263499396,
          -0.7747711983975587,
          -0.1436390775853731,
          -0.9146586648127367,
          -0.976541393852705,
          -1.7663661393860048,
          -1.130728960818976,
          -0.7087335536763921,
          -0.5947383472184755,
          0.07306755370479716,
          -1.5158796949645612,
          0.6613108686606765,
          1.1286274880828158,
          -2.058197767187699,
          1.0677052103269222,
          -0.30124592352344093,
          0.42578014988780627,
          -0.4026393357126611,
          0.2989675907068801,
          1.6285636697961754,
          -0.6663501829263646,
          1.8664334683739883,
          2.420357930284379,
          -1.1092347492996684,
          0.3200841475174364,
          0.031691890126980454,
          1.1160776457145423,
          -0.4394565205823324,
          2.0898309796232133,
          -0.7570751399473798,
          -0.7746598120563278,
          -0.3865389189137323,
          0.25707335983407015,
          0.06329890129218467,
          0.33736198173459203,
          0.22643180698531123,
          -1.3546107260806548,
          0.8002025039600884,
          -0.8889081107644077,
          -0.7286812887095799,
          1.3078694865346463,
          -0.611430259190772,
          0.5466667600703203,
          1.8234840719083254,
          2.2518211503014904,
          1.5327451810884463,
          1.6920378828976892,
          0.7022921431888587,
          1.9109285289174853,
          0.28044846146532343,
          -1.0498417887903437,
          3.60318211277672,
          -0.5242582112536096,
          0.7861182653546207,
          2.0403271912218006,
          0.16893016132376354,
          -0.08526345403740576,
          -0.011024140739627809,
          -0.7916755386423812,
          -1.2147270836405055,
          0.772446341323344,
          -0.30374574130359255,
          -2.3335427199807497,
          -0.356216849507364,
          0.12430303586946691,
          -1.1706210899866951,
          -2.3606274464677344,
          -1.6367819175495586,
          -0.5023576395671434,
          -2.7309258321583534,
          -1.2423446127955184,
          -0.838647032770633,
          -1.0079198521398576,
          -0.2276189352739285,
          -0.42160553228633335,
          -0.9631389674046086,
          2.489831978249957,
          0.7343740197596855,
          2.115364063407613,
          0.1372487388050839,
          1.012521315289639,
          -0.3700529157494542,
          -1.781530089631284,
          -1.188730482761491,
          -0.24042744331689514,
          -0.6167239342012006,
          -0.9734476761826591,
          -0.5688906477444722,
          -0.486167220621793,
          1.0076600514519942,
          -0.301505763366833,
          0.12897294715117796,
          2.530930018505616,
          0.9337858603263669,
          0.8418091510500209,
          -0.9333434321358227,
          -0.19397496311706552,
          -0.5671126380023025,
          1.5106561492724917,
          0.18074855667507528,
          -1.0463627822229704,
          -0.7333067303892984,
          -1.0246191375816263,
          0.868964826704901,
          2.4131387627924727,
          -1.047581484224627,
          0.9736919192976646,
          1.7212392934745582,
          -1.342900371291422,
          -0.5792383396463366,
          1.3474157429635798,
          1.2378265189856141,
          -0.6277344905438654,
          -0.46693744531297404,
          -0.6195438014522846,
          1.4249282490014075,
          0.9643381077505928,
          0.11165727459267907,
          0.9643381077505928,
          -0.12094841593244912,
          -0.43451549773971765,
          -0.8717228134320273,
          0.15079746470859628,
          0.2779790895369199,
          1.189489127296592,
          0.13692337593368356,
          2.2951298743783055,
          -1.2426905814373916,
          -0.34856941623504,
          0.3027643122628104,
          -0.9565041870588183,
          -0.03455778115238233,
          -0.2352821550030316,
          -0.2877116065230735,
          0.3349014483820879,
          -0.5519801147930513,
          -1.6671675160620276,
          0.34836557143281327,
          -0.6829322826912623,
          0.10279951612119882,
          -1.9959511402427046,
          0.2685118467719533,
          1.99461692486682,
          1.8483060822592694,
          1.0554925588676216,
          0.2187904044904816,
          -0.13570197581660892,
          0.9851968861900007,
          1.0680519747125803,
          -0.9423944222871226,
          -1.3267365895545913,
          0.23792831775974102,
          1.090673035438092,
          0.8260360840052856,
          -0.11461723951061582,
          1.8404077114195632,
          1.082354091994068,
          -0.8687738626484451,
          -0.5914828614287023,
          -0.8089063660175042,
          0.6170449549147401,
          -0.035800722938186404,
          1.5913428281037094,
          1.3560670015995668,
          -1.6287481707392566,
          -1.293349042832218,
          -0.6763485851962376,
          1.1830106693009672,
          0.6030493268732676,
          0.3823904837157765,
          3.024148516645295,
          1.4320445004928832,
          0.3422829734150212,
          -1.4187000715910445,
          1.681499986482137,
          2.799421051795822,
          -0.04549238763922226,
          0.46574141694873744,
          1.4198239456029416,
          0.5888953615807211,
          1.04443869332043,
          0.5964434905315009,
          0.08844995393029578,
          -0.04549238763922226,
          0.8977977758332204,
          -0.16885058170457973,
          0.5983088128366474,
          0.666744174813955,
          0.11485247399156026,
          -2.5769252053016785,
          0.23909640755805756,
          2.248756190662394,
          2.538734024943241,
          -0.056325911547831425,
          0.5964434905315009,
          1.9783020811682719,
          1.3560670015995668,
          2.916068975918375,
          -0.6225797561996641,
          0.25594206718460344,
          -0.29072442076003524,
          0.37573869502044394,
          1.5556309456722164,
          0.45063092760922524,
          0.7757854374142309,
          0.07431941987263724,
          -1.3080925230982405,
          -1.35243459829357,
          0.29360917681999626,
          3.309915508156942,
          -0.5551636406866731,
          0.567598716608107,
          2.6461398776378853,
          0.03399799833089949,
          0.6786040056615523,
          0.14923360423841353,
          -0.4559136008402382,
          2.9465579423623542,
          1.9486015356312536,
          0.6937156146030228,
          -0.6479161411275289,
          -0.16832643560406627,
          0.9206331889506497,
          -0.45076135107728166,
          -1.6238548107932456,
          -1.71495946509268,
          0.8246937348674239,
          -0.6046810983191561,
          0.9951455987502057,
          -0.49439614316897373,
          -0.19789301436615264,
          -0.17763361203952685,
          -0.08113594162833158,
          -3.591928184508251,
          0.015192898637177469,
          0.41832376286280365,
          -1.3430396251065218,
          -1.1533387805480775,
          -1.5144988077562584,
          -1.5909581557697041,
          -2.345699961945217,
          0.5187929455099799,
          -2.0068878431165365,
          -1.5610744785887478,
          0.4027243215517698,
          0.38857174117138243,
          2.471190761937056,
          -0.21414035832918057,
          3.002042958139077,
          2.4311389903409215,
          2.8822811672315183,
          0.9642980521378558,
          0.007995287376183748,
          -1.4448575644382033,
          -0.21558652585747426,
          -1.0494337432873808,
          -0.16881431329935398,
          -0.7392065333258843,
          2.179099357735234,
          -1.0820263567320558,
          -0.5618613817516005,
          0.05919103367562554,
          -1.0420534653157871,
          0.12324047273321452,
          -0.06624184533439177,
          -1.5632894769170864,
          -0.20455517338152973,
          -0.2825690317516739,
          -1.7373472894249375,
          -1.046587089328851,
          0.571893250165841,
          0.031844458972236186,
          -0.012659131268620876,
          1.040655436264777,
          2.0807189773265042,
          -2.2215790057935,
          -1.2942306228088347,
          -0.9232671973085135,
          1.6648500226504819,
          -2.251716443317534,
          2.2279199793837736,
          -1.4934305722339827,
          0.06759763053874031,
          -0.4220085249074848,
          -1.622499456596274,
          -0.8568498421627414,
          -1.7156119083516952,
          -0.40181400052585003,
          -1.9183111465675218,
          -1.0284176661154827,
          0.5662509076481931,
          -1.936092129048505,
          -1.36619702677716,
          -0.4790532667477206,
          1.532396117561847,
          0.6372584903149837,
          1.3733798976383877,
          -0.512635146997639,
          -0.47065776417615285,
          0.0005851604650566324,
          0.813600190691193,
          0.3899702635827716,
          -0.39546104811196664,
          -1.5825523645928807,
          -0.9178690058179503,
          -0.38203090899092174,
          0.1570831701082983,
          -0.9806604314366174,
          1.2573912397734015,
          0.5631582113333852,
          1.1114556668423152,
          0.19309430754008008,
          -3.0573576367230753,
          -2.7964050900954334,
          0.444193198132989,
          -0.5425621727635146,
          -0.8201583062849632,
          0.3751431940363826,
          -1.0223780840942371,
          -0.6070712876472273,
          -0.9624492068779535,
          -2.023747135601466,
          -0.08741851902060403,
          -0.2046286417953866,
          -0.08910926007141812,
          -2.0591628392523105,
          -1.1745357862551746,
          -0.6346088648189889,
          -0.5491745735455957,
          0.5095716897531226,
          0.8065406104992421,
          0.7411803149126412,
          -0.8558821629061242,
          -0.3657681542279313,
          -0.5309994855824132,
          -0.5213994519208938,
          -0.8095689157079903,
          1.1265825463110444,
          -0.20982947444075273,
          -1.1323946066926884,
          0.22119401719295234,
          -1.1950493627964516,
          1.4025390812695382,
          -0.5757347764161678,
          -0.7264869106374363,
          -0.741587847184419,
          0.06951336384573382,
          -0.20446565868520883,
          -0.01879031406313797,
          0.03139289071178988,
          0.35067005623607533,
          -1.112895632869604,
          1.81958689279591,
          1.8713013951568764,
          1.9181525956534915,
          -1.7186688480437633,
          0.8757893106119151,
          0.17563027053701286,
          -0.6929183840508931,
          -0.2872600209762618,
          0.20809406613317283,
          1.7764954026041293,
          -0.4085731850932744,
          0.029405535122963976,
          0.30289029594966455,
          0.9923583707665755,
          0.43377995483685844,
          -1.3564329550862617,
          0.586375836873628,
          2.923932736424931,
          1.0230580147774808,
          0.8397768146241352,
          2.571609178955056,
          -0.39274683629951224,
          0.3103645893388257,
          1.2122221199360634,
          -0.9105271986614418,
          -0.4231354934946322,
          -1.502293370470529,
          -0.3958114038540045,
          0.1105798058358048,
          -1.1364627595215082,
          0.9890710951795645,
          1.6893322614019677,
          0.9299479085907838,
          -0.45259687761377637,
          -0.7448746955627185,
          1.8574219818393143,
          0.3162113284328086,
          -3.591928184508251,
          -2.771569951986064,
          -1.0936649608603806,
          -0.8987367758535366,
          -0.7144851932041139,
          0.08471793830475358,
          3.402325258536716,
          0.5915376393811417,
          0.1959460261916843,
          0.03596508498121923,
          -0.757278749113472,
          0.48004216049067716,
          0.5277834265150186,
          -0.07029951988053439,
          -2.6459203144839663,
          -1.3983743516341585,
          -1.7875077633778882,
          0.8485646204971741,
          1.2059329792106614,
          -1.7241610708089115,
          -0.4721562361789331,
          -0.8206980878304454,
          -0.9083842640904375,
          -0.7454847813329016,
          -0.7426614340923866,
          -0.5761116798393021,
          1.263060490699311,
          -0.964840992139089,
          0.19368622313439787,
          0.9996039142658499,
          1.1575246422378045,
          -1.0936649608603806,
          -1.0936649608603806,
          3.024148516645295,
          1.58173316842686,
          1.6452582761714463,
          -2.4045788380748347,
          -2.457424990644709,
          -0.5475715725911335,
          -1.3098373709567714,
          -2.012652192581358,
          -2.4620510303808527,
          0.48391822240133175,
          -1.409148383077858,
          -1.5557878439244341,
          -1.710465901789654,
          -0.14939377576964835,
          -2.002703398075282,
          -2.220458417816704,
          -0.9119564427723744,
          -2.2209031233141743,
          -1.7536558307851082,
          -1.3764437205042668,
          -2.539680899330993,
          -1.928819509123396,
          0.45865280287595855,
          -0.7370750659682044,
          -1.4238717798777534,
          0.31313785015723167,
          0.03164626132905675,
          -0.9437787672942005,
          0.4220331476734184,
          -0.1918911909384053,
          -0.521167904818491,
          1.8836076923570353,
          1.2546259176505088,
          -1.7980071100359722,
          1.6046581333958057,
          0.5308244007763748,
          -1.467705069239333,
          -0.07553356999426486,
          -0.9371300061780329,
          0.9744129361419286,
          1.0808327860734221,
          -1.3498838940521092,
          -2.638297609738089,
          1.1075741810946924,
          -1.1968544636420635,
          -0.04985157001773327,
          -1.3368586236919504,
          3.3802062358742004,
          -0.9362765548657918,
          -0.8512302225203637,
          0.8312994793303592,
          1.1474159317775214,
          0.8692814620397288,
          -0.06373150398819608,
          -0.45242591189057596,
          -1.0487895677819883,
          -0.9786629053950843,
          -1.1203219593181073,
          -0.6009018213810919,
          0.4186241486931179,
          -0.3053760309640823,
          0.18024535423151322,
          -0.08741851902060403,
          -2.1446915046004653,
          0.861442034614352,
          0.13071407897492393,
          -0.2277504589672811,
          1.1093919174553257,
          0.506169689465505,
          2.51145092904646,
          -0.3562583850385006,
          0.2639556727669237,
          0.2716152626191439,
          -0.3396231129337273,
          0.8138121170061803,
          1.6452114399898885,
          1.2386818562700972,
          0.805064946653337,
          0.5777097466141731,
          -0.7454513238920513,
          0.7691464789300263,
          -0.23009953334279754,
          -1.1625225503153795,
          1.0967477999866921,
          -0.7762878624655949,
          -0.5844671710446079,
          -0.6061979063641805,
          -1.4869471807666146,
          1.7503448743454804,
          -0.6151603064563321,
          -1.653134426340768,
          0.7427151707507365,
          -0.7054157806980496,
          -0.03251912330296292,
          -2.341444922488861,
          1.8408479769371697,
          0.4150643762265156,
          -0.5229064046857327,
          -0.017125860721714903,
          -1.3049828462456494,
          -1.0897255704646878,
          -3.6952327527777546,
          -1.3907085464763482
         ],
         "yaxis": "y"
        }
       ],
       "layout": {
        "coloraxis": {
         "colorbar": {
          "title": {
           "text": "cluster_pca"
          }
         },
         "colorscale": [
          [
           0,
           "#0d0887"
          ],
          [
           0.1111111111111111,
           "#46039f"
          ],
          [
           0.2222222222222222,
           "#7201a8"
          ],
          [
           0.3333333333333333,
           "#9c179e"
          ],
          [
           0.4444444444444444,
           "#bd3786"
          ],
          [
           0.5555555555555556,
           "#d8576b"
          ],
          [
           0.6666666666666666,
           "#ed7953"
          ],
          [
           0.7777777777777778,
           "#fb9f3a"
          ],
          [
           0.8888888888888888,
           "#fdca26"
          ],
          [
           1,
           "#f0f921"
          ]
         ]
        },
        "legend": {
         "tracegroupgap": 0
        },
        "margin": {
         "t": 60
        },
        "template": {
         "data": {
          "bar": [
           {
            "error_x": {
             "color": "#2a3f5f"
            },
            "error_y": {
             "color": "#2a3f5f"
            },
            "marker": {
             "line": {
              "color": "#E5ECF6",
              "width": 0.5
             },
             "pattern": {
              "fillmode": "overlay",
              "size": 10,
              "solidity": 0.2
             }
            },
            "type": "bar"
           }
          ],
          "barpolar": [
           {
            "marker": {
             "line": {
              "color": "#E5ECF6",
              "width": 0.5
             },
             "pattern": {
              "fillmode": "overlay",
              "size": 10,
              "solidity": 0.2
             }
            },
            "type": "barpolar"
           }
          ],
          "carpet": [
           {
            "aaxis": {
             "endlinecolor": "#2a3f5f",
             "gridcolor": "white",
             "linecolor": "white",
             "minorgridcolor": "white",
             "startlinecolor": "#2a3f5f"
            },
            "baxis": {
             "endlinecolor": "#2a3f5f",
             "gridcolor": "white",
             "linecolor": "white",
             "minorgridcolor": "white",
             "startlinecolor": "#2a3f5f"
            },
            "type": "carpet"
           }
          ],
          "choropleth": [
           {
            "colorbar": {
             "outlinewidth": 0,
             "ticks": ""
            },
            "type": "choropleth"
           }
          ],
          "contour": [
           {
            "colorbar": {
             "outlinewidth": 0,
             "ticks": ""
            },
            "colorscale": [
             [
              0,
              "#0d0887"
             ],
             [
              0.1111111111111111,
              "#46039f"
             ],
             [
              0.2222222222222222,
              "#7201a8"
             ],
             [
              0.3333333333333333,
              "#9c179e"
             ],
             [
              0.4444444444444444,
              "#bd3786"
             ],
             [
              0.5555555555555556,
              "#d8576b"
             ],
             [
              0.6666666666666666,
              "#ed7953"
             ],
             [
              0.7777777777777778,
              "#fb9f3a"
             ],
             [
              0.8888888888888888,
              "#fdca26"
             ],
             [
              1,
              "#f0f921"
             ]
            ],
            "type": "contour"
           }
          ],
          "contourcarpet": [
           {
            "colorbar": {
             "outlinewidth": 0,
             "ticks": ""
            },
            "type": "contourcarpet"
           }
          ],
          "heatmap": [
           {
            "colorbar": {
             "outlinewidth": 0,
             "ticks": ""
            },
            "colorscale": [
             [
              0,
              "#0d0887"
             ],
             [
              0.1111111111111111,
              "#46039f"
             ],
             [
              0.2222222222222222,
              "#7201a8"
             ],
             [
              0.3333333333333333,
              "#9c179e"
             ],
             [
              0.4444444444444444,
              "#bd3786"
             ],
             [
              0.5555555555555556,
              "#d8576b"
             ],
             [
              0.6666666666666666,
              "#ed7953"
             ],
             [
              0.7777777777777778,
              "#fb9f3a"
             ],
             [
              0.8888888888888888,
              "#fdca26"
             ],
             [
              1,
              "#f0f921"
             ]
            ],
            "type": "heatmap"
           }
          ],
          "heatmapgl": [
           {
            "colorbar": {
             "outlinewidth": 0,
             "ticks": ""
            },
            "colorscale": [
             [
              0,
              "#0d0887"
             ],
             [
              0.1111111111111111,
              "#46039f"
             ],
             [
              0.2222222222222222,
              "#7201a8"
             ],
             [
              0.3333333333333333,
              "#9c179e"
             ],
             [
              0.4444444444444444,
              "#bd3786"
             ],
             [
              0.5555555555555556,
              "#d8576b"
             ],
             [
              0.6666666666666666,
              "#ed7953"
             ],
             [
              0.7777777777777778,
              "#fb9f3a"
             ],
             [
              0.8888888888888888,
              "#fdca26"
             ],
             [
              1,
              "#f0f921"
             ]
            ],
            "type": "heatmapgl"
           }
          ],
          "histogram": [
           {
            "marker": {
             "pattern": {
              "fillmode": "overlay",
              "size": 10,
              "solidity": 0.2
             }
            },
            "type": "histogram"
           }
          ],
          "histogram2d": [
           {
            "colorbar": {
             "outlinewidth": 0,
             "ticks": ""
            },
            "colorscale": [
             [
              0,
              "#0d0887"
             ],
             [
              0.1111111111111111,
              "#46039f"
             ],
             [
              0.2222222222222222,
              "#7201a8"
             ],
             [
              0.3333333333333333,
              "#9c179e"
             ],
             [
              0.4444444444444444,
              "#bd3786"
             ],
             [
              0.5555555555555556,
              "#d8576b"
             ],
             [
              0.6666666666666666,
              "#ed7953"
             ],
             [
              0.7777777777777778,
              "#fb9f3a"
             ],
             [
              0.8888888888888888,
              "#fdca26"
             ],
             [
              1,
              "#f0f921"
             ]
            ],
            "type": "histogram2d"
           }
          ],
          "histogram2dcontour": [
           {
            "colorbar": {
             "outlinewidth": 0,
             "ticks": ""
            },
            "colorscale": [
             [
              0,
              "#0d0887"
             ],
             [
              0.1111111111111111,
              "#46039f"
             ],
             [
              0.2222222222222222,
              "#7201a8"
             ],
             [
              0.3333333333333333,
              "#9c179e"
             ],
             [
              0.4444444444444444,
              "#bd3786"
             ],
             [
              0.5555555555555556,
              "#d8576b"
             ],
             [
              0.6666666666666666,
              "#ed7953"
             ],
             [
              0.7777777777777778,
              "#fb9f3a"
             ],
             [
              0.8888888888888888,
              "#fdca26"
             ],
             [
              1,
              "#f0f921"
             ]
            ],
            "type": "histogram2dcontour"
           }
          ],
          "mesh3d": [
           {
            "colorbar": {
             "outlinewidth": 0,
             "ticks": ""
            },
            "type": "mesh3d"
           }
          ],
          "parcoords": [
           {
            "line": {
             "colorbar": {
              "outlinewidth": 0,
              "ticks": ""
             }
            },
            "type": "parcoords"
           }
          ],
          "pie": [
           {
            "automargin": true,
            "type": "pie"
           }
          ],
          "scatter": [
           {
            "fillpattern": {
             "fillmode": "overlay",
             "size": 10,
             "solidity": 0.2
            },
            "type": "scatter"
           }
          ],
          "scatter3d": [
           {
            "line": {
             "colorbar": {
              "outlinewidth": 0,
              "ticks": ""
             }
            },
            "marker": {
             "colorbar": {
              "outlinewidth": 0,
              "ticks": ""
             }
            },
            "type": "scatter3d"
           }
          ],
          "scattercarpet": [
           {
            "marker": {
             "colorbar": {
              "outlinewidth": 0,
              "ticks": ""
             }
            },
            "type": "scattercarpet"
           }
          ],
          "scattergeo": [
           {
            "marker": {
             "colorbar": {
              "outlinewidth": 0,
              "ticks": ""
             }
            },
            "type": "scattergeo"
           }
          ],
          "scattergl": [
           {
            "marker": {
             "colorbar": {
              "outlinewidth": 0,
              "ticks": ""
             }
            },
            "type": "scattergl"
           }
          ],
          "scattermapbox": [
           {
            "marker": {
             "colorbar": {
              "outlinewidth": 0,
              "ticks": ""
             }
            },
            "type": "scattermapbox"
           }
          ],
          "scatterpolar": [
           {
            "marker": {
             "colorbar": {
              "outlinewidth": 0,
              "ticks": ""
             }
            },
            "type": "scatterpolar"
           }
          ],
          "scatterpolargl": [
           {
            "marker": {
             "colorbar": {
              "outlinewidth": 0,
              "ticks": ""
             }
            },
            "type": "scatterpolargl"
           }
          ],
          "scatterternary": [
           {
            "marker": {
             "colorbar": {
              "outlinewidth": 0,
              "ticks": ""
             }
            },
            "type": "scatterternary"
           }
          ],
          "surface": [
           {
            "colorbar": {
             "outlinewidth": 0,
             "ticks": ""
            },
            "colorscale": [
             [
              0,
              "#0d0887"
             ],
             [
              0.1111111111111111,
              "#46039f"
             ],
             [
              0.2222222222222222,
              "#7201a8"
             ],
             [
              0.3333333333333333,
              "#9c179e"
             ],
             [
              0.4444444444444444,
              "#bd3786"
             ],
             [
              0.5555555555555556,
              "#d8576b"
             ],
             [
              0.6666666666666666,
              "#ed7953"
             ],
             [
              0.7777777777777778,
              "#fb9f3a"
             ],
             [
              0.8888888888888888,
              "#fdca26"
             ],
             [
              1,
              "#f0f921"
             ]
            ],
            "type": "surface"
           }
          ],
          "table": [
           {
            "cells": {
             "fill": {
              "color": "#EBF0F8"
             },
             "line": {
              "color": "white"
             }
            },
            "header": {
             "fill": {
              "color": "#C8D4E3"
             },
             "line": {
              "color": "white"
             }
            },
            "type": "table"
           }
          ]
         },
         "layout": {
          "annotationdefaults": {
           "arrowcolor": "#2a3f5f",
           "arrowhead": 0,
           "arrowwidth": 1
          },
          "autotypenumbers": "strict",
          "coloraxis": {
           "colorbar": {
            "outlinewidth": 0,
            "ticks": ""
           }
          },
          "colorscale": {
           "diverging": [
            [
             0,
             "#8e0152"
            ],
            [
             0.1,
             "#c51b7d"
            ],
            [
             0.2,
             "#de77ae"
            ],
            [
             0.3,
             "#f1b6da"
            ],
            [
             0.4,
             "#fde0ef"
            ],
            [
             0.5,
             "#f7f7f7"
            ],
            [
             0.6,
             "#e6f5d0"
            ],
            [
             0.7,
             "#b8e186"
            ],
            [
             0.8,
             "#7fbc41"
            ],
            [
             0.9,
             "#4d9221"
            ],
            [
             1,
             "#276419"
            ]
           ],
           "sequential": [
            [
             0,
             "#0d0887"
            ],
            [
             0.1111111111111111,
             "#46039f"
            ],
            [
             0.2222222222222222,
             "#7201a8"
            ],
            [
             0.3333333333333333,
             "#9c179e"
            ],
            [
             0.4444444444444444,
             "#bd3786"
            ],
            [
             0.5555555555555556,
             "#d8576b"
            ],
            [
             0.6666666666666666,
             "#ed7953"
            ],
            [
             0.7777777777777778,
             "#fb9f3a"
            ],
            [
             0.8888888888888888,
             "#fdca26"
            ],
            [
             1,
             "#f0f921"
            ]
           ],
           "sequentialminus": [
            [
             0,
             "#0d0887"
            ],
            [
             0.1111111111111111,
             "#46039f"
            ],
            [
             0.2222222222222222,
             "#7201a8"
            ],
            [
             0.3333333333333333,
             "#9c179e"
            ],
            [
             0.4444444444444444,
             "#bd3786"
            ],
            [
             0.5555555555555556,
             "#d8576b"
            ],
            [
             0.6666666666666666,
             "#ed7953"
            ],
            [
             0.7777777777777778,
             "#fb9f3a"
            ],
            [
             0.8888888888888888,
             "#fdca26"
            ],
            [
             1,
             "#f0f921"
            ]
           ]
          },
          "colorway": [
           "#636efa",
           "#EF553B",
           "#00cc96",
           "#ab63fa",
           "#FFA15A",
           "#19d3f3",
           "#FF6692",
           "#B6E880",
           "#FF97FF",
           "#FECB52"
          ],
          "font": {
           "color": "#2a3f5f"
          },
          "geo": {
           "bgcolor": "white",
           "lakecolor": "white",
           "landcolor": "#E5ECF6",
           "showlakes": true,
           "showland": true,
           "subunitcolor": "white"
          },
          "hoverlabel": {
           "align": "left"
          },
          "hovermode": "closest",
          "mapbox": {
           "style": "light"
          },
          "paper_bgcolor": "white",
          "plot_bgcolor": "#E5ECF6",
          "polar": {
           "angularaxis": {
            "gridcolor": "white",
            "linecolor": "white",
            "ticks": ""
           },
           "bgcolor": "#E5ECF6",
           "radialaxis": {
            "gridcolor": "white",
            "linecolor": "white",
            "ticks": ""
           }
          },
          "scene": {
           "xaxis": {
            "backgroundcolor": "#E5ECF6",
            "gridcolor": "white",
            "gridwidth": 2,
            "linecolor": "white",
            "showbackground": true,
            "ticks": "",
            "zerolinecolor": "white"
           },
           "yaxis": {
            "backgroundcolor": "#E5ECF6",
            "gridcolor": "white",
            "gridwidth": 2,
            "linecolor": "white",
            "showbackground": true,
            "ticks": "",
            "zerolinecolor": "white"
           },
           "zaxis": {
            "backgroundcolor": "#E5ECF6",
            "gridcolor": "white",
            "gridwidth": 2,
            "linecolor": "white",
            "showbackground": true,
            "ticks": "",
            "zerolinecolor": "white"
           }
          },
          "shapedefaults": {
           "line": {
            "color": "#2a3f5f"
           }
          },
          "ternary": {
           "aaxis": {
            "gridcolor": "white",
            "linecolor": "white",
            "ticks": ""
           },
           "baxis": {
            "gridcolor": "white",
            "linecolor": "white",
            "ticks": ""
           },
           "bgcolor": "#E5ECF6",
           "caxis": {
            "gridcolor": "white",
            "linecolor": "white",
            "ticks": ""
           }
          },
          "title": {
           "x": 0.05
          },
          "xaxis": {
           "automargin": true,
           "gridcolor": "white",
           "linecolor": "white",
           "ticks": "",
           "title": {
            "standoff": 15
           },
           "zerolinecolor": "white",
           "zerolinewidth": 2
          },
          "yaxis": {
           "automargin": true,
           "gridcolor": "white",
           "linecolor": "white",
           "ticks": "",
           "title": {
            "standoff": 15
           },
           "zerolinecolor": "white",
           "zerolinewidth": 2
          }
         }
        },
        "xaxis": {
         "anchor": "y",
         "domain": [
          0,
          1
         ],
         "title": {
          "text": "x"
         }
        },
        "yaxis": {
         "anchor": "x",
         "domain": [
          0,
          1
         ],
         "title": {
          "text": "y"
         }
        }
       }
      }
     },
     "metadata": {},
     "output_type": "display_data"
    }
   ],
   "source": [
    "import plotly.express as px\n",
    "fig = px.scatter(\n",
    "   projection, x='x', y='y', color='cluster_pca', hover_data=['x', 'y', 'generos'])\n",
    "     \n",
    "fig.show()"
   ]
  },
  {
   "cell_type": "markdown",
   "metadata": {},
   "source": [
    "CLUSTER 0: músicas clássicas\n",
    "CLUSTER 1: rap e hip hop\n",
    "CLUSTER 2: músicas mais agitadas, pop, funk\n",
    "CLUSTER 3: músicas folk e tradicionais\n",
    "CLUSTER 4: eletrônicas"
   ]
  },
  {
   "cell_type": "code",
   "execution_count": 96,
   "metadata": {},
   "outputs": [],
   "source": [
    "dados_totais = pd.read_csv('Dados/Dados_totais.csv')\n",
    "dados_totais = dados_totais.drop(columns = ['explicit', 'mode', 'key'])\n",
    "dados_genero = pd.read_csv('Dados/data_by_genres.csv')\n",
    "dados_genero = dados_genero.drop(columns = ['mode', 'key'])\n",
    "dados_ano = pd.read_csv('Dados/data_by_year.csv')\n",
    "dados_ano = dados_ano.drop(columns = ['mode', 'key'])"
   ]
  },
  {
   "cell_type": "code",
   "execution_count": 97,
   "metadata": {},
   "outputs": [
    {
     "name": "stdout",
     "output_type": "stream",
     "text": [
      "Initialization complete\n",
      "Iteration 0, inertia 9180.818733628275.\n",
      "Iteration 1, inertia 7674.416586493957.\n",
      "Iteration 2, inertia 7408.863779530154.\n",
      "Iteration 3, inertia 7297.241112869668.\n",
      "Iteration 4, inertia 7252.542609438394.\n",
      "Iteration 5, inertia 7238.039411411558.\n",
      "Iteration 6, inertia 7229.271302257934.\n",
      "Iteration 7, inertia 7224.053581787615.\n",
      "Iteration 8, inertia 7220.072275172366.\n",
      "Iteration 9, inertia 7215.774381258094.\n",
      "Iteration 10, inertia 7209.043037859959.\n",
      "Iteration 11, inertia 7201.791059626862.\n",
      "Iteration 12, inertia 7191.243361949478.\n",
      "Iteration 13, inertia 7167.215082691484.\n",
      "Iteration 14, inertia 7117.516589675601.\n",
      "Iteration 15, inertia 7059.1363439979195.\n",
      "Iteration 16, inertia 6977.894317794173.\n",
      "Iteration 17, inertia 6855.847000020074.\n",
      "Iteration 18, inertia 6697.253421112542.\n",
      "Iteration 19, inertia 6552.562683940658.\n",
      "Iteration 20, inertia 6437.551772513488.\n",
      "Iteration 21, inertia 6395.238291603736.\n",
      "Iteration 22, inertia 6378.849002287983.\n",
      "Iteration 23, inertia 6372.851108337216.\n",
      "Iteration 24, inertia 6370.729417603031.\n",
      "Iteration 25, inertia 6368.35536323021.\n",
      "Iteration 26, inertia 6366.936773047661.\n",
      "Iteration 27, inertia 6365.415279513625.\n",
      "Iteration 28, inertia 6360.88410701499.\n",
      "Iteration 29, inertia 6359.157129848038.\n",
      "Converged at iteration 29: center shift 6.365357351030834e-05 within tolerance 0.00022252487392439453.\n",
      "Initialization complete\n",
      "Iteration 0, inertia 8653.792985135953.\n",
      "Iteration 1, inertia 7084.12108197245.\n",
      "Iteration 2, inertia 6972.668634130992.\n",
      "Iteration 3, inertia 6940.5974374887755.\n",
      "Iteration 4, inertia 6925.777319588133.\n",
      "Iteration 5, inertia 6912.688626037431.\n",
      "Iteration 6, inertia 6902.892754792212.\n",
      "Iteration 7, inertia 6896.406675980074.\n",
      "Iteration 8, inertia 6891.912633975318.\n",
      "Iteration 9, inertia 6890.270492509977.\n",
      "Iteration 10, inertia 6888.190231529028.\n",
      "Iteration 11, inertia 6885.207949307453.\n",
      "Iteration 12, inertia 6881.264068063014.\n",
      "Iteration 13, inertia 6876.408193216706.\n",
      "Iteration 14, inertia 6865.10066478863.\n",
      "Iteration 15, inertia 6848.889169370055.\n",
      "Iteration 16, inertia 6829.563959401233.\n",
      "Iteration 17, inertia 6806.679890691535.\n",
      "Iteration 18, inertia 6769.282129482303.\n",
      "Iteration 19, inertia 6717.681129218967.\n",
      "Iteration 20, inertia 6629.324844259953.\n",
      "Iteration 21, inertia 6545.184499723885.\n",
      "Iteration 22, inertia 6458.062999176065.\n",
      "Iteration 23, inertia 6399.061780078675.\n",
      "Iteration 24, inertia 6379.38266384266.\n",
      "Iteration 25, inertia 6370.283765038336.\n",
      "Iteration 26, inertia 6363.512809913723.\n",
      "Iteration 27, inertia 6359.922887592429.\n",
      "Iteration 28, inertia 6359.213639776901.\n",
      "Converged at iteration 28: center shift 5.537526580740713e-05 within tolerance 0.00022252487392439453.\n",
      "Initialization complete\n",
      "Iteration 0, inertia 8658.612799928265.\n",
      "Iteration 1, inertia 7096.495227996491.\n",
      "Iteration 2, inertia 6953.785579422355.\n",
      "Iteration 3, inertia 6913.063301072382.\n",
      "Iteration 4, inertia 6896.209289563197.\n",
      "Iteration 5, inertia 6890.598971998481.\n",
      "Iteration 6, inertia 6888.071099934905.\n",
      "Iteration 7, inertia 6884.436599729692.\n",
      "Iteration 8, inertia 6880.752578602949.\n",
      "Iteration 9, inertia 6875.100473709425.\n",
      "Iteration 10, inertia 6864.514176005515.\n",
      "Iteration 11, inertia 6849.717667666302.\n",
      "Iteration 12, inertia 6830.493487303052.\n",
      "Iteration 13, inertia 6807.126509237731.\n",
      "Iteration 14, inertia 6768.659408264648.\n",
      "Iteration 15, inertia 6708.982607789798.\n",
      "Iteration 16, inertia 6621.4126432362.\n",
      "Iteration 17, inertia 6543.5834883648495.\n",
      "Iteration 18, inertia 6454.2145100476.\n",
      "Iteration 19, inertia 6393.859490491332.\n",
      "Iteration 20, inertia 6377.1855107342735.\n",
      "Iteration 21, inertia 6367.3309795349805.\n",
      "Iteration 22, inertia 6363.228591599931.\n",
      "Iteration 23, inertia 6360.508951161536.\n",
      "Iteration 24, inertia 6359.6531395000175.\n",
      "Iteration 25, inertia 6359.16777843027.\n",
      "Converged at iteration 25: center shift 1.8810732009482094e-05 within tolerance 0.00022252487392439453.\n",
      "Initialization complete\n",
      "Iteration 0, inertia 8127.146588637442.\n",
      "Iteration 1, inertia 6717.920882126108.\n",
      "Iteration 2, inertia 6454.276909716162.\n",
      "Iteration 3, inertia 6396.763424381784.\n",
      "Iteration 4, inertia 6376.605532906997.\n",
      "Iteration 5, inertia 6368.540964319191.\n",
      "Iteration 6, inertia 6365.210930680045.\n",
      "Iteration 7, inertia 6363.603785794616.\n",
      "Iteration 8, inertia 6362.637901147762.\n",
      "Iteration 9, inertia 6361.855398777124.\n",
      "Iteration 10, inertia 6361.437565493785.\n",
      "Converged at iteration 10: center shift 0.00010398042831377983 within tolerance 0.00022252487392439453.\n",
      "Initialization complete\n",
      "Iteration 0, inertia 8564.286450565813.\n",
      "Iteration 1, inertia 6803.220298078363.\n",
      "Iteration 2, inertia 6527.5918298946235.\n",
      "Iteration 3, inertia 6448.437628319144.\n",
      "Iteration 4, inertia 6412.209332298232.\n",
      "Iteration 5, inertia 6393.455018389899.\n",
      "Iteration 6, inertia 6382.496849100983.\n",
      "Iteration 7, inertia 6374.894781141705.\n",
      "Iteration 8, inertia 6369.039049907922.\n",
      "Iteration 9, inertia 6364.342048271247.\n",
      "Iteration 10, inertia 6360.139291014732.\n",
      "Iteration 11, inertia 6359.2511638802325.\n",
      "Converged at iteration 11: center shift 0.0001380656182099852 within tolerance 0.00022252487392439453.\n",
      "Initialization complete\n",
      "Iteration 0, inertia 8637.958858104495.\n",
      "Iteration 1, inertia 7042.007795249788.\n",
      "Iteration 2, inertia 6681.0912857760995.\n",
      "Iteration 3, inertia 6486.439010833807.\n",
      "Iteration 4, inertia 6403.944866477275.\n",
      "Iteration 5, inertia 6376.3438570689395.\n",
      "Iteration 6, inertia 6368.537809105804.\n",
      "Iteration 7, inertia 6366.40013851495.\n",
      "Iteration 8, inertia 6364.339824262312.\n",
      "Iteration 9, inertia 6360.898817359236.\n",
      "Iteration 10, inertia 6359.132947861429.\n",
      "Converged at iteration 10: center shift 2.417415360693105e-05 within tolerance 0.00022252487392439453.\n",
      "Initialization complete\n",
      "Iteration 0, inertia 9347.526249223069.\n",
      "Iteration 1, inertia 7991.835566331912.\n",
      "Iteration 2, inertia 7617.2718329793115.\n",
      "Iteration 3, inertia 7368.628179136577.\n",
      "Iteration 4, inertia 7185.626830620555.\n",
      "Iteration 5, inertia 7009.337554398453.\n",
      "Iteration 6, inertia 6791.517284825165.\n",
      "Iteration 7, inertia 6566.9236114682635.\n",
      "Iteration 8, inertia 6466.342000337838.\n",
      "Iteration 9, inertia 6428.883237076288.\n",
      "Iteration 10, inertia 6404.329814475364.\n",
      "Iteration 11, inertia 6389.767315893762.\n",
      "Iteration 12, inertia 6378.557498923148.\n",
      "Iteration 13, inertia 6370.885097065142.\n",
      "Iteration 14, inertia 6367.768773516405.\n",
      "Iteration 15, inertia 6365.592531290088.\n",
      "Iteration 16, inertia 6363.47406908121.\n",
      "Iteration 17, inertia 6362.081107224357.\n",
      "Iteration 18, inertia 6361.507701745298.\n",
      "Converged at iteration 18: center shift 0.00016779859189946708 within tolerance 0.00022252487392439453.\n",
      "Initialization complete\n",
      "Iteration 0, inertia 9128.109512991441.\n",
      "Iteration 1, inertia 7799.035464207561.\n",
      "Iteration 2, inertia 7504.192852718801.\n",
      "Iteration 3, inertia 7360.672534904739.\n",
      "Iteration 4, inertia 7282.795459917313.\n",
      "Iteration 5, inertia 7251.172569808037.\n",
      "Iteration 6, inertia 7239.542775185612.\n",
      "Iteration 7, inertia 7233.077537930696.\n",
      "Iteration 8, inertia 7228.298994642395.\n",
      "Iteration 9, inertia 7223.689906816215.\n",
      "Iteration 10, inertia 7220.872482195631.\n",
      "Iteration 11, inertia 7219.042419243951.\n",
      "Iteration 12, inertia 7217.037839423402.\n",
      "Iteration 13, inertia 7212.552251082877.\n",
      "Iteration 14, inertia 7207.324783466084.\n",
      "Iteration 15, inertia 7199.949946027151.\n",
      "Iteration 16, inertia 7187.58650465622.\n",
      "Iteration 17, inertia 7155.573749086771.\n",
      "Iteration 18, inertia 7106.648933773576.\n",
      "Iteration 19, inertia 7044.172443926037.\n",
      "Iteration 20, inertia 6950.90772071553.\n",
      "Iteration 21, inertia 6828.594969168576.\n",
      "Iteration 22, inertia 6666.061829208336.\n",
      "Iteration 23, inertia 6532.051504852419.\n",
      "Iteration 24, inertia 6433.711801405081.\n",
      "Iteration 25, inertia 6394.555839814478.\n",
      "Iteration 26, inertia 6378.887386229924.\n",
      "Iteration 27, inertia 6371.925778879822.\n",
      "Iteration 28, inertia 6365.347073096829.\n",
      "Iteration 29, inertia 6361.0887285089575.\n",
      "Iteration 30, inertia 6359.346509081754.\n",
      "Converged at iteration 30: center shift 0.00016535437823093379 within tolerance 0.00022252487392439453.\n",
      "Initialization complete\n",
      "Iteration 0, inertia 8676.634145939155.\n",
      "Iteration 1, inertia 7645.657158768114.\n",
      "Iteration 2, inertia 7374.847254892642.\n",
      "Iteration 3, inertia 7262.948141908315.\n",
      "Iteration 4, inertia 7200.821485863327.\n",
      "Iteration 5, inertia 7134.62965390841.\n",
      "Iteration 6, inertia 7089.4244754339015.\n",
      "Iteration 7, inertia 7054.731232832596.\n",
      "Iteration 8, inertia 7023.07459890561.\n",
      "Iteration 9, inertia 6999.506879977751.\n",
      "Iteration 10, inertia 6970.288143047499.\n",
      "Iteration 11, inertia 6943.621088268585.\n",
      "Iteration 12, inertia 6922.2274894553975.\n",
      "Iteration 13, inertia 6902.720632768647.\n",
      "Iteration 14, inertia 6882.518792967866.\n",
      "Iteration 15, inertia 6860.387440757035.\n",
      "Iteration 16, inertia 6836.528644204961.\n",
      "Iteration 17, inertia 6817.621554673362.\n",
      "Iteration 18, inertia 6785.756588712292.\n",
      "Iteration 19, inertia 6732.291915858197.\n",
      "Iteration 20, inertia 6661.991939402931.\n",
      "Iteration 21, inertia 6568.360244124089.\n",
      "Iteration 22, inertia 6482.909933623922.\n",
      "Iteration 23, inertia 6409.561636051806.\n",
      "Iteration 24, inertia 6382.761866219129.\n",
      "Iteration 25, inertia 6372.724189244352.\n",
      "Iteration 26, inertia 6365.040487448974.\n",
      "Iteration 27, inertia 6361.1907540934135.\n",
      "Iteration 28, inertia 6359.689293652646.\n",
      "Converged at iteration 28: center shift 0.00020231150055276525 within tolerance 0.00022252487392439453.\n",
      "Initialization complete\n",
      "Iteration 0, inertia 9331.137848249444.\n",
      "Iteration 1, inertia 7530.113140969649.\n",
      "Iteration 2, inertia 7357.4071831544425.\n",
      "Iteration 3, inertia 7282.548701855987.\n",
      "Iteration 4, inertia 7239.694505556119.\n",
      "Iteration 5, inertia 7206.805751273347.\n",
      "Iteration 6, inertia 7185.927306633128.\n",
      "Iteration 7, inertia 7169.566376024389.\n",
      "Iteration 8, inertia 7160.021346682324.\n",
      "Iteration 9, inertia 7152.485642617159.\n",
      "Iteration 10, inertia 7150.170013039553.\n",
      "Iteration 11, inertia 7147.611289096045.\n",
      "Iteration 12, inertia 7145.595864570878.\n",
      "Iteration 13, inertia 7145.288802445258.\n",
      "Iteration 14, inertia 7144.809567628598.\n",
      "Iteration 15, inertia 7144.552659030984.\n",
      "Iteration 16, inertia 7144.174068652705.\n",
      "Iteration 17, inertia 7143.967361674563.\n",
      "Converged at iteration 17: center shift 0.00014801950196449985 within tolerance 0.00022252487392439453.\n"
     ]
    },
    {
     "name": "stderr",
     "output_type": "stream",
     "text": [
      "C:\\Users\\lucas\\AppData\\Local\\Packages\\PythonSoftwareFoundation.Python.3.11_qbz5n2kfra8p0\\LocalCache\\local-packages\\Python311\\site-packages\\sklearn\\cluster\\_kmeans.py:1416: FutureWarning:\n",
      "\n",
      "The default value of `n_init` will change from 10 to 'auto' in 1.4. Set the value of `n_init` explicitly to suppress the warning\n",
      "\n"
     ]
    }
   ],
   "source": [
    "#CLUSTERIZAÇÃO POR DANÇABILIDADE\n",
    "\n",
    "dados_danca = dados_genero.drop(columns = ['genres'])\n",
    "# pré-processamento e redução da dimensionalidade dos dados de gênero\n",
    "SEED = 123\n",
    "np.random.seed(SEED)\n",
    "\n",
    "pca_pipeline = Pipeline([('scaler', StandardScaler()), ('PCA', PCA(n_components=3, random_state=SEED))])\n",
    "\n",
    "danca_embedding_pca = pca_pipeline.fit_transform(dados_danca)\n",
    "projection = pd.DataFrame(columns=['x', 'y', 'z'], data=danca_embedding_pca)\n",
    "\n",
    "kmeans_pca = KMeans(n_clusters=5, verbose=True, random_state=SEED)\n",
    "\n",
    "kmeans_pca.fit(projection)\n",
    "\n",
    "dados_genero['cluster_pca'] = kmeans_pca.predict(projection)\n",
    "projection['cluster_pca'] = kmeans_pca.predict(projection)\n",
    "\n",
    "projection['danca'] = dados_genero['danceability']"
   ]
  },
  {
   "cell_type": "code",
   "execution_count": 98,
   "metadata": {},
   "outputs": [
    {
     "data": {
      "application/vnd.plotly.v1+json": {
       "config": {
        "plotlyServerURL": "https://plot.ly"
       },
       "data": [
        {
         "customdata": [
          [
           0.1628833333333333
          ],
          [
           0.2993333333333333
          ],
          [
           0.7120000000000001
          ],
          [
           0.5290925603549332
          ],
          [
           0.5389612464387464
          ],
          [
           0.5161666666666667
          ],
          [
           0.623
          ],
          [
           0.6945709366391184
          ],
          [
           0.588
          ],
          [
           0.6248125
          ],
          [
           0.6774
          ],
          [
           0.4472389930828895
          ],
          [
           0.6629999999999999
          ],
          [
           0.4204582850241546
          ],
          [
           0.6069147720232645
          ],
          [
           0.5351083171521532
          ],
          [
           0.5391115702479339
          ],
          [
           0.5243968253968254
          ],
          [
           0.412
          ],
          [
           0.5047142857142857
          ],
          [
           0.4963276348996665
          ],
          [
           0.5315
          ],
          [
           0.6517142857142858
          ],
          [
           0.4403333333333333
          ],
          [
           0.6003636363636364
          ],
          [
           0.753
          ],
          [
           0.6688958333333335
          ],
          [
           0.283975667287399
          ],
          [
           0.6434583333333334
          ],
          [
           0.636
          ],
          [
           0.6243333333333334
          ],
          [
           0.7659999999999999
          ],
          [
           0.8031481481481482
          ],
          [
           0.6329610303477765
          ],
          [
           0.6335189768676742
          ],
          [
           0.484
          ],
          [
           0.6258032134839117
          ],
          [
           0.71175
          ],
          [
           0.6013333333333334
          ],
          [
           0.557375
          ],
          [
           0.4065
          ],
          [
           0.6861151282409347
          ],
          [
           0.7396666666666668
          ],
          [
           0.6829999999999999
          ],
          [
           0.852
          ],
          [
           0.5939916666666667
          ],
          [
           0.885
          ],
          [
           0.512030610234557
          ],
          [
           0.5621018518518519
          ],
          [
           0.46625
          ],
          [
           0.797
          ],
          [
           0.493904513888889
          ],
          [
           0.5425796669270009
          ],
          [
           0.6040664401877522
          ],
          [
           0.4948079814315665
          ],
          [
           0.7009170241158568
          ],
          [
           0.4588281151396744
          ],
          [
           0.4550662576444718
          ],
          [
           0.6192294372294374
          ],
          [
           0.6622768826542451
          ],
          [
           0.4783424276886565
          ],
          [
           0.4933421052631579
          ],
          [
           0.748507326007326
          ],
          [
           0.3350752947488824
          ],
          [
           0.2638333333333333
          ],
          [
           0.5285972934472934
          ],
          [
           0.6359999999999999
          ],
          [
           0.3505
          ],
          [
           0.746
          ],
          [
           0.2764166666666666
          ],
          [
           0.726
          ],
          [
           0.3374277777777777
          ],
          [
           0.15565
          ],
          [
           0.229740742481203
          ],
          [
           0.3553547222172736
          ],
          [
           0.3181496647509579
          ],
          [
           0.1715
          ],
          [
           0.5351211372263025
          ],
          [
           0.4074999999999999
          ],
          [
           0.3973823574849173
          ],
          [
           0.4955200000000001
          ],
          [
           0.2672358330558825
          ],
          [
           0.4566979166666666
          ],
          [
           0.3490272401433692
          ],
          [
           0.3173994755244756
          ],
          [
           0.3704
          ],
          [
           0.5321
          ],
          [
           0.2862726495726495
          ],
          [
           0.2392565656565657
          ],
          [
           0.799
          ],
          [
           0.4836419202644202
          ],
          [
           0.49878
          ],
          [
           0.5016576719576721
          ],
          [
           0.4735439909670027
          ],
          [
           0.5473723076923077
          ],
          [
           0.5088797235023041
          ],
          [
           0.4736439744173603
          ],
          [
           0.5122209371908248
          ],
          [
           0.583
          ],
          [
           0.6606965950715951
          ],
          [
           0.5505155188554031
          ],
          [
           0.3939167192456667
          ],
          [
           0.5436666666666666
          ],
          [
           0.5789103741496601
          ],
          [
           0.415
          ],
          [
           0.351
          ],
          [
           0.4878333333333333
          ],
          [
           0.4756666666666666
          ],
          [
           0.6900000000000001
          ],
          [
           0.58375
          ],
          [
           0.737125
          ],
          [
           0.5578571428571428
          ],
          [
           0.62
          ],
          [
           0.5710000000000001
          ],
          [
           0.7523425925925925
          ],
          [
           0.5855264629397458
          ],
          [
           0.622
          ],
          [
           0.4903333333333333
          ],
          [
           0.5749568775620477
          ],
          [
           0.6745
          ],
          [
           0.4300000000000001
          ],
          [
           0.1369999999999999
          ],
          [
           0.539091243531713
          ],
          [
           0.5492970916563717
          ],
          [
           0.4977119857814095
          ],
          [
           0.3407063005534269
          ],
          [
           0.557
          ],
          [
           0.5479999999999999
          ],
          [
           0.7636000000000001
          ],
          [
           0.1852222222222222
          ],
          [
           0.5096802967563837
          ],
          [
           0.7353641372237832
          ],
          [
           0.7221309398010799
          ],
          [
           0.5667
          ],
          [
           0.4490611111111111
          ],
          [
           0.5065
          ],
          [
           0.2700989795918367
          ],
          [
           0.2638333333333333
          ],
          [
           0.6829999999999999
          ],
          [
           0.29
          ],
          [
           0.8690000000000001
          ],
          [
           0.29
          ],
          [
           0.5735625
          ],
          [
           0.5125000000000001
          ],
          [
           0.6307153846153846
          ],
          [
           0.5716041666666667
          ],
          [
           0.5395416666666666
          ],
          [
           0.6055512820512821
          ],
          [
           0.4844173913043479
          ],
          [
           0.5318218750000001
          ],
          [
           0.301
          ],
          [
           0.7097467532467532
          ],
          [
           0.291
          ],
          [
           0.3569999999999999
          ],
          [
           0.113
          ],
          [
           0.5942231578947368
          ],
          [
           0.6112521377317732
          ],
          [
           0.5741815189712248
          ],
          [
           0.572375
          ],
          [
           0.6661167355371902
          ],
          [
           0.6258571428571429
          ],
          [
           0.5856053921568628
          ],
          [
           0.5263749999999999
          ],
          [
           0.529
          ],
          [
           0.479
          ],
          [
           0.392
          ],
          [
           0.4569291666666666
          ],
          [
           0.5906324019677118
          ],
          [
           0.594
          ],
          [
           0.430125
          ],
          [
           0.4718475362318839
          ],
          [
           0.6174999999999999
          ],
          [
           0.5528299999999999
          ],
          [
           0.5501188021887452
          ],
          [
           0.65475
          ],
          [
           0.3126666666666666
          ],
          [
           0.536
          ],
          [
           0.7566666666666667
          ],
          [
           0.535
          ],
          [
           0.2245555555555555
          ],
          [
           0.3463606601731602
          ],
          [
           0.2380837077892421
          ],
          [
           0.4861666666666667
          ],
          [
           0.3656761904761905
          ],
          [
           0.7496
          ],
          [
           0.727
          ],
          [
           0.2636813725490197
          ],
          [
           0.3162635067607289
          ],
          [
           0.4504958331128306
          ],
          [
           0.396
          ],
          [
           0.6280185185185184
          ],
          [
           0.42975
          ],
          [
           0.7055428571428571
          ],
          [
           0.6218571428571428
          ],
          [
           0.7739951804134322
          ],
          [
           0.756246103703401
          ],
          [
           0.2581319444444444
          ],
          [
           0.44905
          ],
          [
           0.477
          ],
          [
           0.536
          ],
          [
           0.6405555555555555
          ],
          [
           0.8157777777777778
          ],
          [
           0.6908000000000001
          ],
          [
           0.563
          ],
          [
           0.6227218283478171
          ],
          [
           0.6295000000000001
          ],
          [
           0.544
          ],
          [
           0.3179999999999999
          ],
          [
           0.3975241341991342
          ],
          [
           0.3638109810275924
          ],
          [
           0.23675
          ],
          [
           0.8315
          ],
          [
           0.4575939814814816
          ],
          [
           0.6904265542317026
          ],
          [
           0.6562504464285716
          ],
          [
           0.6376833333333334
          ],
          [
           0.6442000000000001
          ],
          [
           0.5934000000000001
          ],
          [
           0.4984759398496239
          ],
          [
           0.4723780991735537
          ],
          [
           0.5511109802223579
          ],
          [
           0.3133
          ],
          [
           0.724242652329749
          ],
          [
           0.5118055555555556
          ],
          [
           0.5096111111111111
          ],
          [
           0.531
          ],
          [
           0.3135952380952381
          ],
          [
           0.3886372464900305
          ],
          [
           0.3906666666666667
          ],
          [
           0.341739692222954
          ],
          [
           0.5098733871188394
          ],
          [
           0.193
          ],
          [
           0.3936250000000001
          ],
          [
           0.515
          ],
          [
           0.7405833333333333
          ],
          [
           0.5690625
          ],
          [
           0.6226891941391942
          ],
          [
           0.8180000000000001
          ],
          [
           0.6445399999999999
          ],
          [
           0.5943333333333333
          ],
          [
           0.6809999999999999
          ],
          [
           0.7423502971065937
          ],
          [
           0.6967310466597879
          ],
          [
           0.81585
          ],
          [
           0.4800787037037037
          ],
          [
           0.7099688644688644
          ],
          [
           0.7624000000000001
          ],
          [
           0.5745889622153209
          ],
          [
           0.485
          ],
          [
           0.6075555555555555
          ],
          [
           0.706
          ],
          [
           0.5023415523497666
          ],
          [
           0.5131473865104864
          ],
          [
           0.6158653761238093
          ],
          [
           0.6595400432900433
          ],
          [
           0.5980000000000001
          ],
          [
           0.33
          ],
          [
           0.33
          ],
          [
           0.4256666666666667
          ],
          [
           0.5619999999999999
          ],
          [
           0.6665
          ],
          [
           0.6989791666666666
          ],
          [
           0.5096
          ],
          [
           0.618
          ],
          [
           0.604
          ],
          [
           0.6117142857142858
          ],
          [
           0.5720000000000001
          ],
          [
           0.6744666666666669
          ],
          [
           0.5065000000000001
          ],
          [
           0.4553
          ],
          [
           0.6559999999999999
          ],
          [
           0.6214968671679199
          ],
          [
           0.4478066666666667
          ],
          [
           0.6629999999999999
          ],
          [
           0.6600833333333335
          ],
          [
           0.799
          ],
          [
           0.397569696969697
          ],
          [
           0.5552932193732194
          ],
          [
           0.740169082125604
          ],
          [
           0.212
          ],
          [
           0.5384256663265904
          ],
          [
           0.6117926575708403
          ],
          [
           0.6078181178474895
          ],
          [
           0.4395
          ],
          [
           0.2966666666666666
          ],
          [
           0.7673333333333334
          ],
          [
           0.7020000000000001
          ],
          [
           0.3798422509157509
          ],
          [
           0.4525588235294118
          ],
          [
           0.1856666666666666
          ],
          [
           0.5933743589743591
          ],
          [
           0.2428920677361854
          ],
          [
           0.4916896296296296
          ],
          [
           0.2394136029411765
          ],
          [
           0.1856666666666666
          ],
          [
           0.5615833333333333
          ],
          [
           0.4948040935672514
          ],
          [
           0.5505810448255324
          ],
          [
           0.4176125
          ],
          [
           0.5814253632266005
          ],
          [
           0.5826933081017056
          ],
          [
           0.316
          ],
          [
           0.35625
          ],
          [
           0.5190370209479398
          ],
          [
           0.6506255639097746
          ],
          [
           0.5825190931682049
          ],
          [
           0.600406862745098
          ],
          [
           0.6125864530848333
          ],
          [
           0.6940833333333334
          ],
          [
           0.5969962745098039
          ],
          [
           0.6432331649831649
          ],
          [
           0.55
          ],
          [
           0.5624368407096133
          ],
          [
           0.6042333333333333
          ],
          [
           0.51825
          ],
          [
           0.5202380952380953
          ],
          [
           0.7199055555555556
          ],
          [
           0.6544633333333335
          ],
          [
           0.3479200000000001
          ],
          [
           0.4364288888888889
          ],
          [
           0.4967217488947301
          ],
          [
           0.7893916795665635
          ],
          [
           0.532
          ],
          [
           0.5238475241545892
          ],
          [
           0.4439914283121679
          ],
          [
           0.6317599153815049
          ],
          [
           0.588
          ],
          [
           0.1689999999999999
          ],
          [
           0.4395
          ],
          [
           0.5310540540540539
          ],
          [
           0.5407500000000001
          ],
          [
           0.3879331186258722
          ],
          [
           0.273
          ],
          [
           0.6527271270396271
          ],
          [
           0.4254261904761904
          ],
          [
           0.2540615384615384
          ],
          [
           0.221
          ],
          [
           0.8016666666666667
          ],
          [
           0.3760000000000001
          ],
          [
           0.6225
          ],
          [
           0.6321433333333334
          ],
          [
           0.502601996079837
          ],
          [
           0.3760000000000001
          ],
          [
           0.5725
          ],
          [
           0.6718
          ],
          [
           0.672
          ],
          [
           0.7664444444444444
          ],
          [
           0.5385638888888888
          ],
          [
           0.32
          ],
          [
           0.6691404958677685
          ],
          [
           0.3760000000000001
          ],
          [
           0.5839644447657606
          ],
          [
           0.7343333333333333
          ],
          [
           0.502
          ],
          [
           0.123
          ],
          [
           0.4773166666666666
          ],
          [
           0.5284410990659018
          ],
          [
           0.6074999999999999
          ],
          [
           0.342
          ],
          [
           0.43
          ],
          [
           0.7088392857142857
          ],
          [
           0.5623939393939394
          ],
          [
           0.335875
          ],
          [
           0.5053976100266073
          ],
          [
           0.906
          ],
          [
           0.2495000105231026
          ],
          [
           0.3213535897435897
          ],
          [
           0.6734
          ],
          [
           0.1928214814814814
          ],
          [
           0.492448785496204
          ],
          [
           0.3073333333333333
          ],
          [
           0.4564418367346938
          ],
          [
           0.5073567369036402
          ],
          [
           0.2436666666666666
          ],
          [
           0.50025
          ],
          [
           0.5465642857142857
          ],
          [
           0.5269598798004653
          ],
          [
           0.4194231884057971
          ],
          [
           0.2887499219788926
          ],
          [
           0.2766932708672383
          ],
          [
           0.4311111111111111
          ],
          [
           0.3975666666666667
          ],
          [
           0.4808001082251082
          ],
          [
           0.6169150744261211
          ],
          [
           0.2560155117172936
          ],
          [
           0.4796050261240861
          ],
          [
           0.5112933750311699
          ],
          [
           0.5915416666666666
          ],
          [
           0.7705703733766233
          ],
          [
           0.7146932628965237
          ],
          [
           0.5439228260869566
          ],
          [
           0.5959462198684049
          ],
          [
           0.2666236111111112
          ],
          [
           0.4999
          ],
          [
           0.7013999999999999
          ],
          [
           0.5411371821415301
          ],
          [
           0.6972509442409441
          ],
          [
           0.5530267637740988
          ],
          [
           0.46875
          ],
          [
           0.5520070588235294
          ],
          [
           0.2935694444444444
          ],
          [
           0.1300333333333333
          ],
          [
           0.4379999999999999
          ],
          [
           0.5900000000000001
          ],
          [
           0.5391536124214968
          ],
          [
           0.4656130952380951
          ],
          [
           0.4996144510582009
          ],
          [
           0.5177261904761904
          ],
          [
           0.446
          ],
          [
           0.7726484183277323
          ],
          [
           0.4412024003097175
          ],
          [
           0.5948894681819064
          ],
          [
           0.5242857142857144
          ],
          [
           0.2850464896214896
          ],
          [
           0.358
          ],
          [
           0.542
          ],
          [
           0.5742176470588236
          ],
          [
           0.6173214285714286
          ],
          [
           0.526204431438127
          ],
          [
           0.5532695970695971
          ],
          [
           0.6962991071428571
          ],
          [
           0.2920285714285714
          ],
          [
           0.2871319600499376
          ],
          [
           0.2992597880299253
          ],
          [
           0.5122500000000001
          ],
          [
           0.5899477668845317
          ],
          [
           0.5558407346066282
          ],
          [
           0.5870060989573662
          ],
          [
           0.612482905982906
          ],
          [
           0.6357244708994708
          ],
          [
           0.3410000000000001
          ],
          [
           0.4909444444444444
          ],
          [
           0.408
          ],
          [
           0.7197150013079044
          ],
          [
           0.705
          ],
          [
           0.546042962125788
          ],
          [
           0.4995000000000001
          ],
          [
           0.5697916666666667
          ],
          [
           0.6579999999999999
          ],
          [
           0.7480967741935484
          ],
          [
           0.4109554076101985
          ],
          [
           0.313
          ],
          [
           0.5569999999999999
          ],
          [
           0.5768296390774629
          ],
          [
           0.4768781362007169
          ],
          [
           0.4061579710144928
          ],
          [
           0.1470833333333333
          ],
          [
           0.4109952380952381
          ],
          [
           0.5135179148808182
          ],
          [
           0.5136496280851686
          ],
          [
           0.5770000000000001
          ],
          [
           0.5434702509697009
          ],
          [
           0.2878736163129421
          ],
          [
           0.5105301088991308
          ],
          [
           0.5542255511327341
          ],
          [
           0.5497262937877341
          ],
          [
           0.5055000000000001
          ],
          [
           0.4569982142857142
          ],
          [
           0.599
          ],
          [
           0.5648701177289887
          ],
          [
           0.4776679487179487
          ],
          [
           0.495527027027027
          ],
          [
           0.3907604667245665
          ],
          [
           0.342
          ],
          [
           0.61775
          ],
          [
           0.701
          ],
          [
           0.649
          ],
          [
           0.5606764537037038
          ],
          [
           0.45471875
          ],
          [
           0.5466354131054131
          ],
          [
           0.6704166355842128
          ],
          [
           0.1475629629629629
          ],
          [
           0.3692013888888889
          ],
          [
           0.2916666666666667
          ],
          [
           0.4904260844527648
          ],
          [
           0.6027307692307692
          ],
          [
           0.4143571621621621
          ],
          [
           0.4830832611544176
          ],
          [
           0.3229999999999999
          ],
          [
           0.4485714285714285
          ],
          [
           0.613846710755308
          ],
          [
           0.5210224839637487
          ],
          [
           0.6110857843137255
          ],
          [
           0.2102857142857143
          ],
          [
           0.6134999999999999
          ],
          [
           0.1779661777877295
          ],
          [
           0.3395
          ],
          [
           0.573111111111111
          ],
          [
           0.3107605936505819
          ],
          [
           0.5082657478142772
          ],
          [
           0.5123574374687168
          ],
          [
           0.6182418300653595
          ],
          [
           0.7115
          ],
          [
           0.5540351239669422
          ],
          [
           0.5345849417879917
          ],
          [
           0.6602666666666669
          ],
          [
           0.42775
          ],
          [
           0.6623622994652407
          ],
          [
           0.6533333333333334
          ],
          [
           0.6200000000000001
          ],
          [
           0.545
          ],
          [
           0.652
          ],
          [
           0.5618807278128632
          ],
          [
           0.6929408302277433
          ],
          [
           0.3476185185185185
          ],
          [
           0.7321803703703702
          ],
          [
           0.530774761186526
          ],
          [
           0.3989999999999999
          ],
          [
           0.4115822954822955
          ],
          [
           0.7036305699145969
          ],
          [
           0.5627453439660185
          ],
          [
           0.4294444444444445
          ],
          [
           0.7686541446981109
          ],
          [
           0.6735637268714192
          ],
          [
           0.6826666666666666
          ],
          [
           0.400525
          ],
          [
           0.6792297619047619
          ],
          [
           0.6941206911701532
          ],
          [
           0.6516666666666666
          ],
          [
           0.6482
          ],
          [
           0.5809000000000001
          ],
          [
           0.5148778947368421
          ],
          [
           0.6855239010989012
          ],
          [
           0.6053333333333334
          ],
          [
           0.4255024154589373
          ],
          [
           0.6153333333333334
          ],
          [
           0.5938333333333333
          ],
          [
           0.7429375
          ],
          [
           0.6646171592775041
          ],
          [
           0.7180191675998507
          ],
          [
           0.4946020646020646
          ],
          [
           0.5777302792347396
          ],
          [
           0.5287857142857143
          ],
          [
           0.389
          ],
          [
           0.3149027777777777
          ],
          [
           0.3080555555555555
          ],
          [
           0.66
          ],
          [
           0.409
          ],
          [
           0.7509999999999999
          ],
          [
           0.5538564102564103
          ],
          [
           0.353
          ],
          [
           0.3948888888888888
          ],
          [
           0.67
          ],
          [
           0.5876666666666667
          ],
          [
           0.389
          ],
          [
           0.2015
          ],
          [
           0.3151529411764707
          ],
          [
           0.7382589200831848
          ],
          [
           0.2751021059018996
          ],
          [
           0.5574616885964913
          ],
          [
           0.4226666666666667
          ],
          [
           0.43
          ],
          [
           0.4551666666666666
          ],
          [
           0.4908987360468556
          ],
          [
           0.6859999999999999
          ],
          [
           0.4602777777777778
          ],
          [
           0.6456666666666666
          ],
          [
           0.7011714814814815
          ],
          [
           0.5086096313153408
          ],
          [
           0.4731506006813699
          ],
          [
           0.4262484848484848
          ],
          [
           0.4821475558199174
          ],
          [
           0.5410537030453207
          ],
          [
           0.4136153846153846
          ],
          [
           0.5609703557312253
          ],
          [
           0.3444926541649355
          ],
          [
           0.5001511113789162
          ],
          [
           0.7381833333333334
          ],
          [
           0.5029754901960785
          ],
          [
           0.5589605855465408
          ],
          [
           0.363
          ],
          [
           0.7129333333333332
          ],
          [
           0.6676957703653279
          ],
          [
           0.6983333333333333
          ],
          [
           0.5628333333333334
          ],
          [
           0.745
          ],
          [
           0.5670000000000001
          ],
          [
           0.6467142857142857
          ],
          [
           0.4567958096700637
          ],
          [
           0.5750000000000001
          ],
          [
           0.4926666666666667
          ],
          [
           0.7668888888888891
          ],
          [
           0.5262555043804376
          ],
          [
           0.58004305373566
          ],
          [
           0.5390129149102835
          ],
          [
           0.6627849840042656
          ],
          [
           0.5942581828872769
          ],
          [
           0.3213333333333333
          ],
          [
           0.6146771929824562
          ],
          [
           0.5029702380952381
          ],
          [
           0.387
          ],
          [
           0.775
          ],
          [
           0.7170000000000001
          ],
          [
           0.5171467553442313
          ],
          [
           0.5735983979381717
          ],
          [
           0.5455294540229885
          ],
          [
           0.56495
          ],
          [
           0.56
          ],
          [
           0.37
          ],
          [
           0.8126000000000001
          ],
          [
           0.5214793650793651
          ],
          [
           0.4124185206133735
          ],
          [
           0.5020506511316775
          ],
          [
           0.5722406250000001
          ],
          [
           0.5810735930735931
          ],
          [
           0.4900476190476191
          ],
          [
           0.2766666666666667
          ],
          [
           0.5410279549079005
          ],
          [
           0.5045
          ],
          [
           0.4944906251524911
          ],
          [
           0.5344368118120499
          ],
          [
           0.4812652173913044
          ],
          [
           0.6254508928571428
          ],
          [
           0.6066666666666666
          ],
          [
           0.3662024305555557
          ],
          [
           0.333875
          ],
          [
           0.6649999999999999
          ],
          [
           0.5254330038344099
          ],
          [
           0.5780662878787879
          ],
          [
           0.5477152777777777
          ],
          [
           0.569555
          ],
          [
           0.5807479182970351
          ],
          [
           0.3177056667705791
          ],
          [
           0.5993294117647061
          ],
          [
           0.5660000000000001
          ],
          [
           0.807
          ],
          [
           0.4487222222222223
          ],
          [
           0.5572614961586172
          ],
          [
           0.6019012605042016
          ],
          [
           0.3144252479947693
          ],
          [
           0.348
          ],
          [
           0.3114176496124345
          ],
          [
           0.2985652085496288
          ],
          [
           0.2573467643785436
          ],
          [
           0.2907875443510737
          ],
          [
           0.2957125603864735
          ],
          [
           0.1975
          ],
          [
           0.374795236308852
          ],
          [
           0.3465976923076924
          ],
          [
           0.4106759818742919
          ],
          [
           0.3247916666666666
          ],
          [
           0.2039406593406593
          ],
          [
           0.473825
          ],
          [
           0.2919405825223277
          ],
          [
           0.3228
          ],
          [
           0.2504666209225626
          ],
          [
           0.3014029357684488
          ],
          [
           0.3250729687833164
          ],
          [
           0.4026666666666667
          ],
          [
           0.2724
          ],
          [
           0.2866799999999999
          ],
          [
           0.3059581084696731
          ],
          [
           0.321427402791198
          ],
          [
           0.3954545454545455
          ],
          [
           0.524760702614379
          ],
          [
           0.528
          ],
          [
           0.5671226780794962
          ],
          [
           0.4407142857142857
          ],
          [
           0.6834
          ],
          [
           0.648625
          ],
          [
           0.5770000000000001
          ],
          [
           0.7077500000000001
          ],
          [
           0.7208163447015093
          ],
          [
           0.7152333333333333
          ],
          [
           0.5422500000000001
          ],
          [
           0.538918122113635
          ],
          [
           0.7495500700280111
          ],
          [
           0.6824861949956859
          ],
          [
           0.5961291744166489
          ],
          [
           0.5210775850611378
          ],
          [
           0.6955
          ],
          [
           0.5966813141025641
          ],
          [
           0.3310402758176982
          ],
          [
           0.482
          ],
          [
           0.2906060606060606
          ],
          [
           0.4221527777777778
          ],
          [
           0.6785
          ],
          [
           0.6834578222217784
          ],
          [
           0.15565
          ],
          [
           0.251938862821766
          ],
          [
           0.3382642857142857
          ],
          [
           0.5848078535879222
          ],
          [
           0.55875
          ],
          [
           0.5012825517075518
          ],
          [
           0.4333181473213503
          ],
          [
           0.4871706842041139
          ],
          [
           0.5469785257399349
          ],
          [
           0.3177083333333333
          ],
          [
           0.5120331459524293
          ],
          [
           0.5294736714975846
          ],
          [
           0.532
          ],
          [
           0.391
          ],
          [
           0.7013186937990856
          ],
          [
           0.8809999999999999
          ],
          [
           0.7067780935021537
          ],
          [
           0.4598833333333333
          ],
          [
           0.5018458083770307
          ],
          [
           0.3033333333333333
          ],
          [
           0.589586373933353
          ],
          [
           0.6038307848950598
          ],
          [
           0.7258684621389541
          ],
          [
           0.5726957107186067
          ],
          [
           0.5712384905118612
          ],
          [
           0.5811005018421735
          ],
          [
           0.7055355050107519
          ],
          [
           0.5804152928520728
          ],
          [
           0.5626379483851138
          ],
          [
           0.657
          ],
          [
           0.5875946851933144
          ],
          [
           0.5729742936304958
          ],
          [
           0.5881388888888889
          ],
          [
           0.322
          ],
          [
           0.5615833333333333
          ],
          [
           0.5615833333333333
          ],
          [
           0.3220467027027027
          ],
          [
           0.7605768014291925
          ],
          [
           0.315168433048433
          ],
          [
           0.6677500000000001
          ],
          [
           0.6386904761904763
          ],
          [
           0.7395
          ],
          [
           0.584984477124183
          ],
          [
           0.6746388888888889
          ],
          [
           0.7088605154189822
          ],
          [
           0.69588
          ],
          [
           0.7886666666666666
          ],
          [
           0.7376535714285715
          ],
          [
           0.7247307692307692
          ],
          [
           0.6940000000000001
          ],
          [
           0.7557732142857143
          ],
          [
           0.7911666666666666
          ],
          [
           0.5125
          ],
          [
           0.7605
          ],
          [
           0.658719298245614
          ],
          [
           0.7505246913580245
          ],
          [
           0.86
          ],
          [
           0.6992269034865705
          ],
          [
           0.8130833333333334
          ],
          [
           0.4342923913043479
          ],
          [
           0.568
          ],
          [
           0.3896666666666666
          ],
          [
           0.2985030721966206
          ],
          [
           0.3286666666666666
          ],
          [
           0.4
          ],
          [
           0.24013
          ],
          [
           0.4288285714285714
          ],
          [
           0.7013333333333334
          ],
          [
           0.4415
          ],
          [
           0.6518115843817148
          ],
          [
           0.5817988331623376
          ],
          [
           0.5499386274795405
          ],
          [
           0.7296053162578165
          ],
          [
           0.37
          ],
          [
           0.5049999999999999
          ],
          [
           0.278653086419753
          ],
          [
           0.612373015873016
          ],
          [
           0.542
          ],
          [
           0.8909999999999999
          ],
          [
           0.4421666666666666
          ],
          [
           0.3792502741228071
          ],
          [
           0.7442063492063492
          ],
          [
           0.4691666666666665
          ],
          [
           0.555
          ],
          [
           0.62
          ],
          [
           0.4610526315789474
          ],
          [
           0.555
          ],
          [
           0.516
          ],
          [
           0.369
          ],
          [
           0.5017214912280702
          ],
          [
           0.84
          ],
          [
           0.4974444444444445
          ],
          [
           0.6238670033670033
          ],
          [
           0.6272500000000001
          ],
          [
           0.4955714285714286
          ],
          [
           0.3665800000000001
          ],
          [
           0.7933999999999999
          ],
          [
           0.4951947863247863
          ],
          [
           0.7877000000000001
          ],
          [
           0.6958466487766867
          ],
          [
           0.4896589350269613
          ],
          [
           0.528625
          ],
          [
           0.4691333333333334
          ],
          [
           0.3477602777777778
          ],
          [
           0.595
          ],
          [
           0.224625
          ],
          [
           0.3084596857801576
          ],
          [
           0.4115614814814814
          ],
          [
           0.42216
          ],
          [
           0.2629583333333333
          ],
          [
           0.284825
          ],
          [
           0.4183220833333333
          ],
          [
           0.42625
          ],
          [
           0.419
          ],
          [
           0.510857309168105
          ],
          [
           0.649754657687991
          ],
          [
           0.4746187063331081
          ],
          [
           0.5058683501683503
          ],
          [
           0.5700000000000001
          ],
          [
           0.5938749999999999
          ],
          [
           0.586125
          ],
          [
           0.7104999999999999
          ],
          [
           0.4578571428571429
          ],
          [
           0.7181071428571428
          ],
          [
           0.7344999999999999
          ],
          [
           0.478
          ],
          [
           0.764925
          ],
          [
           0.6929333333333334
          ],
          [
           0.743
          ],
          [
           0.491
          ],
          [
           0.7332222222222223
          ],
          [
           0.6354000000000001
          ],
          [
           0.6556666666666667
          ],
          [
           0.6709999999999999
          ],
          [
           0.521
          ],
          [
           0.7046571428571429
          ],
          [
           0.7320993173297521
          ],
          [
           0.6136666666666667
          ],
          [
           0.6209869723234857
          ],
          [
           0.436
          ],
          [
           0.562
          ],
          [
           0.527625
          ],
          [
           0.53
          ],
          [
           0.7857500000000001
          ],
          [
           0.5453333333333333
          ],
          [
           0.554128055757621
          ],
          [
           0.6654166666666667
          ],
          [
           0.6831787037037036
          ],
          [
           0.224
          ],
          [
           0.6155
          ],
          [
           0.804
          ],
          [
           0.5379999999999999
          ],
          [
           0.4883333333333333
          ],
          [
           0.426
          ],
          [
           0.7452363636363636
          ],
          [
           0.7025518386290716
          ],
          [
           0.5693333333333334
          ],
          [
           0.6390086956521738
          ],
          [
           0.7559999999999999
          ],
          [
           0.2749904761904762
          ],
          [
           0.6174999999999999
          ],
          [
           0.7451717727478417
          ],
          [
           0.34
          ],
          [
           0.5895024708624708
          ],
          [
           0.3035882352941177
          ],
          [
           0.6559999999999999
          ],
          [
           0.7177777777777777
          ],
          [
           0.7002293417366945
          ],
          [
           0.5612083333333333
          ],
          [
           0.5794392264161907
          ],
          [
           0.8559285714285714
          ],
          [
           0.6804999999999999
          ],
          [
           0.5975
          ],
          [
           0.5557222222222221
          ],
          [
           0.813
          ],
          [
           0.815
          ],
          [
           0.4545416666666667
          ],
          [
           0.7106785714285715
          ],
          [
           0.6330710655245433
          ],
          [
           0.6419015151515152
          ],
          [
           0.7088936268615601
          ],
          [
           0.7121500000000001
          ],
          [
           0.7649
          ],
          [
           0.7246626262626263
          ],
          [
           0.146
          ],
          [
           0.631625
          ],
          [
           0.591
          ],
          [
           0.798394109344514
          ],
          [
           0.5800535714285715
          ],
          [
           0.6780588235294118
          ],
          [
           0.4711333333333333
          ],
          [
           0.7455249087689093
          ],
          [
           0.8025201719576719
          ],
          [
           0.6647517265660592
          ],
          [
           0.7089602041694686
          ],
          [
           0.4912201890426604
          ],
          [
           0.7066959080670288
          ],
          [
           0.5605191556462151
          ],
          [
           0.5006666666666667
          ],
          [
           0.4665791666666666
          ],
          [
           0.7182528151906349
          ],
          [
           0.7313650538518814
          ],
          [
           0.825
          ],
          [
           0.5130263286302282
          ],
          [
           0.3030495659722222
          ],
          [
           0.4868444131745045
          ],
          [
           0.6035403988932441
          ],
          [
           0.5166296296296297
          ],
          [
           0.4244343784141304
          ],
          [
           0.6464285714285714
          ],
          [
           0.3098333333333333
          ],
          [
           0.473737309685779
          ],
          [
           0.2319712121212122
          ],
          [
           0.6876182680363113
          ],
          [
           0.6060166666666668
          ],
          [
           0.3008326807483704
          ],
          [
           0.4192704301075269
          ],
          [
           0.3825833333333333
          ],
          [
           0.4544547619047619
          ],
          [
           0.7632866418091417
          ],
          [
           0.4185
          ],
          [
           0.7775833333333333
          ],
          [
           0.5425
          ],
          [
           0.558062962962963
          ],
          [
           0.7979999999999999
          ],
          [
           0.1369999999999999
          ],
          [
           0.5073888888888889
          ],
          [
           0.5873333333333334
          ],
          [
           0.631
          ],
          [
           0.2638333333333333
          ],
          [
           0.7125145751569857
          ],
          [
           0.6214166666666665
          ],
          [
           0.406
          ],
          [
           0.5834999999999999
          ],
          [
           0.295
          ],
          [
           0.306
          ],
          [
           0.4805
          ],
          [
           0.6479971988795519
          ],
          [
           0.721
          ],
          [
           0.911
          ],
          [
           0.6468277674706246
          ],
          [
           0.552
          ],
          [
           0.316
          ],
          [
           0.3112777777777777
          ],
          [
           0.6546865319865319
          ],
          [
           0.5508888888888889
          ],
          [
           0.9074
          ],
          [
           0.5621777777777778
          ],
          [
           0.5951222222222222
          ],
          [
           0.5217527543626147
          ],
          [
           0.6598125
          ],
          [
           0.5713699528002539
          ],
          [
           0.3045850962626793
          ],
          [
           0.3316306228789584
          ],
          [
           0.243875
          ],
          [
           0.3433104838709677
          ],
          [
           0.7765
          ],
          [
           0.3701901559508855
          ],
          [
           0.6424305555555556
          ],
          [
           0.4132726193270735
          ],
          [
           0.74864259642361
          ],
          [
           0.6626111111111112
          ],
          [
           0.6559999999999999
          ],
          [
           0.4218792798056648
          ],
          [
           0.5496571428571427
          ],
          [
           0.5007645107794362
          ],
          [
           0.6200974466891134
          ],
          [
           0.3705614266732584
          ],
          [
           0.5203747133250951
          ],
          [
           0.7384146825396823
          ],
          [
           0.6214110993943871
          ],
          [
           0.7045275362318839
          ],
          [
           0.7583333333333334
          ],
          [
           0.6295
          ],
          [
           0.3550833333333333
          ],
          [
           0.6558166666666667
          ],
          [
           0.5997494873056888
          ],
          [
           0.5454519973799761
          ],
          [
           0.795598536895207
          ],
          [
           0.6352858116437545
          ],
          [
           0.7165833333333333
          ],
          [
           0.7215316882982877
          ],
          [
           0.6861908730158731
          ],
          [
           0.5879953168044078
          ],
          [
           0.7081666666666667
          ],
          [
           0.6001439393939394
          ],
          [
           0.7585000000000001
          ],
          [
           0.51025
          ],
          [
           0.6102477127666093
          ],
          [
           0.6487642658066568
          ],
          [
           0.6137362528174986
          ],
          [
           0.5813333333333334
          ],
          [
           0.6377093412790091
          ],
          [
           0.5753212918660288
          ],
          [
           0.4549152334883891
          ],
          [
           0.4134000000000001
          ],
          [
           0.3774166666666667
          ],
          [
           0.6783422522961008
          ],
          [
           0.333
          ],
          [
           0.3304514630380236
          ],
          [
           0.3686666666666667
          ],
          [
           0.37072
          ],
          [
           0.4218
          ],
          [
           0.491113492063492
          ],
          [
           0.1440812490450726
          ],
          [
           0.2195555555555556
          ],
          [
           0.452956086294167
          ],
          [
           0.194
          ],
          [
           0.6828280500512429
          ],
          [
           0.245
          ],
          [
           0.521
          ],
          [
           0.585
          ],
          [
           0.5192857142857142
          ],
          [
           0.3767337658730159
          ],
          [
           0.5781715245137377
          ],
          [
           0.5715344827586206
          ],
          [
           0.469
          ],
          [
           0.6478888888888888
          ],
          [
           0.8385
          ],
          [
           0.54625
          ],
          [
           0.5125181818181818
          ],
          [
           0.5511794871794873
          ],
          [
           0.6979760242692531
          ],
          [
           0.6623489237201414
          ],
          [
           0.6075
          ],
          [
           0.6691111111111111
          ],
          [
           0.4926983362823919
          ],
          [
           0.4637497147146194
          ],
          [
           0.2534538595346815
          ],
          [
           0.348
          ],
          [
           0.787
          ],
          [
           0.6509999999999999
          ],
          [
           0.4074111111111111
          ],
          [
           0.5977308201058199
          ],
          [
           0.929
          ],
          [
           0.807
          ],
          [
           0.278
          ],
          [
           0.5359814329666466
          ],
          [
           0.4443132481618069
          ],
          [
           0.5700016877637132
          ],
          [
           0.5585
          ],
          [
           0.481
          ],
          [
           0.371
          ],
          [
           0.359
          ],
          [
           0.6559999999999999
          ],
          [
           0.5722746880081909
          ],
          [
           0.6886370915032679
          ],
          [
           0.4810555555555555
          ],
          [
           0.4274132352941176
          ],
          [
           0.4833590311719345
          ],
          [
           0.528
          ],
          [
           0.1828044117647058
          ],
          [
           0.2741538461538461
          ],
          [
           0.4303333333333333
          ],
          [
           0.6198
          ],
          [
           0.5042222222222222
          ],
          [
           0.551
          ],
          [
           0.4153131313131313
          ],
          [
           0.4092727272727273
          ],
          [
           0.677
          ],
          [
           0.5734518923240938
          ],
          [
           0.5701458333333334
          ],
          [
           0.223
          ],
          [
           0.7472166666666666
          ],
          [
           0.7181583333333333
          ],
          [
           0.2695583333333333
          ],
          [
           0.7917401339888183
          ],
          [
           0.378
          ],
          [
           0.3318
          ],
          [
           0.3189698412698413
          ],
          [
           0.703
          ],
          [
           0.7106666666666667
          ],
          [
           0.6726190476190477
          ],
          [
           0.769304347826087
          ],
          [
           0.6437999999999999
          ],
          [
           0.5209999999999999
          ],
          [
           0.419
          ],
          [
           0.5235000000000001
          ],
          [
           0.60995
          ],
          [
           0.5343184026562006
          ],
          [
           0.3693333333333333
          ],
          [
           0.4872640043572982
          ],
          [
           0.5397865756188628
          ],
          [
           0.56552
          ],
          [
           0.5690477839804888
          ],
          [
           0.5474857142857144
          ],
          [
           0.6533333333333334
          ],
          [
           0.50425
          ],
          [
           0.6096630036630035
          ],
          [
           0.6399999999999999
          ],
          [
           0.6343333333333333
          ],
          [
           0.6165
          ],
          [
           0.5095333333333334
          ],
          [
           0.5644833333333332
          ],
          [
           0.897
          ],
          [
           0.6671
          ],
          [
           0.665075
          ],
          [
           0.5345
          ],
          [
           0.3421742426926192
          ],
          [
           0.6583103174603174
          ],
          [
           0.5084182719476013
          ],
          [
           0.5117539889768432
          ],
          [
           0.639
          ],
          [
           0.4001244948077367
          ],
          [
           0.4452882665474959
          ],
          [
           0.7082209267572679
          ],
          [
           0.4219316239316239
          ],
          [
           0.3722842885437623
          ],
          [
           0.6629999999999999
          ],
          [
           0.296625
          ],
          [
           0.255
          ],
          [
           0.7795000000000001
          ],
          [
           0.353
          ],
          [
           0.6771666666666666
          ],
          [
           0.6484166666666666
          ],
          [
           0.5492243685726039
          ],
          [
           0.296625
          ],
          [
           0.4331904761904761
          ],
          [
           0.3401239135397748
          ],
          [
           0.3018242485292486
          ],
          [
           0.5572617361602795
          ],
          [
           0.5710000000000001
          ],
          [
           0.446
          ],
          [
           0.7175714285714285
          ],
          [
           0.6279794556171986
          ],
          [
           0.305286078442019
          ],
          [
           0.34974
          ],
          [
           0.4117692480225089
          ],
          [
           0.6634986666666666
          ],
          [
           0.63
          ],
          [
           0.499
          ],
          [
           0.5178
          ],
          [
           0.8574999999999999
          ],
          [
           0.401
          ],
          [
           0.6369413679348509
          ],
          [
           0.314
          ],
          [
           0.6596944444444445
          ],
          [
           0.722
          ],
          [
           0.5178953024980141
          ],
          [
           0.4496666666666666
          ],
          [
           0.45
          ],
          [
           0.8959999999999999
          ],
          [
           0.7568888888888888
          ],
          [
           0.5724131916357446
          ],
          [
           0.7170000000000001
          ],
          [
           0.7376
          ],
          [
           0.587410989010989
          ],
          [
           0.6146205357142858
          ],
          [
           0.6157777777777779
          ],
          [
           0.7116
          ],
          [
           0.3950952380952381
          ],
          [
           0.648625
          ],
          [
           0.777358098108206
          ],
          [
           0.5317959183673471
          ],
          [
           0.738
          ],
          [
           0.321
          ],
          [
           0.5171666666666667
          ],
          [
           0.6286666666666667
          ],
          [
           0.3834763257575757
          ],
          [
           0.502
          ],
          [
           0.5479999999999999
          ],
          [
           0.5636411564625853
          ],
          [
           0.7479886445381205
          ],
          [
           0.775090909090909
          ],
          [
           0.45955
          ],
          [
           0.4816309444064707
          ],
          [
           0.412774025974026
          ],
          [
           0.30948
          ],
          [
           0.4808950675141039
          ],
          [
           0.521550505050505
          ],
          [
           0.5833299568965518
          ],
          [
           0.4793848779439746
          ],
          [
           0.5073333333333334
          ],
          [
           0.6218000000000002
          ],
          [
           0.468
          ],
          [
           0.4826
          ],
          [
           0.3519277614286866
          ],
          [
           0.3264425574712644
          ],
          [
           0.3296798233432741
          ],
          [
           0.609
          ],
          [
           0.7530100000000001
          ],
          [
           0.3711131578947369
          ],
          [
           0.4380526315789474
          ],
          [
           0.8336666666666667
          ],
          [
           0.8015
          ],
          [
           0.4201759259259259
          ],
          [
           0.6546748949579831
          ],
          [
           0.376471082468075
          ],
          [
           0.3788437499999999
          ],
          [
           0.3253897984270573
          ],
          [
           0.3115388164067793
          ],
          [
           0.6447759398496241
          ],
          [
           0.6184
          ],
          [
           0.713
          ],
          [
           0.3801833333333333
          ],
          [
           0.5852999999999999
          ],
          [
           0.155
          ],
          [
           0.4535873538011696
          ],
          [
           0.3520591291182956
          ],
          [
           0.3971428571428572
          ],
          [
           0.3594775230414747
          ],
          [
           0.6839485714285714
          ],
          [
           0.2691111111111111
          ],
          [
           0.6593333333333332
          ],
          [
           0.8590000000000001
          ],
          [
           0.7936666666666667
          ],
          [
           0.612
          ],
          [
           0.4921925226100471
          ],
          [
           0.604
          ],
          [
           0.6916316568137839
          ],
          [
           0.4860716109344501
          ],
          [
           0.4194954086317724
          ],
          [
           0.5001346609676459
          ],
          [
           0.5243439999999998
          ],
          [
           0.5551847475832438
          ],
          [
           0.5765884133410448
          ],
          [
           0.5349999999999999
          ],
          [
           0.6350447530864198
          ],
          [
           0.6365
          ],
          [
           0.245
          ],
          [
           0.4804540894331916
          ],
          [
           0.516
          ],
          [
           0.5690673818707811
          ],
          [
           0.672
          ],
          [
           0.5545519679554162
          ],
          [
           0.7490000000000001
          ],
          [
           0.5410474481658692
          ],
          [
           0.5413190789473684
          ],
          [
           0.4254920634920634
          ],
          [
           0.5680243055555556
          ],
          [
           0.4227242424242424
          ],
          [
           0.5303333333333332
          ],
          [
           0.6670000000000001
          ],
          [
           0.40275
          ],
          [
           0.440910606060606
          ],
          [
           0.4155300000000001
          ],
          [
           0.4726069964647365
          ],
          [
           0.3706696127946128
          ],
          [
           0.7008000000000001
          ],
          [
           0.5375833333333333
          ],
          [
           0.5664113636363637
          ],
          [
           0.4493262903861308
          ],
          [
           0.4792500000000001
          ],
          [
           0.4624166666666666
          ],
          [
           0.4343333333333333
          ],
          [
           0.794
          ],
          [
           0.477
          ],
          [
           0.5830639896501966
          ],
          [
           0.5407333333333334
          ],
          [
           0.3861713744588745
          ],
          [
           0.7260694597069596
          ],
          [
           0.2334166666666666
          ],
          [
           0.4544444444444444
          ],
          [
           0.4271775293759405
          ],
          [
           0.8177037037037037
          ],
          [
           0.4344412367722961
          ],
          [
           0.5495
          ],
          [
           0.6317679648823915
          ],
          [
           0.6703771443925233
          ],
          [
           0.7998
          ],
          [
           0.92
          ],
          [
           0.745
          ],
          [
           0.591
          ],
          [
           0.6812812499999997
          ],
          [
           0.4745
          ],
          [
           0.5531328976034859
          ],
          [
           0.4186049056603773
          ],
          [
           0.5379999999999999
          ],
          [
           0.31
          ],
          [
           0.619
          ],
          [
           0.209
          ],
          [
           0.4804673721340387
          ],
          [
           0.5965
          ],
          [
           0.6893855124135124
          ],
          [
           0.5535416666666666
          ],
          [
           0.5337130952380952
          ],
          [
           0.474
          ],
          [
           0.5824266406757634
          ],
          [
           0.7203333333333332
          ],
          [
           0.34575
          ],
          [
           0.6247264309764309
          ],
          [
           0.6745833333333334
          ],
          [
           0.642
          ],
          [
           0.5525555555555555
          ],
          [
           0.4226405797101449
          ],
          [
           0.5140475078965351
          ],
          [
           0.8293846153846154
          ],
          [
           0.4646465086499363
          ],
          [
           0.5842499999999999
          ],
          [
           0.3857018686868687
          ],
          [
           0.7441812218534981
          ],
          [
           0.3898479521604765
          ],
          [
           0.5729191352126136
          ],
          [
           0.5073055555555556
          ],
          [
           0.7528849189652485
          ],
          [
           0.572952980978716
          ],
          [
           0.5655331576459557
          ],
          [
           0.6117142857142858
          ],
          [
           0.3971111111111111
          ],
          [
           0.3276824509803921
          ],
          [
           0.562
          ],
          [
           0.2655
          ],
          [
           0.5243928823381205
          ],
          [
           0.622398148148148
          ],
          [
           0.684
          ],
          [
           0.2545804480519481
          ],
          [
           0.542314835763336
          ],
          [
           0.6959107113841995
          ],
          [
           0.6337962962962964
          ],
          [
           0.6837500000000001
          ],
          [
           0.6891666666666667
          ],
          [
           0.4537688794567064
          ],
          [
           0.4729857142857142
          ],
          [
           0.4736079548229549
          ],
          [
           0.7211489482886427
          ],
          [
           0.6509999999999999
          ],
          [
           0.7409173868091632
          ],
          [
           0.7017333922829109
          ],
          [
           0.7020000000000001
          ],
          [
           0.473
          ],
          [
           0.371994268278929
          ],
          [
           0.2873156407020807
          ],
          [
           0.357645941445349
          ],
          [
           0.3480412414965987
          ],
          [
           0.31024
          ],
          [
           0.4023449692125594
          ],
          [
           0.6617806372549021
          ],
          [
           0.46815
          ],
          [
           0.5174584166594817
          ],
          [
           0.6859999999999999
          ],
          [
           0.725
          ],
          [
           0.725
          ],
          [
           0.6218234886789195
          ],
          [
           0.6129242424242424
          ],
          [
           0.5836045473222845
          ],
          [
           0.4119615396140477
          ],
          [
           0.4220039682539683
          ],
          [
           0.7314194139194141
          ],
          [
           0.6787885012375239
          ],
          [
           0.7878991237147769
          ],
          [
           0.719375
          ],
          [
           0.589
          ],
          [
           0.4814444444444443
          ],
          [
           0.775
          ],
          [
           0.17085
          ],
          [
           0.2682092323798205
          ],
          [
           0.3655138888888889
          ],
          [
           0.457
          ],
          [
           0.857
          ],
          [
           0.5970000000000001
          ],
          [
           0.59
          ],
          [
           0.59
          ],
          [
           0.857
          ],
          [
           0.505
          ],
          [
           0.6364026785714285
          ],
          [
           0.7952732316273161
          ],
          [
           0.3646250000000001
          ],
          [
           0.804
          ],
          [
           0.4419208860759495
          ],
          [
           0.569875
          ],
          [
           0.5146157894736842
          ],
          [
           0.767
          ],
          [
           0.4930368635724332
          ],
          [
           0.3450394736842105
          ],
          [
           0.409725
          ],
          [
           0.4833
          ],
          [
           0.398375
          ],
          [
           0.5042142857142857
          ],
          [
           0.6865625
          ],
          [
           0.3203816361645503
          ],
          [
           0.490979501245642
          ],
          [
           0.6806666666666668
          ],
          [
           0.6305000000000001
          ],
          [
           0.2825
          ],
          [
           0.6495777777777777
          ],
          [
           0.5075
          ],
          [
           0.4900000000000001
          ],
          [
           0.6617500000000001
          ],
          [
           0.5353604247104246
          ],
          [
           0.5641533895189521
          ],
          [
           0.903
          ],
          [
           0.5746666666666668
          ],
          [
           0.6579999999999999
          ],
          [
           0.6286476190476188
          ],
          [
           0.5398317453132245
          ],
          [
           0.5877692307692307
          ],
          [
           0.5233640739889411
          ],
          [
           0.7043666666666668
          ],
          [
           0.6193122666194278
          ],
          [
           0.5584552908048658
          ],
          [
           0.6661962035633087
          ],
          [
           0.6074989800629839
          ],
          [
           0.5848888888888889
          ],
          [
           0.4604506901903128
          ],
          [
           0.4589999999999999
          ],
          [
           0.665660138888889
          ],
          [
           0.5234866535345869
          ],
          [
           0.405
          ],
          [
           0.5971
          ],
          [
           0.187
          ],
          [
           0.5565
          ],
          [
           0.6584041363501785
          ],
          [
           0.5145583088954057
          ],
          [
           0.83
          ],
          [
           0.5527215117383152
          ],
          [
           0.6047268238482112
          ],
          [
           0.6965454545454546
          ],
          [
           0.37
          ],
          [
           0.4831111111111111
          ],
          [
           0.6862222222222223
          ],
          [
           0.125
          ],
          [
           0.5468755560345196
          ],
          [
           0.733
          ],
          [
           0.7131339285714285
          ],
          [
           0.5341994484177313
          ],
          [
           0.5347692039395522
          ],
          [
           0.4697500000000001
          ],
          [
           0.6645
          ],
          [
           0.4888606067037094
          ],
          [
           0.6279604969456998
          ],
          [
           0.7591333333333334
          ],
          [
           0.4320000000000001
          ],
          [
           0.3797261904761905
          ],
          [
           0.4135
          ],
          [
           0.4569188540217263
          ],
          [
           0.5903394917021078
          ],
          [
           0.38675
          ],
          [
           0.4495805555555555
          ],
          [
           0.519698312503485
          ],
          [
           0.7090000000000001
          ],
          [
           0.537
          ],
          [
           0.4444
          ],
          [
           0.4829999999999999
          ],
          [
           0.4326296296296296
          ],
          [
           0.5049166666666667
          ],
          [
           0.296
          ],
          [
           0.6553333333333334
          ],
          [
           0.5457747817873826
          ],
          [
           0.6989000000000001
          ],
          [
           0.521
          ],
          [
           0.3808333333333333
          ],
          [
           0.562735
          ],
          [
           0.6294238095238095
          ],
          [
           0.4753380216846465
          ],
          [
           0.4828592424242424
          ],
          [
           0.775
          ],
          [
           0.4455
          ],
          [
           0.462
          ],
          [
           0.2576666666666666
          ],
          [
           0.300784183006536
          ],
          [
           0.4744958333333333
          ],
          [
           0.7170000000000001
          ],
          [
           0.418
          ],
          [
           0.6364952380952379
          ],
          [
           0.5901341614906833
          ],
          [
           0.5739746031746032
          ],
          [
           0.797
          ],
          [
           0.5399309385414243
          ],
          [
           0.3555248651606009
          ],
          [
           0.3267291479400749
          ],
          [
           0.400625
          ],
          [
           0.3608300054659612
          ],
          [
           0.476
          ],
          [
           0.257
          ],
          [
           0.36156
          ],
          [
           0.348
          ],
          [
           0.7090399528232345
          ],
          [
           0.4433999999999999
          ],
          [
           0.4433999999999999
          ],
          [
           0.6475000000000001
          ],
          [
           0.4086666666666667
          ],
          [
           0.5398
          ],
          [
           0.535
          ],
          [
           0.4433999999999999
          ],
          [
           0.3769788095238096
          ],
          [
           0.301
          ],
          [
           0.3093566226049813
          ],
          [
           0.3445245103828328
          ],
          [
           0.6333333333333333
          ],
          [
           0.4185
          ],
          [
           0.303
          ],
          [
           0.3807333333333333
          ],
          [
           0.29925
          ],
          [
           0.3540222292193281
          ],
          [
           0.3587063923470624
          ],
          [
           0.30234175267457
          ],
          [
           0.725
          ],
          [
           0.357207429644856
          ],
          [
           0.42525
          ],
          [
           0.7480259259259261
          ],
          [
           0.7177692307692307
          ],
          [
           0.373
          ],
          [
           0.23
          ],
          [
           0.397
          ],
          [
           0.48
          ],
          [
           0.6372857142857143
          ],
          [
           0.4326759259259258
          ],
          [
           0.4841809523809524
          ],
          [
           0.5303046230158731
          ],
          [
           0.6048333333333334
          ],
          [
           0.489287149234694
          ],
          [
           0.462
          ],
          [
           0.5596666666666668
          ],
          [
           0.5144648284313725
          ],
          [
           0.5022500000000001
          ],
          [
           0.5686088487747427
          ],
          [
           0.5736655374649859
          ],
          [
           0.8009999999999999
          ],
          [
           0.4784793486590038
          ],
          [
           0.54375
          ],
          [
           0.6788269912711402
          ],
          [
           0.6647469241854636
          ],
          [
           0.3456075103980986
          ],
          [
           0.238548877274487
          ],
          [
           0.2769999999999999
          ],
          [
           0.202
          ],
          [
           0.6211
          ],
          [
           0.3779999999999999
          ],
          [
           0.664125
          ],
          [
           0.4377951388888889
          ],
          [
           0.5572
          ],
          [
           0.6124479166666668
          ],
          [
           0.5435000000000001
          ],
          [
           0.521
          ],
          [
           0.4074444444444445
          ],
          [
           0.3779999999999999
          ],
          [
           0.772
          ],
          [
           0.526
          ],
          [
           0.4725357142857143
          ],
          [
           0.5716379229892914
          ],
          [
           0.554727272727273
          ],
          [
           0.3923333333333333
          ],
          [
           0.352
          ],
          [
           0.5718073684210527
          ],
          [
           0.7000000000000001
          ],
          [
           0.4295625
          ],
          [
           0.3979999999999999
          ],
          [
           0.35725
          ],
          [
           0.365
          ],
          [
           0.5087812500000001
          ],
          [
           0.4816666666666666
          ],
          [
           0.5596666666666668
          ],
          [
           0.5660000000000001
          ],
          [
           0.5665782407407408
          ],
          [
           0.4456466429924243
          ],
          [
           0.4151916666666666
          ],
          [
           0.3683194607843137
          ],
          [
           0.599
          ],
          [
           0.6834930293779441
          ],
          [
           0.5074959731854793
          ],
          [
           0.4823888888888888
          ],
          [
           0.5811655382878196
          ],
          [
           0.7800980769230769
          ],
          [
           0.5570250684839101
          ],
          [
           0.6523333333333333
          ],
          [
           0.5005454307408287
          ],
          [
           0.52
          ],
          [
           0.6140780952380953
          ],
          [
           0.4783870796748256
          ],
          [
           0.4850793027323061
          ],
          [
           0.4837202380952381
          ],
          [
           0.5789770658579861
          ],
          [
           0.4897885910681037
          ],
          [
           0.533820528771249
          ],
          [
           0.4773717948717948
          ],
          [
           0.4815
          ],
          [
           0.4305
          ],
          [
           0.5254222222222222
          ],
          [
           0.5995712121212122
          ],
          [
           0.5267940919478826
          ],
          [
           0.6002641699314292
          ],
          [
           0.5424800481472788
          ],
          [
           0.7670218484266181
          ],
          [
           0.4114143545604311
          ],
          [
           0.5159320879271062
          ],
          [
           0.5093906366559314
          ],
          [
           0.6076164061245365
          ],
          [
           0.5281948299015131
          ],
          [
           0.5489999999999999
          ],
          [
           0.6114999999999999
          ],
          [
           0.5241063908313908
          ],
          [
           0.5538085930735932
          ],
          [
           0.633685711675021
          ],
          [
           0.214
          ],
          [
           0.7599999999999999
          ],
          [
           0.4220625
          ],
          [
           0.725
          ],
          [
           0.634
          ],
          [
           0.5505777777777778
          ],
          [
           0.5611277777777778
          ],
          [
           0.7527777777777778
          ],
          [
           0.61012018743339
          ],
          [
           0.255
          ],
          [
           0.62295
          ],
          [
           0.6756199607905342
          ],
          [
           0.6607107642340089
          ],
          [
           0.7136472893772893
          ],
          [
           0.6638059788359788
          ],
          [
           0.637
          ],
          [
           0.716
          ],
          [
           0.7887058823529409
          ],
          [
           0.4676458333333334
          ],
          [
           0.7512932126696834
          ],
          [
           0.6655
          ],
          [
           0.6593066893424036
          ],
          [
           0.46625
          ],
          [
           0.5470079365079366
          ],
          [
           0.374
          ],
          [
           0.4365000000000001
          ],
          [
           0.689043843283582
          ],
          [
           0.4955774647887325
          ],
          [
           0.7290000000000001
          ],
          [
           0.4978189189189189
          ],
          [
           0.6513333333333334
          ],
          [
           0.546526176154147
          ],
          [
           0.3735
          ],
          [
           0.2199166666666666
          ],
          [
           0.4746666666666668
          ],
          [
           0.8041915584415585
          ],
          [
           0.6739090909090909
          ],
          [
           0.5782361111111111
          ],
          [
           0.3364965277777778
          ],
          [
           0.5769980990783411
          ],
          [
           0.738
          ],
          [
           0.7060000000000001
          ],
          [
           0.5431611111111111
          ],
          [
           0.5025
          ],
          [
           0.335
          ],
          [
           0.373
          ],
          [
           0.2509
          ],
          [
           0.7286666666666667
          ],
          [
           0.4676666666666667
          ],
          [
           0.3131690476190476
          ],
          [
           0.3795
          ],
          [
           0.583
          ],
          [
           0.754
          ],
          [
           0.6183504983388702
          ],
          [
           0.6567088319088318
          ],
          [
           0.7340000000000001
          ],
          [
           0.4956666666666667
          ],
          [
           0.3875619834710744
          ],
          [
           0.6265999999999999
          ],
          [
           0.5907050506350343
          ],
          [
           0.5772974358974358
          ],
          [
           0.4267920215124897
          ],
          [
           0.7494999999999999
          ],
          [
           0.5782734646218811
          ],
          [
           0.328
          ],
          [
           0.5009285714285714
          ],
          [
           0.3098049086010057
          ],
          [
           0.6880086959805622
          ],
          [
           0.6772600000000001
          ],
          [
           0.6283976437080129
          ],
          [
           0.3410036323610346
          ],
          [
           0.6068372747803162
          ],
          [
           0.504666866469417
          ],
          [
           0.480667712349725
          ],
          [
           0.7579
          ],
          [
           0.7381905740390695
          ],
          [
           0.7628750000000001
          ],
          [
           0.6371549602782987
          ],
          [
           0.486663888888889
          ],
          [
           0.6273656493719578
          ],
          [
           0.6062942336166931
          ],
          [
           0.7
          ],
          [
           0.3996420454545455
          ],
          [
           0.6431652542372882
          ],
          [
           0.818
          ],
          [
           0.7030720611916262
          ],
          [
           0.4816346707444557
          ],
          [
           0.568
          ],
          [
           0.5364
          ],
          [
           0.6917500000000001
          ],
          [
           0.7160555555555557
          ],
          [
           0.2766666666666668
          ],
          [
           0.2772501253132832
          ],
          [
           0.4596458333333333
          ],
          [
           0.5317353174603174
          ],
          [
           0.4822
          ],
          [
           0.524
          ],
          [
           0.6934059532431737
          ],
          [
           0.4600162445791757
          ],
          [
           0.493
          ],
          [
           0.2681776307189542
          ],
          [
           0.5456015126717405
          ],
          [
           0.4787833333333333
          ],
          [
           0.8259166666666666
          ],
          [
           0.3735357142857143
          ],
          [
           0.6457546961585424
          ],
          [
           0.584
          ],
          [
           0.5509999999999999
          ],
          [
           0.5091006575170091
          ],
          [
           0.6831454743729553
          ],
          [
           0.703
          ],
          [
           0.7191520050125312
          ],
          [
           0.525
          ],
          [
           0.4655672727272728
          ],
          [
           0.7645
          ],
          [
           0.4467704426877469
          ],
          [
           0.6709999999999999
          ],
          [
           0.7425
          ],
          [
           0.6266238545605239
          ],
          [
           0.3414166666666667
          ],
          [
           0.4955666666666667
          ],
          [
           0.3444374999999999
          ],
          [
           0.4613241782869109
          ],
          [
           0.356
          ],
          [
           0.7409935020452109
          ],
          [
           0.4586992374727668
          ],
          [
           0.43
          ],
          [
           0.329
          ],
          [
           0.43725
          ],
          [
           0.5283732499204227
          ],
          [
           0.41626
          ],
          [
           0.5970000000000001
          ],
          [
           0.636
          ],
          [
           0.5228333333333334
          ],
          [
           0.5549999999999999
          ],
          [
           0.6421250000000001
          ],
          [
           0.524375
          ],
          [
           0.557875
          ],
          [
           0.5408611111111111
          ],
          [
           0.3160555555555555
          ],
          [
           0.611
          ],
          [
           0.600438724746876
          ],
          [
           0.7079999999999999
          ],
          [
           0.402
          ],
          [
           0.5347487179487179
          ],
          [
           0.5485372077922078
          ],
          [
           0.5576201953047042
          ],
          [
           0.6674
          ],
          [
           0.5907407407407406
          ],
          [
           0.4652666666666667
          ],
          [
           0.4934580000000001
          ],
          [
           0.7440000000000001
          ],
          [
           0.4445853213280114
          ],
          [
           0.4638181818181818
          ],
          [
           0.5342891823657031
          ],
          [
           0.5963142312128471
          ],
          [
           0.687
          ],
          [
           0.3793333333333333
          ],
          [
           0.6179714285714286
          ],
          [
           0.4679270833333333
          ],
          [
           0.3818333333333333
          ],
          [
           0.39175
          ],
          [
           0.5329999999999999
          ],
          [
           0.4589761904761906
          ],
          [
           0.4830714285714285
          ],
          [
           0.2605024037999038
          ],
          [
           0.4893425813004286
          ],
          [
           0.7108703703703704
          ],
          [
           0.7612261904761904
          ],
          [
           0.443
          ],
          [
           0.5540149461839842
          ],
          [
           0.4116380808080808
          ],
          [
           0.4119380952380952
          ],
          [
           0.5160129385964912
          ],
          [
           0.4263106060606061
          ],
          [
           0.477
          ],
          [
           0.4233837674230532
          ],
          [
           0.4264761904761905
          ],
          [
           0.4175634465158457
          ],
          [
           0.336
          ],
          [
           0.7282098116968305
          ],
          [
           0.3470074855699856
          ],
          [
           0.770350415594166
          ],
          [
           0.5488750000000001
          ],
          [
           0.6019505554210799
          ],
          [
           0.7989108155140837
          ],
          [
           0.412
          ],
          [
           0.5930709428881039
          ],
          [
           0.6775032769556025
          ],
          [
           0.6757911533180659
          ],
          [
           0.6279468864468865
          ],
          [
           0.5264303181644931
          ],
          [
           0.3370714285714286
          ],
          [
           0.3816297470451809
          ],
          [
           0.3843875
          ],
          [
           0.3760000000000001
          ],
          [
           0.4219234952757617
          ],
          [
           0.5933224458884064
          ],
          [
           0.5355874825718577
          ],
          [
           0.4598
          ],
          [
           0.7598989016212544
          ],
          [
           0.6069719576719579
          ],
          [
           0.6468872862307965
          ],
          [
           0.4907
          ],
          [
           0.5808428968102767
          ],
          [
           0.5306795396867345
          ],
          [
           0.643
          ],
          [
           0.7359999999999999
          ],
          [
           0.8602889983579641
          ],
          [
           0.7268242233068339
          ],
          [
           0.6455
          ],
          [
           0.5398000000000001
          ],
          [
           0.5876666666666667
          ],
          [
           0.5997091346153847
          ],
          [
           0.14525
          ],
          [
           0.2247184777306513
          ],
          [
           0.351
          ],
          [
           0.2199166666666666
          ],
          [
           0.4629999999999999
          ],
          [
           0.5081895424836602
          ],
          [
           0.5701538461538462
          ],
          [
           0.7438574074074076
          ],
          [
           0.67075
          ],
          [
           0.2175
          ],
          [
           0.5830108108108109
          ],
          [
           0.531
          ],
          [
           0.6121333333333333
          ],
          [
           0.62375
          ],
          [
           0.6363333333333333
          ],
          [
           0.3131105312483598
          ],
          [
           0.5963051146384479
          ],
          [
           0.5463333333333333
          ],
          [
           0.30875
          ],
          [
           0.7130350407285072
          ],
          [
           0.7261715485517569
          ],
          [
           0.7194294871794872
          ],
          [
           0.608
          ],
          [
           0.3167142857142857
          ],
          [
           0.4037888888888889
          ],
          [
           0.5920371794871795
          ],
          [
           0.554765399814269
          ],
          [
           0.4679999999999999
          ],
          [
           0.5478315744527988
          ],
          [
           0.5226724368224369
          ],
          [
           0.6377976529880375
          ],
          [
           0.5684029994639364
          ],
          [
           0.5171388888888888
          ],
          [
           0.6033406049382717
          ],
          [
           0.6573985271405601
          ],
          [
           0.5536479999999999
          ],
          [
           0.6122395833333333
          ],
          [
           0.4693174603174603
          ],
          [
           0.4843666666666666
          ],
          [
           0.5310128205128205
          ],
          [
           0.3209
          ],
          [
           0.4666735100100646
          ],
          [
           0.7246666666666667
          ],
          [
           0.7100995824566424
          ],
          [
           0.5424709730954331
          ],
          [
           0.6561403110951984
          ],
          [
           0.5349771721611721
          ],
          [
           0.5567300505050503
          ],
          [
           0.3794545454545455
          ],
          [
           0.473
          ],
          [
           0.5152727272727272
          ],
          [
           0.402
          ],
          [
           0.7415000000000002
          ],
          [
           0.4839199999999999
          ],
          [
           0.7905
          ],
          [
           0.7905
          ],
          [
           0.506
          ],
          [
           0.7471527777777778
          ],
          [
           0.36864757997558
          ],
          [
           0.6611713815789475
          ],
          [
           0.61775
          ],
          [
           0.6812812499999997
          ],
          [
           0.5975654217273647
          ],
          [
           0.4076183298683298
          ],
          [
           0.4840912347618555
          ],
          [
           0.5596051333633433
          ],
          [
           0.5214326923076924
          ],
          [
           0.6753181818181818
          ],
          [
           0.691
          ],
          [
           0.6446153846153847
          ],
          [
           0.5688380952380954
          ],
          [
           0.769304347826087
          ],
          [
           0.5209999999999999
          ],
          [
           0.5019130434782608
          ],
          [
           0.589
          ],
          [
           0.7851666666666667
          ],
          [
           0.617
          ],
          [
           0.7212094444444445
          ],
          [
           0.634111111111111
          ],
          [
           0.156
          ],
          [
           0.6442000000000001
          ],
          [
           0.7805
          ],
          [
           0.6399833333333333
          ],
          [
           0.6829135802469135
          ],
          [
           0.6595
          ],
          [
           0.592939628482972
          ],
          [
           0.5144151785714286
          ],
          [
           0.6739999999999999
          ],
          [
           0.463547619047619
          ],
          [
           0.542
          ],
          [
           0.4520000000000001
          ],
          [
           0.6860921495034796
          ],
          [
           0.5387235576923077
          ],
          [
           0.6406
          ],
          [
           0.7318666666666667
          ],
          [
           0.6135833333333333
          ],
          [
           0.5309999999999999
          ],
          [
           0.6244613897342904
          ],
          [
           0.6545000000000001
          ],
          [
           0.5615
          ],
          [
           0.637625
          ],
          [
           0.5489999999999999
          ],
          [
           0.478
          ],
          [
           0.782
          ],
          [
           0.473
          ],
          [
           0.535
          ],
          [
           0.4789699675324677
          ],
          [
           0.72125
          ],
          [
           0.5011666666666666
          ],
          [
           0.5666666666666667
          ],
          [
           0.5449666666666666
          ],
          [
           0.53325
          ],
          [
           0.7738450500556173
          ],
          [
           0.5674583333333334
          ],
          [
           0.4952852272727272
          ],
          [
           0.5446309650422169
          ],
          [
           0.3872651232825146
          ],
          [
           0.5965722222222224
          ],
          [
           0.2809611742424243
          ],
          [
           0.6509999999999999
          ],
          [
           0.295
          ],
          [
           0.4712828282828282
          ],
          [
           0.341
          ],
          [
           0.5251688888888888
          ],
          [
           0.4115569650451889
          ],
          [
           0.5660000000000001
          ],
          [
           0.5406915969786726
          ],
          [
           0.6505933333333335
          ],
          [
           0.6564879000811896
          ],
          [
           0.4174434173669465
          ],
          [
           0.34
          ],
          [
           0.4628
          ],
          [
           0.3554947916666666
          ],
          [
           0.4832845499778785
          ],
          [
           0.5569333333333333
          ],
          [
           0.6153240740740741
          ],
          [
           0.5819022032563026
          ],
          [
           0.3342619047619048
          ],
          [
           0.5688875
          ],
          [
           0.5282666666666667
          ],
          [
           0.4247706371191135
          ],
          [
           0.3379632787114026
          ],
          [
           0.3793333333333333
          ],
          [
           0.5537626922166471
          ],
          [
           0.8116666666666669
          ],
          [
           0.606
          ],
          [
           0.606
          ],
          [
           0.53
          ],
          [
           0.5814887755102042
          ],
          [
           0.5444444444444444
          ],
          [
           0.6627930555555556
          ],
          [
           0.478
          ],
          [
           0.3444065693984899
          ],
          [
           0.4100322838170059
          ],
          [
           0.5374937312841508
          ],
          [
           0.7563333333333334
          ],
          [
           0.5537749999999999
          ],
          [
           0.5271666666666666
          ],
          [
           0.4940857142857142
          ],
          [
           0.6899875
          ],
          [
           0.2478181818181818
          ],
          [
           0.6782299839094014
          ],
          [
           0.4060201037332409
          ],
          [
           0.5315784043441938
          ],
          [
           0.4099159370665743
          ],
          [
           0.7277489710265571
          ],
          [
           0.5916443735077339
          ],
          [
           0.5949640348641341
          ],
          [
           0.6414081393200295
          ],
          [
           0.6883333333333334
          ],
          [
           0.5707799786909024
          ],
          [
           0.7582478676279434
          ],
          [
           0.5972396851230286
          ],
          [
           0.6134529404759168
          ],
          [
           0.4235
          ],
          [
           0.5870331782630696
          ],
          [
           0.31025
          ],
          [
           0.6050685234015167
          ],
          [
           0.5434893554910002
          ],
          [
           0.3306666666666666
          ],
          [
           0.8421329545454544
          ],
          [
           0.146
          ],
          [
           0.378
          ],
          [
           0.4845
          ],
          [
           0.5747333333333333
          ],
          [
           0.6742708333333334
          ],
          [
           0.6124999999999999
          ],
          [
           0.5258
          ],
          [
           0.6064742280274196
          ],
          [
           0.4434453781512605
          ],
          [
           0.4596736111111111
          ],
          [
           0.6127109557109557
          ],
          [
           0.5518863945578231
          ],
          [
           0.4605149442021394
          ],
          [
           0.4186666666666666
          ],
          [
           0.4739097759103642
          ],
          [
           0.3602500000000001
          ],
          [
           0.1773846153846153
          ],
          [
           0.4841111111111111
          ],
          [
           0.6209333333333333
          ],
          [
           0.2506977777777778
          ],
          [
           0.5367500000000001
          ],
          [
           0.25005
          ],
          [
           0.506
          ],
          [
           0.4503333333333333
          ],
          [
           0.7011195955189871
          ],
          [
           0.6927760822510821
          ],
          [
           0.4189
          ],
          [
           0.7228483166491811
          ],
          [
           0.4780588235294118
          ],
          [
           0.398125
          ],
          [
           0.5432801120448179
          ],
          [
           0.2873333333333333
          ],
          [
           0.5526666666666665
          ],
          [
           0.3829722222222223
          ],
          [
           0.5960467005060982
          ],
          [
           0.1935466666666666
          ],
          [
           0.334
          ],
          [
           0.2144523809523808
          ],
          [
           0.4819645061728395
          ],
          [
           0.1856666666666666
          ],
          [
           0.332
          ],
          [
           0.715
          ],
          [
           0.5551210826210826
          ],
          [
           0.3582833333333333
          ],
          [
           0.207125
          ],
          [
           0.5658477272727273
          ],
          [
           0.43
          ],
          [
           0.3075
          ],
          [
           0.35325
          ],
          [
           0.5468
          ],
          [
           0.6990000000000001
          ],
          [
           0.4787000000000001
          ],
          [
           0.6945789473684211
          ],
          [
           0.4712380952380954
          ],
          [
           0.5937156746031745
          ],
          [
           0.701
          ],
          [
           0.6085404006046864
          ],
          [
           0.14
          ],
          [
           0.7412500000000002
          ],
          [
           0.4646289386907549
          ],
          [
           0.6750943820587687
          ],
          [
           0.4770537577324172
          ],
          [
           0.6207878787878788
          ],
          [
           0.7012421827737445
          ],
          [
           0.4866666666666666
          ],
          [
           0.6295
          ],
          [
           0.5529301555699663
          ],
          [
           0.5350409356725147
          ],
          [
           0.4685
          ],
          [
           0.5809196428571428
          ],
          [
           0.669
          ],
          [
           0.6963235080198664
          ],
          [
           0.4626315789473684
          ],
          [
           0.6208663003663003
          ],
          [
           0.3109053098186163
          ],
          [
           0.2105833333333333
          ],
          [
           0.677
          ],
          [
           0.6590146464646462
          ],
          [
           0.7054595891279949
          ],
          [
           0.3895533804713805
          ],
          [
           0.379
          ],
          [
           0.488
          ],
          [
           0.5479999999999999
          ],
          [
           0.481
          ],
          [
           0.6234482840096875
          ],
          [
           0.5479999999999999
          ],
          [
           0.6200000000000001
          ],
          [
           0.5614
          ],
          [
           0.7298397861685041
          ],
          [
           0.5985055555555557
          ],
          [
           0.4821
          ],
          [
           0.6616349206349206
          ],
          [
           0.2676833333333333
          ],
          [
           0.7430441034136885
          ],
          [
           0.4507272727272728
          ],
          [
           0.3680205729166667
          ],
          [
           0.598
          ],
          [
           0.4243504273504273
          ],
          [
           0.541
          ],
          [
           0.5805461208079029
          ],
          [
           0.7582712746305421
          ],
          [
           0.811207895383602
          ],
          [
           0.7795000000000001
          ],
          [
           0.3299692164193769
          ],
          [
           0.6881999999999999
          ],
          [
           0.3055
          ],
          [
           0.5379611195062955
          ],
          [
           0.3432499999999999
          ],
          [
           0.5134857142857144
          ],
          [
           0.4490648148148148
          ],
          [
           0.57162
          ],
          [
           0.6168055555555555
          ],
          [
           0.3011925413390503
          ],
          [
           0.3176936347278453
          ],
          [
           0.3250505050505051
          ],
          [
           0.319169764962231
          ],
          [
           0.366249085032405
          ],
          [
           0.5081883176577614
          ],
          [
           0.537
          ],
          [
           0.2851479753129151
          ],
          [
           0.277529335118196
          ],
          [
           0.198
          ],
          [
           0.59
          ],
          [
           0.794
          ],
          [
           0.7840000000000003
          ],
          [
           0.3743106060606062
          ],
          [
           0.199
          ],
          [
           0.42825
          ],
          [
           0.7694285714285712
          ],
          [
           0.5671709956709956
          ],
          [
           0.2235
          ],
          [
           0.53
          ],
          [
           0.5442600920704541
          ],
          [
           0.6679999999999999
          ],
          [
           0.7659999999999999
          ],
          [
           0.6385016339869279
          ],
          [
           0.4886987179487179
          ],
          [
           0.639
          ],
          [
           0.5989880855254889
          ],
          [
           0.5189158852017549
          ],
          [
           0.4506780991735537
          ],
          [
           0.0847
          ],
          [
           0.4836338888888889
          ],
          [
           0.6887108908028163
          ],
          [
           0.2636813725490197
          ],
          [
           0.6251611111111112
          ],
          [
           0.8266666666666667
          ],
          [
           0.4811555555555556
          ],
          [
           0.5939285714285715
          ],
          [
           0.7190000000000001
          ],
          [
           0.5273803418803421
          ],
          [
           0.351
          ],
          [
           0.5029487933634993
          ],
          [
           0.757586585827965
          ],
          [
           0.705
          ],
          [
           0.374625
          ],
          [
           0.3922555555555556
          ],
          [
           0.6101830951535057
          ],
          [
           0.598
          ],
          [
           0.7353333333333333
          ],
          [
           0.484
          ],
          [
           0.5204751447798446
          ],
          [
           0.720828705739502
          ],
          [
           0.6526249999999999
          ],
          [
           0.4644
          ],
          [
           0.51
          ],
          [
           0.6729999999999999
          ],
          [
           0.5652363636363636
          ],
          [
           0.659
          ],
          [
           0.482338372305444
          ],
          [
           0.7244449727042065
          ],
          [
           0.6016296773898462
          ],
          [
           0.6664000000000001
          ],
          [
           0.7353703373015873
          ],
          [
           0.6859999999999999
          ],
          [
           0.5923551951627187
          ],
          [
           0.4789000000000001
          ],
          [
           0.4824809523809524
          ],
          [
           0.5100326025564313
          ],
          [
           0.3685
          ],
          [
           0.6107426934789068
          ],
          [
           0.74125
          ],
          [
           0.5451666666666667
          ],
          [
           0.604
          ],
          [
           0.357
          ],
          [
           0.5853333333333334
          ],
          [
           0.6094650793650793
          ],
          [
           0.4918931308155447
          ],
          [
           0.5635
          ],
          [
           0.6615
          ],
          [
           0.569625
          ],
          [
           0.7250535714285715
          ],
          [
           0.6828354073660715
          ],
          [
           0.5635
          ],
          [
           0.5117558267533859
          ],
          [
           0.6499999999999999
          ],
          [
           0.6474718482905982
          ],
          [
           0.4395
          ],
          [
           0.8079999999999999
          ],
          [
           0.3417378147254253
          ],
          [
           0.3359207709472465
          ],
          [
           0.1852533333333333
          ],
          [
           0.4023333333333334
          ],
          [
           0.295
          ],
          [
           0.5920000000000001
          ],
          [
           0.547
          ],
          [
           0.493
          ],
          [
           0.8079999999999999
          ],
          [
           0.6747720093313898
          ],
          [
           0.6096368055555557
          ],
          [
           0.6581666666666667
          ],
          [
           0.7240792738970586
          ],
          [
           0.24187
          ],
          [
           0.6646583333333334
          ],
          [
           0.6283487609342724
          ],
          [
           0.6018541666666667
          ],
          [
           0.483125
          ],
          [
           0.650180395135219
          ],
          [
           0.6025364511517289
          ],
          [
           0.7360333333333334
          ],
          [
           0.5207870921361366
          ],
          [
           0.6559999999999999
          ],
          [
           0.4846538461538462
          ],
          [
           0.6601444444444444
          ],
          [
           0.7007291666666666
          ],
          [
           0.4625
          ],
          [
           0.6550999999999999
          ],
          [
           0.5043683167300242
          ],
          [
           0.5597142857142857
          ],
          [
           0.6625620368719881
          ],
          [
           0.704426904201038
          ],
          [
           0.6479481074481074
          ],
          [
           0.5459342167004086
          ],
          [
           0.568
          ],
          [
           0.5075600491840071
          ],
          [
           0.6017466099773242
          ],
          [
           0.6647755102040817
          ],
          [
           0.4640875
          ],
          [
           0.7228166666666667
          ],
          [
           0.7755369093231164
          ],
          [
           0.3213559948979592
          ],
          [
           0.58825
          ],
          [
           0.459
          ],
          [
           0.6699333333333332
          ],
          [
           0.6212528294224623
          ],
          [
           0.6225907407407407
          ],
          [
           0.1855
          ],
          [
           0.5539585858585858
          ],
          [
           0.219
          ],
          [
           0.7011154665104827
          ],
          [
           0.7798250000000001
          ],
          [
           0.4579999999999999
          ],
          [
           0.4701976326398279
          ],
          [
           0.4108811922966933
          ],
          [
           0.4613333333333334
          ],
          [
           0.4689924999999999
          ],
          [
           0.5018333333333334
          ],
          [
           0.5196542024067474
          ],
          [
           0.6000340677966103
          ],
          [
           0.3633692424242424
          ],
          [
           0.3054565917869988
          ],
          [
           0.4570176020408162
          ],
          [
           0.6218961862520519
          ],
          [
           0.3930701167940153
          ],
          [
           0.5040751023522069
          ],
          [
           0.34875
          ],
          [
           0.3982222222222223
          ],
          [
           0.4538523076923076
          ],
          [
           0.5077142857142859
          ],
          [
           0.7478697622779517
          ],
          [
           0.3989999999999999
          ],
          [
           0.659
          ],
          [
           0.5364976748969671
          ],
          [
           0.161
          ],
          [
           0.6023679064179064
          ],
          [
           0.3182563636363637
          ],
          [
           0.6156527680390604
          ],
          [
           0.553459595959596
          ],
          [
           0.399575651930915
          ],
          [
           0.4873939393939395
          ],
          [
           0.4532956989247312
          ],
          [
           0.223
          ],
          [
           0.6712380952380952
          ],
          [
           0.4151739872929783
          ],
          [
           0.38375
          ],
          [
           0.5453903333333334
          ],
          [
           0.6564464285714285
          ],
          [
           0.5000555555555555
          ],
          [
           0.893
          ],
          [
           0.6465384259259258
          ],
          [
           0.4833793334439318
          ],
          [
           0.43
          ],
          [
           0.4930937499999999
          ],
          [
           0.395
          ],
          [
           0.4078841269841271
          ],
          [
           0.30550625
          ],
          [
           0.4235078771739956
          ],
          [
           0.4922333333333334
          ],
          [
           0.590479977722083
          ],
          [
           0.5659753127057275
          ],
          [
           0.3002
          ],
          [
           0.4757081751797373
          ],
          [
           0.5522252809214592
          ],
          [
           0.6020833333333334
          ],
          [
           0.5913999999999999
          ],
          [
           0.4765095238095238
          ],
          [
           0.5141830298594264
          ],
          [
           0.6454597814094546
          ],
          [
           0.5203394242882571
          ],
          [
           0.5863968253968256
          ],
          [
           0.5903478260869566
          ],
          [
           0.7559999999999999
          ],
          [
           0.6957142857142857
          ],
          [
           0.4449715256602353
          ],
          [
           0.4263151111111112
          ],
          [
           0.463835132094573
          ],
          [
           0.485
          ],
          [
           0.4134000000000001
          ],
          [
           0.7805
          ],
          [
           0.711
          ],
          [
           0.49475
          ],
          [
           0.504
          ],
          [
           0.3895
          ],
          [
           0.2465
          ],
          [
           0.5422246376811594
          ],
          [
           0.7243606791649925
          ],
          [
           0.6276658037711729
          ],
          [
           0.5596916666666667
          ],
          [
           0.6386430457849394
          ],
          [
           0.4455
          ],
          [
           0.661261288711762
          ],
          [
           0.7214722222222223
          ],
          [
           0.4410672142924155
          ],
          [
           0.2895460838840647
          ],
          [
           0.5990898775757196
          ],
          [
           0.4656541353383459
          ],
          [
           0.5311245747075304
          ],
          [
           0.7282871786988361
          ],
          [
           0.7131296296296297
          ],
          [
           0.7078304824561403
          ],
          [
           0.68075
          ],
          [
           0.5332307692307693
          ],
          [
           0.7498163265306123
          ],
          [
           0.7352500000000001
          ],
          [
           0.7605038525596786
          ],
          [
           0.4987454745945851
          ],
          [
           0.55
          ],
          [
           0.329
          ],
          [
           0.5348289073590757
          ],
          [
           0.8412773109243695
          ],
          [
           0.553655976676385
          ],
          [
           0.6104951817413355
          ],
          [
           0.5143161904761905
          ],
          [
           0.6139154697723774
          ],
          [
           0.2999062499999999
          ],
          [
           0.5597506666666665
          ],
          [
           0.5462446503799098
          ],
          [
           0.619
          ],
          [
           0.5459364583333332
          ],
          [
           0.6561255525571862
          ],
          [
           0.7449207807904014
          ],
          [
           0.7342517955900311
          ],
          [
           0.6970515829157957
          ],
          [
           0.7296303634131218
          ],
          [
           0.7393176893897211
          ],
          [
           0.6949516032065932
          ],
          [
           0.5122
          ],
          [
           0.7375674574372802
          ],
          [
           0.847
          ],
          [
           0.6905866962673763
          ],
          [
           0.7081944444444445
          ],
          [
           0.3639564102564104
          ],
          [
           0.7407499999999999
          ],
          [
           0.4082142857142857
          ],
          [
           0.5758633333333333
          ],
          [
           0.498
          ],
          [
           0.6972727272727274
          ],
          [
           0.5521131038531562
          ],
          [
           0.7028837535014006
          ],
          [
           0.4911111111111111
          ],
          [
           0.4521879591836736
          ],
          [
           0.8450000000000001
          ],
          [
           0.6445
          ],
          [
           0.7955000000000001
          ],
          [
           0.5006359387844106
          ],
          [
           0.672
          ],
          [
           0.5842499999999999
          ],
          [
           0.521
          ],
          [
           0.52325
          ],
          [
           0.5340833333333334
          ],
          [
           0.591
          ],
          [
           0.4872892992424242
          ],
          [
           0.5284017300986051
          ],
          [
           0.6136984235656712
          ],
          [
           0.568
          ],
          [
           0.4868703703703704
          ],
          [
           0.6779999999999999
          ],
          [
           0.5058610111845345
          ],
          [
           0.5493334154351394
          ],
          [
           0.5530761904761905
          ],
          [
           0.7
          ],
          [
           0.4102727272727273
          ],
          [
           0.757644941945199
          ],
          [
           0.5150556623931624
          ],
          [
           0.5488382610593807
          ],
          [
           0.5540637208258531
          ],
          [
           0.4835937500000001
          ],
          [
           0.6905
          ],
          [
           0.317401282051282
          ],
          [
           0.8109999999999999
          ],
          [
           0.374625
          ],
          [
           0.7472000000000001
          ],
          [
           0.4837594285714287
          ],
          [
           0.5351728395061728
          ],
          [
           0.5582104787714544
          ],
          [
           0.7427795268690347
          ],
          [
           0.5477941207108534
          ],
          [
           0.4777929469767705
          ],
          [
           0.3512844883949003
          ],
          [
           0.5879126381466736
          ],
          [
           0.535
          ],
          [
           0.4971666666666666
          ],
          [
           0.5091666666666667
          ],
          [
           0.3805800000000001
          ],
          [
           0.5587962962962963
          ],
          [
           0.228
          ],
          [
           0.29697060470747
          ],
          [
           0.653
          ],
          [
           0.438
          ],
          [
           0.4285666666666666
          ],
          [
           0.5916666666666667
          ],
          [
           0.5999166666666668
          ],
          [
           0.5054444444444443
          ],
          [
           0.5054444444444443
          ],
          [
           0.3473006809834156
          ],
          [
           0.2437687074829931
          ],
          [
           0.6312727272727273
          ],
          [
           0.5911984126984127
          ],
          [
           0.4579999999999999
          ],
          [
           0.5117607323232324
          ],
          [
           0.267512585158961
          ],
          [
           0.4685
          ],
          [
           0.5329999999999999
          ],
          [
           0.759
          ],
          [
           0.26625
          ],
          [
           0.48
          ],
          [
           0.6907302564102564
          ],
          [
           0.4824019097222221
          ],
          [
           0.5906666666666667
          ],
          [
           0.7156587152304303
          ],
          [
           0.6430070523101252
          ],
          [
           0.7158856981981983
          ],
          [
           0.6853812406204907
          ],
          [
           0.789
          ],
          [
           0.6344648495596535
          ],
          [
           0.6303489278752435
          ],
          [
           0.6476457854864917
          ],
          [
           0.5741829475308642
          ],
          [
           0.5885730207228345
          ],
          [
           0.5464955223880595
          ],
          [
           0.6861666666666667
          ],
          [
           0.5804444444444444
          ],
          [
           0.5442637292461595
          ],
          [
           0.572495238095238
          ],
          [
           0.7
          ],
          [
           0.5022037037037037
          ],
          [
           0.7899683333333335
          ],
          [
           0.5208695652173914
          ],
          [
           0.5055833333333334
          ],
          [
           0.317
          ],
          [
           0.554640522875817
          ],
          [
           0.7316466666666667
          ],
          [
           0.6435
          ],
          [
           0.6442311628430051
          ],
          [
           0.55575
          ],
          [
           0.3592660353941491
          ],
          [
           0.6145714743589744
          ],
          [
           0.3393333333333333
          ],
          [
           0.4476666666666667
          ],
          [
           0.711
          ],
          [
           0.4297189771207628
          ],
          [
           0.741
          ],
          [
           0.4933333333333334
          ],
          [
           0.5811582015810277
          ],
          [
           0.5226285984848484
          ],
          [
           0.6306
          ],
          [
           0.6461111111111113
          ],
          [
           0.74545
          ],
          [
           0.4256985563164125
          ],
          [
           0.6743473913542023
          ],
          [
           0.5289903703703703
          ],
          [
           0.6891
          ],
          [
           0.5335000000000001
          ],
          [
           0.883
          ],
          [
           0.2827955555555556
          ],
          [
           0.5989074971164936
          ],
          [
           0.5778988235294118
          ],
          [
           0.6143555555555557
          ],
          [
           0.6186396078431372
          ],
          [
           0.5479166666666667
          ],
          [
           0.687
          ],
          [
           0.725
          ],
          [
           0.4435714285714285
          ],
          [
           0.2436999999999999
          ],
          [
           0.3607151960784314
          ],
          [
           0.6640357142857143
          ],
          [
           0.3700773148148148
          ],
          [
           0.6783167599428436
          ],
          [
           0.5836948080428346
          ],
          [
           0.5936
          ],
          [
           0.6158916835699796
          ],
          [
           0.3994497930408398
          ],
          [
           0.5467219769945225
          ],
          [
           0.4280999999999999
          ],
          [
           0.0825666666666666
          ],
          [
           0.6873239262913351
          ],
          [
           0.5595138888888889
          ],
          [
           0.5767111111111111
          ],
          [
           0.4740740740740741
          ],
          [
           0.536281052669638
          ],
          [
           0.0569
          ],
          [
           0.3971814516129033
          ],
          [
           0.6431051474066773
          ],
          [
           0.6738262319522912
          ],
          [
           0.6482
          ],
          [
           0.6379999999999999
          ],
          [
           0.5843168803804708
          ],
          [
           0.5150844355361276
          ],
          [
           0.7079510903910903
          ],
          [
           0.4368272679131589
          ],
          [
           0.52925
          ],
          [
           0.506
          ],
          [
           0.618
          ],
          [
           0.5101017361111111
          ],
          [
           0.5851225
          ],
          [
           0.3906296296296295
          ],
          [
           0.262
          ],
          [
           0.4615145833333333
          ],
          [
           0.3014222222222222
          ],
          [
           0.5064447897688706
          ],
          [
           0.1502696467197297
          ],
          [
           0.8202000000000002
          ],
          [
           0.7547499999999999
          ],
          [
           0.161
          ],
          [
           0.6488888888888888
          ],
          [
           0.4871553098808193
          ],
          [
           0.3525004901960785
          ],
          [
           0.4685454545454543
          ],
          [
           0.6252303046256625
          ],
          [
           0.6313883098248083
          ],
          [
           0.6321333333333333
          ],
          [
           0.7244847470238098
          ],
          [
           0.4765245940938479
          ],
          [
           0.6581258657458317
          ],
          [
           0.5724
          ],
          [
           0.5638344161595072
          ],
          [
           0.6117142857142859
          ],
          [
           0.591021164021164
          ],
          [
           0.608922619047619
          ],
          [
           0.6695
          ],
          [
           0.6384816809627962
          ],
          [
           0.775
          ],
          [
           0.6747500000000001
          ],
          [
           0.6084177387027698
          ],
          [
           0.6037828757647558
          ],
          [
           0.5993030303030303
          ],
          [
           0.5554508403097199
          ],
          [
           0.5309981601731603
          ],
          [
           0.1837208333333334
          ],
          [
           0.2254666666666666
          ],
          [
           0.1753416666666667
          ],
          [
           0.5236875
          ],
          [
           0.3169375961051575
          ],
          [
           0.8052916666666667
          ],
          [
           0.4921428571428571
          ],
          [
           0.6967500000000001
          ],
          [
           0.7885833333333334
          ],
          [
           0.847
          ],
          [
           0.5787443609022557
          ],
          [
           0.7542142857142856
          ],
          [
           0.7735
          ],
          [
           0.4968655913978495
          ],
          [
           0.7214611959287529
          ],
          [
           0.5795346938775511
          ],
          [
           0.307
          ],
          [
           0.4761666666666666
          ],
          [
           0.4486666666666666
          ],
          [
           0.7435999999999999
          ],
          [
           0.4800000000000002
          ],
          [
           0.7263904827282571
          ],
          [
           0.4317083333333333
          ],
          [
           0.5217478242575185
          ],
          [
           0.5974720800075988
          ],
          [
           0.6985246031746032
          ],
          [
           0.711
          ],
          [
           0.5980000000000001
          ],
          [
           0.08818
          ],
          [
           0.4994090690551454
          ],
          [
           0.3684
          ],
          [
           0.3753459731379731
          ],
          [
           0.461
          ],
          [
           0.3801178276269184
          ],
          [
           0.3450833333333333
          ],
          [
           0.4671428571428571
          ],
          [
           0.7306666666666666
          ],
          [
           0.5846
          ],
          [
           0.5193333333333334
          ],
          [
           0.3737698412698413
          ],
          [
           0.419
          ],
          [
           0.5752784313725491
          ],
          [
           0.419
          ],
          [
           0.6055599183691738
          ],
          [
           0.610337720924484
          ],
          [
           0.4335555555555557
          ],
          [
           0.5925189112760693
          ],
          [
           0.5893333333333334
          ],
          [
           0.7442500000000001
          ],
          [
           0.7031587301587301
          ],
          [
           0.3171033569369129
          ],
          [
           0.733
          ],
          [
           0.594
          ],
          [
           0.4317297645112633
          ],
          [
           0.401760363335657
          ],
          [
           0.638
          ],
          [
           0.5037063545150502
          ],
          [
           0.7133057170542636
          ],
          [
           0.5200701754385965
          ],
          [
           0.5130863095238094
          ],
          [
           0.613
          ],
          [
           0.6228333333333332
          ],
          [
           0.5723798076923077
          ],
          [
           0.5419155271415871
          ],
          [
           0.7290000000000001
          ],
          [
           0.6319703996983409
          ],
          [
           0.375672341139253
          ],
          [
           0.3828122524951061
          ],
          [
           0.3663669809203142
          ],
          [
           0.4771698872785829
          ],
          [
           0.6118333333333333
          ],
          [
           0.3612
          ],
          [
           0.2138090909090908
          ],
          [
           0.5452411570310979
          ],
          [
           0.5074898148148148
          ],
          [
           0.3382091377091378
          ],
          [
           0.2937999999999999
          ],
          [
           0.300521430279231
          ],
          [
           0.6816249999999999
          ],
          [
           0.4588181818181819
          ],
          [
           0.482
          ],
          [
           0.6068099616646717
          ],
          [
           0.5042142857142857
          ],
          [
           0.5080010074186141
          ],
          [
           0.4690586370997689
          ],
          [
           0.4717824508824511
          ],
          [
           0.4591733333333333
          ],
          [
           0.411
          ],
          [
           0.6582384259259259
          ],
          [
           0.5673972237484737
          ],
          [
           0.5912392369220275
          ],
          [
           0.4022000000000001
          ],
          [
           0.5591272727272728
          ],
          [
           0.4742291666666668
          ],
          [
           0.263529411764706
          ],
          [
           0.192
          ],
          [
           0.616125
          ],
          [
           0.8393333333333333
          ],
          [
           0.3861234848484849
          ],
          [
           0.2195555555555556
          ],
          [
           0.6783333333333332
          ],
          [
           0.6131817992379138
          ],
          [
           0.563
          ],
          [
           0.4553333333333334
          ],
          [
           0.5181979949874687
          ],
          [
           0.6829999999999999
          ],
          [
           0.59275
          ],
          [
           0.6783333333333332
          ],
          [
           0.537
          ],
          [
           0.6622962962962963
          ],
          [
           0.5859426579520697
          ],
          [
           0.4537777777777778
          ],
          [
           0.4518400000000002
          ],
          [
           0.716
          ],
          [
           0.6660263157894737
          ],
          [
           0.3544177770888768
          ],
          [
           0.272
          ],
          [
           0.6218960376788982
          ],
          [
           0.6829999999999999
          ],
          [
           0.4134417989417989
          ],
          [
           0.411
          ],
          [
           0.3270000000000001
          ],
          [
           0.434
          ],
          [
           0.5240972222222222
          ],
          [
           0.5714166666666667
          ],
          [
           0.446875
          ],
          [
           0.4965000000000001
          ],
          [
           0.6179981060606062
          ],
          [
           0.6505000000000001
          ],
          [
           0.758
          ],
          [
           0.5443250109221781
          ],
          [
           0.5379973447937734
          ],
          [
           0.5369333333333334
          ],
          [
           0.199125
          ],
          [
           0.3524040404040404
          ],
          [
           0.455
          ],
          [
           0.30655
          ],
          [
           0.7384999999999999
          ],
          [
           0.5003846153846153
          ],
          [
           0.361
          ],
          [
           0.5670000000000001
          ],
          [
           0.3329444444444444
          ],
          [
           0.3858637281910009
          ],
          [
           0.439322861780871
          ],
          [
           0.7146694037444037
          ],
          [
           0.6349494368522378
          ],
          [
           0.5636521739130435
          ],
          [
           0.3793461538461539
          ],
          [
           0.6289387755102042
          ],
          [
           0.6615
          ],
          [
           0.3633471861471862
          ],
          [
           0.5255085714285712
          ],
          [
           0.2537666666666667
          ],
          [
           0.4006666666666666
          ],
          [
           0.5765
          ],
          [
           0.5620880454712137
          ],
          [
           0.5443142857142855
          ],
          [
           0.789
          ],
          [
           0.5801985333649974
          ],
          [
           0.568
          ],
          [
           0.892
          ],
          [
           0.6374166666666665
          ],
          [
           0.6053333333333334
          ],
          [
           0.6322299511784514
          ],
          [
           0.5885892857142856
          ],
          [
           0.5018030303030302
          ],
          [
           0.5777456834763975
          ],
          [
           0.5758484848484848
          ],
          [
           0.4383939393939394
          ],
          [
           0.7574076923076924
          ],
          [
           0.2813388888888889
          ],
          [
           0.5234
          ],
          [
           0.3556
          ],
          [
           0.261
          ],
          [
           0.2893857142857143
          ],
          [
           0.6961823529411765
          ],
          [
           0.5803347368421053
          ],
          [
           0.7217998286118479
          ],
          [
           0.6466207729468599
          ],
          [
           0.6577038069477572
          ],
          [
           0.5636976190476191
          ],
          [
           0.7462007629765207
          ],
          [
           0.3720000000000001
          ],
          [
           0.7002060308972072
          ],
          [
           0.5637532820055894
          ],
          [
           0.5640008108766061
          ],
          [
           0.7758591117433221
          ],
          [
           0.5582222222222223
          ],
          [
           0.435025
          ],
          [
           0.7585
          ],
          [
           0.5920000000000001
          ],
          [
           0.49
          ],
          [
           0.74525
          ],
          [
           0.6755833333333333
          ],
          [
           0.4135
          ],
          [
           0.3863292635281567
          ],
          [
           0.2799197324414717
          ],
          [
           0.349499331320853
          ],
          [
           0.3245046920445271
          ],
          [
           0.653
          ],
          [
           0.4605907330633239
          ],
          [
           0.6130350877192984
          ],
          [
           0.3519666666666666
          ],
          [
           0.6127619047619047
          ],
          [
           0.2488
          ],
          [
           0.4863981004072696
          ],
          [
           0.5403733333333333
          ],
          [
           0.6891364471200778
          ],
          [
           0.5816250000000001
          ],
          [
           0.5563958333333332
          ],
          [
           0.594566517126356
          ],
          [
           0.4773041666666668
          ],
          [
           0.586703013446235
          ],
          [
           0.5400050992970632
          ],
          [
           0.336
          ],
          [
           0.6005809523809524
          ],
          [
           0.6960833333333332
          ],
          [
           0.4877986111111112
          ],
          [
           0.5487627341132533
          ],
          [
           0.902
          ],
          [
           0.456003043478261
          ],
          [
           0.5480964035964037
          ],
          [
           0.7282083718593714
          ],
          [
           0.6773020833333333
          ],
          [
           0.6829999999999999
          ],
          [
           0.6720952380952379
          ],
          [
           0.7315518130040103
          ],
          [
           0.7999999999999999
          ],
          [
           0.7818325388616039
          ],
          [
           0.6755298964624676
          ],
          [
           0.7420000000000001
          ],
          [
           0.877
          ],
          [
           0.5976999999999999
          ],
          [
           0.4676666666666667
          ],
          [
           0.4184166666666667
          ],
          [
           0.7222142857142858
          ],
          [
           0.6930000000000001
          ],
          [
           0.507
          ],
          [
           0.6136946757298541
          ],
          [
           0.7766666666666667
          ],
          [
           0.704884637187167
          ],
          [
           0.6533900089052099
          ],
          [
           0.5590261540455851
          ],
          [
           0.5321963215528435
          ],
          [
           0.524
          ],
          [
           0.6214291666666667
          ],
          [
           0.535
          ],
          [
           0.542
          ],
          [
           0.659
          ],
          [
           0.726
          ],
          [
           0.807
          ],
          [
           0.5567142857142857
          ],
          [
           0.4018860750360751
          ],
          [
           0.3760833333333333
          ],
          [
           0.698
          ],
          [
           0.5489999999999999
          ],
          [
           0.4910088235294118
          ],
          [
           0.3957623328877006
          ],
          [
           0.4165
          ],
          [
           0.5004705882352941
          ],
          [
           0.5482000000000001
          ],
          [
           0.6669999999999999
          ],
          [
           0.6625714285714287
          ],
          [
           0.7467500632186262
          ],
          [
           0.4912897727272727
          ],
          [
           0.6539375000000001
          ],
          [
           0.2504166666666665
          ],
          [
           0.738
          ],
          [
           0.3783
          ],
          [
           0.6638901098901098
          ],
          [
           0.6216945887445888
          ],
          [
           0.5664510864197531
          ],
          [
           0.539
          ],
          [
           0.6243968805704101
          ],
          [
           0.6485261525352042
          ],
          [
           0.8319714285714286
          ],
          [
           0.452
          ],
          [
           0.4583238095238095
          ],
          [
           0.341931746031746
          ],
          [
           0.831
          ],
          [
           0.6394216216216215
          ],
          [
           0.7148484848484848
          ],
          [
           0.7273333333333335
          ],
          [
           0.7200998168498168
          ],
          [
           0.6409999999999999
          ],
          [
           0.3945381669960474
          ],
          [
           0.452
          ],
          [
           0.5983836597768419
          ],
          [
           0.4860749999999999
          ],
          [
           0.3905000000000001
          ],
          [
           0.5126319354353795
          ],
          [
           0.7856228658536586
          ],
          [
           0.446
          ],
          [
           0.3129999999999999
          ],
          [
           0.3742
          ],
          [
           0.3641088541666667
          ],
          [
           0.292
          ],
          [
           0.272909552238806
          ],
          [
           0.3050749999999999
          ],
          [
           0.769
          ],
          [
           0.742
          ],
          [
           0.4930416666666666
          ],
          [
           0.6179375
          ],
          [
           0.6886076459802271
          ],
          [
           0.4822207517120561
          ],
          [
           0.6853809236947791
          ],
          [
           0.0847
          ],
          [
           0.5334753086419755
          ],
          [
           0.5175142857142857
          ],
          [
           0.6621159930336992
          ],
          [
           0.789
          ],
          [
           0.3816997287691732
          ],
          [
           0.4336666666666667
          ],
          [
           0.789
          ],
          [
           0.509
          ],
          [
           0.792
          ],
          [
           0.6899908309588203
          ],
          [
           0.6772291666666665
          ],
          [
           0.5210754954954954
          ],
          [
           0.3542857142857142
          ],
          [
           0.48475
          ],
          [
           0.5609944444444445
          ],
          [
           0.6182351052232441
          ],
          [
           0.7492573240398821
          ],
          [
           0.6055065885334179
          ],
          [
           0.5654365079365078
          ],
          [
           0.5785
          ],
          [
           0.7350000000000001
          ],
          [
           0.6673749999999999
          ],
          [
           0.5116071428571429
          ],
          [
           0.524375
          ],
          [
           0.4935907407407407
          ],
          [
           0.5904866739547447
          ],
          [
           0.7600292397660818
          ],
          [
           0.7498
          ],
          [
           0.6780499999999999
          ],
          [
           0.6876666666666668
          ],
          [
           0.5974999999999999
          ],
          [
           0.54
          ],
          [
           0.5713333333333334
          ],
          [
           0.6709999999999999
          ],
          [
           0.2674525
          ],
          [
           0.4106590790880121
          ],
          [
           0.4493333333333333
          ],
          [
           0.792
          ],
          [
           0.792
          ],
          [
           0.263529411764706
          ],
          [
           0.4841111111111112
          ],
          [
           0.3647882352941177
          ],
          [
           0.7170000000000001
          ],
          [
           0.5588614841408591
          ],
          [
           0.4799876238776153
          ],
          [
           0.3931806182121972
          ],
          [
           0.5730565476190478
          ],
          [
           0.474
          ],
          [
           0.4800483516483516
          ],
          [
           0.39998
          ],
          [
           0.4558380506677393
          ],
          [
           0.4656745530336482
          ],
          [
           0.3589319785349671
          ],
          [
           0.6225968144125513
          ],
          [
           0.6076142857142857
          ],
          [
           0.609
          ],
          [
           0.4873207341269841
          ],
          [
           0.5183571428571428
          ],
          [
           0.4458787878787879
          ],
          [
           0.6781923076923075
          ],
          [
           0.5725131854695473
          ],
          [
           0.2410096774193549
          ],
          [
           0.5173719751999413
          ],
          [
           0.5796666666666668
          ],
          [
           0.3438464751367914
          ],
          [
           0.5755195229972572
          ],
          [
           0.7881999784443281
          ],
          [
           0.7018214285714287
          ],
          [
           0.7427499999999999
          ],
          [
           0.7028399720516455
          ],
          [
           0.3600673076923077
          ],
          [
           0.3668333333333333
          ],
          [
           0.5015555555555555
          ],
          [
           0.4337638888888889
          ],
          [
           0.1977666666666666
          ],
          [
           0.5369399167087999
          ],
          [
           0.7248945305406844
          ],
          [
           0.5130156718727918
          ],
          [
           0.5860384615384617
          ],
          [
           0.486
          ],
          [
           0.7809999999999999
          ],
          [
           0.5716249999999999
          ],
          [
           0.196
          ],
          [
           0.5465833333333333
          ],
          [
           0.5900151515151515
          ],
          [
           0.5660000000000001
          ],
          [
           0.1682601686507936
          ],
          [
           0.7240000000000001
          ],
          [
           0.4234999999999999
          ],
          [
           0.5509
          ],
          [
           0.4345000000000001
          ],
          [
           0.4991666666666668
          ],
          [
           0.4955416666666666
          ],
          [
           0.555
          ],
          [
           0.7627639927044146
          ],
          [
           0.7360928571428571
          ],
          [
           0.7700852043323799
          ],
          [
           0.4936608893557423
          ],
          [
           0.595
          ],
          [
           0.5215833333333333
          ],
          [
           0.6525
          ],
          [
           0.535
          ],
          [
           0.6467605019764108
          ],
          [
           0.0746154320987654
          ],
          [
           0.3275
          ],
          [
           0.319239
          ],
          [
           0.453
          ],
          [
           0.6335555555555556
          ],
          [
           0.181
          ],
          [
           0.5053182913165266
          ],
          [
           0.5731208791208791
          ],
          [
           0.5052
          ],
          [
           0.5707906220256548
          ],
          [
           0.5009956690561528
          ],
          [
           0.3496428571428571
          ],
          [
           0.4368388824181572
          ],
          [
           0.4687821188764199
          ],
          [
           0.5655351589846491
          ],
          [
           0.6646875
          ],
          [
           0.40575
          ],
          [
           0.4624810126582278
          ],
          [
           0.5316315789473685
          ],
          [
           0.467
          ],
          [
           0.6170089408481683
          ],
          [
           0.4720908408344455
          ],
          [
           0.385
          ],
          [
           0.5686221296462861
          ],
          [
           0.13
          ],
          [
           0.334
          ],
          [
           0.6759999999999999
          ],
          [
           0.4433333333333333
          ],
          [
           0.5834999999999999
          ],
          [
           0.5609722222222222
          ],
          [
           0.6890000000000001
          ],
          [
           0.3595
          ],
          [
           0.5744257425742573
          ],
          [
           0.7659999999999999
          ],
          [
           0.547081530483321
          ],
          [
           0.863
          ],
          [
           0.7488888888888888
          ],
          [
           0.7056666666666666
          ],
          [
           0.6294087301587301
          ]
         ],
         "hovertemplate": "x=%{x}<br>y=%{y}<br>danca=%{customdata[0]}<br>cluster_pca=%{marker.color}<extra></extra>",
         "legendgroup": "",
         "marker": {
          "color": [
           2,
           2,
           3,
           4,
           4,
           2,
           3,
           3,
           4,
           4,
           0,
           0,
           3,
           2,
           4,
           4,
           3,
           4,
           0,
           0,
           4,
           4,
           3,
           4,
           0,
           3,
           3,
           2,
           3,
           3,
           3,
           3,
           3,
           3,
           3,
           0,
           4,
           3,
           0,
           3,
           0,
           3,
           3,
           3,
           4,
           3,
           3,
           0,
           3,
           0,
           3,
           0,
           4,
           0,
           0,
           3,
           0,
           0,
           3,
           3,
           0,
           0,
           3,
           2,
           0,
           4,
           0,
           0,
           3,
           2,
           3,
           0,
           2,
           2,
           2,
           2,
           2,
           4,
           0,
           2,
           4,
           2,
           0,
           2,
           2,
           0,
           4,
           0,
           2,
           3,
           0,
           0,
           0,
           0,
           4,
           0,
           0,
           4,
           4,
           3,
           4,
           2,
           4,
           4,
           0,
           1,
           2,
           4,
           3,
           0,
           3,
           4,
           3,
           3,
           3,
           3,
           3,
           0,
           4,
           3,
           0,
           2,
           0,
           3,
           0,
           2,
           3,
           4,
           3,
           2,
           0,
           3,
           3,
           3,
           0,
           3,
           2,
           0,
           3,
           1,
           3,
           1,
           0,
           4,
           0,
           3,
           0,
           3,
           0,
           3,
           2,
           3,
           2,
           2,
           2,
           3,
           0,
           0,
           3,
           3,
           0,
           0,
           0,
           0,
           3,
           0,
           0,
           3,
           3,
           0,
           0,
           4,
           3,
           3,
           3,
           0,
           3,
           3,
           0,
           2,
           2,
           2,
           0,
           2,
           3,
           1,
           0,
           2,
           2,
           0,
           3,
           4,
           3,
           3,
           3,
           3,
           2,
           4,
           4,
           4,
           4,
           3,
           4,
           4,
           4,
           0,
           4,
           2,
           2,
           4,
           2,
           3,
           0,
           3,
           3,
           3,
           4,
           4,
           4,
           4,
           4,
           2,
           3,
           4,
           4,
           4,
           2,
           2,
           2,
           2,
           3,
           2,
           2,
           4,
           3,
           0,
           0,
           3,
           3,
           0,
           3,
           3,
           3,
           3,
           0,
           3,
           3,
           4,
           3,
           4,
           3,
           3,
           4,
           3,
           3,
           0,
           0,
           0,
           2,
           2,
           0,
           3,
           3,
           0,
           0,
           4,
           0,
           3,
           0,
           4,
           0,
           4,
           4,
           3,
           3,
           0,
           2,
           4,
           3,
           2,
           4,
           0,
           0,
           2,
           1,
           3,
           3,
           0,
           0,
           0,
           1,
           0,
           0,
           0,
           0,
           0,
           0,
           4,
           4,
           4,
           4,
           0,
           0,
           3,
           3,
           4,
           4,
           3,
           3,
           4,
           3,
           3,
           4,
           4,
           4,
           3,
           3,
           3,
           0,
           0,
           3,
           3,
           3,
           4,
           4,
           3,
           3,
           2,
           2,
           2,
           4,
           2,
           2,
           3,
           2,
           2,
           2,
           3,
           0,
           3,
           4,
           4,
           0,
           4,
           4,
           1,
           3,
           3,
           0,
           3,
           0,
           0,
           3,
           4,
           2,
           3,
           4,
           0,
           0,
           0,
           3,
           0,
           0,
           3,
           3,
           2,
           2,
           3,
           2,
           4,
           0,
           0,
           4,
           0,
           0,
           4,
           3,
           0,
           2,
           2,
           0,
           0,
           4,
           3,
           2,
           0,
           4,
           4,
           3,
           3,
           3,
           0,
           0,
           3,
           0,
           3,
           3,
           3,
           3,
           3,
           0,
           2,
           4,
           4,
           4,
           0,
           4,
           3,
           0,
           3,
           2,
           4,
           3,
           2,
           4,
           3,
           4,
           3,
           3,
           3,
           4,
           2,
           2,
           2,
           4,
           3,
           4,
           3,
           0,
           3,
           2,
           4,
           0,
           3,
           0,
           3,
           4,
           4,
           3,
           3,
           0,
           0,
           4,
           3,
           0,
           0,
           2,
           4,
           0,
           0,
           3,
           4,
           2,
           4,
           3,
           3,
           4,
           0,
           4,
           4,
           4,
           4,
           4,
           0,
           4,
           4,
           3,
           4,
           4,
           4,
           3,
           2,
           2,
           2,
           0,
           3,
           2,
           4,
           2,
           0,
           3,
           3,
           4,
           2,
           4,
           2,
           2,
           4,
           2,
           4,
           0,
           3,
           3,
           4,
           4,
           3,
           0,
           4,
           3,
           3,
           0,
           4,
           4,
           3,
           0,
           3,
           3,
           0,
           0,
           3,
           4,
           0,
           3,
           3,
           3,
           4,
           4,
           3,
           1,
           3,
           4,
           3,
           3,
           0,
           2,
           4,
           0,
           4,
           3,
           4,
           0,
           0,
           4,
           2,
           2,
           2,
           0,
           0,
           3,
           3,
           0,
           2,
           4,
           3,
           2,
           2,
           2,
           3,
           2,
           4,
           0,
           4,
           4,
           0,
           3,
           0,
           3,
           3,
           0,
           0,
           0,
           0,
           0,
           0,
           3,
           2,
           0,
           3,
           0,
           2,
           4,
           3,
           3,
           3,
           0,
           3,
           0,
           3,
           4,
           4,
           3,
           3,
           4,
           3,
           4,
           4,
           4,
           4,
           4,
           0,
           4,
           3,
           3,
           3,
           4,
           4,
           0,
           1,
           0,
           4,
           4,
           4,
           4,
           0,
           4,
           4,
           4,
           4,
           3,
           4,
           4,
           4,
           3,
           4,
           4,
           0,
           3,
           3,
           4,
           0,
           4,
           4,
           2,
           3,
           3,
           3,
           4,
           3,
           3,
           2,
           0,
           2,
           2,
           2,
           2,
           2,
           2,
           2,
           2,
           2,
           2,
           2,
           4,
           2,
           2,
           2,
           2,
           2,
           2,
           2,
           0,
           2,
           2,
           2,
           4,
           4,
           1,
           0,
           3,
           3,
           3,
           3,
           3,
           3,
           3,
           1,
           3,
           4,
           1,
           0,
           4,
           0,
           2,
           3,
           2,
           0,
           0,
           3,
           2,
           2,
           2,
           3,
           4,
           0,
           2,
           4,
           4,
           2,
           4,
           4,
           4,
           0,
           3,
           3,
           3,
           0,
           4,
           2,
           3,
           4,
           4,
           3,
           4,
           3,
           3,
           3,
           3,
           4,
           4,
           3,
           3,
           4,
           3,
           3,
           0,
           3,
           0,
           3,
           3,
           3,
           4,
           3,
           3,
           3,
           3,
           3,
           3,
           3,
           3,
           3,
           4,
           3,
           4,
           3,
           3,
           3,
           3,
           0,
           3,
           4,
           2,
           2,
           4,
           0,
           4,
           3,
           3,
           3,
           3,
           0,
           3,
           0,
           0,
           2,
           0,
           2,
           3,
           2,
           0,
           3,
           0,
           0,
           3,
           0,
           0,
           4,
           3,
           4,
           3,
           3,
           0,
           3,
           0,
           2,
           1,
           0,
           0,
           3,
           0,
           0,
           0,
           0,
           0,
           0,
           0,
           0,
           3,
           0,
           0,
           0,
           0,
           3,
           4,
           0,
           0,
           4,
           3,
           1,
           3,
           3,
           4,
           3,
           3,
           0,
           3,
           3,
           3,
           4,
           3,
           0,
           3,
           3,
           0,
           3,
           3,
           2,
           4,
           0,
           4,
           4,
           0,
           0,
           4,
           3,
           3,
           3,
           2,
           0,
           1,
           0,
           3,
           3,
           3,
           3,
           4,
           4,
           0,
           2,
           4,
           3,
           4,
           3,
           0,
           0,
           3,
           3,
           0,
           4,
           3,
           3,
           3,
           3,
           0,
           3,
           0,
           3,
           3,
           0,
           3,
           3,
           0,
           3,
           4,
           4,
           4,
           3,
           4,
           0,
           2,
           3,
           3,
           3,
           3,
           4,
           3,
           4,
           0,
           0,
           3,
           3,
           3,
           4,
           0,
           0,
           0,
           1,
           0,
           0,
           0,
           0,
           2,
           3,
           0,
           2,
           2,
           0,
           0,
           3,
           0,
           3,
           2,
           0,
           0,
           2,
           3,
           4,
           4,
           0,
           3,
           0,
           0,
           1,
           2,
           0,
           0,
           3,
           4,
           3,
           0,
           4,
           2,
           0,
           3,
           0,
           3,
           4,
           0,
           3,
           4,
           1,
           2,
           2,
           2,
           2,
           3,
           2,
           3,
           0,
           3,
           3,
           3,
           4,
           3,
           4,
           0,
           2,
           4,
           3,
           0,
           3,
           3,
           4,
           0,
           0,
           4,
           4,
           3,
           0,
           3,
           3,
           3,
           0,
           3,
           0,
           3,
           0,
           0,
           0,
           0,
           3,
           3,
           3,
           0,
           0,
           0,
           3,
           0,
           2,
           0,
           2,
           4,
           4,
           2,
           0,
           0,
           4,
           3,
           2,
           0,
           4,
           3,
           0,
           0,
           4,
           2,
           4,
           1,
           3,
           0,
           3,
           3,
           3,
           3,
           3,
           4,
           4,
           2,
           2,
           3,
           3,
           2,
           0,
           3,
           0,
           2,
           0,
           0,
           4,
           4,
           4,
           4,
           0,
           3,
           4,
           3,
           0,
           0,
           2,
           0,
           2,
           2,
           0,
           0,
           0,
           3,
           0,
           0,
           3,
           4,
           4,
           2,
           3,
           0,
           0,
           3,
           0,
           4,
           2,
           3,
           0,
           3,
           3,
           4,
           4,
           4,
           4,
           4,
           4,
           0,
           3,
           4,
           4,
           3,
           4,
           3,
           4,
           4,
           3,
           3,
           3,
           4,
           0,
           3,
           3,
           3,
           0,
           2,
           3,
           4,
           3,
           0,
           2,
           2,
           3,
           2,
           2,
           4,
           0,
           0,
           3,
           0,
           3,
           0,
           4,
           0,
           4,
           2,
           2,
           4,
           3,
           0,
           3,
           3,
           2,
           0,
           4,
           3,
           0,
           0,
           0,
           3,
           0,
           3,
           2,
           3,
           3,
           0,
           0,
           4,
           3,
           3,
           3,
           3,
           0,
           0,
           3,
           0,
           3,
           0,
           3,
           3,
           0,
           3,
           0,
           0,
           3,
           2,
           2,
           0,
           0,
           3,
           3,
           0,
           0,
           0,
           0,
           0,
           3,
           0,
           0,
           4,
           3,
           0,
           0,
           2,
           2,
           2,
           4,
           3,
           0,
           0,
           3,
           3,
           2,
           1,
           0,
           0,
           2,
           2,
           3,
           3,
           3,
           0,
           3,
           2,
           0,
           2,
           2,
           2,
           0,
           0,
           0,
           3,
           3,
           1,
           4,
           0,
           3,
           0,
           0,
           0,
           3,
           0,
           0,
           0,
           3,
           3,
           0,
           0,
           4,
           4,
           1,
           3,
           1,
           4,
           3,
           0,
           0,
           0,
           3,
           3,
           0,
           0,
           0,
           0,
           0,
           3,
           3,
           0,
           4,
           2,
           4,
           4,
           1,
           2,
           4,
           4,
           2,
           3,
           0,
           0,
           0,
           3,
           0,
           0,
           3,
           3,
           3,
           3,
           3,
           0,
           1,
           4,
           2,
           2,
           4,
           1,
           4,
           2,
           0,
           4,
           4,
           3,
           4,
           3,
           1,
           3,
           2,
           4,
           3,
           2,
           0,
           0,
           4,
           0,
           0,
           3,
           0,
           3,
           0,
           0,
           0,
           3,
           4,
           4,
           4,
           2,
           2,
           2,
           2,
           4,
           3,
           3,
           2,
           3,
           3,
           3,
           0,
           3,
           2,
           2,
           4,
           3,
           1,
           3,
           3,
           3,
           2,
           2,
           2,
           2,
           2,
           2,
           2,
           1,
           4,
           4,
           3,
           4,
           4,
           4,
           4,
           3,
           0,
           2,
           3,
           3,
           3,
           3,
           3,
           4,
           3,
           2,
           2,
           2,
           2,
           0,
           1,
           4,
           4,
           0,
           0,
           3,
           3,
           2,
           0,
           2,
           4,
           4,
           3,
           0,
           0,
           0,
           0,
           0,
           4,
           4,
           2,
           4,
           3,
           3,
           2,
           3,
           4,
           4,
           3,
           4,
           3,
           4,
           0,
           4,
           3,
           4,
           0,
           3,
           3,
           4,
           3,
           3,
           3,
           4,
           0,
           0,
           3,
           0,
           0,
           3,
           0,
           3,
           3,
           0,
           4,
           3,
           3,
           3,
           0,
           0,
           3,
           2,
           0,
           4,
           3,
           0,
           0,
           0,
           4,
           4,
           4,
           3,
           0,
           0,
           0,
           0,
           4,
           0,
           3,
           4,
           1,
           3,
           4,
           1,
           2,
           4,
           0,
           4,
           4,
           3,
           2,
           0,
           3,
           4,
           0,
           4,
           3,
           4,
           4,
           2,
           2,
           2,
           3,
           0,
           3,
           4,
           4,
           3,
           3,
           2,
           2,
           2,
           2,
           0,
           2,
           2,
           0,
           3,
           0,
           0,
           3,
           2,
           4,
           2,
           0,
           2,
           0,
           2,
           2,
           4,
           0,
           4,
           0,
           2,
           2,
           2,
           2,
           0,
           2,
           4,
           3,
           3,
           0,
           2,
           3,
           0,
           3,
           0,
           0,
           0,
           3,
           0,
           0,
           3,
           0,
           0,
           3,
           3,
           3,
           3,
           0,
           4,
           3,
           2,
           2,
           2,
           2,
           0,
           2,
           3,
           0,
           4,
           3,
           3,
           0,
           0,
           2,
           4,
           3,
           4,
           4,
           0,
           0,
           0,
           0,
           0,
           0,
           0,
           0,
           0,
           0,
           0,
           3,
           3,
           0,
           4,
           2,
           4,
           4,
           3,
           4,
           4,
           4,
           3,
           4,
           4,
           4,
           4,
           4,
           2,
           4,
           4,
           4,
           4,
           4,
           4,
           0,
           2,
           4,
           4,
           4,
           4,
           4,
           3,
           0,
           4,
           2,
           4,
           4,
           4,
           4,
           4,
           4,
           0,
           2,
           3,
           4,
           3,
           3,
           3,
           4,
           3,
           4,
           0,
           3,
           3,
           3,
           3,
           3,
           4,
           4,
           3,
           4,
           3,
           4,
           0,
           0,
           4,
           0,
           0,
           3,
           4,
           3,
           4,
           3,
           3,
           4,
           1,
           3,
           3,
           4,
           3,
           2,
           3,
           3,
           1,
           4,
           3,
           2,
           2,
           2,
           4,
           4,
           2,
           2,
           0,
           3,
           3,
           3,
           3,
           2,
           2,
           4,
           3,
           3,
           2,
           3,
           4,
           0,
           0,
           2,
           3,
           3,
           3,
           2,
           3,
           0,
           4,
           3,
           3,
           3,
           4,
           0,
           3,
           3,
           3,
           4,
           3,
           1,
           3,
           0,
           3,
           1,
           3,
           3,
           4,
           2,
           4,
           4,
           0,
           3,
           3,
           4,
           0,
           2,
           4,
           0,
           0,
           4,
           0,
           4,
           3,
           0,
           4,
           3,
           4,
           4,
           0,
           4,
           4,
           4,
           3,
           4,
           0,
           0,
           0,
           4,
           4,
           3,
           2,
           4,
           2,
           4,
           3,
           2,
           1,
           1,
           4,
           0,
           3,
           4,
           0,
           4,
           2,
           0,
           4,
           3,
           0,
           4,
           4,
           0,
           3,
           4,
           4,
           4,
           3,
           4,
           4,
           4,
           3,
           3,
           4,
           3,
           0,
           0,
           4,
           2,
           4,
           0,
           2,
           4,
           3,
           3,
           3,
           3,
           0,
           0,
           0,
           0,
           0,
           0,
           0,
           0,
           0,
           3,
           0,
           3,
           4,
           4,
           3,
           0,
           4,
           4,
           3,
           3,
           3,
           4,
           0,
           0,
           0,
           0,
           3,
           3,
           2,
           3,
           3,
           3,
           0,
           3,
           4,
           1,
           3,
           3,
           3,
           3,
           3,
           3,
           4,
           2,
           2,
           1,
           1,
           0,
           0,
           4,
           3,
           4,
           1,
           4,
           0,
           3,
           4,
           0,
           2,
           3,
           0,
           0,
           3,
           3,
           3,
           3,
           2,
           0,
           3,
           3,
           0,
           0,
           0,
           3,
           3,
           0,
           3,
           3,
           3,
           3,
           2,
           2,
           3,
           2,
           0,
           3,
           3,
           0,
           3,
           3,
           3,
           2,
           0,
           3,
           1,
           3,
           4,
           1,
           1,
           4,
           3,
           2,
           3,
           4,
           1,
           3,
           2,
           4,
           4,
           4,
           4,
           3,
           3,
           4,
           3,
           2,
           0,
           3,
           3,
           4,
           3,
           3,
           2,
           4,
           3,
           4,
           4,
           3,
           4,
           4,
           3,
           4,
           1,
           4,
           3,
           4,
           3,
           3,
           4,
           4,
           4,
           0,
           0,
           4,
           1,
           0,
           3,
           2,
           4,
           4,
           4,
           0,
           0,
           3,
           4,
           3,
           3,
           0,
           4,
           2,
           3,
           2,
           3,
           2,
           4,
           1,
           3,
           0,
           4,
           3,
           3,
           3,
           2,
           4,
           4,
           0,
           0,
           3,
           4,
           0,
           0,
           3,
           4,
           4,
           2,
           4,
           3,
           3,
           4,
           4,
           0,
           0,
           0,
           3,
           0,
           2,
           2,
           4,
           3,
           1,
           4,
           0,
           3,
           2,
           3,
           0,
           0,
           0,
           3,
           4,
           4,
           3,
           3,
           4,
           3,
           0,
           3,
           0,
           3,
           0,
           3,
           4,
           0,
           3,
           2,
           0,
           3,
           3,
           3,
           3,
           0,
           0,
           0,
           4,
           3,
           0,
           0,
           0,
           0,
           2,
           2,
           0,
           3,
           2,
           0,
           2,
           4,
           0,
           3,
           3,
           0,
           3,
           4,
           0,
           4,
           0,
           3,
           0,
           3,
           0,
           2,
           2,
           2,
           0,
           2,
           3,
           3,
           2,
           0,
           3,
           0,
           0,
           0,
           0,
           1,
           0,
           3,
           4,
           4,
           3,
           3,
           2,
           3,
           0,
           3,
           0,
           0,
           3,
           0,
           4,
           4,
           4,
           3,
           4,
           4,
           3,
           4,
           4,
           0,
           0,
           3,
           3,
           3,
           0,
           2,
           4,
           3,
           4,
           3,
           3,
           0,
           4,
           3,
           3,
           0,
           3,
           2,
           3,
           3,
           0,
           3,
           0,
           3,
           4,
           3,
           3,
           3,
           0,
           3,
           0,
           4,
           2,
           3,
           0,
           3,
           3,
           2,
           2,
           0,
           2,
           2,
           4,
           1,
           2,
           2,
           0,
           2,
           1,
           0,
           0,
           2,
           2,
           4,
           4,
           2,
           3,
           3,
           3,
           3,
           3,
           4,
           3,
           4,
           4,
           2,
           2,
           0,
           3,
           0,
           3,
           3,
           0,
           4,
           3,
           4,
           1,
           0,
           3,
           3,
           2,
           4,
           3,
           3,
           3,
           4,
           3,
           3,
           4,
           4,
           0,
           3,
           3,
           4,
           0,
           3,
           3,
           3,
           3,
           3,
           4,
           2,
           4,
           3,
           2,
           4,
           3,
           0,
           0,
           0,
           4,
           3,
           0,
           4,
           3,
           3,
           3,
           3,
           3,
           0,
           0,
           1,
           2,
           3,
           2,
           2,
           2,
           2,
           2,
           4,
           0,
           4,
           3,
           3,
           4,
           3,
           3,
           2,
           3,
           3,
           3,
           0,
           3,
           0,
           3,
           3,
           3,
           4,
           3,
           3,
           4,
           3,
           0,
           3,
           3,
           3,
           3,
           3,
           3,
           4,
           3,
           3,
           4,
           3,
           3,
           2,
           0,
           4,
           3,
           0,
           4,
           0,
           0,
           2,
           3,
           3,
           0,
           0,
           0,
           0,
           2,
           0,
           0,
           3,
           2,
           2,
           0,
           3,
           0,
           3,
           0,
           0,
           0,
           2,
           3,
           4,
           4,
           4,
           0,
           0,
           0,
           0,
           0,
           0,
           0,
           0,
           0,
           0,
           0,
           0,
           0,
           0,
           0,
           4,
           0,
           3,
           4,
           4,
           0,
           0,
           0,
           4,
           4,
           3,
           4,
           0,
           3,
           4,
           0,
           0,
           3,
           3,
           4,
           3,
           3,
           4,
           3,
           3,
           0,
           0,
           0,
           0,
           0,
           3,
           3,
           4,
           2,
           2,
           0,
           3,
           3,
           3,
           3,
           3,
           4,
           3,
           3,
           4,
           2,
           4,
           0,
           4,
           3,
           3,
           3,
           3,
           0,
           3,
           3,
           3,
           0,
           3,
           2,
           0,
           3,
           3,
           0,
           0,
           1,
           0,
           3,
           4,
           4,
           3,
           3,
           3,
           3,
           3,
           3,
           3,
           3,
           0,
           3,
           3,
           3,
           4,
           2,
           3,
           0,
           3,
           4,
           3,
           4,
           3,
           0,
           0,
           3,
           0,
           3,
           0,
           3,
           3,
           3,
           3,
           3,
           0,
           0,
           0,
           3,
           3,
           0,
           3,
           0,
           3,
           3,
           4,
           0,
           3,
           0,
           4,
           3,
           3,
           4,
           2,
           3,
           2,
           3,
           4,
           4,
           3,
           3,
           3,
           4,
           4,
           4,
           4,
           4,
           0,
           0,
           4,
           2,
           2,
           0,
           0,
           4,
           4,
           4,
           0,
           0,
           2,
           2,
           3,
           0,
           4,
           4,
           2,
           0,
           0,
           3,
           2,
           4,
           3,
           0,
           3,
           3,
           3,
           3,
           3,
           3,
           3,
           3,
           3,
           3,
           4,
           4,
           3,
           1,
           4,
           3,
           3,
           0,
           3,
           3,
           4,
           2,
           4,
           3,
           3,
           3,
           4,
           2,
           3,
           2,
           4,
           3,
           0,
           4,
           3,
           3,
           3,
           3,
           3,
           3,
           0,
           3,
           0,
           3,
           3,
           4,
           2,
           3,
           4,
           4,
           3,
           4,
           3,
           3,
           2,
           2,
           2,
           4,
           0,
           3,
           3,
           3,
           3,
           0,
           4,
           0,
           2,
           3,
           0,
           4,
           0,
           4,
           2,
           2,
           3,
           3,
           3,
           3,
           3,
           3,
           3,
           0,
           4,
           4,
           0,
           4,
           0,
           0,
           0,
           0,
           0,
           0,
           2,
           0,
           3,
           0,
           3,
           4,
           0,
           4,
           4,
           3,
           3,
           3,
           0,
           3,
           4,
           3,
           3,
           4,
           4,
           3,
           3,
           3,
           4,
           3,
           4,
           3,
           4,
           4,
           2,
           2,
           2,
           3,
           2,
           3,
           4,
           3,
           3,
           3,
           4,
           3,
           3,
           0,
           3,
           4,
           0,
           0,
           0,
           3,
           4,
           3,
           0,
           3,
           4,
           3,
           3,
           0,
           2,
           4,
           2,
           0,
           2,
           2,
           2,
           0,
           3,
           4,
           3,
           0,
           0,
           3,
           0,
           3,
           3,
           2,
           3,
           3,
           0,
           3,
           0,
           4,
           3,
           4,
           4,
           4,
           4,
           3,
           3,
           4,
           4,
           3,
           4,
           3,
           4,
           3,
           0,
           0,
           0,
           2,
           3,
           0,
           2,
           4,
           4,
           2,
           2,
           2,
           3,
           0,
           0,
           4,
           4,
           4,
           0,
           4,
           0,
           0,
           3,
           3,
           3,
           0,
           3,
           4,
           0,
           2,
           3,
           3,
           0,
           0,
           4,
           3,
           0,
           3,
           0,
           0,
           4,
           4,
           0,
           4,
           0,
           3,
           2,
           4,
           0,
           0,
           0,
           3,
           0,
           0,
           0,
           0,
           3,
           4,
           3,
           4,
           2,
           0,
           0,
           3,
           4,
           4,
           0,
           0,
           2,
           2,
           0,
           3,
           0,
           2,
           4,
           0,
           0,
           0,
           3,
           3,
           0,
           4,
           4,
           3,
           0,
           4,
           2,
           4,
           4,
           4,
           4,
           4,
           3,
           3,
           3,
           3,
           4,
           4,
           4,
           0,
           4,
           4,
           0,
           0,
           0,
           3,
           0,
           0,
           0,
           0,
           3,
           3,
           3,
           3,
           3,
           3,
           0,
           3,
           3,
           3,
           3,
           3,
           3,
           3,
           3,
           4,
           4,
           3,
           0,
           4,
           2,
           0,
           0,
           3,
           4,
           3,
           0,
           4,
           2,
           4,
           4,
           3,
           4,
           4,
           4,
           4,
           4,
           4,
           4,
           3,
           3,
           3,
           0,
           1,
           0,
           3,
           3,
           3,
           3,
           0,
           3,
           3,
           3,
           3,
           3,
           3,
           0,
           3,
           0,
           3,
           4,
           4,
           0,
           3,
           3,
           3,
           4,
           4,
           4,
           4,
           4,
           3,
           3,
           3,
           3,
           3,
           4,
           2,
           3,
           1,
           4,
           4,
           4,
           4,
           4,
           1,
           4,
           3,
           3,
           4,
           2,
           3,
           4,
           3,
           3,
           4,
           4,
           3,
           3,
           3,
           0,
           0,
           0,
           3,
           0,
           3,
           3,
           3,
           3,
           0,
           3,
           3,
           3,
           0,
           0,
           3,
           3,
           0,
           0,
           0,
           2,
           2,
           2,
           0,
           3,
           4,
           4,
           3,
           3,
           3,
           2,
           0,
           0,
           3,
           3,
           0,
           4,
           4,
           4,
           3,
           3,
           3,
           4,
           0,
           0,
           3,
           3,
           3,
           0,
           0,
           4,
           1,
           3,
           4,
           0,
           0,
           4,
           3,
           3,
           3,
           3,
           4,
           2,
           0,
           3,
           2,
           4,
           0,
           3,
           3,
           0,
           0,
           0,
           4,
           4,
           4,
           2,
           4,
           1,
           0,
           4,
           4,
           4,
           2,
           4,
           4,
           3,
           4,
           4,
           4,
           4,
           4,
           2,
           4,
           4,
           2,
           3,
           3,
           3,
           3,
           3,
           0,
           0,
           2,
           0,
           2,
           4,
           3,
           4,
           0,
           0,
           3,
           4,
           2,
           4,
           3,
           4,
           2,
           3,
           2,
           0,
           0,
           0,
           4,
           1,
           3,
           3,
           3,
           4,
           3,
           4,
           3,
           4,
           4,
           2,
           2,
           2,
           2,
           0,
           0,
           4,
           0,
           3,
           4,
           4,
           2,
           0,
           0,
           3,
           3,
           3,
           3,
           4,
           0,
           3,
           4,
           2,
           4,
           2,
           2,
           4,
           4,
           3,
           3,
           3,
           0,
           3,
           3,
           3,
           3,
           3,
           4,
           3
          ],
          "coloraxis": "coloraxis",
          "symbol": "circle"
         },
         "mode": "markers",
         "name": "",
         "showlegend": false,
         "type": "scattergl",
         "x": [
          5.910268108221801,
          2.787093152808593,
          -0.757537538374465,
          1.0205214866168166,
          0.7539105142791431,
          1.797106265241942,
          -0.46204960544893764,
          -1.3116722595637276,
          0.5984179553898571,
          0.5982012013950398,
          -1.1656525385277159,
          -0.07118124655695955,
          -2.171711585828403,
          3.673296663029774,
          0.8327855889826042,
          0.0014059392111350117,
          -0.9273057420077753,
          0.6796203745139366,
          -1.4878005371777205,
          -0.2501697630725658,
          0.954189410396077,
          0.8894938464845352,
          -0.9349244756981564,
          2.435242216702914,
          -0.5794096848078709,
          -1.6872704870086697,
          -1.06652907590303,
          3.7433087585819376,
          -2.1543016574456972,
          -1.080850305552253,
          -0.9549632645218937,
          -3.2358726515928042,
          -1.7119755341735583,
          -0.4336563737020205,
          -0.6062336832001028,
          -0.9441629326199644,
          -0.21897352791236968,
          -1.561766720905517,
          -1.3458348880477156,
          -0.6937048482628622,
          -1.6190405446647018,
          -1.533327685835036,
          -1.6988335792571174,
          -1.8093965083506105,
          1.0018621405554724,
          -1.5505557919539068,
          -2.6162017995351055,
          -0.7218561265706738,
          -0.9358284356998542,
          -2.3217190043773925,
          -2.169859771706421,
          -0.11704076484140138,
          -0.17798254163413804,
          -1.3770978627884989,
          -1.2775706484489122,
          -1.6689082229336614,
          -1.4330066722916903,
          -0.881294027284935,
          -1.9337278510850255,
          -0.9919561769523926,
          -0.8554408012501147,
          -0.45004862859253575,
          -1.0642892702634448,
          3.462606271585079,
          0.6998427652454079,
          1.0246979229312398,
          -0.8535513919608636,
          0.6504792609298516,
          -0.4774877693274709,
          3.654736858516906,
          -0.5680284493815144,
          1.2275685578826752,
          6.308184544302049,
          3.3947572178066787,
          4.909954292792235,
          4.5214973111116725,
          3.4368402266794478,
          1.7065111212663098,
          -1.9949213104070944,
          2.8835226719022273,
          -0.0492404157636936,
          4.251881907817703,
          1.5205339090003143,
          2.757827476352554,
          3.818868841818889,
          0.5222233385124356,
          0.664066457000712,
          -1.8377265384972314,
          4.307369932725618,
          -0.9793272008623091,
          -1.7532546732907173,
          -2.25517919056147,
          -2.290441566421831,
          -0.2800789416316548,
          0.2229118534726929,
          -1.510182195528754,
          -0.6192845089796352,
          -0.07420986987072396,
          1.6728243374303777,
          -1.9433530146570517,
          1.014976612873287,
          2.7195576686454257,
          0.9057166961074983,
          -0.21837300691801095,
          -0.2625665565621548,
          0.8449080453819641,
          2.8327794759317686,
          1.4614957709996292,
          -1.5842602988284018,
          -1.8856176787118515,
          -2.393866425909587,
          -0.008422928392726086,
          -3.0786420856227754,
          -1.64381997330263,
          -2.0393729844155715,
          -0.9968674357840722,
          -1.9809887425444175,
          -1.9736099706764756,
          -0.21426030082170927,
          -2.3201588880940087,
          0.6288114935083475,
          5.262718544641119,
          -0.12166536408823848,
          -1.012105475461396,
          0.03526096300568486,
          3.4926105143427923,
          -1.2753710449014188,
          0.32826468813668236,
          -1.6951789119860836,
          3.728617793312956,
          -0.610701559201713,
          -1.9032893260849415,
          -1.887427393182676,
          -1.4787588103471287,
          -1.6879273436441138,
          -2.1606659415912106,
          4.6580882075069185,
          0.6998427652454079,
          -1.8094474553131532,
          0.6443884999442746,
          -2.8182814169138886,
          0.6443884999442746,
          -1.4716926838801567,
          1.8781753016297549,
          -1.133843484776816,
          -0.7702516670886773,
          -0.5221138504004776,
          -0.9270989547196364,
          0.5931378934821798,
          -1.384325162668835,
          5.271177784407823,
          -0.9642170705834127,
          3.7543195842804704,
          2.9926527080734324,
          4.167831601809079,
          -0.38962807933174587,
          -1.6424751435576157,
          -1.1675433931298087,
          -1.7381524969306472,
          -1.9383384408051354,
          -1.6757529454902518,
          -1.187337265148717,
          -0.35419274697547715,
          -1.9748930162104519,
          -1.4332166640427932,
          -1.8599621279939222,
          -1.6285081252103326,
          -1.2616275422044292,
          -1.2397362810749402,
          0.18868288124372756,
          -1.2018029791688305,
          0.07754390698956877,
          -0.43606997058020963,
          -1.2727953385235422,
          -1.0274090397486304,
          -1.8617821657705762,
          -0.8788683358223212,
          -2.6221998744781327,
          -1.657659634541508,
          4.075563099476098,
          4.8943223405842256,
          4.158854712674682,
          0.34415585652526876,
          3.2529655317034636,
          -2.0146663246069765,
          0.19335161691421768,
          0.5398747178532811,
          4.407656001383202,
          2.3595535652176167,
          -1.013481282683204,
          -1.477559825349806,
          1.751655098733295,
          -1.9813204401207765,
          -1.592114847773863,
          -1.8603543986322124,
          -1.643868394262875,
          4.743511527342344,
          2.164611199122907,
          1.9271058748133294,
          0.24867553257171185,
          0.2640495888153456,
          -3.10621457764464,
          1.0069292318079612,
          0.7363487998666434,
          0.013770393933030256,
          -0.9862592055897749,
          -0.010758925244006021,
          5.381249937095064,
          3.031134078256741,
          2.1219579799750288,
          5.376825054885021,
          -1.8715344938197185,
          -0.8257044500186876,
          -1.8050999520940794,
          -1.5965747063171407,
          -1.3903620518490434,
          2.381784988233929,
          0.3267105421940259,
          1.1855448365432089,
          2.230795233307352,
          0.18273407852012713,
          4.8198133861135934,
          -1.8931190472758408,
          1.0877277036361295,
          1.2390028548321226,
          2.3940366677464078,
          2.5765941967237236,
          3.758125064467639,
          3.6033879217230957,
          3.0892966317647046,
          -0.29784148837110086,
          4.1384570456582574,
          2.6839649557379315,
          0.9951124914788223,
          -1.6409269228190309,
          -0.10733653159368362,
          -1.7242942774158057,
          -2.2972037194660837,
          -2.1511737708624037,
          -1.5759181415763426,
          -1.3487051914956145,
          -2.026548482080459,
          -2.1206904747689905,
          -1.9307654535976824,
          -0.923406653060198,
          -1.2516471860681766,
          -1.9113516620063338,
          0.7812550919890994,
          -0.5237497338668538,
          1.5258122967139613,
          -1.4815229037775164,
          -0.8608015003990186,
          2.0664450888696657,
          -0.3918110027355386,
          -0.8627420859305032,
          -1.7244851503949115,
          -2.451976422151482,
          -2.451976422151482,
          4.911094086350669,
          2.128422877629838,
          -2.026227680053006,
          -1.725968840092768,
          -1.7612462995881775,
          -0.32942484453738297,
          -0.7167812722224357,
          2.3599126557972534,
          -0.4109516244751072,
          -2.0724990678317305,
          0.4941512548817766,
          0.39473675784610607,
          0.5011147455994402,
          -0.15019477310741194,
          2.264366565829928,
          -1.3540154536804458,
          -1.4700532554453176,
          -0.3914865896117506,
          2.928686830844195,
          1.5627344941817938,
          -1.8046533953228474,
          4.421919934709002,
          1.6666341252458152,
          -0.8630069468661106,
          -1.8240161816083957,
          6.2023298324535565,
          2.700729757114225,
          -1.9219988731601123,
          -3.8853351569825407,
          -0.3237352337227918,
          -1.4830437992216368,
          -0.6661581305866581,
          -0.8975313027897459,
          -0.2715001095859898,
          -2.026007496411841,
          0.03066854822532581,
          -0.6661581305866581,
          1.6679376175634015,
          -0.9628431990032483,
          0.052290470586083,
          1.4342428370670828,
          -0.07440927214208734,
          0.3161956897243037,
          -1.6854348307187543,
          -1.378373549821597,
          -0.5302811239602088,
          -1.9482834157370152,
          0.43768166538024444,
          0.4611651127096502,
          -0.6169217471719334,
          -1.1400256377059386,
          1.2533220435925634,
          -1.8065011423621304,
          -2.1058975606514694,
          0.5834156893519928,
          0.6150431813346562,
          0.8314068380244776,
          -1.1677498330947196,
          -1.8797451580250863,
          -1.5737313828666797,
          -1.7148709729100624,
          -1.2187163240425554,
          -0.9081075934919385,
          -2.407638506198657,
          -2.6312477371308933,
          1.56731681363763,
          1.260676137476439,
          -1.2731362784415339,
          -1.9933897451720644,
          6.078392568331348,
          6.2023298324535565,
          1.880647197466099,
          0.48550384897295185,
          3.724786874647468,
          4.999022851023018,
          -0.6507019188068324,
          2.831754032108113,
          5.157224121091326,
          3.8192902746508093,
          -1.8812815325483483,
          -1.017041578089581,
          -2.3431142778733154,
          -0.061394194594860924,
          1.1244973226335104,
          -1.017041578089581,
          1.5499874451851456,
          -0.23880439879088847,
          -2.0548948833262495,
          -1.4608536919332904,
          -1.2511268482027649,
          -1.432623136909021,
          -0.8322050040893011,
          -1.017041578089581,
          -1.4771002595731542,
          -2.6286065993341627,
          -0.21035255659039,
          3.722041106491933,
          -0.660193772766153,
          -0.08898081277070383,
          -1.379642428763031,
          0.8934594009314076,
          -0.6029963198787509,
          -0.7120551860400114,
          -0.7769839379468488,
          -0.6805758573158152,
          -0.24279844901403536,
          -1.9562315383510156,
          4.118042026063588,
          5.713741031844163,
          -0.7417411626392644,
          4.424095099147777,
          2.3273182406295416,
          0.017763471206448105,
          0.30149399308499786,
          0.9650215283895127,
          0.02246839262249733,
          -1.2199650459691425,
          0.341775115905311,
          -0.5378912868672482,
          0.8644678960471947,
          4.004696577326856,
          4.008320181774837,
          1.382966313126257,
          -2.0574297891427653,
          1.309477413759331,
          -1.2244223547667654,
          3.3013877478747755,
          -1.1107604184765907,
          0.5360702750732721,
          -0.24744053697254798,
          -1.9441899850782942,
          -2.133057653760355,
          -1.0891187918604022,
          -1.830246975225966,
          -0.15516416449344125,
          -0.9951653539849202,
          -1.359606053701548,
          -0.6110809564064197,
          -2.549815498266094,
          -0.6067753052647099,
          -0.7288872748469328,
          -0.6427561202341461,
          -0.838466182915419,
          7.048160534198848,
          3.086299510078868,
          1.6499160539143833,
          0.503962651695959,
          -0.7628234779254303,
          1.909886143097408,
          -0.7381554703584142,
          -1.2105050375339603,
          -1.616500641144999,
          2.9152852845241655,
          0.7875315395435436,
          -1.4713066508652934,
          3.8405366544879787,
          0.818010580992292,
          -1.5363920461225524,
          1.5017010248753806,
          -0.8269573928584228,
          -1.2365537984863506,
          -1.1213910396496645,
          0.3532535757130951,
          4.156988672470464,
          4.1811439158528305,
          5.874241617946342,
          0.7726737970500196,
          -1.2384651584229962,
          0.17391144426442484,
          -0.29101915682132606,
          -1.3643289196729806,
          -1.0013576229512062,
          2.8143610849320857,
          1.0152267748235695,
          -0.899709647231709,
          -1.8161225830951822,
          -0.4069198563664308,
          -0.622250602204156,
          0.9298554236724587,
          -0.03115887481414306,
          -1.895325385410002,
          -2.086459473772659,
          -1.0330740365002855,
          -1.6484788353344293,
          -0.07688967377256191,
          -0.9626729037514553,
          -2.0140350530214675,
          -1.3293413005641417,
          2.960200102558325,
          0.33666129733437394,
          -1.713615022176362,
          -1.4322797629514947,
          -0.992972414669234,
          0.37104684811124206,
          2.6387134059669597,
          -0.028077801649979403,
          -1.6676648655046544,
          -0.6079060289417968,
          0.022377474382160534,
          0.9645203776907145,
          1.2387761280336034,
          0.3211546567581573,
          0.39931016340159875,
          1.448049386029835,
          2.2798976418949364,
          -0.22663402010361922,
          0.2531651111744031,
          -0.21480126217786197,
          -2.462853233747325,
          1.3697801765357993,
          1.7508953452310567,
          1.3863298495833427,
          -1.2538737101450226,
          5.13305016997133,
          3.5265151258837037,
          6.3460332022222286,
          -0.616137349920732,
          -2.374828947252521,
          2.2533078147803622,
          0.8167571253489773,
          3.653765378813389,
          -1.804742191826131,
          -1.862795112503482,
          -0.924215264349161,
          0.7066524688936533,
          4.942598053975868,
          1.125233612783273,
          4.795289250255229,
          2.4635678490115023,
          -0.09446247231001606,
          4.247306482872686,
          0.24903576136687017,
          -0.11019294017436546,
          -1.806031931270691,
          -1.4690797127486273,
          -0.025425946360966355,
          0.33700374221790097,
          -1.0272113725970842,
          -1.1806601610443497,
          -0.08462383414741097,
          -1.2131974145350368,
          -1.528977431905268,
          -1.3378086857797185,
          0.9015460755941921,
          0.3470413035334131,
          -1.8391030814300082,
          -1.210592631037001,
          -1.384304632240194,
          -1.1745523891881096,
          -0.890053471079528,
          -1.7792525918076765,
          -1.7629015313750152,
          -0.2262636987792054,
          -1.3596743740108526,
          -1.4373298042223686,
          -1.0505476390009736,
          -1.232690715418207,
          1.35652834990924,
          -0.31742155846790143,
          -0.8073456954282047,
          0.6294753135461066,
          -2.017437359162994,
          -0.11454795107119013,
          -0.5797367236830118,
          -1.8188905101656418,
          -0.21705098951570231,
          4.529430260517019,
          0.3331897153750484,
          0.9708797436014686,
          -0.17127054263204236,
          -0.7941852500264397,
          0.1589213249972655,
          -1.187643224151159,
          -0.6402858806840853,
          0.875083845709645,
          3.6087315817291623,
          5.022988638057473,
          5.805832447701814,
          -2.48458558695459,
          -0.06723872685756709,
          -1.8199456802868201,
          -0.1646375105025468,
          -0.937342606581524,
          3.6959874644486974,
          -0.11499063549310361,
          -0.31191194974263753,
          3.6087315817291623,
          2.9628211173285974,
          1.9745255543280629,
          -1.8693347569376915,
          3.926583529422468,
          0.851465596997389,
          0.2516548733824609,
          1.506903795247655,
          0.8765073635953353,
          -0.8493286256975384,
          -2.767042218285059,
          -1.9426782361716532,
          -1.9404583741889674,
          -2.3277141531057532,
          -0.4893008855169201,
          -1.244808553462057,
          -1.4681887969761527,
          -0.4197705078970212,
          -1.1794041820554684,
          -0.7316519448921261,
          -1.993447792494072,
          2.6589574687484165,
          -1.842490242565534,
          -1.9752037541359402,
          0.49738213453453706,
          2.8030142480459297,
          0.8898853897758205,
          -1.6997216230484256,
          -1.1189657700263966,
          -2.2297276153308556,
          -0.7369155743144535,
          -2.886057972767241,
          -0.0477312079827465,
          -1.2455077589325845,
          1.5812933821637343,
          0.3862402573486107,
          -1.3826420603119796,
          -2.4775829776870513,
          1.1497627661579262,
          -1.085969756457868,
          0.6207099620941172,
          -0.07313623450418974,
          0.002695886147724673,
          2.170027229768549,
          0.3671862771709776,
          -0.9314426872002088,
          2.3532485455974848,
          -1.059789093472061,
          -2.2761098556941266,
          -0.7031780913867125,
          -0.2926633824128872,
          1.0280402330301837,
          -1.1648221376777206,
          0.4511604577525482,
          -0.5491172599185647,
          -0.675145914721636,
          0.2997968815429112,
          2.683412912626817,
          0.5984074638508651,
          -0.5498879058004916,
          1.5305789710549687,
          1.6719273733102402,
          2.3650341880945867,
          0.5073760258805265,
          -1.3539098259275268,
          0.5151319213344546,
          1.0608289232294805,
          0.5729789672192863,
          -0.7152407495550083,
          -0.043178192952210474,
          1.6217258746453873,
          0.36751585684045196,
          -0.7640261804664326,
          -0.5419837729171583,
          1.0156004276682964,
          -1.010490103971869,
          0.34745430653825105,
          -0.28074619404286894,
          3.1877031348523173,
          -0.5452603790317767,
          -1.632620562430046,
          -1.1815682360615918,
          0.4831617885888133,
          -0.46624827532572416,
          -0.6461748391001949,
          4.24547557177425,
          -0.17032794041760113,
          3.4798674918083177,
          3.8409758809403733,
          4.9639387819470056,
          4.408080150824804,
          4.139496296933867,
          4.031285308102279,
          3.9363214242193987,
          4.187078489713529,
          4.9178081636010225,
          4.959531607032036,
          5.491363812178903,
          1.5324624690552509,
          3.7860049701944325,
          4.224405197605615,
          3.813445724703184,
          4.269047290947433,
          5.355886276386328,
          5.634525317250321,
          5.131366024213476,
          1.5778734844665685,
          3.6283998048063024,
          3.3748679584004315,
          3.13664093647318,
          1.5464616640991646,
          1.773455500166817,
          -0.5736981384083446,
          -1.3474769379185076,
          -1.4095676969430238,
          -1.7902349574504641,
          -0.9599392716314991,
          -2.3378502090707296,
          -1.921923256338633,
          -1.455468336595948,
          -1.9072262876723374,
          -0.6716795002770626,
          -2.004656223155102,
          0.32515666255138087,
          -1.1523860720717642,
          -1.4557044571067252,
          0.18059071362684298,
          -1.9079350595148417,
          3.5236590611379075,
          -2.0491186934792065,
          3.6180834062291543,
          -1.7374845146577114,
          -1.4392948516572368,
          -1.5714083380161565,
          6.308184544302049,
          5.008294840003467,
          5.403265664257093,
          -1.4853710029965554,
          0.331143767295179,
          -0.4641995131727802,
          2.793778628069707,
          2.229327145953379,
          1.3893334009215694,
          4.269223510110595,
          2.1474447251427846,
          0.7629686163768578,
          0.5313880649539612,
          -1.1115207404332905,
          -1.820420933387242,
          -2.192137645569148,
          -1.6730626775637132,
          -0.5625611286937762,
          0.45191804574874084,
          1.9195738575431947,
          -0.8702170708257277,
          1.0741748437686012,
          -0.22718136569597724,
          -0.8526204872249917,
          0.43098339581022094,
          -1.5594414900234002,
          -1.788385764949038,
          -1.2843690828034708,
          -0.32892936146030144,
          1.0518143755809601,
          0.534081601217695,
          -1.109715194934535,
          -1.9685741228713418,
          1.3526971314440277,
          -1.1080951590932844,
          -1.1080951590932844,
          -0.7862581323449488,
          -2.1866569882184583,
          -0.7966028054395349,
          -1.8418411545862152,
          -0.780025054379758,
          -2.4784838201281785,
          0.25976035564036465,
          -1.3550297693817057,
          -1.617755799327203,
          -1.8260772103567129,
          -2.3046905029491978,
          -1.7235553968485782,
          -1.3761949647926448,
          -1.021875743285251,
          -1.7791379054828054,
          -2.6566225729098765,
          1.0291146255100547,
          -3.094666351260063,
          0.2724699225082952,
          -1.7900071853916162,
          -2.4793830877712435,
          -1.887169023550592,
          -2.643073812178539,
          -0.35738013666149293,
          -2.5671936495562444,
          1.3794835128663616,
          4.525123553936604,
          4.716885186699748,
          2.595025591971073,
          -1.1366165372990906,
          1.9842254319975159,
          -2.428139142503913,
          -1.3561754011404559,
          -1.6507557002712354,
          -0.9916773688297721,
          -1.4614838432330992,
          -2.109726124754256,
          -0.5491172599185647,
          -1.9852742550337785,
          4.3865726138994985,
          -1.1101722919442198,
          3.3776002947938046,
          -2.4344247833985984,
          3.593493867103377,
          -0.4964313208292132,
          -2.442010816809563,
          1.0393967728352187,
          0.02417263635028078,
          -2.536043601464768,
          -1.4224961761214612,
          0.02417263635028078,
          -0.2612995615269684,
          -0.9108428135470132,
          2.0940424856091577,
          -2.5645649137076543,
          -1.2386221853149901,
          -0.3084219235875968,
          -1.5155895125722458,
          -2.0312986146780387,
          3.8631048897343314,
          -0.10838299594407756,
          -0.6022552644160738,
          0.5177509655213355,
          -1.7090697231493623,
          -0.2761452223050103,
          -0.7551372548019928,
          -1.3763064760423576,
          -0.5312260392016576,
          0.23717195172482436,
          -0.3026081729421218,
          -0.5065280021147461,
          -1.2055895512885546,
          -0.8204348260187277,
          0.26606506371006206,
          -0.29884421461537636,
          -0.8728012554034773,
          -1.7175667292646426,
          -1.5155528888804222,
          0.8864093485671771,
          -1.676646874745969,
          -0.469434596614234,
          0.8710775895722588,
          -0.8644705676615123,
          -0.7144561741353848,
          -0.4406885569491475,
          -2.7902709009224296,
          2.8904146176546703,
          -1.1507276718314718,
          -0.8031773216690998,
          -1.947382401954027,
          -2.1629636170947384,
          -1.4723654985500976,
          -2.6893121402844185,
          0.9240011933509144,
          -1.7474528809598422,
          -0.14576653368649828,
          -1.898358690244529,
          -2.6693478479357378,
          -0.5221693744493345,
          -1.4548434949416968,
          -1.028309638166624,
          2.362239771180449,
          0.5436395862813678,
          -1.8689304368530806,
          1.1710036212559052,
          0.6999040042938867,
          -1.7044471429551555,
          -0.5920546990026887,
          0.44986497282074356,
          -0.32957451480891514,
          -1.6376693914418614,
          -1.4572609901665474,
          2.4660708696178224,
          -1.2095953675949758,
          0.5254555899481615,
          0.07547147484810582,
          -1.584713439364369,
          -2.9080619282235443,
          -1.1765084408048718,
          -1.9119343526634278,
          0.9356036829290546,
          -0.3608660025696722,
          0.9679635861196787,
          4.699816675368841,
          -0.4723314055617332,
          -2.00563053221428,
          1.5727472398500437,
          -0.9464089318334721,
          1.4686267276229208,
          0.5011147455994402,
          -1.3537495043623886,
          -1.843412047612339,
          -0.6537657414667496,
          0.8902655962892367,
          -2.816259125058932,
          -1.2235095886351695,
          -1.5127849605175312,
          -0.9684779368006292,
          1.1487058582651954,
          -1.0984469249325677,
          0.5022377972137845,
          -1.4812543999863008,
          -0.5435665341609952,
          -1.290964936608623,
          -2.1628333074786097,
          -0.8354743294354076,
          -0.033148562461247366,
          -2.0149265692493206,
          1.7960332420843494,
          0.7846163460118252,
          0.32114376159707986,
          -2.1901371392226094,
          2.5971373640646997,
          -1.6127967117375046,
          3.0260530289477514,
          -2.065705645766963,
          -1.5210993374175885,
          -0.9258655178346517,
          -2.0743795323201732,
          0.7511849781136253,
          -1.716483360522906,
          1.3199455730608443,
          -0.2996749088548953,
          -1.0601592783170954,
          -1.5793861632167507,
          -1.6924656514757934,
          -3.133177732795542,
          -0.0372462328629702,
          -0.08421121464130059,
          -0.7467746719958057,
          -0.16470824566879286,
          1.4022482201741095,
          0.4677989764236729,
          -1.337321684088965,
          0.08110278845448543,
          -1.377926545841369,
          5.031107844903643,
          -1.8983922147789345,
          0.5995552083481092,
          3.5252046394474577,
          2.268319149636233,
          0.9096299592015575,
          -1.0264189143478988,
          -1.0690904627080788,
          0.6556631320797378,
          -2.023769019412259,
          2.1959209999050597,
          -1.920267434098356,
          0.6521268829335788,
          5.262718544641119,
          -0.6974112188432168,
          0.7820338260369202,
          -0.2090432327886085,
          0.6998427652454079,
          -2.022433523975872,
          0.47120716399528295,
          -1.260480286683123,
          1.827145455088546,
          6.083318328609312,
          -0.8508696332442797,
          -2.0825048372647594,
          -2.224336625502375,
          1.4014298850676437,
          -2.722829529958681,
          -1.6085417664418042,
          1.6013054390496708,
          3.317048515490677,
          -0.8936287712527996,
          -1.0459539727090403,
          -0.7263218841933008,
          -2.9436481698922825,
          0.062214037564451916,
          -1.1663865563967561,
          -0.51324835628549,
          0.6525178740460739,
          2.21362342848149,
          4.157689233042859,
          3.9952644486572786,
          3.7441441343435926,
          3.334036129265218,
          -0.6706922862361606,
          3.7210836024692733,
          -0.7220199150774413,
          -1.503748888470955,
          -1.8208063443174332,
          -1.3092499530556858,
          -0.5828274996029228,
          1.8767430181001161,
          -2.3135721971896457,
          0.7099128201293099,
          -0.7812682277707913,
          3.394927981868265,
          0.9032880273730486,
          -1.536580454217272,
          -1.628345204311755,
          -1.7022684814942104,
          -2.4352854352283115,
          2.0186542826167484,
          -0.31661555156393545,
          -0.8941954290264578,
          1.1047609784727361,
          -0.19612740703368428,
          -1.3280200419065076,
          -1.8704463127127664,
          -0.7325588346573667,
          -2.4322104556325086,
          -1.0631051517428258,
          -0.9018458559798226,
          -0.569049586138496,
          -1.7303866732825899,
          -2.100771809255366,
          0.12062405251041491,
          -1.5280973319537654,
          -1.9108022973619923,
          -0.21031089609908904,
          -1.7943548127338869,
          -1.5361213058279388,
          -2.2160001367279683,
          -1.4955985695299732,
          -2.5500589751698035,
          -1.098226216720646,
          -1.2393277340386921,
          -0.8577092210584606,
          3.660395664513196,
          -2.6601514416636047,
          4.225043041397311,
          0.41508078148570954,
          1.1880597387996017,
          2.7531891075881942,
          -0.29049845972909094,
          0.5136929486351997,
          1.879218880668547,
          -1.6657745499794456,
          4.166293634806013,
          -0.5221693744493345,
          1.0434337104662195,
          -1.8730996534974447,
          0.8500285353730025,
          -0.33185038438281506,
          0.27442997513218664,
          3.48127624045413,
          2.3317755006466867,
          -0.07084590733890497,
          -1.2092837434063102,
          -1.363142729503915,
          -2.450222781385808,
          -2.0884769934788587,
          -1.8057549808143705,
          -3.3995837310824415,
          -1.6998225891375298,
          1.5209018222443895,
          0.7646308800896892,
          4.4786095128345265,
          2.4661133198039713,
          -2.235490459928445,
          -0.8246614851720221,
          3.4324506450763295,
          -0.48823623226826934,
          -2.081322355130965,
          0.1498940040555173,
          1.8973889528910979,
          -0.13683775308019522,
          0.450259234235419,
          2.095768666277786,
          0.9153914685653917,
          0.5857264273779651,
          2.23335953330614,
          -3.0450765877715447,
          -2.329150871431179,
          0.4543220270451257,
          -1.63012073508973,
          -1.414322988460635,
          0.24435456870028155,
          3.210799648564412,
          -0.9304532954544283,
          5.15003575398485,
          5.004281707388855,
          -1.314867575910186,
          -0.7597385878813329,
          -1.6628375487419675,
          -1.890230329783116,
          -1.53284673525227,
          -1.2536233695640087,
          -1.2302352255235958,
          0.10461162581345582,
          0.522204764249648,
          4.431045401922309,
          -1.1896884868417066,
          0.3826515107286234,
          -0.7773625634585387,
          -1.4952959189875175,
          1.6675267223983985,
          1.4852428780681368,
          4.356729544123441,
          -0.9108592533331854,
          0.18164272293418554,
          -1.87325824542378,
          -1.6946786996734708,
          0.43583143175887645,
          0.48799101985832455,
          2.7658581502204456,
          1.9540876681797317,
          -0.17613599599091628,
          0.4227931229385333,
          -1.6117359369821922,
          -1.041991552846554,
          -0.12021237473150545,
          -0.11140233801850591,
          -0.3443427862674369,
          0.667275090482225,
          -1.2131974145350368,
          2.5136903101093666,
          1.1845545043666208,
          -1.755389031147314,
          -0.6992418306210513,
          -1.0580195579562375,
          2.311940378611575,
          -0.1368894817829307,
          -0.8741749815567256,
          -0.9304422088236274,
          -0.9840382097343722,
          -1.3564305630785596,
          3.39662872879295,
          -1.7688160662074728,
          0.2532494653975696,
          -0.5625432966733257,
          0.13894980838009202,
          2.9951823246963145,
          2.3219296947796315,
          -1.4964895263633482,
          3.274369314931623,
          5.335536638163787,
          1.1970948667173502,
          -0.932510670649524,
          -1.0348098358027829,
          -2.025148199151576,
          1.0657747825801036,
          -0.3857410564931715,
          -0.625379990779484,
          1.547990068286159,
          -0.932510670649524,
          1.181020052840217,
          3.680927642400894,
          3.7570147332726616,
          0.01241518735794397,
          -3.0305697190318286,
          -0.9098410453161857,
          -1.5191912139342898,
          -0.9195814288618516,
          3.828456183828898,
          -1.1117133103932155,
          2.2673373620579844,
          -1.515072130973404,
          -1.3925033257613102,
          -1.2995846666732842,
          -0.12266151502753708,
          -1.8668753039071246,
          -1.5018729408205718,
          -0.5700160017381589,
          3.0398822705104633,
          -1.800540543330118,
          -3.6632315599681724,
          -1.4679455092351454,
          -1.0800614696303614,
          0.805510993684251,
          -2.820267239135906,
          -3.4529710337762127,
          -1.1110635172556056,
          -2.7918970904646656,
          -0.6542529218710774,
          -1.2316328350265475,
          -1.3092383176769795,
          -0.446994103201411,
          -2.1147938594355327,
          -0.8486770478305626,
          -0.9409778444685291,
          -1.8320832439959565,
          -1.4789288509342498,
          -0.260311747676721,
          0.7062856706652353,
          -0.9472312383775643,
          -1.8280677033103934,
          2.8968869857554775,
          4.209593201660841,
          -2.754870819905935,
          -1.5459459240384141,
          -1.8925052109960379,
          -1.7067784255245124,
          -1.6774539508660655,
          -0.45635185837174197,
          -1.3346043453735323,
          -0.3216295003543693,
          -1.5006475935961943,
          -1.4595938170239817,
          -0.8243341544860179,
          -0.6580875903276749,
          0.28642701434719303,
          -1.2796134458978499,
          -0.37049705875550193,
          -1.2343513887207487,
          3.9963005471458812,
          3.3395779158555383,
          5.384016484346956,
          0.21837706806185903,
          -2.306768848291026,
          -0.5021981388206945,
          -1.006897853418229,
          -2.1476944439402645,
          -2.396863743557696,
          2.7096069646934575,
          1.7560435745437584,
          -0.944397387299848,
          -1.1396430988151258,
          3.55786381429652,
          3.8535198201214182,
          -0.8855858941782231,
          -0.9829651653205779,
          -2.320125421270592,
          -1.256949297621499,
          -1.7231498462043986,
          5.961074281238084,
          -0.9304306817837584,
          3.792309664083239,
          2.533893924578386,
          2.400346932906478,
          -1.7878372257776936,
          -0.23352895324163692,
          -1.8863702813551433,
          -3.0007847223145756,
          -2.0888534256576943,
          1.0430639994862427,
          1.4753691607777777,
          -0.7167812722224357,
          -1.8241639760866644,
          -1.0939818264875396,
          -1.4173759806756026,
          -0.9227672156589175,
          -1.1044280464120824,
          0.06735268474735787,
          -0.7895365930463452,
          -0.07072149456798904,
          -1.8517630213186211,
          -1.860127146773631,
          -0.08828355973957709,
          -0.25544103116343153,
          1.8793807339843218,
          0.9116853878805063,
          0.10012379315177723,
          -0.6039439779725397,
          -2.929817585496707,
          0.19839714092277666,
          -0.4491867303360415,
          -0.7937960986538569,
          -0.62065103006663,
          -1.445924049009498,
          -2.3369061253580066,
          -1.4633820680402194,
          -1.220884751098555,
          -1.1296546207459432,
          -0.17787330371714688,
          -0.6960752028433901,
          -1.3678339527436498,
          -2.344688244689032,
          -1.5994355501742894,
          -0.6953135901672178,
          1.6229388520328987,
          2.782399844533676,
          2.2858744287363884,
          2.155550798796949,
          -0.2647829444104703,
          2.8276062488980185,
          0.6100656850450624,
          1.317480504278315,
          2.746800775169636,
          -2.2523754075787235,
          0.7036343124900784,
          -0.0011837602491465823,
          -1.4829619080699739,
          -1.107523205851832,
          -0.6971997960267923,
          -1.956862020873559,
          -1.1054970278095257,
          -1.326483193570151,
          -1.7849025600389348,
          -1.2811371791205046,
          -2.886057972767241,
          -1.2418348568152922,
          -0.1542720354675361,
          0.5668302283795719,
          3.1638738295315703,
          5.047031224564763,
          1.248707545291638,
          0.6273736799906457,
          0.07539853780510472,
          4.046423353988649,
          -2.094841489535946,
          1.7704705061504313,
          1.3428053485486446,
          -0.6281159028604072,
          2.700757100788003,
          -2.8964595824616732,
          -0.4890714865795576,
          -2.4153603716354732,
          3.350597068739799,
          0.11785838188577127,
          -2.0818315040779094,
          3.3833813768610863,
          -2.0288683703444144,
          -1.9296895864420236,
          1.962435287510814,
          -0.11473781767402458,
          -0.8976185323361073,
          -0.6162589382614427,
          -1.3398506344220282,
          -1.8605094581925605,
          -1.1256165151572646,
          -1.3471905127214163,
          -1.6634667301389157,
          -1.793717221224366,
          1.7116070792188436,
          0.6875307868210212,
          2.3599126557972534,
          3.4077455863709982,
          3.4201634173555147,
          3.1704080433561845,
          4.189709436743143,
          0.8861883023723561,
          -1.2041336806401517,
          -2.433266038422,
          4.396257729264009,
          -0.994345845054488,
          -1.6640786009656179,
          -0.6530120732992515,
          -0.7024160963306586,
          -1.6162721975405996,
          2.7000671233999944,
          3.133230314213808,
          2.623033645020913,
          -1.7234064226917922,
          -2.880024558039394,
          -1.8011679111545575,
          -1.6369871043498496,
          -1.8914809660644984,
          4.618935780161164,
          4.050843042184684,
          4.3526630512689914,
          5.122067061563877,
          3.9068164100335827,
          3.986678980914992,
          2.785223409389511,
          0.9999800069643597,
          0.6799719491218116,
          0.014298306941483718,
          -3.1561527611479923,
          0.022755347441269617,
          0.022755347441269617,
          0.16215521835046642,
          1.8848249364406573,
          -1.6357883699260123,
          -1.4405368092396207,
          1.9595862552593761,
          -1.9643963626404666,
          -1.5973738646502864,
          -2.089446314970426,
          -1.8026658189060818,
          -1.2917710621025646,
          1.6122957977964272,
          -1.059789093472061,
          4.601631831528845,
          4.450568176559053,
          5.210196579660409,
          5.777399769903291,
          0.2007656257277567,
          2.132612098958045,
          1.7459968094343286,
          1.7459968094343286,
          0.2007656257277567,
          0.34546684392774113,
          -1.5154226810918994,
          -1.692237859724104,
          4.310681878249164,
          0.4692689472391067,
          2.324208231380987,
          0.9381121233998029,
          1.184125244273474,
          -0.37430669765646374,
          1.0133098935058003,
          1.0103085340590086,
          0.7875315203113381,
          -0.5858043284252914,
          -2.64322731395173,
          0.7454678649645966,
          1.043743896138429,
          4.839564142521277,
          2.2896581436048002,
          -1.3025333410462443,
          -1.3212499387413412,
          4.03325800785605,
          -0.9054653279761948,
          1.4077154542863612,
          1.8197767618637959,
          -2.0266801412988706,
          0.4069739919366757,
          -0.17898853073046264,
          0.48476181187359435,
          0.2637378078660111,
          1.9490472897705733,
          -1.2617841821502727,
          0.14921514800553592,
          -0.21755040086465202,
          -0.7624724066787739,
          -0.9387029953969076,
          0.27949977926882436,
          -0.758863048377062,
          -2.152795985798637,
          -1.5357814618078707,
          0.8290154285889054,
          -0.9817137056298619,
          0.0007320463538195685,
          -1.0590701782309835,
          -0.7529011708788534,
          -2.517514521755166,
          -2.3199405171221934,
          -0.23471491664775307,
          -0.22120729624415514,
          -0.6810305719934213,
          -1.3423911334200636,
          0.9329099433229754,
          -0.33138598600913255,
          -1.3663419235685068,
          -1.019277523966165,
          -0.5491172599185647,
          0.05306629499184349,
          -1.2567107324055815,
          5.259661506974295,
          -0.29656343051103334,
          -0.20192591787070135,
          -2.024602339850489,
          -1.444368659354201,
          -0.9751839182365102,
          0.054527146408119495,
          1.4523524534217256,
          0.819273923187356,
          0.07698261684037463,
          -2.424113347680566,
          -1.0499396836036354,
          1.3593481661758227,
          -0.8437018248035694,
          -0.4054386474312054,
          0.6101227140817005,
          0.12017397103911837,
          -1.0084097097668359,
          1.2229974720456425,
          -1.1031682937994693,
          -1.408341857167977,
          2.5756303060219783,
          -0.15864834545483478,
          2.91545892358759,
          0.0149681929281098,
          1.4088806725999035,
          0.8082967149746666,
          0.44649458027625677,
          -1.2795600059785808,
          2.8272600811544883,
          -0.4277133637975997,
          -0.88374510469284,
          -0.23093094143364526,
          -0.5371447045574772,
          1.3880784370526706,
          -1.059789093472061,
          0.8795324448096478,
          1.4764147298242967,
          2.7650016272370355,
          5.637075618753223,
          3.50023576401891,
          -1.5104184002125947,
          -1.2334843591545113,
          -0.752940502921876,
          0.0851118732430916,
          0.3205109851451516,
          -0.9120762581936742,
          -0.27858070029414117,
          3.0884336247674837,
          4.1432477779997,
          2.399716316397862,
          3.1769579298469015,
          -0.6044283440694075,
          5.574219688203977,
          5.333727896640733,
          -0.17032794041760113,
          -1.4427210612478683,
          -1.33998793702149,
          -1.33998793702149,
          -1.0802458985701946,
          3.916659393187204,
          1.1333539879918564,
          3.131924063360545,
          -1.33998793702149,
          3.135171724665466,
          0.05296106361416829,
          3.8242286853002576,
          3.313960361031423,
          0.6376433975357714,
          -1.3678276494516488,
          1.4795949689527148,
          0.5075398114106473,
          4.0251637638930315,
          3.397634175449699,
          3.302529115701348,
          2.8311288224741102,
          0.42987039872092603,
          2.652603820099903,
          1.9894395187425364,
          -2.445134837706252,
          -1.9828992824413243,
          -2.9088138803783705,
          4.9107130097470995,
          -0.6498036654322973,
          -1.5303444494938,
          -2.715389745415454,
          -2.0687544157967657,
          -2.2542542997003845,
          -2.0100526796115563,
          -2.1099099573153466,
          -2.223632607515602,
          -2.313210306482979,
          -0.9502346814249354,
          -2.1364027095393263,
          -1.0065335489460212,
          -0.5635117535932607,
          -0.5452437114590939,
          -2.269809098860972,
          -1.2016336137926895,
          -1.3117714960738562,
          0.11607867116484608,
          -1.1573319711835894,
          2.84426120846864,
          4.816971047050105,
          5.388502137886455,
          4.902234021478257,
          0.17804007974110678,
          3.1296296239009416,
          -2.6715653444756358,
          -1.473288100303354,
          1.210945654717014,
          -0.6283268472049912,
          -1.82321598525866,
          -2.7616267192664967,
          -0.8038412941572957,
          3.1296296239009416,
          1.2775355899569332,
          -3.4999871537663036,
          1.3589483043899586,
          1.7385554462803208,
          -0.22573449118776928,
          -2.274067346388716,
          -2.72229202716874,
          -0.5665714728194744,
          -0.7245547433332956,
          -1.8992419894110681,
          -2.8397395979008904,
          -2.0779173370881705,
          -0.8771721526876284,
          -0.40668386778986754,
          -2.4626824440774846,
          -0.9502346814249354,
          -0.8848052512508231,
          -1.4759715630515948,
          1.0340563390737683,
          3.926653088228391,
          1.3504189491626402,
          0.4022811443833141,
          -0.7883433217568944,
          2.0279654140200654,
          2.04021795468753,
          0.8979910073856021,
          -1.370362281983277,
          2.1959478767859353,
          -0.3257151107438943,
          2.1667905160060252,
          -0.10849963879625134,
          0.5555801926793543,
          2.685527235091845,
          2.062971850274053,
          1.9327789730120888,
          0.5823874663723919,
          1.4280076694700543,
          2.227950207798836,
          2.0141117237244623,
          -1.7548260472472823,
          3.1452711577365067,
          1.8851878311394756,
          0.5461741363291336,
          2.3563966282033215,
          0.859033394040568,
          1.575003622578241,
          -1.4254079176047516,
          0.13229505704735034,
          1.6585341861753573,
          2.6330801007313873,
          1.2919858967101818,
          1.5307731412375465,
          1.8030112846657096,
          0.06706942676045957,
          1.8045403505981714,
          1.3745874347744318,
          -0.0839561430276933,
          4.049749172711463,
          -2.127550029030418,
          0.5273523375187058,
          -3.0914737893276953,
          -0.9291176379098607,
          -0.40155489571023456,
          1.198781194173007,
          -1.4489486989802913,
          0.42164195837834567,
          -1.0348098358027829,
          -0.6337420572126486,
          -2.1834965098510497,
          -2.175867295210504,
          -2.8243568560471237,
          -1.565785143906471,
          2.4888524869873856,
          1.7069952938522643,
          -1.7699525413624668,
          2.094428753589455,
          -2.5389405610748907,
          1.7757562576013015,
          -1.367381381578482,
          -2.3217190043773925,
          -0.07145510003716118,
          -0.12953515656082046,
          0.01705652057736784,
          -1.6918615662065628,
          0.24788898634041973,
          -3.371949005692061,
          1.810943972534716,
          -2.956316710280409,
          -0.9326576513945374,
          1.545356372190426,
          2.0175676302543053,
          -0.9777384825203542,
          -1.8088045851480528,
          -0.19764938933701526,
          -1.7360045350795767,
          3.6842201989297236,
          -0.6847094485509617,
          -0.260311747676721,
          1.542298888804765,
          0.5930026646121642,
          -1.7912959670136788,
          3.118021498922636,
          3.3580144918752364,
          3.509930965088286,
          -0.19461924016161955,
          2.4805279637902276,
          4.517776810914009,
          6.0918671373371795,
          -1.386425812758799,
          -1.6590894291934812,
          -0.8451615089399583,
          -1.0417192548785024,
          -2.212632844114008,
          3.9047624185662855,
          2.3576582971520197,
          0.03992601661587348,
          -1.100495324757873,
          -1.3293394373721152,
          2.4179234417138886,
          -1.8494158071698905,
          0.6194589894389159,
          0.7007141496868079,
          -0.22131099576619348,
          4.069805840259913,
          -1.69151985894296,
          -1.6480326701342518,
          -1.6266757262409504,
          5.070598490109721,
          -1.2012069430765242,
          -0.20161483159628824,
          2.2123779499001275,
          -2.4649248397008896,
          -1.9249814682117188,
          -2.408016409672176,
          -0.3981606546944903,
          -1.1481127843950487,
          -1.2373304643909684,
          -1.462818136550946,
          -2.6429915346372574,
          1.9533017033003985,
          -2.1195725580612317,
          -1.014042185781766,
          -1.8430894155768587,
          -0.17434341580478294,
          -1.8079063743752284,
          -1.0770098667738888,
          -1.4905481769240279,
          -1.2980784897176685,
          2.365034188094586,
          2.8056902680785334,
          0.4847235106188629,
          0.8549288236322988,
          -1.5013922149508794,
          -1.3673565615888017,
          -1.5786623309290866,
          1.9460913874910195,
          0.03174403073604945,
          3.5189870964878107,
          -0.12194207361813153,
          -0.8643826427197125,
          -0.3431640158084622,
          0.14879956982851722,
          -0.7021345155769476,
          2.5268907301930486,
          -1.590742895701246,
          -0.0408192218456319,
          0.7899298288307429,
          -0.9108592533331854,
          0.5345492960066756,
          1.7118640514247765,
          0.32913723878694895,
          1.1931202253106947,
          1.0958689907088612,
          1.2545681987114239,
          -1.6454912421714365,
          0.06998303323160478,
          -0.6562708849308362,
          -0.8025844842561632,
          1.028867063262271,
          1.55031481495979,
          0.7522544149888793,
          -1.359475279504688,
          3.0180003913879485,
          1.0712957412947135,
          3.2217287372984593,
          -0.09309152149855168,
          -1.298577997346759,
          3.2186280625537074,
          2.132612098958045,
          -2.3446730016825588,
          0.40529331240226624,
          -0.5726023021440048,
          -0.8831651240421454,
          0.28649928790183915,
          -1.1602891468274366,
          0.7158496154657074,
          3.5107534356200025,
          -0.206465972146657,
          0.1389363915921858,
          -1.8058188159171582,
          -1.7690512660095574,
          0.811657648087533,
          0.3375246919062731,
          -0.010394775910613491,
          -0.8944573785036696,
          0.21387473617623165,
          0.2310045243481407,
          2.0308782271879844,
          -2.299520470423306,
          2.4641111195466703,
          2.1192178617213595,
          0.03900046465196507,
          -0.653875924082231,
          -2.508627218880721,
          0.8123565472634451,
          -1.5787530557618967,
          0.21465726009403857,
          -1.837016508756991,
          0.9229565319598532,
          5.656350818133168,
          1.2758796109944486,
          -0.5087977010750435,
          4.278428722085265,
          0.6992100078765249,
          -2.3841364242986853,
          -1.7777308426945035,
          -1.780389886012658,
          -0.4167539682681075,
          -1.189441828975478,
          -1.3168814365839545,
          -1.3415980593024466,
          -1.905707607756692,
          -0.93999672933295,
          -1.6808685152004796,
          -1.1904065555534997,
          -1.4119055620195093,
          -1.9190223555873622,
          -1.6818203902001205,
          -1.4359027004171443,
          -2.0112309024792463,
          0.09121406890156479,
          0.5055869622129672,
          -2.3991249477716172,
          -1.4878005371777205,
          0.09012877718788287,
          0.3101465274982135,
          -1.4468211063157417,
          -1.8879364766330256,
          -0.4308099759040468,
          1.9127398992549036,
          -0.934073942009669,
          -0.09245424702743024,
          -1.017041578089581,
          -1.433710639070367,
          -1.151308558760058,
          -0.35053272601344226,
          4.891728612485047,
          -2.262035465700969,
          -1.1646239535239475,
          -1.4194876518446788,
          -2.1789826747725156,
          -1.704846765341106,
          0.08723516303489794,
          -1.5513713971895935,
          -1.1305919329747032,
          -2.008601460302475,
          -1.9719849087291328,
          -0.7603552441700434,
          -1.7081845936205506,
          -1.452644788376458,
          1.0936536290838426,
          4.707297316935376,
          4.066416551661852,
          0.8449080453819641,
          2.0175676302543053,
          -0.52210295025559,
          -1.0819030183511795,
          0.9363603495410887,
          -1.690193063372072,
          -0.06734437755377395,
          3.128409610084769,
          -0.013372924890362493,
          0.9315488370480699,
          -1.1078988413689934,
          0.9836845171357769,
          -0.621638416730797,
          4.176384153224837,
          -0.8174650647916107,
          -0.9844049327521109,
          -1.9340208521383075,
          -0.9150586306583645,
          -1.9024375077661262,
          -1.5991191899978705,
          -0.3979122673442816,
          3.1890107734387287,
          -1.360450566576902,
          -0.7141034047337289,
          -1.591493898603846,
          -0.2698179011474344,
          -0.3205716019590926,
          -0.9748467556979403,
          -0.6346112423952778,
          -1.4852467869909078,
          -0.648836141309313,
          -0.6875208972982046,
          -0.5235210522524476,
          -1.2997644179330257,
          -0.39374742517973926,
          3.4924077989945768,
          2.5763577232711787,
          -1.2550502056471344,
          3.852758067026387,
          -1.3963654042352844,
          -1.5970419948490964,
          -1.688632875815764,
          -1.3774550293604109,
          -1.3690729524620988,
          -2.082618199581341,
          -1.1954018276570275,
          3.402751152566497,
          -1.9587229941745243,
          -2.6463148412916953,
          2.3353127950974417,
          -2.345824751081746,
          1.395742623948654,
          0.309176578428981,
          0.309176578428981,
          0.04825874689567926,
          -1.0823520722647517,
          3.049088181041765,
          -2.097576909584195,
          0.2531651111744031,
          -0.1542720354675361,
          -0.41240181977992474,
          2.89488566764277,
          0.9925700176837307,
          -0.10380387445274451,
          1.893819524326884,
          0.9398182903443841,
          -2.219007000192062,
          -0.40289995088326536,
          0.4855598419464202,
          -1.6946786996734708,
          4.453263833371462,
          -1.7698042251004995,
          -1.2917710621025646,
          -1.8456441547473608,
          0.09262464006245351,
          -1.8537718049763494,
          -0.3241240622174616,
          5.699030304877433,
          2.381784988233929,
          -1.5609102360473253,
          -0.27991740748156363,
          -0.5542550572699025,
          -0.6637454999146557,
          -0.3292698306096523,
          0.6663435469489165,
          -0.814572054315036,
          0.693926519749139,
          1.416207588595246,
          0.5778186477553668,
          -1.2584741789017169,
          -0.18772365879072272,
          -0.8836013757068097,
          -1.6875506785986967,
          1.5211340327985534,
          0.21959081948294928,
          0.2885020536256103,
          -1.492621767180282,
          -0.21175692447558056,
          -0.17581020496163308,
          -0.8875625801717639,
          -1.2556219866206986,
          -1.2269361604283753,
          4.618935780161164,
          1.3552239026426238,
          1.9336164093535597,
          0.34368407284732577,
          -0.5690376399407603,
          -1.8919920103002272,
          -0.5841890549176636,
          0.33276996189999636,
          -1.917555081893608,
          -1.2392356281844936,
          -0.09546520325791762,
          0.5577786585832494,
          3.0028015739045237,
          -0.5753522125886529,
          4.161022525837939,
          -1.9988770057703387,
          3.746890986528974,
          2.2244782603334103,
          -2.0601769600585023,
          -0.7651747940113188,
          -0.8818233752987562,
          2.200828587032448,
          -0.5335105742105527,
          -0.5913765417068713,
          -0.8686121365386255,
          3.126929191169632,
          1.5727472398500437,
          1.8241788630931592,
          0.9487631695800606,
          -0.7979632686424233,
          -1.5274385093734055,
          -0.040310068174893986,
          -1.4688940844932519,
          -1.5189484652220917,
          -0.33363903038412496,
          -0.28741846532537446,
          1.917391486091966,
          4.217793257754896,
          0.8123565472634451,
          -2.0268228760359754,
          -0.9888603025879978,
          1.3505978175446585,
          1.3505978175446585,
          -0.22448253695649345,
          -1.5599823753878859,
          -0.9445110188851537,
          -0.9687374941369976,
          -1.947382401954027,
          3.2626195808960103,
          3.3357502012362787,
          -0.0840010454867703,
          -1.8353016618474378,
          -1.0147768860330935,
          0.6805879787852325,
          -0.9288952404986114,
          -0.9673631567290888,
          4.16836333914714,
          -0.8950461905575412,
          -1.6554978350332155,
          -0.673670545707554,
          -1.5694794034452282,
          -1.661983630782517,
          -0.1588995810750416,
          0.6637508483382969,
          -0.830756170623465,
          -2.2833156359466407,
          0.8752453390642232,
          -2.4277401058841876,
          -1.4224065981480563,
          -1.1037662140332816,
          1.5650671095135877,
          -1.0895612371376298,
          -1.1687147925779535,
          -0.9946974720841749,
          0.7352426388393164,
          0.056850559292935525,
          -2.364909879579425,
          4.90475113087814,
          -2.803040390957149,
          -2.2525620808187843,
          -1.8959245730757293,
          -2.0917516052011513,
          -2.50831713116325,
          -1.0932669094952772,
          0.23002712834864736,
          -1.7664024000158332,
          0.6845546448708273,
          -0.9024606571237703,
          -0.47940453613652856,
          -0.7455458630228243,
          -0.9013326790547906,
          -0.7150579071819958,
          5.521484025398489,
          4.3307807583817235,
          1.0507517772310695,
          -1.673480916832722,
          4.236594177348256,
          -0.2745021491914588,
          4.055818049656478,
          2.1357669132817216,
          -0.833002108167391,
          -1.827929892684261,
          -1.7462095781463187,
          -1.429274801673931,
          -1.80433564804336,
          -0.03892607223898083,
          -1.3609492642096963,
          0.4479854069546506,
          -1.688196619742155,
          -2.260555498082259,
          -1.6032958665289632,
          -0.5719868279724861,
          0.22680621843925625,
          3.000746418246713,
          5.2620586181406335,
          2.8858699481600536,
          -0.6661581305866581,
          4.647416850813506,
          -2.325980508300889,
          -0.8749418351069357,
          3.4358447536432446,
          -0.18592056996048223,
          -1.3252577961419505,
          -1.645482650470817,
          -2.2743637727692696,
          -1.137548985445839,
          -0.3059464908211042,
          -0.26321036146483817,
          0.368234390878477,
          -0.7749919598416076,
          -0.17119199961990791,
          -0.06981557094042498,
          -1.2072588326020268,
          -0.6241021127308284,
          5.4198747410235235,
          -1.5972222455784268,
          -0.36389517538093763,
          -0.34450217250929677,
          -1.6165697131635028,
          -1.1021594097961762,
          -1.2273516660222632,
          -2.045214098687466,
          2.0186542826167484,
          0.42982899271672614,
          0.6052682794470802,
          -0.4423537865870967,
          0.022947141944436557,
          0.0015944771473535625,
          -1.823884607656972,
          2.2317541681982713,
          0.764274814163572,
          -0.8433282919666295,
          -1.3230875790813406,
          -1.3298929349932973,
          -1.2267220894847892,
          -2.1499949310856796,
          -1.216392087713245,
          3.4634847114667875,
          0.4539412166357162,
          -3.061338303198416,
          0.22729614518138563,
          -1.134476832563175,
          -3.061338303198416,
          -0.7072963438992379,
          0.3418433804143054,
          -1.567118259123491,
          -0.8696666900612379,
          -1.5795590761486487,
          -0.8772502462786013,
          3.5825006834571194,
          -2.2268342780614723,
          -0.20126115331103767,
          -1.667521519112385,
          -1.1676869386410895,
          -0.09594405636152688,
          -2.3820664249846053,
          -0.12872264422547475,
          -1.582249851962995,
          -1.6387434617760293,
          -2.025148199151576,
          -0.6993509873931997,
          -1.876467093307655,
          0.3544325608968112,
          0.5717167306430503,
          3.101964714448183,
          -0.5188294035461436,
          -1.012674121933812,
          -0.7097641046725914,
          -0.7276269751785636,
          3.3634624924175185,
          2.975222681710799,
          -0.8219366599034388,
          2.2089628716223126,
          2.7850640053433686,
          0.29814635203571477,
          1.8664884741638652,
          4.140411488353791,
          4.133048817017736,
          0.5282838272987539,
          2.605572101764564,
          -0.2647829444104703,
          -0.17832420764440784,
          -1.9380303715726261,
          2.9039050390292247,
          3.6496770215064678,
          -0.012929923744354595,
          0.9703843368446694,
          4.8400303648764655,
          -2.382120428766228,
          -1.5441689772345786,
          -1.38886978098041,
          -1.9542613765865005,
          -1.5849819030822292,
          2.446695535789584,
          -1.3666480483746377,
          -0.26762453170464945,
          0.4023034180521389,
          2.3745705662041594,
          5.050054496026235,
          -0.9053180429942439,
          -1.269841984644333,
          0.5398747178532811,
          -0.9479576954954883,
          -3.0324499813922894,
          -1.1121517547583089,
          1.0543642222548277,
          -2.174826059050464,
          0.8783391882405461,
          0.8449080453819641,
          -0.28380427510568934,
          -1.80836474502545,
          -3.2024704591966757,
          3.3215521054488226,
          0.8539122759964456,
          -1.05270798354319,
          -1.6233526075106728,
          -1.4951842716237842,
          1.7519453777759324,
          -0.8298967446281693,
          -2.1873335437017505,
          -0.24944080664634824,
          1.1074723601112297,
          -2.085935541408212,
          -2.4125115180318653,
          -1.2499990583699137,
          1.2918669581773634,
          -1.480860486175659,
          -2.014442970023502,
          -0.5413481296670036,
          -1.6534058002388428,
          -1.4317917003045737,
          -0.9871359024336303,
          1.1655411567729195,
          3.0002356858668833,
          0.1500087255874909,
          -0.521917766434192,
          3.0474287586662054,
          0.8524577565344763,
          -1.8419708771379115,
          -1.4212505387436196,
          -1.5990912760966658,
          -0.09245231702928339,
          0.7589239174389397,
          -0.38861753676292693,
          -0.4886912992334435,
          0.1860174465239184,
          -0.576742320239114,
          -1.0445259856521212,
          -1.410342501775072,
          -0.9467174638564457,
          -1.5570907577492834,
          -2.031656522376277,
          -1.5050207141774008,
          2.0330414338414133,
          2.997241190313894,
          -1.1131903712057183,
          3.4143457476927663,
          5.320867729182731,
          4.085991435509486,
          2.127442535834886,
          4.947269754284724,
          0.47261979243050783,
          -2.201686825571933,
          0.4316718530586421,
          -1.1131903712057183,
          -1.6057702396471836,
          0.8312197050104083,
          -1.7642479233188504,
          -1.1590732070276353,
          4.0814470994377645,
          -1.1266837590924175,
          -1.2919547680535062,
          -1.7723311723076094,
          0.02190056390348049,
          -1.8333368443589533,
          -1.760275888862843,
          -1.8693460615922186,
          -2.046542277096346,
          -1.0561390468606324,
          1.1770516789703718,
          -1.8762990960288108,
          -2.4252240322564083,
          -0.12210277573933533,
          -1.626006632578299,
          -1.8445494912080083,
          -0.3033082971030342,
          -1.2048764587975178,
          -1.8182765975060056,
          -1.4422094887527555,
          -1.0947009976647621,
          -1.923646521071091,
          0.06349215750229718,
          -0.7967643032374766,
          -1.3089600393569718,
          0.53546490617424,
          -1.1538421770428813,
          -1.132658691282925,
          3.1056989824074237,
          -0.5655314564562386,
          1.6711847582607386,
          -1.6903592808965597,
          -0.17282411226062408,
          -0.1534234424262188,
          -1.1213935734132485,
          -0.3560114892032395,
          4.264393263445872,
          -0.970208733123113,
          -1.47952070114031,
          -0.019163938022137467,
          -1.6262673095858833,
          -1.0729349066364682,
          0.6594213427915591,
          4.066995385985661,
          -1.7593947139165322,
          -0.6148631774543118,
          -0.5328443733186653,
          2.1951310166489773,
          4.2110733842281505,
          -2.095193683193587,
          -1.712677312219175,
          -1.3176226052793831,
          -1.2398389440352924,
          -0.6365159443123245,
          -1.86807183658703,
          -0.20774898984439624,
          4.663158190213201,
          -0.7172902492876053,
          1.4126375362115118,
          -0.053481596291651355,
          0.12258449104649308,
          -0.6930082747630691,
          -1.6842462616801228,
          -0.9997143462304272,
          -0.9925277416519365,
          -0.40554552468515165,
          -0.7943307030855637,
          -1.4179766882023699,
          -1.5077618691738788,
          -0.11864752625194085,
          0.06513251514329962,
          0.44790618060021936,
          -0.5905352698295553,
          -0.6656940772015779,
          -0.12568353651020556,
          -0.2968239783275783,
          -0.3020850369503302,
          -0.44315387676607776,
          -0.8497568273164449,
          1.506903795247655,
          0.48036613331287903,
          -0.6970804646138763,
          -0.10347402499997113,
          0.42611844118291203,
          1.7181988956709005,
          -0.1488087242056272,
          -0.8608961760184051,
          -0.21186655948989572,
          -1.207440562477616,
          -0.2444728652772303,
          -0.11108361445809366,
          0.433182891307163,
          -0.4666659930456587,
          -1.8413507629642516,
          -1.0214066744382935,
          -0.49758848808652,
          -0.6844849178178245,
          -1.6697028500088256,
          1.9435278334052588,
          -2.590401210503968,
          -0.9832888022778719,
          -1.5102450456487513,
          -1.5772672834448844,
          -1.374754747944521,
          -1.2001953198664035,
          -2.5500589751698035,
          -1.5609102360473253,
          -1.8902776392732579,
          1.6587543910014173,
          2.7931435870373376,
          3.39366973035882,
          -0.3078197169386828,
          -0.5170085720229927,
          -1.9380674914976468,
          -0.8915763547993784,
          -0.9886668262046714,
          -0.5696178874425261,
          0.8795324448096478,
          -1.1447334158703666,
          -2.006545406729144,
          2.8205742097621758,
          4.028986191210217,
          1.737225379649978,
          1.5655853810053775,
          0.07802122878737007,
          -1.8274876886852292,
          -1.9502075389529874,
          -1.7354065296445789,
          -1.8699631356031992,
          -0.564435465011193,
          -2.0061121385605536,
          -1.763414078413881,
          -1.8723008941323533,
          -1.8639932204222454,
          -2.1058975606514694,
          2.957539714316923,
          -1.9232812200626488,
          -1.7291945028487077,
          -0.33946039336051054,
          -1.4817947434057164,
          -1.3648272900680087,
          1.6184380633196096,
          0.6731669759445239,
          -1.39815257971144,
          1.489770759858216,
          1.0157432689846024,
          -1.0568509529743564,
          -1.7518249634932712,
          -1.242195840460267,
          -1.9336938727708397,
          -1.7598217040333752,
          -1.4555523482943333,
          -2.1082944798688477,
          -2.0606660439063953,
          -1.4904194189397026,
          -2.073494506413843,
          -3.9937547184628515,
          -1.7804503009224828,
          0.41880137678603735,
          4.074252866889355,
          -1.654099602100137,
          -0.870693558630574,
          -1.2311045301288572,
          -0.07788453537429894,
          -2.4434013956713967,
          -0.07625660353628191,
          -2.131859024911716,
          -0.1646167137241754,
          -1.7771222855258435,
          -2.292902335457041,
          -1.2277075421191321,
          -2.427003125158,
          -1.019878194683749,
          -0.6385744256983861,
          -0.6162589382614427,
          -1.5903114999670276,
          -1.1226867924008352,
          -0.7780117610925482,
          -1.2418348568152922,
          -0.418772248702199,
          -0.588761045357807,
          -1.4255157505699632,
          -1.923646521071091,
          -0.8321122702871253,
          -0.7103155395647772,
          -0.45457897450550955,
          -0.5006469673618129,
          -1.3433860165170095,
          -0.5586881735072365,
          0.7183670596719585,
          -0.87571464308482,
          -1.0684891129569072,
          -0.3791907206345882,
          -0.5255270518176558,
          -0.4899308370179317,
          -0.15972671026188476,
          4.81377702150408,
          -0.869000942686587,
          3.3215521054488226,
          -2.579204212530709,
          1.560398159732675,
          0.8888968989143609,
          -0.47690770582583447,
          -1.317398016401202,
          -0.4962570470088787,
          0.33757641276583555,
          2.1487550179202075,
          0.5205896223390913,
          0.002390378671264261,
          1.44385437022298,
          -1.772292075671439,
          -0.21138765775075394,
          0.909715803231978,
          4.844601565033678,
          5.666384156661318,
          -1.9417108967056664,
          -2.106550982409218,
          1.1407962580835327,
          0.2310346378694856,
          0.4256175781974658,
          -1.5657114923930824,
          -1.5657114923930824,
          4.244480994355996,
          5.176708744973619,
          -0.8596027093370096,
          -1.0270738870476326,
          0.3751242769202261,
          0.05181137151232471,
          4.582553845204492,
          0.5168944033678436,
          0.0605742697299046,
          -1.7784927255694207,
          5.408174041012425,
          2.532775701991876,
          -1.5302866131478021,
          -1.061033922284212,
          -1.0947736380529198,
          -0.922774133932337,
          -0.9605533109182786,
          -2.132240077056639,
          -1.6689001793002791,
          -1.4351673016485866,
          -0.716977224616247,
          -0.9568264963416663,
          -0.9416875707314997,
          -0.4133385047052846,
          0.1688307025811012,
          1.4322493420169806,
          -0.7813213297476459,
          -1.127128114759532,
          0.6524595908390048,
          -0.6927403014042199,
          -0.6732878229230724,
          -1.141479992617013,
          -1.4892770702646911,
          -0.3553585485210678,
          1.8294487165805173,
          3.656077271822231,
          0.7261799401622575,
          -1.8969714198549843,
          -0.4193939514430098,
          -1.273066331883837,
          0.1039749929652096,
          2.096483641589662,
          -0.8776788935290603,
          2.5299097893625846,
          1.0082003519061764,
          -1.8902776392732579,
          -0.4220782534476122,
          2.1090057143499514,
          -2.3715612187519337,
          -1.0444388347634856,
          -1.2311316155798786,
          -1.1776970800546394,
          -1.034532731206431,
          -2.7234666403161043,
          -1.7104420113557315,
          -1.9914059300228184,
          -0.6226927475906403,
          -1.0468527623234294,
          -1.2900248382332737,
          0.12309112973266115,
          4.6524036896912655,
          -0.40462364134067336,
          0.4430017973536219,
          0.7869224265474071,
          -0.5605651851159851,
          -0.12843809243295404,
          -0.5314028806277059,
          -1.023829088862142,
          3.1748797341320367,
          3.8595387667647434,
          2.6026231331657748,
          0.1583326346192823,
          -0.7710403655798266,
          -0.4995419530279301,
          -1.293807460560102,
          -0.3580542688912648,
          -0.8371847600040487,
          0.23327622655162272,
          -0.08852138585591861,
          -0.6084691009396408,
          3.8798628593031768,
          -1.6480835900823727,
          -0.07920628817761215,
          0.18122554674263466,
          -0.7235894288501389,
          0.3806768139362986,
          7.226544609014922,
          3.401539713522079,
          -1.4159279091453283,
          -1.912796030564507,
          -2.017437359162994,
          -0.8956325749527952,
          -2.26034960431119,
          -1.9407337361195276,
          -1.453939530842022,
          -1.9899331345222517,
          0.5563608894958337,
          1.3655741274589237,
          -0.6778354788931388,
          1.487258627957038,
          -1.4237008451336226,
          -1.2748104198497447,
          -2.5524611671940165,
          -1.7375662708101358,
          0.8903585804759292,
          -1.3514066895790269,
          3.673495161639022,
          0.2389397954855054,
          -1.8009380597154063,
          -0.6930082747630691,
          -1.130234615338386,
          1.0424609969554546,
          -0.3854930285215793,
          0.4808026898470219,
          0.3696015150662237,
          -0.24312431299061213,
          -0.3142989666133029,
          -2.122990542540929,
          -1.772924699564339,
          -1.6173696754713023,
          0.2381084538749688,
          -0.4833916699937417,
          -1.7273711551849709,
          -0.10198804553304712,
          0.505514480308404,
          -0.7131430817527238,
          -0.8951228201123645,
          -1.059789093472061,
          0.36743215471166696,
          -0.3275524799958204,
          -0.1539229033512907,
          -1.007975195906829,
          1.3312267508392615,
          0.14879178398842197,
          2.59375764939242,
          5.280198100270839,
          2.6125401236233983,
          -1.2429187294667836,
          2.8834607480253345,
          -0.845495893298663,
          2.1255631796368926,
          -1.2848447129982985,
          -2.3335290439494862,
          -2.3874608455512814,
          0.4708102218623854,
          -1.8703654091300117,
          -2.6048645631439284,
          -1.5249585479981826,
          -1.9311352130461592,
          0.1592591431131279,
          -0.33685427467472917,
          -1.7238132206500627,
          -0.14523173932935926,
          -1.1513324744387923,
          0.5329054203221865,
          -1.9612249102027293,
          -1.239929216376103,
          -0.9213520425348979,
          -0.2934493481289036,
          -0.7878251517409001,
          -1.9817641589624013,
          -1.724485150394911,
          3.9255172860697396,
          1.5942931299634606,
          3.1863353179970497,
          0.9775969311537848,
          3.5867432508255264,
          2.6477450497993646,
          5.270217759644975,
          -1.7082485977385529,
          -2.1998039804602234,
          -0.0657808177900534,
          -0.8368706284559648,
          -0.7854677175050852,
          -0.20916402742117868,
          -1.708575458599483,
          -0.20916402742117868,
          -1.3997320777127074,
          -1.090959055413607,
          4.169466471505724,
          -1.3684630603624215,
          -1.9324283671873046,
          0.11061706995923415,
          -1.831807154119451,
          -0.9598571387641525,
          -0.20192591787070135,
          -2.322482104084649,
          1.295624263858963,
          2.4399389680424712,
          -0.003429977050850454,
          1.9689878707923276,
          -1.811039455868161,
          -1.2760228016973998,
          1.7512646091908477,
          0.047354842508030175,
          -1.4262864308855538,
          0.8119245867926479,
          -0.33516147313772593,
          -0.2885419144058606,
          -1.9135217129716573,
          -0.445065746895657,
          -0.3898013592395599,
          -1.0965604946490628,
          2.8632445586955484,
          -1.0064366536641485,
          -1.6679956265557823,
          5.037072097193789,
          2.307251668789422,
          0.9817234747421222,
          3.023290887104784,
          4.11701073447299,
          4.113361444554918,
          -1.7640887933065454,
          0.15200397301154617,
          1.0100574747776059,
          -0.09826825918659758,
          0.7454678649645966,
          -0.07912913968776546,
          -0.5869929672815052,
          0.06137656758641653,
          -1.2493185544417882,
          -1.1625329569665983,
          -0.5446464357178709,
          -0.5257359411169926,
          -0.6973969041449736,
          -0.9719600477668995,
          -1.7113924337417714,
          0.6626099536052513,
          0.37990667046115434,
          4.353172762386836,
          -1.750511188321823,
          -2.60828191479524,
          -0.7744430956484727,
          -0.29049845972909094,
          0.19347918400083824,
          -1.5005648417719328,
          -1.3802231760043537,
          -2.5201491133096106,
          -0.6742590697690066,
          -1.2280633296074601,
          0.42297421259544377,
          0.19347918400083824,
          -1.6139893679672448,
          0.24592070134157043,
          -0.932024120344958,
          -2.0291882153646816,
          3.086164823529947,
          3.289630235628951,
          -0.8430280926050702,
          -1.019108026012152,
          -1.258131171944333,
          -1.4293847145323817,
          -1.2280633296074601,
          -0.8918518314853037,
          -1.1625329569665983,
          0.3320094024663937,
          -1.4006157751179205,
          0.4749551626010549,
          -0.3285383111216567,
          1.2317234135229211,
          1.8982351464781344,
          -0.8272044736771351,
          -1.1182953375910358,
          -1.2140979999974277,
          1.410280915572894,
          1.1162558244140943,
          -0.9625261685035067,
          -0.22774342883917328,
          4.8204836714470085,
          2.806672678167793,
          -0.8910597762575796,
          -1.4197100225439563,
          -0.6373053624231056,
          2.6678110759629488,
          1.3709647550842827,
          -0.8509927620370432,
          -1.1349369532310436,
          0.3083139857621752,
          -1.4183221756409599,
          -1.1093252736015085,
          -0.7858824490959349,
          2.1433565649047144,
          1.6998034813955676,
          -0.576742320239114,
          1.1753290502837002,
          0.7683249437917394,
          3.0672479686245686,
          2.1713827731880735,
          0.09109228763953113,
          0.17424196049511956,
          0.31907993640081017,
          0.5277083757468622,
          -1.5891418340117456,
          -1.8079063743752284,
          -3.000949411712803,
          -1.5683430554100035,
          1.2531320966526072,
          0.4800788069577345,
          1.147017634651219,
          -1.3095170917389252,
          1.592938815983417,
          1.0710420132491296,
          -0.6277790692076224,
          -0.7049891902633268,
          -0.3660994904340937,
          -0.48717640946067126,
          -0.7621598571323525,
          -0.09005428008473203,
          -0.1486852055596903,
          -0.25077834940821125,
          -0.7043224955062211,
          -2.10901826958326,
          -1.8793340708111224,
          -1.4483273104314527,
          -1.6855200932596466,
          -1.8814813682552245,
          -1.4090316369170137,
          -1.876181521099323,
          -0.4113534767140591,
          -0.8662032598582584,
          -1.5843624105760061,
          -2.442834751812608,
          -1.0024189493957547,
          -0.7470110613107908,
          -1.20999077542512,
          0.8179688501593775,
          -0.3212642807458103,
          -1.1398522347318445,
          -0.8437018248035694,
          2.04225288520613,
          4.763938610263665,
          -0.828416858409843,
          -0.635257044727503,
          -0.8515059856345201,
          2.2461767341646817,
          -0.398239292656829,
          0.640498780556576,
          1.2643075804942299,
          5.1993546278107985,
          1.858382900436077,
          0.7197917125418749,
          -1.8100918480866652,
          -0.05143589477032314,
          0.3738921019551176,
          0.7611727109350761,
          0.8241113127768875,
          0.555084456587074,
          0.7400410988074476,
          0.4304758860098781,
          -1.191337601353448,
          -2.019629083892072,
          -1.0362298519507236,
          -0.626685897596572,
          -1.761743557811229,
          -1.9484506333422862,
          -1.0008080358122453,
          -1.9465609399407136,
          -2.4761756352926865,
          -2.6575800924276187,
          -0.7988177186083173,
          -2.1323643057110804,
          -2.56416865567044,
          -2.1305638358695567,
          -1.0271095058981743,
          -2.2711827620735567,
          -2.9955679707193257,
          -2.0137771473781405,
          -1.5437600629004629,
          -0.5641657478210657,
          -1.9539615900671443,
          0.1353117746209395,
          1.524083050884102,
          -0.3897913275357008,
          -2.1472490541110063,
          -1.7165767230653322,
          -1.7102416567782472,
          -0.29456810914750275,
          0.6183200167275011,
          1.1050523168212683,
          0.013477089149457087,
          1.3552239026426238,
          -1.498784208534467,
          -0.8367365709615117,
          -1.089286924134,
          -1.1815682360615918,
          -0.8359986265401649,
          1.8064229455207186,
          4.573522285535853,
          -2.389547203958502,
          -0.8875625801717639,
          1.562393247252769,
          1.6129921406346905,
          2.3782870107067735,
          0.24814725641207513,
          0.8731453432239894,
          -1.7647645267425442,
          -0.13139150759423335,
          -1.6129773081287342,
          -0.5758965096135343,
          0.07342012773008673,
          5.9483102527002,
          -0.260311747676721,
          2.343952977423161,
          -2.0317748746875974,
          -1.3422308343188227,
          0.5257049943117351,
          0.22042439977145012,
          -1.4231533307505317,
          -1.968032518374967,
          -2.4900041877896326,
          -3.640317013994531,
          -0.7100689834528812,
          0.18037744575466494,
          -2.7307792390101313,
          0.6051493269356284,
          -2.0122268085743857,
          -2.9882377865906755,
          -1.9881226567087897,
          -1.1001811056752322,
          -1.6322560102481398,
          -1.5585212785368752,
          -1.2003769056176092,
          -1.151803565517246,
          -1.5626575408762549,
          -0.7030185679656776,
          -1.5109878564250234,
          -2.0949762564053693,
          0.2182080372711186,
          0.28102092564734704,
          -1.5999015985109126,
          3.636437671895395,
          4.377634569812749,
          5.517832620777448,
          -0.15593220469833288,
          -2.7823545006812176,
          1.7058186045512944,
          -0.33256344644116215,
          -1.5606335978828192,
          -1.466616672945466,
          -1.6720377493956837,
          5.050054496026235,
          -0.42113023519586945,
          -1.4156805781784703,
          -1.0310175317531445,
          -2.059461933825436,
          -1.199312100251359,
          0.8418391167498286,
          0.5277083757468622,
          3.200054060466451,
          -1.0918956593169196,
          -1.6640321370290707,
          -1.7940379519331617,
          0.2675915444468305,
          -1.1761461616742346,
          -0.9236608800933448,
          -0.7383878592737932,
          -0.7370115676562276,
          -1.726006148788173,
          -0.827674982646756,
          -1.098188925827515,
          -0.06860373314219208,
          -0.19842300499808668,
          -1.7252882884251943,
          1.9027041250642704,
          -1.2041377469319998,
          -2.1467615740377153,
          0.5675226390225953,
          -2.7378605856359597,
          -2.364673522999304,
          -1.5159051852544079,
          -1.1991820155424175,
          -0.23901879110390314,
          3.7555101009976446,
          -0.9172187524603755,
          -0.6027578678703448,
          4.365128553031851,
          1.3570526592632626,
          1.0610805001881747,
          -1.0918956593169196,
          -1.0918956593169196,
          0.37990667046115434,
          1.0507517772310695,
          -0.8347222062998002,
          -0.436290244997393,
          1.8393460147500846,
          0.9749323262388524,
          3.5998474603595305,
          1.3878500421641176,
          1.8808998932641385,
          -0.2410216144537926,
          2.5242881418413696,
          1.8226454879784884,
          2.382405468796727,
          2.7160711465674647,
          1.3400521098127443,
          2.0675085711906016,
          -1.3774147805614494,
          2.116901712809415,
          0.47253708128568167,
          1.700509033027922,
          1.0124138734776422,
          1.4638489861406867,
          4.5174152857705705,
          1.6062390664664283,
          1.5090985483914174,
          3.3281730713216464,
          -0.7586867391814041,
          -1.9710893785207477,
          -2.6279453478185086,
          -1.0959217221133768,
          -1.7330340393361592,
          -1.5509421569582766,
          -1.915326423082569,
          3.286543067630072,
          -1.8853012598366496,
          4.031929446383437,
          1.0917032949632053,
          -2.0995891751226234,
          1.6077515138179563,
          -0.7338996331495038,
          -2.329923166852287,
          -1.6714994013804192,
          1.3227936929233735,
          3.224578804871141,
          0.8493078136160142,
          -0.8991050041159999,
          -0.2596369783110549,
          2.4878459896885223,
          -1.0057381074581446,
          3.7826527020996923,
          -1.9157679231230487,
          -2.002623395739877,
          -1.6696448272331217,
          0.35150546256900833,
          -2.4460483692044015,
          -1.7619019356353525,
          -1.6517774567678392,
          -1.6237547621234047,
          0.8957766323986632,
          -1.8642286743270604,
          0.05337344824099879,
          -1.6425344618411415,
          1.3552239026426238,
          0.1462460887456533,
          5.858209721616873,
          3.7180312609607906,
          4.993793590175097,
          1.8999455539621675,
          -0.812785459766312,
          -0.988275170688036,
          0.632151630110098,
          0.013416667960794803,
          -1.2772504087424377,
          0.5751095293838526,
          1.865057911369899,
          4.510568593122147,
          -0.08449905553375546,
          -0.24164638031297847,
          -1.9830682310610885,
          -1.8494850568377144,
          -2.507249276942518,
          -0.3120875385222828,
          -0.19799516276387916,
          -1.9132406824951969,
          -0.46675708557075896,
          0.5301321114835895,
          2.8059892371366986,
          0.6503978876248574,
          4.008015267389637,
          3.000746418246713,
          0.30328525020158476,
          0.7826398955578467,
          -1.4792219052824114,
          -1.356382774233702,
          -0.9660709260830558,
          -0.05259932417507876,
          -1.3776523091749275,
          -3.0725256635991203,
          -0.47513563176003154,
          -3.0267560599545087,
          -0.8325111872744724,
          1.774790031013635,
          -1.0280691588067055
         ],
         "xaxis": "x",
         "y": [
          -0.011146290126797673,
          4.498483040491538,
          -1.2584950530912395,
          -0.9316902391794363,
          -0.9998605575699311,
          1.4491987952161294,
          -0.15349105666351912,
          -1.0976948285917063,
          -1.2029511963611856,
          -1.672071018582588,
          0.6245816077119466,
          0.35427951833409604,
          0.6218862595041166,
          -0.7257260770647109,
          -1.753374425891371,
          0.0945600226465765,
          -0.7607765416859078,
          0.09023324070523014,
          0.6354891072036855,
          0.9549247299482788,
          -0.8173396601849966,
          -1.2470979651002099,
          -1.0384504583107175,
          -1.8477530524363999,
          0.36640565879192866,
          -1.0939423326821638,
          -0.5130725914703955,
          0.19285191038163604,
          -0.4085058347890227,
          -0.4019127768691338,
          -0.539036086835646,
          -0.5093297116411057,
          -1.5551823065201935,
          -0.3275202482615805,
          -0.11881659332814606,
          0.6359085300784653,
          -0.5876810821821726,
          -1.6234813101233745,
          0.9261554472362558,
          -0.0025837146344430736,
          0.9482384115361036,
          -0.43252723603061183,
          -1.0477234546789858,
          -0.5884127949167758,
          0.10962376719394998,
          -0.1763156263830326,
          -2.2313108525205143,
          0.342175956880406,
          -0.13393724871445536,
          1.8282937839211033,
          -1.5586608599510299,
          0.39413770702294604,
          -0.1689955598065921,
          0.6402870848131595,
          0.7535261568595858,
          -1.0071979202008545,
          1.251381544732152,
          0.7283795254050487,
          -0.3155870920706914,
          -0.3743084277381319,
          0.6971582660739034,
          0.4907815022846541,
          -1.4496313293936156,
          1.402223715478252,
          3.1825154078065743,
          -0.1334362063513822,
          0.7231412843907871,
          2.435673232412767,
          -0.6624452959667955,
          0.8828610649268508,
          -0.45399742433685364,
          1.289565202694538,
          0.7021569500086021,
          -0.03212034941795455,
          0.15589311833335018,
          0.04483740558801657,
          0.7644853720457705,
          -1.8700830086717852,
          1.9424014130733953,
          -0.5355532328520187,
          -0.7101916522494028,
          0.6821340814378506,
          1.509604288913732,
          1.0677125248492445,
          -0.20319345565050148,
          1.9000703759917106,
          -0.9569272319374198,
          1.7957948181498613,
          -0.5045512816835332,
          -3.0351142354928826,
          1.1858743295178062,
          0.8760206158908882,
          1.065871083144339,
          0.8982598530428662,
          -0.10984688935739695,
          0.771902272163236,
          1.1990816803218625,
          -0.052756160150403096,
          -1.8569894900465913,
          -0.32643552532892117,
          -1.6939481840668271,
          -0.10438796376462077,
          -0.14531043781235284,
          -0.49969689446459464,
          0.32606478883571766,
          0.5077876996618916,
          -0.05048147181217336,
          0.4746966598255551,
          -0.38797355248059895,
          0.9981145621078821,
          -0.06458868577411682,
          -0.16680607960514063,
          0.6183612930258753,
          0.34667897728901304,
          -0.8498816694047544,
          0.028285354530939954,
          -0.43098808762266927,
          0.9716433758065655,
          -1.000549444208787,
          0.5665290125385662,
          1.1465811195268008,
          1.3964744337563015,
          0.433192643023795,
          0.09286868670805477,
          0.28271702966358164,
          -0.467511954643541,
          0.300590665627989,
          -0.25683121926391583,
          -0.7082299299146102,
          1.9653556872423235,
          0.5402660920588397,
          -0.4733052245128081,
          -0.45905707493854025,
          0.1771284073532376,
          1.322605743013245,
          -0.18364572119185335,
          0.5715418725763872,
          3.1825154078065743,
          -0.2252076926587122,
          3.3372777729058645,
          -1.178701656053362,
          3.3372777729058645,
          0.8919286352285131,
          -1.662122934101516,
          0.9126518916872707,
          0.04544220504715517,
          0.1579909091453477,
          -0.3881116746652951,
          0.7693841067862291,
          0.31652003537511153,
          1.5899977353431314,
          -1.9047868000468358,
          -0.957085038930011,
          0.2230345128472643,
          2.105384987244777,
          -0.6995465461225076,
          0.7111076327776101,
          1.0092401714194617,
          0.3238118826696467,
          -0.16319434873237987,
          1.040437590492313,
          0.6564793989659147,
          0.3951741514894206,
          1.2410104338213057,
          0.3769590932264071,
          2.4618886452370736,
          1.235700557888624,
          0.26347434069350967,
          -0.31498030623084067,
          0.5105081730241834,
          1.159787695039182,
          -0.1586470540727897,
          0.2960584459910353,
          0.08484118937578805,
          -0.7467089182464837,
          2.211413217937468,
          0.08320541248182149,
          -1.0443441784920702,
          0.19123446817488599,
          0.6089226265344299,
          0.7789952619638912,
          0.9523723915944723,
          1.0296391405424683,
          -0.36267015960538457,
          -0.9711390263760882,
          -2.642486423345223,
          3.1033319622259343,
          0.21619308773179455,
          0.014957619740979996,
          3.9190384728573644,
          -0.5723148273970239,
          -0.9986452552999864,
          -0.9516486023188409,
          -0.6906988660514802,
          -1.1840841818426262,
          -1.3006189908905754,
          0.5947979963623238,
          0.08054162638613772,
          -1.8790387512323168,
          -0.33885212574192886,
          -1.6309491743985527,
          -1.0941715165686376,
          -2.446461747927901,
          -1.140705993026636,
          -1.8453286786660468,
          0.6507379346285507,
          -0.4711808757008188,
          1.0197325913084676,
          -0.27336515637365205,
          0.0173677801952862,
          0.7744178910726912,
          -1.1653490752846123,
          1.5829275370760405,
          -1.284553040192645,
          -1.3462327707720663,
          -1.1924586912170796,
          -2.3552209829195068,
          -1.6350920282524624,
          -0.7943134394819896,
          -1.59480151879113,
          -1.0367744163767683,
          0.23834202586569184,
          -0.9150329918104073,
          -1.6791143643828936,
          -1.11400818377878,
          -0.42641535088457916,
          0.19720315170070152,
          -0.7675781583836255,
          -0.663406402691081,
          0.018494863427139286,
          0.0323939574292349,
          0.5429849610833274,
          -0.5502293308844962,
          -2.5877559470825306,
          0.07003755588593061,
          0.7387646468178276,
          0.8517448089595099,
          -1.0045392123559675,
          0.022744918930618106,
          1.1028840070236041,
          -0.9711482695074356,
          -0.5747759434969206,
          -0.7041665708533771,
          -1.259029077696486,
          0.5110837248386948,
          -0.44739293027467225,
          -0.777098757288504,
          -1.5128098061317294,
          -0.010119072281301223,
          -2.656517044283653,
          -1.8578537653499572,
          0.02967834875154199,
          -0.4881176600840505,
          -0.4626350100807719,
          -0.6323213193002085,
          0.8689648267049026,
          3.2404775080304864,
          3.2404775080304864,
          0.023892287317251983,
          0.6703963948146898,
          0.7996627431599456,
          0.5833737164149397,
          -0.11689578549234485,
          0.7123683209024165,
          1.531094807331233,
          -1.6069800221607153,
          1.855994257066208,
          0.04437539980395532,
          1.2105451052359495,
          -0.6133121765032441,
          1.0809283795560007,
          -0.21205336988886386,
          -1.1818910023338218,
          -0.7775444494726197,
          -0.6234088227383866,
          0.5694778943370111,
          1.717518937021361,
          -1.0189490622171709,
          -1.1180976339575939,
          0.5457794249420184,
          -1.2203204394225353,
          0.8906898331423546,
          0.9608276029309004,
          -1.2672613034227593,
          1.683578422293907,
          -0.7047166607825165,
          -0.6445389710374182,
          1.7118067203121348,
          2.070033591790965,
          3.7740953500324217,
          -2.5264020438823493,
          3.02770515458571,
          0.7863022708009548,
          2.8536627519810103,
          3.7740953500324217,
          2.051357055763079,
          1.4012277428553155,
          -0.9266969511957169,
          -0.6326476919953272,
          -1.127956307161735,
          -1.1810383810275698,
          1.9575377687744173,
          1.99796836237985,
          0.06784792539787132,
          0.5362425827548238,
          -1.4777415250203843,
          -1.9777901671231977,
          -1.1096645491064112,
          -0.7895282956595109,
          -1.4068333771286488,
          -0.8359585182991247,
          -1.5475653090429038,
          -1.204676248070081,
          -1.6143833336086193,
          -0.5314998546403835,
          0.1802771201047235,
          -0.7320794166920259,
          -0.03506686939659777,
          1.9807742361710294,
          0.4223294232920445,
          0.28360676072867336,
          -0.6255932639365438,
          0.7112353207108745,
          -1.1077101885611695,
          0.4882490801131063,
          -0.22795730447657703,
          0.1971782497767429,
          0.315031998046269,
          -1.2672613034227593,
          1.117716554162704,
          -0.4457172777483622,
          -0.8138693535483414,
          0.31786427908998505,
          -1.1464663024558033,
          -0.17714161009327817,
          0.3484442111053207,
          2.406404972446322,
          -0.00035252177764365786,
          1.8873203415832398,
          -1.372520416454831,
          -1.2657688377536684,
          -0.6949733179444146,
          1.8873203415832398,
          -0.8101213187323122,
          -2.918341516468282,
          -0.9151402576715371,
          -0.9894869373615426,
          -0.299232720827239,
          0.4760198718631142,
          -1.509449856271786,
          1.8873203415832398,
          1.1113603909961718,
          -0.37497601475158726,
          -1.2545771481814043,
          0.9048464943468976,
          0.14491983213610457,
          -1.0798413560153624,
          0.8958070512138079,
          2.0607557633872733,
          1.3380694906666468,
          -0.7927850799344983,
          0.7801239402947837,
          2.3890026316786566,
          0.010923878415342227,
          -2.7011628810914026,
          0.30716006665628626,
          0.40601777210735485,
          -1.7931461706698144,
          0.6582528726690448,
          -1.5634644260717647,
          2.415054241488729,
          0.5843336029259849,
          -0.6038418556220858,
          2.282537677712433,
          0.5348228328720835,
          0.44349978495396,
          -0.6515118089357831,
          1.0533504658934265,
          -0.05684593511018099,
          0.7667072369066982,
          1.9924299245585093,
          1.6650019235103015,
          0.09891338575271807,
          -0.210304459719781,
          1.4049591878689247,
          0.657298713180155,
          -0.7572609888099858,
          -0.4289788550163667,
          -1.1663827255438775,
          -1.037573785781151,
          0.31776025996952145,
          1.1770272825990244,
          2.522013302298845,
          -0.35565697175471395,
          1.2739159471111887,
          0.12552664107296194,
          -0.04443688853521262,
          -0.959882679569584,
          -0.9994617694103716,
          -0.1719223856015663,
          2.0825047669647545,
          9.808615665275713,
          -1.910999536388002,
          -1.595344885350466,
          -0.2077204607835268,
          0.38379843657746726,
          -1.662233872687945,
          -0.5449138158014978,
          0.3926042114015605,
          -1.08163663736799,
          0.2533103235365437,
          -2.393874721053959,
          -0.47150127593609537,
          -0.175611672817223,
          0.7451440430086259,
          -1.6873495018786002,
          -0.20380451675243297,
          -0.6772495315786092,
          0.4515441159027949,
          -0.4727486064660542,
          -2.612478894522989,
          -0.526326226618555,
          0.807953553354776,
          0.11383168486562852,
          -0.8406691236039695,
          -0.07662975110137513,
          -0.5132639481080141,
          -0.5820581328286751,
          1.4966189151479738,
          0.2159129418191724,
          0.8749333087385135,
          -0.4958347243325948,
          1.2667969389178957,
          -0.63522149686177,
          1.7116862484490878,
          -0.05981311705813861,
          -0.649772473616231,
          -0.6584021042342934,
          -0.11984531532774499,
          -0.6498927216938705,
          1.6583247694069463,
          2.0021393264062297,
          0.10467094944933038,
          0.12593071239530534,
          0.9211842808505308,
          1.1566985880876244,
          4.137971827721902,
          0.4510339910091277,
          0.7392753979079748,
          0.780222376161286,
          -2.001011530090767,
          -0.5462424385825618,
          1.288691307268387,
          -0.41389348527970776,
          0.5142060333389614,
          -0.19834002790450103,
          -1.1325191168425925,
          1.0888335146592345,
          -0.8852774981108729,
          -0.25957366671032694,
          -0.3365596012460398,
          -1.4383020605948762,
          -0.8553689297851265,
          2.0374156634903375,
          -1.084980509930825,
          -2.6249725104295507,
          -0.2911849371881065,
          -0.9406771827196885,
          -0.8619638727305493,
          -0.7446552433346854,
          -1.58064043004473,
          -0.2454019965262028,
          0.16613234798095197,
          0.2552234665149227,
          0.897480772227441,
          0.6208671719375582,
          0.2805925306926617,
          -0.6340873085014075,
          1.0661851762831878,
          1.550396487126639,
          -0.7612398420860164,
          -0.06922749235527241,
          -2.1577156365998005,
          2.187271309515394,
          -1.3215548520622262,
          0.7356238326523736,
          0.7673642510824735,
          -0.0697992924477601,
          0.4886676650433219,
          0.2669812198875671,
          0.7328123563979597,
          0.5861214875061435,
          -0.9953858151396162,
          -0.17759522520563903,
          -0.6764116893753347,
          -1.2989213224117373,
          0.8921496309187895,
          -2.2675364797362856,
          -0.6406026434243622,
          0.08160718107044289,
          0.7976536903440756,
          -2.5319163057702347,
          -1.0799014176355537,
          -0.19615586969321336,
          1.1384170320766442,
          0.2870754908025127,
          0.4226851034531933,
          1.5804058973004482,
          0.7663364597659554,
          -0.6146786963745644,
          -1.117519342186271,
          0.6785761172927793,
          -1.1806363394390698,
          -1.2359788765089321,
          -0.31955324249624584,
          -0.3744071069079029,
          -1.8640708749147696,
          -1.777328743654022,
          -1.9813608548146264,
          0.25707335983407054,
          -0.6155426574374908,
          0.2429255993826782,
          -1.1616324224085015,
          1.8958622798558824,
          -0.33566063651685724,
          -1.0694624857178217,
          1.7513158520768175,
          -2.4367945237996866,
          -0.7722764505011073,
          -1.1810989500449756,
          1.9317052289038228,
          0.5716358610330146,
          -0.46669574977910294,
          0.7085487574433726,
          0.2816180026787592,
          0.39077968913995637,
          1.8664572644859494,
          1.257051539574467,
          -0.02598992779727238,
          0.08292369316000885,
          2.2125582507039687,
          0.32506176456087127,
          -1.1703087112108859,
          0.27426832099095,
          0.7085487574433726,
          1.143739289582145,
          1.3752645944313235,
          -0.5836498678916453,
          0.19823214236746173,
          -1.614894781019968,
          1.0620864810567896,
          -0.9361637998069956,
          -0.022866776118988165,
          0.6613537913076037,
          0.3853063184308263,
          1.2299781646381978,
          -0.07782348751576994,
          -0.1592364575513649,
          0.46279131029195536,
          0.8672704536836477,
          1.58548357181916,
          0.736754907052965,
          0.7140682739125945,
          0.9688369678118374,
          0.25126802391534514,
          0.5132039117659934,
          0.8372222203501736,
          -0.3573670748157771,
          0.7717816493277012,
          -0.607450298641597,
          -0.2694611797895172,
          -0.8556227790287787,
          -1.1068158657389349,
          0.18685711887944534,
          0.6816277954199109,
          0.9788842536594299,
          0.4520838728502219,
          -0.7983021441809098,
          -0.1338552566481313,
          -1.3796314186286858,
          -0.21078138640284078,
          -0.9811799170595038,
          -1.331994816318073,
          -0.19328093980775088,
          -0.2770836557895621,
          -1.9783775271564612,
          -1.3738927533892675,
          -1.2024447361796184,
          -1.3080694576617176,
          1.765047539754431,
          -1.122915636881414,
          -2.730925832158353,
          -0.8706224842112559,
          -0.5243173469086162,
          -1.109747986361621,
          -1.2308039831949449,
          1.1494624022273872,
          1.9641977657477738,
          2.1785293823189718,
          -2.813561060773161,
          -0.4446860762774545,
          -1.3634716348410425,
          -0.6220149462494258,
          1.041680037069987,
          -0.395217716658021,
          -0.19449469553583926,
          -0.3852608354914709,
          -0.06318642030526993,
          -0.06793988912860914,
          0.04752527244375111,
          -1.288014937405107,
          -0.47422450868317323,
          -1.381531159972168,
          -1.499128273457777,
          0.1059749745768793,
          1.2977230389711814,
          -1.4864565185645962,
          -0.04309271241806811,
          -2.3328311797700794,
          0.9425352116267055,
          -0.9782852103707461,
          -0.8375933378434272,
          0.2418211945751759,
          -0.8490077081291272,
          0.06737530831032476,
          -1.1745357862551744,
          -0.6271315392818448,
          -0.5770669957486684,
          -1.3448712697469207,
          0.23196544102466654,
          0.8445197390903226,
          -0.40290098978720934,
          -0.005736214361116637,
          0.4499143340358739,
          0.6750056141422714,
          0.282692142842471,
          1.2696072180370268,
          -0.48718018052216006,
          0.6108104896236357,
          -0.49485873149140946,
          0.11817817238234543,
          0.7334875142917903,
          -0.518091796150676,
          0.18106416040857734,
          0.7146230917208714,
          0.7428997971628277,
          0.5593656303835145,
          0.4849053310827827,
          -1.017125998370766,
          0.3878104905547091,
          1.6226377843395503,
          -0.17809704794334952,
          -0.12476503646774259,
          -0.2961779604109359,
          -0.2737989226362738,
          -0.9268841480713058,
          -2.038010112230438,
          1.450633713791228,
          -2.0579085201675205,
          0.033027310562339575,
          -0.6887356962529676,
          -0.519081532889866,
          -0.7472663186110942,
          -0.8682390206907905,
          -0.23433916561783233,
          -1.4053392824479491,
          -1.2981861098400003,
          -1.1127467506287023,
          -0.9768526143068132,
          0.6741636247927276,
          -0.9814765781246846,
          1.0934127148953314,
          1.1383910108144208,
          0.06965396958828182,
          1.9959801067556227,
          0.975512254160235,
          0.6623848700199341,
          -0.8861233320777786,
          0.7021569500086021,
          0.7363870858767144,
          0.23300896490671483,
          0.15532837478584477,
          -0.7151335683911894,
          0.4534623044762588,
          0.5953873912830415,
          -0.1208386240577025,
          -0.7904677532103995,
          0.7442943549477111,
          -0.5173945461923838,
          -1.367181553739712,
          -2.1647606862810402,
          2.406575770189156,
          -1.2491142295755029,
          -1.7138057454863629,
          -1.119985471925676,
          1.6019710557732239,
          -0.7298052345060028,
          2.696272599035887,
          -0.3514964395317271,
          -1.7024709074298852,
          -2.602808344103323,
          -0.0018618573810400398,
          -1.6785787472575229,
          0.17100843015583966,
          -0.2664486511200113,
          0.07288441826828304,
          -0.5148061391081218,
          -3.652147331222932,
          -1.5229955970088462,
          -0.3615044442366942,
          0.3320991460197016,
          0.06386128061297981,
          -0.06798773550581372,
          -0.06798773550581372,
          1.6600878927881166,
          -0.5499230709138887,
          1.1657589760111933,
          -0.5731714708818125,
          -1.6661836834923487,
          -1.4165624627850502,
          -1.4308328180936025,
          -1.1943971753589024,
          -1.4274095208739341,
          -1.1511209970770349,
          -1.486919097107157,
          -1.5228713473950581,
          -1.4516382091534192,
          0.17590165038654623,
          -1.200754105731202,
          -1.1574513304114846,
          -0.8775905383634292,
          -0.5753777267466672,
          -2.047746694373263,
          -1.2612019677118795,
          -1.657891597204071,
          -0.9738377876979699,
          -1.3021828325620157,
          2.030428652041029,
          0.7354293886633668,
          -1.4150905188259975,
          0.5545644883197901,
          0.49610856408441995,
          -1.4305639637987173,
          1.607580280841644,
          -0.8012284798287437,
          0.6747351899313613,
          0.12194654885889893,
          -0.09902124256603789,
          -0.06924925887923084,
          0.6715536596689551,
          -1.1968649079150147,
          2.1785293823189718,
          0.712039654754187,
          1.0719117293828984,
          1.147852074059685,
          0.648128319059753,
          -0.596096602505418,
          0.22109387579757656,
          1.9766866328626056,
          0.06676449711305252,
          0.9143713972798139,
          2.8467708265343035,
          0.14701877091226087,
          1.2816469698098119,
          2.8467708265343035,
          -1.9407940206375216,
          0.04594027856043406,
          -2.1062436150146944,
          -0.7473077818496973,
          0.38133053707087267,
          1.1563480223931877,
          0.0983285723502394,
          1.3195450645550812,
          0.683850221106295,
          0.9286327150239219,
          1.2197449477602849,
          1.181261887713891,
          -0.24626779839357013,
          1.0543507232367986,
          1.6346249482684616,
          1.1208526375187815,
          1.1665004006106972,
          0.35920488968032505,
          2.9368444395740783,
          2.3594110153431473,
          1.5909270645632696,
          -0.21910571865285056,
          2.2780569687552243,
          2.621518835986778,
          1.5149446421866528,
          2.1521154668475493,
          0.35273715504116804,
          -1.523959546980697,
          0.8283125934152246,
          1.451635892343,
          -0.07205021415422849,
          -1.1760735761202954,
          -3.1982178651250823,
          -0.820181843812282,
          0.6486029919662062,
          -1.839190552400287,
          -0.29583327844079743,
          -0.08593625358313112,
          2.1616477161589374,
          -1.5566511731330421,
          -0.1914810210768577,
          -0.7299870431004443,
          -0.77266762524221,
          -0.878981537315912,
          2.5965949403301227,
          -0.9684721849669081,
          -0.01241592277376665,
          2.7776317992507393,
          0.008146240049375598,
          -0.12915323542918022,
          0.6678652880289521,
          -1.5107021703796666,
          3.0731493555380625,
          -1.4438610416065303,
          -0.5025097048772131,
          1.3242077355585724,
          0.5827095805282615,
          -2.19735687537361,
          -0.14753873569748593,
          -0.4880953525546376,
          -1.3450083943612756,
          0.3268532613083883,
          0.8459249238174441,
          2.252464482030399,
          3.3049931546089595,
          0.03839524739570715,
          0.9816545686601093,
          -1.7461053753967255,
          -1.4139744288995422,
          0.10598670322736173,
          -1.1229631780375924,
          1.3844106892201347,
          -0.1616719729889367,
          -2.2544696238792774,
          -0.6869253409334308,
          0.7902407593582268,
          -0.14973732308850826,
          2.0284456703648397,
          1.0809283795560007,
          0.2532824348560142,
          -0.13986980407637692,
          1.5193532518080077,
          -1.550757623570252,
          -0.8088935101256451,
          0.1504467045846726,
          -0.04500234018913855,
          0.18720132576080975,
          1.2968594264079556,
          -0.46262401581710433,
          1.0988180711853743,
          -0.42462718617279066,
          -0.8185606053174723,
          1.1197926281004653,
          -0.6119842950529557,
          0.29474561896679186,
          1.455103871116185,
          -0.4100179474855018,
          0.5691942254362509,
          -2.59059915004801,
          -0.18202951374809379,
          -0.8607013036745833,
          -2.2960756072603257,
          1.3167076465878842,
          -0.2725169039811742,
          -0.5566738862996006,
          -0.7152170885868818,
          -0.7028362760612349,
          0.06303033231618405,
          -0.9902208730061518,
          0.01972410670452894,
          -1.5601392302159725,
          1.2645522348952971,
          1.7383022229355842,
          -0.249573228519338,
          -1.0702528843505674,
          -1.2844295150086942,
          -1.2464356433071062,
          2.2993299862982313,
          1.1641245992756313,
          0.7015448503931596,
          -1.5291054878331398,
          1.2451125043197087,
          1.2631399169680346,
          2.210371436006019,
          0.8690317957680913,
          1.795329532167901,
          -0.22799795098332123,
          1.0354966936301413,
          1.7471850168622882,
          0.6393512413680972,
          2.7322746057581955,
          1.938569561698776,
          -1.479781136508334,
          2.6268932317139075,
          -0.9871339708869415,
          1.5030130287038022,
          1.0529794513877142,
          1.2377964378668684,
          1.3964744337563015,
          -0.40502039300438925,
          -0.9982484808587205,
          -1.5468837439767464,
          3.1825154078065743,
          -1.541263478536006,
          0.8001407315361053,
          1.6262958353849508,
          -3.4389885917616154,
          0.5753938621894715,
          2.212216389479002,
          2.4836772733522996,
          0.5885938945441711,
          -4.1211833927024255,
          -1.3940325838598706,
          0.7540240214844229,
          -0.932172544535234,
          3.028110069143326,
          2.288113163027969,
          -0.4078631192511272,
          1.1182369660441551,
          -1.3045923139922588,
          -1.0114715054304497,
          1.4550998217037536,
          -0.11640318223675926,
          -2.4161106590600294,
          -1.9796288927708454,
          0.16213361299954032,
          -0.4682875272625688,
          0.5913167294180847,
          -0.3108898220591153,
          -2.520090736976855,
          -0.0943154244917973,
          -0.13783072116580308,
          0.6444051988424133,
          -1.1620644660524453,
          -0.5610637779327747,
          0.23168889026857992,
          -0.5581193468046404,
          0.21538909230151576,
          0.3865471295851914,
          0.9889416595795395,
          0.7515095953074535,
          -0.23329405373395676,
          -1.2297478871028982,
          0.8201643769410956,
          -0.15882043442039193,
          -0.7565388853115683,
          -2.1120286151716208,
          1.8405369669807903,
          0.5764743024800892,
          -0.6914969477991728,
          -0.31577070586742345,
          -0.8810996699177839,
          0.8021470798848579,
          0.193479976957006,
          -0.4260196653524401,
          -0.594341656304825,
          1.4291872876100415,
          -0.16409245911004716,
          0.8120993643015326,
          -1.502649842253861,
          2.59877950975467,
          0.5293587436794349,
          0.7783608326259306,
          0.6238136690580929,
          -0.12191949193504417,
          0.2679161610638073,
          0.42379064874775046,
          1.0686408169382264,
          1.40265742880181,
          1.387981656143107,
          -0.21462188479536495,
          1.5320826718596177,
          -0.6503647631977184,
          1.3022033030346323,
          -1.3393116405859724,
          0.09681015173227824,
          -1.3155880062177085,
          3.2836447682990015,
          2.7994210517958207,
          1.347080416482287,
          -0.18101845690861193,
          -0.17543690178552054,
          0.6064345226532643,
          2.7776317992507393,
          -1.8230617493286418,
          0.13057729102599108,
          1.2313845008696007,
          0.3466045216035892,
          -0.09832938999495917,
          -0.09436777659232747,
          -1.841897072198433,
          0.5570265612360665,
          0.33874116018653894,
          1.0151455031556134,
          0.7643506416929162,
          0.08291424450270443,
          -0.10603512351487245,
          -0.04999871550889452,
          -0.8471965335774988,
          -0.7625426989529572,
          0.44949717893278407,
          1.1125741175253243,
          0.6084618967296042,
          -1.2541278438638568,
          -0.6314035129261306,
          1.2962849057650527,
          0.24621207217737986,
          0.05394140392632362,
          1.4956554144984155,
          1.7899910019342071,
          0.4706658161331813,
          0.5196573621206044,
          -0.0970234487719863,
          -1.6289827036759448,
          -0.14762103535583262,
          -1.0538483392871945,
          2.575473897310146,
          0.32698270084520686,
          -1.0584835530918617,
          0.2810292146864916,
          1.4795346263809028,
          0.872625265797754,
          0.019121467791144695,
          0.8287698711128343,
          1.1378368096175668,
          0.26354457909270185,
          2.2707965426279646,
          1.3077206199092606,
          0.8185767880870038,
          0.6650768549335059,
          1.7874380723812977,
          2.0664051307236835,
          -0.3463926836305325,
          -0.8577415633782169,
          -0.34664296939333583,
          -1.0922817043651072,
          -1.3118166173906038,
          0.8976326080505223,
          2.538527767313558,
          -1.187038771794917,
          2.7869826184936706,
          0.2545143723187334,
          0.3893614766752027,
          -1.1071412055199377,
          1.6107705074878254,
          -1.1739525088554192,
          -2.0616820132566835,
          -2.8053945963871145,
          -0.8831663371685478,
          -2.0633678994235867,
          -1.7987616717190222,
          -0.42073147532698274,
          -0.6148024213290778,
          2.2743934499220626,
          0.18599348650960304,
          -0.5898593904191533,
          -1.2018199465962691,
          -0.11050871698376948,
          -0.5749320975573822,
          -0.6406026434243622,
          -1.3543005202399947,
          -1.5725660924038978,
          -0.642120748801079,
          -1.7657936503406597,
          -1.400959628516293,
          -0.5103533356941558,
          0.31366695973061054,
          0.10148720546280418,
          -2.227761661146161,
          -2.1663989305907423,
          0.9798370766144218,
          1.2933397156417648,
          -0.1873747851468119,
          0.3543719949788691,
          -0.49404574101390375,
          0.4082024146126546,
          0.0754588972510793,
          -0.020097489442546992,
          -0.5232755081075594,
          -1.115184570111141,
          -0.03524547218808599,
          -1.7256356053318511,
          2.565355550971348,
          3.7855980781445617,
          -0.5196969124319144,
          2.022522949103084,
          -0.3273361120999743,
          0.9020944113643269,
          -0.9310219539819878,
          2.565355550971348,
          -0.9971014093097095,
          -0.29762929933797083,
          0.324103409563871,
          -0.39729658274353213,
          -0.2918528030421959,
          1.2589704060075442,
          -1.11527168450223,
          -0.6068327709989871,
          -0.019608718525090756,
          1.857689027053373,
          -0.446013200408225,
          -0.08888667464901534,
          1.222626739178816,
          1.3180419447934677,
          2.834779660631977,
          -1.6881739103057383,
          0.8702582499121674,
          -0.6016329590871632,
          -1.6520216682288362,
          -0.674217291375363,
          -0.16801077379186605,
          0.6829368856863997,
          1.0166141420885224,
          -1.1573513700831792,
          -0.9920311725425537,
          -0.3094075954101749,
          0.2731435477189461,
          0.015838701558659758,
          0.7240235934694027,
          0.8707080592041279,
          0.2160197797955823,
          0.4183086601789255,
          -0.7748456390260197,
          1.670090775433563,
          0.21471234273482154,
          -1.1733447838065614,
          1.070746086260503,
          -0.5757347764161682,
          2.791480637215213,
          0.8073484220482429,
          -1.0511858033336976,
          -1.1638906002201026,
          -0.9323783000383231,
          1.4338452229528573,
          1.5482517667523974,
          -0.8243053696849121,
          -0.21727761748933497,
          0.7408819707686047,
          0.7766444874755664,
          1.246607452225628,
          0.7996077501042821,
          0.7098984500909357,
          0.15738238233608912,
          0.829198160016492,
          0.41152118484001127,
          0.18507012194701272,
          -1.0699889202336397,
          0.5477835991559149,
          1.0667926679701094,
          -0.8775491680441361,
          -0.4112771774398262,
          0.0956270224192853,
          0.07627133581846413,
          -0.41211540420468934,
          1.2651376595429606,
          1.1350518360935882,
          -0.0633777149328389,
          -0.43546201406257407,
          0.7196787549342656,
          -4.4025789125244525,
          1.9687208683682582,
          0.6555126013851408,
          -0.056040088055314026,
          0.3601484392440344,
          -0.3393310530515712,
          -0.0561886406189467,
          -0.7620360756541418,
          2.276584436476021,
          -0.18097852487374982,
          0.04741030706685429,
          0.9977781862139027,
          -0.10368604875802702,
          0.08477651925558118,
          0.8612425944740151,
          0.7906107892066138,
          2.222153168898029,
          0.9271137572827843,
          -0.9330765738277956,
          -0.8988029806520108,
          -2.313794695898903,
          -1.2620312997889214,
          1.531094807331233,
          -0.4698002472753545,
          0.8215286852076024,
          0.7262953082237084,
          0.3474608869182146,
          0.1933160140725197,
          1.4030209257013255,
          1.413647275085945,
          1.4846899884981604,
          -0.3107178863439587,
          -0.10512270723039208,
          2.7885881960637873,
          0.6942665279067866,
          -1.6221205168196682,
          -1.535889125896972,
          -5.390230091324021,
          -0.05382714583808676,
          -0.28986654175932897,
          -1.2603822989769253,
          -0.7803224545641378,
          1.5051495770311565,
          0.5803112501175957,
          2.0866649366493712,
          -0.18161001740644223,
          -0.6501600677716756,
          2.8005081295505776,
          2.0106846318145064,
          1.0261929757046149,
          0.8826209995591443,
          1.4018861885732565,
          -0.16219622891775712,
          0.25599546097227716,
          0.8691497060902617,
          -1.5011848488732074,
          -0.3200597277327521,
          -1.2944994042026103,
          -0.5456178840144863,
          1.8888243208696935,
          -0.5729396178889066,
          -1.490837162666295,
          -2.18982171077272,
          -0.6979816378653595,
          -0.2390529547481164,
          2.4092943529985393,
          0.9257675849876751,
          1.5566745603483767,
          -1.0069374967242817,
          1.0084966732206206,
          0.9323963957092463,
          -1.052730327675279,
          -1.2373064742887552,
          -1.0619565111290739,
          -0.5555449222733334,
          0.9788842536594299,
          1.0408259298766682,
          -2.842826397149763,
          0.5180488529611245,
          -1.69051106527415,
          -0.32628851114170165,
          -2.1300316136128083,
          -1.1278168907275818,
          -1.2815634859617253,
          2.4684970360729013,
          1.0838583358054033,
          -3.1349782903342924,
          -1.6413306810627113,
          -0.45250278470661276,
          -1.952274321102967,
          0.4836229107519172,
          -1.4563425687414264,
          -0.10987314385041727,
          0.6158576137099447,
          -0.5868950184257309,
          0.5769079407121164,
          0.9088328834540068,
          0.9740543609654361,
          1.4055402227803462,
          -0.4515041144129985,
          0.8918181728173351,
          0.8975360796648456,
          -0.6621999979037597,
          0.9635875557455982,
          -1.2252005169240632,
          0.8707039875644647,
          0.8253771930222116,
          1.0561426926150912,
          -0.940540793133956,
          -1.8287828386842482,
          -1.3540124493050316,
          -1.6069800221607153,
          0.34601176774672343,
          -0.482243700361702,
          -1.079742157652023,
          2.04944237880173,
          -0.6863589864441036,
          -1.2312058155561376,
          -0.4408077734631761,
          1.9103928827399006,
          0.03270583740353544,
          -0.20996796039133653,
          -0.6289580764774888,
          0.5105359440905781,
          -0.9591936739663621,
          -0.6258817633061432,
          0.0652014234646731,
          -1.7822998845983393,
          -0.8405755615134092,
          -0.682436977430621,
          -0.30506673575070536,
          -0.6683855409374196,
          -1.295209410343455,
          4.826559931350394,
          -0.3360372733285956,
          0.5404265351754683,
          -0.12259444631687264,
          0.40405031095811034,
          -0.43068633033445153,
          -0.24231908854981266,
          -3.7463039154988005,
          0.390354029210861,
          -0.3559583563930893,
          0.06001886261222947,
          -0.8933600247286162,
          -0.8933600247286162,
          -2.0865163953577017,
          -1.7010795872307327,
          0.260676940300801,
          1.0922593933929903,
          1.2345506751356488,
          -0.48824078778516933,
          0.4524186313225964,
          -0.8399721363552358,
          -1.5610763688475233,
          -0.5750562636036335,
          -0.8381301731828605,
          -2.730925832158353,
          0.7874939756284247,
          0.49119509274400713,
          0.3774487375210141,
          -0.9967827441174416,
          1.2010413815187728,
          -1.6818591537753789,
          -1.4601155094272034,
          -1.4601155094272034,
          1.2010413815187728,
          1.0670428479199003,
          -0.4567946599848601,
          -1.224537885100138,
          0.647540047345934,
          1.7194337387580378,
          0.4721520501796554,
          0.13514671558855065,
          -0.28063377886379154,
          -0.35412608462657613,
          1.0318573930800439,
          1.7208456743530507,
          1.3009344093014203,
          0.47899759126323593,
          1.8697348981141586,
          -0.5914828614287022,
          -2.0590376645165493,
          0.26757430621377587,
          -0.9853266239471636,
          -0.46048160047545195,
          -0.5391510807840086,
          0.9443175429761825,
          -0.2599530298696154,
          -1.0649853089125982,
          -0.2390574205450248,
          -0.7345811253619408,
          -0.08720400421957837,
          -0.04894204937688683,
          -2.8657596347127146,
          0.6414594616910247,
          0.6520037893508102,
          0.27478687873120405,
          -0.08784013708631098,
          0.6768356895737331,
          0.3592067485852699,
          -1.3101377947307846,
          -0.06956410118681576,
          0.21875627038952958,
          -0.10658644268281281,
          0.3257683708684396,
          -0.2924354141491203,
          0.6336547576565379,
          0.31334569308871324,
          -0.5032505939465273,
          0.537122045632541,
          2.3743377142720066,
          0.27904299357174417,
          3.1922750681240424,
          0.0838012647732544,
          -0.3451750248005219,
          0.6167098993104886,
          -1.0792900548148578,
          0.14936143468670154,
          0.4447099327029951,
          -0.511479090133407,
          2.1785293823189718,
          0.4572206020731499,
          -0.25556123260532737,
          -0.807420867009889,
          0.9472386308757954,
          -1.2426905814373947,
          -0.3364176185262637,
          1.073665137318418,
          1.1904782212570597,
          0.7623681292410848,
          -0.6732696472195175,
          -0.6440393410699293,
          -0.4569795729109612,
          -0.9355214742832666,
          2.9929437226692426,
          2.7260040104125633,
          0.5718932501658447,
          1.588926021384984,
          -0.2064734849848294,
          2.5038347489576878,
          0.29615014757155006,
          1.0846189796399617,
          -2.202209531135049,
          -1.4404515406505751,
          -1.282157258364374,
          -1.0392645050027842,
          -0.8359784282430517,
          -0.3047987156006003,
          2.0729705769748654,
          -1.8586859035534278,
          -1.2049475634533073,
          -0.5032153485091924,
          0.33624312056904426,
          2.5649619811228246,
          0.3017574318526999,
          -1.766792729143781,
          0.8235435410088727,
          -0.22551329798238923,
          -2.730925832158353,
          -1.6613392304245767,
          -0.5014512201902231,
          -0.6092820716180164,
          0.8458223801724132,
          -1.9773985178392308,
          -1.0538519726242692,
          1.860797620854678,
          -0.3395686494139335,
          -0.9174984834704684,
          -0.8125754547368462,
          0.1430170152730137,
          -0.43627379330685667,
          -0.9044991715514359,
          -0.27678921811505447,
          -0.24579307422650673,
          -0.8244011946355024,
          0.9298124473763043,
          -0.5950664354754034,
          0.4412507041863303,
          0.8445197390903226,
          -0.46507013203248143,
          2.1319338498127394,
          2.1319338498127394,
          -0.3313983578893603,
          0.4415323021122134,
          0.07998978375632068,
          -0.3963211426076411,
          2.1319338498127394,
          -0.8155413081291468,
          3.171873475784771,
          -0.519028187286749,
          -0.04992336453818378,
          -0.5719527809990373,
          1.4382986039502834,
          1.0900669684738846,
          1.7843626906751429,
          0.10095590734267937,
          -0.6444052078607332,
          -0.6061843984291285,
          0.5550883374467279,
          1.5481209530840496,
          -0.7817051706674056,
          -0.6388486423779025,
          -0.17090223401107546,
          -0.3261121819132939,
          2.3012225966724262,
          1.7357442769118498,
          0.04692563163928771,
          1.3344903152922987,
          -0.31151254721625654,
          1.5407603460529933,
          1.5085799273169216,
          0.8075604130275316,
          -0.4410685895903892,
          1.1461892091104084,
          1.0750781640158056,
          -0.025287696876735665,
          1.035995677349093,
          0.7940371917879288,
          0.010298079972030066,
          -0.23136664446222233,
          -1.1263578380899075,
          0.34827356830738737,
          0.7188007759804204,
          -1.2006685866016797,
          -0.48874919385379423,
          1.0511329441517359,
          0.7337050641208361,
          0.5801340207770184,
          1.7465185489496857,
          1.5845399675574963,
          1.2293627570567165,
          -0.0694378539760663,
          1.3142245990799328,
          0.3466877992177152,
          -0.3224727914058867,
          0.2900924021945479,
          1.2744631039301597,
          1.9501468899176144,
          1.2293627570567165,
          -2.3742008151056493,
          0.809792404676302,
          0.32574938288038,
          -0.1136722977489451,
          0.5239443339764673,
          1.6637469576513062,
          1.7453471747826568,
          0.198322598237869,
          1.7258681710226256,
          1.4745753880275592,
          1.6228113586987158,
          2.1264928384127173,
          0.3083705907543974,
          1.1642030880653798,
          1.1415398106539238,
          -0.025287696876735665,
          -0.6942782995410637,
          0.6062441505324664,
          0.8056575915427342,
          -0.971869603833113,
          1.1846475025888183,
          0.22260393120987684,
          -1.1380333885721856,
          -0.4229417107027702,
          -0.9603842841299464,
          -1.2655864882815988,
          -1.6743094682762156,
          -0.95923256966766,
          -2.208275782350011,
          -0.761431112746127,
          -0.9283602915772425,
          -1.0003872778034169,
          0.3330594280435944,
          -0.19978661479337215,
          -0.09779050727088648,
          -0.3273231663866195,
          0.3299914922454783,
          -0.17328787315154323,
          -0.2181039074702146,
          2.077877064765501,
          0.02548911291235553,
          -0.9418507803283741,
          -0.4804940299306692,
          -0.47779605592947244,
          -0.5236326235491907,
          -0.9163671842424639,
          -1.2884126387002197,
          0.7256755059981269,
          -0.5361754770471586,
          -0.20004831834695208,
          -1.5613522001109856,
          -0.6142121203837293,
          -1.1941311908090229,
          -2.112375819129675,
          -0.7475462109839724,
          -1.086255009417534,
          0.6072921779752902,
          -0.35977774728872747,
          -1.5821085055818656,
          -0.13876869479146284,
          -0.003982163539607403,
          -1.7721004542251828,
          -0.1080063382461588,
          -1.718455148244295,
          -0.7220600773571362,
          -2.008498131172687,
          3.7855980781445617,
          -0.6245323153977057,
          -0.18114110937883415,
          -0.022800292142003437,
          -0.1526302556077637,
          -0.18879500559028428,
          -2.3234479758534614,
          -1.6129585756299762,
          -1.9259738186536426,
          -1.4099877285403823,
          0.10661860207796538,
          -3.2055384867100942,
          0.5323072652927339,
          1.8282937839211033,
          -0.6155007542491474,
          1.3122550950150014,
          0.6822192108782633,
          -1.0354897180880478,
          -0.45676528942886385,
          -0.8453131010072411,
          -1.92109751533157,
          -0.6527180829080154,
          0.024262505451436742,
          -1.1247553043951906,
          0.4014556948454071,
          0.053466258378493274,
          -1.706580520738775,
          -1.9235702921852218,
          -0.6810658577223923,
          1.616444823665215,
          0.09441690780118756,
          -0.5757347764161682,
          -5.324849710991173,
          -1.8070057827169625,
          -0.021224692335779474,
          -0.8179812815431711,
          -1.380599753151642,
          -0.4252552251575267,
          -1.152342456182802,
          -0.6194712237286708,
          0.27354114752551967,
          -1.2756162640421729,
          1.7770619659271731,
          -0.4548824173651348,
          -0.42176108068622487,
          -0.6384313705147706,
          0.3983427053701463,
          -0.1877564432767373,
          1.697306992647034,
          -1.5495981205691738,
          0.19379976247852113,
          0.48139350196031877,
          -0.2051231030281116,
          -1.0982469509351973,
          -1.5081390298152673,
          1.423517603838811,
          0.8841847068181828,
          0.20932951138073622,
          -0.5197990686970069,
          -0.7780011535498254,
          -0.08477339014202795,
          0.7143393983015867,
          0.13736835214689735,
          0.7007718477066572,
          -1.0091976515141232,
          -1.0020222624106263,
          -0.7434581785609026,
          -0.7805593020332077,
          -1.3122341658827246,
          1.0170344495471018,
          -0.3040733125345654,
          0.08946315030054452,
          -0.31230681270171445,
          -0.16456801441915742,
          -0.2049495698588313,
          -0.07991557811552678,
          -0.48004023356821063,
          1.0418746296709638,
          0.41832376286280315,
          -1.0277443701394153,
          -0.6611049658549449,
          -0.6489680497255795,
          -0.3852608354914707,
          0.17448410537177925,
          0.5248339009637618,
          -0.4352913993616485,
          1.1609463777718716,
          0.2589852009041752,
          -0.4269145394355854,
          -0.6464046362867722,
          0.4281503175252109,
          0.43273884603382295,
          -0.10281476747520157,
          1.7409198864727382,
          0.5389720184815584,
          0.20213755898732544,
          0.7995084254451702,
          -2.2233358551456566,
          -0.29818416988592744,
          0.4103470932355616,
          -1.183936702847157,
          -1.1071412055199377,
          -1.1559737393615035,
          0.4471515763880692,
          0.7108677100843082,
          -0.4873342819660028,
          0.6078594827312358,
          0.14936260868723808,
          -0.5306247834551349,
          -1.4600986525329183,
          2.1588799721449314,
          1.4175724059415633,
          2.3234746462337332,
          -0.7264340924704047,
          0.5380051620704814,
          -1.5551401795197863,
          -0.23681909680485583,
          0.4830988146821104,
          -1.6654053221268996,
          -0.7714833608045424,
          0.43587842058410886,
          -0.9528768477392691,
          -1.6818591537753789,
          -1.1853532984892792,
          0.03981564058481121,
          0.4276802732664101,
          -1.1439320101672579,
          0.4881200392686825,
          1.0666625856504641,
          0.011626124047277817,
          0.5060631780243168,
          1.4863001605179251,
          -1.284496768517746,
          -0.37133890488071103,
          1.9640017001666543,
          -0.1677818071588726,
          -0.60403557824566,
          0.29178307745409904,
          -1.4741218575235366,
          -1.1120222115701308,
          0.30596236372108476,
          -0.43793654039100083,
          -0.5672204471636583,
          -1.4898328117949897,
          -0.43677317153654943,
          -0.992314841784581,
          -0.20902437743052357,
          -1.0654567706274014,
          0.7770097252992112,
          0.33401701714382814,
          0.5252445248516954,
          1.815560967878748,
          0.5081082583965719,
          -1.7117626410225575,
          0.49594484497374663,
          1.7418772023653069,
          1.4017740558582348,
          0.2819221874301159,
          0.13536712504467718,
          0.07841349962985598,
          0.6245229490939121,
          -0.35942637089814405,
          1.7406762762745636,
          1.781079013239126,
          1.6140113589621854,
          1.6826908295445562,
          1.2215784649122414,
          0.9220277790772238,
          1.7617395286963493,
          1.5690767467252886,
          2.723356457630175,
          -0.47763708031993807,
          2.1233022870016116,
          -1.1063612328204997,
          0.10993501322158103,
          -1.6569223971159326,
          -0.7710263136821067,
          0.6354891072036855,
          -0.9350760961442315,
          -3.154052361357522,
          -1.213793872987984,
          -0.8438981481839065,
          -0.9125375098004502,
          0.23681176346469976,
          1.7845842030479484,
          1.9879280654500107,
          1.8873203415832398,
          1.3890820852305386,
          0.5250577760428053,
          -0.6949754865209041,
          -1.6187760969086618,
          -1.0019065974555328,
          0.4632721312759796,
          -0.16280340377950525,
          0.9104905958323066,
          0.4298723392551118,
          -1.1802309291515316,
          -1.1011781151568334,
          -2.4095640228892545,
          -1.13679046634507,
          -0.48103855836933945,
          -1.2429177650114913,
          0.613534232056905,
          0.0695549988709522,
          0.8825057082452482,
          5.661064469750115,
          -0.16173252619485193,
          0.5077876996618916,
          0.4014556948454071,
          0.6099267306357657,
          0.7221971732916755,
          -1.1482497042279045,
          -0.3069504230571486,
          -0.7545499809956935,
          2.327751738173506,
          0.24686911448379883,
          2.4368300251600594,
          0.34348520895982687,
          0.5893342154021546,
          1.0175082866881129,
          0.6428230485845216,
          0.08601275154033099,
          1.321632533798585,
          1.7160008601508694,
          -0.571595689621779,
          -0.8386394424269152,
          -0.3763273731968017,
          -0.004324987100124776,
          0.8203433536037081,
          0.9161667510871503,
          -0.14941271670467515,
          0.6042109943935765,
          1.0137097562146535,
          0.13603763028618493,
          0.5283163487891239,
          -0.7549928952607788,
          0.16600454255353445,
          0.9505098176612293,
          -0.12126743768402133,
          -0.2766010244296391,
          0.28234405241929084,
          -0.6505340216336389,
          0.5842145967287762,
          0.5598043266791884,
          -0.45918743614202284,
          1.1835659275212276,
          0.7476109366159938,
          0.09042435986383524,
          -1.1641913972188547,
          0.5884791515413876,
          -0.9406279038400525,
          0.18524942989997673,
          0.19004799950629822,
          0.8947453894033413,
          1.5051506536341888,
          0.8918238940497786,
          2.9135456906314783,
          0.19535040548850957,
          -2.1347042752673873,
          -1.096344142717056,
          -1.096344142717056,
          -0.1798493552588938,
          -0.8950542673028747,
          0.42475557998044733,
          0.5831053065264427,
          -1.084980509930825,
          -2.842826397149763,
          -0.9306059402806278,
          -1.2361284238426469,
          -0.9994364223214944,
          -0.8532624380946265,
          -1.2052063378789546,
          -3.0064137891182567,
          -0.7091852339985256,
          -1.0871716684012829,
          -0.541108076105751,
          -2.0616820132566835,
          -1.8606143982219316,
          1.0730684436328797,
          -0.5750562636036335,
          -1.4422160971020856,
          0.18867895860109005,
          -1.3758920059641673,
          -0.5901899611195258,
          0.9140536000059557,
          -2.3552209829195068,
          -1.1982458217628003,
          -1.435492445988597,
          -2.282372401763108,
          -1.4495411317022089,
          -1.396164610657435,
          -1.2322459853919854,
          -0.6873446047620456,
          -1.3331003309856049,
          -0.345706515101665,
          -1.6510206389647317,
          -1.2550499258583405,
          -0.6079438902660618,
          -1.3761751048259683,
          -1.5947288333897744,
          -2.756815146103757,
          -2.0975174481531913,
          -1.7890453009986325,
          0.2693814055156024,
          0.6810389452681558,
          -1.4846548825159835,
          0.741180314912636,
          1.9235878436744331,
          -3.1653627866074614,
          4.826559931350394,
          -0.08741851902060567,
          -2.067410691673391,
          -2.9687344407540275,
          0.9064658020706702,
          0.7987656364710372,
          -0.5571382455449448,
          -0.2985993159826217,
          -1.143049858764687,
          0.4817104725042964,
          0.24316610774922637,
          -1.2805711408949838,
          -0.5518033813859748,
          -1.140613241176294,
          -0.6281451448687284,
          -1.8650987670142098,
          -0.07153712703737668,
          -1.5947560608544422,
          1.482939194100987,
          -0.030417443991497428,
          1.902544692499394,
          -0.6947868184198213,
          0.1454298343320145,
          -0.7902420934319366,
          -0.495821707153085,
          0.4233905789931038,
          0.7902407593582268,
          -0.32635118487361264,
          1.144585708548664,
          0.879931158111247,
          -0.9439438340615446,
          -0.4296076407966245,
          0.6670912404694659,
          2.293376654437111,
          -0.485442822900588,
          -0.7261160220215054,
          0.6223149471238164,
          0.16143317928932327,
          0.7770097252992112,
          0.4494073239760203,
          0.2917261998932698,
          -2.855966032511478,
          -2.855966032511478,
          0.6559230533819492,
          1.4062937358818346,
          1.014787771663571,
          -0.25782567626502106,
          2.1616477161589374,
          0.9725077360054145,
          0.5566877659983648,
          -0.12451622959309978,
          0.3868410938488663,
          -2.274267147404097,
          -0.5032745309280624,
          0.46325743828393207,
          0.24131108774216076,
          0.4347306693747586,
          -0.4860819155388501,
          1.3493684929291598,
          0.5291162113167038,
          1.3688832383135676,
          -0.7445120828736274,
          -1.487337348536494,
          -1.4723501299578925,
          -0.5094951483576841,
          -0.6626360277993752,
          -1.0397485474220614,
          -0.5147913976645258,
          0.6622361023624529,
          -0.12984942660822205,
          2.5095452655964947,
          0.03438825382887634,
          1.6820118145061862,
          -0.22151898410253834,
          -0.4154576536923459,
          1.86433645883413,
          -0.6931916182715595,
          3.389284322513316,
          1.6888125651475756,
          0.7724804102748116,
          -0.027114204062824148,
          -0.44158173588628924,
          0.8066569243264362,
          1.3009605925765573,
          0.8036905200841313,
          1.4551854278010654,
          -0.9668417120819921,
          -1.601125401614478,
          0.4239634544031927,
          0.9768693414114815,
          1.6643262992104448,
          0.6616282733623555,
          -0.07493749940942729,
          -0.053419150523244474,
          1.5817331684268603,
          0.25080378322681607,
          1.4150167553021757,
          0.9464624614115364,
          1.7854208091586632,
          -1.8986513450642577,
          1.66028199006968,
          -1.279703419471329,
          -1.2278698439781424,
          1.5382079251100929,
          -0.9416686159264972,
          0.2595421804552351,
          1.0825135388044298,
          -0.47956502032335463,
          2.5234170447632365,
          0.5799128089869479,
          0.89941400522678,
          -1.1652508706177391,
          3.5410661345301495,
          -0.6151603064563301,
          1.2037797236775656,
          -0.19189490558533986,
          3.7740953500324217,
          1.4190247050954985,
          0.46052362278154324,
          0.19506465400558046,
          0.8894868952712848,
          3.49234091896433,
          0.5095306889194512,
          2.5580337274539597,
          2.9413296035633687,
          2.958537628387942,
          0.6664854167602069,
          1.2751122185381876,
          1.0858549905634798,
          -1.022387489382867,
          -0.4896122311522356,
          -0.888345330541886,
          -1.0527146426813923,
          -1.5979672130884692,
          2.4205435798085615,
          -0.01840980869446373,
          1.3150039075834288,
          0.05034428153885814,
          1.2175238766675396,
          1.451318897447083,
          -0.7764384500968163,
          1.4989831502198434,
          -2.1120286151716208,
          -0.8242950319505022,
          -0.7193176773642299,
          -0.53241029794695,
          -0.7377570441587143,
          -1.7549264883420421,
          -1.1175832891565336,
          -0.8167610018597035,
          -1.4246076648562211,
          1.921009491852297,
          2.510789089861233,
          -1.0983810149208872,
          -0.3190782424130779,
          -0.7018982279762436,
          1.1118432949722448,
          -0.43925124042932145,
          0.22403578221356613,
          0.6909457256744229,
          0.13117975779423174,
          0.1725002280878065,
          0.6909457256744229,
          0.8801445212944188,
          -0.172649432405384,
          -0.9571843923901071,
          -0.3418744272736626,
          1.235422319519921,
          -0.47727735997843246,
          0.6744175097128857,
          -0.401335335481806,
          0.024502695165669882,
          1.0114888345052575,
          -0.8582289768525577,
          0.9394174796720544,
          0.41812138172327373,
          -0.8914675871467116,
          -1.543030931424464,
          -1.0478864536138899,
          -0.5196969124319142,
          2.0933789127353655,
          0.04095302452669452,
          0.9543876770247646,
          -1.2613527108263534,
          -1.3497698875032393,
          0.10155215220949015,
          1.1395224978776366,
          -0.6224926824437775,
          -0.2996109399795983,
          -0.03876120335108656,
          -0.3328413481692128,
          2.194871046268538,
          0.3926654752334088,
          -0.7082917138338339,
          0.29023198327406724,
          1.392268030544584,
          0.662660514115294,
          0.6693446790274954,
          3.8268321408784503,
          1.035855680449109,
          1.8888243208696935,
          0.9430672461585757,
          1.259716397207653,
          -0.8635581785887423,
          -1.623692972127174,
          -1.29395001980843,
          -1.6971954084152048,
          1.966372838418208,
          0.516364999228499,
          0.5004206553924495,
          0.14092098116822532,
          -1.3864965358510812,
          -0.025169305094828693,
          -1.1102871922238369,
          -0.7901974202446431,
          -0.8316780531167158,
          -0.667052655989863,
          1.4554367646834008,
          0.9890710951795665,
          0.92877158994996,
          -0.5819582864843357,
          3.1033319622259343,
          -1.254708459737221,
          -0.5922012386467967,
          0.44359553061128787,
          -1.1720025427993501,
          0.1301078402567255,
          -0.8263097141400589,
          0.5077876996618916,
          0.9391439233166051,
          -0.8361202369462648,
          -0.41710445916982086,
          0.7424716521704847,
          0.6133935006749365,
          -0.6458383516302338,
          -1.7510201157210277,
          -0.3198383314567146,
          -1.4596407954660342,
          0.3245641073323009,
          -0.4305756298043268,
          -1.1280657628897406,
          -0.4656357674489762,
          1.2702245745656178,
          -0.2196527357209833,
          -0.6328920510936779,
          -0.6988975412607021,
          0.7686819591582689,
          -0.8578855206836916,
          -0.6751035437408786,
          -0.48605547778189556,
          -0.6387093576147174,
          -2.3003554276697553,
          -1.4089869637399512,
          0.5329524166170311,
          -0.5503229283988327,
          0.2649669251071381,
          0.16553005113670263,
          -1.7294067262714843,
          -1.5577347517846167,
          0.7672821803529782,
          1.200465886173409,
          1.4061401453545932,
          -2.3501932035980464,
          -0.08627299783939647,
          0.8446557092574349,
          -0.6487851809748273,
          -1.7149594650926805,
          0.0013927407355480684,
          -0.6547324029555966,
          -0.6716498259605345,
          -0.2359762374089438,
          0.9064187971729896,
          0.8189954933017379,
          -3.965753596410919,
          -0.11703497197782665,
          -2.2567515427796594,
          -0.09410452304932374,
          0.3812586717201789,
          2.6976463366123937,
          0.5131120537669264,
          0.9959213711304589,
          -1.2402689930457071,
          1.5628972442440006,
          -1.0607416100157308,
          -2.2567515427796594,
          -0.9567877399978041,
          -1.729064874416463,
          0.20449305184851477,
          -1.423900417611845,
          0.24505719072753487,
          -0.25033575125748736,
          -0.056872802905973754,
          -0.061435918394807,
          0.7385669494015952,
          0.21719128364850057,
          0.7781800659952598,
          -0.6563513629989083,
          0.6651735153459145,
          -0.8660248605849108,
          0.10023142404119469,
          0.43555699753972515,
          -0.20416279444805477,
          -0.2306611770102461,
          -0.8316304566337251,
          0.7676614983898064,
          -0.24079201735998404,
          -0.26152158860559815,
          -0.41122320695676073,
          -0.8988800994715379,
          0.33369412234070506,
          0.6860578631441878,
          -0.49512140506259184,
          -0.059560190095300766,
          0.12075812107373463,
          0.4444178437987878,
          -0.6616514069680486,
          -1.4117539522982103,
          0.2781575732523067,
          1.2439293597589156,
          -0.23523107582540745,
          -1.292276764691028,
          0.1324811428379769,
          -0.5926544520710928,
          3.116286769732262,
          0.23782341079723995,
          -0.6096458997580966,
          -0.6930003232440007,
          -1.1323136221586474,
          2.1986968196259014,
          1.1580810480104033,
          1.2457790474239891,
          2.3900983846499213,
          0.24373481668966887,
          1.0924350472163002,
          0.290354295314922,
          -0.22221128725045844,
          1.8975682273569143,
          0.021286560459712795,
          1.3744385074292977,
          0.015710810497531875,
          1.9290845928997897,
          0.19741899494320214,
          2.3161896559614825,
          0.8430468316977241,
          0.7314162765751023,
          -0.7154802731599014,
          -2.200464925014328,
          0.7920409187021258,
          -0.5335446105803927,
          -0.6116306323663957,
          3.603182112776722,
          1.016272321782737,
          2.597830637319535,
          1.0108598689274575,
          1.0938512321728928,
          2.2513235929449364,
          1.5770042098068622,
          1.3467527027553339,
          4.185024132169861,
          2.0897495005941,
          1.0383832443919552,
          2.350845883738032,
          1.2583716721302358,
          0.7401609265457791,
          2.1602288633856794,
          -1.7852850671989058,
          1.0456398874007033,
          0.028154177287874903,
          -0.9361637998069956,
          -0.5220718237448772,
          3.5139698314658756,
          1.1131804574029105,
          2.537556457175947,
          -0.29017001406721865,
          -0.530076189729441,
          -0.2569306475472487,
          -0.31426621774134517,
          2.55667651975419,
          -0.03293520236964118,
          -0.1988579587147524,
          2.401645428187079,
          1.0351778267918132,
          0.6444849876155511,
          0.028306074933144226,
          -2.116290243984473,
          0.0023635999375395808,
          0.11962982789439428,
          -2.347549242540535,
          -0.9201381858244978,
          -0.9743563680480025,
          0.6855028852755773,
          1.137090114462427,
          0.5578793427893982,
          0.2654487617243348,
          1.40265742880181,
          -1.1982458217628003,
          -0.45983998099859547,
          0.004144946964963127,
          -0.12385926837783746,
          0.9074993270322169,
          2.9661176348304292,
          0.2337305855333529,
          -1.063938915022331,
          -0.4622098125985693,
          -0.2980526711510931,
          -0.5943153326486946,
          -1.6613392304245767,
          -0.3679066722953551,
          -1.0497134604561364,
          -1.3494016832394522,
          0.7991499058784398,
          -1.6325913148629312,
          1.6707445011481374,
          -0.9660544362186649,
          -0.6556564907066497,
          -2.060659345414367,
          -0.9655688502559323,
          -0.6386814446471741,
          0.3922359770881061,
          -0.8850916940287162,
          -0.3744382985187902,
          -0.8776851115060568,
          1.0174448376284786,
          -1.5475653090429038,
          -0.3476754195333714,
          0.747693536214771,
          -1.7158149473483133,
          -0.10726619418296317,
          1.1371005994234733,
          1.125271489256974,
          -3.393722940762178,
          2.008001960014266,
          0.34064027018072474,
          -1.9378358956816608,
          -1.6406240108949177,
          0.3611379628164949,
          -0.1184879455672425,
          -1.3859775972109294,
          -0.8010825313436071,
          -0.6575570841874518,
          -0.8394366975160789,
          -0.5271531372802953,
          -0.6114212774880565,
          1.5845151521137215,
          -0.464376053753593,
          -1.301883253295836,
          -1.1516668256705351,
          -0.875163382122861,
          -0.8847666158004621,
          -1.1693233863795676,
          1.7741759054637445,
          -0.08797624049417617,
          0.0031216044997850463,
          -0.21948269271775567,
          -1.4655689988816654,
          -1.5463730166337206,
          0.40327617661500476,
          0.7755578306120957,
          -0.7059657906162835,
          0.550389866529952,
          -1.118231783659827,
          0.5624036751698466,
          -1.4549911125915844,
          -0.6621999979037597,
          -0.46814956413727865,
          -0.48704101382319975,
          0.3301093954190293,
          1.0408259298766682,
          1.473873043060292,
          0.5156531889061451,
          -0.015715671755880168,
          0.6860578631441878,
          1.287287428623742,
          -1.7328518095993377,
          0.6959769757292259,
          -0.007669339267966762,
          -0.026276856447328596,
          -2.3639641186732683,
          1.1631494108116502,
          -1.9638694381659358,
          0.56228855150369,
          -1.187031973934583,
          -1.215406142640304,
          -1.4566505898126152,
          -2.2659149056848693,
          0.17948450776703617,
          0.09855330331148565,
          0.7424716521704847,
          -0.08219381352159409,
          -0.8236358611214699,
          -0.483529695600087,
          -0.163107948256201,
          -1.3903335627467295,
          -0.2523900390177826,
          0.48731616639509856,
          -0.47860482608152893,
          -0.31959440173335923,
          -0.4228383605114802,
          0.4615724899439202,
          1.334594913341493,
          2.135338854279264,
          -1.2603689420633648,
          0.6396464239450962,
          0.71743761360461,
          2.345272967063731,
          1.3733289406188682,
          -0.5966630580451384,
          -0.8228496570941328,
          -2.4169422454435967,
          0.9336350514741275,
          0.9336350514741275,
          0.23664873280864956,
          1.2386911146487667,
          -0.5418841654097427,
          0.8575279188846315,
          -0.760599201739451,
          -0.23040106781687453,
          0.5411367955330899,
          1.3618413519709776,
          2.4571862199258567,
          -1.4898216303774758,
          -1.06892356895028,
          -2.0465134097188753,
          -0.9547823761436219,
          0.8758128302585261,
          -0.5020453808359162,
          -0.8450034896699768,
          -1.1505866051408806,
          -1.0162719172752008,
          -0.6633142881216193,
          -1.6697928510711912,
          -1.3533738902887795,
          -0.9919352561058702,
          -1.0803934023175576,
          -0.6401416299877901,
          -1.3024094498395506,
          -1.527463322382271,
          -1.8816369915962328,
          -0.6241541934765833,
          -1.108751387261615,
          -1.093743778545183,
          -0.5769655569107659,
          1.3501165937602126,
          -0.6835707776461999,
          -0.2133349589123075,
          -1.720888166739296,
          0.6069933473401381,
          -0.9485578909088201,
          0.3406380049689817,
          -0.6728024875104719,
          0.00958856854999081,
          -0.331868207296419,
          1.2099337331859237,
          -0.04351653889015129,
          0.47249730841774906,
          0.16670061782510037,
          -0.45983998099859547,
          0.837967850277037,
          -1.8668083916396296,
          0.3913490107035045,
          0.030032344428861282,
          0.3334601091239053,
          -0.4109946285590771,
          -0.7476281108276718,
          -0.5327999702766608,
          1.4165753877023461,
          -0.977875526993148,
          0.5343302360287071,
          -1.1023076661037066,
          -0.8610990263499381,
          -0.774771198397561,
          -0.14363907758537203,
          -0.9146586648127366,
          -0.9765413938527054,
          -1.7663661393860046,
          -1.1307289608189763,
          -0.7087335536763922,
          -0.5947383472184766,
          0.07306755370479659,
          -1.515879694964563,
          0.6613108686606771,
          1.1286274880828144,
          -2.0581977671877016,
          1.0677052103269238,
          -0.3012459235234416,
          0.4257801498878066,
          -0.4026393357126612,
          0.29896759070688017,
          1.6285636697961767,
          -0.6663501829263655,
          1.8664334683739887,
          2.4203579302843816,
          -1.1092347492996675,
          0.3200841475174366,
          0.03169189012698035,
          1.1160776457145436,
          -0.43945652058233226,
          2.089830979623213,
          -0.7570751399473793,
          -0.7746598120563277,
          -0.38653891891373243,
          0.25707335983407054,
          0.0632989012921844,
          0.33736198173459286,
          0.22643180698531165,
          -1.3546107260806546,
          0.8002025039600893,
          -0.8889081107644079,
          -0.7286812887095776,
          1.3078694865346465,
          -0.6114302591907719,
          0.5466667600703203,
          1.8234840719083258,
          2.2518211503014927,
          1.5327451810884476,
          1.6920378828976916,
          0.7022921431888591,
          1.9109285289174855,
          0.28044846146532204,
          -1.049841788790345,
          3.603182112776722,
          -0.5242582112536113,
          0.7861182653546214,
          2.0403271912218015,
          0.16893016132376512,
          -0.08526345403740562,
          -0.011024140739627791,
          -0.7916755386423814,
          -1.2147270836405066,
          0.7724463413233452,
          -0.3037457413035926,
          -2.3335427199807506,
          -0.35621684950736354,
          0.12430303586946678,
          -1.1706210899866956,
          -2.360627446467735,
          -1.63678191754956,
          -0.5023576395671426,
          -2.730925832158353,
          -1.2423446127955198,
          -0.8386470327706328,
          -1.0079198521398576,
          -0.2276189352739322,
          -0.4216055322863341,
          -0.9631389674046085,
          2.4898319782499585,
          0.7343740197596856,
          2.1153640634076134,
          0.1372487388050844,
          1.012521315289641,
          -0.370052915749454,
          -1.7815300896312838,
          -1.1887304827614908,
          -0.24042744331689725,
          -0.6167239342012004,
          -0.9734476761826585,
          -0.5688906477444716,
          -0.48616722062179246,
          1.0076600514519953,
          -0.30150576336683266,
          0.12897294715117785,
          2.5309300185056154,
          0.933785860326368,
          0.8418091510500212,
          -0.9333434321358226,
          -0.1939749631170656,
          -0.567112638002304,
          1.510656149272492,
          0.18074855667507525,
          -1.04636278222297,
          -0.7333067303892997,
          -1.0246191375816254,
          0.8689648267049025,
          2.4131387627924736,
          -1.0475814842246263,
          0.9736919192976657,
          1.7212392934745582,
          -1.3429003712914196,
          -0.5792383396463378,
          1.3474157429635791,
          1.237826518985615,
          -0.6277344905438687,
          -0.46693744531297243,
          -0.6195438014522838,
          1.4249282490014077,
          0.9643381077505945,
          0.11165727459267902,
          0.9643381077505945,
          -0.1209484159324492,
          -0.4345154977397177,
          -0.8717228134320257,
          0.15079746470859665,
          0.27797908953692163,
          1.1894891272965917,
          0.13692337593368153,
          2.295129874378306,
          -1.2426905814373947,
          -0.3485694162350444,
          0.3027643122628096,
          -0.9565041870588185,
          -0.03455778115238237,
          -0.2352821550030303,
          -0.287711606523074,
          0.3349014483820886,
          -0.5519801147930503,
          -1.6671675160620267,
          0.3483655714328139,
          -0.6829322826912612,
          0.10279951612119939,
          -1.9959511402427053,
          0.26851184677195344,
          1.9946169248668202,
          1.8483060822592703,
          1.0554925588676227,
          0.21879040449048145,
          -0.13570197581661061,
          0.9851968861900026,
          1.0680519747125796,
          -0.9423944222871229,
          -1.3267365895545915,
          0.23792831775974194,
          1.0906730354380927,
          0.8260360840052855,
          -0.11461723951061688,
          1.8404077114195652,
          1.082354091994067,
          -0.8687738626484461,
          -0.5914828614287022,
          -0.808906366017503,
          0.61704495491474,
          -0.03580072293818501,
          1.591342828103711,
          1.3560670015995684,
          -1.628748170739257,
          -1.2933490428322176,
          -0.6763485851962373,
          1.183010669300968,
          0.6030493268732682,
          0.3823904837157762,
          3.024148516645295,
          1.4320445004928843,
          0.34228297341502223,
          -1.4187000715910447,
          1.6814999864821372,
          2.7994210517958207,
          -0.04549238763922149,
          0.46574141694873816,
          1.4198239456029438,
          0.588895361580722,
          1.04443869332043,
          0.5964434905315004,
          0.08844995393029582,
          -0.04549238763922149,
          0.897797775833222,
          -0.16885058170457906,
          0.5983088128366477,
          0.6667441748139564,
          0.11485247399155993,
          -2.576925205301678,
          0.239096407558057,
          2.2487561906623936,
          2.53873402494324,
          -0.056325911547831155,
          0.5964434905315004,
          1.9783020811682717,
          1.3560670015995684,
          2.9160689759183733,
          -0.6225797561996621,
          0.25594206718460377,
          -0.2907244207600348,
          0.3757386950204425,
          1.5556309456722188,
          0.45063092760922585,
          0.7757854374142327,
          0.07431941987263668,
          -1.3080925230982405,
          -1.3524345982935702,
          0.2936091768199961,
          3.309915508156944,
          -0.5551636406866729,
          0.5675987166081085,
          2.6461398776378853,
          0.033997998330900524,
          0.6786040056615535,
          0.1492336042384157,
          -0.45591360084023835,
          2.9465579423623542,
          1.9486015356312538,
          0.6937156146030227,
          -0.64791614112753,
          -0.1683264356040658,
          0.9206331889506507,
          -0.4507613510772842,
          -1.6238548107932478,
          -1.7149594650926805,
          0.8246937348674228,
          -0.604681098319157,
          0.9951455987502065,
          -0.49439614316897246,
          -0.19789301436615173,
          -0.17763361203952674,
          -0.08113594162833138,
          -3.591928184508255,
          0.015192898637178036,
          0.41832376286280315,
          -1.343039625106527,
          -1.1533387805480766,
          -1.5144988077562587,
          -1.5909581557697048,
          -2.3456999619452183,
          0.5187929455099797,
          -2.0068878431165373,
          -1.561074478588749,
          0.40272432155177107,
          0.38857174117138205,
          2.471190761937057,
          -0.2141403583291813,
          3.0020429581390777,
          2.43113899034092,
          2.882281167231519,
          0.9642980521378554,
          0.00799528737618338,
          -1.444857564438203,
          -0.21558652585747382,
          -1.0494337432873808,
          -0.16881431329935295,
          -0.7392065333258855,
          2.179099357735233,
          -1.0820263567320558,
          -0.5618613817516005,
          0.059191033675626,
          -1.042053465315789,
          0.12324047273321515,
          -0.066241845334391,
          -1.5632894769170873,
          -0.20455517338152943,
          -0.2825690317516739,
          -1.7373472894249373,
          -1.046587089328851,
          0.5718932501658447,
          0.03184445897223719,
          -0.012659131268618964,
          1.0406554362647786,
          2.0807189773265042,
          -2.2215790057935028,
          -1.2942306228088352,
          -0.9232671973085151,
          1.6648500226504814,
          -2.2517164433175347,
          2.227919979383771,
          -1.493430572233983,
          0.067597630538741,
          -0.4220085249074858,
          -1.6224994565962745,
          -0.85684984216274,
          -1.7156119083516954,
          -0.4018140005258486,
          -1.9183111465675213,
          -1.0284176661154825,
          0.5662509076481961,
          -1.9360921290485056,
          -1.3661970267771595,
          -0.4790532667477196,
          1.5323961175618472,
          0.6372584903149804,
          1.3733798976383889,
          -0.5126351469976392,
          -0.470657764176154,
          0.0005851604650557678,
          0.8136001906911947,
          0.38997026358276915,
          -0.3954610481119677,
          -1.5825523645928827,
          -0.9178690058179508,
          -0.38203090899092257,
          0.15708317010829814,
          -0.9806604314366179,
          1.2573912397734024,
          0.5631582113333884,
          1.1114556668423157,
          0.1930943075400803,
          -3.057357636723078,
          -2.7964050900954334,
          0.4441931981329891,
          -0.5425621727635151,
          -0.820158306284964,
          0.37514319403638313,
          -1.0223780840942367,
          -0.6070712876472272,
          -0.9624492068779511,
          -2.0237471356014667,
          -0.08741851902060567,
          -0.20462864179538592,
          -0.08910926007141867,
          -2.0591628392523114,
          -1.1745357862551744,
          -0.6346088648189883,
          -0.549174573545597,
          0.5095716897531234,
          0.806540610499243,
          0.741180314912636,
          -0.8558821629061242,
          -0.36576815422793263,
          -0.5309994855824148,
          -0.5213994519208938,
          -0.8095689157079907,
          1.1265825463110415,
          -0.20982947444075162,
          -1.1323946066926907,
          0.2211940171929539,
          -1.195049362796455,
          1.4025390812695377,
          -0.5757347764161682,
          -0.7264869106374365,
          -0.7415878471844201,
          0.06951336384573441,
          -0.20446565868520797,
          -0.01879031406313881,
          0.03139289071178935,
          0.35067005623607567,
          -1.1128956328696045,
          1.81958689279591,
          1.8713013951568773,
          1.9181525956534917,
          -1.7186688480437637,
          0.8757893106119156,
          0.17563027053701305,
          -0.6929183840508941,
          -0.2872600209762624,
          0.20809406613317513,
          1.7764954026041295,
          -0.4085731850932759,
          0.029405535122964066,
          0.3028902959496663,
          0.992358370766575,
          0.433779954836859,
          -1.3564329550862628,
          0.5863758368736308,
          2.92393273642493,
          1.0230580147774815,
          0.8397768146241372,
          2.5716091789550535,
          -0.39274683629951085,
          0.31036458933882694,
          1.2122221199360623,
          -0.910527198661441,
          -0.42313549349463075,
          -1.5022933704705288,
          -0.39581140385400565,
          0.11057980583580658,
          -1.136462759521511,
          0.9890710951795665,
          1.6893322614019677,
          0.9299479085907822,
          -0.4525968776137767,
          -0.7448746955627187,
          1.857421981839315,
          0.3162113284328094,
          -3.591928184508255,
          -2.771569951986064,
          -1.0936649608603806,
          -0.8987367758535372,
          -0.7144851932041137,
          0.0847179383047533,
          3.4023252585367167,
          0.5915376393811416,
          0.19594602619168514,
          0.0359650849812194,
          -0.7572787491134731,
          0.4800421604906774,
          0.5277834265150181,
          -0.0702995198805333,
          -2.6459203144839702,
          -1.3983743516341574,
          -1.7875077633778893,
          0.8485646204971744,
          1.2059329792106637,
          -1.7241610708089115,
          -0.47215623617893376,
          -0.820698087830445,
          -0.9083842640904366,
          -0.7454847813329021,
          -0.7426614340923876,
          -0.5761116798393002,
          1.263060490699312,
          -0.9648409921390882,
          0.19368622313439762,
          0.9996039142658513,
          1.1575246422378052,
          -1.0936649608603806,
          -1.0936649608603806,
          3.024148516645295,
          1.5817331684268598,
          1.6452582761714467,
          -2.404578838074834,
          -2.4574249906447103,
          -0.5475715725911335,
          -1.309837370956772,
          -2.01265219258136,
          -2.462051030380859,
          0.4839182224013326,
          -1.4091483830778584,
          -1.5557878439244357,
          -1.7104659017896542,
          -0.149393775769647,
          -2.002703398075282,
          -2.2204584178167046,
          -0.9119564427723735,
          -2.220903123314176,
          -1.7536558307851096,
          -1.3764437205042666,
          -2.539680899330993,
          -1.9288195091233964,
          0.4586528028759591,
          -0.7370750659682035,
          -1.4238717798777536,
          0.3131378501572314,
          0.03164626132905719,
          -0.9437787672942003,
          0.4220331476734174,
          -0.1918911909384055,
          -0.5211679048184924,
          1.8836076923570357,
          1.2546259176505106,
          -1.7980071100359718,
          1.6046581333958068,
          0.5308244007763775,
          -1.4677050692393319,
          -0.07553356999426514,
          -0.9371300061780329,
          0.9744129361419289,
          1.080832786073422,
          -1.3498838940521078,
          -2.6382976097380917,
          1.1075741810946949,
          -1.196854463642064,
          -0.04985157001773341,
          -1.3368586236919509,
          3.3802062358742013,
          -0.9362765548657932,
          -0.8512302225203628,
          0.831299479330359,
          1.1474159317775212,
          0.8692814620397291,
          -0.06373150398819633,
          -0.4524259118905805,
          -1.048789567781991,
          -0.9786629053950845,
          -1.1203219593181095,
          -0.6009018213810925,
          0.418624148693118,
          -0.3053760309640812,
          0.1802453542315134,
          -0.08741851902060567,
          -2.144691504600466,
          0.8614420346143551,
          0.13071407897492635,
          -0.2277504589672813,
          1.109391917455327,
          0.5061696894655052,
          2.5114509290464637,
          -0.3562583850385007,
          0.26395567276692294,
          0.2716152626191437,
          -0.33962311293372777,
          0.8138121170061802,
          1.6452114399898894,
          1.2386818562700972,
          0.8050649466533376,
          0.5777097466141731,
          -0.7454513238920545,
          0.7691464789300274,
          -0.23009953334279717,
          -1.1625225503153798,
          1.0967477999866897,
          -0.7762878624655943,
          -0.5844671710446075,
          -0.6061979063641809,
          -1.4869471807666141,
          1.7503448743454846,
          -0.6151603064563301,
          -1.653134426340767,
          0.7427151707507366,
          -0.7054157806980499,
          -0.03251912330296213,
          -2.3414449224888614,
          1.8408479769371688,
          0.4150643762265174,
          -0.5229064046857337,
          -0.017125860721714396,
          -1.3049828462456492,
          -1.0897255704646884,
          -3.6952327527777595,
          -1.3907085464763476
         ],
         "yaxis": "y"
        }
       ],
       "layout": {
        "coloraxis": {
         "colorbar": {
          "title": {
           "text": "cluster_pca"
          }
         },
         "colorscale": [
          [
           0,
           "#0d0887"
          ],
          [
           0.1111111111111111,
           "#46039f"
          ],
          [
           0.2222222222222222,
           "#7201a8"
          ],
          [
           0.3333333333333333,
           "#9c179e"
          ],
          [
           0.4444444444444444,
           "#bd3786"
          ],
          [
           0.5555555555555556,
           "#d8576b"
          ],
          [
           0.6666666666666666,
           "#ed7953"
          ],
          [
           0.7777777777777778,
           "#fb9f3a"
          ],
          [
           0.8888888888888888,
           "#fdca26"
          ],
          [
           1,
           "#f0f921"
          ]
         ]
        },
        "legend": {
         "tracegroupgap": 0
        },
        "margin": {
         "t": 60
        },
        "template": {
         "data": {
          "bar": [
           {
            "error_x": {
             "color": "#2a3f5f"
            },
            "error_y": {
             "color": "#2a3f5f"
            },
            "marker": {
             "line": {
              "color": "#E5ECF6",
              "width": 0.5
             },
             "pattern": {
              "fillmode": "overlay",
              "size": 10,
              "solidity": 0.2
             }
            },
            "type": "bar"
           }
          ],
          "barpolar": [
           {
            "marker": {
             "line": {
              "color": "#E5ECF6",
              "width": 0.5
             },
             "pattern": {
              "fillmode": "overlay",
              "size": 10,
              "solidity": 0.2
             }
            },
            "type": "barpolar"
           }
          ],
          "carpet": [
           {
            "aaxis": {
             "endlinecolor": "#2a3f5f",
             "gridcolor": "white",
             "linecolor": "white",
             "minorgridcolor": "white",
             "startlinecolor": "#2a3f5f"
            },
            "baxis": {
             "endlinecolor": "#2a3f5f",
             "gridcolor": "white",
             "linecolor": "white",
             "minorgridcolor": "white",
             "startlinecolor": "#2a3f5f"
            },
            "type": "carpet"
           }
          ],
          "choropleth": [
           {
            "colorbar": {
             "outlinewidth": 0,
             "ticks": ""
            },
            "type": "choropleth"
           }
          ],
          "contour": [
           {
            "colorbar": {
             "outlinewidth": 0,
             "ticks": ""
            },
            "colorscale": [
             [
              0,
              "#0d0887"
             ],
             [
              0.1111111111111111,
              "#46039f"
             ],
             [
              0.2222222222222222,
              "#7201a8"
             ],
             [
              0.3333333333333333,
              "#9c179e"
             ],
             [
              0.4444444444444444,
              "#bd3786"
             ],
             [
              0.5555555555555556,
              "#d8576b"
             ],
             [
              0.6666666666666666,
              "#ed7953"
             ],
             [
              0.7777777777777778,
              "#fb9f3a"
             ],
             [
              0.8888888888888888,
              "#fdca26"
             ],
             [
              1,
              "#f0f921"
             ]
            ],
            "type": "contour"
           }
          ],
          "contourcarpet": [
           {
            "colorbar": {
             "outlinewidth": 0,
             "ticks": ""
            },
            "type": "contourcarpet"
           }
          ],
          "heatmap": [
           {
            "colorbar": {
             "outlinewidth": 0,
             "ticks": ""
            },
            "colorscale": [
             [
              0,
              "#0d0887"
             ],
             [
              0.1111111111111111,
              "#46039f"
             ],
             [
              0.2222222222222222,
              "#7201a8"
             ],
             [
              0.3333333333333333,
              "#9c179e"
             ],
             [
              0.4444444444444444,
              "#bd3786"
             ],
             [
              0.5555555555555556,
              "#d8576b"
             ],
             [
              0.6666666666666666,
              "#ed7953"
             ],
             [
              0.7777777777777778,
              "#fb9f3a"
             ],
             [
              0.8888888888888888,
              "#fdca26"
             ],
             [
              1,
              "#f0f921"
             ]
            ],
            "type": "heatmap"
           }
          ],
          "heatmapgl": [
           {
            "colorbar": {
             "outlinewidth": 0,
             "ticks": ""
            },
            "colorscale": [
             [
              0,
              "#0d0887"
             ],
             [
              0.1111111111111111,
              "#46039f"
             ],
             [
              0.2222222222222222,
              "#7201a8"
             ],
             [
              0.3333333333333333,
              "#9c179e"
             ],
             [
              0.4444444444444444,
              "#bd3786"
             ],
             [
              0.5555555555555556,
              "#d8576b"
             ],
             [
              0.6666666666666666,
              "#ed7953"
             ],
             [
              0.7777777777777778,
              "#fb9f3a"
             ],
             [
              0.8888888888888888,
              "#fdca26"
             ],
             [
              1,
              "#f0f921"
             ]
            ],
            "type": "heatmapgl"
           }
          ],
          "histogram": [
           {
            "marker": {
             "pattern": {
              "fillmode": "overlay",
              "size": 10,
              "solidity": 0.2
             }
            },
            "type": "histogram"
           }
          ],
          "histogram2d": [
           {
            "colorbar": {
             "outlinewidth": 0,
             "ticks": ""
            },
            "colorscale": [
             [
              0,
              "#0d0887"
             ],
             [
              0.1111111111111111,
              "#46039f"
             ],
             [
              0.2222222222222222,
              "#7201a8"
             ],
             [
              0.3333333333333333,
              "#9c179e"
             ],
             [
              0.4444444444444444,
              "#bd3786"
             ],
             [
              0.5555555555555556,
              "#d8576b"
             ],
             [
              0.6666666666666666,
              "#ed7953"
             ],
             [
              0.7777777777777778,
              "#fb9f3a"
             ],
             [
              0.8888888888888888,
              "#fdca26"
             ],
             [
              1,
              "#f0f921"
             ]
            ],
            "type": "histogram2d"
           }
          ],
          "histogram2dcontour": [
           {
            "colorbar": {
             "outlinewidth": 0,
             "ticks": ""
            },
            "colorscale": [
             [
              0,
              "#0d0887"
             ],
             [
              0.1111111111111111,
              "#46039f"
             ],
             [
              0.2222222222222222,
              "#7201a8"
             ],
             [
              0.3333333333333333,
              "#9c179e"
             ],
             [
              0.4444444444444444,
              "#bd3786"
             ],
             [
              0.5555555555555556,
              "#d8576b"
             ],
             [
              0.6666666666666666,
              "#ed7953"
             ],
             [
              0.7777777777777778,
              "#fb9f3a"
             ],
             [
              0.8888888888888888,
              "#fdca26"
             ],
             [
              1,
              "#f0f921"
             ]
            ],
            "type": "histogram2dcontour"
           }
          ],
          "mesh3d": [
           {
            "colorbar": {
             "outlinewidth": 0,
             "ticks": ""
            },
            "type": "mesh3d"
           }
          ],
          "parcoords": [
           {
            "line": {
             "colorbar": {
              "outlinewidth": 0,
              "ticks": ""
             }
            },
            "type": "parcoords"
           }
          ],
          "pie": [
           {
            "automargin": true,
            "type": "pie"
           }
          ],
          "scatter": [
           {
            "fillpattern": {
             "fillmode": "overlay",
             "size": 10,
             "solidity": 0.2
            },
            "type": "scatter"
           }
          ],
          "scatter3d": [
           {
            "line": {
             "colorbar": {
              "outlinewidth": 0,
              "ticks": ""
             }
            },
            "marker": {
             "colorbar": {
              "outlinewidth": 0,
              "ticks": ""
             }
            },
            "type": "scatter3d"
           }
          ],
          "scattercarpet": [
           {
            "marker": {
             "colorbar": {
              "outlinewidth": 0,
              "ticks": ""
             }
            },
            "type": "scattercarpet"
           }
          ],
          "scattergeo": [
           {
            "marker": {
             "colorbar": {
              "outlinewidth": 0,
              "ticks": ""
             }
            },
            "type": "scattergeo"
           }
          ],
          "scattergl": [
           {
            "marker": {
             "colorbar": {
              "outlinewidth": 0,
              "ticks": ""
             }
            },
            "type": "scattergl"
           }
          ],
          "scattermapbox": [
           {
            "marker": {
             "colorbar": {
              "outlinewidth": 0,
              "ticks": ""
             }
            },
            "type": "scattermapbox"
           }
          ],
          "scatterpolar": [
           {
            "marker": {
             "colorbar": {
              "outlinewidth": 0,
              "ticks": ""
             }
            },
            "type": "scatterpolar"
           }
          ],
          "scatterpolargl": [
           {
            "marker": {
             "colorbar": {
              "outlinewidth": 0,
              "ticks": ""
             }
            },
            "type": "scatterpolargl"
           }
          ],
          "scatterternary": [
           {
            "marker": {
             "colorbar": {
              "outlinewidth": 0,
              "ticks": ""
             }
            },
            "type": "scatterternary"
           }
          ],
          "surface": [
           {
            "colorbar": {
             "outlinewidth": 0,
             "ticks": ""
            },
            "colorscale": [
             [
              0,
              "#0d0887"
             ],
             [
              0.1111111111111111,
              "#46039f"
             ],
             [
              0.2222222222222222,
              "#7201a8"
             ],
             [
              0.3333333333333333,
              "#9c179e"
             ],
             [
              0.4444444444444444,
              "#bd3786"
             ],
             [
              0.5555555555555556,
              "#d8576b"
             ],
             [
              0.6666666666666666,
              "#ed7953"
             ],
             [
              0.7777777777777778,
              "#fb9f3a"
             ],
             [
              0.8888888888888888,
              "#fdca26"
             ],
             [
              1,
              "#f0f921"
             ]
            ],
            "type": "surface"
           }
          ],
          "table": [
           {
            "cells": {
             "fill": {
              "color": "#EBF0F8"
             },
             "line": {
              "color": "white"
             }
            },
            "header": {
             "fill": {
              "color": "#C8D4E3"
             },
             "line": {
              "color": "white"
             }
            },
            "type": "table"
           }
          ]
         },
         "layout": {
          "annotationdefaults": {
           "arrowcolor": "#2a3f5f",
           "arrowhead": 0,
           "arrowwidth": 1
          },
          "autotypenumbers": "strict",
          "coloraxis": {
           "colorbar": {
            "outlinewidth": 0,
            "ticks": ""
           }
          },
          "colorscale": {
           "diverging": [
            [
             0,
             "#8e0152"
            ],
            [
             0.1,
             "#c51b7d"
            ],
            [
             0.2,
             "#de77ae"
            ],
            [
             0.3,
             "#f1b6da"
            ],
            [
             0.4,
             "#fde0ef"
            ],
            [
             0.5,
             "#f7f7f7"
            ],
            [
             0.6,
             "#e6f5d0"
            ],
            [
             0.7,
             "#b8e186"
            ],
            [
             0.8,
             "#7fbc41"
            ],
            [
             0.9,
             "#4d9221"
            ],
            [
             1,
             "#276419"
            ]
           ],
           "sequential": [
            [
             0,
             "#0d0887"
            ],
            [
             0.1111111111111111,
             "#46039f"
            ],
            [
             0.2222222222222222,
             "#7201a8"
            ],
            [
             0.3333333333333333,
             "#9c179e"
            ],
            [
             0.4444444444444444,
             "#bd3786"
            ],
            [
             0.5555555555555556,
             "#d8576b"
            ],
            [
             0.6666666666666666,
             "#ed7953"
            ],
            [
             0.7777777777777778,
             "#fb9f3a"
            ],
            [
             0.8888888888888888,
             "#fdca26"
            ],
            [
             1,
             "#f0f921"
            ]
           ],
           "sequentialminus": [
            [
             0,
             "#0d0887"
            ],
            [
             0.1111111111111111,
             "#46039f"
            ],
            [
             0.2222222222222222,
             "#7201a8"
            ],
            [
             0.3333333333333333,
             "#9c179e"
            ],
            [
             0.4444444444444444,
             "#bd3786"
            ],
            [
             0.5555555555555556,
             "#d8576b"
            ],
            [
             0.6666666666666666,
             "#ed7953"
            ],
            [
             0.7777777777777778,
             "#fb9f3a"
            ],
            [
             0.8888888888888888,
             "#fdca26"
            ],
            [
             1,
             "#f0f921"
            ]
           ]
          },
          "colorway": [
           "#636efa",
           "#EF553B",
           "#00cc96",
           "#ab63fa",
           "#FFA15A",
           "#19d3f3",
           "#FF6692",
           "#B6E880",
           "#FF97FF",
           "#FECB52"
          ],
          "font": {
           "color": "#2a3f5f"
          },
          "geo": {
           "bgcolor": "white",
           "lakecolor": "white",
           "landcolor": "#E5ECF6",
           "showlakes": true,
           "showland": true,
           "subunitcolor": "white"
          },
          "hoverlabel": {
           "align": "left"
          },
          "hovermode": "closest",
          "mapbox": {
           "style": "light"
          },
          "paper_bgcolor": "white",
          "plot_bgcolor": "#E5ECF6",
          "polar": {
           "angularaxis": {
            "gridcolor": "white",
            "linecolor": "white",
            "ticks": ""
           },
           "bgcolor": "#E5ECF6",
           "radialaxis": {
            "gridcolor": "white",
            "linecolor": "white",
            "ticks": ""
           }
          },
          "scene": {
           "xaxis": {
            "backgroundcolor": "#E5ECF6",
            "gridcolor": "white",
            "gridwidth": 2,
            "linecolor": "white",
            "showbackground": true,
            "ticks": "",
            "zerolinecolor": "white"
           },
           "yaxis": {
            "backgroundcolor": "#E5ECF6",
            "gridcolor": "white",
            "gridwidth": 2,
            "linecolor": "white",
            "showbackground": true,
            "ticks": "",
            "zerolinecolor": "white"
           },
           "zaxis": {
            "backgroundcolor": "#E5ECF6",
            "gridcolor": "white",
            "gridwidth": 2,
            "linecolor": "white",
            "showbackground": true,
            "ticks": "",
            "zerolinecolor": "white"
           }
          },
          "shapedefaults": {
           "line": {
            "color": "#2a3f5f"
           }
          },
          "ternary": {
           "aaxis": {
            "gridcolor": "white",
            "linecolor": "white",
            "ticks": ""
           },
           "baxis": {
            "gridcolor": "white",
            "linecolor": "white",
            "ticks": ""
           },
           "bgcolor": "#E5ECF6",
           "caxis": {
            "gridcolor": "white",
            "linecolor": "white",
            "ticks": ""
           }
          },
          "title": {
           "x": 0.05
          },
          "xaxis": {
           "automargin": true,
           "gridcolor": "white",
           "linecolor": "white",
           "ticks": "",
           "title": {
            "standoff": 15
           },
           "zerolinecolor": "white",
           "zerolinewidth": 2
          },
          "yaxis": {
           "automargin": true,
           "gridcolor": "white",
           "linecolor": "white",
           "ticks": "",
           "title": {
            "standoff": 15
           },
           "zerolinecolor": "white",
           "zerolinewidth": 2
          }
         }
        },
        "xaxis": {
         "anchor": "y",
         "domain": [
          0,
          1
         ],
         "title": {
          "text": "x"
         }
        },
        "yaxis": {
         "anchor": "x",
         "domain": [
          0,
          1
         ],
         "title": {
          "text": "y"
         }
        }
       }
      }
     },
     "metadata": {},
     "output_type": "display_data"
    }
   ],
   "source": [
    "import plotly.express as px\n",
    "fig = px.scatter(\n",
    "   projection, x='x', y='y', color='cluster_pca', hover_data=['x', 'y', 'danca'])\n",
    "     \n",
    "fig.show()"
   ]
  },
  {
   "cell_type": "code",
   "execution_count": null,
   "metadata": {},
   "outputs": [],
   "source": []
  }
 ],
 "metadata": {
  "kernelspec": {
   "display_name": "Python 3",
   "language": "python",
   "name": "python3"
  },
  "language_info": {
   "codemirror_mode": {
    "name": "ipython",
    "version": 3
   },
   "file_extension": ".py",
   "mimetype": "text/x-python",
   "name": "python",
   "nbconvert_exporter": "python",
   "pygments_lexer": "ipython3",
   "version": "3.11.6"
  },
  "orig_nbformat": 4
 },
 "nbformat": 4,
 "nbformat_minor": 2
}
